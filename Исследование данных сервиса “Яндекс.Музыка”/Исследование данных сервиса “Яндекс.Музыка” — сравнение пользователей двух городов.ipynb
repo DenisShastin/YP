{
 "cells": [
  {
   "cell_type": "markdown",
   "metadata": {
    "id": "E0vqbgi9ay0H"
   },
   "source": [
    "# Яндекс.Музыка"
   ]
  },
  {
   "cell_type": "markdown",
   "metadata": {
    "id": "VUC88oWjTJw2"
   },
   "source": [
    "Сравнение Москвы и Петербурга окружено мифами. Например:\n",
    " * Москва — мегаполис, подчинённый жёсткому ритму рабочей недели;\n",
    " * Петербург — культурная столица, со своими вкусами.\n",
    "\n",
    "На данных Яндекс.Музыки сравним поведение пользователей двух столиц.\n",
    "\n",
    "**Цель исследования** — проверьте три гипотезы:\n",
    "1. Активность пользователей зависит от дня недели. Причём в Москве и Петербурге это проявляется по-разному.\n",
    "2. В понедельник утром в Москве преобладают одни жанры, а в Петербурге — другие. Так же и вечером пятницы преобладают разные жанры — в зависимости от города. \n",
    "3. Москва и Петербург предпочитают разные жанры музыки. В Москве чаще слушают поп-музыку, в Петербурге — русский рэп.\n",
    "\n",
    "Исследование пройдёт в три этапа:\n",
    " 1. Обзор данных.\n",
    " 2. Предобработка данных.\n",
    " 3. Проверка гипотез."
   ]
  },
  {
   "cell_type": "markdown",
   "metadata": {
    "id": "Ml1hmfXC_Zcs"
   },
   "source": [
    "## Обзор данных\n",
    "\n",
    "Первое представление о данных Яндекс.Музыки."
   ]
  },
  {
   "cell_type": "code",
   "execution_count": 1,
   "metadata": {
    "id": "AXN7PHPN_Zcs"
   },
   "outputs": [],
   "source": [
    "# импорт библиотеки pandas\n",
    "import pandas as pd"
   ]
  },
  {
   "cell_type": "code",
   "execution_count": 2,
   "metadata": {
    "id": "fFVu7vqh_Zct"
   },
   "outputs": [],
   "source": [
    "# чтение файла с данными и сохранение в df\n",
    "df = pd.read_csv('/datasets/yandex_music_project.csv')"
   ]
  },
  {
   "cell_type": "code",
   "execution_count": 3,
   "metadata": {
    "id": "oWTVX3gW_Zct"
   },
   "outputs": [
    {
     "data": {
      "text/html": [
       "<div>\n",
       "<style scoped>\n",
       "    .dataframe tbody tr th:only-of-type {\n",
       "        vertical-align: middle;\n",
       "    }\n",
       "\n",
       "    .dataframe tbody tr th {\n",
       "        vertical-align: top;\n",
       "    }\n",
       "\n",
       "    .dataframe thead th {\n",
       "        text-align: right;\n",
       "    }\n",
       "</style>\n",
       "<table border=\"1\" class=\"dataframe\">\n",
       "  <thead>\n",
       "    <tr style=\"text-align: right;\">\n",
       "      <th></th>\n",
       "      <th>userID</th>\n",
       "      <th>Track</th>\n",
       "      <th>artist</th>\n",
       "      <th>genre</th>\n",
       "      <th>City</th>\n",
       "      <th>time</th>\n",
       "      <th>Day</th>\n",
       "    </tr>\n",
       "  </thead>\n",
       "  <tbody>\n",
       "    <tr>\n",
       "      <th>0</th>\n",
       "      <td>FFB692EC</td>\n",
       "      <td>Kamigata To Boots</td>\n",
       "      <td>The Mass Missile</td>\n",
       "      <td>rock</td>\n",
       "      <td>Saint-Petersburg</td>\n",
       "      <td>20:28:33</td>\n",
       "      <td>Wednesday</td>\n",
       "    </tr>\n",
       "    <tr>\n",
       "      <th>1</th>\n",
       "      <td>55204538</td>\n",
       "      <td>Delayed Because of Accident</td>\n",
       "      <td>Andreas Rönnberg</td>\n",
       "      <td>rock</td>\n",
       "      <td>Moscow</td>\n",
       "      <td>14:07:09</td>\n",
       "      <td>Friday</td>\n",
       "    </tr>\n",
       "    <tr>\n",
       "      <th>2</th>\n",
       "      <td>20EC38</td>\n",
       "      <td>Funiculì funiculà</td>\n",
       "      <td>Mario Lanza</td>\n",
       "      <td>pop</td>\n",
       "      <td>Saint-Petersburg</td>\n",
       "      <td>20:58:07</td>\n",
       "      <td>Wednesday</td>\n",
       "    </tr>\n",
       "    <tr>\n",
       "      <th>3</th>\n",
       "      <td>A3DD03C9</td>\n",
       "      <td>Dragons in the Sunset</td>\n",
       "      <td>Fire + Ice</td>\n",
       "      <td>folk</td>\n",
       "      <td>Saint-Petersburg</td>\n",
       "      <td>08:37:09</td>\n",
       "      <td>Monday</td>\n",
       "    </tr>\n",
       "    <tr>\n",
       "      <th>4</th>\n",
       "      <td>E2DC1FAE</td>\n",
       "      <td>Soul People</td>\n",
       "      <td>Space Echo</td>\n",
       "      <td>dance</td>\n",
       "      <td>Moscow</td>\n",
       "      <td>08:34:34</td>\n",
       "      <td>Monday</td>\n",
       "    </tr>\n",
       "    <tr>\n",
       "      <th>5</th>\n",
       "      <td>842029A1</td>\n",
       "      <td>Преданная</td>\n",
       "      <td>IMPERVTOR</td>\n",
       "      <td>rusrap</td>\n",
       "      <td>Saint-Petersburg</td>\n",
       "      <td>13:09:41</td>\n",
       "      <td>Friday</td>\n",
       "    </tr>\n",
       "    <tr>\n",
       "      <th>6</th>\n",
       "      <td>4CB90AA5</td>\n",
       "      <td>True</td>\n",
       "      <td>Roman Messer</td>\n",
       "      <td>dance</td>\n",
       "      <td>Moscow</td>\n",
       "      <td>13:00:07</td>\n",
       "      <td>Wednesday</td>\n",
       "    </tr>\n",
       "    <tr>\n",
       "      <th>7</th>\n",
       "      <td>F03E1C1F</td>\n",
       "      <td>Feeling This Way</td>\n",
       "      <td>Polina Griffith</td>\n",
       "      <td>dance</td>\n",
       "      <td>Moscow</td>\n",
       "      <td>20:47:49</td>\n",
       "      <td>Wednesday</td>\n",
       "    </tr>\n",
       "    <tr>\n",
       "      <th>8</th>\n",
       "      <td>8FA1D3BE</td>\n",
       "      <td>И вновь продолжается бой</td>\n",
       "      <td>NaN</td>\n",
       "      <td>ruspop</td>\n",
       "      <td>Moscow</td>\n",
       "      <td>09:17:40</td>\n",
       "      <td>Friday</td>\n",
       "    </tr>\n",
       "    <tr>\n",
       "      <th>9</th>\n",
       "      <td>E772D5C0</td>\n",
       "      <td>Pessimist</td>\n",
       "      <td>NaN</td>\n",
       "      <td>dance</td>\n",
       "      <td>Saint-Petersburg</td>\n",
       "      <td>21:20:49</td>\n",
       "      <td>Wednesday</td>\n",
       "    </tr>\n",
       "  </tbody>\n",
       "</table>\n",
       "</div>"
      ],
      "text/plain": [
       "     userID                        Track            artist   genre  \\\n",
       "0  FFB692EC            Kamigata To Boots  The Mass Missile    rock   \n",
       "1  55204538  Delayed Because of Accident  Andreas Rönnberg    rock   \n",
       "2    20EC38            Funiculì funiculà       Mario Lanza     pop   \n",
       "3  A3DD03C9        Dragons in the Sunset        Fire + Ice    folk   \n",
       "4  E2DC1FAE                  Soul People        Space Echo   dance   \n",
       "5  842029A1                    Преданная         IMPERVTOR  rusrap   \n",
       "6  4CB90AA5                         True      Roman Messer   dance   \n",
       "7  F03E1C1F             Feeling This Way   Polina Griffith   dance   \n",
       "8  8FA1D3BE     И вновь продолжается бой               NaN  ruspop   \n",
       "9  E772D5C0                    Pessimist               NaN   dance   \n",
       "\n",
       "             City        time        Day  \n",
       "0  Saint-Petersburg  20:28:33  Wednesday  \n",
       "1            Moscow  14:07:09     Friday  \n",
       "2  Saint-Petersburg  20:58:07  Wednesday  \n",
       "3  Saint-Petersburg  08:37:09     Monday  \n",
       "4            Moscow  08:34:34     Monday  \n",
       "5  Saint-Petersburg  13:09:41     Friday  \n",
       "6            Moscow  13:00:07  Wednesday  \n",
       "7            Moscow  20:47:49  Wednesday  \n",
       "8            Moscow  09:17:40     Friday  \n",
       "9  Saint-Petersburg  21:20:49  Wednesday  "
      ]
     },
     "metadata": {},
     "output_type": "display_data"
    }
   ],
   "source": [
    "# получение первых 10 строк таблицы df\n",
    "display(df.head(10))"
   ]
  },
  {
   "cell_type": "code",
   "execution_count": 4,
   "metadata": {
    "id": "DSf2kIb-_Zct"
   },
   "outputs": [
    {
     "name": "stdout",
     "output_type": "stream",
     "text": [
      "<class 'pandas.core.frame.DataFrame'>\n",
      "RangeIndex: 65079 entries, 0 to 65078\n",
      "Data columns (total 7 columns):\n",
      " #   Column    Non-Null Count  Dtype \n",
      "---  ------    --------------  ----- \n",
      " 0     userID  65079 non-null  object\n",
      " 1   Track     63848 non-null  object\n",
      " 2   artist    57876 non-null  object\n",
      " 3   genre     63881 non-null  object\n",
      " 4     City    65079 non-null  object\n",
      " 5   time      65079 non-null  object\n",
      " 6   Day       65079 non-null  object\n",
      "dtypes: object(7)\n",
      "memory usage: 3.5+ MB\n"
     ]
    }
   ],
   "source": [
    "# получение общей информации о данных в таблице df\n",
    "df.info()"
   ]
  },
  {
   "cell_type": "markdown",
   "metadata": {
    "id": "TaQ2Iwbr_Zct"
   },
   "source": [
    "Согласно документации к данным:\n",
    "* `userID` — идентификатор пользователя;\n",
    "* `Track` — название трека;  \n",
    "* `artist` — имя исполнителя;\n",
    "* `genre` — название жанра;\n",
    "* `City` — город пользователя;\n",
    "* `time` — время начала прослушивания;\n",
    "* `Day` — день недели.\n",
    "\n",
    "В названиях колонок видны три нарушения стиля:\n",
    "1. Строчные буквы сочетаются с прописными.\n",
    "2. Встречаются пробелы.\n",
    "3. Слитное написание слов (userID -> user_id)\n",
    "\n",
    "\n",
    "Количество значений в столбцах различается. Значит, в данных есть пропущенные значения.\n"
   ]
  },
  {
   "cell_type": "markdown",
   "metadata": {
    "id": "MCB6-dXG_Zct"
   },
   "source": [
    "**Выводы**\n",
    "\n",
    "В каждой строке таблицы — данные о прослушанном треке. Часть колонок описывает саму композицию: название, исполнителя и жанр. Остальные данные рассказывают о пользователе: из какого он города, когда он слушал музыку. \n",
    "\n",
    "Предварительно можно утверждать, что, данных достаточно для проверки гипотез. Но встречаются пропуски в данных, а в названиях колонок — расхождения с хорошим стилем.\n",
    "\n",
    "Чтобы двигаться дальше, нужно устранить проблемы в данных."
   ]
  },
  {
   "cell_type": "markdown",
   "metadata": {
    "id": "SjYF6Ub9_Zct"
   },
   "source": [
    "## Предобработка данных\n",
    "Исправим стиль в заголовках столбцов, исключите пропуски. Затем проверим данные на дубликаты."
   ]
  },
  {
   "cell_type": "markdown",
   "metadata": {
    "id": "dIaKXr29_Zct"
   },
   "source": [
    "### Стиль заголовков"
   ]
  },
  {
   "cell_type": "code",
   "execution_count": 5,
   "metadata": {
    "id": "oKOTdF_Q_Zct"
   },
   "outputs": [
    {
     "name": "stdout",
     "output_type": "stream",
     "text": [
      "Index(['  userID', 'Track', 'artist', 'genre', '  City  ', 'time', 'Day'], dtype='object')\n"
     ]
    }
   ],
   "source": [
    "# перечень названий столбцов таблицы df\n",
    "print(df.columns)"
   ]
  },
  {
   "cell_type": "code",
   "execution_count": 6,
   "metadata": {
    "id": "ISlFqs5y_Zct"
   },
   "outputs": [],
   "source": [
    "# переименование столбцов\n",
    "df = df.rename(columns={'  userID':'user_id','Track':'track','  City  ':'city','Day':'day'})"
   ]
  },
  {
   "cell_type": "code",
   "execution_count": 7,
   "metadata": {
    "id": "d4NOAmTW_Zct"
   },
   "outputs": [
    {
     "name": "stdout",
     "output_type": "stream",
     "text": [
      "Index(['user_id', 'track', 'artist', 'genre', 'city', 'time', 'day'], dtype='object')\n"
     ]
    }
   ],
   "source": [
    "# проверка результатов - перечень названий столбцов\n",
    "print(df.columns)"
   ]
  },
  {
   "cell_type": "markdown",
   "metadata": {
    "id": "5ISfbcfY_Zct"
   },
   "source": [
    "### Пропуски значений"
   ]
  },
  {
   "cell_type": "code",
   "execution_count": 8,
   "metadata": {
    "id": "RskX29qr_Zct"
   },
   "outputs": [
    {
     "name": "stdout",
     "output_type": "stream",
     "text": [
      "user_id       0\n",
      "track      1231\n",
      "artist     7203\n",
      "genre      1198\n",
      "city          0\n",
      "time          0\n",
      "day           0\n",
      "dtype: int64\n"
     ]
    }
   ],
   "source": [
    "# подсчёт пропусков\n",
    "print(df.isna().sum())"
   ]
  },
  {
   "cell_type": "code",
   "execution_count": 9,
   "metadata": {
    "id": "KplB5qWs_Zct"
   },
   "outputs": [],
   "source": [
    "# перебор названий столбцов в цикле и замена пропущенных значений на 'unknown'\n",
    "columns_to_replace = ['track','artist','genre']\n",
    "for value in columns_to_replace:\n",
    "    df[value] = df[value].fillna('unknown')"
   ]
  },
  {
   "cell_type": "code",
   "execution_count": 10,
   "metadata": {
    "id": "Tq4nYRX4_Zct"
   },
   "outputs": [
    {
     "name": "stdout",
     "output_type": "stream",
     "text": [
      "user_id    0\n",
      "track      0\n",
      "artist     0\n",
      "genre      0\n",
      "city       0\n",
      "time       0\n",
      "day        0\n",
      "dtype: int64\n"
     ]
    }
   ],
   "source": [
    "# подсчёт пропусков\n",
    "print(df.isna().sum())"
   ]
  },
  {
   "cell_type": "markdown",
   "metadata": {
    "id": "BWKRtBJ3_Zct"
   },
   "source": [
    "### Дубликаты"
   ]
  },
  {
   "cell_type": "code",
   "execution_count": 11,
   "metadata": {
    "id": "36eES_S0_Zct"
   },
   "outputs": [
    {
     "name": "stdout",
     "output_type": "stream",
     "text": [
      "3826\n"
     ]
    }
   ],
   "source": [
    "# подсчёт явных дубликатов\n",
    "print(df.duplicated().sum())"
   ]
  },
  {
   "cell_type": "code",
   "execution_count": 12,
   "metadata": {
    "id": "exFHq6tt_Zct"
   },
   "outputs": [],
   "source": [
    "# удаление явных дубликатов (с удалением старых индексов и формированием новых)\n",
    "df = df.drop_duplicates().reset_index(drop=True)"
   ]
  },
  {
   "cell_type": "code",
   "execution_count": 13,
   "metadata": {
    "id": "-8PuNWQ0_Zct"
   },
   "outputs": [
    {
     "name": "stdout",
     "output_type": "stream",
     "text": [
      "0\n"
     ]
    }
   ],
   "source": [
    "# проверка на отсутствие дубликатов\n",
    "print(df.duplicated().sum())"
   ]
  },
  {
   "cell_type": "code",
   "execution_count": 14,
   "metadata": {
    "id": "JIUcqzZN_Zct"
   },
   "outputs": [
    {
     "name": "stdout",
     "output_type": "stream",
     "text": [
      "['acid' 'acoustic' 'action' 'adult' 'africa' 'afrikaans' 'alternative'\n",
      " 'alternativepunk' 'ambient' 'americana' 'animated' 'anime' 'arabesk'\n",
      " 'arabic' 'arena' 'argentinetango' 'art' 'audiobook' 'author' 'avantgarde'\n",
      " 'axé' 'baile' 'balkan' 'beats' 'bigroom' 'black' 'bluegrass' 'blues'\n",
      " 'bollywood' 'bossa' 'brazilian' 'breakbeat' 'breaks' 'broadway'\n",
      " 'cantautori' 'cantopop' 'canzone' 'caribbean' 'caucasian' 'celtic'\n",
      " 'chamber' 'chanson' 'children' 'chill' 'chinese' 'choral' 'christian'\n",
      " 'christmas' 'classical' 'classicmetal' 'club' 'colombian' 'comedy'\n",
      " 'conjazz' 'contemporary' 'country' 'cuban' 'dance' 'dancehall' 'dancepop'\n",
      " 'dark' 'death' 'deep' 'deutschrock' 'deutschspr' 'dirty' 'disco' 'dnb'\n",
      " 'documentary' 'downbeat' 'downtempo' 'drum' 'dub' 'dubstep' 'eastern'\n",
      " 'easy' 'electronic' 'electropop' 'emo' 'entehno' 'epicmetal' 'estrada'\n",
      " 'ethnic' 'eurofolk' 'european' 'experimental' 'extrememetal' 'fado'\n",
      " 'fairytail' 'film' 'fitness' 'flamenco' 'folk' 'folklore' 'folkmetal'\n",
      " 'folkrock' 'folktronica' 'forró' 'frankreich' 'französisch' 'french'\n",
      " 'funk' 'future' 'gangsta' 'garage' 'german' 'ghazal' 'gitarre' 'glitch'\n",
      " 'gospel' 'gothic' 'grime' 'grunge' 'gypsy' 'handsup' \"hard'n'heavy\"\n",
      " 'hardcore' 'hardstyle' 'hardtechno' 'hip' 'hip-hop' 'hiphop' 'historisch'\n",
      " 'holiday' 'hop' 'horror' 'house' 'hymn' 'idm' 'independent' 'indian'\n",
      " 'indie' 'indipop' 'industrial' 'inspirational' 'instrumental'\n",
      " 'international' 'irish' 'jam' 'japanese' 'jazz' 'jewish' 'jpop' 'jungle'\n",
      " 'k-pop' 'karadeniz' 'karaoke' 'kayokyoku' 'korean' 'laiko' 'latin'\n",
      " 'latino' 'leftfield' 'local' 'lounge' 'loungeelectronic' 'lovers'\n",
      " 'malaysian' 'mandopop' 'marschmusik' 'meditative' 'mediterranean'\n",
      " 'melodic' 'metal' 'metalcore' 'mexican' 'middle' 'minimal'\n",
      " 'miscellaneous' 'modern' 'mood' 'mpb' 'muslim' 'native' 'neoklassik'\n",
      " 'neue' 'new' 'newage' 'newwave' 'nu' 'nujazz' 'numetal' 'oceania' 'old'\n",
      " 'opera' 'orchestral' 'other' 'piano' 'podcasts' 'pop' 'popdance'\n",
      " 'popelectronic' 'popeurodance' 'poprussian' 'post' 'posthardcore'\n",
      " 'postrock' 'power' 'progmetal' 'progressive' 'psychedelic' 'punjabi'\n",
      " 'punk' 'quebecois' 'ragga' 'ram' 'rancheras' 'rap' 'rave' 'reggae'\n",
      " 'reggaeton' 'regional' 'relax' 'religious' 'retro' 'rhythm' 'rnb' 'rnr'\n",
      " 'rock' 'rockabilly' 'rockalternative' 'rockindie' 'rockother' 'romance'\n",
      " 'roots' 'ruspop' 'rusrap' 'rusrock' 'russian' 'salsa' 'samba' 'scenic'\n",
      " 'schlager' 'self' 'sertanejo' 'shanson' 'shoegazing' 'showtunes' 'singer'\n",
      " 'ska' 'skarock' 'slow' 'smooth' 'soft' 'soul' 'soulful' 'sound'\n",
      " 'soundtrack' 'southern' 'specialty' 'speech' 'spiritual' 'sport'\n",
      " 'stonerrock' 'surf' 'swing' 'synthpop' 'synthrock' 'sängerportrait'\n",
      " 'tango' 'tanzorchester' 'taraftar' 'tatar' 'tech' 'techno' 'teen'\n",
      " 'thrash' 'top' 'traditional' 'tradjazz' 'trance' 'tribal' 'trip'\n",
      " 'triphop' 'tropical' 'türk' 'türkçe' 'ukrrock' 'unknown' 'urban' 'uzbek'\n",
      " 'variété' 'vi' 'videogame' 'vocal' 'western' 'world' 'worldbeat' 'ïîï'\n",
      " 'электроника']\n"
     ]
    }
   ],
   "source": [
    "# Просмотр уникальных названий жанров\n",
    "genres_only = df[['genre']]\n",
    "genres_only = genres_only['genre'].sort_values()\n",
    "print(genres_only.unique())"
   ]
  },
  {
   "cell_type": "code",
   "execution_count": 15,
   "metadata": {
    "id": "ErNDkmns_Zct"
   },
   "outputs": [],
   "source": [
    "# Функция для замены неявных дубликатов\n",
    "def replace_wrong_genres(wrong_genres,correct_genre):\n",
    "    for value in wrong_genres:\n",
    "        df['genre'] = df['genre'].replace(value,correct_genre)"
   ]
  },
  {
   "cell_type": "code",
   "execution_count": 16,
   "metadata": {
    "id": "YN5i2hpmSo09"
   },
   "outputs": [],
   "source": [
    "# Устранение неявных дубликатов\n",
    "replace_wrong_genres(['hip','hop','hip-hop'],'hiphop')"
   ]
  },
  {
   "cell_type": "code",
   "execution_count": 17,
   "metadata": {
    "id": "wvixALnFG15m"
   },
   "outputs": [
    {
     "name": "stdout",
     "output_type": "stream",
     "text": [
      "['acid' 'acoustic' 'action' 'adult' 'africa' 'afrikaans' 'alternative'\n",
      " 'alternativepunk' 'ambient' 'americana' 'animated' 'anime' 'arabesk'\n",
      " 'arabic' 'arena' 'argentinetango' 'art' 'audiobook' 'author' 'avantgarde'\n",
      " 'axé' 'baile' 'balkan' 'beats' 'bigroom' 'black' 'bluegrass' 'blues'\n",
      " 'bollywood' 'bossa' 'brazilian' 'breakbeat' 'breaks' 'broadway'\n",
      " 'cantautori' 'cantopop' 'canzone' 'caribbean' 'caucasian' 'celtic'\n",
      " 'chamber' 'chanson' 'children' 'chill' 'chinese' 'choral' 'christian'\n",
      " 'christmas' 'classical' 'classicmetal' 'club' 'colombian' 'comedy'\n",
      " 'conjazz' 'contemporary' 'country' 'cuban' 'dance' 'dancehall' 'dancepop'\n",
      " 'dark' 'death' 'deep' 'deutschrock' 'deutschspr' 'dirty' 'disco' 'dnb'\n",
      " 'documentary' 'downbeat' 'downtempo' 'drum' 'dub' 'dubstep' 'eastern'\n",
      " 'easy' 'electronic' 'electropop' 'emo' 'entehno' 'epicmetal' 'estrada'\n",
      " 'ethnic' 'eurofolk' 'european' 'experimental' 'extrememetal' 'fado'\n",
      " 'fairytail' 'film' 'fitness' 'flamenco' 'folk' 'folklore' 'folkmetal'\n",
      " 'folkrock' 'folktronica' 'forró' 'frankreich' 'französisch' 'french'\n",
      " 'funk' 'future' 'gangsta' 'garage' 'german' 'ghazal' 'gitarre' 'glitch'\n",
      " 'gospel' 'gothic' 'grime' 'grunge' 'gypsy' 'handsup' \"hard'n'heavy\"\n",
      " 'hardcore' 'hardstyle' 'hardtechno' 'hiphop' 'historisch' 'holiday'\n",
      " 'horror' 'house' 'hymn' 'idm' 'independent' 'indian' 'indie' 'indipop'\n",
      " 'industrial' 'inspirational' 'instrumental' 'international' 'irish' 'jam'\n",
      " 'japanese' 'jazz' 'jewish' 'jpop' 'jungle' 'k-pop' 'karadeniz' 'karaoke'\n",
      " 'kayokyoku' 'korean' 'laiko' 'latin' 'latino' 'leftfield' 'local'\n",
      " 'lounge' 'loungeelectronic' 'lovers' 'malaysian' 'mandopop' 'marschmusik'\n",
      " 'meditative' 'mediterranean' 'melodic' 'metal' 'metalcore' 'mexican'\n",
      " 'middle' 'minimal' 'miscellaneous' 'modern' 'mood' 'mpb' 'muslim'\n",
      " 'native' 'neoklassik' 'neue' 'new' 'newage' 'newwave' 'nu' 'nujazz'\n",
      " 'numetal' 'oceania' 'old' 'opera' 'orchestral' 'other' 'piano' 'podcasts'\n",
      " 'pop' 'popdance' 'popelectronic' 'popeurodance' 'poprussian' 'post'\n",
      " 'posthardcore' 'postrock' 'power' 'progmetal' 'progressive' 'psychedelic'\n",
      " 'punjabi' 'punk' 'quebecois' 'ragga' 'ram' 'rancheras' 'rap' 'rave'\n",
      " 'reggae' 'reggaeton' 'regional' 'relax' 'religious' 'retro' 'rhythm'\n",
      " 'rnb' 'rnr' 'rock' 'rockabilly' 'rockalternative' 'rockindie' 'rockother'\n",
      " 'romance' 'roots' 'ruspop' 'rusrap' 'rusrock' 'russian' 'salsa' 'samba'\n",
      " 'scenic' 'schlager' 'self' 'sertanejo' 'shanson' 'shoegazing' 'showtunes'\n",
      " 'singer' 'ska' 'skarock' 'slow' 'smooth' 'soft' 'soul' 'soulful' 'sound'\n",
      " 'soundtrack' 'southern' 'specialty' 'speech' 'spiritual' 'sport'\n",
      " 'stonerrock' 'surf' 'swing' 'synthpop' 'synthrock' 'sängerportrait'\n",
      " 'tango' 'tanzorchester' 'taraftar' 'tatar' 'tech' 'techno' 'teen'\n",
      " 'thrash' 'top' 'traditional' 'tradjazz' 'trance' 'tribal' 'trip'\n",
      " 'triphop' 'tropical' 'türk' 'türkçe' 'ukrrock' 'unknown' 'urban' 'uzbek'\n",
      " 'variété' 'vi' 'videogame' 'vocal' 'western' 'world' 'worldbeat' 'ïîï'\n",
      " 'электроника']\n"
     ]
    }
   ],
   "source": [
    "# Проверка на неявные дубликаты\n",
    "genres_only = df[['genre']]\n",
    "genres_only = genres_only['genre'].sort_values()\n",
    "print(genres_only.unique())"
   ]
  },
  {
   "cell_type": "markdown",
   "metadata": {
    "id": "jz6a9-7HQUDd"
   },
   "source": [
    "**Выводы**\n",
    "\n",
    "Предобработка обнаружила три проблемы в данных:\n",
    "\n",
    "- нарушения в стиле заголовков,\n",
    "- пропущенные значения,\n",
    "- дубликаты — явные и неявные.\n",
    "\n",
    "Вы исправили заголовки, чтобы упростить работу с таблицей. Без дубликатов исследование станет более точным.\n",
    "\n",
    "Пропущенные значения вы заменили на `'unknown'`. Ещё предстоит увидеть, не повредят ли исследованию пропуски в колонке `genre`.\n",
    "\n",
    "Теперь можно перейти к проверке гипотез. "
   ]
  },
  {
   "cell_type": "markdown",
   "metadata": {
    "id": "WttZHXH0SqKk"
   },
   "source": [
    "## Проверка гипотез"
   ]
  },
  {
   "cell_type": "markdown",
   "metadata": {
    "id": "Im936VVi_Zcu"
   },
   "source": [
    "### Сравнение поведения пользователей двух столиц"
   ]
  },
  {
   "cell_type": "code",
   "execution_count": 18,
   "metadata": {
    "id": "0_Qs96oh_Zcu"
   },
   "outputs": [
    {
     "name": "stdout",
     "output_type": "stream",
     "text": [
      "                  user_id  track  artist  genre   time    day\n",
      "city                                                         \n",
      "Moscow              42741  42741   42741  42741  42741  42741\n",
      "Saint-Petersburg    18512  18512   18512  18512  18512  18512\n"
     ]
    }
   ],
   "source": [
    "# Подсчёт прослушиваний в каждом городе\n",
    "city_count=df.groupby('city').count()\n",
    "print(city_count)"
   ]
  },
  {
   "cell_type": "code",
   "execution_count": 19,
   "metadata": {
    "id": "uZMKjiJz_Zcu"
   },
   "outputs": [
    {
     "name": "stdout",
     "output_type": "stream",
     "text": [
      "           user_id  track  artist  genre   city   time\n",
      "day                                                   \n",
      "Friday       21840  21840   21840  21840  21840  21840\n",
      "Monday       21354  21354   21354  21354  21354  21354\n",
      "Wednesday    18059  18059   18059  18059  18059  18059\n"
     ]
    }
   ],
   "source": [
    "# Подсчёт прослушиваний в каждый из трёх дней\n",
    "day_count = df.groupby('day').count()\n",
    "print(day_count)"
   ]
  },
  {
   "cell_type": "markdown",
   "metadata": {
    "id": "cC2tNrlL_Zcu"
   },
   "source": [
    "В среднем пользователи из двух городов менее активны по средам. Но картина может измениться, если рассмотреть каждый город в отдельности."
   ]
  },
  {
   "cell_type": "code",
   "execution_count": 20,
   "metadata": {
    "id": "Nz3GdQB1_Zcu"
   },
   "outputs": [],
   "source": [
    "# создание функции number_tracks()\n",
    "\n",
    "def number_tracks(day,city):\n",
    "    track_list = df[df['day'] == day]\n",
    "    track_list = track_list[track_list['city'] == city]\n",
    "    track_list_count=track_list['user_id'].count()\n",
    "    return track_list_count "
   ]
  },
  {
   "cell_type": "code",
   "execution_count": 21,
   "metadata": {
    "id": "rJcRATNQ_Zcu"
   },
   "outputs": [
    {
     "data": {
      "text/plain": [
       "15740"
      ]
     },
     "execution_count": 21,
     "metadata": {},
     "output_type": "execute_result"
    }
   ],
   "source": [
    "# количество прослушиваний в Москве по понедельникам\n",
    "number_tracks('Monday','Moscow')"
   ]
  },
  {
   "cell_type": "code",
   "execution_count": 22,
   "metadata": {
    "id": "hq_ncZ5T_Zcu"
   },
   "outputs": [
    {
     "data": {
      "text/plain": [
       "5614"
      ]
     },
     "execution_count": 22,
     "metadata": {},
     "output_type": "execute_result"
    }
   ],
   "source": [
    "# количество прослушиваний в Санкт-Петербурге по понедельникам\n",
    "number_tracks('Monday','Saint-Petersburg')"
   ]
  },
  {
   "cell_type": "code",
   "execution_count": 23,
   "metadata": {
    "id": "_NTy2VPU_Zcu"
   },
   "outputs": [
    {
     "data": {
      "text/plain": [
       "11056"
      ]
     },
     "execution_count": 23,
     "metadata": {},
     "output_type": "execute_result"
    }
   ],
   "source": [
    "# количество прослушиваний в Москве по средам\n",
    "number_tracks('Wednesday','Moscow')"
   ]
  },
  {
   "cell_type": "code",
   "execution_count": 24,
   "metadata": {
    "id": "j2y3TAwo_Zcu"
   },
   "outputs": [
    {
     "data": {
      "text/plain": [
       "7003"
      ]
     },
     "execution_count": 24,
     "metadata": {},
     "output_type": "execute_result"
    }
   ],
   "source": [
    "# количество прослушиваний в Санкт-Петербурге по средам\n",
    "number_tracks('Wednesday','Saint-Petersburg')"
   ]
  },
  {
   "cell_type": "code",
   "execution_count": 25,
   "metadata": {
    "id": "vYDw5u_K_Zcu"
   },
   "outputs": [
    {
     "data": {
      "text/plain": [
       "15945"
      ]
     },
     "execution_count": 25,
     "metadata": {},
     "output_type": "execute_result"
    }
   ],
   "source": [
    "# количество прослушиваний в Москве по пятницам\n",
    "number_tracks('Friday','Moscow')"
   ]
  },
  {
   "cell_type": "code",
   "execution_count": 26,
   "metadata": {
    "id": "8_yzFtW3_Zcu"
   },
   "outputs": [
    {
     "data": {
      "text/plain": [
       "5895"
      ]
     },
     "execution_count": 26,
     "metadata": {},
     "output_type": "execute_result"
    }
   ],
   "source": [
    "# количество прослушиваний в Санкт-Петербурге по пятницам\n",
    "number_tracks('Friday','Saint-Petersburg')"
   ]
  },
  {
   "cell_type": "code",
   "execution_count": 27,
   "metadata": {
    "id": "APAcLpOr_Zcu"
   },
   "outputs": [
    {
     "data": {
      "text/html": [
       "<div>\n",
       "<style scoped>\n",
       "    .dataframe tbody tr th:only-of-type {\n",
       "        vertical-align: middle;\n",
       "    }\n",
       "\n",
       "    .dataframe tbody tr th {\n",
       "        vertical-align: top;\n",
       "    }\n",
       "\n",
       "    .dataframe thead th {\n",
       "        text-align: right;\n",
       "    }\n",
       "</style>\n",
       "<table border=\"1\" class=\"dataframe\">\n",
       "  <thead>\n",
       "    <tr style=\"text-align: right;\">\n",
       "      <th></th>\n",
       "      <th>city</th>\n",
       "      <th>monday</th>\n",
       "      <th>wednesday</th>\n",
       "      <th>friday</th>\n",
       "    </tr>\n",
       "  </thead>\n",
       "  <tbody>\n",
       "    <tr>\n",
       "      <th>0</th>\n",
       "      <td>Moscow</td>\n",
       "      <td>15740</td>\n",
       "      <td>11056</td>\n",
       "      <td>15945</td>\n",
       "    </tr>\n",
       "    <tr>\n",
       "      <th>1</th>\n",
       "      <td>Saint-Petersburg</td>\n",
       "      <td>5614</td>\n",
       "      <td>7003</td>\n",
       "      <td>5895</td>\n",
       "    </tr>\n",
       "  </tbody>\n",
       "</table>\n",
       "</div>"
      ],
      "text/plain": [
       "               city  monday  wednesday  friday\n",
       "0            Moscow   15740      11056   15945\n",
       "1  Saint-Petersburg    5614       7003    5895"
      ]
     },
     "metadata": {},
     "output_type": "display_data"
    }
   ],
   "source": [
    "# Таблица с результатами\n",
    "data = [['Moscow',15740,11056,15945],\n",
    "        ['Saint-Petersburg',5614,7003,5895]]\n",
    "columns = ['city', 'monday', 'wednesday', 'friday']\n",
    "research_days_result = pd.DataFrame(data=data,columns=columns)\n",
    "display(research_days_result)"
   ]
  },
  {
   "cell_type": "markdown",
   "metadata": {
    "id": "-EgPIHYu_Zcu"
   },
   "source": [
    "**Выводы**\n",
    "\n",
    "Данные показывают разницу поведения пользователей:\n",
    "\n",
    "- В Москве пик прослушиваний приходится на понедельник и пятницу, а в среду заметен спад.\n",
    "- В Петербурге, наоборот, больше слушают музыку по средам. Активность в понедельник и пятницу здесь почти в равной мере уступает среде.\n",
    "\n",
    "Значит, данные говорят в пользу первой гипотезы."
   ]
  },
  {
   "cell_type": "markdown",
   "metadata": {
    "id": "atZAxtq4_Zcu"
   },
   "source": [
    "### Музыка в начале и в конце недели"
   ]
  },
  {
   "cell_type": "markdown",
   "metadata": {
    "id": "eXrQqXFH_Zcu"
   },
   "source": [
    "Согласно второй гипотезе, утром в понедельник в Москве преобладают одни жанры, а в Петербурге — другие. Так же и вечером пятницы преобладают разные жанры — в зависимости от города."
   ]
  },
  {
   "cell_type": "code",
   "execution_count": 28,
   "metadata": {
    "id": "qeaFfM_P_Zcu"
   },
   "outputs": [],
   "source": [
    "# получение таблицы moscow_general из тех строк таблицы df, \n",
    "# для которых значение в столбце 'city' равно 'Moscow'\n",
    "\n",
    "moscow_general = df[df['city']=='Moscow']"
   ]
  },
  {
   "cell_type": "code",
   "execution_count": 29,
   "metadata": {
    "id": "ORaVRKto_Zcu"
   },
   "outputs": [],
   "source": [
    "# получение таблицы spb_general из тех строк таблицы df,\n",
    "# для которых значение в столбце 'city' равно 'Saint-Petersburg'\n",
    "\n",
    "spb_general = df[df['city']=='Saint-Petersburg']"
   ]
  },
  {
   "cell_type": "code",
   "execution_count": 30,
   "metadata": {
    "id": "laJT9BYl_Zcu"
   },
   "outputs": [],
   "source": [
    "# Объявление функции genre_weekday() с параметрами table, day, time1, time2,\n",
    "# которая возвращает информацию о самых популярных жанрах в указанный день в\n",
    "# заданное время\n",
    "\n",
    "def genre_weekday (table, day, time1, time2):\n",
    "    genre_df = table[table['day'] == day]\n",
    "    genre_df = genre_df[genre_df['time'] > time1]\n",
    "    genre_df = genre_df[genre_df['time'] < time2]\n",
    "    genre_df_count = genre_df.groupby('genre')['genre'].count()\n",
    "    genre_df_sorted = genre_df_count.sort_values(ascending=False)\n",
    "    return genre_df_sorted.head(10)"
   ]
  },
  {
   "cell_type": "code",
   "execution_count": 31,
   "metadata": {
    "id": "yz7itPUQ_Zcu"
   },
   "outputs": [
    {
     "data": {
      "text/plain": [
       "genre\n",
       "pop            781\n",
       "dance          549\n",
       "electronic     480\n",
       "rock           474\n",
       "hiphop         286\n",
       "ruspop         186\n",
       "world          181\n",
       "rusrap         175\n",
       "alternative    164\n",
       "unknown        161\n",
       "Name: genre, dtype: int64"
      ]
     },
     "execution_count": 31,
     "metadata": {},
     "output_type": "execute_result"
    }
   ],
   "source": [
    "# вызов функции для утра понедельника в Москве \n",
    "\n",
    "genre_weekday (moscow_general, 'Monday', '07:00', '11:00')"
   ]
  },
  {
   "cell_type": "code",
   "execution_count": 32,
   "metadata": {
    "id": "kwUcHPdy_Zcu"
   },
   "outputs": [
    {
     "data": {
      "text/plain": [
       "genre\n",
       "pop            218\n",
       "dance          182\n",
       "rock           162\n",
       "electronic     147\n",
       "hiphop          80\n",
       "ruspop          64\n",
       "alternative     58\n",
       "rusrap          55\n",
       "jazz            44\n",
       "classical       40\n",
       "Name: genre, dtype: int64"
      ]
     },
     "execution_count": 32,
     "metadata": {},
     "output_type": "execute_result"
    }
   ],
   "source": [
    "# вызов функции для утра понедельника в Петербурге\n",
    "\n",
    "genre_weekday (spb_general, 'Monday', '07:00', '11:00')"
   ]
  },
  {
   "cell_type": "code",
   "execution_count": 33,
   "metadata": {
    "id": "EzXVRE1o_Zcu"
   },
   "outputs": [
    {
     "data": {
      "text/plain": [
       "genre\n",
       "pop            713\n",
       "rock           517\n",
       "dance          495\n",
       "electronic     482\n",
       "hiphop         273\n",
       "world          208\n",
       "ruspop         170\n",
       "alternative    163\n",
       "classical      163\n",
       "rusrap         142\n",
       "Name: genre, dtype: int64"
      ]
     },
     "execution_count": 33,
     "metadata": {},
     "output_type": "execute_result"
    }
   ],
   "source": [
    "# вызов функции для вечера пятницы в Москве\n",
    "\n",
    "genre_weekday (moscow_general, 'Friday', '17:00', '23:00')"
   ]
  },
  {
   "cell_type": "code",
   "execution_count": 34,
   "metadata": {
    "id": "JZaEKu5v_Zcu"
   },
   "outputs": [
    {
     "data": {
      "text/plain": [
       "genre\n",
       "pop            256\n",
       "electronic     216\n",
       "rock           216\n",
       "dance          210\n",
       "hiphop          97\n",
       "alternative     63\n",
       "jazz            61\n",
       "classical       60\n",
       "rusrap          59\n",
       "world           54\n",
       "Name: genre, dtype: int64"
      ]
     },
     "execution_count": 34,
     "metadata": {},
     "output_type": "execute_result"
    }
   ],
   "source": [
    "# вызов функции для вечера пятницы в Петербурге\n",
    "\n",
    "genre_weekday (spb_general, 'Friday', '17:00', '23:00')"
   ]
  },
  {
   "cell_type": "markdown",
   "metadata": {
    "id": "wrCe4MNX_Zcu"
   },
   "source": [
    "**Выводы**\n",
    "\n",
    "Если сравнить топ-10 жанров в понедельник утром, можно сделать такие выводы:\n",
    "\n",
    "1. В Москве и Петербурге слушают похожую музыку. Единственное отличие — в московский рейтинг вошёл жанр “world”, а в петербургский — джаз и классика.\n",
    "\n",
    "2. В Москве пропущенных значений оказалось так много, что значение `'unknown'` заняло десятое место среди самых популярных жанров. Значит, пропущенные значения занимают существенную долю в данных и угрожают достоверности исследования.\n",
    "\n",
    "Вечер пятницы не меняет эту картину. Некоторые жанры поднимаются немного выше, другие спускаются, но в целом топ-10 остаётся тем же самым.\n",
    "\n",
    "Таким образом, вторая гипотеза подтвердилась лишь частично:\n",
    "* Пользователи слушают похожую музыку в начале недели и в конце.\n",
    "* Разница между Москвой и Петербургом не слишком выражена. В Москве чаще слушают русскую популярную музыку, в Петербурге — джаз.\n",
    "\n",
    "Однако пропуски в данных ставят под сомнение этот результат. В Москве их так много, что рейтинг топ-10 мог бы выглядеть иначе, если бы не утерянные  данные о жанрах."
   ]
  },
  {
   "cell_type": "markdown",
   "metadata": {
    "id": "JolODAqr_Zcu"
   },
   "source": [
    "### Жанровые предпочтения в Москве и Петербурге\n",
    "\n",
    "Гипотеза: Петербург — столица рэпа, музыку этого жанра там слушают чаще, чем в Москве.  А Москва — город контрастов, в котором, тем не менее, преобладает поп-музыка."
   ]
  },
  {
   "cell_type": "code",
   "execution_count": 35,
   "metadata": {
    "id": "r19lIPke_Zcu"
   },
   "outputs": [],
   "source": [
    "moscow_genres = moscow_general.groupby('genre')['genre'].count().sort_values(ascending=False)"
   ]
  },
  {
   "cell_type": "code",
   "execution_count": 36,
   "metadata": {
    "id": "WhCSooF8_Zcv"
   },
   "outputs": [
    {
     "name": "stdout",
     "output_type": "stream",
     "text": [
      "genre\n",
      "pop            5892\n",
      "dance          4435\n",
      "rock           3965\n",
      "electronic     3786\n",
      "hiphop         2096\n",
      "classical      1616\n",
      "world          1432\n",
      "alternative    1379\n",
      "ruspop         1372\n",
      "rusrap         1161\n",
      "Name: genre, dtype: int64\n"
     ]
    }
   ],
   "source": [
    "print(moscow_genres.head(10))"
   ]
  },
  {
   "cell_type": "code",
   "execution_count": 37,
   "metadata": {
    "id": "gluLIpE7_Zcv"
   },
   "outputs": [],
   "source": [
    "spb_genres = spb_general.groupby('genre')['genre'].count().sort_values(ascending=False)"
   ]
  },
  {
   "cell_type": "code",
   "execution_count": 38,
   "metadata": {
    "id": "uaGJHjVU_Zcv"
   },
   "outputs": [
    {
     "name": "stdout",
     "output_type": "stream",
     "text": [
      "genre\n",
      "pop            2431\n",
      "dance          1932\n",
      "rock           1879\n",
      "electronic     1736\n",
      "hiphop          960\n",
      "alternative     649\n",
      "classical       646\n",
      "rusrap          564\n",
      "ruspop          538\n",
      "world           515\n",
      "Name: genre, dtype: int64\n"
     ]
    }
   ],
   "source": [
    "print(spb_genres.head(10))"
   ]
  },
  {
   "cell_type": "markdown",
   "metadata": {
    "id": "RY51YJYu_Zcv"
   },
   "source": [
    "**Выводы**"
   ]
  },
  {
   "cell_type": "markdown",
   "metadata": {
    "id": "nVhnJEm__Zcv"
   },
   "source": [
    "Гипотеза частично подтвердилась:\n",
    "* Поп-музыка — самый популярный жанр в Москве, как и предполагала гипотеза. Более того, в топ-10 жанров встречается близкий жанр — русская популярная музыка.\n",
    "* Вопреки ожиданиям, рэп одинаково популярен в Москве и Петербурге. \n"
   ]
  },
  {
   "cell_type": "markdown",
   "metadata": {
    "id": "ykKQ0N65_Zcv"
   },
   "source": [
    "## Итоги исследования"
   ]
  },
  {
   "cell_type": "markdown",
   "metadata": {
    "id": "tjUwbHb3_Zcv"
   },
   "source": [
    "Мы проверили три гипотезы и установили:\n",
    "\n",
    "1. День недели по-разному влияет на активность пользователей в Москве и Петербурге. \n",
    "\n",
    "Первая гипотеза полностью подтвердилась.\n",
    "\n",
    "2. Музыкальные предпочтения не сильно меняются в течение недели — будь то Москва или Петербург. Небольшие различия заметны в начале недели, по понедельникам:\n",
    "* в Москве слушают музыку жанра “world”,\n",
    "* в Петербурге — джаз и классику.\n",
    "\n",
    "Таким образом, вторая гипотеза подтвердилась лишь отчасти. Этот результат мог оказаться иным, если бы не пропуски в данных.\n",
    "\n",
    "3. Во вкусах пользователей Москвы и Петербурга больше общего чем различий. Вопреки ожиданиям, предпочтения жанров в Петербурге напоминают московские.\n",
    "\n",
    "Третья гипотеза не подтвердилась. Если различия в предпочтениях и существуют, на основной массе пользователей они незаметны."
   ]
  }
 ],
 "metadata": {
  "ExecuteTimeLog": [
   {
    "duration": 294,
    "start_time": "2022-02-07T19:34:14.353Z"
   },
   {
    "duration": 542,
    "start_time": "2022-02-07T19:34:19.399Z"
   },
   {
    "duration": 130,
    "start_time": "2022-02-07T19:34:22.543Z"
   },
   {
    "duration": 16,
    "start_time": "2022-02-07T19:34:24.565Z"
   },
   {
    "duration": 21,
    "start_time": "2022-02-07T19:35:23.544Z"
   },
   {
    "duration": 22,
    "start_time": "2022-02-07T19:40:41.549Z"
   },
   {
    "duration": 265,
    "start_time": "2022-02-08T08:59:29.074Z"
   },
   {
    "duration": 597,
    "start_time": "2022-02-08T08:59:40.225Z"
   },
   {
    "duration": 129,
    "start_time": "2022-02-08T08:59:42.377Z"
   },
   {
    "duration": 18,
    "start_time": "2022-02-08T08:59:46.695Z"
   },
   {
    "duration": 24,
    "start_time": "2022-02-08T08:59:50.277Z"
   },
   {
    "duration": 4,
    "start_time": "2022-02-08T08:59:53.319Z"
   },
   {
    "duration": 22,
    "start_time": "2022-02-08T09:01:37.600Z"
   },
   {
    "duration": 4,
    "start_time": "2022-02-08T09:01:48.552Z"
   },
   {
    "duration": 22,
    "start_time": "2022-02-08T09:07:39.962Z"
   },
   {
    "duration": 231,
    "start_time": "2022-02-08T09:07:51.351Z"
   },
   {
    "duration": 23,
    "start_time": "2022-02-08T09:07:57.930Z"
   },
   {
    "duration": 5808,
    "start_time": "2022-02-08T09:16:32.258Z"
   },
   {
    "duration": 6096,
    "start_time": "2022-02-08T09:18:00.850Z"
   },
   {
    "duration": 5721,
    "start_time": "2022-02-08T09:18:50.590Z"
   },
   {
    "duration": 6302,
    "start_time": "2022-02-08T09:21:42.503Z"
   },
   {
    "duration": 6842,
    "start_time": "2022-02-08T09:22:04.529Z"
   },
   {
    "duration": 17,
    "start_time": "2022-02-08T09:23:04.565Z"
   },
   {
    "duration": 23,
    "start_time": "2022-02-08T09:23:33.484Z"
   },
   {
    "duration": 82,
    "start_time": "2022-02-08T09:29:26.325Z"
   },
   {
    "duration": 63,
    "start_time": "2022-02-08T09:30:54.598Z"
   },
   {
    "duration": 54,
    "start_time": "2022-02-08T09:31:17.245Z"
   },
   {
    "duration": 676,
    "start_time": "2022-02-08T11:03:25.588Z"
   },
   {
    "duration": 47,
    "start_time": "2022-02-08T11:03:27.172Z"
   },
   {
    "duration": 6095,
    "start_time": "2022-02-08T11:03:30.718Z"
   },
   {
    "duration": 227,
    "start_time": "2022-02-08T11:05:17.452Z"
   },
   {
    "duration": 3,
    "start_time": "2022-02-08T11:09:07.272Z"
   },
   {
    "duration": 302,
    "start_time": "2022-02-08T11:09:16.690Z"
   },
   {
    "duration": 245,
    "start_time": "2022-02-08T11:11:44.122Z"
   },
   {
    "duration": 52,
    "start_time": "2022-02-08T11:16:02.858Z"
   },
   {
    "duration": 7481,
    "start_time": "2022-02-08T11:16:27.289Z"
   },
   {
    "duration": 49,
    "start_time": "2022-02-08T11:16:39.526Z"
   },
   {
    "duration": 272,
    "start_time": "2022-02-08T11:19:02.980Z"
   },
   {
    "duration": 3161,
    "start_time": "2022-02-08T11:19:09.836Z"
   },
   {
    "duration": 51,
    "start_time": "2022-02-08T11:19:38.342Z"
   },
   {
    "duration": 3,
    "start_time": "2022-02-08T11:23:47.524Z"
   },
   {
    "duration": 263,
    "start_time": "2022-02-08T11:24:25.604Z"
   },
   {
    "duration": 29,
    "start_time": "2022-02-08T11:31:08.449Z"
   },
   {
    "duration": 2939,
    "start_time": "2022-02-08T11:31:22.358Z"
   },
   {
    "duration": 23,
    "start_time": "2022-02-08T11:31:42.994Z"
   },
   {
    "duration": 31,
    "start_time": "2022-02-08T11:32:24.750Z"
   },
   {
    "duration": 22,
    "start_time": "2022-02-08T11:32:42.507Z"
   },
   {
    "duration": 36,
    "start_time": "2022-02-08T11:33:14.707Z"
   },
   {
    "duration": 22,
    "start_time": "2022-02-08T11:33:55.945Z"
   },
   {
    "duration": 247,
    "start_time": "2022-02-08T11:34:31.068Z"
   },
   {
    "duration": 23,
    "start_time": "2022-02-08T11:36:15.249Z"
   },
   {
    "duration": 239,
    "start_time": "2022-02-08T11:36:24.515Z"
   },
   {
    "duration": 222,
    "start_time": "2022-02-08T11:39:54.011Z"
   },
   {
    "duration": 5,
    "start_time": "2022-02-08T11:42:11.907Z"
   },
   {
    "duration": 12,
    "start_time": "2022-02-08T11:42:38.306Z"
   },
   {
    "duration": 11,
    "start_time": "2022-02-08T11:43:12.205Z"
   },
   {
    "duration": 6,
    "start_time": "2022-02-08T11:43:49.994Z"
   },
   {
    "duration": 6,
    "start_time": "2022-02-08T11:43:57.175Z"
   },
   {
    "duration": 1624,
    "start_time": "2022-02-08T11:44:40.665Z"
   },
   {
    "duration": 7,
    "start_time": "2022-02-08T11:44:47.853Z"
   },
   {
    "duration": 30,
    "start_time": "2022-02-08T11:46:44.598Z"
   },
   {
    "duration": 21,
    "start_time": "2022-02-08T11:47:02.633Z"
   },
   {
    "duration": 242,
    "start_time": "2022-02-08T11:47:25.788Z"
   },
   {
    "duration": 259,
    "start_time": "2022-02-08T11:50:56.845Z"
   },
   {
    "duration": 39,
    "start_time": "2022-02-08T11:51:09.616Z"
   },
   {
    "duration": 36,
    "start_time": "2022-02-08T11:51:17.521Z"
   },
   {
    "duration": 292,
    "start_time": "2022-02-08T11:52:28.297Z"
   },
   {
    "duration": 222,
    "start_time": "2022-02-08T11:52:35.028Z"
   },
   {
    "duration": 278,
    "start_time": "2022-02-08T11:52:54.334Z"
   },
   {
    "duration": 220,
    "start_time": "2022-02-08T11:53:51.561Z"
   },
   {
    "duration": 42,
    "start_time": "2022-02-08T12:30:25.231Z"
   },
   {
    "duration": 257,
    "start_time": "2022-02-08T12:31:12.298Z"
   },
   {
    "duration": 224,
    "start_time": "2022-02-08T12:55:44.243Z"
   },
   {
    "duration": 240,
    "start_time": "2022-02-08T12:55:52.429Z"
   },
   {
    "duration": 72,
    "start_time": "2022-02-08T13:01:50.436Z"
   },
   {
    "duration": 2939,
    "start_time": "2022-02-08T13:02:01.540Z"
   },
   {
    "duration": 45,
    "start_time": "2022-02-08T13:02:15.025Z"
   },
   {
    "duration": 42,
    "start_time": "2022-02-08T13:03:16.511Z"
   },
   {
    "duration": 304,
    "start_time": "2022-02-08T13:05:42.506Z"
   },
   {
    "duration": 41,
    "start_time": "2022-02-08T13:05:46.944Z"
   },
   {
    "duration": 7,
    "start_time": "2022-02-08T13:35:55.406Z"
   },
   {
    "duration": 45,
    "start_time": "2022-02-08T13:36:01.198Z"
   },
   {
    "duration": 15,
    "start_time": "2022-02-08T13:41:45.988Z"
   },
   {
    "duration": 68,
    "start_time": "2022-02-08T13:42:03.921Z"
   },
   {
    "duration": 240,
    "start_time": "2022-02-08T13:51:05.333Z"
   },
   {
    "duration": 344,
    "start_time": "2022-02-08T13:51:11.277Z"
   },
   {
    "duration": 235,
    "start_time": "2022-02-08T13:51:41.440Z"
   },
   {
    "duration": 239,
    "start_time": "2022-02-08T13:51:46.548Z"
   },
   {
    "duration": 234,
    "start_time": "2022-02-08T13:51:56.983Z"
   },
   {
    "duration": 247,
    "start_time": "2022-02-08T13:53:27.010Z"
   },
   {
    "duration": 27,
    "start_time": "2022-02-08T13:57:08.614Z"
   },
   {
    "duration": 27,
    "start_time": "2022-02-08T13:57:28.902Z"
   },
   {
    "duration": 26,
    "start_time": "2022-02-08T13:58:22.734Z"
   },
   {
    "duration": 27,
    "start_time": "2022-02-08T13:58:24.982Z"
   },
   {
    "duration": 29,
    "start_time": "2022-02-08T13:58:34.759Z"
   },
   {
    "duration": 4,
    "start_time": "2022-02-08T14:07:25.476Z"
   },
   {
    "duration": 14,
    "start_time": "2022-02-08T14:07:27.621Z"
   },
   {
    "duration": 82,
    "start_time": "2022-02-08T14:07:38.677Z"
   },
   {
    "duration": 3,
    "start_time": "2022-02-08T14:07:44.318Z"
   },
   {
    "duration": 20,
    "start_time": "2022-02-08T14:08:20.126Z"
   },
   {
    "duration": 18,
    "start_time": "2022-02-08T14:08:29.608Z"
   },
   {
    "duration": 19,
    "start_time": "2022-02-08T14:09:47.679Z"
   },
   {
    "duration": 23,
    "start_time": "2022-02-08T14:10:41.988Z"
   },
   {
    "duration": 24,
    "start_time": "2022-02-08T14:10:43.942Z"
   },
   {
    "duration": 19,
    "start_time": "2022-02-08T14:10:45.973Z"
   },
   {
    "duration": 16,
    "start_time": "2022-02-08T14:10:47.751Z"
   },
   {
    "duration": 5,
    "start_time": "2022-02-08T14:12:36.407Z"
   },
   {
    "duration": 10,
    "start_time": "2022-02-08T14:12:39.274Z"
   },
   {
    "duration": 9,
    "start_time": "2022-02-08T14:12:41.405Z"
   },
   {
    "duration": 3,
    "start_time": "2022-02-08T14:12:48.049Z"
   },
   {
    "duration": 466,
    "start_time": "2022-02-08T14:12:50.097Z"
   },
   {
    "duration": 5,
    "start_time": "2022-02-08T14:12:59.199Z"
   },
   {
    "duration": 5,
    "start_time": "2022-02-08T14:13:01.252Z"
   },
   {
    "duration": 28,
    "start_time": "2022-02-08T14:13:03.067Z"
   },
   {
    "duration": 24,
    "start_time": "2022-02-08T14:13:05.580Z"
   },
   {
    "duration": 3,
    "start_time": "2022-02-08T14:13:38.008Z"
   },
   {
    "duration": 8,
    "start_time": "2022-02-08T14:13:39.927Z"
   },
   {
    "duration": 8,
    "start_time": "2022-02-08T14:13:45.229Z"
   },
   {
    "duration": 4,
    "start_time": "2022-02-08T14:15:18.233Z"
   },
   {
    "duration": 691,
    "start_time": "2022-02-08T14:15:23.196Z"
   },
   {
    "duration": 3341,
    "start_time": "2022-02-08T14:15:27.547Z"
   },
   {
    "duration": 3,
    "start_time": "2022-02-08T14:15:58.365Z"
   },
   {
    "duration": 9,
    "start_time": "2022-02-08T14:16:00.046Z"
   },
   {
    "duration": 232,
    "start_time": "2022-02-08T14:17:21.474Z"
   },
   {
    "duration": 9,
    "start_time": "2022-02-08T14:17:38.577Z"
   },
   {
    "duration": 3,
    "start_time": "2022-02-08T14:18:14.257Z"
   },
   {
    "duration": 17,
    "start_time": "2022-02-08T14:18:16.749Z"
   },
   {
    "duration": 3,
    "start_time": "2022-02-08T14:18:24.878Z"
   },
   {
    "duration": 3,
    "start_time": "2022-02-08T14:18:37.904Z"
   },
   {
    "duration": 18,
    "start_time": "2022-02-08T14:18:39.856Z"
   },
   {
    "duration": 15,
    "start_time": "2022-02-08T14:18:45.687Z"
   },
   {
    "duration": 16,
    "start_time": "2022-02-08T14:18:49.638Z"
   },
   {
    "duration": 13,
    "start_time": "2022-02-08T14:18:53.864Z"
   },
   {
    "duration": 17,
    "start_time": "2022-02-08T14:18:58.289Z"
   },
   {
    "duration": 15,
    "start_time": "2022-02-08T14:19:02.169Z"
   },
   {
    "duration": 241,
    "start_time": "2022-02-08T14:23:55.330Z"
   },
   {
    "duration": 233,
    "start_time": "2022-02-08T14:24:15.614Z"
   },
   {
    "duration": 246,
    "start_time": "2022-02-08T14:27:17.680Z"
   },
   {
    "duration": 223,
    "start_time": "2022-02-08T14:27:38.133Z"
   },
   {
    "duration": 240,
    "start_time": "2022-02-08T14:28:24.866Z"
   },
   {
    "duration": 12,
    "start_time": "2022-02-08T14:29:03.839Z"
   },
   {
    "duration": 30,
    "start_time": "2022-02-08T14:30:40.999Z"
   },
   {
    "duration": 19,
    "start_time": "2022-02-08T14:33:44.733Z"
   },
   {
    "duration": 12,
    "start_time": "2022-02-08T14:34:10.675Z"
   },
   {
    "duration": 89,
    "start_time": "2022-02-08T14:47:18.272Z"
   },
   {
    "duration": 4,
    "start_time": "2022-02-08T14:47:30.824Z"
   },
   {
    "duration": 5,
    "start_time": "2022-02-08T14:48:12.414Z"
   },
   {
    "duration": 5882,
    "start_time": "2022-02-08T14:49:38.945Z"
   },
   {
    "duration": 4,
    "start_time": "2022-02-08T14:50:36.582Z"
   },
   {
    "duration": 5981,
    "start_time": "2022-02-08T14:50:38.749Z"
   },
   {
    "duration": 15,
    "start_time": "2022-02-08T14:51:49.359Z"
   },
   {
    "duration": 15,
    "start_time": "2022-02-08T14:52:05.021Z"
   },
   {
    "duration": 15,
    "start_time": "2022-02-08T14:52:15.289Z"
   },
   {
    "duration": 10,
    "start_time": "2022-02-08T14:52:20.998Z"
   },
   {
    "duration": 4,
    "start_time": "2022-02-08T14:54:52.437Z"
   },
   {
    "duration": 6052,
    "start_time": "2022-02-08T14:54:54.447Z"
   },
   {
    "duration": 6,
    "start_time": "2022-02-08T14:55:16.398Z"
   },
   {
    "duration": 5981,
    "start_time": "2022-02-08T14:55:18.964Z"
   },
   {
    "duration": 4,
    "start_time": "2022-02-08T14:57:36.089Z"
   },
   {
    "duration": 7703,
    "start_time": "2022-02-08T14:57:38.227Z"
   },
   {
    "duration": 6,
    "start_time": "2022-02-08T14:59:06.618Z"
   },
   {
    "duration": 535,
    "start_time": "2022-02-08T14:59:08.616Z"
   },
   {
    "duration": 5,
    "start_time": "2022-02-08T15:00:56.612Z"
   },
   {
    "duration": 18,
    "start_time": "2022-02-08T15:00:58.746Z"
   },
   {
    "duration": 16,
    "start_time": "2022-02-08T15:01:48.816Z"
   },
   {
    "duration": 24,
    "start_time": "2022-02-08T15:02:16.197Z"
   },
   {
    "duration": 16,
    "start_time": "2022-02-08T15:02:28.172Z"
   },
   {
    "duration": 14,
    "start_time": "2022-02-08T15:02:40.850Z"
   },
   {
    "duration": 217,
    "start_time": "2022-02-08T15:07:13.564Z"
   },
   {
    "duration": 4,
    "start_time": "2022-02-08T15:07:22.308Z"
   },
   {
    "duration": 257,
    "start_time": "2022-02-08T15:08:21.386Z"
   },
   {
    "duration": 3,
    "start_time": "2022-02-08T15:10:21.005Z"
   },
   {
    "duration": 4,
    "start_time": "2022-02-08T15:10:36.850Z"
   },
   {
    "duration": 244,
    "start_time": "2022-02-08T15:11:32.220Z"
   },
   {
    "duration": 248,
    "start_time": "2022-02-08T15:11:40.518Z"
   },
   {
    "duration": 298,
    "start_time": "2022-02-08T15:11:55.150Z"
   },
   {
    "duration": 4,
    "start_time": "2022-02-08T15:18:56.006Z"
   },
   {
    "duration": 522,
    "start_time": "2022-02-08T15:18:58.162Z"
   },
   {
    "duration": 4,
    "start_time": "2022-02-08T15:19:14.897Z"
   },
   {
    "duration": 482,
    "start_time": "2022-02-08T15:19:17.019Z"
   },
   {
    "duration": 5,
    "start_time": "2022-02-08T15:19:51.548Z"
   },
   {
    "duration": 24,
    "start_time": "2022-02-08T15:19:53.572Z"
   },
   {
    "duration": 4,
    "start_time": "2022-02-08T15:21:51.442Z"
   },
   {
    "duration": 4,
    "start_time": "2022-02-08T15:22:11.294Z"
   },
   {
    "duration": 469,
    "start_time": "2022-02-08T15:22:12.806Z"
   },
   {
    "duration": 5,
    "start_time": "2022-02-08T15:22:31.008Z"
   },
   {
    "duration": 468,
    "start_time": "2022-02-08T15:22:32.649Z"
   },
   {
    "duration": 4,
    "start_time": "2022-02-08T15:22:44.796Z"
   },
   {
    "duration": 17,
    "start_time": "2022-02-08T15:22:46.316Z"
   },
   {
    "duration": 10,
    "start_time": "2022-02-08T15:25:11.247Z"
   },
   {
    "duration": 9,
    "start_time": "2022-02-08T15:25:33.683Z"
   },
   {
    "duration": 11,
    "start_time": "2022-02-08T15:25:49.000Z"
   },
   {
    "duration": 4,
    "start_time": "2022-02-08T15:26:00.728Z"
   },
   {
    "duration": 5,
    "start_time": "2022-02-08T15:27:08.646Z"
   },
   {
    "duration": 562,
    "start_time": "2022-02-08T15:27:45.025Z"
   },
   {
    "duration": 6,
    "start_time": "2022-02-08T15:27:51.645Z"
   },
   {
    "duration": 3,
    "start_time": "2022-02-08T15:27:53.670Z"
   },
   {
    "duration": 4,
    "start_time": "2022-02-08T15:28:01.387Z"
   },
   {
    "duration": 22,
    "start_time": "2022-02-08T15:29:58.256Z"
   },
   {
    "duration": 2,
    "start_time": "2022-02-08T15:30:53.039Z"
   },
   {
    "duration": 129,
    "start_time": "2022-02-08T15:30:54.939Z"
   },
   {
    "duration": 11,
    "start_time": "2022-02-08T15:30:56.705Z"
   },
   {
    "duration": 22,
    "start_time": "2022-02-08T15:30:59.246Z"
   },
   {
    "duration": 4,
    "start_time": "2022-02-08T15:31:03.472Z"
   },
   {
    "duration": 21,
    "start_time": "2022-02-08T15:31:07.231Z"
   },
   {
    "duration": 4,
    "start_time": "2022-02-08T15:31:11.316Z"
   },
   {
    "duration": 22,
    "start_time": "2022-02-08T15:31:14.976Z"
   },
   {
    "duration": 17,
    "start_time": "2022-02-08T15:31:18.616Z"
   },
   {
    "duration": 26,
    "start_time": "2022-02-08T15:31:27.189Z"
   },
   {
    "duration": 52,
    "start_time": "2022-02-08T15:31:46.359Z"
   },
   {
    "duration": 60,
    "start_time": "2022-02-08T15:31:48.501Z"
   },
   {
    "duration": 48,
    "start_time": "2022-02-08T15:31:50.626Z"
   },
   {
    "duration": 43,
    "start_time": "2022-02-08T15:31:53.015Z"
   },
   {
    "duration": 3,
    "start_time": "2022-02-08T15:31:57.064Z"
   },
   {
    "duration": 10,
    "start_time": "2022-02-08T15:31:59.144Z"
   },
   {
    "duration": 44,
    "start_time": "2022-02-08T15:32:02.160Z"
   },
   {
    "duration": 29,
    "start_time": "2022-02-08T15:32:06.028Z"
   },
   {
    "duration": 29,
    "start_time": "2022-02-08T15:32:15.334Z"
   },
   {
    "duration": 4,
    "start_time": "2022-02-08T15:32:19.118Z"
   },
   {
    "duration": 17,
    "start_time": "2022-02-08T15:32:22.307Z"
   },
   {
    "duration": 15,
    "start_time": "2022-02-08T15:32:24.168Z"
   },
   {
    "duration": 15,
    "start_time": "2022-02-08T15:32:26.710Z"
   },
   {
    "duration": 14,
    "start_time": "2022-02-08T15:32:28.492Z"
   },
   {
    "duration": 17,
    "start_time": "2022-02-08T15:32:30.757Z"
   },
   {
    "duration": 14,
    "start_time": "2022-02-08T15:32:32.743Z"
   },
   {
    "duration": 9,
    "start_time": "2022-02-08T15:32:35.374Z"
   },
   {
    "duration": 10,
    "start_time": "2022-02-08T15:32:39.927Z"
   },
   {
    "duration": 11,
    "start_time": "2022-02-08T15:32:42.205Z"
   },
   {
    "duration": 4,
    "start_time": "2022-02-08T15:32:45.300Z"
   },
   {
    "duration": 22,
    "start_time": "2022-02-08T15:32:48.208Z"
   },
   {
    "duration": 13,
    "start_time": "2022-02-08T15:32:50.971Z"
   },
   {
    "duration": 17,
    "start_time": "2022-02-08T15:32:53.240Z"
   },
   {
    "duration": 13,
    "start_time": "2022-02-08T15:32:55.542Z"
   },
   {
    "duration": 9,
    "start_time": "2022-02-08T15:32:59.768Z"
   },
   {
    "duration": 4,
    "start_time": "2022-02-08T15:33:01.990Z"
   },
   {
    "duration": 6,
    "start_time": "2022-02-08T15:33:04.768Z"
   },
   {
    "duration": 4,
    "start_time": "2022-02-08T15:33:06.702Z"
   },
   {
    "duration": 549,
    "start_time": "2022-02-13T16:28:58.649Z"
   },
   {
    "duration": 146,
    "start_time": "2022-02-13T16:28:59.200Z"
   },
   {
    "duration": 24,
    "start_time": "2022-02-13T16:28:59.348Z"
   },
   {
    "duration": 31,
    "start_time": "2022-02-13T16:28:59.374Z"
   },
   {
    "duration": 6,
    "start_time": "2022-02-13T16:28:59.407Z"
   },
   {
    "duration": 28,
    "start_time": "2022-02-13T16:28:59.415Z"
   },
   {
    "duration": 6,
    "start_time": "2022-02-13T16:28:59.445Z"
   },
   {
    "duration": 26,
    "start_time": "2022-02-13T16:28:59.453Z"
   },
   {
    "duration": 19,
    "start_time": "2022-02-13T16:28:59.499Z"
   },
   {
    "duration": 24,
    "start_time": "2022-02-13T16:28:59.520Z"
   },
   {
    "duration": 82,
    "start_time": "2022-02-13T16:28:59.546Z"
   },
   {
    "duration": 77,
    "start_time": "2022-02-13T16:28:59.630Z"
   },
   {
    "duration": 51,
    "start_time": "2022-02-13T16:28:59.708Z"
   },
   {
    "duration": 59,
    "start_time": "2022-02-13T16:28:59.761Z"
   },
   {
    "duration": 3,
    "start_time": "2022-02-13T16:28:59.822Z"
   },
   {
    "duration": 13,
    "start_time": "2022-02-13T16:28:59.826Z"
   },
   {
    "duration": 58,
    "start_time": "2022-02-13T16:28:59.841Z"
   },
   {
    "duration": 33,
    "start_time": "2022-02-13T16:28:59.900Z"
   },
   {
    "duration": 33,
    "start_time": "2022-02-13T16:28:59.934Z"
   },
   {
    "duration": 4,
    "start_time": "2022-02-13T16:28:59.968Z"
   },
   {
    "duration": 20,
    "start_time": "2022-02-13T16:28:59.998Z"
   },
   {
    "duration": 17,
    "start_time": "2022-02-13T16:29:00.020Z"
   },
   {
    "duration": 17,
    "start_time": "2022-02-13T16:29:00.039Z"
   },
   {
    "duration": 46,
    "start_time": "2022-02-13T16:29:00.058Z"
   },
   {
    "duration": 18,
    "start_time": "2022-02-13T16:29:00.106Z"
   },
   {
    "duration": 18,
    "start_time": "2022-02-13T16:29:00.126Z"
   },
   {
    "duration": 19,
    "start_time": "2022-02-13T16:29:00.147Z"
   },
   {
    "duration": 39,
    "start_time": "2022-02-13T16:29:00.168Z"
   },
   {
    "duration": 16,
    "start_time": "2022-02-13T16:29:00.209Z"
   },
   {
    "duration": 4,
    "start_time": "2022-02-13T16:29:00.227Z"
   },
   {
    "duration": 36,
    "start_time": "2022-02-13T16:29:00.233Z"
   },
   {
    "duration": 14,
    "start_time": "2022-02-13T16:29:00.270Z"
   },
   {
    "duration": 27,
    "start_time": "2022-02-13T16:29:00.285Z"
   },
   {
    "duration": 24,
    "start_time": "2022-02-13T16:29:00.314Z"
   },
   {
    "duration": 13,
    "start_time": "2022-02-13T16:29:00.340Z"
   },
   {
    "duration": 4,
    "start_time": "2022-02-13T16:29:00.355Z"
   },
   {
    "duration": 23,
    "start_time": "2022-02-13T16:29:00.361Z"
   },
   {
    "duration": 15,
    "start_time": "2022-02-13T16:29:00.385Z"
   },
   {
    "duration": 6287,
    "start_time": "2022-08-02T16:54:01.161Z"
   },
   {
    "duration": 460,
    "start_time": "2022-08-02T16:55:07.160Z"
   },
   {
    "duration": 248,
    "start_time": "2022-08-02T16:55:07.622Z"
   },
   {
    "duration": 19,
    "start_time": "2022-08-02T16:55:07.872Z"
   },
   {
    "duration": 29,
    "start_time": "2022-08-02T16:55:07.894Z"
   },
   {
    "duration": 4,
    "start_time": "2022-08-02T16:55:07.925Z"
   },
   {
    "duration": 18,
    "start_time": "2022-08-02T16:55:07.931Z"
   },
   {
    "duration": 10,
    "start_time": "2022-08-02T16:55:07.951Z"
   },
   {
    "duration": 45,
    "start_time": "2022-08-02T16:55:07.963Z"
   },
   {
    "duration": 20,
    "start_time": "2022-08-02T16:55:08.009Z"
   },
   {
    "duration": 25,
    "start_time": "2022-08-02T16:55:08.032Z"
   },
   {
    "duration": 94,
    "start_time": "2022-08-02T16:55:08.059Z"
   },
   {
    "duration": 94,
    "start_time": "2022-08-02T16:55:08.155Z"
   },
   {
    "duration": 77,
    "start_time": "2022-08-02T16:55:08.250Z"
   },
   {
    "duration": 38,
    "start_time": "2022-08-02T16:55:08.329Z"
   },
   {
    "duration": 4,
    "start_time": "2022-08-02T16:55:08.370Z"
   },
   {
    "duration": 37,
    "start_time": "2022-08-02T16:55:08.376Z"
   },
   {
    "duration": 56,
    "start_time": "2022-08-02T16:55:08.415Z"
   },
   {
    "duration": 48,
    "start_time": "2022-08-02T16:55:08.473Z"
   },
   {
    "duration": 33,
    "start_time": "2022-08-02T16:55:08.523Z"
   },
   {
    "duration": 5,
    "start_time": "2022-08-02T16:55:08.558Z"
   },
   {
    "duration": 44,
    "start_time": "2022-08-02T16:55:08.565Z"
   },
   {
    "duration": 17,
    "start_time": "2022-08-02T16:55:08.611Z"
   },
   {
    "duration": 17,
    "start_time": "2022-08-02T16:55:08.631Z"
   },
   {
    "duration": 17,
    "start_time": "2022-08-02T16:55:08.650Z"
   },
   {
    "duration": 51,
    "start_time": "2022-08-02T16:55:08.668Z"
   },
   {
    "duration": 18,
    "start_time": "2022-08-02T16:55:08.721Z"
   },
   {
    "duration": 9,
    "start_time": "2022-08-02T16:55:08.741Z"
   },
   {
    "duration": 12,
    "start_time": "2022-08-02T16:55:08.753Z"
   },
   {
    "duration": 43,
    "start_time": "2022-08-02T16:55:08.767Z"
   },
   {
    "duration": 7,
    "start_time": "2022-08-02T16:55:08.813Z"
   },
   {
    "duration": 28,
    "start_time": "2022-08-02T16:55:08.823Z"
   },
   {
    "duration": 20,
    "start_time": "2022-08-02T16:55:08.854Z"
   },
   {
    "duration": 47,
    "start_time": "2022-08-02T16:55:08.876Z"
   },
   {
    "duration": 38,
    "start_time": "2022-08-02T16:55:08.926Z"
   },
   {
    "duration": 15,
    "start_time": "2022-08-02T16:55:08.967Z"
   },
   {
    "duration": 4,
    "start_time": "2022-08-02T16:55:08.985Z"
   },
   {
    "duration": 14,
    "start_time": "2022-08-02T16:55:08.991Z"
   },
   {
    "duration": 11,
    "start_time": "2022-08-02T16:55:09.007Z"
   },
   {
    "duration": 5822,
    "start_time": "2022-08-02T16:55:09.020Z"
   },
   {
    "duration": 374,
    "start_time": "2022-08-02T17:01:35.256Z"
   },
   {
    "duration": 182,
    "start_time": "2022-08-02T17:01:35.632Z"
   },
   {
    "duration": 19,
    "start_time": "2022-08-02T17:01:35.816Z"
   },
   {
    "duration": 30,
    "start_time": "2022-08-02T17:01:35.837Z"
   },
   {
    "duration": 4,
    "start_time": "2022-08-02T17:01:35.902Z"
   },
   {
    "duration": 25,
    "start_time": "2022-08-02T17:01:35.907Z"
   },
   {
    "duration": 17,
    "start_time": "2022-08-02T17:01:35.934Z"
   },
   {
    "duration": 50,
    "start_time": "2022-08-02T17:01:35.953Z"
   },
   {
    "duration": 31,
    "start_time": "2022-08-02T17:01:36.005Z"
   },
   {
    "duration": 24,
    "start_time": "2022-08-02T17:01:36.040Z"
   },
   {
    "duration": 107,
    "start_time": "2022-08-02T17:01:36.066Z"
   },
   {
    "duration": 108,
    "start_time": "2022-08-02T17:01:36.176Z"
   },
   {
    "duration": 76,
    "start_time": "2022-08-02T17:01:36.286Z"
   },
   {
    "duration": 65,
    "start_time": "2022-08-02T17:01:36.364Z"
   },
   {
    "duration": 4,
    "start_time": "2022-08-02T17:01:36.431Z"
   },
   {
    "duration": 22,
    "start_time": "2022-08-02T17:01:36.436Z"
   },
   {
    "duration": 60,
    "start_time": "2022-08-02T17:01:36.461Z"
   },
   {
    "duration": 34,
    "start_time": "2022-08-02T17:01:36.523Z"
   },
   {
    "duration": 66,
    "start_time": "2022-08-02T17:01:36.559Z"
   },
   {
    "duration": 5,
    "start_time": "2022-08-02T17:01:36.627Z"
   },
   {
    "duration": 53,
    "start_time": "2022-08-02T17:01:36.634Z"
   },
   {
    "duration": 25,
    "start_time": "2022-08-02T17:01:36.689Z"
   },
   {
    "duration": 21,
    "start_time": "2022-08-02T17:01:36.717Z"
   },
   {
    "duration": 15,
    "start_time": "2022-08-02T17:01:36.740Z"
   },
   {
    "duration": 58,
    "start_time": "2022-08-02T17:01:36.756Z"
   },
   {
    "duration": 17,
    "start_time": "2022-08-02T17:01:36.816Z"
   },
   {
    "duration": 9,
    "start_time": "2022-08-02T17:01:36.836Z"
   },
   {
    "duration": 61,
    "start_time": "2022-08-02T17:01:36.849Z"
   },
   {
    "duration": 13,
    "start_time": "2022-08-02T17:01:36.912Z"
   },
   {
    "duration": 5,
    "start_time": "2022-08-02T17:01:36.927Z"
   },
   {
    "duration": 33,
    "start_time": "2022-08-02T17:01:36.934Z"
   },
   {
    "duration": 14,
    "start_time": "2022-08-02T17:01:37.003Z"
   },
   {
    "duration": 18,
    "start_time": "2022-08-02T17:01:37.019Z"
   },
   {
    "duration": 13,
    "start_time": "2022-08-02T17:01:37.039Z"
   },
   {
    "duration": 57,
    "start_time": "2022-08-02T17:01:37.053Z"
   },
   {
    "duration": 10,
    "start_time": "2022-08-02T17:01:37.112Z"
   },
   {
    "duration": 8,
    "start_time": "2022-08-02T17:01:37.124Z"
   },
   {
    "duration": 5,
    "start_time": "2022-08-02T17:01:37.135Z"
   },
   {
    "duration": 5677,
    "start_time": "2022-08-02T17:01:37.142Z"
   },
   {
    "duration": 194,
    "start_time": "2022-08-02T17:01:42.821Z"
   },
   {
    "duration": 5,
    "start_time": "2022-08-02T17:02:10.469Z"
   },
   {
    "duration": 5,
    "start_time": "2022-08-02T17:02:15.791Z"
   },
   {
    "duration": 123,
    "start_time": "2022-08-02T17:02:20.561Z"
   },
   {
    "duration": 106,
    "start_time": "2022-08-02T17:05:12.478Z"
   },
   {
    "duration": 5,
    "start_time": "2022-08-02T17:05:35.795Z"
   },
   {
    "duration": 170,
    "start_time": "2022-08-02T17:05:41.834Z"
   },
   {
    "duration": 95,
    "start_time": "2022-08-02T17:07:06.054Z"
   },
   {
    "duration": 8,
    "start_time": "2022-08-11T00:53:55.116Z"
   },
   {
    "duration": 349,
    "start_time": "2022-08-11T00:56:18.558Z"
   },
   {
    "duration": 226,
    "start_time": "2022-08-11T00:56:18.909Z"
   },
   {
    "duration": 16,
    "start_time": "2022-08-11T00:56:19.136Z"
   },
   {
    "duration": 26,
    "start_time": "2022-08-11T00:56:19.154Z"
   },
   {
    "duration": 3,
    "start_time": "2022-08-11T00:56:19.181Z"
   },
   {
    "duration": 21,
    "start_time": "2022-08-11T00:56:19.186Z"
   },
   {
    "duration": 5,
    "start_time": "2022-08-11T00:56:19.209Z"
   },
   {
    "duration": 24,
    "start_time": "2022-08-11T00:56:19.215Z"
   },
   {
    "duration": 16,
    "start_time": "2022-08-11T00:56:19.240Z"
   },
   {
    "duration": 18,
    "start_time": "2022-08-11T00:56:19.258Z"
   },
   {
    "duration": 71,
    "start_time": "2022-08-11T00:56:19.277Z"
   },
   {
    "duration": 78,
    "start_time": "2022-08-11T00:56:19.349Z"
   },
   {
    "duration": 49,
    "start_time": "2022-08-11T00:56:19.429Z"
   },
   {
    "duration": 41,
    "start_time": "2022-08-11T00:56:19.480Z"
   },
   {
    "duration": 4,
    "start_time": "2022-08-11T00:56:19.522Z"
   },
   {
    "duration": 9,
    "start_time": "2022-08-11T00:56:19.527Z"
   },
   {
    "duration": 31,
    "start_time": "2022-08-11T00:56:19.538Z"
   },
   {
    "duration": 49,
    "start_time": "2022-08-11T00:56:19.571Z"
   },
   {
    "duration": 31,
    "start_time": "2022-08-11T00:56:19.621Z"
   },
   {
    "duration": 4,
    "start_time": "2022-08-11T00:56:19.653Z"
   },
   {
    "duration": 19,
    "start_time": "2022-08-11T00:56:19.659Z"
   },
   {
    "duration": 16,
    "start_time": "2022-08-11T00:56:19.700Z"
   },
   {
    "duration": 14,
    "start_time": "2022-08-11T00:56:19.718Z"
   },
   {
    "duration": 15,
    "start_time": "2022-08-11T00:56:19.735Z"
   },
   {
    "duration": 17,
    "start_time": "2022-08-11T00:56:19.751Z"
   },
   {
    "duration": 43,
    "start_time": "2022-08-11T00:56:19.769Z"
   },
   {
    "duration": 9,
    "start_time": "2022-08-11T00:56:19.814Z"
   },
   {
    "duration": 19,
    "start_time": "2022-08-11T00:56:19.826Z"
   },
   {
    "duration": 10,
    "start_time": "2022-08-11T00:56:19.846Z"
   },
   {
    "duration": 4,
    "start_time": "2022-08-11T00:56:19.858Z"
   },
   {
    "duration": 47,
    "start_time": "2022-08-11T00:56:19.864Z"
   },
   {
    "duration": 13,
    "start_time": "2022-08-11T00:56:19.912Z"
   },
   {
    "duration": 21,
    "start_time": "2022-08-11T00:56:19.926Z"
   },
   {
    "duration": 12,
    "start_time": "2022-08-11T00:56:19.949Z"
   },
   {
    "duration": 9,
    "start_time": "2022-08-11T00:56:19.962Z"
   },
   {
    "duration": 30,
    "start_time": "2022-08-11T00:56:19.972Z"
   },
   {
    "duration": 12,
    "start_time": "2022-08-11T00:56:20.004Z"
   },
   {
    "duration": 11,
    "start_time": "2022-08-11T00:56:20.018Z"
   }
  ],
  "colab": {
   "collapsed_sections": [
    "E0vqbgi9ay0H",
    "VUC88oWjTJw2"
   ],
   "name": "yandex_music_project_2021.2.ipynb",
   "provenance": []
  },
  "kernelspec": {
   "display_name": "Python 3 (ipykernel)",
   "language": "python",
   "name": "python3"
  },
  "language_info": {
   "codemirror_mode": {
    "name": "ipython",
    "version": 3
   },
   "file_extension": ".py",
   "mimetype": "text/x-python",
   "name": "python",
   "nbconvert_exporter": "python",
   "pygments_lexer": "ipython3",
   "version": "3.9.5"
  },
  "toc": {
   "base_numbering": 1,
   "nav_menu": {},
   "number_sections": true,
   "sideBar": true,
   "skip_h1_title": true,
   "title_cell": "Table of Contents",
   "title_sidebar": "Contents",
   "toc_cell": false,
   "toc_position": {
    "height": "760px",
    "left": "33px",
    "top": "111.125px",
    "width": "302.797px"
   },
   "toc_section_display": true,
   "toc_window_display": true
  }
 },
 "nbformat": 4,
 "nbformat_minor": 1
}
