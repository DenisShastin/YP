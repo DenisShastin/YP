{
 "cells": [
  {
   "cell_type": "markdown",
   "metadata": {},
   "source": [
    "# Определение перспективного тарифа для телеком-компании"
   ]
  },
  {
   "cell_type": "markdown",
   "metadata": {},
   "source": [
    "## Введение\n",
    "«Мегалайн» — федеральный оператор сотовой связи - предлагает клиентам два тарифных плана: «Смарт» и «Ультра». Чтобы скорректировать рекламный бюджет, коммерческий департамент хочет понять, какой тариф приносит больше денег.\n",
    "Ниже приведен предварительный анализ тарифов на небольшой выборке клиентов. Цель работы - проанализировать поведение клиентов и сделать вывод — какой тариф лучше.\n",
    "\n",
    "### Описание тарифов\n",
    "1. **Тариф «Смарт»**\n",
    "Ежемесячная плата: 550 рублей\n",
    "Включено 500 минут разговора, 50 сообщений и 15 Гб интернет-трафика\n",
    "Стоимость услуг сверх тарифного пакета:\n",
    "минута разговора: 3 рубля\n",
    "сообщение: 3 рубля\n",
    "1 Гб интернет-трафика: 200 рублей\n",
    "2. **Тариф «Ультра»**\n",
    "Ежемесячная плата: 1950 рублей\n",
    "Включено 3000 минут разговора, 1000 сообщений и 30 Гб интернет-трафика\n",
    "Стоимость услуг сверх тарифного пакета:\n",
    "минута разговора: 1 рубль\n",
    "сообщение: 1 рубль\n",
    "1 Гб интернет-трафика: 150 рублей\n",
    "\n",
    "###  Требуется проанализировать\n",
    "Описать поведение клиентов оператора исходя из выборки. Сколько минут разговора, сколько сообщений и какой объём интернет-трафика требуется пользователям каждого тарифа в месяц? Посчитать среднее количество, дисперсию и стандартное отклонение. Построить гистограммы. Описать распределения.\n",
    "\n",
    "###  Гипотезы, требующие проверки\n",
    "1. средняя выручка пользователей тарифов «Ультра» и «Смарт» различаются;\n",
    "2. средняя выручка пользователей из Москвы отличается от выручки пользователей из других регионов.\n",
    "\n",
    "Также требуется пояснить: \n",
    "1. как сформулированы нулевая и альтернативная гипотезы;\n",
    "2. какой критерий использован для проверки гипотез и почему."
   ]
  },
  {
   "cell_type": "markdown",
   "metadata": {},
   "source": [
    "## Изучение данных"
   ]
  },
  {
   "cell_type": "markdown",
   "metadata": {},
   "source": [
    "Заранее вызовем все библиотеки, которые потребуются в работе над проектом."
   ]
  },
  {
   "cell_type": "code",
   "execution_count": 62,
   "metadata": {},
   "outputs": [],
   "source": [
    "import pandas as pd\n",
    "import numpy as np\n",
    "import matplotlib.pyplot as plt\n",
    "import pylab as pl\n",
    "from datetime import datetime\n",
    "from scipy import stats as st\n",
    "from math import factorial"
   ]
  },
  {
   "cell_type": "markdown",
   "metadata": {},
   "source": [
    "Изучим приложенные датасеты: "
   ]
  },
  {
   "cell_type": "code",
   "execution_count": 63,
   "metadata": {},
   "outputs": [
    {
     "name": "stdout",
     "output_type": "stream",
     "text": [
      "<class 'pandas.core.frame.DataFrame'>\n",
      "RangeIndex: 202607 entries, 0 to 202606\n",
      "Data columns (total 4 columns):\n",
      " #   Column     Non-Null Count   Dtype  \n",
      "---  ------     --------------   -----  \n",
      " 0   id         202607 non-null  object \n",
      " 1   call_date  202607 non-null  object \n",
      " 2   duration   202607 non-null  float64\n",
      " 3   user_id    202607 non-null  int64  \n",
      "dtypes: float64(1), int64(1), object(2)\n",
      "memory usage: 6.2+ MB\n"
     ]
    }
   ],
   "source": [
    "df_calls = pd.read_csv('/datasets/calls.csv',sep=',')\n",
    "df_calls.info()"
   ]
  },
  {
   "cell_type": "code",
   "execution_count": 64,
   "metadata": {},
   "outputs": [
    {
     "data": {
      "text/html": [
       "<div>\n",
       "<style scoped>\n",
       "    .dataframe tbody tr th:only-of-type {\n",
       "        vertical-align: middle;\n",
       "    }\n",
       "\n",
       "    .dataframe tbody tr th {\n",
       "        vertical-align: top;\n",
       "    }\n",
       "\n",
       "    .dataframe thead th {\n",
       "        text-align: right;\n",
       "    }\n",
       "</style>\n",
       "<table border=\"1\" class=\"dataframe\">\n",
       "  <thead>\n",
       "    <tr style=\"text-align: right;\">\n",
       "      <th></th>\n",
       "      <th>id</th>\n",
       "      <th>call_date</th>\n",
       "      <th>duration</th>\n",
       "      <th>user_id</th>\n",
       "    </tr>\n",
       "  </thead>\n",
       "  <tbody>\n",
       "    <tr>\n",
       "      <th>0</th>\n",
       "      <td>1000_0</td>\n",
       "      <td>2018-07-25</td>\n",
       "      <td>0.00</td>\n",
       "      <td>1000</td>\n",
       "    </tr>\n",
       "    <tr>\n",
       "      <th>1</th>\n",
       "      <td>1000_1</td>\n",
       "      <td>2018-08-17</td>\n",
       "      <td>0.00</td>\n",
       "      <td>1000</td>\n",
       "    </tr>\n",
       "    <tr>\n",
       "      <th>2</th>\n",
       "      <td>1000_2</td>\n",
       "      <td>2018-06-11</td>\n",
       "      <td>2.85</td>\n",
       "      <td>1000</td>\n",
       "    </tr>\n",
       "    <tr>\n",
       "      <th>3</th>\n",
       "      <td>1000_3</td>\n",
       "      <td>2018-09-21</td>\n",
       "      <td>13.80</td>\n",
       "      <td>1000</td>\n",
       "    </tr>\n",
       "    <tr>\n",
       "      <th>4</th>\n",
       "      <td>1000_4</td>\n",
       "      <td>2018-12-15</td>\n",
       "      <td>5.18</td>\n",
       "      <td>1000</td>\n",
       "    </tr>\n",
       "  </tbody>\n",
       "</table>\n",
       "</div>"
      ],
      "text/plain": [
       "       id   call_date  duration  user_id\n",
       "0  1000_0  2018-07-25      0.00     1000\n",
       "1  1000_1  2018-08-17      0.00     1000\n",
       "2  1000_2  2018-06-11      2.85     1000\n",
       "3  1000_3  2018-09-21     13.80     1000\n",
       "4  1000_4  2018-12-15      5.18     1000"
      ]
     },
     "metadata": {},
     "output_type": "display_data"
    }
   ],
   "source": [
    "display(df_calls.head())"
   ]
  },
  {
   "cell_type": "code",
   "execution_count": 65,
   "metadata": {},
   "outputs": [
    {
     "name": "stdout",
     "output_type": "stream",
     "text": [
      "<class 'pandas.core.frame.DataFrame'>\n",
      "RangeIndex: 149396 entries, 0 to 149395\n",
      "Data columns (total 5 columns):\n",
      " #   Column        Non-Null Count   Dtype  \n",
      "---  ------        --------------   -----  \n",
      " 0   Unnamed: 0    149396 non-null  int64  \n",
      " 1   id            149396 non-null  object \n",
      " 2   mb_used       149396 non-null  float64\n",
      " 3   session_date  149396 non-null  object \n",
      " 4   user_id       149396 non-null  int64  \n",
      "dtypes: float64(1), int64(2), object(2)\n",
      "memory usage: 5.7+ MB\n"
     ]
    }
   ],
   "source": [
    "df_internet = pd.read_csv('/datasets/internet.csv',sep=',')\n",
    "df_internet.info()"
   ]
  },
  {
   "cell_type": "code",
   "execution_count": 66,
   "metadata": {},
   "outputs": [
    {
     "data": {
      "text/html": [
       "<div>\n",
       "<style scoped>\n",
       "    .dataframe tbody tr th:only-of-type {\n",
       "        vertical-align: middle;\n",
       "    }\n",
       "\n",
       "    .dataframe tbody tr th {\n",
       "        vertical-align: top;\n",
       "    }\n",
       "\n",
       "    .dataframe thead th {\n",
       "        text-align: right;\n",
       "    }\n",
       "</style>\n",
       "<table border=\"1\" class=\"dataframe\">\n",
       "  <thead>\n",
       "    <tr style=\"text-align: right;\">\n",
       "      <th></th>\n",
       "      <th>Unnamed: 0</th>\n",
       "      <th>id</th>\n",
       "      <th>mb_used</th>\n",
       "      <th>session_date</th>\n",
       "      <th>user_id</th>\n",
       "    </tr>\n",
       "  </thead>\n",
       "  <tbody>\n",
       "    <tr>\n",
       "      <th>0</th>\n",
       "      <td>0</td>\n",
       "      <td>1000_0</td>\n",
       "      <td>112.95</td>\n",
       "      <td>2018-11-25</td>\n",
       "      <td>1000</td>\n",
       "    </tr>\n",
       "    <tr>\n",
       "      <th>1</th>\n",
       "      <td>1</td>\n",
       "      <td>1000_1</td>\n",
       "      <td>1052.81</td>\n",
       "      <td>2018-09-07</td>\n",
       "      <td>1000</td>\n",
       "    </tr>\n",
       "    <tr>\n",
       "      <th>2</th>\n",
       "      <td>2</td>\n",
       "      <td>1000_2</td>\n",
       "      <td>1197.26</td>\n",
       "      <td>2018-06-25</td>\n",
       "      <td>1000</td>\n",
       "    </tr>\n",
       "    <tr>\n",
       "      <th>3</th>\n",
       "      <td>3</td>\n",
       "      <td>1000_3</td>\n",
       "      <td>550.27</td>\n",
       "      <td>2018-08-22</td>\n",
       "      <td>1000</td>\n",
       "    </tr>\n",
       "    <tr>\n",
       "      <th>4</th>\n",
       "      <td>4</td>\n",
       "      <td>1000_4</td>\n",
       "      <td>302.56</td>\n",
       "      <td>2018-09-24</td>\n",
       "      <td>1000</td>\n",
       "    </tr>\n",
       "  </tbody>\n",
       "</table>\n",
       "</div>"
      ],
      "text/plain": [
       "   Unnamed: 0      id  mb_used session_date  user_id\n",
       "0           0  1000_0   112.95   2018-11-25     1000\n",
       "1           1  1000_1  1052.81   2018-09-07     1000\n",
       "2           2  1000_2  1197.26   2018-06-25     1000\n",
       "3           3  1000_3   550.27   2018-08-22     1000\n",
       "4           4  1000_4   302.56   2018-09-24     1000"
      ]
     },
     "metadata": {},
     "output_type": "display_data"
    }
   ],
   "source": [
    "display(df_internet.head())"
   ]
  },
  {
   "cell_type": "code",
   "execution_count": 67,
   "metadata": {},
   "outputs": [
    {
     "name": "stdout",
     "output_type": "stream",
     "text": [
      "<class 'pandas.core.frame.DataFrame'>\n",
      "RangeIndex: 123036 entries, 0 to 123035\n",
      "Data columns (total 3 columns):\n",
      " #   Column        Non-Null Count   Dtype \n",
      "---  ------        --------------   ----- \n",
      " 0   id            123036 non-null  object\n",
      " 1   message_date  123036 non-null  object\n",
      " 2   user_id       123036 non-null  int64 \n",
      "dtypes: int64(1), object(2)\n",
      "memory usage: 2.8+ MB\n"
     ]
    }
   ],
   "source": [
    "df_messages = pd.read_csv('/datasets/messages.csv',sep=',')\n",
    "df_messages.info()"
   ]
  },
  {
   "cell_type": "code",
   "execution_count": 68,
   "metadata": {},
   "outputs": [
    {
     "data": {
      "text/html": [
       "<div>\n",
       "<style scoped>\n",
       "    .dataframe tbody tr th:only-of-type {\n",
       "        vertical-align: middle;\n",
       "    }\n",
       "\n",
       "    .dataframe tbody tr th {\n",
       "        vertical-align: top;\n",
       "    }\n",
       "\n",
       "    .dataframe thead th {\n",
       "        text-align: right;\n",
       "    }\n",
       "</style>\n",
       "<table border=\"1\" class=\"dataframe\">\n",
       "  <thead>\n",
       "    <tr style=\"text-align: right;\">\n",
       "      <th></th>\n",
       "      <th>id</th>\n",
       "      <th>message_date</th>\n",
       "      <th>user_id</th>\n",
       "    </tr>\n",
       "  </thead>\n",
       "  <tbody>\n",
       "    <tr>\n",
       "      <th>0</th>\n",
       "      <td>1000_0</td>\n",
       "      <td>2018-06-27</td>\n",
       "      <td>1000</td>\n",
       "    </tr>\n",
       "    <tr>\n",
       "      <th>1</th>\n",
       "      <td>1000_1</td>\n",
       "      <td>2018-10-08</td>\n",
       "      <td>1000</td>\n",
       "    </tr>\n",
       "    <tr>\n",
       "      <th>2</th>\n",
       "      <td>1000_2</td>\n",
       "      <td>2018-08-04</td>\n",
       "      <td>1000</td>\n",
       "    </tr>\n",
       "    <tr>\n",
       "      <th>3</th>\n",
       "      <td>1000_3</td>\n",
       "      <td>2018-06-16</td>\n",
       "      <td>1000</td>\n",
       "    </tr>\n",
       "    <tr>\n",
       "      <th>4</th>\n",
       "      <td>1000_4</td>\n",
       "      <td>2018-12-05</td>\n",
       "      <td>1000</td>\n",
       "    </tr>\n",
       "  </tbody>\n",
       "</table>\n",
       "</div>"
      ],
      "text/plain": [
       "       id message_date  user_id\n",
       "0  1000_0   2018-06-27     1000\n",
       "1  1000_1   2018-10-08     1000\n",
       "2  1000_2   2018-08-04     1000\n",
       "3  1000_3   2018-06-16     1000\n",
       "4  1000_4   2018-12-05     1000"
      ]
     },
     "metadata": {},
     "output_type": "display_data"
    }
   ],
   "source": [
    "display(df_messages.head())"
   ]
  },
  {
   "cell_type": "code",
   "execution_count": 69,
   "metadata": {},
   "outputs": [
    {
     "name": "stdout",
     "output_type": "stream",
     "text": [
      "<class 'pandas.core.frame.DataFrame'>\n",
      "RangeIndex: 2 entries, 0 to 1\n",
      "Data columns (total 8 columns):\n",
      " #   Column                 Non-Null Count  Dtype \n",
      "---  ------                 --------------  ----- \n",
      " 0   messages_included      2 non-null      int64 \n",
      " 1   mb_per_month_included  2 non-null      int64 \n",
      " 2   minutes_included       2 non-null      int64 \n",
      " 3   rub_monthly_fee        2 non-null      int64 \n",
      " 4   rub_per_gb             2 non-null      int64 \n",
      " 5   rub_per_message        2 non-null      int64 \n",
      " 6   rub_per_minute         2 non-null      int64 \n",
      " 7   tariff_name            2 non-null      object\n",
      "dtypes: int64(7), object(1)\n",
      "memory usage: 256.0+ bytes\n"
     ]
    }
   ],
   "source": [
    "df_tariffs = pd.read_csv('/datasets/tariffs.csv',sep=',')\n",
    "df_tariffs.info()"
   ]
  },
  {
   "cell_type": "code",
   "execution_count": 70,
   "metadata": {},
   "outputs": [
    {
     "data": {
      "text/html": [
       "<div>\n",
       "<style scoped>\n",
       "    .dataframe tbody tr th:only-of-type {\n",
       "        vertical-align: middle;\n",
       "    }\n",
       "\n",
       "    .dataframe tbody tr th {\n",
       "        vertical-align: top;\n",
       "    }\n",
       "\n",
       "    .dataframe thead th {\n",
       "        text-align: right;\n",
       "    }\n",
       "</style>\n",
       "<table border=\"1\" class=\"dataframe\">\n",
       "  <thead>\n",
       "    <tr style=\"text-align: right;\">\n",
       "      <th></th>\n",
       "      <th>messages_included</th>\n",
       "      <th>mb_per_month_included</th>\n",
       "      <th>minutes_included</th>\n",
       "      <th>rub_monthly_fee</th>\n",
       "      <th>rub_per_gb</th>\n",
       "      <th>rub_per_message</th>\n",
       "      <th>rub_per_minute</th>\n",
       "      <th>tariff_name</th>\n",
       "    </tr>\n",
       "  </thead>\n",
       "  <tbody>\n",
       "    <tr>\n",
       "      <th>0</th>\n",
       "      <td>50</td>\n",
       "      <td>15360</td>\n",
       "      <td>500</td>\n",
       "      <td>550</td>\n",
       "      <td>200</td>\n",
       "      <td>3</td>\n",
       "      <td>3</td>\n",
       "      <td>smart</td>\n",
       "    </tr>\n",
       "    <tr>\n",
       "      <th>1</th>\n",
       "      <td>1000</td>\n",
       "      <td>30720</td>\n",
       "      <td>3000</td>\n",
       "      <td>1950</td>\n",
       "      <td>150</td>\n",
       "      <td>1</td>\n",
       "      <td>1</td>\n",
       "      <td>ultra</td>\n",
       "    </tr>\n",
       "  </tbody>\n",
       "</table>\n",
       "</div>"
      ],
      "text/plain": [
       "   messages_included  mb_per_month_included  minutes_included  \\\n",
       "0                 50                  15360               500   \n",
       "1               1000                  30720              3000   \n",
       "\n",
       "   rub_monthly_fee  rub_per_gb  rub_per_message  rub_per_minute tariff_name  \n",
       "0              550         200                3               3       smart  \n",
       "1             1950         150                1               1       ultra  "
      ]
     },
     "metadata": {},
     "output_type": "display_data"
    }
   ],
   "source": [
    "display(df_tariffs.head())"
   ]
  },
  {
   "cell_type": "code",
   "execution_count": 71,
   "metadata": {},
   "outputs": [
    {
     "name": "stdout",
     "output_type": "stream",
     "text": [
      "<class 'pandas.core.frame.DataFrame'>\n",
      "RangeIndex: 500 entries, 0 to 499\n",
      "Data columns (total 8 columns):\n",
      " #   Column      Non-Null Count  Dtype \n",
      "---  ------      --------------  ----- \n",
      " 0   user_id     500 non-null    int64 \n",
      " 1   age         500 non-null    int64 \n",
      " 2   churn_date  38 non-null     object\n",
      " 3   city        500 non-null    object\n",
      " 4   first_name  500 non-null    object\n",
      " 5   last_name   500 non-null    object\n",
      " 6   reg_date    500 non-null    object\n",
      " 7   tariff      500 non-null    object\n",
      "dtypes: int64(2), object(6)\n",
      "memory usage: 31.4+ KB\n"
     ]
    }
   ],
   "source": [
    "df_users = pd.read_csv('/datasets/users.csv',sep=',')\n",
    "df_users.info()"
   ]
  },
  {
   "cell_type": "code",
   "execution_count": 72,
   "metadata": {},
   "outputs": [
    {
     "data": {
      "text/html": [
       "<div>\n",
       "<style scoped>\n",
       "    .dataframe tbody tr th:only-of-type {\n",
       "        vertical-align: middle;\n",
       "    }\n",
       "\n",
       "    .dataframe tbody tr th {\n",
       "        vertical-align: top;\n",
       "    }\n",
       "\n",
       "    .dataframe thead th {\n",
       "        text-align: right;\n",
       "    }\n",
       "</style>\n",
       "<table border=\"1\" class=\"dataframe\">\n",
       "  <thead>\n",
       "    <tr style=\"text-align: right;\">\n",
       "      <th></th>\n",
       "      <th>user_id</th>\n",
       "      <th>age</th>\n",
       "      <th>churn_date</th>\n",
       "      <th>city</th>\n",
       "      <th>first_name</th>\n",
       "      <th>last_name</th>\n",
       "      <th>reg_date</th>\n",
       "      <th>tariff</th>\n",
       "    </tr>\n",
       "  </thead>\n",
       "  <tbody>\n",
       "    <tr>\n",
       "      <th>0</th>\n",
       "      <td>1000</td>\n",
       "      <td>52</td>\n",
       "      <td>NaN</td>\n",
       "      <td>Краснодар</td>\n",
       "      <td>Рафаил</td>\n",
       "      <td>Верещагин</td>\n",
       "      <td>2018-05-25</td>\n",
       "      <td>ultra</td>\n",
       "    </tr>\n",
       "    <tr>\n",
       "      <th>1</th>\n",
       "      <td>1001</td>\n",
       "      <td>41</td>\n",
       "      <td>NaN</td>\n",
       "      <td>Москва</td>\n",
       "      <td>Иван</td>\n",
       "      <td>Ежов</td>\n",
       "      <td>2018-11-01</td>\n",
       "      <td>smart</td>\n",
       "    </tr>\n",
       "    <tr>\n",
       "      <th>2</th>\n",
       "      <td>1002</td>\n",
       "      <td>59</td>\n",
       "      <td>NaN</td>\n",
       "      <td>Стерлитамак</td>\n",
       "      <td>Евгений</td>\n",
       "      <td>Абрамович</td>\n",
       "      <td>2018-06-17</td>\n",
       "      <td>smart</td>\n",
       "    </tr>\n",
       "    <tr>\n",
       "      <th>3</th>\n",
       "      <td>1003</td>\n",
       "      <td>23</td>\n",
       "      <td>NaN</td>\n",
       "      <td>Москва</td>\n",
       "      <td>Белла</td>\n",
       "      <td>Белякова</td>\n",
       "      <td>2018-08-17</td>\n",
       "      <td>ultra</td>\n",
       "    </tr>\n",
       "    <tr>\n",
       "      <th>4</th>\n",
       "      <td>1004</td>\n",
       "      <td>68</td>\n",
       "      <td>NaN</td>\n",
       "      <td>Новокузнецк</td>\n",
       "      <td>Татьяна</td>\n",
       "      <td>Авдеенко</td>\n",
       "      <td>2018-05-14</td>\n",
       "      <td>ultra</td>\n",
       "    </tr>\n",
       "  </tbody>\n",
       "</table>\n",
       "</div>"
      ],
      "text/plain": [
       "   user_id  age churn_date         city first_name  last_name    reg_date  \\\n",
       "0     1000   52        NaN    Краснодар     Рафаил  Верещагин  2018-05-25   \n",
       "1     1001   41        NaN       Москва       Иван       Ежов  2018-11-01   \n",
       "2     1002   59        NaN  Стерлитамак    Евгений  Абрамович  2018-06-17   \n",
       "3     1003   23        NaN       Москва      Белла   Белякова  2018-08-17   \n",
       "4     1004   68        NaN  Новокузнецк    Татьяна   Авдеенко  2018-05-14   \n",
       "\n",
       "  tariff  \n",
       "0  ultra  \n",
       "1  smart  \n",
       "2  smart  \n",
       "3  ultra  \n",
       "4  ultra  "
      ]
     },
     "metadata": {},
     "output_type": "display_data"
    }
   ],
   "source": [
    "display(df_users.head())"
   ]
  },
  {
   "cell_type": "markdown",
   "metadata": {},
   "source": [
    "**Выводы**: \n",
    "1. требуется объединить данные в один датасет для удобства работы, общий идентификатор - *user_id* и *месяц*\n",
    "2. требуется изменить тип части данных (object - в datetime, float - в int) для успешной работы методов и для уменьшения объема занимаемой памяти,\n",
    "3. пропусков немного, требуется более детально их изучить."
   ]
  },
  {
   "cell_type": "markdown",
   "metadata": {},
   "source": [
    "## Подготовка данных"
   ]
  },
  {
   "cell_type": "markdown",
   "metadata": {},
   "source": [
    "### Длительность вызова"
   ]
  },
  {
   "cell_type": "markdown",
   "metadata": {},
   "source": [
    "Добавим столбец *month* в датасет *calls* по дате вызова.\n",
    "Округлим значение длительности вызова согласно условиям тарифа.\n",
    "Изучим данные."
   ]
  },
  {
   "cell_type": "code",
   "execution_count": 73,
   "metadata": {},
   "outputs": [
    {
     "data": {
      "text/plain": [
       "12    33987\n",
       "11    29501\n",
       "10    27146\n",
       "9     24061\n",
       "8     21488\n",
       "7     18298\n",
       "6     14716\n",
       "5     12647\n",
       "4      9272\n",
       "3      6687\n",
       "2      3328\n",
       "1      1476\n",
       "Name: month, dtype: int64"
      ]
     },
     "execution_count": 73,
     "metadata": {},
     "output_type": "execute_result"
    }
   ],
   "source": [
    "df_calls['month'] = pd.DatetimeIndex(df_calls['call_date']).month\n",
    "df_calls['duration']=np.ceil(df_calls['duration'])\n",
    "df_calls['month'].value_counts()"
   ]
  },
  {
   "cell_type": "markdown",
   "metadata": {},
   "source": [
    "Сгруппируем длительность вызовов по *user_id* и *month*, получим длительность разговоров помесячно по пользователям. "
   ]
  },
  {
   "cell_type": "code",
   "execution_count": 74,
   "metadata": {},
   "outputs": [],
   "source": [
    "df_calls_grouped = df_calls.groupby(['user_id','month'])['duration'].sum().reset_index()"
   ]
  },
  {
   "cell_type": "markdown",
   "metadata": {},
   "source": [
    "### Трафик Мб"
   ]
  },
  {
   "cell_type": "markdown",
   "metadata": {},
   "source": [
    "Добавим столбец *month* в датасет *internet* по дате сессии в сети интернет.\n",
    "Изучим данные."
   ]
  },
  {
   "cell_type": "code",
   "execution_count": 75,
   "metadata": {},
   "outputs": [
    {
     "data": {
      "text/plain": [
       "12    24799\n",
       "11    21817\n",
       "10    20009\n",
       "9     17512\n",
       "8     16092\n",
       "7     13548\n",
       "6     11057\n",
       "5      9408\n",
       "4      6511\n",
       "3      4885\n",
       "2      2641\n",
       "1      1117\n",
       "Name: month, dtype: int64"
      ]
     },
     "execution_count": 75,
     "metadata": {},
     "output_type": "execute_result"
    }
   ],
   "source": [
    "df_internet['month'] = pd.DatetimeIndex(df_internet['session_date']).month\n",
    "df_internet['month'].value_counts()"
   ]
  },
  {
   "cell_type": "markdown",
   "metadata": {},
   "source": [
    "Сгруппируем количество Мб по *user_id* и *month*, получим расход трафика в МБ помесячно по пользователям. "
   ]
  },
  {
   "cell_type": "code",
   "execution_count": 76,
   "metadata": {},
   "outputs": [],
   "source": [
    "df_internet_grouped = df_internet.groupby(['user_id','month'])['mb_used'].sum().reset_index()"
   ]
  },
  {
   "cell_type": "markdown",
   "metadata": {},
   "source": [
    "### Число сообщений"
   ]
  },
  {
   "cell_type": "markdown",
   "metadata": {},
   "source": [
    "Добавим столбец *month* в датасет *message* по дате сообщения.\n",
    "Изучим данные."
   ]
  },
  {
   "cell_type": "code",
   "execution_count": 77,
   "metadata": {},
   "outputs": [
    {
     "data": {
      "text/plain": [
       "12    20555\n",
       "11    18244\n",
       "10    17114\n",
       "9     14759\n",
       "8     13088\n",
       "7     11320\n",
       "6      8983\n",
       "5      7298\n",
       "4      5179\n",
       "3      3648\n",
       "2      1924\n",
       "1       924\n",
       "Name: month, dtype: int64"
      ]
     },
     "execution_count": 77,
     "metadata": {},
     "output_type": "execute_result"
    }
   ],
   "source": [
    "df_messages['month'] = pd.DatetimeIndex(df_messages['message_date']).month\n",
    "df_messages['month'].value_counts()"
   ]
  },
  {
   "cell_type": "markdown",
   "metadata": {},
   "source": [
    "Посчитаем количество сообщений по *user_id* и *month*, получим количество сообщений помесячно по пользователям. "
   ]
  },
  {
   "cell_type": "code",
   "execution_count": 78,
   "metadata": {},
   "outputs": [],
   "source": [
    "df_messages_grouped = df_messages.groupby(['user_id','month'])['id'].count().reset_index()"
   ]
  },
  {
   "cell_type": "markdown",
   "metadata": {},
   "source": [
    "### Объединение датасетов"
   ]
  },
  {
   "cell_type": "markdown",
   "metadata": {},
   "source": [
    "Поэтапно смёрджим датасеты по паре *user_id* и *month*"
   ]
  },
  {
   "cell_type": "code",
   "execution_count": 79,
   "metadata": {},
   "outputs": [
    {
     "data": {
      "text/html": [
       "<div>\n",
       "<style scoped>\n",
       "    .dataframe tbody tr th:only-of-type {\n",
       "        vertical-align: middle;\n",
       "    }\n",
       "\n",
       "    .dataframe tbody tr th {\n",
       "        vertical-align: top;\n",
       "    }\n",
       "\n",
       "    .dataframe thead th {\n",
       "        text-align: right;\n",
       "    }\n",
       "</style>\n",
       "<table border=\"1\" class=\"dataframe\">\n",
       "  <thead>\n",
       "    <tr style=\"text-align: right;\">\n",
       "      <th></th>\n",
       "      <th>user_id</th>\n",
       "      <th>month</th>\n",
       "      <th>duration</th>\n",
       "      <th>mb_used</th>\n",
       "      <th>id</th>\n",
       "    </tr>\n",
       "  </thead>\n",
       "  <tbody>\n",
       "    <tr>\n",
       "      <th>0</th>\n",
       "      <td>1000</td>\n",
       "      <td>5</td>\n",
       "      <td>159.0</td>\n",
       "      <td>2253.49</td>\n",
       "      <td>22.0</td>\n",
       "    </tr>\n",
       "    <tr>\n",
       "      <th>1</th>\n",
       "      <td>1000</td>\n",
       "      <td>6</td>\n",
       "      <td>172.0</td>\n",
       "      <td>23233.77</td>\n",
       "      <td>60.0</td>\n",
       "    </tr>\n",
       "    <tr>\n",
       "      <th>2</th>\n",
       "      <td>1000</td>\n",
       "      <td>7</td>\n",
       "      <td>340.0</td>\n",
       "      <td>14003.64</td>\n",
       "      <td>75.0</td>\n",
       "    </tr>\n",
       "    <tr>\n",
       "      <th>3</th>\n",
       "      <td>1000</td>\n",
       "      <td>8</td>\n",
       "      <td>408.0</td>\n",
       "      <td>14055.93</td>\n",
       "      <td>81.0</td>\n",
       "    </tr>\n",
       "    <tr>\n",
       "      <th>4</th>\n",
       "      <td>1000</td>\n",
       "      <td>9</td>\n",
       "      <td>466.0</td>\n",
       "      <td>14568.91</td>\n",
       "      <td>57.0</td>\n",
       "    </tr>\n",
       "  </tbody>\n",
       "</table>\n",
       "</div>"
      ],
      "text/plain": [
       "   user_id  month  duration   mb_used    id\n",
       "0     1000      5     159.0   2253.49  22.0\n",
       "1     1000      6     172.0  23233.77  60.0\n",
       "2     1000      7     340.0  14003.64  75.0\n",
       "3     1000      8     408.0  14055.93  81.0\n",
       "4     1000      9     466.0  14568.91  57.0"
      ]
     },
     "metadata": {},
     "output_type": "display_data"
    }
   ],
   "source": [
    "df = df_calls_grouped.merge(df_internet_grouped, on = ['user_id','month'], how = 'outer')\n",
    "df = df.merge(df_messages_grouped,on = ['user_id','month'], how='outer')\n",
    "display(df.head())"
   ]
  },
  {
   "cell_type": "code",
   "execution_count": 80,
   "metadata": {},
   "outputs": [
    {
     "name": "stdout",
     "output_type": "stream",
     "text": [
      "<class 'pandas.core.frame.DataFrame'>\n",
      "Int64Index: 3214 entries, 0 to 3213\n",
      "Data columns (total 5 columns):\n",
      " #   Column    Non-Null Count  Dtype  \n",
      "---  ------    --------------  -----  \n",
      " 0   user_id   3214 non-null   int64  \n",
      " 1   month     3214 non-null   int64  \n",
      " 2   duration  3174 non-null   float64\n",
      " 3   mb_used   3203 non-null   float64\n",
      " 4   id        2717 non-null   float64\n",
      "dtypes: float64(3), int64(2)\n",
      "memory usage: 150.7 KB\n"
     ]
    }
   ],
   "source": [
    "df.info()"
   ]
  },
  {
   "cell_type": "code",
   "execution_count": 81,
   "metadata": {},
   "outputs": [
    {
     "data": {
      "text/html": [
       "<div>\n",
       "<style scoped>\n",
       "    .dataframe tbody tr th:only-of-type {\n",
       "        vertical-align: middle;\n",
       "    }\n",
       "\n",
       "    .dataframe tbody tr th {\n",
       "        vertical-align: top;\n",
       "    }\n",
       "\n",
       "    .dataframe thead th {\n",
       "        text-align: right;\n",
       "    }\n",
       "</style>\n",
       "<table border=\"1\" class=\"dataframe\">\n",
       "  <thead>\n",
       "    <tr style=\"text-align: right;\">\n",
       "      <th></th>\n",
       "      <th>user_id</th>\n",
       "      <th>month</th>\n",
       "      <th>duration</th>\n",
       "      <th>mb_used</th>\n",
       "      <th>id</th>\n",
       "      <th>age</th>\n",
       "      <th>churn_date</th>\n",
       "      <th>city</th>\n",
       "      <th>first_name</th>\n",
       "      <th>last_name</th>\n",
       "      <th>reg_date</th>\n",
       "      <th>tariff</th>\n",
       "    </tr>\n",
       "  </thead>\n",
       "  <tbody>\n",
       "    <tr>\n",
       "      <th>0</th>\n",
       "      <td>1000</td>\n",
       "      <td>5</td>\n",
       "      <td>159.0</td>\n",
       "      <td>2253.49</td>\n",
       "      <td>22.0</td>\n",
       "      <td>52</td>\n",
       "      <td>NaN</td>\n",
       "      <td>Краснодар</td>\n",
       "      <td>Рафаил</td>\n",
       "      <td>Верещагин</td>\n",
       "      <td>2018-05-25</td>\n",
       "      <td>ultra</td>\n",
       "    </tr>\n",
       "    <tr>\n",
       "      <th>1</th>\n",
       "      <td>1000</td>\n",
       "      <td>6</td>\n",
       "      <td>172.0</td>\n",
       "      <td>23233.77</td>\n",
       "      <td>60.0</td>\n",
       "      <td>52</td>\n",
       "      <td>NaN</td>\n",
       "      <td>Краснодар</td>\n",
       "      <td>Рафаил</td>\n",
       "      <td>Верещагин</td>\n",
       "      <td>2018-05-25</td>\n",
       "      <td>ultra</td>\n",
       "    </tr>\n",
       "    <tr>\n",
       "      <th>2</th>\n",
       "      <td>1000</td>\n",
       "      <td>7</td>\n",
       "      <td>340.0</td>\n",
       "      <td>14003.64</td>\n",
       "      <td>75.0</td>\n",
       "      <td>52</td>\n",
       "      <td>NaN</td>\n",
       "      <td>Краснодар</td>\n",
       "      <td>Рафаил</td>\n",
       "      <td>Верещагин</td>\n",
       "      <td>2018-05-25</td>\n",
       "      <td>ultra</td>\n",
       "    </tr>\n",
       "    <tr>\n",
       "      <th>3</th>\n",
       "      <td>1000</td>\n",
       "      <td>8</td>\n",
       "      <td>408.0</td>\n",
       "      <td>14055.93</td>\n",
       "      <td>81.0</td>\n",
       "      <td>52</td>\n",
       "      <td>NaN</td>\n",
       "      <td>Краснодар</td>\n",
       "      <td>Рафаил</td>\n",
       "      <td>Верещагин</td>\n",
       "      <td>2018-05-25</td>\n",
       "      <td>ultra</td>\n",
       "    </tr>\n",
       "    <tr>\n",
       "      <th>4</th>\n",
       "      <td>1000</td>\n",
       "      <td>9</td>\n",
       "      <td>466.0</td>\n",
       "      <td>14568.91</td>\n",
       "      <td>57.0</td>\n",
       "      <td>52</td>\n",
       "      <td>NaN</td>\n",
       "      <td>Краснодар</td>\n",
       "      <td>Рафаил</td>\n",
       "      <td>Верещагин</td>\n",
       "      <td>2018-05-25</td>\n",
       "      <td>ultra</td>\n",
       "    </tr>\n",
       "  </tbody>\n",
       "</table>\n",
       "</div>"
      ],
      "text/plain": [
       "   user_id  month  duration   mb_used    id  age churn_date       city  \\\n",
       "0     1000      5     159.0   2253.49  22.0   52        NaN  Краснодар   \n",
       "1     1000      6     172.0  23233.77  60.0   52        NaN  Краснодар   \n",
       "2     1000      7     340.0  14003.64  75.0   52        NaN  Краснодар   \n",
       "3     1000      8     408.0  14055.93  81.0   52        NaN  Краснодар   \n",
       "4     1000      9     466.0  14568.91  57.0   52        NaN  Краснодар   \n",
       "\n",
       "  first_name  last_name    reg_date tariff  \n",
       "0     Рафаил  Верещагин  2018-05-25  ultra  \n",
       "1     Рафаил  Верещагин  2018-05-25  ultra  \n",
       "2     Рафаил  Верещагин  2018-05-25  ultra  \n",
       "3     Рафаил  Верещагин  2018-05-25  ultra  \n",
       "4     Рафаил  Верещагин  2018-05-25  ultra  "
      ]
     },
     "metadata": {},
     "output_type": "display_data"
    }
   ],
   "source": [
    "df = df.merge(df_users,on=['user_id'],how='left')\n",
    "display(df.head())"
   ]
  },
  {
   "cell_type": "markdown",
   "metadata": {},
   "source": [
    "### Добавление, дроп и переименование столбцов, расчет выручки"
   ]
  },
  {
   "cell_type": "markdown",
   "metadata": {},
   "source": [
    "Добавим столбец *gb_used*, взяв целую часть от деления трафика в Мб на 1024 и прибавив 0 или 1 в зависимости от того, целочисленный остаток или нет (воспользовавшись проверкой, которая дает буллиевы значения)."
   ]
  },
  {
   "cell_type": "code",
   "execution_count": 82,
   "metadata": {},
   "outputs": [],
   "source": [
    "df['gb_used'] = (df['mb_used']//1024) + ((df['mb_used']%1024) > 0)\n",
    "df = df.drop(columns=['mb_used'])"
   ]
  },
  {
   "cell_type": "markdown",
   "metadata": {},
   "source": [
    "Проверим, что столбец *gb_used* прикреплен должным образом."
   ]
  },
  {
   "cell_type": "code",
   "execution_count": 83,
   "metadata": {},
   "outputs": [
    {
     "data": {
      "text/html": [
       "<div>\n",
       "<style scoped>\n",
       "    .dataframe tbody tr th:only-of-type {\n",
       "        vertical-align: middle;\n",
       "    }\n",
       "\n",
       "    .dataframe tbody tr th {\n",
       "        vertical-align: top;\n",
       "    }\n",
       "\n",
       "    .dataframe thead th {\n",
       "        text-align: right;\n",
       "    }\n",
       "</style>\n",
       "<table border=\"1\" class=\"dataframe\">\n",
       "  <thead>\n",
       "    <tr style=\"text-align: right;\">\n",
       "      <th></th>\n",
       "      <th>user_id</th>\n",
       "      <th>month</th>\n",
       "      <th>duration</th>\n",
       "      <th>id</th>\n",
       "      <th>age</th>\n",
       "      <th>churn_date</th>\n",
       "      <th>city</th>\n",
       "      <th>first_name</th>\n",
       "      <th>last_name</th>\n",
       "      <th>reg_date</th>\n",
       "      <th>tariff</th>\n",
       "      <th>gb_used</th>\n",
       "    </tr>\n",
       "  </thead>\n",
       "  <tbody>\n",
       "    <tr>\n",
       "      <th>0</th>\n",
       "      <td>1000</td>\n",
       "      <td>5</td>\n",
       "      <td>159.0</td>\n",
       "      <td>22.0</td>\n",
       "      <td>52</td>\n",
       "      <td>NaN</td>\n",
       "      <td>Краснодар</td>\n",
       "      <td>Рафаил</td>\n",
       "      <td>Верещагин</td>\n",
       "      <td>2018-05-25</td>\n",
       "      <td>ultra</td>\n",
       "      <td>3.0</td>\n",
       "    </tr>\n",
       "    <tr>\n",
       "      <th>1</th>\n",
       "      <td>1000</td>\n",
       "      <td>6</td>\n",
       "      <td>172.0</td>\n",
       "      <td>60.0</td>\n",
       "      <td>52</td>\n",
       "      <td>NaN</td>\n",
       "      <td>Краснодар</td>\n",
       "      <td>Рафаил</td>\n",
       "      <td>Верещагин</td>\n",
       "      <td>2018-05-25</td>\n",
       "      <td>ultra</td>\n",
       "      <td>23.0</td>\n",
       "    </tr>\n",
       "    <tr>\n",
       "      <th>2</th>\n",
       "      <td>1000</td>\n",
       "      <td>7</td>\n",
       "      <td>340.0</td>\n",
       "      <td>75.0</td>\n",
       "      <td>52</td>\n",
       "      <td>NaN</td>\n",
       "      <td>Краснодар</td>\n",
       "      <td>Рафаил</td>\n",
       "      <td>Верещагин</td>\n",
       "      <td>2018-05-25</td>\n",
       "      <td>ultra</td>\n",
       "      <td>14.0</td>\n",
       "    </tr>\n",
       "    <tr>\n",
       "      <th>3</th>\n",
       "      <td>1000</td>\n",
       "      <td>8</td>\n",
       "      <td>408.0</td>\n",
       "      <td>81.0</td>\n",
       "      <td>52</td>\n",
       "      <td>NaN</td>\n",
       "      <td>Краснодар</td>\n",
       "      <td>Рафаил</td>\n",
       "      <td>Верещагин</td>\n",
       "      <td>2018-05-25</td>\n",
       "      <td>ultra</td>\n",
       "      <td>14.0</td>\n",
       "    </tr>\n",
       "    <tr>\n",
       "      <th>4</th>\n",
       "      <td>1000</td>\n",
       "      <td>9</td>\n",
       "      <td>466.0</td>\n",
       "      <td>57.0</td>\n",
       "      <td>52</td>\n",
       "      <td>NaN</td>\n",
       "      <td>Краснодар</td>\n",
       "      <td>Рафаил</td>\n",
       "      <td>Верещагин</td>\n",
       "      <td>2018-05-25</td>\n",
       "      <td>ultra</td>\n",
       "      <td>15.0</td>\n",
       "    </tr>\n",
       "    <tr>\n",
       "      <th>5</th>\n",
       "      <td>1000</td>\n",
       "      <td>10</td>\n",
       "      <td>350.0</td>\n",
       "      <td>73.0</td>\n",
       "      <td>52</td>\n",
       "      <td>NaN</td>\n",
       "      <td>Краснодар</td>\n",
       "      <td>Рафаил</td>\n",
       "      <td>Верещагин</td>\n",
       "      <td>2018-05-25</td>\n",
       "      <td>ultra</td>\n",
       "      <td>15.0</td>\n",
       "    </tr>\n",
       "    <tr>\n",
       "      <th>6</th>\n",
       "      <td>1000</td>\n",
       "      <td>11</td>\n",
       "      <td>338.0</td>\n",
       "      <td>58.0</td>\n",
       "      <td>52</td>\n",
       "      <td>NaN</td>\n",
       "      <td>Краснодар</td>\n",
       "      <td>Рафаил</td>\n",
       "      <td>Верещагин</td>\n",
       "      <td>2018-05-25</td>\n",
       "      <td>ultra</td>\n",
       "      <td>15.0</td>\n",
       "    </tr>\n",
       "    <tr>\n",
       "      <th>7</th>\n",
       "      <td>1000</td>\n",
       "      <td>12</td>\n",
       "      <td>333.0</td>\n",
       "      <td>70.0</td>\n",
       "      <td>52</td>\n",
       "      <td>NaN</td>\n",
       "      <td>Краснодар</td>\n",
       "      <td>Рафаил</td>\n",
       "      <td>Верещагин</td>\n",
       "      <td>2018-05-25</td>\n",
       "      <td>ultra</td>\n",
       "      <td>10.0</td>\n",
       "    </tr>\n",
       "    <tr>\n",
       "      <th>8</th>\n",
       "      <td>1001</td>\n",
       "      <td>11</td>\n",
       "      <td>430.0</td>\n",
       "      <td>NaN</td>\n",
       "      <td>41</td>\n",
       "      <td>NaN</td>\n",
       "      <td>Москва</td>\n",
       "      <td>Иван</td>\n",
       "      <td>Ежов</td>\n",
       "      <td>2018-11-01</td>\n",
       "      <td>smart</td>\n",
       "      <td>18.0</td>\n",
       "    </tr>\n",
       "    <tr>\n",
       "      <th>9</th>\n",
       "      <td>1001</td>\n",
       "      <td>12</td>\n",
       "      <td>414.0</td>\n",
       "      <td>NaN</td>\n",
       "      <td>41</td>\n",
       "      <td>NaN</td>\n",
       "      <td>Москва</td>\n",
       "      <td>Иван</td>\n",
       "      <td>Ежов</td>\n",
       "      <td>2018-11-01</td>\n",
       "      <td>smart</td>\n",
       "      <td>14.0</td>\n",
       "    </tr>\n",
       "  </tbody>\n",
       "</table>\n",
       "</div>"
      ],
      "text/plain": [
       "   user_id  month  duration    id  age churn_date       city first_name  \\\n",
       "0     1000      5     159.0  22.0   52        NaN  Краснодар     Рафаил   \n",
       "1     1000      6     172.0  60.0   52        NaN  Краснодар     Рафаил   \n",
       "2     1000      7     340.0  75.0   52        NaN  Краснодар     Рафаил   \n",
       "3     1000      8     408.0  81.0   52        NaN  Краснодар     Рафаил   \n",
       "4     1000      9     466.0  57.0   52        NaN  Краснодар     Рафаил   \n",
       "5     1000     10     350.0  73.0   52        NaN  Краснодар     Рафаил   \n",
       "6     1000     11     338.0  58.0   52        NaN  Краснодар     Рафаил   \n",
       "7     1000     12     333.0  70.0   52        NaN  Краснодар     Рафаил   \n",
       "8     1001     11     430.0   NaN   41        NaN     Москва       Иван   \n",
       "9     1001     12     414.0   NaN   41        NaN     Москва       Иван   \n",
       "\n",
       "   last_name    reg_date tariff  gb_used  \n",
       "0  Верещагин  2018-05-25  ultra      3.0  \n",
       "1  Верещагин  2018-05-25  ultra     23.0  \n",
       "2  Верещагин  2018-05-25  ultra     14.0  \n",
       "3  Верещагин  2018-05-25  ultra     14.0  \n",
       "4  Верещагин  2018-05-25  ultra     15.0  \n",
       "5  Верещагин  2018-05-25  ultra     15.0  \n",
       "6  Верещагин  2018-05-25  ultra     15.0  \n",
       "7  Верещагин  2018-05-25  ultra     10.0  \n",
       "8       Ежов  2018-11-01  smart     18.0  \n",
       "9       Ежов  2018-11-01  smart     14.0  "
      ]
     },
     "metadata": {},
     "output_type": "display_data"
    }
   ],
   "source": [
    "display(df.head(10))"
   ]
  },
  {
   "cell_type": "markdown",
   "metadata": {},
   "source": [
    "Обновим названия столбцов, смёрджим датасет с датасетом с тарифами."
   ]
  },
  {
   "cell_type": "code",
   "execution_count": 84,
   "metadata": {},
   "outputs": [
    {
     "data": {
      "text/html": [
       "<div>\n",
       "<style scoped>\n",
       "    .dataframe tbody tr th:only-of-type {\n",
       "        vertical-align: middle;\n",
       "    }\n",
       "\n",
       "    .dataframe tbody tr th {\n",
       "        vertical-align: top;\n",
       "    }\n",
       "\n",
       "    .dataframe thead th {\n",
       "        text-align: right;\n",
       "    }\n",
       "</style>\n",
       "<table border=\"1\" class=\"dataframe\">\n",
       "  <thead>\n",
       "    <tr style=\"text-align: right;\">\n",
       "      <th></th>\n",
       "      <th>user_id</th>\n",
       "      <th>month</th>\n",
       "      <th>minutes_sum</th>\n",
       "      <th>messages_sum</th>\n",
       "      <th>age</th>\n",
       "      <th>churn_date</th>\n",
       "      <th>city</th>\n",
       "      <th>first_name</th>\n",
       "      <th>last_name</th>\n",
       "      <th>reg_date</th>\n",
       "      <th>tariff_name</th>\n",
       "      <th>gb_used</th>\n",
       "      <th>messages_included</th>\n",
       "      <th>mb_per_month_included</th>\n",
       "      <th>minutes_included</th>\n",
       "      <th>rub_monthly_fee</th>\n",
       "      <th>rub_per_gb</th>\n",
       "      <th>rub_per_message</th>\n",
       "      <th>rub_per_minute</th>\n",
       "    </tr>\n",
       "  </thead>\n",
       "  <tbody>\n",
       "    <tr>\n",
       "      <th>0</th>\n",
       "      <td>1000</td>\n",
       "      <td>5</td>\n",
       "      <td>159.0</td>\n",
       "      <td>22.0</td>\n",
       "      <td>52</td>\n",
       "      <td>NaN</td>\n",
       "      <td>Краснодар</td>\n",
       "      <td>Рафаил</td>\n",
       "      <td>Верещагин</td>\n",
       "      <td>2018-05-25</td>\n",
       "      <td>ultra</td>\n",
       "      <td>3.0</td>\n",
       "      <td>1000</td>\n",
       "      <td>30720</td>\n",
       "      <td>3000</td>\n",
       "      <td>1950</td>\n",
       "      <td>150</td>\n",
       "      <td>1</td>\n",
       "      <td>1</td>\n",
       "    </tr>\n",
       "    <tr>\n",
       "      <th>1</th>\n",
       "      <td>1000</td>\n",
       "      <td>6</td>\n",
       "      <td>172.0</td>\n",
       "      <td>60.0</td>\n",
       "      <td>52</td>\n",
       "      <td>NaN</td>\n",
       "      <td>Краснодар</td>\n",
       "      <td>Рафаил</td>\n",
       "      <td>Верещагин</td>\n",
       "      <td>2018-05-25</td>\n",
       "      <td>ultra</td>\n",
       "      <td>23.0</td>\n",
       "      <td>1000</td>\n",
       "      <td>30720</td>\n",
       "      <td>3000</td>\n",
       "      <td>1950</td>\n",
       "      <td>150</td>\n",
       "      <td>1</td>\n",
       "      <td>1</td>\n",
       "    </tr>\n",
       "    <tr>\n",
       "      <th>2</th>\n",
       "      <td>1000</td>\n",
       "      <td>7</td>\n",
       "      <td>340.0</td>\n",
       "      <td>75.0</td>\n",
       "      <td>52</td>\n",
       "      <td>NaN</td>\n",
       "      <td>Краснодар</td>\n",
       "      <td>Рафаил</td>\n",
       "      <td>Верещагин</td>\n",
       "      <td>2018-05-25</td>\n",
       "      <td>ultra</td>\n",
       "      <td>14.0</td>\n",
       "      <td>1000</td>\n",
       "      <td>30720</td>\n",
       "      <td>3000</td>\n",
       "      <td>1950</td>\n",
       "      <td>150</td>\n",
       "      <td>1</td>\n",
       "      <td>1</td>\n",
       "    </tr>\n",
       "    <tr>\n",
       "      <th>3</th>\n",
       "      <td>1000</td>\n",
       "      <td>8</td>\n",
       "      <td>408.0</td>\n",
       "      <td>81.0</td>\n",
       "      <td>52</td>\n",
       "      <td>NaN</td>\n",
       "      <td>Краснодар</td>\n",
       "      <td>Рафаил</td>\n",
       "      <td>Верещагин</td>\n",
       "      <td>2018-05-25</td>\n",
       "      <td>ultra</td>\n",
       "      <td>14.0</td>\n",
       "      <td>1000</td>\n",
       "      <td>30720</td>\n",
       "      <td>3000</td>\n",
       "      <td>1950</td>\n",
       "      <td>150</td>\n",
       "      <td>1</td>\n",
       "      <td>1</td>\n",
       "    </tr>\n",
       "    <tr>\n",
       "      <th>4</th>\n",
       "      <td>1000</td>\n",
       "      <td>9</td>\n",
       "      <td>466.0</td>\n",
       "      <td>57.0</td>\n",
       "      <td>52</td>\n",
       "      <td>NaN</td>\n",
       "      <td>Краснодар</td>\n",
       "      <td>Рафаил</td>\n",
       "      <td>Верещагин</td>\n",
       "      <td>2018-05-25</td>\n",
       "      <td>ultra</td>\n",
       "      <td>15.0</td>\n",
       "      <td>1000</td>\n",
       "      <td>30720</td>\n",
       "      <td>3000</td>\n",
       "      <td>1950</td>\n",
       "      <td>150</td>\n",
       "      <td>1</td>\n",
       "      <td>1</td>\n",
       "    </tr>\n",
       "  </tbody>\n",
       "</table>\n",
       "</div>"
      ],
      "text/plain": [
       "   user_id  month  minutes_sum  messages_sum  age churn_date       city  \\\n",
       "0     1000      5        159.0          22.0   52        NaN  Краснодар   \n",
       "1     1000      6        172.0          60.0   52        NaN  Краснодар   \n",
       "2     1000      7        340.0          75.0   52        NaN  Краснодар   \n",
       "3     1000      8        408.0          81.0   52        NaN  Краснодар   \n",
       "4     1000      9        466.0          57.0   52        NaN  Краснодар   \n",
       "\n",
       "  first_name  last_name    reg_date tariff_name  gb_used  messages_included  \\\n",
       "0     Рафаил  Верещагин  2018-05-25       ultra      3.0               1000   \n",
       "1     Рафаил  Верещагин  2018-05-25       ultra     23.0               1000   \n",
       "2     Рафаил  Верещагин  2018-05-25       ultra     14.0               1000   \n",
       "3     Рафаил  Верещагин  2018-05-25       ultra     14.0               1000   \n",
       "4     Рафаил  Верещагин  2018-05-25       ultra     15.0               1000   \n",
       "\n",
       "   mb_per_month_included  minutes_included  rub_monthly_fee  rub_per_gb  \\\n",
       "0                  30720              3000             1950         150   \n",
       "1                  30720              3000             1950         150   \n",
       "2                  30720              3000             1950         150   \n",
       "3                  30720              3000             1950         150   \n",
       "4                  30720              3000             1950         150   \n",
       "\n",
       "   rub_per_message  rub_per_minute  \n",
       "0                1               1  \n",
       "1                1               1  \n",
       "2                1               1  \n",
       "3                1               1  \n",
       "4                1               1  "
      ]
     },
     "metadata": {},
     "output_type": "display_data"
    }
   ],
   "source": [
    "df.columns=['user_id','month','minutes_sum','messages_sum','age','churn_date',\n",
    "            'city','first_name','last_name','reg_date','tariff_name','gb_used']\n",
    "df = df.merge(df_tariffs,on=['tariff_name'],how='left')\n",
    "display(df.head())"
   ]
  },
  {
   "cell_type": "markdown",
   "metadata": {},
   "source": [
    "Добавим столбец *gb_per_month_included*, переведя Мб в Гб.\n",
    "Дропнем неактуальный столбец *mb_per_month_included*."
   ]
  },
  {
   "cell_type": "code",
   "execution_count": 85,
   "metadata": {},
   "outputs": [
    {
     "data": {
      "text/html": [
       "<div>\n",
       "<style scoped>\n",
       "    .dataframe tbody tr th:only-of-type {\n",
       "        vertical-align: middle;\n",
       "    }\n",
       "\n",
       "    .dataframe tbody tr th {\n",
       "        vertical-align: top;\n",
       "    }\n",
       "\n",
       "    .dataframe thead th {\n",
       "        text-align: right;\n",
       "    }\n",
       "</style>\n",
       "<table border=\"1\" class=\"dataframe\">\n",
       "  <thead>\n",
       "    <tr style=\"text-align: right;\">\n",
       "      <th></th>\n",
       "      <th>user_id</th>\n",
       "      <th>month</th>\n",
       "      <th>minutes_sum</th>\n",
       "      <th>messages_sum</th>\n",
       "      <th>age</th>\n",
       "      <th>churn_date</th>\n",
       "      <th>city</th>\n",
       "      <th>first_name</th>\n",
       "      <th>last_name</th>\n",
       "      <th>reg_date</th>\n",
       "      <th>tariff_name</th>\n",
       "      <th>gb_used</th>\n",
       "      <th>messages_included</th>\n",
       "      <th>minutes_included</th>\n",
       "      <th>rub_monthly_fee</th>\n",
       "      <th>rub_per_gb</th>\n",
       "      <th>rub_per_message</th>\n",
       "      <th>rub_per_minute</th>\n",
       "      <th>gb_per_month_included</th>\n",
       "    </tr>\n",
       "  </thead>\n",
       "  <tbody>\n",
       "    <tr>\n",
       "      <th>0</th>\n",
       "      <td>1000</td>\n",
       "      <td>5</td>\n",
       "      <td>159.0</td>\n",
       "      <td>22.0</td>\n",
       "      <td>52</td>\n",
       "      <td>NaN</td>\n",
       "      <td>Краснодар</td>\n",
       "      <td>Рафаил</td>\n",
       "      <td>Верещагин</td>\n",
       "      <td>2018-05-25</td>\n",
       "      <td>ultra</td>\n",
       "      <td>3.0</td>\n",
       "      <td>1000</td>\n",
       "      <td>3000</td>\n",
       "      <td>1950</td>\n",
       "      <td>150</td>\n",
       "      <td>1</td>\n",
       "      <td>1</td>\n",
       "      <td>30.0</td>\n",
       "    </tr>\n",
       "    <tr>\n",
       "      <th>1</th>\n",
       "      <td>1000</td>\n",
       "      <td>6</td>\n",
       "      <td>172.0</td>\n",
       "      <td>60.0</td>\n",
       "      <td>52</td>\n",
       "      <td>NaN</td>\n",
       "      <td>Краснодар</td>\n",
       "      <td>Рафаил</td>\n",
       "      <td>Верещагин</td>\n",
       "      <td>2018-05-25</td>\n",
       "      <td>ultra</td>\n",
       "      <td>23.0</td>\n",
       "      <td>1000</td>\n",
       "      <td>3000</td>\n",
       "      <td>1950</td>\n",
       "      <td>150</td>\n",
       "      <td>1</td>\n",
       "      <td>1</td>\n",
       "      <td>30.0</td>\n",
       "    </tr>\n",
       "    <tr>\n",
       "      <th>2</th>\n",
       "      <td>1000</td>\n",
       "      <td>7</td>\n",
       "      <td>340.0</td>\n",
       "      <td>75.0</td>\n",
       "      <td>52</td>\n",
       "      <td>NaN</td>\n",
       "      <td>Краснодар</td>\n",
       "      <td>Рафаил</td>\n",
       "      <td>Верещагин</td>\n",
       "      <td>2018-05-25</td>\n",
       "      <td>ultra</td>\n",
       "      <td>14.0</td>\n",
       "      <td>1000</td>\n",
       "      <td>3000</td>\n",
       "      <td>1950</td>\n",
       "      <td>150</td>\n",
       "      <td>1</td>\n",
       "      <td>1</td>\n",
       "      <td>30.0</td>\n",
       "    </tr>\n",
       "    <tr>\n",
       "      <th>3</th>\n",
       "      <td>1000</td>\n",
       "      <td>8</td>\n",
       "      <td>408.0</td>\n",
       "      <td>81.0</td>\n",
       "      <td>52</td>\n",
       "      <td>NaN</td>\n",
       "      <td>Краснодар</td>\n",
       "      <td>Рафаил</td>\n",
       "      <td>Верещагин</td>\n",
       "      <td>2018-05-25</td>\n",
       "      <td>ultra</td>\n",
       "      <td>14.0</td>\n",
       "      <td>1000</td>\n",
       "      <td>3000</td>\n",
       "      <td>1950</td>\n",
       "      <td>150</td>\n",
       "      <td>1</td>\n",
       "      <td>1</td>\n",
       "      <td>30.0</td>\n",
       "    </tr>\n",
       "    <tr>\n",
       "      <th>4</th>\n",
       "      <td>1000</td>\n",
       "      <td>9</td>\n",
       "      <td>466.0</td>\n",
       "      <td>57.0</td>\n",
       "      <td>52</td>\n",
       "      <td>NaN</td>\n",
       "      <td>Краснодар</td>\n",
       "      <td>Рафаил</td>\n",
       "      <td>Верещагин</td>\n",
       "      <td>2018-05-25</td>\n",
       "      <td>ultra</td>\n",
       "      <td>15.0</td>\n",
       "      <td>1000</td>\n",
       "      <td>3000</td>\n",
       "      <td>1950</td>\n",
       "      <td>150</td>\n",
       "      <td>1</td>\n",
       "      <td>1</td>\n",
       "      <td>30.0</td>\n",
       "    </tr>\n",
       "  </tbody>\n",
       "</table>\n",
       "</div>"
      ],
      "text/plain": [
       "   user_id  month  minutes_sum  messages_sum  age churn_date       city  \\\n",
       "0     1000      5        159.0          22.0   52        NaN  Краснодар   \n",
       "1     1000      6        172.0          60.0   52        NaN  Краснодар   \n",
       "2     1000      7        340.0          75.0   52        NaN  Краснодар   \n",
       "3     1000      8        408.0          81.0   52        NaN  Краснодар   \n",
       "4     1000      9        466.0          57.0   52        NaN  Краснодар   \n",
       "\n",
       "  first_name  last_name    reg_date tariff_name  gb_used  messages_included  \\\n",
       "0     Рафаил  Верещагин  2018-05-25       ultra      3.0               1000   \n",
       "1     Рафаил  Верещагин  2018-05-25       ultra     23.0               1000   \n",
       "2     Рафаил  Верещагин  2018-05-25       ultra     14.0               1000   \n",
       "3     Рафаил  Верещагин  2018-05-25       ultra     14.0               1000   \n",
       "4     Рафаил  Верещагин  2018-05-25       ultra     15.0               1000   \n",
       "\n",
       "   minutes_included  rub_monthly_fee  rub_per_gb  rub_per_message  \\\n",
       "0              3000             1950         150                1   \n",
       "1              3000             1950         150                1   \n",
       "2              3000             1950         150                1   \n",
       "3              3000             1950         150                1   \n",
       "4              3000             1950         150                1   \n",
       "\n",
       "   rub_per_minute  gb_per_month_included  \n",
       "0               1                   30.0  \n",
       "1               1                   30.0  \n",
       "2               1                   30.0  \n",
       "3               1                   30.0  \n",
       "4               1                   30.0  "
      ]
     },
     "metadata": {},
     "output_type": "display_data"
    }
   ],
   "source": [
    "df['gb_per_month_included']=df['mb_per_month_included']/1024\n",
    "df = df.drop(columns=['mb_per_month_included'])\n",
    "display(df.head())"
   ]
  },
  {
   "cell_type": "markdown",
   "metadata": {},
   "source": [
    "Добавим размер выручки по user_id в месяц, воспользовавшись функцией. "
   ]
  },
  {
   "cell_type": "code",
   "execution_count": 86,
   "metadata": {},
   "outputs": [
    {
     "data": {
      "text/html": [
       "<div>\n",
       "<style scoped>\n",
       "    .dataframe tbody tr th:only-of-type {\n",
       "        vertical-align: middle;\n",
       "    }\n",
       "\n",
       "    .dataframe tbody tr th {\n",
       "        vertical-align: top;\n",
       "    }\n",
       "\n",
       "    .dataframe thead th {\n",
       "        text-align: right;\n",
       "    }\n",
       "</style>\n",
       "<table border=\"1\" class=\"dataframe\">\n",
       "  <thead>\n",
       "    <tr style=\"text-align: right;\">\n",
       "      <th></th>\n",
       "      <th>user_id</th>\n",
       "      <th>month</th>\n",
       "      <th>minutes_sum</th>\n",
       "      <th>messages_sum</th>\n",
       "      <th>age</th>\n",
       "      <th>churn_date</th>\n",
       "      <th>city</th>\n",
       "      <th>first_name</th>\n",
       "      <th>last_name</th>\n",
       "      <th>reg_date</th>\n",
       "      <th>tariff_name</th>\n",
       "      <th>gb_used</th>\n",
       "      <th>messages_included</th>\n",
       "      <th>minutes_included</th>\n",
       "      <th>rub_monthly_fee</th>\n",
       "      <th>rub_per_gb</th>\n",
       "      <th>rub_per_message</th>\n",
       "      <th>rub_per_minute</th>\n",
       "      <th>gb_per_month_included</th>\n",
       "      <th>cost</th>\n",
       "    </tr>\n",
       "  </thead>\n",
       "  <tbody>\n",
       "    <tr>\n",
       "      <th>0</th>\n",
       "      <td>1000</td>\n",
       "      <td>5</td>\n",
       "      <td>159.0</td>\n",
       "      <td>22.0</td>\n",
       "      <td>52</td>\n",
       "      <td>NaN</td>\n",
       "      <td>Краснодар</td>\n",
       "      <td>Рафаил</td>\n",
       "      <td>Верещагин</td>\n",
       "      <td>2018-05-25</td>\n",
       "      <td>ultra</td>\n",
       "      <td>3.0</td>\n",
       "      <td>1000</td>\n",
       "      <td>3000</td>\n",
       "      <td>1950</td>\n",
       "      <td>150</td>\n",
       "      <td>1</td>\n",
       "      <td>1</td>\n",
       "      <td>30.0</td>\n",
       "      <td>1950.0</td>\n",
       "    </tr>\n",
       "    <tr>\n",
       "      <th>1</th>\n",
       "      <td>1000</td>\n",
       "      <td>6</td>\n",
       "      <td>172.0</td>\n",
       "      <td>60.0</td>\n",
       "      <td>52</td>\n",
       "      <td>NaN</td>\n",
       "      <td>Краснодар</td>\n",
       "      <td>Рафаил</td>\n",
       "      <td>Верещагин</td>\n",
       "      <td>2018-05-25</td>\n",
       "      <td>ultra</td>\n",
       "      <td>23.0</td>\n",
       "      <td>1000</td>\n",
       "      <td>3000</td>\n",
       "      <td>1950</td>\n",
       "      <td>150</td>\n",
       "      <td>1</td>\n",
       "      <td>1</td>\n",
       "      <td>30.0</td>\n",
       "      <td>1950.0</td>\n",
       "    </tr>\n",
       "    <tr>\n",
       "      <th>2</th>\n",
       "      <td>1000</td>\n",
       "      <td>7</td>\n",
       "      <td>340.0</td>\n",
       "      <td>75.0</td>\n",
       "      <td>52</td>\n",
       "      <td>NaN</td>\n",
       "      <td>Краснодар</td>\n",
       "      <td>Рафаил</td>\n",
       "      <td>Верещагин</td>\n",
       "      <td>2018-05-25</td>\n",
       "      <td>ultra</td>\n",
       "      <td>14.0</td>\n",
       "      <td>1000</td>\n",
       "      <td>3000</td>\n",
       "      <td>1950</td>\n",
       "      <td>150</td>\n",
       "      <td>1</td>\n",
       "      <td>1</td>\n",
       "      <td>30.0</td>\n",
       "      <td>1950.0</td>\n",
       "    </tr>\n",
       "    <tr>\n",
       "      <th>3</th>\n",
       "      <td>1000</td>\n",
       "      <td>8</td>\n",
       "      <td>408.0</td>\n",
       "      <td>81.0</td>\n",
       "      <td>52</td>\n",
       "      <td>NaN</td>\n",
       "      <td>Краснодар</td>\n",
       "      <td>Рафаил</td>\n",
       "      <td>Верещагин</td>\n",
       "      <td>2018-05-25</td>\n",
       "      <td>ultra</td>\n",
       "      <td>14.0</td>\n",
       "      <td>1000</td>\n",
       "      <td>3000</td>\n",
       "      <td>1950</td>\n",
       "      <td>150</td>\n",
       "      <td>1</td>\n",
       "      <td>1</td>\n",
       "      <td>30.0</td>\n",
       "      <td>1950.0</td>\n",
       "    </tr>\n",
       "    <tr>\n",
       "      <th>4</th>\n",
       "      <td>1000</td>\n",
       "      <td>9</td>\n",
       "      <td>466.0</td>\n",
       "      <td>57.0</td>\n",
       "      <td>52</td>\n",
       "      <td>NaN</td>\n",
       "      <td>Краснодар</td>\n",
       "      <td>Рафаил</td>\n",
       "      <td>Верещагин</td>\n",
       "      <td>2018-05-25</td>\n",
       "      <td>ultra</td>\n",
       "      <td>15.0</td>\n",
       "      <td>1000</td>\n",
       "      <td>3000</td>\n",
       "      <td>1950</td>\n",
       "      <td>150</td>\n",
       "      <td>1</td>\n",
       "      <td>1</td>\n",
       "      <td>30.0</td>\n",
       "      <td>1950.0</td>\n",
       "    </tr>\n",
       "  </tbody>\n",
       "</table>\n",
       "</div>"
      ],
      "text/plain": [
       "   user_id  month  minutes_sum  messages_sum  age churn_date       city  \\\n",
       "0     1000      5        159.0          22.0   52        NaN  Краснодар   \n",
       "1     1000      6        172.0          60.0   52        NaN  Краснодар   \n",
       "2     1000      7        340.0          75.0   52        NaN  Краснодар   \n",
       "3     1000      8        408.0          81.0   52        NaN  Краснодар   \n",
       "4     1000      9        466.0          57.0   52        NaN  Краснодар   \n",
       "\n",
       "  first_name  last_name    reg_date tariff_name  gb_used  messages_included  \\\n",
       "0     Рафаил  Верещагин  2018-05-25       ultra      3.0               1000   \n",
       "1     Рафаил  Верещагин  2018-05-25       ultra     23.0               1000   \n",
       "2     Рафаил  Верещагин  2018-05-25       ultra     14.0               1000   \n",
       "3     Рафаил  Верещагин  2018-05-25       ultra     14.0               1000   \n",
       "4     Рафаил  Верещагин  2018-05-25       ultra     15.0               1000   \n",
       "\n",
       "   minutes_included  rub_monthly_fee  rub_per_gb  rub_per_message  \\\n",
       "0              3000             1950         150                1   \n",
       "1              3000             1950         150                1   \n",
       "2              3000             1950         150                1   \n",
       "3              3000             1950         150                1   \n",
       "4              3000             1950         150                1   \n",
       "\n",
       "   rub_per_minute  gb_per_month_included    cost  \n",
       "0               1                   30.0  1950.0  \n",
       "1               1                   30.0  1950.0  \n",
       "2               1                   30.0  1950.0  \n",
       "3               1                   30.0  1950.0  \n",
       "4               1                   30.0  1950.0  "
      ]
     },
     "metadata": {},
     "output_type": "display_data"
    }
   ],
   "source": [
    "def cost(row):\n",
    "    cost_min = 0\n",
    "    cost_message = 0\n",
    "    cost_internet = 0\n",
    "    if (row['minutes_sum'] - row['minutes_included']) > 0:\n",
    "        cost_min = (row['minutes_sum'] - row['minutes_included']) * row['rub_per_minute']\n",
    "    if (row['messages_sum'] - row['messages_included']) > 0: \n",
    "        cost_message = (row['messages_sum'] - row['messages_included']) * row['rub_per_message']\n",
    "    if (row['gb_used'] - row['gb_per_month_included']) > 0:\n",
    "        cost_internet = (row['gb_used'] - row['gb_per_month_included']) * row['rub_per_gb']\n",
    "    result =  cost_min + cost_message +  cost_internet + row['rub_monthly_fee']\n",
    "    return result\n",
    "df['cost'] = df.apply(cost, axis=1)\n",
    "display(df.head())"
   ]
  },
  {
   "cell_type": "markdown",
   "metadata": {},
   "source": [
    "Повторно изучим датасет."
   ]
  },
  {
   "cell_type": "code",
   "execution_count": 87,
   "metadata": {},
   "outputs": [
    {
     "name": "stdout",
     "output_type": "stream",
     "text": [
      "<class 'pandas.core.frame.DataFrame'>\n",
      "Int64Index: 3214 entries, 0 to 3213\n",
      "Data columns (total 20 columns):\n",
      " #   Column                 Non-Null Count  Dtype  \n",
      "---  ------                 --------------  -----  \n",
      " 0   user_id                3214 non-null   int64  \n",
      " 1   month                  3214 non-null   int64  \n",
      " 2   minutes_sum            3174 non-null   float64\n",
      " 3   messages_sum           2717 non-null   float64\n",
      " 4   age                    3214 non-null   int64  \n",
      " 5   churn_date             187 non-null    object \n",
      " 6   city                   3214 non-null   object \n",
      " 7   first_name             3214 non-null   object \n",
      " 8   last_name              3214 non-null   object \n",
      " 9   reg_date               3214 non-null   object \n",
      " 10  tariff_name            3214 non-null   object \n",
      " 11  gb_used                3203 non-null   float64\n",
      " 12  messages_included      3214 non-null   int64  \n",
      " 13  minutes_included       3214 non-null   int64  \n",
      " 14  rub_monthly_fee        3214 non-null   int64  \n",
      " 15  rub_per_gb             3214 non-null   int64  \n",
      " 16  rub_per_message        3214 non-null   int64  \n",
      " 17  rub_per_minute         3214 non-null   int64  \n",
      " 18  gb_per_month_included  3214 non-null   float64\n",
      " 19  cost                   3214 non-null   float64\n",
      "dtypes: float64(5), int64(9), object(6)\n",
      "memory usage: 527.3+ KB\n"
     ]
    }
   ],
   "source": [
    "df.info()"
   ]
  },
  {
   "cell_type": "markdown",
   "metadata": {},
   "source": [
    "### Удаление дубликатов"
   ]
  },
  {
   "cell_type": "code",
   "execution_count": 88,
   "metadata": {},
   "outputs": [
    {
     "name": "stdout",
     "output_type": "stream",
     "text": [
      "Дубликатов в таблице: 0\n"
     ]
    }
   ],
   "source": [
    "print('Дубликатов в таблице:', df.duplicated().sum())"
   ]
  },
  {
   "cell_type": "markdown",
   "metadata": {},
   "source": [
    "### Проверка данных на аномалии"
   ]
  },
  {
   "cell_type": "code",
   "execution_count": 89,
   "metadata": {},
   "outputs": [
    {
     "name": "stdout",
     "output_type": "stream",
     "text": [
      "Пропусков: 40\n"
     ]
    }
   ],
   "source": [
    "print('Пропусков:', len(df[df['minutes_sum'].isna()]))"
   ]
  },
  {
   "cell_type": "code",
   "execution_count": 90,
   "metadata": {},
   "outputs": [],
   "source": [
    "df['minutes_sum'] = df['minutes_sum'].fillna(0)"
   ]
  },
  {
   "cell_type": "code",
   "execution_count": 91,
   "metadata": {},
   "outputs": [
    {
     "name": "stdout",
     "output_type": "stream",
     "text": [
      "Минимальная длительность звонков/ месяц: 0\n",
      "Максимальная длительность звонков/ месяц: 1673\n"
     ]
    }
   ],
   "source": [
    "df['minutes_sum'] = df['minutes_sum'].astype('int')\n",
    "print('Минимальная длительность звонков/ месяц:', df['minutes_sum'].min())\n",
    "print('Максимальная длительность звонков/ месяц:', df['minutes_sum'].max())"
   ]
  },
  {
   "cell_type": "code",
   "execution_count": 92,
   "metadata": {},
   "outputs": [
    {
     "name": "stdout",
     "output_type": "stream",
     "text": [
      "Минимальное число сообщений/ месяц: 1.0\n",
      "Максимальное число сообщений/ месяц: 224.0\n",
      "Пропусков: 497\n"
     ]
    },
    {
     "data": {
      "text/plain": [
       "<AxesSubplot:>"
      ]
     },
     "execution_count": 92,
     "metadata": {},
     "output_type": "execute_result"
    },
    {
     "data": {
      "image/png": "[encoded data removed]",
      "text/plain": [
       "<Figure size 864x360 with 1 Axes>"
      ]
     },
     "metadata": {
      "needs_background": "light"
     },
     "output_type": "display_data"
    }
   ],
   "source": [
    "print('Минимальное число сообщений/ месяц:', df['messages_sum'].min())\n",
    "print('Максимальное число сообщений/ месяц:', df['messages_sum'].max())\n",
    "print('Пропусков:', len(df[df['messages_sum'].isna()]))\n",
    "df['messages_sum'] .hist(bins = 20, figsize = (12,5))"
   ]
  },
  {
   "cell_type": "code",
   "execution_count": 93,
   "metadata": {},
   "outputs": [
    {
     "data": {
      "text/html": [
       "<div>\n",
       "<style scoped>\n",
       "    .dataframe tbody tr th:only-of-type {\n",
       "        vertical-align: middle;\n",
       "    }\n",
       "\n",
       "    .dataframe tbody tr th {\n",
       "        vertical-align: top;\n",
       "    }\n",
       "\n",
       "    .dataframe thead th {\n",
       "        text-align: right;\n",
       "    }\n",
       "</style>\n",
       "<table border=\"1\" class=\"dataframe\">\n",
       "  <thead>\n",
       "    <tr style=\"text-align: right;\">\n",
       "      <th></th>\n",
       "      <th>user_id</th>\n",
       "      <th>month</th>\n",
       "      <th>minutes_sum</th>\n",
       "      <th>messages_sum</th>\n",
       "      <th>age</th>\n",
       "      <th>churn_date</th>\n",
       "      <th>city</th>\n",
       "      <th>first_name</th>\n",
       "      <th>last_name</th>\n",
       "      <th>reg_date</th>\n",
       "      <th>tariff_name</th>\n",
       "      <th>gb_used</th>\n",
       "      <th>messages_included</th>\n",
       "      <th>minutes_included</th>\n",
       "      <th>rub_monthly_fee</th>\n",
       "      <th>rub_per_gb</th>\n",
       "      <th>rub_per_message</th>\n",
       "      <th>rub_per_minute</th>\n",
       "      <th>gb_per_month_included</th>\n",
       "      <th>cost</th>\n",
       "    </tr>\n",
       "  </thead>\n",
       "  <tbody>\n",
       "    <tr>\n",
       "      <th>8</th>\n",
       "      <td>1001</td>\n",
       "      <td>11</td>\n",
       "      <td>430</td>\n",
       "      <td>NaN</td>\n",
       "      <td>41</td>\n",
       "      <td>NaN</td>\n",
       "      <td>Москва</td>\n",
       "      <td>Иван</td>\n",
       "      <td>Ежов</td>\n",
       "      <td>2018-11-01</td>\n",
       "      <td>smart</td>\n",
       "      <td>18.0</td>\n",
       "      <td>50</td>\n",
       "      <td>500</td>\n",
       "      <td>550</td>\n",
       "      <td>200</td>\n",
       "      <td>3</td>\n",
       "      <td>3</td>\n",
       "      <td>15.0</td>\n",
       "      <td>1150.0</td>\n",
       "    </tr>\n",
       "    <tr>\n",
       "      <th>9</th>\n",
       "      <td>1001</td>\n",
       "      <td>12</td>\n",
       "      <td>414</td>\n",
       "      <td>NaN</td>\n",
       "      <td>41</td>\n",
       "      <td>NaN</td>\n",
       "      <td>Москва</td>\n",
       "      <td>Иван</td>\n",
       "      <td>Ежов</td>\n",
       "      <td>2018-11-01</td>\n",
       "      <td>smart</td>\n",
       "      <td>14.0</td>\n",
       "      <td>50</td>\n",
       "      <td>500</td>\n",
       "      <td>550</td>\n",
       "      <td>200</td>\n",
       "      <td>3</td>\n",
       "      <td>3</td>\n",
       "      <td>15.0</td>\n",
       "      <td>550.0</td>\n",
       "    </tr>\n",
       "    <tr>\n",
       "      <th>42</th>\n",
       "      <td>1006</td>\n",
       "      <td>2</td>\n",
       "      <td>42</td>\n",
       "      <td>NaN</td>\n",
       "      <td>21</td>\n",
       "      <td>NaN</td>\n",
       "      <td>Ульяновск</td>\n",
       "      <td>Леонид</td>\n",
       "      <td>Ермолаев</td>\n",
       "      <td>2018-02-26</td>\n",
       "      <td>smart</td>\n",
       "      <td>2.0</td>\n",
       "      <td>50</td>\n",
       "      <td>500</td>\n",
       "      <td>550</td>\n",
       "      <td>200</td>\n",
       "      <td>3</td>\n",
       "      <td>3</td>\n",
       "      <td>15.0</td>\n",
       "      <td>550.0</td>\n",
       "    </tr>\n",
       "    <tr>\n",
       "      <th>43</th>\n",
       "      <td>1006</td>\n",
       "      <td>3</td>\n",
       "      <td>286</td>\n",
       "      <td>NaN</td>\n",
       "      <td>21</td>\n",
       "      <td>NaN</td>\n",
       "      <td>Ульяновск</td>\n",
       "      <td>Леонид</td>\n",
       "      <td>Ермолаев</td>\n",
       "      <td>2018-02-26</td>\n",
       "      <td>smart</td>\n",
       "      <td>17.0</td>\n",
       "      <td>50</td>\n",
       "      <td>500</td>\n",
       "      <td>550</td>\n",
       "      <td>200</td>\n",
       "      <td>3</td>\n",
       "      <td>3</td>\n",
       "      <td>15.0</td>\n",
       "      <td>950.0</td>\n",
       "    </tr>\n",
       "    <tr>\n",
       "      <th>44</th>\n",
       "      <td>1006</td>\n",
       "      <td>4</td>\n",
       "      <td>356</td>\n",
       "      <td>NaN</td>\n",
       "      <td>21</td>\n",
       "      <td>NaN</td>\n",
       "      <td>Ульяновск</td>\n",
       "      <td>Леонид</td>\n",
       "      <td>Ермолаев</td>\n",
       "      <td>2018-02-26</td>\n",
       "      <td>smart</td>\n",
       "      <td>14.0</td>\n",
       "      <td>50</td>\n",
       "      <td>500</td>\n",
       "      <td>550</td>\n",
       "      <td>200</td>\n",
       "      <td>3</td>\n",
       "      <td>3</td>\n",
       "      <td>15.0</td>\n",
       "      <td>550.0</td>\n",
       "    </tr>\n",
       "  </tbody>\n",
       "</table>\n",
       "</div>"
      ],
      "text/plain": [
       "    user_id  month  minutes_sum  messages_sum  age churn_date       city  \\\n",
       "8      1001     11          430           NaN   41        NaN     Москва   \n",
       "9      1001     12          414           NaN   41        NaN     Москва   \n",
       "42     1006      2           42           NaN   21        NaN  Ульяновск   \n",
       "43     1006      3          286           NaN   21        NaN  Ульяновск   \n",
       "44     1006      4          356           NaN   21        NaN  Ульяновск   \n",
       "\n",
       "   first_name last_name    reg_date tariff_name  gb_used  messages_included  \\\n",
       "8        Иван      Ежов  2018-11-01       smart     18.0                 50   \n",
       "9        Иван      Ежов  2018-11-01       smart     14.0                 50   \n",
       "42     Леонид  Ермолаев  2018-02-26       smart      2.0                 50   \n",
       "43     Леонид  Ермолаев  2018-02-26       smart     17.0                 50   \n",
       "44     Леонид  Ермолаев  2018-02-26       smart     14.0                 50   \n",
       "\n",
       "    minutes_included  rub_monthly_fee  rub_per_gb  rub_per_message  \\\n",
       "8                500              550         200                3   \n",
       "9                500              550         200                3   \n",
       "42               500              550         200                3   \n",
       "43               500              550         200                3   \n",
       "44               500              550         200                3   \n",
       "\n",
       "    rub_per_minute  gb_per_month_included    cost  \n",
       "8                3                   15.0  1150.0  \n",
       "9                3                   15.0   550.0  \n",
       "42               3                   15.0   550.0  \n",
       "43               3                   15.0   950.0  \n",
       "44               3                   15.0   550.0  "
      ]
     },
     "metadata": {},
     "output_type": "display_data"
    }
   ],
   "source": [
    "display(df[df['messages_sum'].isna()].head()) "
   ]
  },
  {
   "cell_type": "code",
   "execution_count": 94,
   "metadata": {},
   "outputs": [],
   "source": [
    "df['messages_sum'] = df['messages_sum'].fillna(0)\n",
    "df['messages_sum'] = df['messages_sum'].astype('int')"
   ]
  },
  {
   "cell_type": "markdown",
   "metadata": {},
   "source": [
    "Экстремальные значения длительности звонков и числа сообщений не вызывают сомнений в достоверности.\n",
    "Пропуски в числе сообщений заменим на 0, предположив, что пользователи не использовали эту функцию в конкретный месяц. "
   ]
  },
  {
   "cell_type": "code",
   "execution_count": 95,
   "metadata": {},
   "outputs": [
    {
     "name": "stdout",
     "output_type": "stream",
     "text": [
      "Минимальный возраст абонента: 18\n",
      "Максимальный возраст абонента: 75\n",
      "Пропусков: 0\n"
     ]
    },
    {
     "data": {
      "text/plain": [
       "<AxesSubplot:>"
      ]
     },
     "execution_count": 95,
     "metadata": {},
     "output_type": "execute_result"
    },
    {
     "data": {
      "image/png": "[encoded data removed]",
      "text/plain": [
       "<Figure size 864x360 with 1 Axes>"
      ]
     },
     "metadata": {
      "needs_background": "light"
     },
     "output_type": "display_data"
    }
   ],
   "source": [
    "print('Минимальный возраст абонента:', df['age'].min())\n",
    "print('Максимальный возраст абонента:', df['age'].max())\n",
    "print('Пропусков:', len(df[df['age'].isna()]))\n",
    "df['age'].hist(bins = 20, figsize = (12,5))"
   ]
  },
  {
   "cell_type": "markdown",
   "metadata": {},
   "source": [
    "Экстремальные значения возраста пользователей не вызывают сомнений в достоверности."
   ]
  },
  {
   "cell_type": "code",
   "execution_count": 96,
   "metadata": {},
   "outputs": [],
   "source": [
    "df['churn_date'] = pd.DatetimeIndex(df['churn_date'])\n",
    "df['reg_date'] = pd.DatetimeIndex(df['reg_date'])"
   ]
  },
  {
   "cell_type": "markdown",
   "metadata": {},
   "source": [
    "Формат дат регистрации пользователя и окончания контракта с пользователем приведены в корректный вид. "
   ]
  },
  {
   "cell_type": "code",
   "execution_count": 97,
   "metadata": {},
   "outputs": [
    {
     "data": {
      "text/plain": [
       "array(['Краснодар', 'Москва', 'Стерлитамак', 'Новокузнецк',\n",
       "       'Набережные Челны', 'Ульяновск', 'Челябинск', 'Пермь', 'Тюмень',\n",
       "       'Самара', 'Санкт-Петербург', 'Иваново', 'Чебоксары', 'Омск', 'Уфа',\n",
       "       'Томск', 'Чита', 'Мурманск', 'Петрозаводск', 'Тверь',\n",
       "       'Екатеринбург', 'Махачкала', 'Вологда', 'Череповец', 'Ярославль',\n",
       "       'Сочи', 'Хабаровск', 'Ставрополь', 'Рязань', 'Улан-Удэ', 'Тула',\n",
       "       'Саратов', 'Ростов-на-Дону', 'Казань', 'Иркутск', 'Курск',\n",
       "       'Калуга', 'Якутск', 'Астрахань', 'Химки', 'Владикавказ',\n",
       "       'Волгоград', 'Саранск', 'Ижевск', 'Новосибирск', 'Брянск',\n",
       "       'Тольятти', 'Нижний Тагил', 'Орёл', 'Белгород', 'Воронеж',\n",
       "       'Курган', 'Барнаул', 'Красноярск', 'Архангельск', 'Липецк',\n",
       "       'Кемерово', 'Киров', 'Сургут', 'Пенза', 'Волжский', 'Магнитогорск',\n",
       "       'Нижний Новгород', 'Кострома', 'Владивосток', 'Тамбов', 'Балашиха',\n",
       "       'Севастополь', 'Калининград', 'Оренбург', 'Смоленск',\n",
       "       'Нижневартовск', 'Владимир', 'Новороссийск', 'Грозный', 'Подольск'],\n",
       "      dtype=object)"
      ]
     },
     "execution_count": 97,
     "metadata": {},
     "output_type": "execute_result"
    }
   ],
   "source": [
    "df['city'].unique()"
   ]
  },
  {
   "cell_type": "markdown",
   "metadata": {},
   "source": [
    "Все города находятся на территории РФ, города из зоны роуминга в датасет не попали. "
   ]
  },
  {
   "cell_type": "markdown",
   "metadata": {},
   "source": [
    "Заменим на 0 расход Гб интернет-трафика, предположив, что некоторые пользователи могли не использовать интернет в те или иные месяцы. Приведем результат к целочисленным значениям. "
   ]
  },
  {
   "cell_type": "code",
   "execution_count": 98,
   "metadata": {},
   "outputs": [
    {
     "data": {
      "text/plain": [
       "<AxesSubplot:>"
      ]
     },
     "execution_count": 98,
     "metadata": {},
     "output_type": "execute_result"
    },
    {
     "data": {
      "image/png": "[encoded data removed]",
      "text/plain": [
       "<Figure size 864x360 with 1 Axes>"
      ]
     },
     "metadata": {
      "needs_background": "light"
     },
     "output_type": "display_data"
    }
   ],
   "source": [
    "df['gb_used'] = df['gb_used'].fillna(0)\n",
    "df['gb_used'] = df['gb_used'].astype('int')\n",
    "df['gb_per_month_included'] = df['gb_per_month_included'].astype('int')\n",
    "df['gb_used'].hist(bins = 20, figsize = (12,5))"
   ]
  },
  {
   "cell_type": "markdown",
   "metadata": {},
   "source": [
    "Повторно изучим датасет, чтобы убедиться в аккуратности его оформления. "
   ]
  },
  {
   "cell_type": "code",
   "execution_count": 99,
   "metadata": {},
   "outputs": [
    {
     "name": "stdout",
     "output_type": "stream",
     "text": [
      "<class 'pandas.core.frame.DataFrame'>\n",
      "Int64Index: 3214 entries, 0 to 3213\n",
      "Data columns (total 20 columns):\n",
      " #   Column                 Non-Null Count  Dtype         \n",
      "---  ------                 --------------  -----         \n",
      " 0   user_id                3214 non-null   int64         \n",
      " 1   month                  3214 non-null   int64         \n",
      " 2   minutes_sum            3214 non-null   int64         \n",
      " 3   messages_sum           3214 non-null   int64         \n",
      " 4   age                    3214 non-null   int64         \n",
      " 5   churn_date             187 non-null    datetime64[ns]\n",
      " 6   city                   3214 non-null   object        \n",
      " 7   first_name             3214 non-null   object        \n",
      " 8   last_name              3214 non-null   object        \n",
      " 9   reg_date               3214 non-null   datetime64[ns]\n",
      " 10  tariff_name            3214 non-null   object        \n",
      " 11  gb_used                3214 non-null   int64         \n",
      " 12  messages_included      3214 non-null   int64         \n",
      " 13  minutes_included       3214 non-null   int64         \n",
      " 14  rub_monthly_fee        3214 non-null   int64         \n",
      " 15  rub_per_gb             3214 non-null   int64         \n",
      " 16  rub_per_message        3214 non-null   int64         \n",
      " 17  rub_per_minute         3214 non-null   int64         \n",
      " 18  gb_per_month_included  3214 non-null   int64         \n",
      " 19  cost                   3214 non-null   float64       \n",
      "dtypes: datetime64[ns](2), float64(1), int64(13), object(4)\n",
      "memory usage: 527.3+ KB\n"
     ]
    }
   ],
   "source": [
    "df.info()"
   ]
  },
  {
   "cell_type": "markdown",
   "metadata": {},
   "source": [
    "## Анализ данных"
   ]
  },
  {
   "cell_type": "code",
   "execution_count": 123,
   "metadata": {},
   "outputs": [
    {
     "data": {
      "text/html": [
       "<div>\n",
       "<style scoped>\n",
       "    .dataframe tbody tr th:only-of-type {\n",
       "        vertical-align: middle;\n",
       "    }\n",
       "\n",
       "    .dataframe tbody tr th {\n",
       "        vertical-align: top;\n",
       "    }\n",
       "\n",
       "    .dataframe thead tr th {\n",
       "        text-align: left;\n",
       "    }\n",
       "\n",
       "    .dataframe thead tr:last-of-type th {\n",
       "        text-align: right;\n",
       "    }\n",
       "</style>\n",
       "<table border=\"1\" class=\"dataframe\">\n",
       "  <thead>\n",
       "    <tr>\n",
       "      <th></th>\n",
       "      <th colspan=\"3\" halign=\"left\">mean</th>\n",
       "      <th colspan=\"3\" halign=\"left\">std</th>\n",
       "      <th colspan=\"3\" halign=\"left\">var</th>\n",
       "    </tr>\n",
       "    <tr>\n",
       "      <th></th>\n",
       "      <th>gb_used</th>\n",
       "      <th>messages_sum</th>\n",
       "      <th>minutes_sum</th>\n",
       "      <th>gb_used</th>\n",
       "      <th>messages_sum</th>\n",
       "      <th>minutes_sum</th>\n",
       "      <th>gb_used</th>\n",
       "      <th>messages_sum</th>\n",
       "      <th>minutes_sum</th>\n",
       "    </tr>\n",
       "    <tr>\n",
       "      <th>tariff_name</th>\n",
       "      <th></th>\n",
       "      <th></th>\n",
       "      <th></th>\n",
       "      <th></th>\n",
       "      <th></th>\n",
       "      <th></th>\n",
       "      <th></th>\n",
       "      <th></th>\n",
       "      <th></th>\n",
       "    </tr>\n",
       "  </thead>\n",
       "  <tbody>\n",
       "    <tr>\n",
       "      <th>smart</th>\n",
       "      <td>16.328847</td>\n",
       "      <td>33.384029</td>\n",
       "      <td>417.934948</td>\n",
       "      <td>5.747061</td>\n",
       "      <td>28.227876</td>\n",
       "      <td>190.313730</td>\n",
       "      <td>33.028705</td>\n",
       "      <td>796.812958</td>\n",
       "      <td>36219.315784</td>\n",
       "    </tr>\n",
       "    <tr>\n",
       "      <th>ultra</th>\n",
       "      <td>19.494416</td>\n",
       "      <td>49.363452</td>\n",
       "      <td>526.623350</td>\n",
       "      <td>9.853511</td>\n",
       "      <td>47.804457</td>\n",
       "      <td>317.606098</td>\n",
       "      <td>97.091686</td>\n",
       "      <td>2285.266143</td>\n",
       "      <td>100873.633397</td>\n",
       "    </tr>\n",
       "  </tbody>\n",
       "</table>\n",
       "</div>"
      ],
      "text/plain": [
       "                  mean                                std               \\\n",
       "               gb_used messages_sum minutes_sum   gb_used messages_sum   \n",
       "tariff_name                                                              \n",
       "smart        16.328847    33.384029  417.934948  5.747061    28.227876   \n",
       "ultra        19.494416    49.363452  526.623350  9.853511    47.804457   \n",
       "\n",
       "                               var                              \n",
       "            minutes_sum    gb_used messages_sum    minutes_sum  \n",
       "tariff_name                                                     \n",
       "smart        190.313730  33.028705   796.812958   36219.315784  \n",
       "ultra        317.606098  97.091686  2285.266143  100873.633397  "
      ]
     },
     "execution_count": 123,
     "metadata": {},
     "output_type": "execute_result"
    }
   ],
   "source": [
    "# код ревьюера\n",
    "df.pivot_table(index = 'tariff_name', values = ['minutes_sum', 'gb_used', 'messages_sum'],\n",
    "                aggfunc = ['mean', 'std', 'var'])"
   ]
  },
  {
   "cell_type": "markdown",
   "metadata": {},
   "source": [
    "### Длительность вызовов"
   ]
  },
  {
   "cell_type": "markdown",
   "metadata": {},
   "source": [
    "Посчитаем средние длительности вызовов по месяцам по тарифам. "
   ]
  },
  {
   "cell_type": "code",
   "execution_count": 102,
   "metadata": {},
   "outputs": [
    {
     "data": {
      "text/html": [
       "<div>\n",
       "<style scoped>\n",
       "    .dataframe tbody tr th:only-of-type {\n",
       "        vertical-align: middle;\n",
       "    }\n",
       "\n",
       "    .dataframe tbody tr th {\n",
       "        vertical-align: top;\n",
       "    }\n",
       "\n",
       "    .dataframe thead th {\n",
       "        text-align: right;\n",
       "    }\n",
       "</style>\n",
       "<table border=\"1\" class=\"dataframe\">\n",
       "  <thead>\n",
       "    <tr style=\"text-align: right;\">\n",
       "      <th>tariff_name</th>\n",
       "      <th>month</th>\n",
       "      <th>smart</th>\n",
       "      <th>ultra</th>\n",
       "    </tr>\n",
       "  </thead>\n",
       "  <tbody>\n",
       "    <tr>\n",
       "      <th>0</th>\n",
       "      <td>1</td>\n",
       "      <td>203.852941</td>\n",
       "      <td>428.111111</td>\n",
       "    </tr>\n",
       "    <tr>\n",
       "      <th>1</th>\n",
       "      <td>2</td>\n",
       "      <td>298.689655</td>\n",
       "      <td>297.125000</td>\n",
       "    </tr>\n",
       "    <tr>\n",
       "      <th>2</th>\n",
       "      <td>3</td>\n",
       "      <td>390.051948</td>\n",
       "      <td>489.648649</td>\n",
       "    </tr>\n",
       "    <tr>\n",
       "      <th>3</th>\n",
       "      <td>4</td>\n",
       "      <td>367.133929</td>\n",
       "      <td>458.018182</td>\n",
       "    </tr>\n",
       "    <tr>\n",
       "      <th>4</th>\n",
       "      <td>5</td>\n",
       "      <td>387.361702</td>\n",
       "      <td>510.328358</td>\n",
       "    </tr>\n",
       "  </tbody>\n",
       "</table>\n",
       "</div>"
      ],
      "text/plain": [
       "tariff_name  month       smart       ultra\n",
       "0                1  203.852941  428.111111\n",
       "1                2  298.689655  297.125000\n",
       "2                3  390.051948  489.648649\n",
       "3                4  367.133929  458.018182\n",
       "4                5  387.361702  510.328358"
      ]
     },
     "metadata": {},
     "output_type": "display_data"
    }
   ],
   "source": [
    "duration_mean = df.pivot_table(index='month', columns='tariff_name',values='minutes_sum', aggfunc='mean')\n",
    "duration_mean = duration_mean.reset_index()\n",
    "display(duration_mean.head())"
   ]
  },
  {
   "cell_type": "markdown",
   "metadata": {},
   "source": [
    "Изучим распределение длительности вызовов по месяцам по тарифам."
   ]
  },
  {
   "cell_type": "code",
   "execution_count": 103,
   "metadata": {},
   "outputs": [
    {
     "data": {
      "text/plain": [
       "Text(0, 0.5, 'Месяцы')"
      ]
     },
     "execution_count": 103,
     "metadata": {},
     "output_type": "execute_result"
    },
    {
     "data": {
      "image/png": "[encoded data removed]",
      "text/plain": [
       "<Figure size 864x360 with 1 Axes>"
      ]
     },
     "metadata": {
      "needs_background": "light"
     },
     "output_type": "display_data"
    }
   ],
   "source": [
    "duration_mean['smart'].hist(bins=10, figsize = (12,5), legend=True, alpha = 0.5).set_title('Распределение средней продолжительности вызовов')\n",
    "duration_mean['ultra'].hist(bins=10, figsize = (12,5), legend=True, alpha = 0.5)\n",
    "pl.xlabel(\"Средняя продолжительность вызова, мин\")\n",
    "pl.ylabel(\"Месяцы\")"
   ]
  },
  {
   "cell_type": "markdown",
   "metadata": {},
   "source": [
    "**Вывод**: средняя продолжительность вызова в тарифе Ультра значительно выше, чем в тарифе Смарт. "
   ]
  },
  {
   "cell_type": "markdown",
   "metadata": {},
   "source": [
    "Рассмотрим распределение дисперсии длительности вызова по месяцу по тарифу."
   ]
  },
  {
   "cell_type": "code",
   "execution_count": 104,
   "metadata": {},
   "outputs": [
    {
     "data": {
      "text/html": [
       "<div>\n",
       "<style scoped>\n",
       "    .dataframe tbody tr th:only-of-type {\n",
       "        vertical-align: middle;\n",
       "    }\n",
       "\n",
       "    .dataframe tbody tr th {\n",
       "        vertical-align: top;\n",
       "    }\n",
       "\n",
       "    .dataframe thead th {\n",
       "        text-align: right;\n",
       "    }\n",
       "</style>\n",
       "<table border=\"1\" class=\"dataframe\">\n",
       "  <thead>\n",
       "    <tr style=\"text-align: right;\">\n",
       "      <th>tariff_name</th>\n",
       "      <th>month</th>\n",
       "      <th>smart</th>\n",
       "      <th>ultra</th>\n",
       "    </tr>\n",
       "  </thead>\n",
       "  <tbody>\n",
       "    <tr>\n",
       "      <th>0</th>\n",
       "      <td>1</td>\n",
       "      <td>23787.341355</td>\n",
       "      <td>72769.361111</td>\n",
       "    </tr>\n",
       "    <tr>\n",
       "      <th>1</th>\n",
       "      <td>2</td>\n",
       "      <td>36412.287961</td>\n",
       "      <td>87919.679348</td>\n",
       "    </tr>\n",
       "    <tr>\n",
       "      <th>2</th>\n",
       "      <td>3</td>\n",
       "      <td>36823.155161</td>\n",
       "      <td>111384.900901</td>\n",
       "    </tr>\n",
       "    <tr>\n",
       "      <th>3</th>\n",
       "      <td>4</td>\n",
       "      <td>34778.207127</td>\n",
       "      <td>71653.870034</td>\n",
       "    </tr>\n",
       "    <tr>\n",
       "      <th>4</th>\n",
       "      <td>5</td>\n",
       "      <td>34820.061094</td>\n",
       "      <td>83870.193578</td>\n",
       "    </tr>\n",
       "  </tbody>\n",
       "</table>\n",
       "</div>"
      ],
      "text/plain": [
       "tariff_name  month         smart          ultra\n",
       "0                1  23787.341355   72769.361111\n",
       "1                2  36412.287961   87919.679348\n",
       "2                3  36823.155161  111384.900901\n",
       "3                4  34778.207127   71653.870034\n",
       "4                5  34820.061094   83870.193578"
      ]
     },
     "metadata": {},
     "output_type": "display_data"
    },
    {
     "data": {
      "text/plain": [
       "Text(0, 0.5, 'Месяцы')"
      ]
     },
     "execution_count": 104,
     "metadata": {},
     "output_type": "execute_result"
    },
    {
     "data": {
      "image/png": "[encoded data removed]",
      "text/plain": [
       "<Figure size 864x360 with 1 Axes>"
      ]
     },
     "metadata": {
      "needs_background": "light"
     },
     "output_type": "display_data"
    }
   ],
   "source": [
    "duration_var = df.pivot_table(index='month', columns='tariff_name',values='minutes_sum', aggfunc=np.var)\n",
    "duration_var = duration_var.reset_index()\n",
    "display(duration_var.head())\n",
    "duration_var['smart'].hist(bins=10, figsize = (12,5), legend=True, alpha = 0.5).set_title('Дисперсия длительности вызова')\n",
    "duration_var['ultra'].hist(bins=10, figsize = (12,5), legend=True, alpha = 0.5)\n",
    "pl.xlabel(\"Средняя продолжительность разговора, мин\")\n",
    "pl.ylabel(\"Месяцы\")"
   ]
  },
  {
   "cell_type": "code",
   "execution_count": 105,
   "metadata": {
    "scrolled": true
   },
   "outputs": [
    {
     "data": {
      "text/html": [
       "<div>\n",
       "<style scoped>\n",
       "    .dataframe tbody tr th:only-of-type {\n",
       "        vertical-align: middle;\n",
       "    }\n",
       "\n",
       "    .dataframe tbody tr th {\n",
       "        vertical-align: top;\n",
       "    }\n",
       "\n",
       "    .dataframe thead th {\n",
       "        text-align: right;\n",
       "    }\n",
       "</style>\n",
       "<table border=\"1\" class=\"dataframe\">\n",
       "  <thead>\n",
       "    <tr style=\"text-align: right;\">\n",
       "      <th></th>\n",
       "      <th>user_id</th>\n",
       "      <th>month</th>\n",
       "      <th>minutes_sum</th>\n",
       "      <th>messages_sum</th>\n",
       "      <th>age</th>\n",
       "      <th>churn_date</th>\n",
       "      <th>city</th>\n",
       "      <th>first_name</th>\n",
       "      <th>last_name</th>\n",
       "      <th>reg_date</th>\n",
       "      <th>tariff_name</th>\n",
       "      <th>gb_used</th>\n",
       "      <th>messages_included</th>\n",
       "      <th>minutes_included</th>\n",
       "      <th>rub_monthly_fee</th>\n",
       "      <th>rub_per_gb</th>\n",
       "      <th>rub_per_message</th>\n",
       "      <th>rub_per_minute</th>\n",
       "      <th>gb_per_month_included</th>\n",
       "      <th>cost</th>\n",
       "    </tr>\n",
       "  </thead>\n",
       "  <tbody>\n",
       "    <tr>\n",
       "      <th>0</th>\n",
       "      <td>1000</td>\n",
       "      <td>5</td>\n",
       "      <td>159</td>\n",
       "      <td>22</td>\n",
       "      <td>52</td>\n",
       "      <td>NaT</td>\n",
       "      <td>Краснодар</td>\n",
       "      <td>Рафаил</td>\n",
       "      <td>Верещагин</td>\n",
       "      <td>2018-05-25</td>\n",
       "      <td>ultra</td>\n",
       "      <td>3</td>\n",
       "      <td>1000</td>\n",
       "      <td>3000</td>\n",
       "      <td>1950</td>\n",
       "      <td>150</td>\n",
       "      <td>1</td>\n",
       "      <td>1</td>\n",
       "      <td>30</td>\n",
       "      <td>1950.0</td>\n",
       "    </tr>\n",
       "    <tr>\n",
       "      <th>1</th>\n",
       "      <td>1000</td>\n",
       "      <td>6</td>\n",
       "      <td>172</td>\n",
       "      <td>60</td>\n",
       "      <td>52</td>\n",
       "      <td>NaT</td>\n",
       "      <td>Краснодар</td>\n",
       "      <td>Рафаил</td>\n",
       "      <td>Верещагин</td>\n",
       "      <td>2018-05-25</td>\n",
       "      <td>ultra</td>\n",
       "      <td>23</td>\n",
       "      <td>1000</td>\n",
       "      <td>3000</td>\n",
       "      <td>1950</td>\n",
       "      <td>150</td>\n",
       "      <td>1</td>\n",
       "      <td>1</td>\n",
       "      <td>30</td>\n",
       "      <td>1950.0</td>\n",
       "    </tr>\n",
       "    <tr>\n",
       "      <th>2</th>\n",
       "      <td>1000</td>\n",
       "      <td>7</td>\n",
       "      <td>340</td>\n",
       "      <td>75</td>\n",
       "      <td>52</td>\n",
       "      <td>NaT</td>\n",
       "      <td>Краснодар</td>\n",
       "      <td>Рафаил</td>\n",
       "      <td>Верещагин</td>\n",
       "      <td>2018-05-25</td>\n",
       "      <td>ultra</td>\n",
       "      <td>14</td>\n",
       "      <td>1000</td>\n",
       "      <td>3000</td>\n",
       "      <td>1950</td>\n",
       "      <td>150</td>\n",
       "      <td>1</td>\n",
       "      <td>1</td>\n",
       "      <td>30</td>\n",
       "      <td>1950.0</td>\n",
       "    </tr>\n",
       "    <tr>\n",
       "      <th>3</th>\n",
       "      <td>1000</td>\n",
       "      <td>8</td>\n",
       "      <td>408</td>\n",
       "      <td>81</td>\n",
       "      <td>52</td>\n",
       "      <td>NaT</td>\n",
       "      <td>Краснодар</td>\n",
       "      <td>Рафаил</td>\n",
       "      <td>Верещагин</td>\n",
       "      <td>2018-05-25</td>\n",
       "      <td>ultra</td>\n",
       "      <td>14</td>\n",
       "      <td>1000</td>\n",
       "      <td>3000</td>\n",
       "      <td>1950</td>\n",
       "      <td>150</td>\n",
       "      <td>1</td>\n",
       "      <td>1</td>\n",
       "      <td>30</td>\n",
       "      <td>1950.0</td>\n",
       "    </tr>\n",
       "    <tr>\n",
       "      <th>4</th>\n",
       "      <td>1000</td>\n",
       "      <td>9</td>\n",
       "      <td>466</td>\n",
       "      <td>57</td>\n",
       "      <td>52</td>\n",
       "      <td>NaT</td>\n",
       "      <td>Краснодар</td>\n",
       "      <td>Рафаил</td>\n",
       "      <td>Верещагин</td>\n",
       "      <td>2018-05-25</td>\n",
       "      <td>ultra</td>\n",
       "      <td>15</td>\n",
       "      <td>1000</td>\n",
       "      <td>3000</td>\n",
       "      <td>1950</td>\n",
       "      <td>150</td>\n",
       "      <td>1</td>\n",
       "      <td>1</td>\n",
       "      <td>30</td>\n",
       "      <td>1950.0</td>\n",
       "    </tr>\n",
       "  </tbody>\n",
       "</table>\n",
       "</div>"
      ],
      "text/plain": [
       "   user_id  month  minutes_sum  messages_sum  age churn_date       city  \\\n",
       "0     1000      5          159            22   52        NaT  Краснодар   \n",
       "1     1000      6          172            60   52        NaT  Краснодар   \n",
       "2     1000      7          340            75   52        NaT  Краснодар   \n",
       "3     1000      8          408            81   52        NaT  Краснодар   \n",
       "4     1000      9          466            57   52        NaT  Краснодар   \n",
       "\n",
       "  first_name  last_name   reg_date tariff_name  gb_used  messages_included  \\\n",
       "0     Рафаил  Верещагин 2018-05-25       ultra        3               1000   \n",
       "1     Рафаил  Верещагин 2018-05-25       ultra       23               1000   \n",
       "2     Рафаил  Верещагин 2018-05-25       ultra       14               1000   \n",
       "3     Рафаил  Верещагин 2018-05-25       ultra       14               1000   \n",
       "4     Рафаил  Верещагин 2018-05-25       ultra       15               1000   \n",
       "\n",
       "   minutes_included  rub_monthly_fee  rub_per_gb  rub_per_message  \\\n",
       "0              3000             1950         150                1   \n",
       "1              3000             1950         150                1   \n",
       "2              3000             1950         150                1   \n",
       "3              3000             1950         150                1   \n",
       "4              3000             1950         150                1   \n",
       "\n",
       "   rub_per_minute  gb_per_month_included    cost  \n",
       "0               1                     30  1950.0  \n",
       "1               1                     30  1950.0  \n",
       "2               1                     30  1950.0  \n",
       "3               1                     30  1950.0  \n",
       "4               1                     30  1950.0  "
      ]
     },
     "metadata": {},
     "output_type": "display_data"
    }
   ],
   "source": [
    "display(df.head())"
   ]
  },
  {
   "cell_type": "code",
   "execution_count": 106,
   "metadata": {},
   "outputs": [
    {
     "data": {
      "text/plain": [
       "<matplotlib.legend.Legend at 0x7fe795be4a60>"
      ]
     },
     "execution_count": 106,
     "metadata": {},
     "output_type": "execute_result"
    },
    {
     "data": {
      "image/png": "[encoded data removed]",
      "text/plain": [
       "<Figure size 864x360 with 1 Axes>"
      ]
     },
     "metadata": {
      "needs_background": "light"
     },
     "output_type": "display_data"
    }
   ],
   "source": [
    "df[df['tariff_name'] == 'smart']['minutes_sum'].hist(bins=40, figsize = (12,5), alpha = 0.5)\n",
    "df[df['tariff_name'] == 'ultra']['minutes_sum'].hist(bins=40, figsize = (12,5), alpha = 0.5)\n",
    "pl.xlabel(\"Продолжительность вызова, мин\")\n",
    "pl.ylabel(\"Количество звонков\")\n",
    "plt.legend(['smart', 'ultra'])"
   ]
  },
  {
   "cell_type": "markdown",
   "metadata": {},
   "source": [
    "**Вывод**: распределение дисперсии тарифа Смарт значительно уже по сравнению с распределением дисперсии тарифа Ультра. \n",
    "Из этого можно сделать вывод, что пользователи тарифа Смарт склонны иметь вызовы в более узком диапазоне длительности. \n",
    "Пользователи тарифа Ультра, наоборот, не отличаются единообразным (в этом смысле) поведением.\n",
    "Количество суммы длительности звонков Смарт имеет ярко выраженный пик в районе 480 минут/ месяц. До этого значения количество суммы длительности звонков растут, после - снижаются и практически обнуляются ближе к сумм длительности звонков 1000 минут/ месяц.\n",
    "Количество суммы длительности звонков Ультра не имеют ярко выраженных пиков, а максимальная сумма длительности звонков Ультра сильно выше, чем у Смарт. "
   ]
  },
  {
   "cell_type": "markdown",
   "metadata": {},
   "source": [
    "Рассмотрим распределение ст отклонения длительности вызова по месяцу по тарифу."
   ]
  },
  {
   "cell_type": "code",
   "execution_count": 107,
   "metadata": {},
   "outputs": [
    {
     "data": {
      "text/html": [
       "<div>\n",
       "<style scoped>\n",
       "    .dataframe tbody tr th:only-of-type {\n",
       "        vertical-align: middle;\n",
       "    }\n",
       "\n",
       "    .dataframe tbody tr th {\n",
       "        vertical-align: top;\n",
       "    }\n",
       "\n",
       "    .dataframe thead th {\n",
       "        text-align: right;\n",
       "    }\n",
       "</style>\n",
       "<table border=\"1\" class=\"dataframe\">\n",
       "  <thead>\n",
       "    <tr style=\"text-align: right;\">\n",
       "      <th>tariff_name</th>\n",
       "      <th>month</th>\n",
       "      <th>smart</th>\n",
       "      <th>ultra</th>\n",
       "    </tr>\n",
       "  </thead>\n",
       "  <tbody>\n",
       "    <tr>\n",
       "      <th>0</th>\n",
       "      <td>1</td>\n",
       "      <td>154.231454</td>\n",
       "      <td>269.757968</td>\n",
       "    </tr>\n",
       "    <tr>\n",
       "      <th>1</th>\n",
       "      <td>2</td>\n",
       "      <td>190.820041</td>\n",
       "      <td>296.512528</td>\n",
       "    </tr>\n",
       "    <tr>\n",
       "      <th>2</th>\n",
       "      <td>3</td>\n",
       "      <td>191.893604</td>\n",
       "      <td>333.743765</td>\n",
       "    </tr>\n",
       "    <tr>\n",
       "      <th>3</th>\n",
       "      <td>4</td>\n",
       "      <td>186.489161</td>\n",
       "      <td>267.682405</td>\n",
       "    </tr>\n",
       "    <tr>\n",
       "      <th>4</th>\n",
       "      <td>5</td>\n",
       "      <td>186.601343</td>\n",
       "      <td>289.603511</td>\n",
       "    </tr>\n",
       "  </tbody>\n",
       "</table>\n",
       "</div>"
      ],
      "text/plain": [
       "tariff_name  month       smart       ultra\n",
       "0                1  154.231454  269.757968\n",
       "1                2  190.820041  296.512528\n",
       "2                3  191.893604  333.743765\n",
       "3                4  186.489161  267.682405\n",
       "4                5  186.601343  289.603511"
      ]
     },
     "metadata": {},
     "output_type": "display_data"
    },
    {
     "data": {
      "text/plain": [
       "Text(0, 0.5, 'Месяцы')"
      ]
     },
     "execution_count": 107,
     "metadata": {},
     "output_type": "execute_result"
    },
    {
     "data": {
      "image/png": "[encoded data removed]",
      "text/plain": [
       "<Figure size 864x360 with 1 Axes>"
      ]
     },
     "metadata": {
      "needs_background": "light"
     },
     "output_type": "display_data"
    }
   ],
   "source": [
    "duration_std = df.pivot_table(index='month', columns='tariff_name',values='minutes_sum', aggfunc=np.std)\n",
    "duration_std = duration_std.reset_index()\n",
    "display(duration_std.head())\n",
    "duration_std['smart'].hist(bins=10, figsize = (12,5), legend=True, alpha = 0.5).set_title('Ст отклонение длительности вызова')\n",
    "duration_std['ultra'].hist(bins=10, figsize = (12,5), legend=True, alpha = 0.5)\n",
    "pl.xlabel(\"Средняя продолжительность разговора, мин\")\n",
    "pl.ylabel(\"Месяцы\")"
   ]
  },
  {
   "cell_type": "markdown",
   "metadata": {},
   "source": [
    "**Вывод:** графически поведение ст отклонения не сильно отличается от поведения дисперсии, что логично, ведь ст отклонение является квадратным корнем дисперсии."
   ]
  },
  {
   "cell_type": "code",
   "execution_count": 108,
   "metadata": {},
   "outputs": [
    {
     "data": {
      "text/plain": [
       "Text(0.5, 1.0, 'Средняя длительность вызова по месяцам')"
      ]
     },
     "execution_count": 108,
     "metadata": {},
     "output_type": "execute_result"
    },
    {
     "data": {
      "image/png": "[encoded data removed]",
      "text/plain": [
       "<Figure size 864x360 with 1 Axes>"
      ]
     },
     "metadata": {
      "needs_background": "light"
     },
     "output_type": "display_data"
    }
   ],
   "source": [
    "(\n",
    "   df.pivot_table(index='month', columns='tariff_name', values = 'minutes_sum', aggfunc = 'mean')\n",
    "    .plot(style = 'o-',grid = True, figsize = (12,5))\n",
    "    .set_title('Средняя длительность вызова по месяцам')\n",
    ")"
   ]
  },
  {
   "cell_type": "markdown",
   "metadata": {},
   "source": [
    "**Вывод:** продолжительность вызовов в тарифе Ультра значительно выше, чем в тарифе Смарт (~100 минут/ месяц в среднем), однако в феврале длительность вызовов сравнялась. Это сочленение выглядит либо невыявленной ранее аномалией в данных, либо в феврале произошли масштабные события, которые заметно снизили длительность вызовов в тарифе Ультра по всей стране.  "
   ]
  },
  {
   "cell_type": "markdown",
   "metadata": {},
   "source": [
    "### Число сообщений"
   ]
  },
  {
   "cell_type": "markdown",
   "metadata": {},
   "source": [
    "По аналогии с пунктом выше посчитаем среднее число сообщений по месяцам по тарифам. "
   ]
  },
  {
   "cell_type": "code",
   "execution_count": 109,
   "metadata": {},
   "outputs": [
    {
     "data": {
      "text/html": [
       "<div>\n",
       "<style scoped>\n",
       "    .dataframe tbody tr th:only-of-type {\n",
       "        vertical-align: middle;\n",
       "    }\n",
       "\n",
       "    .dataframe tbody tr th {\n",
       "        vertical-align: top;\n",
       "    }\n",
       "\n",
       "    .dataframe thead th {\n",
       "        text-align: right;\n",
       "    }\n",
       "</style>\n",
       "<table border=\"1\" class=\"dataframe\">\n",
       "  <thead>\n",
       "    <tr style=\"text-align: right;\">\n",
       "      <th>tariff_name</th>\n",
       "      <th>month</th>\n",
       "      <th>smart</th>\n",
       "      <th>ultra</th>\n",
       "    </tr>\n",
       "  </thead>\n",
       "  <tbody>\n",
       "    <tr>\n",
       "      <th>0</th>\n",
       "      <td>1</td>\n",
       "      <td>18.235294</td>\n",
       "      <td>33.777778</td>\n",
       "    </tr>\n",
       "    <tr>\n",
       "      <th>1</th>\n",
       "      <td>2</td>\n",
       "      <td>24.086207</td>\n",
       "      <td>21.958333</td>\n",
       "    </tr>\n",
       "    <tr>\n",
       "      <th>2</th>\n",
       "      <td>3</td>\n",
       "      <td>31.857143</td>\n",
       "      <td>32.297297</td>\n",
       "    </tr>\n",
       "    <tr>\n",
       "      <th>3</th>\n",
       "      <td>4</td>\n",
       "      <td>30.741071</td>\n",
       "      <td>31.563636</td>\n",
       "    </tr>\n",
       "    <tr>\n",
       "      <th>4</th>\n",
       "      <td>5</td>\n",
       "      <td>33.773050</td>\n",
       "      <td>37.850746</td>\n",
       "    </tr>\n",
       "  </tbody>\n",
       "</table>\n",
       "</div>"
      ],
      "text/plain": [
       "tariff_name  month      smart      ultra\n",
       "0                1  18.235294  33.777778\n",
       "1                2  24.086207  21.958333\n",
       "2                3  31.857143  32.297297\n",
       "3                4  30.741071  31.563636\n",
       "4                5  33.773050  37.850746"
      ]
     },
     "metadata": {},
     "output_type": "display_data"
    }
   ],
   "source": [
    "messanges_mean = df.pivot_table(index='month', columns='tariff_name', values='messages_sum', aggfunc='mean')\n",
    "messanges_mean = messanges_mean.reset_index()\n",
    "display(messanges_mean.head())"
   ]
  },
  {
   "cell_type": "code",
   "execution_count": 110,
   "metadata": {},
   "outputs": [
    {
     "data": {
      "text/plain": [
       "Text(0, 0.5, 'Месяцы')"
      ]
     },
     "execution_count": 110,
     "metadata": {},
     "output_type": "execute_result"
    },
    {
     "data": {
      "image/png": "[encoded data removed]",
      "text/plain": [
       "<Figure size 864x360 with 1 Axes>"
      ]
     },
     "metadata": {
      "needs_background": "light"
     },
     "output_type": "display_data"
    }
   ],
   "source": [
    "messanges_mean['smart'].hist(bins=10, figsize = (12,5), legend=True, alpha = 0.5).set_title('Распределение числа сообщений')\n",
    "messanges_mean['ultra'].hist(bins=10, figsize = (12,5), legend=True, alpha = 0.5)\n",
    "pl.xlabel(\"Сообщения, ед\")\n",
    "pl.ylabel(\"Месяцы\")"
   ]
  },
  {
   "cell_type": "code",
   "execution_count": 111,
   "metadata": {},
   "outputs": [
    {
     "data": {
      "text/plain": [
       "<matplotlib.legend.Legend at 0x7fe7959d7bb0>"
      ]
     },
     "execution_count": 111,
     "metadata": {},
     "output_type": "execute_result"
    },
    {
     "data": {
      "image/png": "[encoded data removed]",
      "text/plain": [
       "<Figure size 864x360 with 1 Axes>"
      ]
     },
     "metadata": {
      "needs_background": "light"
     },
     "output_type": "display_data"
    }
   ],
   "source": [
    "df[df['tariff_name'] == 'smart']['messages_sum'].hist(bins=40, figsize = (12,5), alpha = 0.5)\n",
    "df[df['tariff_name'] == 'ultra']['messages_sum'].hist(bins=40, figsize = (12,5), alpha = 0.5)\n",
    "pl.xlabel(\"Количество сообщений, ед\")\n",
    "pl.ylabel(\"Частота\")\n",
    "plt.legend(['smart', 'ultra'])"
   ]
  },
  {
   "cell_type": "markdown",
   "metadata": {},
   "source": [
    "**Обратить внимание:** в целом, пользователи тарифа Смарт более полугода отправляли, в среднем, 33-35 сообщений в месяц. \n",
    "Эта информация может быть полезной для составления новых тарифных планов. \n",
    "Пользователи Смарт чаще пишут до 75 сообщений/ месяц. Более 75 сообщений/ месяц пишут пользователи Ультра.\n",
    "Пользователи Смарт значительно чаще пользователей Ультра вообще не пользуются сообщениями. "
   ]
  },
  {
   "cell_type": "code",
   "execution_count": 112,
   "metadata": {},
   "outputs": [
    {
     "data": {
      "text/html": [
       "<div>\n",
       "<style scoped>\n",
       "    .dataframe tbody tr th:only-of-type {\n",
       "        vertical-align: middle;\n",
       "    }\n",
       "\n",
       "    .dataframe tbody tr th {\n",
       "        vertical-align: top;\n",
       "    }\n",
       "\n",
       "    .dataframe thead th {\n",
       "        text-align: right;\n",
       "    }\n",
       "</style>\n",
       "<table border=\"1\" class=\"dataframe\">\n",
       "  <thead>\n",
       "    <tr style=\"text-align: right;\">\n",
       "      <th>tariff_name</th>\n",
       "      <th>index</th>\n",
       "      <th>month</th>\n",
       "      <th>smart</th>\n",
       "      <th>ultra</th>\n",
       "    </tr>\n",
       "  </thead>\n",
       "  <tbody>\n",
       "    <tr>\n",
       "      <th>0</th>\n",
       "      <td>0</td>\n",
       "      <td>1</td>\n",
       "      <td>23787.341355</td>\n",
       "      <td>72769.361111</td>\n",
       "    </tr>\n",
       "    <tr>\n",
       "      <th>1</th>\n",
       "      <td>1</td>\n",
       "      <td>2</td>\n",
       "      <td>36412.287961</td>\n",
       "      <td>87919.679348</td>\n",
       "    </tr>\n",
       "    <tr>\n",
       "      <th>2</th>\n",
       "      <td>2</td>\n",
       "      <td>3</td>\n",
       "      <td>36823.155161</td>\n",
       "      <td>111384.900901</td>\n",
       "    </tr>\n",
       "    <tr>\n",
       "      <th>3</th>\n",
       "      <td>3</td>\n",
       "      <td>4</td>\n",
       "      <td>34778.207127</td>\n",
       "      <td>71653.870034</td>\n",
       "    </tr>\n",
       "    <tr>\n",
       "      <th>4</th>\n",
       "      <td>4</td>\n",
       "      <td>5</td>\n",
       "      <td>34820.061094</td>\n",
       "      <td>83870.193578</td>\n",
       "    </tr>\n",
       "  </tbody>\n",
       "</table>\n",
       "</div>"
      ],
      "text/plain": [
       "tariff_name  index  month         smart          ultra\n",
       "0                0      1  23787.341355   72769.361111\n",
       "1                1      2  36412.287961   87919.679348\n",
       "2                2      3  36823.155161  111384.900901\n",
       "3                3      4  34778.207127   71653.870034\n",
       "4                4      5  34820.061094   83870.193578"
      ]
     },
     "metadata": {},
     "output_type": "display_data"
    },
    {
     "data": {
      "text/plain": [
       "Text(0, 0.5, 'Месяцы')"
      ]
     },
     "execution_count": 112,
     "metadata": {},
     "output_type": "execute_result"
    },
    {
     "data": {
      "image/png": "[encoded data removed]",
      "text/plain": [
       "<Figure size 864x360 with 1 Axes>"
      ]
     },
     "metadata": {
      "needs_background": "light"
     },
     "output_type": "display_data"
    }
   ],
   "source": [
    "messages_var = df.pivot_table(index='month', columns='tariff_name',values='messages_sum', aggfunc=np.var)\n",
    "messages_var = duration_var.reset_index()\n",
    "display(messages_var.head())\n",
    "messages_var['smart'].hist(bins=10, figsize = (12,5), legend=True, alpha = 0.5).set_title('Дисперсия числа сообщений')\n",
    "messages_var['ultra'].hist(bins=10, figsize = (12,5), legend=True, alpha = 0.5)\n",
    "pl.xlabel(\"Среднее число сообщений, ед\")\n",
    "pl.ylabel(\"Месяцы\")"
   ]
  },
  {
   "cell_type": "markdown",
   "metadata": {},
   "source": [
    "Аналогично с длительностью вызовов: пользователи Ультра более гибки в выборе, сколько сообщений в месяц им отправлять.\n",
    "Анализ ст отклонения не проводим, тк получим близкие по содержанию выводы. "
   ]
  },
  {
   "cell_type": "code",
   "execution_count": 113,
   "metadata": {},
   "outputs": [
    {
     "data": {
      "text/plain": [
       "Text(0.5, 1.0, 'Среднее число сообщений по месяцам')"
      ]
     },
     "execution_count": 113,
     "metadata": {},
     "output_type": "execute_result"
    },
    {
     "data": {
      "image/png": "[encoded data removed]",
      "text/plain": [
       "<Figure size 864x360 with 1 Axes>"
      ]
     },
     "metadata": {
      "needs_background": "light"
     },
     "output_type": "display_data"
    }
   ],
   "source": [
    "(\n",
    "   df.pivot_table(index='month', columns='tariff_name', values = 'messages_sum', aggfunc = 'mean')\n",
    "    .plot(style = 'o-',grid = True, figsize = (12,5))\n",
    "    .set_title('Среднее число сообщений по месяцам')\n",
    ")"
   ]
  },
  {
   "cell_type": "markdown",
   "metadata": {},
   "source": [
    "**Вывод:** в целом, пользователи Ультра пишут больше сообщений, чем пользователи Смарт, причем от месяца к месяцу тренд усиливается. Тем не менее, в феврале произошел значительный спад, на который мы обратили внимание при анализе длительности вызовов. "
   ]
  },
  {
   "cell_type": "markdown",
   "metadata": {},
   "source": [
    "### Трафик Гб"
   ]
  },
  {
   "cell_type": "code",
   "execution_count": 114,
   "metadata": {},
   "outputs": [
    {
     "data": {
      "text/html": [
       "<div>\n",
       "<style scoped>\n",
       "    .dataframe tbody tr th:only-of-type {\n",
       "        vertical-align: middle;\n",
       "    }\n",
       "\n",
       "    .dataframe tbody tr th {\n",
       "        vertical-align: top;\n",
       "    }\n",
       "\n",
       "    .dataframe thead th {\n",
       "        text-align: right;\n",
       "    }\n",
       "</style>\n",
       "<table border=\"1\" class=\"dataframe\">\n",
       "  <thead>\n",
       "    <tr style=\"text-align: right;\">\n",
       "      <th>tariff_name</th>\n",
       "      <th>month</th>\n",
       "      <th>smart</th>\n",
       "      <th>ultra</th>\n",
       "    </tr>\n",
       "  </thead>\n",
       "  <tbody>\n",
       "    <tr>\n",
       "      <th>0</th>\n",
       "      <td>1</td>\n",
       "      <td>8.735294</td>\n",
       "      <td>13.222222</td>\n",
       "    </tr>\n",
       "    <tr>\n",
       "      <th>1</th>\n",
       "      <td>2</td>\n",
       "      <td>11.844828</td>\n",
       "      <td>12.000000</td>\n",
       "    </tr>\n",
       "    <tr>\n",
       "      <th>2</th>\n",
       "      <td>3</td>\n",
       "      <td>15.233766</td>\n",
       "      <td>17.648649</td>\n",
       "    </tr>\n",
       "    <tr>\n",
       "      <th>3</th>\n",
       "      <td>4</td>\n",
       "      <td>13.625000</td>\n",
       "      <td>16.963636</td>\n",
       "    </tr>\n",
       "    <tr>\n",
       "      <th>4</th>\n",
       "      <td>5</td>\n",
       "      <td>15.907801</td>\n",
       "      <td>19.373134</td>\n",
       "    </tr>\n",
       "  </tbody>\n",
       "</table>\n",
       "</div>"
      ],
      "text/plain": [
       "tariff_name  month      smart      ultra\n",
       "0                1   8.735294  13.222222\n",
       "1                2  11.844828  12.000000\n",
       "2                3  15.233766  17.648649\n",
       "3                4  13.625000  16.963636\n",
       "4                5  15.907801  19.373134"
      ]
     },
     "metadata": {},
     "output_type": "display_data"
    }
   ],
   "source": [
    "gb_used_mean = df.pivot_table(index='month', columns='tariff_name',values='gb_used', aggfunc='mean')\n",
    "gb_used_mean = gb_used_mean.reset_index()\n",
    "display(gb_used_mean.head())"
   ]
  },
  {
   "cell_type": "code",
   "execution_count": 115,
   "metadata": {},
   "outputs": [
    {
     "data": {
      "text/plain": [
       "Text(0, 0.5, 'Individuals')"
      ]
     },
     "execution_count": 115,
     "metadata": {},
     "output_type": "execute_result"
    },
    {
     "data": {
      "image/png": "[encoded data removed]",
      "text/plain": [
       "<Figure size 864x360 with 1 Axes>"
      ]
     },
     "metadata": {
      "needs_background": "light"
     },
     "output_type": "display_data"
    }
   ],
   "source": [
    "gb_used_mean['smart'].hist(bins=10, figsize = (12,5), legend=True, alpha = 0.5).set_title('Среднее число Гб')\n",
    "gb_used_mean['ultra'].hist(bins=10, figsize = (12,5), legend=True, alpha = 0.5)\n",
    "pl.xlabel(\"Age\")\n",
    "pl.ylabel(\"Individuals\")"
   ]
  },
  {
   "cell_type": "code",
   "execution_count": 116,
   "metadata": {},
   "outputs": [
    {
     "data": {
      "text/plain": [
       "<matplotlib.legend.Legend at 0x7fe7950c1fd0>"
      ]
     },
     "execution_count": 116,
     "metadata": {},
     "output_type": "execute_result"
    },
    {
     "data": {
      "image/png": "[encoded data removed]",
      "text/plain": [
       "<Figure size 864x360 with 1 Axes>"
      ]
     },
     "metadata": {
      "needs_background": "light"
     },
     "output_type": "display_data"
    }
   ],
   "source": [
    "df[df['tariff_name'] == 'smart']['gb_used'].hist(bins=20, figsize = (12,5), alpha = 0.5)\n",
    "df[df['tariff_name'] == 'ultra']['gb_used'].hist(bins=20, figsize = (12,5), alpha = 0.5)\n",
    "pl.xlabel(\"Число Гб, Гб\")\n",
    "pl.ylabel(\"Частота\")\n",
    "plt.legend(['smart', 'ultra'])"
   ]
  },
  {
   "cell_type": "markdown",
   "metadata": {},
   "source": [
    "**Вывод:** пользователи обоих тарифов проявляют близкий интерес к потреблению интернет-трафика. По этому критерию можно сделать осторожный вывод, что тарифом Смарт пользуется значительное число молодых людей, которые больше времени проводят в интернете. \n",
    "Пользователи Смарт значительно чаще потребляют до 26 Гб/ месяц, чем пользователи Ультра. \n",
    "Пользователи Ультра чаще пользователей Смарт потребляют 27 и более Гб/ месяц. "
   ]
  },
  {
   "cell_type": "code",
   "execution_count": 117,
   "metadata": {},
   "outputs": [
    {
     "data": {
      "text/html": [
       "<div>\n",
       "<style scoped>\n",
       "    .dataframe tbody tr th:only-of-type {\n",
       "        vertical-align: middle;\n",
       "    }\n",
       "\n",
       "    .dataframe tbody tr th {\n",
       "        vertical-align: top;\n",
       "    }\n",
       "\n",
       "    .dataframe thead th {\n",
       "        text-align: right;\n",
       "    }\n",
       "</style>\n",
       "<table border=\"1\" class=\"dataframe\">\n",
       "  <thead>\n",
       "    <tr style=\"text-align: right;\">\n",
       "      <th>tariff_name</th>\n",
       "      <th>month</th>\n",
       "      <th>smart</th>\n",
       "      <th>ultra</th>\n",
       "    </tr>\n",
       "  </thead>\n",
       "  <tbody>\n",
       "    <tr>\n",
       "      <th>0</th>\n",
       "      <td>1</td>\n",
       "      <td>39.412656</td>\n",
       "      <td>44.444444</td>\n",
       "    </tr>\n",
       "    <tr>\n",
       "      <th>1</th>\n",
       "      <td>2</td>\n",
       "      <td>37.150938</td>\n",
       "      <td>109.130435</td>\n",
       "    </tr>\n",
       "    <tr>\n",
       "      <th>2</th>\n",
       "      <td>3</td>\n",
       "      <td>32.549897</td>\n",
       "      <td>114.345345</td>\n",
       "    </tr>\n",
       "    <tr>\n",
       "      <th>3</th>\n",
       "      <td>4</td>\n",
       "      <td>31.299550</td>\n",
       "      <td>89.443098</td>\n",
       "    </tr>\n",
       "    <tr>\n",
       "      <th>4</th>\n",
       "      <td>5</td>\n",
       "      <td>34.370010</td>\n",
       "      <td>95.631389</td>\n",
       "    </tr>\n",
       "  </tbody>\n",
       "</table>\n",
       "</div>"
      ],
      "text/plain": [
       "tariff_name  month      smart       ultra\n",
       "0                1  39.412656   44.444444\n",
       "1                2  37.150938  109.130435\n",
       "2                3  32.549897  114.345345\n",
       "3                4  31.299550   89.443098\n",
       "4                5  34.370010   95.631389"
      ]
     },
     "metadata": {},
     "output_type": "display_data"
    },
    {
     "data": {
      "text/plain": [
       "Text(0, 0.5, 'Месяцы')"
      ]
     },
     "execution_count": 117,
     "metadata": {},
     "output_type": "execute_result"
    },
    {
     "data": {
      "image/png": "[encoded data removed]",
      "text/plain": [
       "<Figure size 864x360 with 1 Axes>"
      ]
     },
     "metadata": {
      "needs_background": "light"
     },
     "output_type": "display_data"
    }
   ],
   "source": [
    "gb_var = df.pivot_table(index='month', columns='tariff_name',values='gb_used', aggfunc=np.var)\n",
    "gb_var = gb_var.reset_index()\n",
    "display(gb_var.head())\n",
    "gb_var['smart'].hist(bins=10, figsize = (12,5), legend=True, alpha = 0.5).set_title('Дисперсия Гб')\n",
    "gb_var['ultra'].hist(bins=10, figsize = (12,5), legend=True, alpha = 0.5)\n",
    "pl.xlabel(\"Гб, ед\")\n",
    "pl.ylabel(\"Месяцы\")"
   ]
  },
  {
   "cell_type": "markdown",
   "metadata": {},
   "source": [
    "**Вывод:** пользователи Смарт потребляют относительно постоянное число Гб по месяцам (разброс дисперсии небольшой). Пользователи Ультра значительно, как видно по разбросу дисперсии, отличаются в потреблении Гб от месяца к месяцу. "
   ]
  },
  {
   "cell_type": "code",
   "execution_count": 118,
   "metadata": {},
   "outputs": [
    {
     "data": {
      "text/plain": [
       "Text(0.5, 1.0, 'Потребление Гб по месяцам')"
      ]
     },
     "execution_count": 118,
     "metadata": {},
     "output_type": "execute_result"
    },
    {
     "data": {
      "image/png": "[encoded data removed]",
      "text/plain": [
       "<Figure size 864x360 with 1 Axes>"
      ]
     },
     "metadata": {
      "needs_background": "light"
     },
     "output_type": "display_data"
    }
   ],
   "source": [
    "(\n",
    "   df.pivot_table(index='month', columns='tariff_name', values = 'gb_used', aggfunc = 'mean')\n",
    "    .plot(style = 'o-',grid = True, figsize = (12,5))\n",
    "    .set_title('Потребление Гб по месяцам')\n",
    ")"
   ]
  },
  {
   "cell_type": "markdown",
   "metadata": {},
   "source": [
    "**Вывод:** в целом, пользователи Ультра потребляют больше интернет-трафика, чем пользователи Смарт. Тем не менее, в феврале произошел значительный спад, на который мы обратили внимание при анализе длительности вызовов и числа сообщений. "
   ]
  },
  {
   "cell_type": "markdown",
   "metadata": {},
   "source": [
    "## Проверка гипотезы"
   ]
  },
  {
   "cell_type": "markdown",
   "metadata": {},
   "source": [
    "Изучим средние по тарифам. "
   ]
  },
  {
   "cell_type": "code",
   "execution_count": 119,
   "metadata": {},
   "outputs": [
    {
     "name": "stdout",
     "output_type": "stream",
     "text": [
      "Тариф Смарт. Средняя выручка (руб): 1289.9735307312696\n",
      "Тариф Ультра. Средняя выручка (руб): 2070.1522842639592\n"
     ]
    }
   ],
   "source": [
    "smart_mean = df.query('tariff_name == \"smart\"')['cost'].mean()\n",
    "print('Тариф Смарт. Средняя выручка (руб):', smart_mean)\n",
    "ultra_mean = df.query('tariff_name == \"ultra\"')['cost'].mean()\n",
    "print('Тариф Ультра. Средняя выручка (руб):', ultra_mean)"
   ]
  },
  {
   "cell_type": "code",
   "execution_count": 120,
   "metadata": {},
   "outputs": [
    {
     "data": {
      "image/png": "[encoded data removed]",
      "text/plain": [
       "<Figure size 864x360 with 1 Axes>"
      ]
     },
     "metadata": {
      "needs_background": "light"
     },
     "output_type": "display_data"
    }
   ],
   "source": [
    "plt.figure(figsize = (12,5))\n",
    "plt.xlabel('Выручка')\n",
    "df.query('tariff_name == \"smart\"')['cost'].hist(bins=10, alpha = 0.5)\n",
    "df.query('tariff_name == \"ultra\"')['cost'].hist(bins=10, alpha = 0.5)\n",
    "plt.show()"
   ]
  },
  {
   "cell_type": "markdown",
   "metadata": {},
   "source": [
    "Среднее по тарифу *Смарт* ближе к 1000р, а это означает, что пользователи Смарт нередко исчерпывают свой пакет за 550 руб/ месяц и потребляют дополнительные минуты, сообщения и Гб.\n",
    "Среднее по тарифу *Смарт* ближе к 2000р, и это отражает тот факт, что пользователи Ультра обычно укладываются в стоимость, зашитую в тарифе, превышение происходит редко."
   ]
  },
  {
   "cell_type": "markdown",
   "metadata": {},
   "source": [
    "**Гипотеза 1: средняя выручка пользователей тарифов «Ультра» и «Смарт» различаются**\n",
    "H0 (нулевая гипотеза) - средняя выручка пользователей тарифов «Ультра» и «Смарт» не отличаются\n",
    "H1 (альтернативная гипотеза) - средняя выручка пользователей тарифов «Ультра» и «Смарт» различаются"
   ]
  },
  {
   "cell_type": "code",
   "execution_count": 121,
   "metadata": {},
   "outputs": [
    {
     "name": "stdout",
     "output_type": "stream",
     "text": [
      "p-значение: 1.4229814360764067e-160\n",
      "Отвергаем нулевую гипотезу\n"
     ]
    }
   ],
   "source": [
    "alpha = .05 \n",
    "\n",
    "results = st.ttest_ind(\n",
    "    df.query('tariff_name == \"smart\"')['cost'], \n",
    "    df.query('tariff_name == \"ultra\"')['cost']\n",
    ")\n",
    "print('p-значение:', results.pvalue)\n",
    "\n",
    "if results.pvalue < alpha:\n",
    "    print(\"Отвергаем нулевую гипотезу\")\n",
    "else:\n",
    "    print(\"Не получилось отвергнуть нулевую гипотезу\") "
   ]
  },
  {
   "cell_type": "markdown",
   "metadata": {},
   "source": [
    "**Вывод:** гипотеза о том, что средняя выручка пользователей тарифов «Ультра» и «Смарт» не отличаются, неверна. "
   ]
  },
  {
   "cell_type": "markdown",
   "metadata": {},
   "source": [
    "**Гипотеза 2: средняя выручка пользователей из Москвы отличается от выручки пользователей из других регионов**\n",
    "H0 (нулевая гипотеза) - средняя выручка пользователей из Москвы не отличается от выручки пользователей из других регионов\n",
    "H1 (альтернативная гипотеза) - средняя выручка пользователей из Москвы отличается от выручки пользователей из других регионов"
   ]
  },
  {
   "cell_type": "code",
   "execution_count": 122,
   "metadata": {},
   "outputs": [
    {
     "name": "stdout",
     "output_type": "stream",
     "text": [
      "p-значение: 0.5440152911670224\n",
      "Не получилось отвергнуть нулевую гипотезу\n"
     ]
    }
   ],
   "source": [
    "alpha = .05 \n",
    "\n",
    "results = st.ttest_ind(\n",
    "    df.query('city == \"Москва\"')['cost'], \n",
    "    df.query('city != \"Москва\"')['cost']\n",
    ")\n",
    "print('p-значение:', results.pvalue)\n",
    "\n",
    "if results.pvalue < alpha:\n",
    "    print(\"Отвергаем нулевую гипотезу\")\n",
    "else:\n",
    "    print(\"Не получилось отвергнуть нулевую гипотезу\") "
   ]
  },
  {
   "cell_type": "markdown",
   "metadata": {},
   "source": [
    "**Вывод:** гипотеза о том, что средняя выручка пользователей из Москвы отличается от выручки пользователей из других регионов, неверна. "
   ]
  },
  {
   "cell_type": "markdown",
   "metadata": {},
   "source": [
    "В обоих случаях для проверки использовали метод scipy.stats.ttest_ind (array1, array2, equal_var).\n",
    "Он целенаправленно создан для проверки гипотезы о равенстве среднего двух генеральных совокупностей по взятым из них выборкам.\n",
    "Гипотезы сформулированы исходя из логики: если требуется проверить тезис, значит базовая гипотеза говорит об обратном тезисе.\n",
    "В обоих случаях используем критерий p-value, который показывает вероятность получить наблюдаемый или еще более далекий от предполагаемого результат при условии, что нулевая гипотеза верна."
   ]
  },
  {
   "cell_type": "markdown",
   "metadata": {},
   "source": [
    "## Общий вывод"
   ]
  },
  {
   "cell_type": "markdown",
   "metadata": {},
   "source": [
    "**Длительность вызовов, потребление Гб трафика, число сообщений**\n",
    "Средняя продолжительность вызова, число сообщений и потребление Гб в тарифе Ультра значительно выше, чем в тарифе Смарт.\n",
    "Данные за февраль содержат критическую аномалию, повлиявшую на результат, или в феврале произошли события, полностью сблизившие длительность вызовов, число сообщений и потребление Гб. Полагаю, это как-то связано со взаимодействием тарифов между собой: возможно, Смарт оттянул пользователей Ультра.\n",
    "Пользователи Ультра в значительной степени менее предсказуемые в прогнозе длительности вызовов/ числа сообщений/ объема потребляемых Гб трафика.\n",
    "\n",
    "**Превышение/ непревышение лимита по тарифному плану**\n",
    "Среднее по тарифу *Смарт* ближе к 1000р, а это означает, что пользователи Смарт нередко исчерпывают свой пакет за 550 руб/ месяц и потребляют дополнительные минуты, сообщения и Гб.\n",
    "Среднее по тарифу *Смарт* ближе к 2000р, и это отражает тот факт, что пользователи Ультра обычно укладываются в стоимость, зашитую в тарифе, превышение происходит редко.\n",
    "\n",
    "**Проверка гипотез**\n",
    "Гипотеза о том, что средняя выручка пользователей тарифов «Ультра» и «Смарт» не отличаются, неверна. \n",
    "Гипотеза о том, что средняя выручка пользователей из Москвы отличается от выручки пользователей из других регионов, неверна.\n",
    "\n",
    "**Профитность тарифов**\n",
    "Если исходить из того, что затраты на поддержку тарифов идентичны, а также на основе того, что выручка у Тарифа Ультра выше, рекомендовано считать тариф Ультра более прибыльным. "
   ]
  },
  {
   "cell_type": "code",
   "execution_count": null,
   "metadata": {},
   "outputs": [],
   "source": []
  }
 ],
 "metadata": {
  "ExecuteTimeLog": [
   {
    "duration": 75,
    "start_time": "2022-04-08T15:41:03.860Z"
   },
   {
    "duration": 940,
    "start_time": "2022-04-08T15:41:12.016Z"
   },
   {
    "duration": 294,
    "start_time": "2022-04-08T15:41:12.959Z"
   },
   {
    "duration": 180,
    "start_time": "2022-04-08T15:41:22.750Z"
   },
   {
    "duration": 132,
    "start_time": "2022-04-08T15:46:14.421Z"
   },
   {
    "duration": 85,
    "start_time": "2022-04-08T15:46:47.812Z"
   },
   {
    "duration": 16,
    "start_time": "2022-04-08T15:47:14.186Z"
   },
   {
    "duration": 28,
    "start_time": "2022-04-08T15:47:36.949Z"
   },
   {
    "duration": 10,
    "start_time": "2022-04-08T15:50:02.910Z"
   },
   {
    "duration": 6,
    "start_time": "2022-04-08T15:50:35.529Z"
   },
   {
    "duration": 7,
    "start_time": "2022-04-08T15:51:01.067Z"
   },
   {
    "duration": 6,
    "start_time": "2022-04-08T15:51:14.559Z"
   },
   {
    "duration": 7,
    "start_time": "2022-04-08T15:51:25.585Z"
   },
   {
    "duration": 167,
    "start_time": "2022-04-08T15:51:43.090Z"
   },
   {
    "duration": 9,
    "start_time": "2022-04-08T15:51:43.978Z"
   },
   {
    "duration": 146,
    "start_time": "2022-04-08T15:52:01.253Z"
   },
   {
    "duration": 9,
    "start_time": "2022-04-08T15:52:01.646Z"
   },
   {
    "duration": 101,
    "start_time": "2022-04-08T15:52:10.501Z"
   },
   {
    "duration": 7,
    "start_time": "2022-04-08T15:52:11.069Z"
   },
   {
    "duration": 17,
    "start_time": "2022-04-08T15:52:17.833Z"
   },
   {
    "duration": 8,
    "start_time": "2022-04-08T15:52:18.598Z"
   },
   {
    "duration": 31,
    "start_time": "2022-04-08T15:52:24.494Z"
   },
   {
    "duration": 9,
    "start_time": "2022-04-08T15:52:24.840Z"
   },
   {
    "duration": 13,
    "start_time": "2022-04-08T16:30:38.797Z"
   },
   {
    "duration": 38,
    "start_time": "2022-04-08T16:37:11.312Z"
   },
   {
    "duration": 12,
    "start_time": "2022-04-08T16:37:13.541Z"
   },
   {
    "duration": 10,
    "start_time": "2022-04-08T16:37:32.487Z"
   },
   {
    "duration": 19,
    "start_time": "2022-04-08T16:38:16.974Z"
   },
   {
    "duration": 9,
    "start_time": "2022-04-08T16:44:05.630Z"
   },
   {
    "duration": 22,
    "start_time": "2022-04-08T16:44:59.034Z"
   },
   {
    "duration": 21,
    "start_time": "2022-04-08T16:46:06.444Z"
   },
   {
    "duration": 1131,
    "start_time": "2022-04-08T16:48:09.565Z"
   },
   {
    "duration": 171,
    "start_time": "2022-04-08T16:48:10.698Z"
   },
   {
    "duration": 17,
    "start_time": "2022-04-08T16:48:10.872Z"
   },
   {
    "duration": 155,
    "start_time": "2022-04-08T16:48:10.892Z"
   },
   {
    "duration": 9,
    "start_time": "2022-04-08T16:48:11.050Z"
   },
   {
    "duration": 113,
    "start_time": "2022-04-08T16:48:11.061Z"
   },
   {
    "duration": 8,
    "start_time": "2022-04-08T16:48:11.178Z"
   },
   {
    "duration": 18,
    "start_time": "2022-04-08T16:48:11.188Z"
   },
   {
    "duration": 8,
    "start_time": "2022-04-08T16:48:11.208Z"
   },
   {
    "duration": 28,
    "start_time": "2022-04-08T16:48:11.219Z"
   },
   {
    "duration": 11,
    "start_time": "2022-04-08T16:48:11.248Z"
   },
   {
    "duration": 59,
    "start_time": "2022-04-08T16:48:11.279Z"
   },
   {
    "duration": 3,
    "start_time": "2022-04-08T16:48:11.339Z"
   },
   {
    "duration": 94,
    "start_time": "2022-04-08T16:48:21.713Z"
   },
   {
    "duration": 23,
    "start_time": "2022-04-08T16:50:35.786Z"
   },
   {
    "duration": 24,
    "start_time": "2022-04-08T16:50:48.078Z"
   },
   {
    "duration": 21,
    "start_time": "2022-04-08T16:50:48.832Z"
   },
   {
    "duration": 1102,
    "start_time": "2022-04-08T16:51:05.738Z"
   },
   {
    "duration": 180,
    "start_time": "2022-04-08T16:51:06.842Z"
   },
   {
    "duration": 12,
    "start_time": "2022-04-08T16:51:07.024Z"
   },
   {
    "duration": 168,
    "start_time": "2022-04-08T16:51:07.038Z"
   },
   {
    "duration": 10,
    "start_time": "2022-04-08T16:51:07.207Z"
   },
   {
    "duration": 109,
    "start_time": "2022-04-08T16:51:07.219Z"
   },
   {
    "duration": 7,
    "start_time": "2022-04-08T16:51:07.330Z"
   },
   {
    "duration": 17,
    "start_time": "2022-04-08T16:51:07.339Z"
   },
   {
    "duration": 22,
    "start_time": "2022-04-08T16:51:07.358Z"
   },
   {
    "duration": 27,
    "start_time": "2022-04-08T16:51:07.383Z"
   },
   {
    "duration": 10,
    "start_time": "2022-04-08T16:51:07.411Z"
   },
   {
    "duration": 60,
    "start_time": "2022-04-08T16:51:07.423Z"
   },
   {
    "duration": 27,
    "start_time": "2022-04-08T16:51:07.484Z"
   },
   {
    "duration": 74,
    "start_time": "2022-04-08T16:57:54.889Z"
   },
   {
    "duration": 35,
    "start_time": "2022-04-08T16:59:33.404Z"
   },
   {
    "duration": 1350,
    "start_time": "2022-04-08T17:03:20.966Z"
   },
   {
    "duration": 173,
    "start_time": "2022-04-08T17:03:22.319Z"
   },
   {
    "duration": 11,
    "start_time": "2022-04-08T17:03:22.494Z"
   },
   {
    "duration": 162,
    "start_time": "2022-04-08T17:03:22.507Z"
   },
   {
    "duration": 14,
    "start_time": "2022-04-08T17:03:22.671Z"
   },
   {
    "duration": 140,
    "start_time": "2022-04-08T17:03:22.687Z"
   },
   {
    "duration": 9,
    "start_time": "2022-04-08T17:03:22.829Z"
   },
   {
    "duration": 20,
    "start_time": "2022-04-08T17:03:22.840Z"
   },
   {
    "duration": 25,
    "start_time": "2022-04-08T17:03:22.862Z"
   },
   {
    "duration": 38,
    "start_time": "2022-04-08T17:03:22.890Z"
   },
   {
    "duration": 13,
    "start_time": "2022-04-08T17:03:22.930Z"
   },
   {
    "duration": 82,
    "start_time": "2022-04-08T17:03:22.945Z"
   },
   {
    "duration": 51,
    "start_time": "2022-04-08T17:03:23.029Z"
   },
   {
    "duration": 60,
    "start_time": "2022-04-08T17:03:23.082Z"
   },
   {
    "duration": 51,
    "start_time": "2022-04-08T17:03:23.144Z"
   },
   {
    "duration": 49,
    "start_time": "2022-04-08T17:03:23.197Z"
   },
   {
    "duration": 52,
    "start_time": "2022-04-08T17:03:23.248Z"
   },
   {
    "duration": 91,
    "start_time": "2022-04-08T17:18:16.228Z"
   },
   {
    "duration": 1189,
    "start_time": "2022-04-08T17:18:58.896Z"
   },
   {
    "duration": 1448,
    "start_time": "2022-04-08T17:19:34.632Z"
   },
   {
    "duration": 1182,
    "start_time": "2022-04-08T17:25:50.600Z"
   },
   {
    "duration": 179,
    "start_time": "2022-04-08T17:25:51.784Z"
   },
   {
    "duration": 19,
    "start_time": "2022-04-08T17:25:51.964Z"
   },
   {
    "duration": 167,
    "start_time": "2022-04-08T17:25:51.985Z"
   },
   {
    "duration": 9,
    "start_time": "2022-04-08T17:25:52.153Z"
   },
   {
    "duration": 107,
    "start_time": "2022-04-08T17:25:52.164Z"
   },
   {
    "duration": 11,
    "start_time": "2022-04-08T17:25:52.273Z"
   },
   {
    "duration": 19,
    "start_time": "2022-04-08T17:25:52.285Z"
   },
   {
    "duration": 8,
    "start_time": "2022-04-08T17:25:52.306Z"
   },
   {
    "duration": 45,
    "start_time": "2022-04-08T17:25:52.317Z"
   },
   {
    "duration": 10,
    "start_time": "2022-04-08T17:25:52.363Z"
   },
   {
    "duration": 58,
    "start_time": "2022-04-08T17:25:52.375Z"
   },
   {
    "duration": 24,
    "start_time": "2022-04-08T17:25:52.435Z"
   },
   {
    "duration": 47,
    "start_time": "2022-04-08T17:25:52.461Z"
   },
   {
    "duration": 22,
    "start_time": "2022-04-08T17:25:52.510Z"
   },
   {
    "duration": 119,
    "start_time": "2022-04-08T17:25:52.533Z"
   },
   {
    "duration": 0,
    "start_time": "2022-04-08T17:25:52.654Z"
   },
   {
    "duration": 0,
    "start_time": "2022-04-08T17:25:52.655Z"
   },
   {
    "duration": 9,
    "start_time": "2022-04-08T17:26:34.430Z"
   },
   {
    "duration": 19,
    "start_time": "2022-04-08T17:28:19.679Z"
   },
   {
    "duration": 20,
    "start_time": "2022-04-08T17:28:35.766Z"
   },
   {
    "duration": 1045,
    "start_time": "2022-04-08T17:28:45.690Z"
   },
   {
    "duration": 173,
    "start_time": "2022-04-08T17:28:46.737Z"
   },
   {
    "duration": 11,
    "start_time": "2022-04-08T17:28:46.911Z"
   },
   {
    "duration": 155,
    "start_time": "2022-04-08T17:28:46.924Z"
   },
   {
    "duration": 8,
    "start_time": "2022-04-08T17:28:47.081Z"
   },
   {
    "duration": 109,
    "start_time": "2022-04-08T17:28:47.091Z"
   },
   {
    "duration": 7,
    "start_time": "2022-04-08T17:28:47.202Z"
   },
   {
    "duration": 18,
    "start_time": "2022-04-08T17:28:47.211Z"
   },
   {
    "duration": 8,
    "start_time": "2022-04-08T17:28:47.231Z"
   },
   {
    "duration": 30,
    "start_time": "2022-04-08T17:28:47.241Z"
   },
   {
    "duration": 14,
    "start_time": "2022-04-08T17:28:47.273Z"
   },
   {
    "duration": 56,
    "start_time": "2022-04-08T17:28:47.289Z"
   },
   {
    "duration": 40,
    "start_time": "2022-04-08T17:28:47.347Z"
   },
   {
    "duration": 40,
    "start_time": "2022-04-08T17:28:47.388Z"
   },
   {
    "duration": 21,
    "start_time": "2022-04-08T17:28:47.430Z"
   },
   {
    "duration": 52,
    "start_time": "2022-04-08T17:28:47.452Z"
   },
   {
    "duration": 18,
    "start_time": "2022-04-08T17:28:47.505Z"
   },
   {
    "duration": 16,
    "start_time": "2022-04-08T17:28:47.525Z"
   },
   {
    "duration": 17,
    "start_time": "2022-04-08T17:33:01.792Z"
   },
   {
    "duration": 22,
    "start_time": "2022-04-08T17:34:35.708Z"
   },
   {
    "duration": 25,
    "start_time": "2022-04-08T17:34:59.049Z"
   },
   {
    "duration": 1032,
    "start_time": "2022-04-08T17:35:05.822Z"
   },
   {
    "duration": 191,
    "start_time": "2022-04-08T17:35:06.856Z"
   },
   {
    "duration": 13,
    "start_time": "2022-04-08T17:35:07.048Z"
   },
   {
    "duration": 168,
    "start_time": "2022-04-08T17:35:07.063Z"
   },
   {
    "duration": 8,
    "start_time": "2022-04-08T17:35:07.232Z"
   },
   {
    "duration": 112,
    "start_time": "2022-04-08T17:35:07.242Z"
   },
   {
    "duration": 7,
    "start_time": "2022-04-08T17:35:07.356Z"
   },
   {
    "duration": 29,
    "start_time": "2022-04-08T17:35:07.364Z"
   },
   {
    "duration": 8,
    "start_time": "2022-04-08T17:35:07.395Z"
   },
   {
    "duration": 33,
    "start_time": "2022-04-08T17:35:07.406Z"
   },
   {
    "duration": 10,
    "start_time": "2022-04-08T17:35:07.441Z"
   },
   {
    "duration": 74,
    "start_time": "2022-04-08T17:35:07.453Z"
   },
   {
    "duration": 26,
    "start_time": "2022-04-08T17:35:07.529Z"
   },
   {
    "duration": 55,
    "start_time": "2022-04-08T17:35:07.556Z"
   },
   {
    "duration": 19,
    "start_time": "2022-04-08T17:35:07.613Z"
   },
   {
    "duration": 60,
    "start_time": "2022-04-08T17:35:07.633Z"
   },
   {
    "duration": 18,
    "start_time": "2022-04-08T17:35:07.695Z"
   },
   {
    "duration": 16,
    "start_time": "2022-04-08T17:35:07.715Z"
   },
   {
    "duration": 17,
    "start_time": "2022-04-08T17:35:07.733Z"
   },
   {
    "duration": 26,
    "start_time": "2022-04-08T17:35:13.356Z"
   },
   {
    "duration": 1105,
    "start_time": "2022-04-08T17:35:19.510Z"
   },
   {
    "duration": 183,
    "start_time": "2022-04-08T17:35:20.617Z"
   },
   {
    "duration": 13,
    "start_time": "2022-04-08T17:35:20.802Z"
   },
   {
    "duration": 174,
    "start_time": "2022-04-08T17:35:20.818Z"
   },
   {
    "duration": 10,
    "start_time": "2022-04-08T17:35:20.994Z"
   },
   {
    "duration": 109,
    "start_time": "2022-04-08T17:35:21.006Z"
   },
   {
    "duration": 8,
    "start_time": "2022-04-08T17:35:21.116Z"
   },
   {
    "duration": 21,
    "start_time": "2022-04-08T17:35:21.125Z"
   },
   {
    "duration": 8,
    "start_time": "2022-04-08T17:35:21.148Z"
   },
   {
    "duration": 53,
    "start_time": "2022-04-08T17:35:21.158Z"
   },
   {
    "duration": 10,
    "start_time": "2022-04-08T17:35:21.213Z"
   },
   {
    "duration": 53,
    "start_time": "2022-04-08T17:35:21.225Z"
   },
   {
    "duration": 24,
    "start_time": "2022-04-08T17:35:21.291Z"
   },
   {
    "duration": 41,
    "start_time": "2022-04-08T17:35:21.316Z"
   },
   {
    "duration": 31,
    "start_time": "2022-04-08T17:35:21.358Z"
   },
   {
    "duration": 35,
    "start_time": "2022-04-08T17:35:21.392Z"
   },
   {
    "duration": 20,
    "start_time": "2022-04-08T17:35:21.429Z"
   },
   {
    "duration": 46,
    "start_time": "2022-04-08T17:35:21.450Z"
   },
   {
    "duration": 18,
    "start_time": "2022-04-08T17:35:21.497Z"
   },
   {
    "duration": 1338,
    "start_time": "2022-04-09T10:24:55.651Z"
   },
   {
    "duration": 181,
    "start_time": "2022-04-09T10:24:56.991Z"
   },
   {
    "duration": 13,
    "start_time": "2022-04-09T10:24:57.174Z"
   },
   {
    "duration": 161,
    "start_time": "2022-04-09T10:24:57.190Z"
   },
   {
    "duration": 10,
    "start_time": "2022-04-09T10:24:57.353Z"
   },
   {
    "duration": 114,
    "start_time": "2022-04-09T10:24:57.364Z"
   },
   {
    "duration": 8,
    "start_time": "2022-04-09T10:24:57.479Z"
   },
   {
    "duration": 28,
    "start_time": "2022-04-09T10:24:57.489Z"
   },
   {
    "duration": 13,
    "start_time": "2022-04-09T10:24:57.518Z"
   },
   {
    "duration": 44,
    "start_time": "2022-04-09T10:24:57.534Z"
   },
   {
    "duration": 10,
    "start_time": "2022-04-09T10:24:57.580Z"
   },
   {
    "duration": 170,
    "start_time": "2022-04-09T10:24:57.592Z"
   },
   {
    "duration": 0,
    "start_time": "2022-04-09T10:24:57.763Z"
   },
   {
    "duration": 1,
    "start_time": "2022-04-09T10:24:57.764Z"
   },
   {
    "duration": 0,
    "start_time": "2022-04-09T10:24:57.765Z"
   },
   {
    "duration": 0,
    "start_time": "2022-04-09T10:24:57.766Z"
   },
   {
    "duration": 0,
    "start_time": "2022-04-09T10:24:57.767Z"
   },
   {
    "duration": 0,
    "start_time": "2022-04-09T10:24:57.768Z"
   },
   {
    "duration": 0,
    "start_time": "2022-04-09T10:24:57.769Z"
   },
   {
    "duration": 57,
    "start_time": "2022-04-09T10:26:50.750Z"
   },
   {
    "duration": 66,
    "start_time": "2022-04-09T10:27:04.904Z"
   },
   {
    "duration": 61,
    "start_time": "2022-04-09T10:27:25.033Z"
   },
   {
    "duration": 24,
    "start_time": "2022-04-09T10:27:28.276Z"
   },
   {
    "duration": 42,
    "start_time": "2022-04-09T10:27:28.573Z"
   },
   {
    "duration": 21,
    "start_time": "2022-04-09T10:27:28.823Z"
   },
   {
    "duration": 36,
    "start_time": "2022-04-09T10:27:29.050Z"
   },
   {
    "duration": 19,
    "start_time": "2022-04-09T10:27:29.293Z"
   },
   {
    "duration": 20,
    "start_time": "2022-04-09T10:27:29.508Z"
   },
   {
    "duration": 19,
    "start_time": "2022-04-09T10:27:29.937Z"
   },
   {
    "duration": 8,
    "start_time": "2022-04-09T10:33:25.774Z"
   },
   {
    "duration": 8,
    "start_time": "2022-04-09T10:33:33.251Z"
   },
   {
    "duration": 138,
    "start_time": "2022-04-09T10:33:40.763Z"
   },
   {
    "duration": 7,
    "start_time": "2022-04-09T10:33:47.206Z"
   },
   {
    "duration": 8,
    "start_time": "2022-04-09T10:34:09.344Z"
   },
   {
    "duration": 7,
    "start_time": "2022-04-09T10:35:00.461Z"
   },
   {
    "duration": 248,
    "start_time": "2022-04-09T10:35:22.768Z"
   },
   {
    "duration": 8,
    "start_time": "2022-04-09T10:35:41.399Z"
   },
   {
    "duration": 9,
    "start_time": "2022-04-09T10:35:54.389Z"
   },
   {
    "duration": 6,
    "start_time": "2022-04-09T10:36:09.139Z"
   },
   {
    "duration": 7,
    "start_time": "2022-04-09T10:36:12.910Z"
   },
   {
    "duration": 8,
    "start_time": "2022-04-09T10:37:20.294Z"
   },
   {
    "duration": 7,
    "start_time": "2022-04-09T10:37:44.892Z"
   },
   {
    "duration": 8,
    "start_time": "2022-04-09T10:37:52.925Z"
   },
   {
    "duration": 6,
    "start_time": "2022-04-09T10:38:21.324Z"
   },
   {
    "duration": 5,
    "start_time": "2022-04-09T10:39:42.439Z"
   },
   {
    "duration": 15,
    "start_time": "2022-04-09T10:39:57.877Z"
   },
   {
    "duration": 1190,
    "start_time": "2022-04-09T10:41:11.613Z"
   },
   {
    "duration": 182,
    "start_time": "2022-04-09T10:41:12.805Z"
   },
   {
    "duration": 13,
    "start_time": "2022-04-09T10:41:12.988Z"
   },
   {
    "duration": 163,
    "start_time": "2022-04-09T10:41:13.003Z"
   },
   {
    "duration": 9,
    "start_time": "2022-04-09T10:41:13.168Z"
   },
   {
    "duration": 112,
    "start_time": "2022-04-09T10:41:13.178Z"
   },
   {
    "duration": 7,
    "start_time": "2022-04-09T10:41:13.292Z"
   },
   {
    "duration": 26,
    "start_time": "2022-04-09T10:41:13.301Z"
   },
   {
    "duration": 8,
    "start_time": "2022-04-09T10:41:13.328Z"
   },
   {
    "duration": 45,
    "start_time": "2022-04-09T10:41:13.339Z"
   },
   {
    "duration": 10,
    "start_time": "2022-04-09T10:41:13.386Z"
   },
   {
    "duration": 61,
    "start_time": "2022-04-09T10:41:13.398Z"
   },
   {
    "duration": 24,
    "start_time": "2022-04-09T10:41:13.461Z"
   },
   {
    "duration": 57,
    "start_time": "2022-04-09T10:41:13.487Z"
   },
   {
    "duration": 20,
    "start_time": "2022-04-09T10:41:13.546Z"
   },
   {
    "duration": 39,
    "start_time": "2022-04-09T10:41:13.567Z"
   },
   {
    "duration": 41,
    "start_time": "2022-04-09T10:41:13.608Z"
   },
   {
    "duration": 19,
    "start_time": "2022-04-09T10:41:13.651Z"
   },
   {
    "duration": 20,
    "start_time": "2022-04-09T10:41:13.671Z"
   },
   {
    "duration": 7,
    "start_time": "2022-04-09T10:41:13.692Z"
   },
   {
    "duration": 34,
    "start_time": "2022-04-09T10:41:13.701Z"
   },
   {
    "duration": 21,
    "start_time": "2022-04-09T10:41:13.737Z"
   },
   {
    "duration": 1195,
    "start_time": "2022-04-09T10:41:45.008Z"
   },
   {
    "duration": 191,
    "start_time": "2022-04-09T10:41:46.206Z"
   },
   {
    "duration": 15,
    "start_time": "2022-04-09T10:41:46.399Z"
   },
   {
    "duration": 172,
    "start_time": "2022-04-09T10:41:46.417Z"
   },
   {
    "duration": 10,
    "start_time": "2022-04-09T10:41:46.591Z"
   },
   {
    "duration": 113,
    "start_time": "2022-04-09T10:41:46.603Z"
   },
   {
    "duration": 15,
    "start_time": "2022-04-09T10:41:46.717Z"
   },
   {
    "duration": 23,
    "start_time": "2022-04-09T10:41:46.735Z"
   },
   {
    "duration": 9,
    "start_time": "2022-04-09T10:41:46.760Z"
   },
   {
    "duration": 53,
    "start_time": "2022-04-09T10:41:46.771Z"
   },
   {
    "duration": 10,
    "start_time": "2022-04-09T10:41:46.826Z"
   },
   {
    "duration": 74,
    "start_time": "2022-04-09T10:41:46.838Z"
   },
   {
    "duration": 26,
    "start_time": "2022-04-09T10:41:46.914Z"
   },
   {
    "duration": 45,
    "start_time": "2022-04-09T10:41:46.942Z"
   },
   {
    "duration": 21,
    "start_time": "2022-04-09T10:41:46.989Z"
   },
   {
    "duration": 55,
    "start_time": "2022-04-09T10:41:47.012Z"
   },
   {
    "duration": 20,
    "start_time": "2022-04-09T10:41:47.068Z"
   },
   {
    "duration": 42,
    "start_time": "2022-04-09T10:41:47.090Z"
   },
   {
    "duration": 22,
    "start_time": "2022-04-09T10:41:47.134Z"
   },
   {
    "duration": 8,
    "start_time": "2022-04-09T10:41:47.158Z"
   },
   {
    "duration": 17,
    "start_time": "2022-04-09T10:41:47.168Z"
   },
   {
    "duration": 48,
    "start_time": "2022-04-09T14:24:56.515Z"
   },
   {
    "duration": 1264,
    "start_time": "2022-04-09T14:25:15.137Z"
   },
   {
    "duration": 179,
    "start_time": "2022-04-09T14:25:16.403Z"
   },
   {
    "duration": 17,
    "start_time": "2022-04-09T14:25:16.584Z"
   },
   {
    "duration": 154,
    "start_time": "2022-04-09T14:25:16.603Z"
   },
   {
    "duration": 9,
    "start_time": "2022-04-09T14:25:16.758Z"
   },
   {
    "duration": 102,
    "start_time": "2022-04-09T14:25:16.768Z"
   },
   {
    "duration": 8,
    "start_time": "2022-04-09T14:25:16.871Z"
   },
   {
    "duration": 24,
    "start_time": "2022-04-09T14:25:16.881Z"
   },
   {
    "duration": 8,
    "start_time": "2022-04-09T14:25:16.906Z"
   },
   {
    "duration": 35,
    "start_time": "2022-04-09T14:25:16.916Z"
   },
   {
    "duration": 11,
    "start_time": "2022-04-09T14:25:16.953Z"
   },
   {
    "duration": 58,
    "start_time": "2022-04-09T14:25:16.965Z"
   },
   {
    "duration": 24,
    "start_time": "2022-04-09T14:25:17.025Z"
   },
   {
    "duration": 68,
    "start_time": "2022-04-09T14:25:17.050Z"
   },
   {
    "duration": 20,
    "start_time": "2022-04-09T14:25:17.119Z"
   },
   {
    "duration": 37,
    "start_time": "2022-04-09T14:25:17.141Z"
   },
   {
    "duration": 40,
    "start_time": "2022-04-09T14:25:17.179Z"
   },
   {
    "duration": 18,
    "start_time": "2022-04-09T14:25:17.220Z"
   },
   {
    "duration": 18,
    "start_time": "2022-04-09T14:25:17.239Z"
   },
   {
    "duration": 8,
    "start_time": "2022-04-09T14:25:17.259Z"
   },
   {
    "duration": 44,
    "start_time": "2022-04-09T14:25:17.269Z"
   },
   {
    "duration": 9,
    "start_time": "2022-04-09T14:25:17.315Z"
   },
   {
    "duration": 23,
    "start_time": "2022-04-09T14:25:49.457Z"
   },
   {
    "duration": 15,
    "start_time": "2022-04-09T14:26:30.910Z"
   },
   {
    "duration": 5,
    "start_time": "2022-04-09T14:27:24.403Z"
   },
   {
    "duration": 16,
    "start_time": "2022-04-09T14:27:25.489Z"
   },
   {
    "duration": 5,
    "start_time": "2022-04-09T14:28:42.604Z"
   },
   {
    "duration": 14,
    "start_time": "2022-04-09T14:28:43.447Z"
   },
   {
    "duration": 97,
    "start_time": "2022-04-09T15:13:39.176Z"
   },
   {
    "duration": 153,
    "start_time": "2022-04-09T15:17:55.723Z"
   },
   {
    "duration": 19,
    "start_time": "2022-04-09T15:18:10.401Z"
   },
   {
    "duration": 29,
    "start_time": "2022-04-09T15:18:19.123Z"
   },
   {
    "duration": 1966,
    "start_time": "2022-04-09T15:20:10.758Z"
   },
   {
    "duration": 862,
    "start_time": "2022-04-09T15:20:23.959Z"
   },
   {
    "duration": 1111,
    "start_time": "2022-04-09T15:20:43.736Z"
   },
   {
    "duration": 1167,
    "start_time": "2022-04-09T15:20:50.073Z"
   },
   {
    "duration": 176,
    "start_time": "2022-04-09T15:20:51.242Z"
   },
   {
    "duration": 12,
    "start_time": "2022-04-09T15:20:51.420Z"
   },
   {
    "duration": 168,
    "start_time": "2022-04-09T15:20:51.435Z"
   },
   {
    "duration": 9,
    "start_time": "2022-04-09T15:20:51.604Z"
   },
   {
    "duration": 119,
    "start_time": "2022-04-09T15:20:51.616Z"
   },
   {
    "duration": 7,
    "start_time": "2022-04-09T15:20:51.737Z"
   },
   {
    "duration": 30,
    "start_time": "2022-04-09T15:20:51.745Z"
   },
   {
    "duration": 8,
    "start_time": "2022-04-09T15:20:51.776Z"
   },
   {
    "duration": 38,
    "start_time": "2022-04-09T15:20:51.787Z"
   },
   {
    "duration": 10,
    "start_time": "2022-04-09T15:20:51.827Z"
   },
   {
    "duration": 61,
    "start_time": "2022-04-09T15:20:51.839Z"
   },
   {
    "duration": 25,
    "start_time": "2022-04-09T15:20:51.902Z"
   },
   {
    "duration": 42,
    "start_time": "2022-04-09T15:20:51.928Z"
   },
   {
    "duration": 39,
    "start_time": "2022-04-09T15:20:51.972Z"
   },
   {
    "duration": 36,
    "start_time": "2022-04-09T15:20:52.013Z"
   },
   {
    "duration": 18,
    "start_time": "2022-04-09T15:20:52.050Z"
   },
   {
    "duration": 39,
    "start_time": "2022-04-09T15:20:52.070Z"
   },
   {
    "duration": 19,
    "start_time": "2022-04-09T15:20:52.111Z"
   },
   {
    "duration": 10,
    "start_time": "2022-04-09T15:20:52.132Z"
   },
   {
    "duration": 16,
    "start_time": "2022-04-09T15:20:52.144Z"
   },
   {
    "duration": 51,
    "start_time": "2022-04-09T15:20:52.162Z"
   },
   {
    "duration": 1167,
    "start_time": "2022-04-09T15:21:31.976Z"
   },
   {
    "duration": 175,
    "start_time": "2022-04-09T15:21:33.144Z"
   },
   {
    "duration": 14,
    "start_time": "2022-04-09T15:21:33.321Z"
   },
   {
    "duration": 155,
    "start_time": "2022-04-09T15:21:33.337Z"
   },
   {
    "duration": 14,
    "start_time": "2022-04-09T15:21:33.493Z"
   },
   {
    "duration": 96,
    "start_time": "2022-04-09T15:21:33.508Z"
   },
   {
    "duration": 7,
    "start_time": "2022-04-09T15:21:33.606Z"
   },
   {
    "duration": 38,
    "start_time": "2022-04-09T15:21:33.614Z"
   },
   {
    "duration": 7,
    "start_time": "2022-04-09T15:21:33.653Z"
   },
   {
    "duration": 34,
    "start_time": "2022-04-09T15:21:33.662Z"
   },
   {
    "duration": 9,
    "start_time": "2022-04-09T15:21:33.698Z"
   },
   {
    "duration": 68,
    "start_time": "2022-04-09T15:21:33.709Z"
   },
   {
    "duration": 27,
    "start_time": "2022-04-09T15:21:33.779Z"
   },
   {
    "duration": 42,
    "start_time": "2022-04-09T15:21:33.808Z"
   },
   {
    "duration": 20,
    "start_time": "2022-04-09T15:21:33.852Z"
   },
   {
    "duration": 47,
    "start_time": "2022-04-09T15:21:33.873Z"
   },
   {
    "duration": 18,
    "start_time": "2022-04-09T15:21:33.922Z"
   },
   {
    "duration": 15,
    "start_time": "2022-04-09T15:21:33.941Z"
   },
   {
    "duration": 18,
    "start_time": "2022-04-09T15:21:33.958Z"
   },
   {
    "duration": 10,
    "start_time": "2022-04-09T15:21:34.001Z"
   },
   {
    "duration": 15,
    "start_time": "2022-04-09T15:21:34.013Z"
   },
   {
    "duration": 26,
    "start_time": "2022-04-09T15:21:34.029Z"
   },
   {
    "duration": 1139,
    "start_time": "2022-04-09T15:24:01.619Z"
   },
   {
    "duration": 185,
    "start_time": "2022-04-09T15:24:02.761Z"
   },
   {
    "duration": 13,
    "start_time": "2022-04-09T15:24:02.947Z"
   },
   {
    "duration": 153,
    "start_time": "2022-04-09T15:24:02.962Z"
   },
   {
    "duration": 9,
    "start_time": "2022-04-09T15:24:03.117Z"
   },
   {
    "duration": 107,
    "start_time": "2022-04-09T15:24:03.127Z"
   },
   {
    "duration": 8,
    "start_time": "2022-04-09T15:24:03.235Z"
   },
   {
    "duration": 24,
    "start_time": "2022-04-09T15:24:03.244Z"
   },
   {
    "duration": 7,
    "start_time": "2022-04-09T15:24:03.269Z"
   },
   {
    "duration": 34,
    "start_time": "2022-04-09T15:24:03.278Z"
   },
   {
    "duration": 9,
    "start_time": "2022-04-09T15:24:03.314Z"
   },
   {
    "duration": 57,
    "start_time": "2022-04-09T15:24:03.324Z"
   },
   {
    "duration": 31,
    "start_time": "2022-04-09T15:24:03.383Z"
   },
   {
    "duration": 38,
    "start_time": "2022-04-09T15:24:03.417Z"
   },
   {
    "duration": 18,
    "start_time": "2022-04-09T15:24:03.457Z"
   },
   {
    "duration": 35,
    "start_time": "2022-04-09T15:24:03.500Z"
   },
   {
    "duration": 17,
    "start_time": "2022-04-09T15:24:03.537Z"
   },
   {
    "duration": 16,
    "start_time": "2022-04-09T15:24:03.556Z"
   },
   {
    "duration": 43,
    "start_time": "2022-04-09T15:24:03.574Z"
   },
   {
    "duration": 9,
    "start_time": "2022-04-09T15:24:03.619Z"
   },
   {
    "duration": 15,
    "start_time": "2022-04-09T15:24:03.630Z"
   },
   {
    "duration": 20,
    "start_time": "2022-04-09T15:24:03.646Z"
   },
   {
    "duration": 4,
    "start_time": "2022-04-09T15:24:03.668Z"
   },
   {
    "duration": 18,
    "start_time": "2022-04-09T15:28:28.161Z"
   },
   {
    "duration": 2835,
    "start_time": "2022-04-09T15:32:59.328Z"
   },
   {
    "duration": 0,
    "start_time": "2022-04-09T15:33:02.165Z"
   },
   {
    "duration": 1235,
    "start_time": "2022-04-09T15:33:17.266Z"
   },
   {
    "duration": 253,
    "start_time": "2022-04-09T15:33:18.503Z"
   },
   {
    "duration": 12,
    "start_time": "2022-04-09T15:33:18.758Z"
   },
   {
    "duration": 153,
    "start_time": "2022-04-09T15:33:18.772Z"
   },
   {
    "duration": 8,
    "start_time": "2022-04-09T15:33:18.927Z"
   },
   {
    "duration": 106,
    "start_time": "2022-04-09T15:33:18.937Z"
   },
   {
    "duration": 8,
    "start_time": "2022-04-09T15:33:19.045Z"
   },
   {
    "duration": 26,
    "start_time": "2022-04-09T15:33:19.055Z"
   },
   {
    "duration": 8,
    "start_time": "2022-04-09T15:33:19.083Z"
   },
   {
    "duration": 37,
    "start_time": "2022-04-09T15:33:19.103Z"
   },
   {
    "duration": 12,
    "start_time": "2022-04-09T15:33:19.142Z"
   },
   {
    "duration": 59,
    "start_time": "2022-04-09T15:33:19.156Z"
   },
   {
    "duration": 25,
    "start_time": "2022-04-09T15:33:19.217Z"
   },
   {
    "duration": 60,
    "start_time": "2022-04-09T15:33:19.243Z"
   },
   {
    "duration": 20,
    "start_time": "2022-04-09T15:33:19.304Z"
   },
   {
    "duration": 34,
    "start_time": "2022-04-09T15:33:19.326Z"
   },
   {
    "duration": 40,
    "start_time": "2022-04-09T15:33:19.361Z"
   },
   {
    "duration": 16,
    "start_time": "2022-04-09T15:33:19.403Z"
   },
   {
    "duration": 17,
    "start_time": "2022-04-09T15:33:19.421Z"
   },
   {
    "duration": 9,
    "start_time": "2022-04-09T15:33:19.440Z"
   },
   {
    "duration": 14,
    "start_time": "2022-04-09T15:33:19.451Z"
   },
   {
    "duration": 52,
    "start_time": "2022-04-09T15:33:19.467Z"
   },
   {
    "duration": 20,
    "start_time": "2022-04-09T15:33:19.521Z"
   },
   {
    "duration": 2694,
    "start_time": "2022-04-09T15:33:19.542Z"
   },
   {
    "duration": 1367,
    "start_time": "2022-04-09T15:34:02.734Z"
   },
   {
    "duration": 211,
    "start_time": "2022-04-09T15:34:04.103Z"
   },
   {
    "duration": 15,
    "start_time": "2022-04-09T15:34:04.316Z"
   },
   {
    "duration": 162,
    "start_time": "2022-04-09T15:34:04.334Z"
   },
   {
    "duration": 10,
    "start_time": "2022-04-09T15:34:04.497Z"
   },
   {
    "duration": 108,
    "start_time": "2022-04-09T15:34:04.509Z"
   },
   {
    "duration": 7,
    "start_time": "2022-04-09T15:34:04.619Z"
   },
   {
    "duration": 25,
    "start_time": "2022-04-09T15:34:04.628Z"
   },
   {
    "duration": 8,
    "start_time": "2022-04-09T15:34:04.654Z"
   },
   {
    "duration": 34,
    "start_time": "2022-04-09T15:34:04.666Z"
   },
   {
    "duration": 12,
    "start_time": "2022-04-09T15:34:04.702Z"
   },
   {
    "duration": 117,
    "start_time": "2022-04-09T15:34:04.715Z"
   },
   {
    "duration": 33,
    "start_time": "2022-04-09T15:34:04.834Z"
   },
   {
    "duration": 79,
    "start_time": "2022-04-09T15:34:04.869Z"
   },
   {
    "duration": 29,
    "start_time": "2022-04-09T15:34:04.950Z"
   },
   {
    "duration": 69,
    "start_time": "2022-04-09T15:34:04.981Z"
   },
   {
    "duration": 24,
    "start_time": "2022-04-09T15:34:05.053Z"
   },
   {
    "duration": 34,
    "start_time": "2022-04-09T15:34:05.079Z"
   },
   {
    "duration": 19,
    "start_time": "2022-04-09T15:34:05.114Z"
   },
   {
    "duration": 10,
    "start_time": "2022-04-09T15:34:05.134Z"
   },
   {
    "duration": 15,
    "start_time": "2022-04-09T15:34:05.146Z"
   },
   {
    "duration": 42,
    "start_time": "2022-04-09T15:34:05.163Z"
   },
   {
    "duration": 20,
    "start_time": "2022-04-09T15:34:05.207Z"
   },
   {
    "duration": 120,
    "start_time": "2022-04-09T15:34:05.229Z"
   },
   {
    "duration": 1151,
    "start_time": "2022-04-09T15:34:30.310Z"
   },
   {
    "duration": 249,
    "start_time": "2022-04-09T15:34:31.464Z"
   },
   {
    "duration": 16,
    "start_time": "2022-04-09T15:34:31.715Z"
   },
   {
    "duration": 210,
    "start_time": "2022-04-09T15:34:31.733Z"
   },
   {
    "duration": 10,
    "start_time": "2022-04-09T15:34:31.945Z"
   },
   {
    "duration": 150,
    "start_time": "2022-04-09T15:34:31.957Z"
   },
   {
    "duration": 9,
    "start_time": "2022-04-09T15:34:32.109Z"
   },
   {
    "duration": 24,
    "start_time": "2022-04-09T15:34:32.119Z"
   },
   {
    "duration": 9,
    "start_time": "2022-04-09T15:34:32.145Z"
   },
   {
    "duration": 37,
    "start_time": "2022-04-09T15:34:32.157Z"
   },
   {
    "duration": 10,
    "start_time": "2022-04-09T15:34:32.196Z"
   },
   {
    "duration": 66,
    "start_time": "2022-04-09T15:34:32.207Z"
   },
   {
    "duration": 28,
    "start_time": "2022-04-09T15:34:32.274Z"
   },
   {
    "duration": 44,
    "start_time": "2022-04-09T15:34:32.303Z"
   },
   {
    "duration": 20,
    "start_time": "2022-04-09T15:34:32.349Z"
   },
   {
    "duration": 57,
    "start_time": "2022-04-09T15:34:32.370Z"
   },
   {
    "duration": 20,
    "start_time": "2022-04-09T15:34:32.430Z"
   },
   {
    "duration": 18,
    "start_time": "2022-04-09T15:34:32.451Z"
   },
   {
    "duration": 47,
    "start_time": "2022-04-09T15:34:32.471Z"
   },
   {
    "duration": 10,
    "start_time": "2022-04-09T15:34:32.520Z"
   },
   {
    "duration": 16,
    "start_time": "2022-04-09T15:34:32.531Z"
   },
   {
    "duration": 25,
    "start_time": "2022-04-09T15:34:32.548Z"
   },
   {
    "duration": 24,
    "start_time": "2022-04-09T15:34:32.602Z"
   },
   {
    "duration": 175,
    "start_time": "2022-04-09T15:34:32.628Z"
   },
   {
    "duration": 1146,
    "start_time": "2022-04-09T15:34:52.403Z"
   },
   {
    "duration": 190,
    "start_time": "2022-04-09T15:34:53.551Z"
   },
   {
    "duration": 11,
    "start_time": "2022-04-09T15:34:53.743Z"
   },
   {
    "duration": 215,
    "start_time": "2022-04-09T15:34:53.757Z"
   },
   {
    "duration": 11,
    "start_time": "2022-04-09T15:34:53.974Z"
   },
   {
    "duration": 155,
    "start_time": "2022-04-09T15:34:53.987Z"
   },
   {
    "duration": 7,
    "start_time": "2022-04-09T15:34:54.144Z"
   },
   {
    "duration": 24,
    "start_time": "2022-04-09T15:34:54.153Z"
   },
   {
    "duration": 8,
    "start_time": "2022-04-09T15:34:54.179Z"
   },
   {
    "duration": 34,
    "start_time": "2022-04-09T15:34:54.200Z"
   },
   {
    "duration": 10,
    "start_time": "2022-04-09T15:34:54.235Z"
   },
   {
    "duration": 63,
    "start_time": "2022-04-09T15:34:54.247Z"
   },
   {
    "duration": 23,
    "start_time": "2022-04-09T15:34:54.311Z"
   },
   {
    "duration": 43,
    "start_time": "2022-04-09T15:34:54.335Z"
   },
   {
    "duration": 36,
    "start_time": "2022-04-09T15:34:54.380Z"
   },
   {
    "duration": 37,
    "start_time": "2022-04-09T15:34:54.418Z"
   },
   {
    "duration": 17,
    "start_time": "2022-04-09T15:34:54.457Z"
   },
   {
    "duration": 39,
    "start_time": "2022-04-09T15:34:54.476Z"
   },
   {
    "duration": 22,
    "start_time": "2022-04-09T15:34:54.517Z"
   },
   {
    "duration": 19,
    "start_time": "2022-04-09T15:34:54.541Z"
   },
   {
    "duration": 21,
    "start_time": "2022-04-09T15:34:54.562Z"
   },
   {
    "duration": 39,
    "start_time": "2022-04-09T15:34:54.585Z"
   },
   {
    "duration": 22,
    "start_time": "2022-04-09T15:34:54.627Z"
   },
   {
    "duration": 139,
    "start_time": "2022-04-09T15:34:54.651Z"
   },
   {
    "duration": 1251,
    "start_time": "2022-04-09T15:35:41.410Z"
   },
   {
    "duration": 171,
    "start_time": "2022-04-09T15:35:42.663Z"
   },
   {
    "duration": 11,
    "start_time": "2022-04-09T15:35:42.836Z"
   },
   {
    "duration": 147,
    "start_time": "2022-04-09T15:35:42.849Z"
   },
   {
    "duration": 8,
    "start_time": "2022-04-09T15:35:42.998Z"
   },
   {
    "duration": 101,
    "start_time": "2022-04-09T15:35:43.008Z"
   },
   {
    "duration": 6,
    "start_time": "2022-04-09T15:35:43.111Z"
   },
   {
    "duration": 29,
    "start_time": "2022-04-09T15:35:43.119Z"
   },
   {
    "duration": 8,
    "start_time": "2022-04-09T15:35:43.149Z"
   },
   {
    "duration": 37,
    "start_time": "2022-04-09T15:35:43.159Z"
   },
   {
    "duration": 10,
    "start_time": "2022-04-09T15:35:43.197Z"
   },
   {
    "duration": 57,
    "start_time": "2022-04-09T15:35:43.209Z"
   },
   {
    "duration": 22,
    "start_time": "2022-04-09T15:35:43.268Z"
   },
   {
    "duration": 43,
    "start_time": "2022-04-09T15:35:43.300Z"
   },
   {
    "duration": 19,
    "start_time": "2022-04-09T15:35:43.344Z"
   },
   {
    "duration": 50,
    "start_time": "2022-04-09T15:35:43.364Z"
   },
   {
    "duration": 18,
    "start_time": "2022-04-09T15:35:43.415Z"
   },
   {
    "duration": 16,
    "start_time": "2022-04-09T15:35:43.434Z"
   },
   {
    "duration": 17,
    "start_time": "2022-04-09T15:35:43.452Z"
   },
   {
    "duration": 39,
    "start_time": "2022-04-09T15:35:43.470Z"
   },
   {
    "duration": 15,
    "start_time": "2022-04-09T15:35:43.511Z"
   },
   {
    "duration": 19,
    "start_time": "2022-04-09T15:35:43.527Z"
   },
   {
    "duration": 18,
    "start_time": "2022-04-09T15:35:43.548Z"
   },
   {
    "duration": 127,
    "start_time": "2022-04-09T15:35:43.568Z"
   },
   {
    "duration": 1172,
    "start_time": "2022-04-09T15:43:01.469Z"
   },
   {
    "duration": 184,
    "start_time": "2022-04-09T15:43:02.643Z"
   },
   {
    "duration": 10,
    "start_time": "2022-04-09T15:43:02.829Z"
   },
   {
    "duration": 140,
    "start_time": "2022-04-09T15:43:02.841Z"
   },
   {
    "duration": 8,
    "start_time": "2022-04-09T15:43:02.982Z"
   },
   {
    "duration": 97,
    "start_time": "2022-04-09T15:43:02.992Z"
   },
   {
    "duration": 16,
    "start_time": "2022-04-09T15:43:03.091Z"
   },
   {
    "duration": 27,
    "start_time": "2022-04-09T15:43:03.108Z"
   },
   {
    "duration": 7,
    "start_time": "2022-04-09T15:43:03.137Z"
   },
   {
    "duration": 42,
    "start_time": "2022-04-09T15:43:03.146Z"
   },
   {
    "duration": 10,
    "start_time": "2022-04-09T15:43:03.189Z"
   },
   {
    "duration": 66,
    "start_time": "2022-04-09T15:43:03.200Z"
   },
   {
    "duration": 21,
    "start_time": "2022-04-09T15:43:03.268Z"
   },
   {
    "duration": 39,
    "start_time": "2022-04-09T15:43:03.290Z"
   },
   {
    "duration": 17,
    "start_time": "2022-04-09T15:43:03.331Z"
   },
   {
    "duration": 52,
    "start_time": "2022-04-09T15:43:03.350Z"
   },
   {
    "duration": 17,
    "start_time": "2022-04-09T15:43:03.403Z"
   },
   {
    "duration": 14,
    "start_time": "2022-04-09T15:43:03.422Z"
   },
   {
    "duration": 15,
    "start_time": "2022-04-09T15:43:03.438Z"
   },
   {
    "duration": 8,
    "start_time": "2022-04-09T15:43:03.455Z"
   },
   {
    "duration": 37,
    "start_time": "2022-04-09T15:43:03.465Z"
   },
   {
    "duration": 18,
    "start_time": "2022-04-09T15:43:03.504Z"
   },
   {
    "duration": 17,
    "start_time": "2022-04-09T15:43:03.524Z"
   },
   {
    "duration": 113,
    "start_time": "2022-04-09T15:43:03.542Z"
   },
   {
    "duration": 1111,
    "start_time": "2022-04-09T15:43:18.153Z"
   },
   {
    "duration": 189,
    "start_time": "2022-04-09T15:43:19.266Z"
   },
   {
    "duration": 13,
    "start_time": "2022-04-09T15:43:19.457Z"
   },
   {
    "duration": 162,
    "start_time": "2022-04-09T15:43:19.472Z"
   },
   {
    "duration": 9,
    "start_time": "2022-04-09T15:43:19.636Z"
   },
   {
    "duration": 107,
    "start_time": "2022-04-09T15:43:19.647Z"
   },
   {
    "duration": 8,
    "start_time": "2022-04-09T15:43:19.755Z"
   },
   {
    "duration": 26,
    "start_time": "2022-04-09T15:43:19.765Z"
   },
   {
    "duration": 14,
    "start_time": "2022-04-09T15:43:19.793Z"
   },
   {
    "duration": 48,
    "start_time": "2022-04-09T15:43:19.810Z"
   },
   {
    "duration": 12,
    "start_time": "2022-04-09T15:43:19.860Z"
   },
   {
    "duration": 63,
    "start_time": "2022-04-09T15:43:19.874Z"
   },
   {
    "duration": 28,
    "start_time": "2022-04-09T15:43:19.939Z"
   },
   {
    "duration": 58,
    "start_time": "2022-04-09T15:43:19.969Z"
   },
   {
    "duration": 21,
    "start_time": "2022-04-09T15:43:20.029Z"
   },
   {
    "duration": 58,
    "start_time": "2022-04-09T15:43:20.052Z"
   },
   {
    "duration": 19,
    "start_time": "2022-04-09T15:43:20.111Z"
   },
   {
    "duration": 18,
    "start_time": "2022-04-09T15:43:20.131Z"
   },
   {
    "duration": 53,
    "start_time": "2022-04-09T15:43:20.151Z"
   },
   {
    "duration": 11,
    "start_time": "2022-04-09T15:43:20.206Z"
   },
   {
    "duration": 16,
    "start_time": "2022-04-09T15:43:20.219Z"
   },
   {
    "duration": 20,
    "start_time": "2022-04-09T15:43:20.238Z"
   },
   {
    "duration": 47,
    "start_time": "2022-04-09T15:43:20.260Z"
   },
   {
    "duration": 119,
    "start_time": "2022-04-09T15:43:20.309Z"
   },
   {
    "duration": 27,
    "start_time": "2022-04-09T15:45:04.672Z"
   },
   {
    "duration": 13,
    "start_time": "2022-04-09T15:45:14.818Z"
   },
   {
    "duration": 86,
    "start_time": "2022-04-09T15:46:32.811Z"
   },
   {
    "duration": 4,
    "start_time": "2022-04-09T15:46:43.326Z"
   },
   {
    "duration": 4,
    "start_time": "2022-04-09T15:48:48.050Z"
   },
   {
    "duration": 9,
    "start_time": "2022-04-09T15:54:19.406Z"
   },
   {
    "duration": 4,
    "start_time": "2022-04-09T15:55:25.651Z"
   },
   {
    "duration": 9,
    "start_time": "2022-04-09T15:56:12.974Z"
   },
   {
    "duration": 5,
    "start_time": "2022-04-09T15:56:20.317Z"
   },
   {
    "duration": 6,
    "start_time": "2022-04-09T15:59:46.810Z"
   },
   {
    "duration": 2583,
    "start_time": "2022-04-09T16:03:54.754Z"
   },
   {
    "duration": 7,
    "start_time": "2022-04-09T16:04:37.856Z"
   },
   {
    "duration": 17,
    "start_time": "2022-04-09T16:36:56.520Z"
   },
   {
    "duration": 21,
    "start_time": "2022-04-09T16:38:46.886Z"
   },
   {
    "duration": 19,
    "start_time": "2022-04-09T16:38:53.102Z"
   },
   {
    "duration": 6,
    "start_time": "2022-04-09T16:39:49.075Z"
   },
   {
    "duration": 8,
    "start_time": "2022-04-09T16:40:36.967Z"
   },
   {
    "duration": 5,
    "start_time": "2022-04-09T16:41:45.024Z"
   },
   {
    "duration": 4,
    "start_time": "2022-04-09T16:43:18.406Z"
   },
   {
    "duration": 13,
    "start_time": "2022-04-09T16:43:37.348Z"
   },
   {
    "duration": 5,
    "start_time": "2022-04-09T16:44:28.147Z"
   },
   {
    "duration": 17,
    "start_time": "2022-04-09T16:47:50.169Z"
   },
   {
    "duration": 6,
    "start_time": "2022-04-09T16:48:36.389Z"
   },
   {
    "duration": 13,
    "start_time": "2022-04-09T16:49:28.995Z"
   },
   {
    "duration": 5,
    "start_time": "2022-04-09T16:51:13.362Z"
   },
   {
    "duration": 7,
    "start_time": "2022-04-09T16:51:14.570Z"
   },
   {
    "duration": 5,
    "start_time": "2022-04-09T16:51:15.224Z"
   },
   {
    "duration": 6,
    "start_time": "2022-04-09T16:51:15.566Z"
   },
   {
    "duration": 14,
    "start_time": "2022-04-09T16:51:16.012Z"
   },
   {
    "duration": 4,
    "start_time": "2022-04-09T16:52:23.595Z"
   },
   {
    "duration": 14,
    "start_time": "2022-04-09T16:52:23.954Z"
   },
   {
    "duration": 5,
    "start_time": "2022-04-09T16:53:05.532Z"
   },
   {
    "duration": 13,
    "start_time": "2022-04-09T16:53:05.935Z"
   },
   {
    "duration": 1073,
    "start_time": "2022-04-09T18:55:52.758Z"
   },
   {
    "duration": 182,
    "start_time": "2022-04-09T18:55:53.834Z"
   },
   {
    "duration": 13,
    "start_time": "2022-04-09T18:55:54.018Z"
   },
   {
    "duration": 159,
    "start_time": "2022-04-09T18:55:54.034Z"
   },
   {
    "duration": 10,
    "start_time": "2022-04-09T18:55:54.195Z"
   },
   {
    "duration": 101,
    "start_time": "2022-04-09T18:55:54.207Z"
   },
   {
    "duration": 7,
    "start_time": "2022-04-09T18:55:54.310Z"
   },
   {
    "duration": 27,
    "start_time": "2022-04-09T18:55:54.318Z"
   },
   {
    "duration": 8,
    "start_time": "2022-04-09T18:55:54.347Z"
   },
   {
    "duration": 35,
    "start_time": "2022-04-09T18:55:54.357Z"
   },
   {
    "duration": 9,
    "start_time": "2022-04-09T18:55:54.394Z"
   },
   {
    "duration": 63,
    "start_time": "2022-04-09T18:55:54.404Z"
   },
   {
    "duration": 35,
    "start_time": "2022-04-09T18:55:54.469Z"
   },
   {
    "duration": 42,
    "start_time": "2022-04-09T18:55:54.506Z"
   },
   {
    "duration": 21,
    "start_time": "2022-04-09T18:55:54.550Z"
   },
   {
    "duration": 58,
    "start_time": "2022-04-09T18:55:54.573Z"
   },
   {
    "duration": 19,
    "start_time": "2022-04-09T18:55:54.633Z"
   },
   {
    "duration": 17,
    "start_time": "2022-04-09T18:55:54.654Z"
   },
   {
    "duration": 44,
    "start_time": "2022-04-09T18:55:54.673Z"
   },
   {
    "duration": 10,
    "start_time": "2022-04-09T18:55:54.719Z"
   },
   {
    "duration": 15,
    "start_time": "2022-04-09T18:55:54.730Z"
   },
   {
    "duration": 19,
    "start_time": "2022-04-09T18:55:54.747Z"
   },
   {
    "duration": 47,
    "start_time": "2022-04-09T18:55:54.767Z"
   },
   {
    "duration": 120,
    "start_time": "2022-04-09T18:55:54.816Z"
   },
   {
    "duration": 12,
    "start_time": "2022-04-09T18:55:54.938Z"
   },
   {
    "duration": 9,
    "start_time": "2022-04-09T18:55:54.951Z"
   },
   {
    "duration": 5,
    "start_time": "2022-04-09T18:55:54.961Z"
   },
   {
    "duration": 34,
    "start_time": "2022-04-09T18:55:54.969Z"
   },
   {
    "duration": 16,
    "start_time": "2022-04-09T18:55:55.005Z"
   },
   {
    "duration": 8,
    "start_time": "2022-04-09T18:55:55.023Z"
   },
   {
    "duration": 7,
    "start_time": "2022-04-09T18:55:55.033Z"
   },
   {
    "duration": 5,
    "start_time": "2022-04-09T18:55:55.042Z"
   },
   {
    "duration": 9,
    "start_time": "2022-04-09T18:55:55.048Z"
   },
   {
    "duration": 9,
    "start_time": "2022-04-09T18:55:55.059Z"
   },
   {
    "duration": 32,
    "start_time": "2022-04-09T18:55:55.070Z"
   },
   {
    "duration": 26,
    "start_time": "2022-04-09T18:55:55.104Z"
   },
   {
    "duration": 25,
    "start_time": "2022-04-09T18:56:04.928Z"
   },
   {
    "duration": 738,
    "start_time": "2022-04-09T19:22:30.546Z"
   },
   {
    "duration": 682,
    "start_time": "2022-04-09T19:23:40.987Z"
   },
   {
    "duration": 25,
    "start_time": "2022-04-09T19:28:29.674Z"
   },
   {
    "duration": 16,
    "start_time": "2022-04-09T19:32:36.843Z"
   },
   {
    "duration": 18,
    "start_time": "2022-04-09T19:35:24.062Z"
   },
   {
    "duration": 154,
    "start_time": "2022-04-09T19:37:36.766Z"
   },
   {
    "duration": 141,
    "start_time": "2022-04-09T19:37:58.310Z"
   },
   {
    "duration": 144,
    "start_time": "2022-04-09T19:38:04.137Z"
   },
   {
    "duration": 188,
    "start_time": "2022-04-09T19:38:11.886Z"
   },
   {
    "duration": 156,
    "start_time": "2022-04-09T19:38:17.571Z"
   },
   {
    "duration": 191,
    "start_time": "2022-04-09T19:39:37.223Z"
   },
   {
    "duration": 208,
    "start_time": "2022-04-09T19:39:47.406Z"
   },
   {
    "duration": 235,
    "start_time": "2022-04-09T19:53:29.110Z"
   },
   {
    "duration": 132,
    "start_time": "2022-04-09T19:58:00.032Z"
   },
   {
    "duration": 149,
    "start_time": "2022-04-09T19:58:07.001Z"
   },
   {
    "duration": 157,
    "start_time": "2022-04-09T20:01:22.847Z"
   },
   {
    "duration": 159,
    "start_time": "2022-04-09T20:01:30.565Z"
   },
   {
    "duration": 155,
    "start_time": "2022-04-09T20:02:03.607Z"
   },
   {
    "duration": 165,
    "start_time": "2022-04-09T20:02:18.800Z"
   },
   {
    "duration": 159,
    "start_time": "2022-04-09T20:04:01.110Z"
   },
   {
    "duration": 20,
    "start_time": "2022-04-09T20:06:08.642Z"
   },
   {
    "duration": 144,
    "start_time": "2022-04-09T20:06:32.628Z"
   },
   {
    "duration": 144,
    "start_time": "2022-04-09T20:06:46.607Z"
   },
   {
    "duration": 137,
    "start_time": "2022-04-09T20:06:53.579Z"
   },
   {
    "duration": 143,
    "start_time": "2022-04-09T20:07:03.525Z"
   },
   {
    "duration": 252,
    "start_time": "2022-04-09T20:07:50.451Z"
   },
   {
    "duration": 11,
    "start_time": "2022-04-09T20:11:20.827Z"
   },
   {
    "duration": 1174,
    "start_time": "2022-04-09T20:11:28.470Z"
   },
   {
    "duration": 172,
    "start_time": "2022-04-09T20:11:29.645Z"
   },
   {
    "duration": 13,
    "start_time": "2022-04-09T20:11:29.819Z"
   },
   {
    "duration": 146,
    "start_time": "2022-04-09T20:11:29.834Z"
   },
   {
    "duration": 8,
    "start_time": "2022-04-09T20:11:29.982Z"
   },
   {
    "duration": 100,
    "start_time": "2022-04-09T20:11:29.992Z"
   },
   {
    "duration": 10,
    "start_time": "2022-04-09T20:11:30.093Z"
   },
   {
    "duration": 26,
    "start_time": "2022-04-09T20:11:30.104Z"
   },
   {
    "duration": 8,
    "start_time": "2022-04-09T20:11:30.131Z"
   },
   {
    "duration": 38,
    "start_time": "2022-04-09T20:11:30.141Z"
   },
   {
    "duration": 10,
    "start_time": "2022-04-09T20:11:30.180Z"
   },
   {
    "duration": 60,
    "start_time": "2022-04-09T20:11:30.192Z"
   },
   {
    "duration": 22,
    "start_time": "2022-04-09T20:11:30.254Z"
   },
   {
    "duration": 54,
    "start_time": "2022-04-09T20:11:30.277Z"
   },
   {
    "duration": 18,
    "start_time": "2022-04-09T20:11:30.333Z"
   },
   {
    "duration": 56,
    "start_time": "2022-04-09T20:11:30.353Z"
   },
   {
    "duration": 18,
    "start_time": "2022-04-09T20:11:30.411Z"
   },
   {
    "duration": 19,
    "start_time": "2022-04-09T20:11:30.431Z"
   },
   {
    "duration": 26,
    "start_time": "2022-04-09T20:11:30.452Z"
   },
   {
    "duration": 30,
    "start_time": "2022-04-09T20:11:30.480Z"
   },
   {
    "duration": 21,
    "start_time": "2022-04-09T20:11:30.512Z"
   },
   {
    "duration": 42,
    "start_time": "2022-04-09T20:11:30.535Z"
   },
   {
    "duration": 19,
    "start_time": "2022-04-09T20:11:30.579Z"
   },
   {
    "duration": 113,
    "start_time": "2022-04-09T20:11:30.599Z"
   },
   {
    "duration": 13,
    "start_time": "2022-04-09T20:11:30.713Z"
   },
   {
    "duration": 8,
    "start_time": "2022-04-09T20:11:30.728Z"
   },
   {
    "duration": 11,
    "start_time": "2022-04-09T20:11:30.738Z"
   },
   {
    "duration": 8,
    "start_time": "2022-04-09T20:11:30.752Z"
   },
   {
    "duration": 46,
    "start_time": "2022-04-09T20:11:30.761Z"
   },
   {
    "duration": 4,
    "start_time": "2022-04-09T20:11:30.809Z"
   },
   {
    "duration": 12,
    "start_time": "2022-04-09T20:11:30.815Z"
   },
   {
    "duration": 7,
    "start_time": "2022-04-09T20:11:30.829Z"
   },
   {
    "duration": 16,
    "start_time": "2022-04-09T20:11:30.838Z"
   },
   {
    "duration": 8,
    "start_time": "2022-04-09T20:11:30.856Z"
   },
   {
    "duration": 30,
    "start_time": "2022-04-09T20:11:30.867Z"
   },
   {
    "duration": 117,
    "start_time": "2022-04-09T20:11:30.902Z"
   },
   {
    "duration": 0,
    "start_time": "2022-04-09T20:11:31.021Z"
   },
   {
    "duration": 0,
    "start_time": "2022-04-09T20:11:31.022Z"
   },
   {
    "duration": 0,
    "start_time": "2022-04-09T20:11:31.024Z"
   },
   {
    "duration": 0,
    "start_time": "2022-04-09T20:11:31.025Z"
   },
   {
    "duration": 0,
    "start_time": "2022-04-09T20:11:31.026Z"
   },
   {
    "duration": 20,
    "start_time": "2022-04-09T20:11:58.761Z"
   },
   {
    "duration": 179,
    "start_time": "2022-04-09T20:12:00.009Z"
   },
   {
    "duration": 145,
    "start_time": "2022-04-09T20:12:03.908Z"
   },
   {
    "duration": 19,
    "start_time": "2022-04-09T20:12:06.077Z"
   },
   {
    "duration": 21,
    "start_time": "2022-04-09T20:12:13.809Z"
   },
   {
    "duration": 1133,
    "start_time": "2022-04-09T20:12:24.226Z"
   },
   {
    "duration": 169,
    "start_time": "2022-04-09T20:12:25.361Z"
   },
   {
    "duration": 11,
    "start_time": "2022-04-09T20:12:25.532Z"
   },
   {
    "duration": 146,
    "start_time": "2022-04-09T20:12:25.545Z"
   },
   {
    "duration": 14,
    "start_time": "2022-04-09T20:12:25.693Z"
   },
   {
    "duration": 99,
    "start_time": "2022-04-09T20:12:25.709Z"
   },
   {
    "duration": 7,
    "start_time": "2022-04-09T20:12:25.810Z"
   },
   {
    "duration": 23,
    "start_time": "2022-04-09T20:12:25.818Z"
   },
   {
    "duration": 7,
    "start_time": "2022-04-09T20:12:25.843Z"
   },
   {
    "duration": 33,
    "start_time": "2022-04-09T20:12:25.853Z"
   },
   {
    "duration": 10,
    "start_time": "2022-04-09T20:12:25.888Z"
   },
   {
    "duration": 59,
    "start_time": "2022-04-09T20:12:25.899Z"
   },
   {
    "duration": 21,
    "start_time": "2022-04-09T20:12:25.959Z"
   },
   {
    "duration": 55,
    "start_time": "2022-04-09T20:12:25.982Z"
   },
   {
    "duration": 19,
    "start_time": "2022-04-09T20:12:26.038Z"
   },
   {
    "duration": 56,
    "start_time": "2022-04-09T20:12:26.059Z"
   },
   {
    "duration": 17,
    "start_time": "2022-04-09T20:12:26.117Z"
   },
   {
    "duration": 16,
    "start_time": "2022-04-09T20:12:26.136Z"
   },
   {
    "duration": 17,
    "start_time": "2022-04-09T20:12:26.154Z"
   },
   {
    "duration": 36,
    "start_time": "2022-04-09T20:12:26.172Z"
   },
   {
    "duration": 24,
    "start_time": "2022-04-09T20:12:26.210Z"
   },
   {
    "duration": 21,
    "start_time": "2022-04-09T20:12:26.236Z"
   },
   {
    "duration": 17,
    "start_time": "2022-04-09T20:12:26.259Z"
   },
   {
    "duration": 111,
    "start_time": "2022-04-09T20:12:26.278Z"
   },
   {
    "duration": 19,
    "start_time": "2022-04-09T20:12:26.391Z"
   },
   {
    "duration": 9,
    "start_time": "2022-04-09T20:12:26.411Z"
   },
   {
    "duration": 4,
    "start_time": "2022-04-09T20:12:26.422Z"
   },
   {
    "duration": 6,
    "start_time": "2022-04-09T20:12:26.430Z"
   },
   {
    "duration": 16,
    "start_time": "2022-04-09T20:12:26.438Z"
   },
   {
    "duration": 131,
    "start_time": "2022-04-09T20:12:26.457Z"
   },
   {
    "duration": 17,
    "start_time": "2022-04-09T20:12:26.590Z"
   },
   {
    "duration": 14,
    "start_time": "2022-04-09T20:12:26.609Z"
   },
   {
    "duration": 10,
    "start_time": "2022-04-09T20:12:26.624Z"
   },
   {
    "duration": 12,
    "start_time": "2022-04-09T20:12:26.636Z"
   },
   {
    "duration": 16,
    "start_time": "2022-04-09T20:12:26.650Z"
   },
   {
    "duration": 17,
    "start_time": "2022-04-09T20:12:26.668Z"
   },
   {
    "duration": 189,
    "start_time": "2022-04-09T20:12:26.687Z"
   },
   {
    "duration": 174,
    "start_time": "2022-04-09T20:12:26.878Z"
   },
   {
    "duration": 116,
    "start_time": "2022-04-09T20:12:27.053Z"
   },
   {
    "duration": 0,
    "start_time": "2022-04-09T20:12:27.170Z"
   },
   {
    "duration": 0,
    "start_time": "2022-04-09T20:12:27.172Z"
   },
   {
    "duration": 1101,
    "start_time": "2022-04-09T20:12:53.131Z"
   },
   {
    "duration": 167,
    "start_time": "2022-04-09T20:12:54.234Z"
   },
   {
    "duration": 12,
    "start_time": "2022-04-09T20:12:54.403Z"
   },
   {
    "duration": 142,
    "start_time": "2022-04-09T20:12:54.417Z"
   },
   {
    "duration": 9,
    "start_time": "2022-04-09T20:12:54.560Z"
   },
   {
    "duration": 96,
    "start_time": "2022-04-09T20:12:54.570Z"
   },
   {
    "duration": 7,
    "start_time": "2022-04-09T20:12:54.668Z"
   },
   {
    "duration": 24,
    "start_time": "2022-04-09T20:12:54.676Z"
   },
   {
    "duration": 8,
    "start_time": "2022-04-09T20:12:54.701Z"
   },
   {
    "duration": 34,
    "start_time": "2022-04-09T20:12:54.711Z"
   },
   {
    "duration": 9,
    "start_time": "2022-04-09T20:12:54.746Z"
   },
   {
    "duration": 58,
    "start_time": "2022-04-09T20:12:54.757Z"
   },
   {
    "duration": 22,
    "start_time": "2022-04-09T20:12:54.816Z"
   },
   {
    "duration": 42,
    "start_time": "2022-04-09T20:12:54.839Z"
   },
   {
    "duration": 34,
    "start_time": "2022-04-09T20:12:54.882Z"
   },
   {
    "duration": 34,
    "start_time": "2022-04-09T20:12:54.917Z"
   },
   {
    "duration": 18,
    "start_time": "2022-04-09T20:12:54.952Z"
   },
   {
    "duration": 42,
    "start_time": "2022-04-09T20:12:54.971Z"
   },
   {
    "duration": 17,
    "start_time": "2022-04-09T20:12:55.014Z"
   },
   {
    "duration": 9,
    "start_time": "2022-04-09T20:12:55.032Z"
   },
   {
    "duration": 13,
    "start_time": "2022-04-09T20:12:55.043Z"
   },
   {
    "duration": 43,
    "start_time": "2022-04-09T20:12:55.058Z"
   },
   {
    "duration": 18,
    "start_time": "2022-04-09T20:12:55.102Z"
   },
   {
    "duration": 119,
    "start_time": "2022-04-09T20:12:55.121Z"
   },
   {
    "duration": 11,
    "start_time": "2022-04-09T20:12:55.242Z"
   },
   {
    "duration": 8,
    "start_time": "2022-04-09T20:12:55.255Z"
   },
   {
    "duration": 5,
    "start_time": "2022-04-09T20:12:55.265Z"
   },
   {
    "duration": 33,
    "start_time": "2022-04-09T20:12:55.273Z"
   },
   {
    "duration": 17,
    "start_time": "2022-04-09T20:12:55.307Z"
   },
   {
    "duration": 10,
    "start_time": "2022-04-09T20:12:55.325Z"
   },
   {
    "duration": 10,
    "start_time": "2022-04-09T20:12:55.336Z"
   },
   {
    "duration": 5,
    "start_time": "2022-04-09T20:12:55.347Z"
   },
   {
    "duration": 6,
    "start_time": "2022-04-09T20:12:55.354Z"
   },
   {
    "duration": 17,
    "start_time": "2022-04-09T20:12:55.362Z"
   },
   {
    "duration": 30,
    "start_time": "2022-04-09T20:12:55.381Z"
   },
   {
    "duration": 19,
    "start_time": "2022-04-09T20:12:55.413Z"
   },
   {
    "duration": 205,
    "start_time": "2022-04-09T20:12:55.433Z"
   },
   {
    "duration": 163,
    "start_time": "2022-04-09T20:12:55.640Z"
   },
   {
    "duration": 17,
    "start_time": "2022-04-09T20:12:55.804Z"
   },
   {
    "duration": 180,
    "start_time": "2022-04-09T20:12:55.823Z"
   },
   {
    "duration": 168,
    "start_time": "2022-04-09T20:12:56.004Z"
   },
   {
    "duration": 283,
    "start_time": "2022-04-09T20:14:39.421Z"
   },
   {
    "duration": 19,
    "start_time": "2022-04-09T20:16:42.174Z"
   },
   {
    "duration": 1098,
    "start_time": "2022-04-09T20:17:59.460Z"
   },
   {
    "duration": 168,
    "start_time": "2022-04-09T20:18:00.560Z"
   },
   {
    "duration": 12,
    "start_time": "2022-04-09T20:18:00.730Z"
   },
   {
    "duration": 149,
    "start_time": "2022-04-09T20:18:00.744Z"
   },
   {
    "duration": 8,
    "start_time": "2022-04-09T20:18:00.895Z"
   },
   {
    "duration": 108,
    "start_time": "2022-04-09T20:18:00.904Z"
   },
   {
    "duration": 8,
    "start_time": "2022-04-09T20:18:01.013Z"
   },
   {
    "duration": 28,
    "start_time": "2022-04-09T20:18:01.022Z"
   },
   {
    "duration": 8,
    "start_time": "2022-04-09T20:18:01.051Z"
   },
   {
    "duration": 43,
    "start_time": "2022-04-09T20:18:01.061Z"
   },
   {
    "duration": 10,
    "start_time": "2022-04-09T20:18:01.105Z"
   },
   {
    "duration": 81,
    "start_time": "2022-04-09T20:18:01.116Z"
   },
   {
    "duration": 22,
    "start_time": "2022-04-09T20:18:01.199Z"
   },
   {
    "duration": 42,
    "start_time": "2022-04-09T20:18:01.224Z"
   },
   {
    "duration": 42,
    "start_time": "2022-04-09T20:18:01.267Z"
   },
   {
    "duration": 50,
    "start_time": "2022-04-09T20:18:01.311Z"
   },
   {
    "duration": 18,
    "start_time": "2022-04-09T20:18:01.363Z"
   },
   {
    "duration": 28,
    "start_time": "2022-04-09T20:18:01.383Z"
   },
   {
    "duration": 53,
    "start_time": "2022-04-09T20:18:01.413Z"
   },
   {
    "duration": 9,
    "start_time": "2022-04-09T20:18:01.468Z"
   },
   {
    "duration": 29,
    "start_time": "2022-04-09T20:18:01.479Z"
   },
   {
    "duration": 29,
    "start_time": "2022-04-09T20:18:01.509Z"
   },
   {
    "duration": 17,
    "start_time": "2022-04-09T20:18:01.539Z"
   },
   {
    "duration": 119,
    "start_time": "2022-04-09T20:18:01.558Z"
   },
   {
    "duration": 11,
    "start_time": "2022-04-09T20:18:01.679Z"
   },
   {
    "duration": 17,
    "start_time": "2022-04-09T20:18:01.692Z"
   },
   {
    "duration": 6,
    "start_time": "2022-04-09T20:18:01.710Z"
   },
   {
    "duration": 11,
    "start_time": "2022-04-09T20:18:01.717Z"
   },
   {
    "duration": 23,
    "start_time": "2022-04-09T20:18:01.730Z"
   },
   {
    "duration": 4,
    "start_time": "2022-04-09T20:18:01.755Z"
   },
   {
    "duration": 6,
    "start_time": "2022-04-09T20:18:01.760Z"
   },
   {
    "duration": 33,
    "start_time": "2022-04-09T20:18:01.768Z"
   },
   {
    "duration": 8,
    "start_time": "2022-04-09T20:18:01.803Z"
   },
   {
    "duration": 7,
    "start_time": "2022-04-09T20:18:01.813Z"
   },
   {
    "duration": 17,
    "start_time": "2022-04-09T20:18:01.822Z"
   },
   {
    "duration": 19,
    "start_time": "2022-04-09T20:18:01.841Z"
   },
   {
    "duration": 192,
    "start_time": "2022-04-09T20:18:01.861Z"
   },
   {
    "duration": 177,
    "start_time": "2022-04-09T20:18:02.055Z"
   },
   {
    "duration": 17,
    "start_time": "2022-04-09T20:18:02.234Z"
   },
   {
    "duration": 174,
    "start_time": "2022-04-09T20:18:02.253Z"
   },
   {
    "duration": 175,
    "start_time": "2022-04-09T20:18:02.431Z"
   },
   {
    "duration": 17,
    "start_time": "2022-04-09T20:18:02.608Z"
   },
   {
    "duration": 158,
    "start_time": "2022-04-09T20:18:43.555Z"
   },
   {
    "duration": 162,
    "start_time": "2022-04-09T20:19:30.072Z"
   },
   {
    "duration": 161,
    "start_time": "2022-04-09T20:19:30.820Z"
   },
   {
    "duration": 247,
    "start_time": "2022-04-09T20:22:01.084Z"
   },
   {
    "duration": 175,
    "start_time": "2022-04-09T20:22:42.011Z"
   },
   {
    "duration": 1090,
    "start_time": "2022-04-09T20:22:51.742Z"
   },
   {
    "duration": 184,
    "start_time": "2022-04-09T20:22:52.834Z"
   },
   {
    "duration": 11,
    "start_time": "2022-04-09T20:22:53.020Z"
   },
   {
    "duration": 155,
    "start_time": "2022-04-09T20:22:53.033Z"
   },
   {
    "duration": 13,
    "start_time": "2022-04-09T20:22:53.189Z"
   },
   {
    "duration": 105,
    "start_time": "2022-04-09T20:22:53.203Z"
   },
   {
    "duration": 7,
    "start_time": "2022-04-09T20:22:53.311Z"
   },
   {
    "duration": 23,
    "start_time": "2022-04-09T20:22:53.320Z"
   },
   {
    "duration": 8,
    "start_time": "2022-04-09T20:22:53.344Z"
   },
   {
    "duration": 33,
    "start_time": "2022-04-09T20:22:53.355Z"
   },
   {
    "duration": 9,
    "start_time": "2022-04-09T20:22:53.390Z"
   },
   {
    "duration": 57,
    "start_time": "2022-04-09T20:22:53.400Z"
   },
   {
    "duration": 22,
    "start_time": "2022-04-09T20:22:53.459Z"
   },
   {
    "duration": 55,
    "start_time": "2022-04-09T20:22:53.482Z"
   },
   {
    "duration": 20,
    "start_time": "2022-04-09T20:22:53.539Z"
   },
   {
    "duration": 55,
    "start_time": "2022-04-09T20:22:53.561Z"
   },
   {
    "duration": 20,
    "start_time": "2022-04-09T20:22:53.617Z"
   },
   {
    "duration": 16,
    "start_time": "2022-04-09T20:22:53.639Z"
   },
   {
    "duration": 18,
    "start_time": "2022-04-09T20:22:53.656Z"
   },
   {
    "duration": 11,
    "start_time": "2022-04-09T20:22:53.700Z"
   },
   {
    "duration": 13,
    "start_time": "2022-04-09T20:22:53.713Z"
   },
   {
    "duration": 19,
    "start_time": "2022-04-09T20:22:53.728Z"
   },
   {
    "duration": 17,
    "start_time": "2022-04-09T20:22:53.749Z"
   },
   {
    "duration": 134,
    "start_time": "2022-04-09T20:22:53.767Z"
   },
   {
    "duration": 13,
    "start_time": "2022-04-09T20:22:53.903Z"
   },
   {
    "duration": 9,
    "start_time": "2022-04-09T20:22:53.918Z"
   },
   {
    "duration": 5,
    "start_time": "2022-04-09T20:22:53.928Z"
   },
   {
    "duration": 6,
    "start_time": "2022-04-09T20:22:53.936Z"
   },
   {
    "duration": 17,
    "start_time": "2022-04-09T20:22:53.944Z"
   },
   {
    "duration": 39,
    "start_time": "2022-04-09T20:22:53.962Z"
   },
   {
    "duration": 5,
    "start_time": "2022-04-09T20:22:54.003Z"
   },
   {
    "duration": 6,
    "start_time": "2022-04-09T20:22:54.010Z"
   },
   {
    "duration": 8,
    "start_time": "2022-04-09T20:22:54.017Z"
   },
   {
    "duration": 9,
    "start_time": "2022-04-09T20:22:54.027Z"
   },
   {
    "duration": 20,
    "start_time": "2022-04-09T20:22:54.037Z"
   },
   {
    "duration": 16,
    "start_time": "2022-04-09T20:22:54.059Z"
   },
   {
    "duration": 208,
    "start_time": "2022-04-09T20:22:54.076Z"
   },
   {
    "duration": 168,
    "start_time": "2022-04-09T20:22:54.287Z"
   },
   {
    "duration": 18,
    "start_time": "2022-04-09T20:22:54.457Z"
   },
   {
    "duration": 183,
    "start_time": "2022-04-09T20:22:54.477Z"
   },
   {
    "duration": 159,
    "start_time": "2022-04-09T20:22:54.662Z"
   },
   {
    "duration": 18,
    "start_time": "2022-04-09T20:22:54.822Z"
   },
   {
    "duration": 196,
    "start_time": "2022-04-09T20:22:54.842Z"
   },
   {
    "duration": 175,
    "start_time": "2022-04-09T20:22:55.040Z"
   },
   {
    "duration": 21,
    "start_time": "2022-04-09T20:27:20.931Z"
   },
   {
    "duration": 180,
    "start_time": "2022-04-09T20:27:21.343Z"
   },
   {
    "duration": 152,
    "start_time": "2022-04-09T20:27:22.916Z"
   },
   {
    "duration": 18,
    "start_time": "2022-04-09T20:27:23.178Z"
   },
   {
    "duration": 192,
    "start_time": "2022-04-09T20:27:23.368Z"
   },
   {
    "duration": 256,
    "start_time": "2022-04-09T20:27:23.562Z"
   },
   {
    "duration": 17,
    "start_time": "2022-04-09T20:27:23.820Z"
   },
   {
    "duration": 186,
    "start_time": "2022-04-09T20:27:23.899Z"
   },
   {
    "duration": 176,
    "start_time": "2022-04-09T20:27:24.087Z"
   },
   {
    "duration": 18,
    "start_time": "2022-04-09T20:28:25.924Z"
   },
   {
    "duration": 26,
    "start_time": "2022-04-09T20:28:34.626Z"
   },
   {
    "duration": 301,
    "start_time": "2022-04-09T20:28:35.322Z"
   },
   {
    "duration": 198,
    "start_time": "2022-04-09T20:29:05.637Z"
   },
   {
    "duration": 182,
    "start_time": "2022-04-09T20:29:13.824Z"
   },
   {
    "duration": 177,
    "start_time": "2022-04-09T20:30:27.756Z"
   },
   {
    "duration": 193,
    "start_time": "2022-04-09T20:32:05.590Z"
   },
   {
    "duration": 189,
    "start_time": "2022-04-09T20:32:23.885Z"
   },
   {
    "duration": 179,
    "start_time": "2022-04-09T21:54:21.149Z"
   },
   {
    "duration": 103,
    "start_time": "2022-04-09T21:57:22.324Z"
   },
   {
    "duration": 207,
    "start_time": "2022-04-09T21:57:50.203Z"
   },
   {
    "duration": 278,
    "start_time": "2022-04-09T21:58:33.152Z"
   },
   {
    "duration": 12,
    "start_time": "2022-04-09T21:59:33.403Z"
   },
   {
    "duration": 292,
    "start_time": "2022-04-09T22:00:20.863Z"
   },
   {
    "duration": 212,
    "start_time": "2022-04-09T22:08:00.244Z"
   },
   {
    "duration": 45,
    "start_time": "2022-04-10T13:53:04.676Z"
   },
   {
    "duration": 1283,
    "start_time": "2022-04-10T13:53:13.322Z"
   },
   {
    "duration": 174,
    "start_time": "2022-04-10T13:53:14.607Z"
   },
   {
    "duration": 11,
    "start_time": "2022-04-10T13:53:14.783Z"
   },
   {
    "duration": 158,
    "start_time": "2022-04-10T13:53:14.796Z"
   },
   {
    "duration": 10,
    "start_time": "2022-04-10T13:53:14.966Z"
   },
   {
    "duration": 114,
    "start_time": "2022-04-10T13:53:14.978Z"
   },
   {
    "duration": 7,
    "start_time": "2022-04-10T13:53:15.093Z"
   },
   {
    "duration": 21,
    "start_time": "2022-04-10T13:53:15.102Z"
   },
   {
    "duration": 7,
    "start_time": "2022-04-10T13:53:15.125Z"
   },
   {
    "duration": 29,
    "start_time": "2022-04-10T13:53:15.135Z"
   },
   {
    "duration": 13,
    "start_time": "2022-04-10T13:53:15.166Z"
   },
   {
    "duration": 58,
    "start_time": "2022-04-10T13:53:15.181Z"
   },
   {
    "duration": 38,
    "start_time": "2022-04-10T13:53:15.240Z"
   },
   {
    "duration": 40,
    "start_time": "2022-04-10T13:53:15.279Z"
   },
   {
    "duration": 40,
    "start_time": "2022-04-10T13:53:15.321Z"
   },
   {
    "duration": 36,
    "start_time": "2022-04-10T13:53:15.365Z"
   },
   {
    "duration": 17,
    "start_time": "2022-04-10T13:53:15.403Z"
   },
   {
    "duration": 15,
    "start_time": "2022-04-10T13:53:15.421Z"
   },
   {
    "duration": 24,
    "start_time": "2022-04-10T13:53:15.459Z"
   },
   {
    "duration": 9,
    "start_time": "2022-04-10T13:53:15.484Z"
   },
   {
    "duration": 13,
    "start_time": "2022-04-10T13:53:15.494Z"
   },
   {
    "duration": 18,
    "start_time": "2022-04-10T13:53:15.508Z"
   },
   {
    "duration": 40,
    "start_time": "2022-04-10T13:53:15.528Z"
   },
   {
    "duration": 117,
    "start_time": "2022-04-10T13:53:15.570Z"
   },
   {
    "duration": 10,
    "start_time": "2022-04-10T13:53:15.689Z"
   },
   {
    "duration": 8,
    "start_time": "2022-04-10T13:53:15.701Z"
   },
   {
    "duration": 4,
    "start_time": "2022-04-10T13:53:15.711Z"
   },
   {
    "duration": 15,
    "start_time": "2022-04-10T13:53:15.718Z"
   },
   {
    "duration": 43,
    "start_time": "2022-04-10T13:53:15.734Z"
   },
   {
    "duration": 7,
    "start_time": "2022-04-10T13:53:15.778Z"
   },
   {
    "duration": 10,
    "start_time": "2022-04-10T13:53:15.786Z"
   },
   {
    "duration": 9,
    "start_time": "2022-04-10T13:53:15.797Z"
   },
   {
    "duration": 6,
    "start_time": "2022-04-10T13:53:15.807Z"
   },
   {
    "duration": 5,
    "start_time": "2022-04-10T13:53:15.815Z"
   },
   {
    "duration": 14,
    "start_time": "2022-04-10T13:53:15.822Z"
   },
   {
    "duration": 36,
    "start_time": "2022-04-10T13:53:15.838Z"
   },
   {
    "duration": 208,
    "start_time": "2022-04-10T13:53:15.876Z"
   },
   {
    "duration": 218,
    "start_time": "2022-04-10T13:53:16.086Z"
   },
   {
    "duration": 210,
    "start_time": "2022-04-10T13:53:16.306Z"
   },
   {
    "duration": 172,
    "start_time": "2022-04-10T13:53:16.518Z"
   },
   {
    "duration": 17,
    "start_time": "2022-04-10T13:53:16.691Z"
   },
   {
    "duration": 195,
    "start_time": "2022-04-10T13:53:16.709Z"
   },
   {
    "duration": 202,
    "start_time": "2022-04-10T13:53:16.906Z"
   },
   {
    "duration": 168,
    "start_time": "2022-04-10T13:53:17.109Z"
   },
   {
    "duration": 18,
    "start_time": "2022-04-10T13:53:17.279Z"
   },
   {
    "duration": 188,
    "start_time": "2022-04-10T13:53:17.299Z"
   },
   {
    "duration": 180,
    "start_time": "2022-04-10T13:53:17.488Z"
   },
   {
    "duration": 184,
    "start_time": "2022-04-10T13:53:17.670Z"
   },
   {
    "duration": 26,
    "start_time": "2022-04-10T13:53:49.214Z"
   },
   {
    "duration": 116,
    "start_time": "2022-04-10T13:54:12.776Z"
   },
   {
    "duration": 99,
    "start_time": "2022-04-10T13:54:52.611Z"
   },
   {
    "duration": 7,
    "start_time": "2022-04-10T13:55:01.927Z"
   },
   {
    "duration": 26,
    "start_time": "2022-04-10T13:55:42.224Z"
   },
   {
    "duration": 8,
    "start_time": "2022-04-10T13:56:29.461Z"
   },
   {
    "duration": 7,
    "start_time": "2022-04-10T13:56:41.072Z"
   },
   {
    "duration": 7,
    "start_time": "2022-04-10T13:57:45.689Z"
   },
   {
    "duration": 10,
    "start_time": "2022-04-10T13:58:49.509Z"
   },
   {
    "duration": 11,
    "start_time": "2022-04-10T13:59:17.696Z"
   },
   {
    "duration": 9,
    "start_time": "2022-04-10T13:59:25.573Z"
   },
   {
    "duration": 192,
    "start_time": "2022-04-10T14:19:14.961Z"
   },
   {
    "duration": 181,
    "start_time": "2022-04-10T14:19:29.508Z"
   },
   {
    "duration": 155,
    "start_time": "2022-04-10T14:20:39.533Z"
   },
   {
    "duration": 7,
    "start_time": "2022-04-10T14:28:46.979Z"
   },
   {
    "duration": 109,
    "start_time": "2022-04-10T14:30:27.728Z"
   },
   {
    "duration": 13,
    "start_time": "2022-04-10T14:31:01.820Z"
   },
   {
    "duration": 8,
    "start_time": "2022-04-10T14:34:06.207Z"
   },
   {
    "duration": 10,
    "start_time": "2022-04-10T14:35:02.494Z"
   },
   {
    "duration": 160,
    "start_time": "2022-04-10T14:35:03.052Z"
   },
   {
    "duration": 20,
    "start_time": "2022-04-10T14:35:04.314Z"
   },
   {
    "duration": 137,
    "start_time": "2022-04-10T14:35:18.210Z"
   },
   {
    "duration": 10,
    "start_time": "2022-04-10T14:35:29.156Z"
   },
   {
    "duration": 10,
    "start_time": "2022-04-10T14:38:30.028Z"
   },
   {
    "duration": 10,
    "start_time": "2022-04-10T14:42:46.597Z"
   },
   {
    "duration": 10,
    "start_time": "2022-04-10T14:44:00.544Z"
   },
   {
    "duration": 1109,
    "start_time": "2022-04-10T16:21:39.994Z"
   },
   {
    "duration": 172,
    "start_time": "2022-04-10T16:21:41.105Z"
   },
   {
    "duration": 12,
    "start_time": "2022-04-10T16:21:41.279Z"
   },
   {
    "duration": 157,
    "start_time": "2022-04-10T16:21:41.293Z"
   },
   {
    "duration": 9,
    "start_time": "2022-04-10T16:21:41.457Z"
   },
   {
    "duration": 99,
    "start_time": "2022-04-10T16:21:41.467Z"
   },
   {
    "duration": 7,
    "start_time": "2022-04-10T16:21:41.567Z"
   },
   {
    "duration": 20,
    "start_time": "2022-04-10T16:21:41.575Z"
   },
   {
    "duration": 8,
    "start_time": "2022-04-10T16:21:41.597Z"
   },
   {
    "duration": 27,
    "start_time": "2022-04-10T16:21:41.607Z"
   },
   {
    "duration": 9,
    "start_time": "2022-04-10T16:21:41.635Z"
   },
   {
    "duration": 67,
    "start_time": "2022-04-10T16:21:41.646Z"
   },
   {
    "duration": 21,
    "start_time": "2022-04-10T16:21:41.715Z"
   },
   {
    "duration": 52,
    "start_time": "2022-04-10T16:21:41.738Z"
   },
   {
    "duration": 18,
    "start_time": "2022-04-10T16:21:41.792Z"
   },
   {
    "duration": 49,
    "start_time": "2022-04-10T16:21:41.812Z"
   },
   {
    "duration": 17,
    "start_time": "2022-04-10T16:21:41.862Z"
   },
   {
    "duration": 16,
    "start_time": "2022-04-10T16:21:41.880Z"
   },
   {
    "duration": 16,
    "start_time": "2022-04-10T16:21:41.898Z"
   },
   {
    "duration": 8,
    "start_time": "2022-04-10T16:21:41.916Z"
   },
   {
    "duration": 41,
    "start_time": "2022-04-10T16:21:41.926Z"
   },
   {
    "duration": 20,
    "start_time": "2022-04-10T16:21:41.969Z"
   },
   {
    "duration": 17,
    "start_time": "2022-04-10T16:21:41.991Z"
   },
   {
    "duration": 130,
    "start_time": "2022-04-10T16:21:42.010Z"
   },
   {
    "duration": 21,
    "start_time": "2022-04-10T16:21:42.141Z"
   },
   {
    "duration": 9,
    "start_time": "2022-04-10T16:21:42.164Z"
   },
   {
    "duration": 8,
    "start_time": "2022-04-10T16:21:42.175Z"
   },
   {
    "duration": 19,
    "start_time": "2022-04-10T16:21:42.186Z"
   },
   {
    "duration": 33,
    "start_time": "2022-04-10T16:21:42.206Z"
   },
   {
    "duration": 6,
    "start_time": "2022-04-10T16:21:42.240Z"
   },
   {
    "duration": 14,
    "start_time": "2022-04-10T16:21:42.248Z"
   },
   {
    "duration": 7,
    "start_time": "2022-04-10T16:21:42.264Z"
   },
   {
    "duration": 6,
    "start_time": "2022-04-10T16:21:42.273Z"
   },
   {
    "duration": 5,
    "start_time": "2022-04-10T16:21:42.281Z"
   },
   {
    "duration": 108,
    "start_time": "2022-04-10T16:21:42.288Z"
   },
   {
    "duration": 0,
    "start_time": "2022-04-10T16:21:42.397Z"
   },
   {
    "duration": 0,
    "start_time": "2022-04-10T16:21:42.398Z"
   },
   {
    "duration": 0,
    "start_time": "2022-04-10T16:21:42.399Z"
   },
   {
    "duration": 0,
    "start_time": "2022-04-10T16:21:42.400Z"
   },
   {
    "duration": 0,
    "start_time": "2022-04-10T16:21:42.401Z"
   },
   {
    "duration": 0,
    "start_time": "2022-04-10T16:21:42.402Z"
   },
   {
    "duration": 0,
    "start_time": "2022-04-10T16:21:42.402Z"
   },
   {
    "duration": 0,
    "start_time": "2022-04-10T16:21:42.404Z"
   },
   {
    "duration": 0,
    "start_time": "2022-04-10T16:21:42.405Z"
   },
   {
    "duration": 0,
    "start_time": "2022-04-10T16:21:42.406Z"
   },
   {
    "duration": 0,
    "start_time": "2022-04-10T16:21:42.406Z"
   },
   {
    "duration": 0,
    "start_time": "2022-04-10T16:21:42.407Z"
   },
   {
    "duration": 0,
    "start_time": "2022-04-10T16:21:42.408Z"
   },
   {
    "duration": 0,
    "start_time": "2022-04-10T16:21:42.409Z"
   },
   {
    "duration": 0,
    "start_time": "2022-04-10T16:21:42.410Z"
   },
   {
    "duration": 0,
    "start_time": "2022-04-10T16:21:42.411Z"
   },
   {
    "duration": 0,
    "start_time": "2022-04-10T16:21:42.412Z"
   },
   {
    "duration": 0,
    "start_time": "2022-04-10T16:21:42.413Z"
   },
   {
    "duration": 1067,
    "start_time": "2022-04-10T16:22:09.922Z"
   },
   {
    "duration": 161,
    "start_time": "2022-04-10T16:22:10.991Z"
   },
   {
    "duration": 10,
    "start_time": "2022-04-10T16:22:11.158Z"
   },
   {
    "duration": 136,
    "start_time": "2022-04-10T16:22:11.170Z"
   },
   {
    "duration": 8,
    "start_time": "2022-04-10T16:22:11.308Z"
   },
   {
    "duration": 93,
    "start_time": "2022-04-10T16:22:11.318Z"
   },
   {
    "duration": 6,
    "start_time": "2022-04-10T16:22:11.413Z"
   },
   {
    "duration": 21,
    "start_time": "2022-04-10T16:22:11.421Z"
   },
   {
    "duration": 20,
    "start_time": "2022-04-10T16:22:11.443Z"
   },
   {
    "duration": 24,
    "start_time": "2022-04-10T16:22:11.466Z"
   },
   {
    "duration": 9,
    "start_time": "2022-04-10T16:22:11.491Z"
   },
   {
    "duration": 63,
    "start_time": "2022-04-10T16:22:11.501Z"
   },
   {
    "duration": 19,
    "start_time": "2022-04-10T16:22:11.566Z"
   },
   {
    "duration": 39,
    "start_time": "2022-04-10T16:22:11.586Z"
   },
   {
    "duration": 37,
    "start_time": "2022-04-10T16:22:11.627Z"
   },
   {
    "duration": 32,
    "start_time": "2022-04-10T16:22:11.666Z"
   },
   {
    "duration": 16,
    "start_time": "2022-04-10T16:22:11.700Z"
   },
   {
    "duration": 14,
    "start_time": "2022-04-10T16:22:11.718Z"
   },
   {
    "duration": 39,
    "start_time": "2022-04-10T16:22:11.734Z"
   },
   {
    "duration": 8,
    "start_time": "2022-04-10T16:22:11.775Z"
   },
   {
    "duration": 12,
    "start_time": "2022-04-10T16:22:11.785Z"
   },
   {
    "duration": 19,
    "start_time": "2022-04-10T16:22:11.798Z"
   },
   {
    "duration": 41,
    "start_time": "2022-04-10T16:22:11.818Z"
   },
   {
    "duration": 112,
    "start_time": "2022-04-10T16:22:11.861Z"
   },
   {
    "duration": 10,
    "start_time": "2022-04-10T16:22:11.975Z"
   },
   {
    "duration": 9,
    "start_time": "2022-04-10T16:22:11.987Z"
   },
   {
    "duration": 5,
    "start_time": "2022-04-10T16:22:11.998Z"
   },
   {
    "duration": 7,
    "start_time": "2022-04-10T16:22:12.006Z"
   },
   {
    "duration": 45,
    "start_time": "2022-04-10T16:22:12.014Z"
   },
   {
    "duration": 5,
    "start_time": "2022-04-10T16:22:12.061Z"
   },
   {
    "duration": 6,
    "start_time": "2022-04-10T16:22:12.067Z"
   },
   {
    "duration": 7,
    "start_time": "2022-04-10T16:22:12.075Z"
   },
   {
    "duration": 6,
    "start_time": "2022-04-10T16:22:12.083Z"
   },
   {
    "duration": 6,
    "start_time": "2022-04-10T16:22:12.090Z"
   },
   {
    "duration": 12,
    "start_time": "2022-04-10T16:22:12.097Z"
   },
   {
    "duration": 15,
    "start_time": "2022-04-10T16:22:12.110Z"
   },
   {
    "duration": 229,
    "start_time": "2022-04-10T16:22:12.127Z"
   },
   {
    "duration": 198,
    "start_time": "2022-04-10T16:22:12.357Z"
   },
   {
    "duration": 204,
    "start_time": "2022-04-10T16:22:12.556Z"
   },
   {
    "duration": 159,
    "start_time": "2022-04-10T16:22:12.762Z"
   },
   {
    "duration": 17,
    "start_time": "2022-04-10T16:22:12.922Z"
   },
   {
    "duration": 181,
    "start_time": "2022-04-10T16:22:12.940Z"
   },
   {
    "duration": 193,
    "start_time": "2022-04-10T16:22:13.123Z"
   },
   {
    "duration": 262,
    "start_time": "2022-04-10T16:22:13.318Z"
   },
   {
    "duration": 19,
    "start_time": "2022-04-10T16:22:13.582Z"
   },
   {
    "duration": 190,
    "start_time": "2022-04-10T16:22:13.602Z"
   },
   {
    "duration": 181,
    "start_time": "2022-04-10T16:22:13.795Z"
   },
   {
    "duration": 238,
    "start_time": "2022-04-10T16:22:13.978Z"
   },
   {
    "duration": 107,
    "start_time": "2022-04-10T16:22:14.218Z"
   },
   {
    "duration": 0,
    "start_time": "2022-04-10T16:22:14.327Z"
   },
   {
    "duration": 0,
    "start_time": "2022-04-10T16:22:14.328Z"
   },
   {
    "duration": 0,
    "start_time": "2022-04-10T16:22:14.329Z"
   },
   {
    "duration": 1020,
    "start_time": "2022-04-10T16:23:08.471Z"
   },
   {
    "duration": 154,
    "start_time": "2022-04-10T16:23:09.493Z"
   },
   {
    "duration": 17,
    "start_time": "2022-04-10T16:23:09.648Z"
   },
   {
    "duration": 139,
    "start_time": "2022-04-10T16:23:09.666Z"
   },
   {
    "duration": 8,
    "start_time": "2022-04-10T16:23:09.806Z"
   },
   {
    "duration": 96,
    "start_time": "2022-04-10T16:23:09.815Z"
   },
   {
    "duration": 7,
    "start_time": "2022-04-10T16:23:09.912Z"
   },
   {
    "duration": 18,
    "start_time": "2022-04-10T16:23:09.920Z"
   },
   {
    "duration": 6,
    "start_time": "2022-04-10T16:23:09.940Z"
   },
   {
    "duration": 21,
    "start_time": "2022-04-10T16:23:09.957Z"
   },
   {
    "duration": 9,
    "start_time": "2022-04-10T16:23:09.979Z"
   },
   {
    "duration": 69,
    "start_time": "2022-04-10T16:23:09.989Z"
   },
   {
    "duration": 21,
    "start_time": "2022-04-10T16:23:10.059Z"
   },
   {
    "duration": 38,
    "start_time": "2022-04-10T16:23:10.081Z"
   },
   {
    "duration": 17,
    "start_time": "2022-04-10T16:23:10.121Z"
   },
   {
    "duration": 50,
    "start_time": "2022-04-10T16:23:10.139Z"
   },
   {
    "duration": 16,
    "start_time": "2022-04-10T16:23:10.190Z"
   },
   {
    "duration": 15,
    "start_time": "2022-04-10T16:23:10.207Z"
   },
   {
    "duration": 36,
    "start_time": "2022-04-10T16:23:10.223Z"
   },
   {
    "duration": 10,
    "start_time": "2022-04-10T16:23:10.260Z"
   },
   {
    "duration": 13,
    "start_time": "2022-04-10T16:23:10.272Z"
   },
   {
    "duration": 20,
    "start_time": "2022-04-10T16:23:10.286Z"
   },
   {
    "duration": 16,
    "start_time": "2022-04-10T16:23:10.307Z"
   },
   {
    "duration": 134,
    "start_time": "2022-04-10T16:23:10.324Z"
   },
   {
    "duration": 12,
    "start_time": "2022-04-10T16:23:10.459Z"
   },
   {
    "duration": 10,
    "start_time": "2022-04-10T16:23:10.472Z"
   },
   {
    "duration": 5,
    "start_time": "2022-04-10T16:23:10.483Z"
   },
   {
    "duration": 7,
    "start_time": "2022-04-10T16:23:10.491Z"
   },
   {
    "duration": 15,
    "start_time": "2022-04-10T16:23:10.499Z"
   },
   {
    "duration": 6,
    "start_time": "2022-04-10T16:23:10.515Z"
   },
   {
    "duration": 38,
    "start_time": "2022-04-10T16:23:10.523Z"
   },
   {
    "duration": 8,
    "start_time": "2022-04-10T16:23:10.562Z"
   },
   {
    "duration": 7,
    "start_time": "2022-04-10T16:23:10.571Z"
   },
   {
    "duration": 8,
    "start_time": "2022-04-10T16:23:10.579Z"
   },
   {
    "duration": 12,
    "start_time": "2022-04-10T16:23:10.588Z"
   },
   {
    "duration": 17,
    "start_time": "2022-04-10T16:23:10.602Z"
   },
   {
    "duration": 213,
    "start_time": "2022-04-10T16:23:10.621Z"
   },
   {
    "duration": 202,
    "start_time": "2022-04-10T16:23:10.835Z"
   },
   {
    "duration": 208,
    "start_time": "2022-04-10T16:23:11.038Z"
   },
   {
    "duration": 157,
    "start_time": "2022-04-10T16:23:11.248Z"
   },
   {
    "duration": 17,
    "start_time": "2022-04-10T16:23:11.406Z"
   },
   {
    "duration": 175,
    "start_time": "2022-04-10T16:23:11.425Z"
   },
   {
    "duration": 199,
    "start_time": "2022-04-10T16:23:11.602Z"
   },
   {
    "duration": 161,
    "start_time": "2022-04-10T16:23:11.802Z"
   },
   {
    "duration": 16,
    "start_time": "2022-04-10T16:23:11.965Z"
   },
   {
    "duration": 186,
    "start_time": "2022-04-10T16:23:11.982Z"
   },
   {
    "duration": 179,
    "start_time": "2022-04-10T16:23:12.169Z"
   },
   {
    "duration": 235,
    "start_time": "2022-04-10T16:23:12.350Z"
   },
   {
    "duration": 10,
    "start_time": "2022-04-10T16:23:12.586Z"
   },
   {
    "duration": 147,
    "start_time": "2022-04-10T16:23:12.597Z"
   },
   {
    "duration": 15,
    "start_time": "2022-04-10T16:23:12.745Z"
   },
   {
    "duration": 9,
    "start_time": "2022-04-10T16:23:12.761Z"
   },
   {
    "duration": 1073,
    "start_time": "2022-04-10T17:41:47.941Z"
   },
   {
    "duration": 171,
    "start_time": "2022-04-10T17:41:49.016Z"
   },
   {
    "duration": 10,
    "start_time": "2022-04-10T17:41:49.189Z"
   },
   {
    "duration": 145,
    "start_time": "2022-04-10T17:41:49.201Z"
   },
   {
    "duration": 12,
    "start_time": "2022-04-10T17:41:49.348Z"
   },
   {
    "duration": 96,
    "start_time": "2022-04-10T17:41:49.362Z"
   },
   {
    "duration": 7,
    "start_time": "2022-04-10T17:41:49.460Z"
   },
   {
    "duration": 17,
    "start_time": "2022-04-10T17:41:49.468Z"
   },
   {
    "duration": 7,
    "start_time": "2022-04-10T17:41:49.486Z"
   },
   {
    "duration": 26,
    "start_time": "2022-04-10T17:41:49.496Z"
   },
   {
    "duration": 9,
    "start_time": "2022-04-10T17:41:49.524Z"
   },
   {
    "duration": 68,
    "start_time": "2022-04-10T17:41:49.534Z"
   },
   {
    "duration": 19,
    "start_time": "2022-04-10T17:41:49.604Z"
   },
   {
    "duration": 52,
    "start_time": "2022-04-10T17:41:49.625Z"
   },
   {
    "duration": 18,
    "start_time": "2022-04-10T17:41:49.679Z"
   },
   {
    "duration": 34,
    "start_time": "2022-04-10T17:41:49.699Z"
   },
   {
    "duration": 40,
    "start_time": "2022-04-10T17:41:49.734Z"
   },
   {
    "duration": 15,
    "start_time": "2022-04-10T17:41:49.776Z"
   },
   {
    "duration": 16,
    "start_time": "2022-04-10T17:41:49.792Z"
   },
   {
    "duration": 9,
    "start_time": "2022-04-10T17:41:49.809Z"
   },
   {
    "duration": 39,
    "start_time": "2022-04-10T17:41:49.819Z"
   },
   {
    "duration": 19,
    "start_time": "2022-04-10T17:41:49.860Z"
   },
   {
    "duration": 17,
    "start_time": "2022-04-10T17:41:49.881Z"
   },
   {
    "duration": 124,
    "start_time": "2022-04-10T17:41:49.900Z"
   },
   {
    "duration": 12,
    "start_time": "2022-04-10T17:41:50.026Z"
   },
   {
    "duration": 24,
    "start_time": "2022-04-10T17:41:50.040Z"
   },
   {
    "duration": 5,
    "start_time": "2022-04-10T17:41:50.066Z"
   },
   {
    "duration": 7,
    "start_time": "2022-04-10T17:41:50.075Z"
   },
   {
    "duration": 14,
    "start_time": "2022-04-10T17:41:50.084Z"
   },
   {
    "duration": 5,
    "start_time": "2022-04-10T17:41:50.099Z"
   },
   {
    "duration": 6,
    "start_time": "2022-04-10T17:41:50.105Z"
   },
   {
    "duration": 5,
    "start_time": "2022-04-10T17:41:50.113Z"
   },
   {
    "duration": 40,
    "start_time": "2022-04-10T17:41:50.119Z"
   },
   {
    "duration": 5,
    "start_time": "2022-04-10T17:41:50.160Z"
   },
   {
    "duration": 13,
    "start_time": "2022-04-10T17:41:50.166Z"
   },
   {
    "duration": 26,
    "start_time": "2022-04-10T17:41:50.180Z"
   },
   {
    "duration": 201,
    "start_time": "2022-04-10T17:41:50.208Z"
   },
   {
    "duration": 200,
    "start_time": "2022-04-10T17:41:50.410Z"
   },
   {
    "duration": 202,
    "start_time": "2022-04-10T17:41:50.612Z"
   },
   {
    "duration": 160,
    "start_time": "2022-04-10T17:41:50.816Z"
   },
   {
    "duration": 16,
    "start_time": "2022-04-10T17:41:50.978Z"
   },
   {
    "duration": 175,
    "start_time": "2022-04-10T17:41:50.995Z"
   },
   {
    "duration": 203,
    "start_time": "2022-04-10T17:41:51.172Z"
   },
   {
    "duration": 153,
    "start_time": "2022-04-10T17:41:51.377Z"
   },
   {
    "duration": 27,
    "start_time": "2022-04-10T17:41:51.531Z"
   },
   {
    "duration": 165,
    "start_time": "2022-04-10T17:41:51.559Z"
   },
   {
    "duration": 185,
    "start_time": "2022-04-10T17:41:51.725Z"
   },
   {
    "duration": 234,
    "start_time": "2022-04-10T17:41:51.912Z"
   },
   {
    "duration": 15,
    "start_time": "2022-04-10T17:41:52.148Z"
   },
   {
    "duration": 146,
    "start_time": "2022-04-10T17:41:52.165Z"
   },
   {
    "duration": 10,
    "start_time": "2022-04-10T17:41:52.312Z"
   },
   {
    "duration": 23,
    "start_time": "2022-04-10T17:41:52.324Z"
   },
   {
    "duration": 1116,
    "start_time": "2022-04-20T13:30:23.731Z"
   },
   {
    "duration": 193,
    "start_time": "2022-04-20T13:30:24.849Z"
   },
   {
    "duration": 16,
    "start_time": "2022-04-20T13:30:25.044Z"
   },
   {
    "duration": 177,
    "start_time": "2022-04-20T13:30:25.062Z"
   },
   {
    "duration": 9,
    "start_time": "2022-04-20T13:30:25.241Z"
   },
   {
    "duration": 115,
    "start_time": "2022-04-20T13:30:25.251Z"
   },
   {
    "duration": 17,
    "start_time": "2022-04-20T13:30:25.368Z"
   },
   {
    "duration": 36,
    "start_time": "2022-04-20T13:30:25.387Z"
   },
   {
    "duration": 9,
    "start_time": "2022-04-20T13:30:25.425Z"
   },
   {
    "duration": 28,
    "start_time": "2022-04-20T13:30:25.437Z"
   },
   {
    "duration": 17,
    "start_time": "2022-04-20T13:30:25.467Z"
   },
   {
    "duration": 60,
    "start_time": "2022-04-20T13:30:25.486Z"
   },
   {
    "duration": 37,
    "start_time": "2022-04-20T13:30:25.548Z"
   },
   {
    "duration": 43,
    "start_time": "2022-04-20T13:30:25.587Z"
   },
   {
    "duration": 18,
    "start_time": "2022-04-20T13:30:25.632Z"
   },
   {
    "duration": 60,
    "start_time": "2022-04-20T13:30:25.652Z"
   },
   {
    "duration": 19,
    "start_time": "2022-04-20T13:30:25.714Z"
   },
   {
    "duration": 17,
    "start_time": "2022-04-20T13:30:25.735Z"
   },
   {
    "duration": 26,
    "start_time": "2022-04-20T13:30:25.773Z"
   },
   {
    "duration": 8,
    "start_time": "2022-04-20T13:30:25.800Z"
   },
   {
    "duration": 15,
    "start_time": "2022-04-20T13:30:25.810Z"
   },
   {
    "duration": 26,
    "start_time": "2022-04-20T13:30:25.827Z"
   },
   {
    "duration": 22,
    "start_time": "2022-04-20T13:30:25.875Z"
   },
   {
    "duration": 131,
    "start_time": "2022-04-20T13:30:25.899Z"
   },
   {
    "duration": 14,
    "start_time": "2022-04-20T13:30:26.032Z"
   },
   {
    "duration": 9,
    "start_time": "2022-04-20T13:30:26.048Z"
   },
   {
    "duration": 8,
    "start_time": "2022-04-20T13:30:26.073Z"
   },
   {
    "duration": 15,
    "start_time": "2022-04-20T13:30:26.086Z"
   },
   {
    "duration": 23,
    "start_time": "2022-04-20T13:30:26.103Z"
   },
   {
    "duration": 7,
    "start_time": "2022-04-20T13:30:26.129Z"
   },
   {
    "duration": 14,
    "start_time": "2022-04-20T13:30:26.138Z"
   },
   {
    "duration": 23,
    "start_time": "2022-04-20T13:30:26.154Z"
   },
   {
    "duration": 18,
    "start_time": "2022-04-20T13:30:26.182Z"
   },
   {
    "duration": 9,
    "start_time": "2022-04-20T13:30:26.202Z"
   },
   {
    "duration": 19,
    "start_time": "2022-04-20T13:30:26.213Z"
   },
   {
    "duration": 19,
    "start_time": "2022-04-20T13:30:26.234Z"
   },
   {
    "duration": 261,
    "start_time": "2022-04-20T13:30:26.254Z"
   },
   {
    "duration": 273,
    "start_time": "2022-04-20T13:30:26.517Z"
   },
   {
    "duration": 276,
    "start_time": "2022-04-20T13:30:26.792Z"
   },
   {
    "duration": 217,
    "start_time": "2022-04-20T13:30:27.070Z"
   },
   {
    "duration": 21,
    "start_time": "2022-04-20T13:30:27.289Z"
   },
   {
    "duration": 230,
    "start_time": "2022-04-20T13:30:27.312Z"
   },
   {
    "duration": 271,
    "start_time": "2022-04-20T13:30:27.545Z"
   },
   {
    "duration": 209,
    "start_time": "2022-04-20T13:30:27.818Z"
   },
   {
    "duration": 20,
    "start_time": "2022-04-20T13:30:28.029Z"
   },
   {
    "duration": 242,
    "start_time": "2022-04-20T13:30:28.051Z"
   },
   {
    "duration": 220,
    "start_time": "2022-04-20T13:30:28.295Z"
   },
   {
    "duration": 302,
    "start_time": "2022-04-20T13:30:28.517Z"
   },
   {
    "duration": 13,
    "start_time": "2022-04-20T13:30:28.822Z"
   },
   {
    "duration": 202,
    "start_time": "2022-04-20T13:30:28.837Z"
   },
   {
    "duration": 13,
    "start_time": "2022-04-20T13:30:29.042Z"
   },
   {
    "duration": 14,
    "start_time": "2022-04-20T13:30:29.078Z"
   },
   {
    "duration": 13,
    "start_time": "2022-04-20T13:32:10.958Z"
   },
   {
    "duration": 22,
    "start_time": "2022-04-20T13:34:21.164Z"
   },
   {
    "duration": 1282,
    "start_time": "2022-04-23T17:23:50.663Z"
   },
   {
    "duration": 182,
    "start_time": "2022-04-23T17:23:51.947Z"
   },
   {
    "duration": 12,
    "start_time": "2022-04-23T17:23:52.131Z"
   },
   {
    "duration": 157,
    "start_time": "2022-04-23T17:23:52.145Z"
   },
   {
    "duration": 8,
    "start_time": "2022-04-23T17:23:52.304Z"
   },
   {
    "duration": 110,
    "start_time": "2022-04-23T17:23:52.314Z"
   },
   {
    "duration": 7,
    "start_time": "2022-04-23T17:23:52.426Z"
   },
   {
    "duration": 19,
    "start_time": "2022-04-23T17:23:52.435Z"
   },
   {
    "duration": 19,
    "start_time": "2022-04-23T17:23:52.456Z"
   },
   {
    "duration": 23,
    "start_time": "2022-04-23T17:23:52.479Z"
   },
   {
    "duration": 10,
    "start_time": "2022-04-23T17:23:52.504Z"
   },
   {
    "duration": 77,
    "start_time": "2022-04-23T17:23:52.516Z"
   },
   {
    "duration": 27,
    "start_time": "2022-04-23T17:23:52.595Z"
   },
   {
    "duration": 59,
    "start_time": "2022-04-23T17:23:52.624Z"
   },
   {
    "duration": 23,
    "start_time": "2022-04-23T17:23:52.685Z"
   },
   {
    "duration": 37,
    "start_time": "2022-04-23T17:23:52.710Z"
   },
   {
    "duration": 41,
    "start_time": "2022-04-23T17:23:52.749Z"
   },
   {
    "duration": 20,
    "start_time": "2022-04-23T17:23:52.792Z"
   },
   {
    "duration": 20,
    "start_time": "2022-04-23T17:23:52.814Z"
   },
   {
    "duration": 41,
    "start_time": "2022-04-23T17:23:52.836Z"
   },
   {
    "duration": 15,
    "start_time": "2022-04-23T17:23:52.879Z"
   },
   {
    "duration": 22,
    "start_time": "2022-04-23T17:23:52.896Z"
   },
   {
    "duration": 18,
    "start_time": "2022-04-23T17:23:52.920Z"
   },
   {
    "duration": 144,
    "start_time": "2022-04-23T17:23:52.940Z"
   },
   {
    "duration": 12,
    "start_time": "2022-04-23T17:23:53.086Z"
   },
   {
    "duration": 10,
    "start_time": "2022-04-23T17:23:53.100Z"
   },
   {
    "duration": 192,
    "start_time": "2022-04-23T17:23:53.111Z"
   },
   {
    "duration": 7,
    "start_time": "2022-04-23T17:23:53.308Z"
   },
   {
    "duration": 17,
    "start_time": "2022-04-23T17:23:53.317Z"
   },
   {
    "duration": 7,
    "start_time": "2022-04-23T17:23:53.336Z"
   },
   {
    "duration": 30,
    "start_time": "2022-04-23T17:23:53.344Z"
   },
   {
    "duration": 9,
    "start_time": "2022-04-23T17:23:53.377Z"
   },
   {
    "duration": 7,
    "start_time": "2022-04-23T17:23:53.387Z"
   },
   {
    "duration": 6,
    "start_time": "2022-04-23T17:23:53.396Z"
   },
   {
    "duration": 14,
    "start_time": "2022-04-23T17:23:53.404Z"
   },
   {
    "duration": 19,
    "start_time": "2022-04-23T17:23:53.420Z"
   },
   {
    "duration": 247,
    "start_time": "2022-04-23T17:23:53.441Z"
   },
   {
    "duration": 232,
    "start_time": "2022-04-23T17:23:53.690Z"
   },
   {
    "duration": 248,
    "start_time": "2022-04-23T17:23:53.924Z"
   },
   {
    "duration": 182,
    "start_time": "2022-04-23T17:23:54.174Z"
   },
   {
    "duration": 31,
    "start_time": "2022-04-23T17:23:54.359Z"
   },
   {
    "duration": 204,
    "start_time": "2022-04-23T17:23:54.392Z"
   },
   {
    "duration": 231,
    "start_time": "2022-04-23T17:23:54.599Z"
   },
   {
    "duration": 191,
    "start_time": "2022-04-23T17:23:54.833Z"
   },
   {
    "duration": 20,
    "start_time": "2022-04-23T17:23:55.026Z"
   },
   {
    "duration": 211,
    "start_time": "2022-04-23T17:23:55.047Z"
   },
   {
    "duration": 282,
    "start_time": "2022-04-23T17:23:55.260Z"
   },
   {
    "duration": 187,
    "start_time": "2022-04-23T17:23:55.544Z"
   },
   {
    "duration": 11,
    "start_time": "2022-04-23T17:23:55.733Z"
   },
   {
    "duration": 181,
    "start_time": "2022-04-23T17:23:55.746Z"
   },
   {
    "duration": 12,
    "start_time": "2022-04-23T17:23:55.929Z"
   },
   {
    "duration": 32,
    "start_time": "2022-04-23T17:23:55.942Z"
   },
   {
    "duration": 1143,
    "start_time": "2022-04-23T17:26:30.802Z"
   },
   {
    "duration": 192,
    "start_time": "2022-04-23T17:26:31.947Z"
   },
   {
    "duration": 13,
    "start_time": "2022-04-23T17:26:32.141Z"
   },
   {
    "duration": 174,
    "start_time": "2022-04-23T17:26:32.156Z"
   },
   {
    "duration": 9,
    "start_time": "2022-04-23T17:26:32.331Z"
   },
   {
    "duration": 110,
    "start_time": "2022-04-23T17:26:32.342Z"
   },
   {
    "duration": 6,
    "start_time": "2022-04-23T17:26:32.454Z"
   },
   {
    "duration": 18,
    "start_time": "2022-04-23T17:26:32.474Z"
   },
   {
    "duration": 8,
    "start_time": "2022-04-23T17:26:32.493Z"
   },
   {
    "duration": 25,
    "start_time": "2022-04-23T17:26:32.504Z"
   },
   {
    "duration": 9,
    "start_time": "2022-04-23T17:26:32.531Z"
   },
   {
    "duration": 74,
    "start_time": "2022-04-23T17:26:32.542Z"
   },
   {
    "duration": 24,
    "start_time": "2022-04-23T17:26:32.617Z"
   },
   {
    "duration": 54,
    "start_time": "2022-04-23T17:26:32.643Z"
   },
   {
    "duration": 21,
    "start_time": "2022-04-23T17:26:32.698Z"
   },
   {
    "duration": 59,
    "start_time": "2022-04-23T17:26:32.721Z"
   },
   {
    "duration": 19,
    "start_time": "2022-04-23T17:26:32.782Z"
   },
   {
    "duration": 17,
    "start_time": "2022-04-23T17:26:32.803Z"
   },
   {
    "duration": 17,
    "start_time": "2022-04-23T17:26:32.822Z"
   },
   {
    "duration": 38,
    "start_time": "2022-04-23T17:26:32.841Z"
   },
   {
    "duration": 14,
    "start_time": "2022-04-23T17:26:32.881Z"
   },
   {
    "duration": 21,
    "start_time": "2022-04-23T17:26:32.897Z"
   },
   {
    "duration": 18,
    "start_time": "2022-04-23T17:26:32.919Z"
   },
   {
    "duration": 138,
    "start_time": "2022-04-23T17:26:32.939Z"
   },
   {
    "duration": 12,
    "start_time": "2022-04-23T17:26:33.078Z"
   },
   {
    "duration": 8,
    "start_time": "2022-04-23T17:26:33.092Z"
   },
   {
    "duration": 190,
    "start_time": "2022-04-23T17:26:33.101Z"
   },
   {
    "duration": 153,
    "start_time": "2022-04-23T17:26:33.295Z"
   },
   {
    "duration": 26,
    "start_time": "2022-04-23T17:26:33.450Z"
   },
   {
    "duration": 9,
    "start_time": "2022-04-23T17:26:33.477Z"
   },
   {
    "duration": 160,
    "start_time": "2022-04-23T17:26:33.487Z"
   },
   {
    "duration": 5,
    "start_time": "2022-04-23T17:26:33.649Z"
   },
   {
    "duration": 21,
    "start_time": "2022-04-23T17:26:33.655Z"
   },
   {
    "duration": 160,
    "start_time": "2022-04-23T17:26:33.678Z"
   },
   {
    "duration": 13,
    "start_time": "2022-04-23T17:26:33.840Z"
   },
   {
    "duration": 30,
    "start_time": "2022-04-23T17:26:33.855Z"
   },
   {
    "duration": 222,
    "start_time": "2022-04-23T17:26:33.887Z"
   },
   {
    "duration": 227,
    "start_time": "2022-04-23T17:26:34.110Z"
   },
   {
    "duration": 247,
    "start_time": "2022-04-23T17:26:34.339Z"
   },
   {
    "duration": 193,
    "start_time": "2022-04-23T17:26:34.588Z"
   },
   {
    "duration": 18,
    "start_time": "2022-04-23T17:26:34.783Z"
   },
   {
    "duration": 216,
    "start_time": "2022-04-23T17:26:34.803Z"
   },
   {
    "duration": 321,
    "start_time": "2022-04-23T17:26:35.022Z"
   },
   {
    "duration": 184,
    "start_time": "2022-04-23T17:26:35.344Z"
   },
   {
    "duration": 21,
    "start_time": "2022-04-23T17:26:35.530Z"
   },
   {
    "duration": 209,
    "start_time": "2022-04-23T17:26:35.553Z"
   },
   {
    "duration": 215,
    "start_time": "2022-04-23T17:26:35.764Z"
   },
   {
    "duration": 187,
    "start_time": "2022-04-23T17:26:35.981Z"
   },
   {
    "duration": 13,
    "start_time": "2022-04-23T17:26:36.172Z"
   },
   {
    "duration": 177,
    "start_time": "2022-04-23T17:26:36.186Z"
   },
   {
    "duration": 14,
    "start_time": "2022-04-23T17:26:36.365Z"
   },
   {
    "duration": 10,
    "start_time": "2022-04-23T17:26:36.380Z"
   },
   {
    "duration": 13,
    "start_time": "2022-04-23T17:32:39.228Z"
   },
   {
    "duration": 12,
    "start_time": "2022-04-23T17:32:40.112Z"
   },
   {
    "duration": 20,
    "start_time": "2022-04-23T17:34:14.252Z"
   },
   {
    "duration": 24,
    "start_time": "2022-04-23T17:34:53.152Z"
   },
   {
    "duration": 8,
    "start_time": "2022-04-23T17:35:14.967Z"
   },
   {
    "duration": 8,
    "start_time": "2022-04-23T17:35:15.500Z"
   },
   {
    "duration": 18,
    "start_time": "2022-04-23T17:35:15.925Z"
   },
   {
    "duration": 14,
    "start_time": "2022-04-23T17:35:17.967Z"
   },
   {
    "duration": 11,
    "start_time": "2022-04-23T17:35:23.810Z"
   },
   {
    "duration": 18,
    "start_time": "2022-04-23T17:35:25.462Z"
   },
   {
    "duration": 14,
    "start_time": "2022-04-23T17:48:02.700Z"
   },
   {
    "duration": 11,
    "start_time": "2022-04-23T17:48:52.152Z"
   },
   {
    "duration": 18,
    "start_time": "2022-04-23T17:49:55.634Z"
   },
   {
    "duration": 20,
    "start_time": "2022-04-23T17:51:00.664Z"
   },
   {
    "duration": 13,
    "start_time": "2022-04-23T17:51:01.440Z"
   },
   {
    "duration": 12,
    "start_time": "2022-04-23T17:51:01.916Z"
   },
   {
    "duration": 1141,
    "start_time": "2022-04-23T17:56:35.147Z"
   },
   {
    "duration": 175,
    "start_time": "2022-04-23T17:56:36.290Z"
   },
   {
    "duration": 15,
    "start_time": "2022-04-23T17:56:36.467Z"
   },
   {
    "duration": 161,
    "start_time": "2022-04-23T17:56:36.484Z"
   },
   {
    "duration": 9,
    "start_time": "2022-04-23T17:56:36.647Z"
   },
   {
    "duration": 119,
    "start_time": "2022-04-23T17:56:36.658Z"
   },
   {
    "duration": 7,
    "start_time": "2022-04-23T17:56:36.779Z"
   },
   {
    "duration": 19,
    "start_time": "2022-04-23T17:56:36.788Z"
   },
   {
    "duration": 7,
    "start_time": "2022-04-23T17:56:36.809Z"
   },
   {
    "duration": 25,
    "start_time": "2022-04-23T17:56:36.818Z"
   },
   {
    "duration": 10,
    "start_time": "2022-04-23T17:56:36.844Z"
   },
   {
    "duration": 68,
    "start_time": "2022-04-23T17:56:36.856Z"
   },
   {
    "duration": 31,
    "start_time": "2022-04-23T17:56:36.926Z"
   },
   {
    "duration": 51,
    "start_time": "2022-04-23T17:56:36.959Z"
   },
   {
    "duration": 21,
    "start_time": "2022-04-23T17:56:37.012Z"
   },
   {
    "duration": 51,
    "start_time": "2022-04-23T17:56:37.035Z"
   },
   {
    "duration": 18,
    "start_time": "2022-04-23T17:56:37.088Z"
   },
   {
    "duration": 22,
    "start_time": "2022-04-23T17:56:37.108Z"
   },
   {
    "duration": 12,
    "start_time": "2022-04-23T17:56:37.132Z"
   },
   {
    "duration": 43,
    "start_time": "2022-04-23T17:56:37.145Z"
   },
   {
    "duration": 8,
    "start_time": "2022-04-23T17:56:37.189Z"
   },
   {
    "duration": 18,
    "start_time": "2022-04-23T17:56:37.198Z"
   },
   {
    "duration": 23,
    "start_time": "2022-04-23T17:56:37.217Z"
   },
   {
    "duration": 43,
    "start_time": "2022-04-23T17:56:37.242Z"
   },
   {
    "duration": 113,
    "start_time": "2022-04-23T17:56:37.287Z"
   },
   {
    "duration": 11,
    "start_time": "2022-04-23T17:56:37.402Z"
   },
   {
    "duration": 8,
    "start_time": "2022-04-23T17:56:37.415Z"
   },
   {
    "duration": 118,
    "start_time": "2022-04-23T17:56:37.426Z"
   },
   {
    "duration": 0,
    "start_time": "2022-04-23T17:56:37.546Z"
   },
   {
    "duration": 0,
    "start_time": "2022-04-23T17:56:37.547Z"
   },
   {
    "duration": 0,
    "start_time": "2022-04-23T17:56:37.548Z"
   },
   {
    "duration": 0,
    "start_time": "2022-04-23T17:56:37.549Z"
   },
   {
    "duration": 0,
    "start_time": "2022-04-23T17:56:37.550Z"
   },
   {
    "duration": 0,
    "start_time": "2022-04-23T17:56:37.551Z"
   },
   {
    "duration": 0,
    "start_time": "2022-04-23T17:56:37.552Z"
   },
   {
    "duration": 0,
    "start_time": "2022-04-23T17:56:37.554Z"
   },
   {
    "duration": 0,
    "start_time": "2022-04-23T17:56:37.555Z"
   },
   {
    "duration": 0,
    "start_time": "2022-04-23T17:56:37.556Z"
   },
   {
    "duration": 0,
    "start_time": "2022-04-23T17:56:37.574Z"
   },
   {
    "duration": 0,
    "start_time": "2022-04-23T17:56:37.575Z"
   },
   {
    "duration": 0,
    "start_time": "2022-04-23T17:56:37.576Z"
   },
   {
    "duration": 0,
    "start_time": "2022-04-23T17:56:37.577Z"
   },
   {
    "duration": 0,
    "start_time": "2022-04-23T17:56:37.578Z"
   },
   {
    "duration": 0,
    "start_time": "2022-04-23T17:56:37.579Z"
   },
   {
    "duration": 0,
    "start_time": "2022-04-23T17:56:37.580Z"
   },
   {
    "duration": 0,
    "start_time": "2022-04-23T17:56:37.581Z"
   },
   {
    "duration": 0,
    "start_time": "2022-04-23T17:56:37.582Z"
   },
   {
    "duration": 0,
    "start_time": "2022-04-23T17:56:37.583Z"
   },
   {
    "duration": 0,
    "start_time": "2022-04-23T17:56:37.584Z"
   },
   {
    "duration": 0,
    "start_time": "2022-04-23T17:56:37.585Z"
   },
   {
    "duration": 0,
    "start_time": "2022-04-23T17:56:37.586Z"
   },
   {
    "duration": 0,
    "start_time": "2022-04-23T17:56:37.587Z"
   },
   {
    "duration": 0,
    "start_time": "2022-04-23T17:56:37.588Z"
   },
   {
    "duration": 14,
    "start_time": "2022-04-23T17:57:08.384Z"
   },
   {
    "duration": 15,
    "start_time": "2022-04-23T17:57:14.270Z"
   },
   {
    "duration": 1119,
    "start_time": "2022-04-23T19:26:16.016Z"
   },
   {
    "duration": 187,
    "start_time": "2022-04-23T19:26:17.137Z"
   },
   {
    "duration": 12,
    "start_time": "2022-04-23T19:26:17.326Z"
   },
   {
    "duration": 159,
    "start_time": "2022-04-23T19:26:17.340Z"
   },
   {
    "duration": 9,
    "start_time": "2022-04-23T19:26:17.500Z"
   },
   {
    "duration": 108,
    "start_time": "2022-04-23T19:26:17.510Z"
   },
   {
    "duration": 7,
    "start_time": "2022-04-23T19:26:17.620Z"
   },
   {
    "duration": 23,
    "start_time": "2022-04-23T19:26:17.629Z"
   },
   {
    "duration": 20,
    "start_time": "2022-04-23T19:26:17.654Z"
   },
   {
    "duration": 27,
    "start_time": "2022-04-23T19:26:17.678Z"
   },
   {
    "duration": 10,
    "start_time": "2022-04-23T19:26:17.707Z"
   },
   {
    "duration": 68,
    "start_time": "2022-04-23T19:26:17.719Z"
   },
   {
    "duration": 25,
    "start_time": "2022-04-23T19:26:17.789Z"
   },
   {
    "duration": 60,
    "start_time": "2022-04-23T19:26:17.815Z"
   },
   {
    "duration": 21,
    "start_time": "2022-04-23T19:26:17.877Z"
   },
   {
    "duration": 36,
    "start_time": "2022-04-23T19:26:17.900Z"
   },
   {
    "duration": 45,
    "start_time": "2022-04-23T19:26:17.938Z"
   },
   {
    "duration": 20,
    "start_time": "2022-04-23T19:26:17.985Z"
   },
   {
    "duration": 11,
    "start_time": "2022-04-23T19:26:18.007Z"
   },
   {
    "duration": 19,
    "start_time": "2022-04-23T19:26:18.020Z"
   },
   {
    "duration": 33,
    "start_time": "2022-04-23T19:26:18.040Z"
   },
   {
    "duration": 15,
    "start_time": "2022-04-23T19:26:18.075Z"
   },
   {
    "duration": 22,
    "start_time": "2022-04-23T19:26:18.092Z"
   },
   {
    "duration": 18,
    "start_time": "2022-04-23T19:26:18.116Z"
   },
   {
    "duration": 131,
    "start_time": "2022-04-23T19:26:18.136Z"
   },
   {
    "duration": 14,
    "start_time": "2022-04-23T19:26:18.268Z"
   },
   {
    "duration": 8,
    "start_time": "2022-04-23T19:26:18.284Z"
   },
   {
    "duration": 117,
    "start_time": "2022-04-23T19:26:18.295Z"
   },
   {
    "duration": 0,
    "start_time": "2022-04-23T19:26:18.414Z"
   },
   {
    "duration": 0,
    "start_time": "2022-04-23T19:26:18.415Z"
   },
   {
    "duration": 0,
    "start_time": "2022-04-23T19:26:18.417Z"
   },
   {
    "duration": 0,
    "start_time": "2022-04-23T19:26:18.419Z"
   },
   {
    "duration": 0,
    "start_time": "2022-04-23T19:26:18.420Z"
   },
   {
    "duration": 0,
    "start_time": "2022-04-23T19:26:18.421Z"
   },
   {
    "duration": 0,
    "start_time": "2022-04-23T19:26:18.422Z"
   },
   {
    "duration": 0,
    "start_time": "2022-04-23T19:26:18.424Z"
   },
   {
    "duration": 0,
    "start_time": "2022-04-23T19:26:18.425Z"
   },
   {
    "duration": 0,
    "start_time": "2022-04-23T19:26:18.427Z"
   },
   {
    "duration": 0,
    "start_time": "2022-04-23T19:26:18.428Z"
   },
   {
    "duration": 0,
    "start_time": "2022-04-23T19:26:18.429Z"
   },
   {
    "duration": 0,
    "start_time": "2022-04-23T19:26:18.430Z"
   },
   {
    "duration": 0,
    "start_time": "2022-04-23T19:26:18.431Z"
   },
   {
    "duration": 0,
    "start_time": "2022-04-23T19:26:18.432Z"
   },
   {
    "duration": 0,
    "start_time": "2022-04-23T19:26:18.434Z"
   },
   {
    "duration": 0,
    "start_time": "2022-04-23T19:26:18.434Z"
   },
   {
    "duration": 0,
    "start_time": "2022-04-23T19:26:18.436Z"
   },
   {
    "duration": 0,
    "start_time": "2022-04-23T19:26:18.474Z"
   },
   {
    "duration": 0,
    "start_time": "2022-04-23T19:26:18.475Z"
   },
   {
    "duration": 0,
    "start_time": "2022-04-23T19:26:18.476Z"
   },
   {
    "duration": 0,
    "start_time": "2022-04-23T19:26:18.477Z"
   },
   {
    "duration": 0,
    "start_time": "2022-04-23T19:26:18.478Z"
   },
   {
    "duration": 0,
    "start_time": "2022-04-23T19:26:18.479Z"
   },
   {
    "duration": 0,
    "start_time": "2022-04-23T19:26:18.480Z"
   },
   {
    "duration": 17,
    "start_time": "2022-04-23T19:53:15.673Z"
   },
   {
    "duration": 19,
    "start_time": "2022-04-23T19:53:49.572Z"
   },
   {
    "duration": 21,
    "start_time": "2022-04-23T19:54:05.510Z"
   },
   {
    "duration": 20,
    "start_time": "2022-04-23T19:54:28.416Z"
   },
   {
    "duration": 6,
    "start_time": "2022-04-23T19:54:46.006Z"
   },
   {
    "duration": 5,
    "start_time": "2022-04-23T19:55:27.504Z"
   },
   {
    "duration": 9,
    "start_time": "2022-04-23T19:55:28.243Z"
   },
   {
    "duration": 3,
    "start_time": "2022-04-23T19:55:33.791Z"
   },
   {
    "duration": 7,
    "start_time": "2022-04-23T19:55:36.536Z"
   },
   {
    "duration": 167,
    "start_time": "2022-04-23T19:55:42.815Z"
   },
   {
    "duration": 18,
    "start_time": "2022-04-23T19:55:49.236Z"
   },
   {
    "duration": 4,
    "start_time": "2022-04-23T19:55:51.038Z"
   },
   {
    "duration": 143,
    "start_time": "2022-04-23T19:55:54.746Z"
   },
   {
    "duration": 7,
    "start_time": "2022-04-23T19:55:56.325Z"
   },
   {
    "duration": 6,
    "start_time": "2022-04-23T19:55:57.994Z"
   },
   {
    "duration": 157,
    "start_time": "2022-04-23T19:55:59.789Z"
   },
   {
    "duration": 15,
    "start_time": "2022-04-23T19:56:04.673Z"
   },
   {
    "duration": 1200,
    "start_time": "2022-04-23T19:58:02.446Z"
   },
   {
    "duration": 261,
    "start_time": "2022-04-23T19:58:03.648Z"
   },
   {
    "duration": 12,
    "start_time": "2022-04-23T19:58:03.911Z"
   },
   {
    "duration": 192,
    "start_time": "2022-04-23T19:58:03.925Z"
   },
   {
    "duration": 10,
    "start_time": "2022-04-23T19:58:04.119Z"
   },
   {
    "duration": 116,
    "start_time": "2022-04-23T19:58:04.130Z"
   },
   {
    "duration": 8,
    "start_time": "2022-04-23T19:58:04.248Z"
   },
   {
    "duration": 39,
    "start_time": "2022-04-23T19:58:04.258Z"
   },
   {
    "duration": 8,
    "start_time": "2022-04-23T19:58:04.299Z"
   },
   {
    "duration": 35,
    "start_time": "2022-04-23T19:58:04.310Z"
   },
   {
    "duration": 13,
    "start_time": "2022-04-23T19:58:04.347Z"
   },
   {
    "duration": 69,
    "start_time": "2022-04-23T19:58:04.362Z"
   },
   {
    "duration": 26,
    "start_time": "2022-04-23T19:58:04.432Z"
   },
   {
    "duration": 58,
    "start_time": "2022-04-23T19:58:04.460Z"
   },
   {
    "duration": 23,
    "start_time": "2022-04-23T19:58:04.519Z"
   },
   {
    "duration": 57,
    "start_time": "2022-04-23T19:58:04.544Z"
   },
   {
    "duration": 20,
    "start_time": "2022-04-23T19:58:04.602Z"
   },
   {
    "duration": 18,
    "start_time": "2022-04-23T19:58:04.623Z"
   },
   {
    "duration": 41,
    "start_time": "2022-04-23T19:58:04.643Z"
   },
   {
    "duration": 31,
    "start_time": "2022-04-23T19:58:04.686Z"
   },
   {
    "duration": 10,
    "start_time": "2022-04-23T19:58:04.719Z"
   },
   {
    "duration": 36,
    "start_time": "2022-04-23T19:58:04.731Z"
   },
   {
    "duration": 42,
    "start_time": "2022-04-23T19:58:04.770Z"
   },
   {
    "duration": 19,
    "start_time": "2022-04-23T19:58:04.814Z"
   },
   {
    "duration": 120,
    "start_time": "2022-04-23T19:58:04.835Z"
   },
   {
    "duration": 19,
    "start_time": "2022-04-23T19:58:04.957Z"
   },
   {
    "duration": 14,
    "start_time": "2022-04-23T19:58:04.978Z"
   },
   {
    "duration": 7,
    "start_time": "2022-04-23T19:58:04.997Z"
   },
   {
    "duration": 18,
    "start_time": "2022-04-23T19:58:05.005Z"
   },
   {
    "duration": 14,
    "start_time": "2022-04-23T19:58:05.025Z"
   },
   {
    "duration": 170,
    "start_time": "2022-04-23T19:58:05.041Z"
   },
   {
    "duration": 17,
    "start_time": "2022-04-23T19:58:05.213Z"
   },
   {
    "duration": 7,
    "start_time": "2022-04-23T19:58:05.232Z"
   },
   {
    "duration": 170,
    "start_time": "2022-04-23T19:58:05.241Z"
   },
   {
    "duration": 6,
    "start_time": "2022-04-23T19:58:05.412Z"
   },
   {
    "duration": 8,
    "start_time": "2022-04-23T19:58:05.419Z"
   },
   {
    "duration": 175,
    "start_time": "2022-04-23T19:58:05.429Z"
   },
   {
    "duration": 14,
    "start_time": "2022-04-23T19:58:05.606Z"
   },
   {
    "duration": 24,
    "start_time": "2022-04-23T19:58:05.621Z"
   },
   {
    "duration": 260,
    "start_time": "2022-04-23T19:58:05.647Z"
   },
   {
    "duration": 246,
    "start_time": "2022-04-23T19:58:05.909Z"
   },
   {
    "duration": 261,
    "start_time": "2022-04-23T19:58:06.157Z"
   },
   {
    "duration": 206,
    "start_time": "2022-04-23T19:58:06.420Z"
   },
   {
    "duration": 21,
    "start_time": "2022-04-23T19:58:06.627Z"
   },
   {
    "duration": 217,
    "start_time": "2022-04-23T19:58:06.650Z"
   },
   {
    "duration": 241,
    "start_time": "2022-04-23T19:58:06.874Z"
   },
   {
    "duration": 280,
    "start_time": "2022-04-23T19:58:07.117Z"
   },
   {
    "duration": 18,
    "start_time": "2022-04-23T19:58:07.399Z"
   },
   {
    "duration": 227,
    "start_time": "2022-04-23T19:58:07.419Z"
   },
   {
    "duration": 219,
    "start_time": "2022-04-23T19:58:07.648Z"
   },
   {
    "duration": 201,
    "start_time": "2022-04-23T19:58:07.868Z"
   },
   {
    "duration": 14,
    "start_time": "2022-04-23T19:58:08.070Z"
   },
   {
    "duration": 175,
    "start_time": "2022-04-23T19:58:08.086Z"
   },
   {
    "duration": 20,
    "start_time": "2022-04-23T19:58:08.263Z"
   },
   {
    "duration": 13,
    "start_time": "2022-04-23T19:58:08.287Z"
   },
   {
    "duration": 248,
    "start_time": "2022-04-23T20:01:19.765Z"
   },
   {
    "duration": 16,
    "start_time": "2022-04-23T20:11:59.370Z"
   },
   {
    "duration": 163,
    "start_time": "2022-04-23T20:15:42.124Z"
   },
   {
    "duration": 338,
    "start_time": "2022-04-23T20:17:21.074Z"
   },
   {
    "duration": 1353,
    "start_time": "2022-04-23T20:17:34.121Z"
   },
   {
    "duration": 1254,
    "start_time": "2022-04-23T20:17:39.614Z"
   },
   {
    "duration": 1266,
    "start_time": "2022-04-23T20:18:34.327Z"
   },
   {
    "duration": 1351,
    "start_time": "2022-04-23T20:19:09.059Z"
   },
   {
    "duration": 185,
    "start_time": "2022-04-23T20:19:43.119Z"
   },
   {
    "duration": 184,
    "start_time": "2022-04-23T20:20:00.526Z"
   },
   {
    "duration": 195,
    "start_time": "2022-04-23T20:20:26.205Z"
   },
   {
    "duration": 237,
    "start_time": "2022-04-23T20:22:42.929Z"
   },
   {
    "duration": 329,
    "start_time": "2022-04-23T20:28:38.903Z"
   },
   {
    "duration": 16,
    "start_time": "2022-04-23T20:29:02.699Z"
   },
   {
    "duration": 205,
    "start_time": "2022-04-23T20:29:16.826Z"
   },
   {
    "duration": 214,
    "start_time": "2022-04-23T20:33:18.431Z"
   },
   {
    "duration": 226,
    "start_time": "2022-04-23T20:33:30.169Z"
   },
   {
    "duration": 203,
    "start_time": "2022-04-23T20:33:45.661Z"
   },
   {
    "duration": 248,
    "start_time": "2022-04-23T20:34:18.564Z"
   },
   {
    "duration": 242,
    "start_time": "2022-04-23T20:34:28.779Z"
   },
   {
    "duration": 252,
    "start_time": "2022-04-23T20:34:47.688Z"
   },
   {
    "duration": 299,
    "start_time": "2022-04-23T20:35:39.412Z"
   },
   {
    "duration": 444,
    "start_time": "2022-04-23T20:41:21.871Z"
   },
   {
    "duration": 314,
    "start_time": "2022-04-23T20:44:22.747Z"
   },
   {
    "duration": 237,
    "start_time": "2022-04-23T20:44:40.862Z"
   },
   {
    "duration": 1219,
    "start_time": "2022-04-23T20:46:47.090Z"
   },
   {
    "duration": 176,
    "start_time": "2022-04-23T20:46:48.311Z"
   },
   {
    "duration": 12,
    "start_time": "2022-04-23T20:46:48.489Z"
   },
   {
    "duration": 165,
    "start_time": "2022-04-23T20:46:48.503Z"
   },
   {
    "duration": 10,
    "start_time": "2022-04-23T20:46:48.669Z"
   },
   {
    "duration": 105,
    "start_time": "2022-04-23T20:46:48.680Z"
   },
   {
    "duration": 7,
    "start_time": "2022-04-23T20:46:48.787Z"
   },
   {
    "duration": 23,
    "start_time": "2022-04-23T20:46:48.795Z"
   },
   {
    "duration": 8,
    "start_time": "2022-04-23T20:46:48.819Z"
   },
   {
    "duration": 24,
    "start_time": "2022-04-23T20:46:48.831Z"
   },
   {
    "duration": 19,
    "start_time": "2022-04-23T20:46:48.857Z"
   },
   {
    "duration": 58,
    "start_time": "2022-04-23T20:46:48.877Z"
   },
   {
    "duration": 56,
    "start_time": "2022-04-23T20:46:48.937Z"
   },
   {
    "duration": 60,
    "start_time": "2022-04-23T20:46:48.995Z"
   },
   {
    "duration": 34,
    "start_time": "2022-04-23T20:46:49.057Z"
   },
   {
    "duration": 34,
    "start_time": "2022-04-23T20:46:49.093Z"
   },
   {
    "duration": 44,
    "start_time": "2022-04-23T20:46:49.129Z"
   },
   {
    "duration": 18,
    "start_time": "2022-04-23T20:46:49.175Z"
   },
   {
    "duration": 10,
    "start_time": "2022-04-23T20:46:49.195Z"
   },
   {
    "duration": 21,
    "start_time": "2022-04-23T20:46:49.206Z"
   },
   {
    "duration": 8,
    "start_time": "2022-04-23T20:46:49.229Z"
   },
   {
    "duration": 47,
    "start_time": "2022-04-23T20:46:49.238Z"
   },
   {
    "duration": 18,
    "start_time": "2022-04-23T20:46:49.287Z"
   },
   {
    "duration": 17,
    "start_time": "2022-04-23T20:46:49.307Z"
   },
   {
    "duration": 138,
    "start_time": "2022-04-23T20:46:49.325Z"
   },
   {
    "duration": 16,
    "start_time": "2022-04-23T20:46:49.465Z"
   },
   {
    "duration": 8,
    "start_time": "2022-04-23T20:46:49.483Z"
   },
   {
    "duration": 4,
    "start_time": "2022-04-23T20:46:49.495Z"
   },
   {
    "duration": 6,
    "start_time": "2022-04-23T20:46:49.501Z"
   },
   {
    "duration": 8,
    "start_time": "2022-04-23T20:46:49.508Z"
   },
   {
    "duration": 197,
    "start_time": "2022-04-23T20:46:49.518Z"
   },
   {
    "duration": 17,
    "start_time": "2022-04-23T20:46:49.716Z"
   },
   {
    "duration": 11,
    "start_time": "2022-04-23T20:46:49.735Z"
   },
   {
    "duration": 171,
    "start_time": "2022-04-23T20:46:49.748Z"
   },
   {
    "duration": 5,
    "start_time": "2022-04-23T20:46:49.921Z"
   },
   {
    "duration": 8,
    "start_time": "2022-04-23T20:46:49.928Z"
   },
   {
    "duration": 181,
    "start_time": "2022-04-23T20:46:49.937Z"
   },
   {
    "duration": 14,
    "start_time": "2022-04-23T20:46:50.119Z"
   },
   {
    "duration": 39,
    "start_time": "2022-04-23T20:46:50.135Z"
   },
   {
    "duration": 230,
    "start_time": "2022-04-23T20:46:50.176Z"
   },
   {
    "duration": 242,
    "start_time": "2022-04-23T20:46:50.408Z"
   },
   {
    "duration": 21,
    "start_time": "2022-04-23T20:46:50.652Z"
   },
   {
    "duration": 293,
    "start_time": "2022-04-23T20:46:50.675Z"
   },
   {
    "duration": 255,
    "start_time": "2022-04-23T20:46:50.973Z"
   },
   {
    "duration": 201,
    "start_time": "2022-04-23T20:46:51.230Z"
   },
   {
    "duration": 20,
    "start_time": "2022-04-23T20:46:51.433Z"
   },
   {
    "duration": 302,
    "start_time": "2022-04-23T20:46:51.455Z"
   },
   {
    "duration": 282,
    "start_time": "2022-04-23T20:46:51.760Z"
   },
   {
    "duration": 235,
    "start_time": "2022-04-23T20:46:52.044Z"
   },
   {
    "duration": 182,
    "start_time": "2022-04-23T20:46:52.281Z"
   },
   {
    "duration": 22,
    "start_time": "2022-04-23T20:46:52.472Z"
   },
   {
    "duration": 227,
    "start_time": "2022-04-23T20:46:52.496Z"
   },
   {
    "duration": 225,
    "start_time": "2022-04-23T20:46:52.725Z"
   },
   {
    "duration": 215,
    "start_time": "2022-04-23T20:46:52.952Z"
   },
   {
    "duration": 181,
    "start_time": "2022-04-23T20:46:53.173Z"
   },
   {
    "duration": 22,
    "start_time": "2022-04-23T20:46:53.356Z"
   },
   {
    "duration": 173,
    "start_time": "2022-04-23T20:46:53.380Z"
   },
   {
    "duration": 20,
    "start_time": "2022-04-23T20:46:53.555Z"
   },
   {
    "duration": 10,
    "start_time": "2022-04-23T20:46:53.577Z"
   },
   {
    "duration": 1145,
    "start_time": "2022-04-23T20:52:45.470Z"
   },
   {
    "duration": 183,
    "start_time": "2022-04-23T20:52:46.617Z"
   },
   {
    "duration": 12,
    "start_time": "2022-04-23T20:52:46.801Z"
   },
   {
    "duration": 163,
    "start_time": "2022-04-23T20:52:46.815Z"
   },
   {
    "duration": 9,
    "start_time": "2022-04-23T20:52:46.980Z"
   },
   {
    "duration": 111,
    "start_time": "2022-04-23T20:52:46.990Z"
   },
   {
    "duration": 7,
    "start_time": "2022-04-23T20:52:47.103Z"
   },
   {
    "duration": 23,
    "start_time": "2022-04-23T20:52:47.112Z"
   },
   {
    "duration": 8,
    "start_time": "2022-04-23T20:52:47.136Z"
   },
   {
    "duration": 29,
    "start_time": "2022-04-23T20:52:47.148Z"
   },
   {
    "duration": 10,
    "start_time": "2022-04-23T20:52:47.179Z"
   },
   {
    "duration": 59,
    "start_time": "2022-04-23T20:52:47.190Z"
   },
   {
    "duration": 41,
    "start_time": "2022-04-23T20:52:47.250Z"
   },
   {
    "duration": 39,
    "start_time": "2022-04-23T20:52:47.293Z"
   },
   {
    "duration": 40,
    "start_time": "2022-04-23T20:52:47.334Z"
   },
   {
    "duration": 34,
    "start_time": "2022-04-23T20:52:47.375Z"
   },
   {
    "duration": 17,
    "start_time": "2022-04-23T20:52:47.411Z"
   },
   {
    "duration": 18,
    "start_time": "2022-04-23T20:52:47.430Z"
   },
   {
    "duration": 32,
    "start_time": "2022-04-23T20:52:47.450Z"
   },
   {
    "duration": 18,
    "start_time": "2022-04-23T20:52:47.484Z"
   },
   {
    "duration": 7,
    "start_time": "2022-04-23T20:52:47.504Z"
   },
   {
    "duration": 14,
    "start_time": "2022-04-23T20:52:47.512Z"
   },
   {
    "duration": 48,
    "start_time": "2022-04-23T20:52:47.527Z"
   },
   {
    "duration": 19,
    "start_time": "2022-04-23T20:52:47.576Z"
   },
   {
    "duration": 120,
    "start_time": "2022-04-23T20:52:47.597Z"
   },
   {
    "duration": 11,
    "start_time": "2022-04-23T20:52:47.719Z"
   },
   {
    "duration": 14,
    "start_time": "2022-04-23T20:52:47.732Z"
   },
   {
    "duration": 4,
    "start_time": "2022-04-23T20:52:47.750Z"
   },
   {
    "duration": 4,
    "start_time": "2022-04-23T20:52:47.773Z"
   },
   {
    "duration": 10,
    "start_time": "2022-04-23T20:52:47.778Z"
   },
   {
    "duration": 158,
    "start_time": "2022-04-23T20:52:47.790Z"
   },
   {
    "duration": 26,
    "start_time": "2022-04-23T20:52:47.950Z"
   },
   {
    "duration": 26,
    "start_time": "2022-04-23T20:52:47.978Z"
   },
   {
    "duration": 142,
    "start_time": "2022-04-23T20:52:48.006Z"
   },
   {
    "duration": 5,
    "start_time": "2022-04-23T20:52:48.150Z"
   },
   {
    "duration": 17,
    "start_time": "2022-04-23T20:52:48.157Z"
   },
   {
    "duration": 147,
    "start_time": "2022-04-23T20:52:48.175Z"
   },
   {
    "duration": 13,
    "start_time": "2022-04-23T20:52:48.324Z"
   },
   {
    "duration": 36,
    "start_time": "2022-04-23T20:52:48.338Z"
   },
   {
    "duration": 233,
    "start_time": "2022-04-23T20:52:48.376Z"
   },
   {
    "duration": 229,
    "start_time": "2022-04-23T20:52:48.611Z"
   },
   {
    "duration": 15,
    "start_time": "2022-04-23T20:52:48.842Z"
   },
   {
    "duration": 311,
    "start_time": "2022-04-23T20:52:48.859Z"
   },
   {
    "duration": 257,
    "start_time": "2022-04-23T20:52:49.172Z"
   },
   {
    "duration": 201,
    "start_time": "2022-04-23T20:52:49.431Z"
   },
   {
    "duration": 20,
    "start_time": "2022-04-23T20:52:49.634Z"
   },
   {
    "duration": 294,
    "start_time": "2022-04-23T20:52:49.672Z"
   },
   {
    "duration": 292,
    "start_time": "2022-04-23T20:52:49.968Z"
   },
   {
    "duration": 242,
    "start_time": "2022-04-23T20:52:50.262Z"
   },
   {
    "duration": 180,
    "start_time": "2022-04-23T20:52:50.506Z"
   },
   {
    "duration": 19,
    "start_time": "2022-04-23T20:52:50.688Z"
   },
   {
    "duration": 220,
    "start_time": "2022-04-23T20:52:50.709Z"
   },
   {
    "duration": 226,
    "start_time": "2022-04-23T20:52:50.930Z"
   },
   {
    "duration": 202,
    "start_time": "2022-04-23T20:52:51.157Z"
   },
   {
    "duration": 178,
    "start_time": "2022-04-23T20:52:51.361Z"
   },
   {
    "duration": 12,
    "start_time": "2022-04-23T20:52:51.540Z"
   },
   {
    "duration": 173,
    "start_time": "2022-04-23T20:52:51.554Z"
   },
   {
    "duration": 10,
    "start_time": "2022-04-23T20:52:51.728Z"
   },
   {
    "duration": 11,
    "start_time": "2022-04-23T20:52:51.740Z"
   },
   {
    "duration": 70,
    "start_time": "2022-04-24T16:39:53.600Z"
   },
   {
    "duration": 14,
    "start_time": "2022-04-24T16:40:50.558Z"
   },
   {
    "duration": 236,
    "start_time": "2022-04-24T16:40:50.574Z"
   },
   {
    "duration": 12,
    "start_time": "2022-04-24T16:40:50.812Z"
   },
   {
    "duration": 202,
    "start_time": "2022-04-24T16:40:50.826Z"
   },
   {
    "duration": 13,
    "start_time": "2022-04-24T16:40:51.031Z"
   },
   {
    "duration": 159,
    "start_time": "2022-04-24T16:40:51.046Z"
   },
   {
    "duration": 12,
    "start_time": "2022-04-24T16:40:51.207Z"
   },
   {
    "duration": 32,
    "start_time": "2022-04-24T16:40:51.221Z"
   },
   {
    "duration": 12,
    "start_time": "2022-04-24T16:40:51.255Z"
   },
   {
    "duration": 67,
    "start_time": "2022-04-24T16:40:51.270Z"
   },
   {
    "duration": 20,
    "start_time": "2022-04-24T16:40:51.340Z"
   },
   {
    "duration": 131,
    "start_time": "2022-04-24T16:40:51.362Z"
   },
   {
    "duration": 32,
    "start_time": "2022-04-24T16:40:51.495Z"
   },
   {
    "duration": 107,
    "start_time": "2022-04-24T16:40:51.530Z"
   },
   {
    "duration": 23,
    "start_time": "2022-04-24T16:40:51.640Z"
   },
   {
    "duration": 70,
    "start_time": "2022-04-24T16:40:51.665Z"
   },
   {
    "duration": 18,
    "start_time": "2022-04-24T16:40:51.738Z"
   },
   {
    "duration": 51,
    "start_time": "2022-04-24T16:40:51.759Z"
   },
   {
    "duration": 16,
    "start_time": "2022-04-24T16:40:51.813Z"
   },
   {
    "duration": 27,
    "start_time": "2022-04-24T16:40:51.831Z"
   },
   {
    "duration": 11,
    "start_time": "2022-04-24T16:40:51.902Z"
   },
   {
    "duration": 31,
    "start_time": "2022-04-24T16:40:51.916Z"
   },
   {
    "duration": 79,
    "start_time": "2022-04-24T16:40:51.950Z"
   },
   {
    "duration": 42,
    "start_time": "2022-04-24T16:40:52.032Z"
   },
   {
    "duration": 319,
    "start_time": "2022-04-24T16:40:52.077Z"
   },
   {
    "duration": 18,
    "start_time": "2022-04-24T16:40:52.399Z"
   },
   {
    "duration": 12,
    "start_time": "2022-04-24T16:40:52.419Z"
   },
   {
    "duration": 16,
    "start_time": "2022-04-24T16:40:52.434Z"
   },
   {
    "duration": 41,
    "start_time": "2022-04-24T16:40:52.453Z"
   },
   {
    "duration": 7,
    "start_time": "2022-04-24T16:40:52.497Z"
   },
   {
    "duration": 260,
    "start_time": "2022-04-24T16:40:52.506Z"
   },
   {
    "duration": 34,
    "start_time": "2022-04-24T16:40:52.769Z"
   },
   {
    "duration": 5,
    "start_time": "2022-04-24T16:40:52.806Z"
   },
   {
    "duration": 444,
    "start_time": "2022-04-24T16:40:52.814Z"
   },
   {
    "duration": 7,
    "start_time": "2022-04-24T16:40:53.261Z"
   },
   {
    "duration": 26,
    "start_time": "2022-04-24T16:40:53.270Z"
   },
   {
    "duration": 265,
    "start_time": "2022-04-24T16:40:53.298Z"
   },
   {
    "duration": 32,
    "start_time": "2022-04-24T16:40:53.565Z"
   },
   {
    "duration": 6,
    "start_time": "2022-04-24T16:40:53.599Z"
   },
   {
    "duration": 41,
    "start_time": "2022-04-24T16:40:53.607Z"
   },
   {
    "duration": 48,
    "start_time": "2022-04-24T16:40:53.650Z"
   },
   {
    "duration": 386,
    "start_time": "2022-04-24T16:40:53.700Z"
   },
   {
    "duration": 364,
    "start_time": "2022-04-24T16:40:54.088Z"
   },
   {
    "duration": 38,
    "start_time": "2022-04-24T16:40:54.454Z"
   },
   {
    "duration": 465,
    "start_time": "2022-04-24T16:40:54.495Z"
   },
   {
    "duration": 383,
    "start_time": "2022-04-24T16:40:54.962Z"
   },
   {
    "duration": 310,
    "start_time": "2022-04-24T16:40:55.347Z"
   },
   {
    "duration": 36,
    "start_time": "2022-04-24T16:40:55.659Z"
   },
   {
    "duration": 329,
    "start_time": "2022-04-24T16:40:55.697Z"
   },
   {
    "duration": 454,
    "start_time": "2022-04-24T16:40:56.028Z"
   },
   {
    "duration": 509,
    "start_time": "2022-04-24T16:40:56.484Z"
   },
   {
    "duration": 293,
    "start_time": "2022-04-24T16:40:56.995Z"
   },
   {
    "duration": 28,
    "start_time": "2022-04-24T16:40:57.294Z"
   },
   {
    "duration": 360,
    "start_time": "2022-04-24T16:40:57.324Z"
   },
   {
    "duration": 369,
    "start_time": "2022-04-24T16:40:57.687Z"
   },
   {
    "duration": 450,
    "start_time": "2022-04-24T16:40:58.058Z"
   },
   {
    "duration": 394,
    "start_time": "2022-04-24T16:40:58.511Z"
   },
   {
    "duration": 19,
    "start_time": "2022-04-24T16:40:58.908Z"
   },
   {
    "duration": 357,
    "start_time": "2022-04-24T16:40:58.931Z"
   },
   {
    "duration": 17,
    "start_time": "2022-04-24T16:40:59.293Z"
   },
   {
    "duration": 17,
    "start_time": "2022-04-24T16:40:59.313Z"
   },
   {
    "duration": 83,
    "start_time": "2022-04-24T16:41:27.186Z"
   }
  ],
  "kernelspec": {
   "display_name": "Python 3 (ipykernel)",
   "language": "python",
   "name": "python3"
  },
  "language_info": {
   "codemirror_mode": {
    "name": "ipython",
    "version": 3
   },
   "file_extension": ".py",
   "mimetype": "text/x-python",
   "name": "python",
   "nbconvert_exporter": "python",
   "pygments_lexer": "ipython3",
   "version": "3.9.5"
  },
  "toc": {
   "base_numbering": 1,
   "nav_menu": {},
   "number_sections": false,
   "sideBar": true,
   "skip_h1_title": false,
   "title_cell": "Table of Contents",
   "title_sidebar": "Contents",
   "toc_cell": false,
   "toc_position": {
    "height": "calc(100% - 180px)",
    "left": "10px",
    "top": "150px",
    "width": "282.865px"
   },
   "toc_section_display": true,
   "toc_window_display": true
  }
 },
 "nbformat": 4,
 "nbformat_minor": 2
}
