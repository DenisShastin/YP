{
 "cells": [
  {
   "cell_type": "markdown",
   "id": "f1fc5658",
   "metadata": {},
   "source": [
    "# Исследование надежности заемщиков."
   ]
  },
  {
   "cell_type": "markdown",
   "id": "de592ba2",
   "metadata": {},
   "source": [
    "Заказчик — кредитный отдел банка. Нужно разобраться, влияет ли семейное положение и количество детей клиента на факт погашения кредита в срок. Входные данные от банка — статистика о платёжеспособности клиентов. Результаты исследования будут учтены при построении модели кредитного скоринга — специальной системы, которая оценивает способность потенциального заёмщика вернуть кредит банку."
   ]
  },
  {
   "cell_type": "markdown",
   "id": "915d0a36",
   "metadata": {},
   "source": [
    "# Обзор данных"
   ]
  },
  {
   "cell_type": "markdown",
   "id": "7dae3cfc",
   "metadata": {},
   "source": [
    "Изучим общую информацию из датафрейма. "
   ]
  },
  {
   "cell_type": "code",
   "execution_count": 1,
   "id": "c5b01f3d",
   "metadata": {},
   "outputs": [
    {
     "name": "stdout",
     "output_type": "stream",
     "text": [
      "<class 'pandas.core.frame.DataFrame'>\n",
      "RangeIndex: 21525 entries, 0 to 21524\n",
      "Data columns (total 12 columns):\n",
      " #   Column            Non-Null Count  Dtype  \n",
      "---  ------            --------------  -----  \n",
      " 0   children          21525 non-null  int64  \n",
      " 1   days_employed     19351 non-null  float64\n",
      " 2   dob_years         21525 non-null  int64  \n",
      " 3   education         21525 non-null  object \n",
      " 4   education_id      21525 non-null  int64  \n",
      " 5   family_status     21525 non-null  object \n",
      " 6   family_status_id  21525 non-null  int64  \n",
      " 7   gender            21525 non-null  object \n",
      " 8   income_type       21525 non-null  object \n",
      " 9   debt              21525 non-null  int64  \n",
      " 10  total_income      19351 non-null  float64\n",
      " 11  purpose           21525 non-null  object \n",
      "dtypes: float64(2), int64(5), object(5)\n",
      "memory usage: 2.0+ MB\n"
     ]
    }
   ],
   "source": [
    "import pandas as pd\n",
    "data = pd.read_csv('/datasets/data.csv')\n",
    "data.info()"
   ]
  },
  {
   "cell_type": "code",
   "execution_count": 2,
   "id": "2b34ae7b",
   "metadata": {},
   "outputs": [
    {
     "data": {
      "text/html": [
       "<div>\n",
       "<style scoped>\n",
       "    .dataframe tbody tr th:only-of-type {\n",
       "        vertical-align: middle;\n",
       "    }\n",
       "\n",
       "    .dataframe tbody tr th {\n",
       "        vertical-align: top;\n",
       "    }\n",
       "\n",
       "    .dataframe thead th {\n",
       "        text-align: right;\n",
       "    }\n",
       "</style>\n",
       "<table border=\"1\" class=\"dataframe\">\n",
       "  <thead>\n",
       "    <tr style=\"text-align: right;\">\n",
       "      <th></th>\n",
       "      <th>children</th>\n",
       "      <th>days_employed</th>\n",
       "      <th>dob_years</th>\n",
       "      <th>education</th>\n",
       "      <th>education_id</th>\n",
       "      <th>family_status</th>\n",
       "      <th>family_status_id</th>\n",
       "      <th>gender</th>\n",
       "      <th>income_type</th>\n",
       "      <th>debt</th>\n",
       "      <th>total_income</th>\n",
       "      <th>purpose</th>\n",
       "    </tr>\n",
       "  </thead>\n",
       "  <tbody>\n",
       "    <tr>\n",
       "      <th>0</th>\n",
       "      <td>1</td>\n",
       "      <td>-8437.673028</td>\n",
       "      <td>42</td>\n",
       "      <td>высшее</td>\n",
       "      <td>0</td>\n",
       "      <td>женат / замужем</td>\n",
       "      <td>0</td>\n",
       "      <td>F</td>\n",
       "      <td>сотрудник</td>\n",
       "      <td>0</td>\n",
       "      <td>253875.639453</td>\n",
       "      <td>покупка жилья</td>\n",
       "    </tr>\n",
       "    <tr>\n",
       "      <th>1</th>\n",
       "      <td>1</td>\n",
       "      <td>-4024.803754</td>\n",
       "      <td>36</td>\n",
       "      <td>среднее</td>\n",
       "      <td>1</td>\n",
       "      <td>женат / замужем</td>\n",
       "      <td>0</td>\n",
       "      <td>F</td>\n",
       "      <td>сотрудник</td>\n",
       "      <td>0</td>\n",
       "      <td>112080.014102</td>\n",
       "      <td>приобретение автомобиля</td>\n",
       "    </tr>\n",
       "    <tr>\n",
       "      <th>2</th>\n",
       "      <td>0</td>\n",
       "      <td>-5623.422610</td>\n",
       "      <td>33</td>\n",
       "      <td>Среднее</td>\n",
       "      <td>1</td>\n",
       "      <td>женат / замужем</td>\n",
       "      <td>0</td>\n",
       "      <td>M</td>\n",
       "      <td>сотрудник</td>\n",
       "      <td>0</td>\n",
       "      <td>145885.952297</td>\n",
       "      <td>покупка жилья</td>\n",
       "    </tr>\n",
       "    <tr>\n",
       "      <th>3</th>\n",
       "      <td>3</td>\n",
       "      <td>-4124.747207</td>\n",
       "      <td>32</td>\n",
       "      <td>среднее</td>\n",
       "      <td>1</td>\n",
       "      <td>женат / замужем</td>\n",
       "      <td>0</td>\n",
       "      <td>M</td>\n",
       "      <td>сотрудник</td>\n",
       "      <td>0</td>\n",
       "      <td>267628.550329</td>\n",
       "      <td>дополнительное образование</td>\n",
       "    </tr>\n",
       "    <tr>\n",
       "      <th>4</th>\n",
       "      <td>0</td>\n",
       "      <td>340266.072047</td>\n",
       "      <td>53</td>\n",
       "      <td>среднее</td>\n",
       "      <td>1</td>\n",
       "      <td>гражданский брак</td>\n",
       "      <td>1</td>\n",
       "      <td>F</td>\n",
       "      <td>пенсионер</td>\n",
       "      <td>0</td>\n",
       "      <td>158616.077870</td>\n",
       "      <td>сыграть свадьбу</td>\n",
       "    </tr>\n",
       "    <tr>\n",
       "      <th>5</th>\n",
       "      <td>0</td>\n",
       "      <td>-926.185831</td>\n",
       "      <td>27</td>\n",
       "      <td>высшее</td>\n",
       "      <td>0</td>\n",
       "      <td>гражданский брак</td>\n",
       "      <td>1</td>\n",
       "      <td>M</td>\n",
       "      <td>компаньон</td>\n",
       "      <td>0</td>\n",
       "      <td>255763.565419</td>\n",
       "      <td>покупка жилья</td>\n",
       "    </tr>\n",
       "    <tr>\n",
       "      <th>6</th>\n",
       "      <td>0</td>\n",
       "      <td>-2879.202052</td>\n",
       "      <td>43</td>\n",
       "      <td>высшее</td>\n",
       "      <td>0</td>\n",
       "      <td>женат / замужем</td>\n",
       "      <td>0</td>\n",
       "      <td>F</td>\n",
       "      <td>компаньон</td>\n",
       "      <td>0</td>\n",
       "      <td>240525.971920</td>\n",
       "      <td>операции с жильем</td>\n",
       "    </tr>\n",
       "    <tr>\n",
       "      <th>7</th>\n",
       "      <td>0</td>\n",
       "      <td>-152.779569</td>\n",
       "      <td>50</td>\n",
       "      <td>СРЕДНЕЕ</td>\n",
       "      <td>1</td>\n",
       "      <td>женат / замужем</td>\n",
       "      <td>0</td>\n",
       "      <td>M</td>\n",
       "      <td>сотрудник</td>\n",
       "      <td>0</td>\n",
       "      <td>135823.934197</td>\n",
       "      <td>образование</td>\n",
       "    </tr>\n",
       "    <tr>\n",
       "      <th>8</th>\n",
       "      <td>2</td>\n",
       "      <td>-6929.865299</td>\n",
       "      <td>35</td>\n",
       "      <td>ВЫСШЕЕ</td>\n",
       "      <td>0</td>\n",
       "      <td>гражданский брак</td>\n",
       "      <td>1</td>\n",
       "      <td>F</td>\n",
       "      <td>сотрудник</td>\n",
       "      <td>0</td>\n",
       "      <td>95856.832424</td>\n",
       "      <td>на проведение свадьбы</td>\n",
       "    </tr>\n",
       "    <tr>\n",
       "      <th>9</th>\n",
       "      <td>0</td>\n",
       "      <td>-2188.756445</td>\n",
       "      <td>41</td>\n",
       "      <td>среднее</td>\n",
       "      <td>1</td>\n",
       "      <td>женат / замужем</td>\n",
       "      <td>0</td>\n",
       "      <td>M</td>\n",
       "      <td>сотрудник</td>\n",
       "      <td>0</td>\n",
       "      <td>144425.938277</td>\n",
       "      <td>покупка жилья для семьи</td>\n",
       "    </tr>\n",
       "  </tbody>\n",
       "</table>\n",
       "</div>"
      ],
      "text/plain": [
       "   children  days_employed  dob_years education  education_id  \\\n",
       "0         1   -8437.673028         42    высшее             0   \n",
       "1         1   -4024.803754         36   среднее             1   \n",
       "2         0   -5623.422610         33   Среднее             1   \n",
       "3         3   -4124.747207         32   среднее             1   \n",
       "4         0  340266.072047         53   среднее             1   \n",
       "5         0    -926.185831         27    высшее             0   \n",
       "6         0   -2879.202052         43    высшее             0   \n",
       "7         0    -152.779569         50   СРЕДНЕЕ             1   \n",
       "8         2   -6929.865299         35    ВЫСШЕЕ             0   \n",
       "9         0   -2188.756445         41   среднее             1   \n",
       "\n",
       "      family_status  family_status_id gender income_type  debt   total_income  \\\n",
       "0   женат / замужем                 0      F   сотрудник     0  253875.639453   \n",
       "1   женат / замужем                 0      F   сотрудник     0  112080.014102   \n",
       "2   женат / замужем                 0      M   сотрудник     0  145885.952297   \n",
       "3   женат / замужем                 0      M   сотрудник     0  267628.550329   \n",
       "4  гражданский брак                 1      F   пенсионер     0  158616.077870   \n",
       "5  гражданский брак                 1      M   компаньон     0  255763.565419   \n",
       "6   женат / замужем                 0      F   компаньон     0  240525.971920   \n",
       "7   женат / замужем                 0      M   сотрудник     0  135823.934197   \n",
       "8  гражданский брак                 1      F   сотрудник     0   95856.832424   \n",
       "9   женат / замужем                 0      M   сотрудник     0  144425.938277   \n",
       "\n",
       "                      purpose  \n",
       "0               покупка жилья  \n",
       "1     приобретение автомобиля  \n",
       "2               покупка жилья  \n",
       "3  дополнительное образование  \n",
       "4             сыграть свадьбу  \n",
       "5               покупка жилья  \n",
       "6           операции с жильем  \n",
       "7                 образование  \n",
       "8       на проведение свадьбы  \n",
       "9     покупка жилья для семьи  "
      ]
     },
     "metadata": {},
     "output_type": "display_data"
    }
   ],
   "source": [
    "display(data.head(10))"
   ]
  },
  {
   "cell_type": "markdown",
   "id": "22ad908d",
   "metadata": {},
   "source": [
    "В двух столбцах есть пропущенные значения. \n",
    "При первичном обзоре очевидно, что их доля значительная, поэтому они не могут быть проигнорированы. \n",
    "Кроме того, в столбце **days_employed** обнаружена аномалия: отрицательные значения. "
   ]
  },
  {
   "cell_type": "markdown",
   "id": "c47320fc",
   "metadata": {},
   "source": [
    "# Предобработка данных"
   ]
  },
  {
   "cell_type": "markdown",
   "id": "f069c0fb",
   "metadata": {},
   "source": [
    "## Заполнение пропусков"
   ]
  },
  {
   "cell_type": "markdown",
   "id": "f475a6d9",
   "metadata": {},
   "source": [
    "Заменим отрицательный значения в **days_employed** на положительные, взяв каждое значение столбца по модулю. Это необходимо сделать до того, как мы возьмум медиану (если это потребуется). "
   ]
  },
  {
   "cell_type": "code",
   "execution_count": 3,
   "id": "6ad70aff",
   "metadata": {},
   "outputs": [],
   "source": [
    "data['days_employed'] = data['days_employed'].abs()"
   ]
  },
  {
   "cell_type": "code",
   "execution_count": 4,
   "id": "b69071a1",
   "metadata": {},
   "outputs": [
    {
     "data": {
      "text/html": [
       "<div>\n",
       "<style scoped>\n",
       "    .dataframe tbody tr th:only-of-type {\n",
       "        vertical-align: middle;\n",
       "    }\n",
       "\n",
       "    .dataframe tbody tr th {\n",
       "        vertical-align: top;\n",
       "    }\n",
       "\n",
       "    .dataframe thead th {\n",
       "        text-align: right;\n",
       "    }\n",
       "</style>\n",
       "<table border=\"1\" class=\"dataframe\">\n",
       "  <thead>\n",
       "    <tr style=\"text-align: right;\">\n",
       "      <th></th>\n",
       "      <th>children</th>\n",
       "      <th>days_employed</th>\n",
       "      <th>dob_years</th>\n",
       "      <th>education</th>\n",
       "      <th>education_id</th>\n",
       "      <th>family_status</th>\n",
       "      <th>family_status_id</th>\n",
       "      <th>gender</th>\n",
       "      <th>income_type</th>\n",
       "      <th>debt</th>\n",
       "      <th>total_income</th>\n",
       "      <th>purpose</th>\n",
       "    </tr>\n",
       "  </thead>\n",
       "  <tbody>\n",
       "    <tr>\n",
       "      <th>0</th>\n",
       "      <td>1</td>\n",
       "      <td>8437.673028</td>\n",
       "      <td>42</td>\n",
       "      <td>высшее</td>\n",
       "      <td>0</td>\n",
       "      <td>женат / замужем</td>\n",
       "      <td>0</td>\n",
       "      <td>F</td>\n",
       "      <td>сотрудник</td>\n",
       "      <td>0</td>\n",
       "      <td>253875.639453</td>\n",
       "      <td>покупка жилья</td>\n",
       "    </tr>\n",
       "    <tr>\n",
       "      <th>1</th>\n",
       "      <td>1</td>\n",
       "      <td>4024.803754</td>\n",
       "      <td>36</td>\n",
       "      <td>среднее</td>\n",
       "      <td>1</td>\n",
       "      <td>женат / замужем</td>\n",
       "      <td>0</td>\n",
       "      <td>F</td>\n",
       "      <td>сотрудник</td>\n",
       "      <td>0</td>\n",
       "      <td>112080.014102</td>\n",
       "      <td>приобретение автомобиля</td>\n",
       "    </tr>\n",
       "    <tr>\n",
       "      <th>2</th>\n",
       "      <td>0</td>\n",
       "      <td>5623.422610</td>\n",
       "      <td>33</td>\n",
       "      <td>Среднее</td>\n",
       "      <td>1</td>\n",
       "      <td>женат / замужем</td>\n",
       "      <td>0</td>\n",
       "      <td>M</td>\n",
       "      <td>сотрудник</td>\n",
       "      <td>0</td>\n",
       "      <td>145885.952297</td>\n",
       "      <td>покупка жилья</td>\n",
       "    </tr>\n",
       "    <tr>\n",
       "      <th>3</th>\n",
       "      <td>3</td>\n",
       "      <td>4124.747207</td>\n",
       "      <td>32</td>\n",
       "      <td>среднее</td>\n",
       "      <td>1</td>\n",
       "      <td>женат / замужем</td>\n",
       "      <td>0</td>\n",
       "      <td>M</td>\n",
       "      <td>сотрудник</td>\n",
       "      <td>0</td>\n",
       "      <td>267628.550329</td>\n",
       "      <td>дополнительное образование</td>\n",
       "    </tr>\n",
       "    <tr>\n",
       "      <th>4</th>\n",
       "      <td>0</td>\n",
       "      <td>340266.072047</td>\n",
       "      <td>53</td>\n",
       "      <td>среднее</td>\n",
       "      <td>1</td>\n",
       "      <td>гражданский брак</td>\n",
       "      <td>1</td>\n",
       "      <td>F</td>\n",
       "      <td>пенсионер</td>\n",
       "      <td>0</td>\n",
       "      <td>158616.077870</td>\n",
       "      <td>сыграть свадьбу</td>\n",
       "    </tr>\n",
       "  </tbody>\n",
       "</table>\n",
       "</div>"
      ],
      "text/plain": [
       "   children  days_employed  dob_years education  education_id  \\\n",
       "0         1    8437.673028         42    высшее             0   \n",
       "1         1    4024.803754         36   среднее             1   \n",
       "2         0    5623.422610         33   Среднее             1   \n",
       "3         3    4124.747207         32   среднее             1   \n",
       "4         0  340266.072047         53   среднее             1   \n",
       "\n",
       "      family_status  family_status_id gender income_type  debt   total_income  \\\n",
       "0   женат / замужем                 0      F   сотрудник     0  253875.639453   \n",
       "1   женат / замужем                 0      F   сотрудник     0  112080.014102   \n",
       "2   женат / замужем                 0      M   сотрудник     0  145885.952297   \n",
       "3   женат / замужем                 0      M   сотрудник     0  267628.550329   \n",
       "4  гражданский брак                 1      F   пенсионер     0  158616.077870   \n",
       "\n",
       "                      purpose  \n",
       "0               покупка жилья  \n",
       "1     приобретение автомобиля  \n",
       "2               покупка жилья  \n",
       "3  дополнительное образование  \n",
       "4             сыграть свадьбу  "
      ]
     },
     "metadata": {},
     "output_type": "display_data"
    }
   ],
   "source": [
    "display(data.head())"
   ]
  },
  {
   "cell_type": "markdown",
   "id": "54a5837f",
   "metadata": {},
   "source": [
    "Отрицательные значения в **days_employed** заменены корректными положительными. \n",
    "В столбцах **days_employed** и **total_income** пропущено несколько тысяч значений. Подсчитаем точное их число."
   ]
  },
  {
   "cell_type": "code",
   "execution_count": 5,
   "id": "48f2e784",
   "metadata": {},
   "outputs": [
    {
     "name": "stdout",
     "output_type": "stream",
     "text": [
      "2174\n"
     ]
    }
   ],
   "source": [
    "print(len(data[data['days_employed'].isna()])) "
   ]
  },
  {
   "cell_type": "markdown",
   "id": "a3e73c26",
   "metadata": {},
   "source": [
    "2174 пропущенные значения - это 10% данных. \n",
    "Предположим, что это люди, впервые вышедшие на работу. Изучим первые 5 строк с пропущенным значением **days_employed**:"
   ]
  },
  {
   "cell_type": "code",
   "execution_count": 6,
   "id": "609123fb",
   "metadata": {},
   "outputs": [
    {
     "data": {
      "text/html": [
       "<div>\n",
       "<style scoped>\n",
       "    .dataframe tbody tr th:only-of-type {\n",
       "        vertical-align: middle;\n",
       "    }\n",
       "\n",
       "    .dataframe tbody tr th {\n",
       "        vertical-align: top;\n",
       "    }\n",
       "\n",
       "    .dataframe thead th {\n",
       "        text-align: right;\n",
       "    }\n",
       "</style>\n",
       "<table border=\"1\" class=\"dataframe\">\n",
       "  <thead>\n",
       "    <tr style=\"text-align: right;\">\n",
       "      <th></th>\n",
       "      <th>children</th>\n",
       "      <th>days_employed</th>\n",
       "      <th>dob_years</th>\n",
       "      <th>education</th>\n",
       "      <th>education_id</th>\n",
       "      <th>family_status</th>\n",
       "      <th>family_status_id</th>\n",
       "      <th>gender</th>\n",
       "      <th>income_type</th>\n",
       "      <th>debt</th>\n",
       "      <th>total_income</th>\n",
       "      <th>purpose</th>\n",
       "    </tr>\n",
       "  </thead>\n",
       "  <tbody>\n",
       "    <tr>\n",
       "      <th>12</th>\n",
       "      <td>0</td>\n",
       "      <td>NaN</td>\n",
       "      <td>65</td>\n",
       "      <td>среднее</td>\n",
       "      <td>1</td>\n",
       "      <td>гражданский брак</td>\n",
       "      <td>1</td>\n",
       "      <td>M</td>\n",
       "      <td>пенсионер</td>\n",
       "      <td>0</td>\n",
       "      <td>NaN</td>\n",
       "      <td>сыграть свадьбу</td>\n",
       "    </tr>\n",
       "    <tr>\n",
       "      <th>26</th>\n",
       "      <td>0</td>\n",
       "      <td>NaN</td>\n",
       "      <td>41</td>\n",
       "      <td>среднее</td>\n",
       "      <td>1</td>\n",
       "      <td>женат / замужем</td>\n",
       "      <td>0</td>\n",
       "      <td>M</td>\n",
       "      <td>госслужащий</td>\n",
       "      <td>0</td>\n",
       "      <td>NaN</td>\n",
       "      <td>образование</td>\n",
       "    </tr>\n",
       "    <tr>\n",
       "      <th>29</th>\n",
       "      <td>0</td>\n",
       "      <td>NaN</td>\n",
       "      <td>63</td>\n",
       "      <td>среднее</td>\n",
       "      <td>1</td>\n",
       "      <td>Не женат / не замужем</td>\n",
       "      <td>4</td>\n",
       "      <td>F</td>\n",
       "      <td>пенсионер</td>\n",
       "      <td>0</td>\n",
       "      <td>NaN</td>\n",
       "      <td>строительство жилой недвижимости</td>\n",
       "    </tr>\n",
       "    <tr>\n",
       "      <th>41</th>\n",
       "      <td>0</td>\n",
       "      <td>NaN</td>\n",
       "      <td>50</td>\n",
       "      <td>среднее</td>\n",
       "      <td>1</td>\n",
       "      <td>женат / замужем</td>\n",
       "      <td>0</td>\n",
       "      <td>F</td>\n",
       "      <td>госслужащий</td>\n",
       "      <td>0</td>\n",
       "      <td>NaN</td>\n",
       "      <td>сделка с подержанным автомобилем</td>\n",
       "    </tr>\n",
       "    <tr>\n",
       "      <th>55</th>\n",
       "      <td>0</td>\n",
       "      <td>NaN</td>\n",
       "      <td>54</td>\n",
       "      <td>среднее</td>\n",
       "      <td>1</td>\n",
       "      <td>гражданский брак</td>\n",
       "      <td>1</td>\n",
       "      <td>F</td>\n",
       "      <td>пенсионер</td>\n",
       "      <td>1</td>\n",
       "      <td>NaN</td>\n",
       "      <td>сыграть свадьбу</td>\n",
       "    </tr>\n",
       "  </tbody>\n",
       "</table>\n",
       "</div>"
      ],
      "text/plain": [
       "    children  days_employed  dob_years education  education_id  \\\n",
       "12         0            NaN         65   среднее             1   \n",
       "26         0            NaN         41   среднее             1   \n",
       "29         0            NaN         63   среднее             1   \n",
       "41         0            NaN         50   среднее             1   \n",
       "55         0            NaN         54   среднее             1   \n",
       "\n",
       "            family_status  family_status_id gender  income_type  debt  \\\n",
       "12       гражданский брак                 1      M    пенсионер     0   \n",
       "26        женат / замужем                 0      M  госслужащий     0   \n",
       "29  Не женат / не замужем                 4      F    пенсионер     0   \n",
       "41        женат / замужем                 0      F  госслужащий     0   \n",
       "55       гражданский брак                 1      F    пенсионер     1   \n",
       "\n",
       "    total_income                           purpose  \n",
       "12           NaN                   сыграть свадьбу  \n",
       "26           NaN                       образование  \n",
       "29           NaN  строительство жилой недвижимости  \n",
       "41           NaN  сделка с подержанным автомобилем  \n",
       "55           NaN                   сыграть свадьбу  "
      ]
     },
     "metadata": {},
     "output_type": "display_data"
    }
   ],
   "source": [
    "display(data[data['days_employed'].isna()].head()) "
   ]
  },
  {
   "cell_type": "markdown",
   "id": "2d9b8c85",
   "metadata": {},
   "source": [
    "Предположение о том, что пропущены значения только для тех, кто впервые вышел на работу, неверно: в случайную выборку заемщиков попали клиенты от 41 до 65 лет, в том числе 3 пенсионера. Наиболее вероятно то, что данные пропущены по ошибке (случайные или полностью случайные). "
   ]
  },
  {
   "cell_type": "markdown",
   "id": "8b49e4ea",
   "metadata": {},
   "source": [
    "Количественные переменные **days_employed** и **total_income** рационально заменить на характерные значения. \n",
    "Таким образом, данные о 10% заемщиков будут учтены при проверке гипотез.\n",
    "Заменим **NaN** в **days_employed** на медианное значение, чтобы получить наиболее объективную картину: в данных присутствует значительный разброс значений, и учет их влияния (применение среднего арифметического) на новое значение искажал бы итоговый результат. "
   ]
  },
  {
   "cell_type": "code",
   "execution_count": 7,
   "id": "75eb6f4e",
   "metadata": {},
   "outputs": [
    {
     "data": {
      "text/html": [
       "<div>\n",
       "<style scoped>\n",
       "    .dataframe tbody tr th:only-of-type {\n",
       "        vertical-align: middle;\n",
       "    }\n",
       "\n",
       "    .dataframe tbody tr th {\n",
       "        vertical-align: top;\n",
       "    }\n",
       "\n",
       "    .dataframe thead th {\n",
       "        text-align: right;\n",
       "    }\n",
       "</style>\n",
       "<table border=\"1\" class=\"dataframe\">\n",
       "  <thead>\n",
       "    <tr style=\"text-align: right;\">\n",
       "      <th></th>\n",
       "      <th>children</th>\n",
       "      <th>days_employed</th>\n",
       "      <th>dob_years</th>\n",
       "      <th>education</th>\n",
       "      <th>education_id</th>\n",
       "      <th>family_status</th>\n",
       "      <th>family_status_id</th>\n",
       "      <th>gender</th>\n",
       "      <th>income_type</th>\n",
       "      <th>debt</th>\n",
       "      <th>total_income</th>\n",
       "      <th>purpose</th>\n",
       "    </tr>\n",
       "  </thead>\n",
       "  <tbody>\n",
       "    <tr>\n",
       "      <th>0</th>\n",
       "      <td>1</td>\n",
       "      <td>8437.673028</td>\n",
       "      <td>42</td>\n",
       "      <td>высшее</td>\n",
       "      <td>0</td>\n",
       "      <td>женат / замужем</td>\n",
       "      <td>0</td>\n",
       "      <td>F</td>\n",
       "      <td>сотрудник</td>\n",
       "      <td>0</td>\n",
       "      <td>253875.639453</td>\n",
       "      <td>покупка жилья</td>\n",
       "    </tr>\n",
       "    <tr>\n",
       "      <th>1</th>\n",
       "      <td>1</td>\n",
       "      <td>4024.803754</td>\n",
       "      <td>36</td>\n",
       "      <td>среднее</td>\n",
       "      <td>1</td>\n",
       "      <td>женат / замужем</td>\n",
       "      <td>0</td>\n",
       "      <td>F</td>\n",
       "      <td>сотрудник</td>\n",
       "      <td>0</td>\n",
       "      <td>112080.014102</td>\n",
       "      <td>приобретение автомобиля</td>\n",
       "    </tr>\n",
       "    <tr>\n",
       "      <th>2</th>\n",
       "      <td>0</td>\n",
       "      <td>5623.422610</td>\n",
       "      <td>33</td>\n",
       "      <td>Среднее</td>\n",
       "      <td>1</td>\n",
       "      <td>женат / замужем</td>\n",
       "      <td>0</td>\n",
       "      <td>M</td>\n",
       "      <td>сотрудник</td>\n",
       "      <td>0</td>\n",
       "      <td>145885.952297</td>\n",
       "      <td>покупка жилья</td>\n",
       "    </tr>\n",
       "    <tr>\n",
       "      <th>3</th>\n",
       "      <td>3</td>\n",
       "      <td>4124.747207</td>\n",
       "      <td>32</td>\n",
       "      <td>среднее</td>\n",
       "      <td>1</td>\n",
       "      <td>женат / замужем</td>\n",
       "      <td>0</td>\n",
       "      <td>M</td>\n",
       "      <td>сотрудник</td>\n",
       "      <td>0</td>\n",
       "      <td>267628.550329</td>\n",
       "      <td>дополнительное образование</td>\n",
       "    </tr>\n",
       "    <tr>\n",
       "      <th>4</th>\n",
       "      <td>0</td>\n",
       "      <td>340266.072047</td>\n",
       "      <td>53</td>\n",
       "      <td>среднее</td>\n",
       "      <td>1</td>\n",
       "      <td>гражданский брак</td>\n",
       "      <td>1</td>\n",
       "      <td>F</td>\n",
       "      <td>пенсионер</td>\n",
       "      <td>0</td>\n",
       "      <td>158616.077870</td>\n",
       "      <td>сыграть свадьбу</td>\n",
       "    </tr>\n",
       "  </tbody>\n",
       "</table>\n",
       "</div>"
      ],
      "text/plain": [
       "   children  days_employed  dob_years education  education_id  \\\n",
       "0         1    8437.673028         42    высшее             0   \n",
       "1         1    4024.803754         36   среднее             1   \n",
       "2         0    5623.422610         33   Среднее             1   \n",
       "3         3    4124.747207         32   среднее             1   \n",
       "4         0  340266.072047         53   среднее             1   \n",
       "\n",
       "      family_status  family_status_id gender income_type  debt   total_income  \\\n",
       "0   женат / замужем                 0      F   сотрудник     0  253875.639453   \n",
       "1   женат / замужем                 0      F   сотрудник     0  112080.014102   \n",
       "2   женат / замужем                 0      M   сотрудник     0  145885.952297   \n",
       "3   женат / замужем                 0      M   сотрудник     0  267628.550329   \n",
       "4  гражданский брак                 1      F   пенсионер     0  158616.077870   \n",
       "\n",
       "                      purpose  \n",
       "0               покупка жилья  \n",
       "1     приобретение автомобиля  \n",
       "2               покупка жилья  \n",
       "3  дополнительное образование  \n",
       "4             сыграть свадьбу  "
      ]
     },
     "metadata": {},
     "output_type": "display_data"
    }
   ],
   "source": [
    "days_employed_median = data['days_employed'].median()\n",
    "data['days_employed'] = data['days_employed'].fillna(value = days_employed_median)\n",
    "display(data.head())"
   ]
  },
  {
   "cell_type": "markdown",
   "id": "78673d36",
   "metadata": {},
   "source": [
    "Проверим, удалось ли полностью заменить пропущенные значения."
   ]
  },
  {
   "cell_type": "code",
   "execution_count": 8,
   "id": "de8da956",
   "metadata": {},
   "outputs": [
    {
     "name": "stdout",
     "output_type": "stream",
     "text": [
      "0\n"
     ]
    }
   ],
   "source": [
    "print(len(data[data['days_employed'].isna()])) "
   ]
  },
  {
   "cell_type": "markdown",
   "id": "ba4f67ff",
   "metadata": {},
   "source": [
    "Аналогично заменим пропуски в количественной переменной **total_income**"
   ]
  },
  {
   "cell_type": "code",
   "execution_count": 9,
   "id": "4ebbcdc0",
   "metadata": {},
   "outputs": [
    {
     "name": "stdout",
     "output_type": "stream",
     "text": [
      "2174\n"
     ]
    }
   ],
   "source": [
    "print(len(data[data['total_income'].isna()])) "
   ]
  },
  {
   "cell_type": "code",
   "execution_count": 10,
   "id": "e9fb483d",
   "metadata": {},
   "outputs": [
    {
     "data": {
      "text/html": [
       "<div>\n",
       "<style scoped>\n",
       "    .dataframe tbody tr th:only-of-type {\n",
       "        vertical-align: middle;\n",
       "    }\n",
       "\n",
       "    .dataframe tbody tr th {\n",
       "        vertical-align: top;\n",
       "    }\n",
       "\n",
       "    .dataframe thead th {\n",
       "        text-align: right;\n",
       "    }\n",
       "</style>\n",
       "<table border=\"1\" class=\"dataframe\">\n",
       "  <thead>\n",
       "    <tr style=\"text-align: right;\">\n",
       "      <th></th>\n",
       "      <th>children</th>\n",
       "      <th>days_employed</th>\n",
       "      <th>dob_years</th>\n",
       "      <th>education</th>\n",
       "      <th>education_id</th>\n",
       "      <th>family_status</th>\n",
       "      <th>family_status_id</th>\n",
       "      <th>gender</th>\n",
       "      <th>income_type</th>\n",
       "      <th>debt</th>\n",
       "      <th>total_income</th>\n",
       "      <th>purpose</th>\n",
       "    </tr>\n",
       "  </thead>\n",
       "  <tbody>\n",
       "    <tr>\n",
       "      <th>12</th>\n",
       "      <td>0</td>\n",
       "      <td>2194.220567</td>\n",
       "      <td>65</td>\n",
       "      <td>среднее</td>\n",
       "      <td>1</td>\n",
       "      <td>гражданский брак</td>\n",
       "      <td>1</td>\n",
       "      <td>M</td>\n",
       "      <td>пенсионер</td>\n",
       "      <td>0</td>\n",
       "      <td>NaN</td>\n",
       "      <td>сыграть свадьбу</td>\n",
       "    </tr>\n",
       "    <tr>\n",
       "      <th>26</th>\n",
       "      <td>0</td>\n",
       "      <td>2194.220567</td>\n",
       "      <td>41</td>\n",
       "      <td>среднее</td>\n",
       "      <td>1</td>\n",
       "      <td>женат / замужем</td>\n",
       "      <td>0</td>\n",
       "      <td>M</td>\n",
       "      <td>госслужащий</td>\n",
       "      <td>0</td>\n",
       "      <td>NaN</td>\n",
       "      <td>образование</td>\n",
       "    </tr>\n",
       "    <tr>\n",
       "      <th>29</th>\n",
       "      <td>0</td>\n",
       "      <td>2194.220567</td>\n",
       "      <td>63</td>\n",
       "      <td>среднее</td>\n",
       "      <td>1</td>\n",
       "      <td>Не женат / не замужем</td>\n",
       "      <td>4</td>\n",
       "      <td>F</td>\n",
       "      <td>пенсионер</td>\n",
       "      <td>0</td>\n",
       "      <td>NaN</td>\n",
       "      <td>строительство жилой недвижимости</td>\n",
       "    </tr>\n",
       "    <tr>\n",
       "      <th>41</th>\n",
       "      <td>0</td>\n",
       "      <td>2194.220567</td>\n",
       "      <td>50</td>\n",
       "      <td>среднее</td>\n",
       "      <td>1</td>\n",
       "      <td>женат / замужем</td>\n",
       "      <td>0</td>\n",
       "      <td>F</td>\n",
       "      <td>госслужащий</td>\n",
       "      <td>0</td>\n",
       "      <td>NaN</td>\n",
       "      <td>сделка с подержанным автомобилем</td>\n",
       "    </tr>\n",
       "    <tr>\n",
       "      <th>55</th>\n",
       "      <td>0</td>\n",
       "      <td>2194.220567</td>\n",
       "      <td>54</td>\n",
       "      <td>среднее</td>\n",
       "      <td>1</td>\n",
       "      <td>гражданский брак</td>\n",
       "      <td>1</td>\n",
       "      <td>F</td>\n",
       "      <td>пенсионер</td>\n",
       "      <td>1</td>\n",
       "      <td>NaN</td>\n",
       "      <td>сыграть свадьбу</td>\n",
       "    </tr>\n",
       "  </tbody>\n",
       "</table>\n",
       "</div>"
      ],
      "text/plain": [
       "    children  days_employed  dob_years education  education_id  \\\n",
       "12         0    2194.220567         65   среднее             1   \n",
       "26         0    2194.220567         41   среднее             1   \n",
       "29         0    2194.220567         63   среднее             1   \n",
       "41         0    2194.220567         50   среднее             1   \n",
       "55         0    2194.220567         54   среднее             1   \n",
       "\n",
       "            family_status  family_status_id gender  income_type  debt  \\\n",
       "12       гражданский брак                 1      M    пенсионер     0   \n",
       "26        женат / замужем                 0      M  госслужащий     0   \n",
       "29  Не женат / не замужем                 4      F    пенсионер     0   \n",
       "41        женат / замужем                 0      F  госслужащий     0   \n",
       "55       гражданский брак                 1      F    пенсионер     1   \n",
       "\n",
       "    total_income                           purpose  \n",
       "12           NaN                   сыграть свадьбу  \n",
       "26           NaN                       образование  \n",
       "29           NaN  строительство жилой недвижимости  \n",
       "41           NaN  сделка с подержанным автомобилем  \n",
       "55           NaN                   сыграть свадьбу  "
      ]
     },
     "metadata": {},
     "output_type": "display_data"
    }
   ],
   "source": [
    "display(data[data['total_income'].isna()].head()) "
   ]
  },
  {
   "cell_type": "markdown",
   "id": "8e530398",
   "metadata": {},
   "source": [
    "Не удается проследить закономерность в причинах пропуска **total_income** в случайной выборке заемщиков.\n",
    "Сделаем замену пропусков на медианное значение в столбце данных. \n",
    "Доход разных групп заемщиков **income_type** может отличаться, поэтому заменим пропуски в уровне дохода **total_income** на медианное значение внутри групп заемщиков **income_type**."
   ]
  },
  {
   "cell_type": "code",
   "execution_count": 11,
   "id": "f9cb0266",
   "metadata": {},
   "outputs": [
    {
     "data": {
      "text/html": [
       "<div>\n",
       "<style scoped>\n",
       "    .dataframe tbody tr th:only-of-type {\n",
       "        vertical-align: middle;\n",
       "    }\n",
       "\n",
       "    .dataframe tbody tr th {\n",
       "        vertical-align: top;\n",
       "    }\n",
       "\n",
       "    .dataframe thead th {\n",
       "        text-align: right;\n",
       "    }\n",
       "</style>\n",
       "<table border=\"1\" class=\"dataframe\">\n",
       "  <thead>\n",
       "    <tr style=\"text-align: right;\">\n",
       "      <th></th>\n",
       "      <th>children</th>\n",
       "      <th>days_employed</th>\n",
       "      <th>dob_years</th>\n",
       "      <th>education</th>\n",
       "      <th>education_id</th>\n",
       "      <th>family_status</th>\n",
       "      <th>family_status_id</th>\n",
       "      <th>gender</th>\n",
       "      <th>income_type</th>\n",
       "      <th>debt</th>\n",
       "      <th>total_income</th>\n",
       "      <th>purpose</th>\n",
       "    </tr>\n",
       "  </thead>\n",
       "  <tbody>\n",
       "    <tr>\n",
       "      <th>0</th>\n",
       "      <td>1</td>\n",
       "      <td>8437.673028</td>\n",
       "      <td>42</td>\n",
       "      <td>высшее</td>\n",
       "      <td>0</td>\n",
       "      <td>женат / замужем</td>\n",
       "      <td>0</td>\n",
       "      <td>F</td>\n",
       "      <td>сотрудник</td>\n",
       "      <td>0</td>\n",
       "      <td>253875.639453</td>\n",
       "      <td>покупка жилья</td>\n",
       "    </tr>\n",
       "    <tr>\n",
       "      <th>1</th>\n",
       "      <td>1</td>\n",
       "      <td>4024.803754</td>\n",
       "      <td>36</td>\n",
       "      <td>среднее</td>\n",
       "      <td>1</td>\n",
       "      <td>женат / замужем</td>\n",
       "      <td>0</td>\n",
       "      <td>F</td>\n",
       "      <td>сотрудник</td>\n",
       "      <td>0</td>\n",
       "      <td>112080.014102</td>\n",
       "      <td>приобретение автомобиля</td>\n",
       "    </tr>\n",
       "    <tr>\n",
       "      <th>2</th>\n",
       "      <td>0</td>\n",
       "      <td>5623.422610</td>\n",
       "      <td>33</td>\n",
       "      <td>Среднее</td>\n",
       "      <td>1</td>\n",
       "      <td>женат / замужем</td>\n",
       "      <td>0</td>\n",
       "      <td>M</td>\n",
       "      <td>сотрудник</td>\n",
       "      <td>0</td>\n",
       "      <td>145885.952297</td>\n",
       "      <td>покупка жилья</td>\n",
       "    </tr>\n",
       "    <tr>\n",
       "      <th>3</th>\n",
       "      <td>3</td>\n",
       "      <td>4124.747207</td>\n",
       "      <td>32</td>\n",
       "      <td>среднее</td>\n",
       "      <td>1</td>\n",
       "      <td>женат / замужем</td>\n",
       "      <td>0</td>\n",
       "      <td>M</td>\n",
       "      <td>сотрудник</td>\n",
       "      <td>0</td>\n",
       "      <td>267628.550329</td>\n",
       "      <td>дополнительное образование</td>\n",
       "    </tr>\n",
       "    <tr>\n",
       "      <th>4</th>\n",
       "      <td>0</td>\n",
       "      <td>340266.072047</td>\n",
       "      <td>53</td>\n",
       "      <td>среднее</td>\n",
       "      <td>1</td>\n",
       "      <td>гражданский брак</td>\n",
       "      <td>1</td>\n",
       "      <td>F</td>\n",
       "      <td>пенсионер</td>\n",
       "      <td>0</td>\n",
       "      <td>158616.077870</td>\n",
       "      <td>сыграть свадьбу</td>\n",
       "    </tr>\n",
       "    <tr>\n",
       "      <th>5</th>\n",
       "      <td>0</td>\n",
       "      <td>926.185831</td>\n",
       "      <td>27</td>\n",
       "      <td>высшее</td>\n",
       "      <td>0</td>\n",
       "      <td>гражданский брак</td>\n",
       "      <td>1</td>\n",
       "      <td>M</td>\n",
       "      <td>компаньон</td>\n",
       "      <td>0</td>\n",
       "      <td>255763.565419</td>\n",
       "      <td>покупка жилья</td>\n",
       "    </tr>\n",
       "    <tr>\n",
       "      <th>6</th>\n",
       "      <td>0</td>\n",
       "      <td>2879.202052</td>\n",
       "      <td>43</td>\n",
       "      <td>высшее</td>\n",
       "      <td>0</td>\n",
       "      <td>женат / замужем</td>\n",
       "      <td>0</td>\n",
       "      <td>F</td>\n",
       "      <td>компаньон</td>\n",
       "      <td>0</td>\n",
       "      <td>240525.971920</td>\n",
       "      <td>операции с жильем</td>\n",
       "    </tr>\n",
       "    <tr>\n",
       "      <th>7</th>\n",
       "      <td>0</td>\n",
       "      <td>152.779569</td>\n",
       "      <td>50</td>\n",
       "      <td>СРЕДНЕЕ</td>\n",
       "      <td>1</td>\n",
       "      <td>женат / замужем</td>\n",
       "      <td>0</td>\n",
       "      <td>M</td>\n",
       "      <td>сотрудник</td>\n",
       "      <td>0</td>\n",
       "      <td>135823.934197</td>\n",
       "      <td>образование</td>\n",
       "    </tr>\n",
       "    <tr>\n",
       "      <th>8</th>\n",
       "      <td>2</td>\n",
       "      <td>6929.865299</td>\n",
       "      <td>35</td>\n",
       "      <td>ВЫСШЕЕ</td>\n",
       "      <td>0</td>\n",
       "      <td>гражданский брак</td>\n",
       "      <td>1</td>\n",
       "      <td>F</td>\n",
       "      <td>сотрудник</td>\n",
       "      <td>0</td>\n",
       "      <td>95856.832424</td>\n",
       "      <td>на проведение свадьбы</td>\n",
       "    </tr>\n",
       "    <tr>\n",
       "      <th>9</th>\n",
       "      <td>0</td>\n",
       "      <td>2188.756445</td>\n",
       "      <td>41</td>\n",
       "      <td>среднее</td>\n",
       "      <td>1</td>\n",
       "      <td>женат / замужем</td>\n",
       "      <td>0</td>\n",
       "      <td>M</td>\n",
       "      <td>сотрудник</td>\n",
       "      <td>0</td>\n",
       "      <td>144425.938277</td>\n",
       "      <td>покупка жилья для семьи</td>\n",
       "    </tr>\n",
       "  </tbody>\n",
       "</table>\n",
       "</div>"
      ],
      "text/plain": [
       "   children  days_employed  dob_years education  education_id  \\\n",
       "0         1    8437.673028         42    высшее             0   \n",
       "1         1    4024.803754         36   среднее             1   \n",
       "2         0    5623.422610         33   Среднее             1   \n",
       "3         3    4124.747207         32   среднее             1   \n",
       "4         0  340266.072047         53   среднее             1   \n",
       "5         0     926.185831         27    высшее             0   \n",
       "6         0    2879.202052         43    высшее             0   \n",
       "7         0     152.779569         50   СРЕДНЕЕ             1   \n",
       "8         2    6929.865299         35    ВЫСШЕЕ             0   \n",
       "9         0    2188.756445         41   среднее             1   \n",
       "\n",
       "      family_status  family_status_id gender income_type  debt   total_income  \\\n",
       "0   женат / замужем                 0      F   сотрудник     0  253875.639453   \n",
       "1   женат / замужем                 0      F   сотрудник     0  112080.014102   \n",
       "2   женат / замужем                 0      M   сотрудник     0  145885.952297   \n",
       "3   женат / замужем                 0      M   сотрудник     0  267628.550329   \n",
       "4  гражданский брак                 1      F   пенсионер     0  158616.077870   \n",
       "5  гражданский брак                 1      M   компаньон     0  255763.565419   \n",
       "6   женат / замужем                 0      F   компаньон     0  240525.971920   \n",
       "7   женат / замужем                 0      M   сотрудник     0  135823.934197   \n",
       "8  гражданский брак                 1      F   сотрудник     0   95856.832424   \n",
       "9   женат / замужем                 0      M   сотрудник     0  144425.938277   \n",
       "\n",
       "                      purpose  \n",
       "0               покупка жилья  \n",
       "1     приобретение автомобиля  \n",
       "2               покупка жилья  \n",
       "3  дополнительное образование  \n",
       "4             сыграть свадьбу  \n",
       "5               покупка жилья  \n",
       "6           операции с жильем  \n",
       "7                 образование  \n",
       "8       на проведение свадьбы  \n",
       "9     покупка жилья для семьи  "
      ]
     },
     "metadata": {},
     "output_type": "display_data"
    }
   ],
   "source": [
    "data_transformed = data.groupby('income_type')['total_income'].transform('median')\n",
    "data['total_income'] = data['total_income'].fillna(data_transformed)\n",
    "display(data.head(10))"
   ]
  },
  {
   "cell_type": "markdown",
   "id": "782c9896",
   "metadata": {},
   "source": [
    "Проверим, удалось ли полностью заменить пропущенные значения."
   ]
  },
  {
   "cell_type": "code",
   "execution_count": 12,
   "id": "21cb4da7",
   "metadata": {},
   "outputs": [
    {
     "name": "stdout",
     "output_type": "stream",
     "text": [
      "0\n"
     ]
    }
   ],
   "source": [
    "print(len(data[data['total_income'].isna()])) "
   ]
  },
  {
   "cell_type": "markdown",
   "id": "0c58abc3",
   "metadata": {},
   "source": [
    "Еще раз проверим данные на наличие пропусков"
   ]
  },
  {
   "cell_type": "code",
   "execution_count": 13,
   "id": "fe0d372d",
   "metadata": {},
   "outputs": [
    {
     "name": "stdout",
     "output_type": "stream",
     "text": [
      "<class 'pandas.core.frame.DataFrame'>\n",
      "RangeIndex: 21525 entries, 0 to 21524\n",
      "Data columns (total 12 columns):\n",
      " #   Column            Non-Null Count  Dtype  \n",
      "---  ------            --------------  -----  \n",
      " 0   children          21525 non-null  int64  \n",
      " 1   days_employed     21525 non-null  float64\n",
      " 2   dob_years         21525 non-null  int64  \n",
      " 3   education         21525 non-null  object \n",
      " 4   education_id      21525 non-null  int64  \n",
      " 5   family_status     21525 non-null  object \n",
      " 6   family_status_id  21525 non-null  int64  \n",
      " 7   gender            21525 non-null  object \n",
      " 8   income_type       21525 non-null  object \n",
      " 9   debt              21525 non-null  int64  \n",
      " 10  total_income      21525 non-null  float64\n",
      " 11  purpose           21525 non-null  object \n",
      "dtypes: float64(2), int64(5), object(5)\n",
      "memory usage: 2.0+ MB\n"
     ]
    }
   ],
   "source": [
    "data.info()"
   ]
  },
  {
   "cell_type": "markdown",
   "id": "3b51cb32",
   "metadata": {},
   "source": [
    "Все пропуски устранены, а именно: проведена замена в количественных переменных на значение, наиболее объективно отражающее выборку.\n",
    "Следует заметить, что возможен и консервативный подход к оценке риска надежности заемщиков. \n",
    "При таком подходе строки с недостающими данными не учитываются/ недостающие значения заменяются наиболее пессимистичными из выборки (если строки содержат важную информацию, терять которую не хотелось бы). "
   ]
  },
  {
   "cell_type": "markdown",
   "id": "0d09166a",
   "metadata": {},
   "source": [
    "Заменим вещественный значения **float** на целочисленные **int** в целях упрощения работы с массивом и оптимизации памяти, затрачиваемой на обработку данных. "
   ]
  },
  {
   "cell_type": "code",
   "execution_count": 14,
   "id": "1d20ce0b",
   "metadata": {},
   "outputs": [],
   "source": [
    "data['days_employed'] = data['days_employed'].astype('int')\n",
    "data['total_income'] = data['total_income'].astype('int')"
   ]
  },
  {
   "cell_type": "code",
   "execution_count": 15,
   "id": "1c469a60",
   "metadata": {},
   "outputs": [
    {
     "name": "stdout",
     "output_type": "stream",
     "text": [
      "<class 'pandas.core.frame.DataFrame'>\n",
      "RangeIndex: 21525 entries, 0 to 21524\n",
      "Data columns (total 12 columns):\n",
      " #   Column            Non-Null Count  Dtype \n",
      "---  ------            --------------  ----- \n",
      " 0   children          21525 non-null  int64 \n",
      " 1   days_employed     21525 non-null  int64 \n",
      " 2   dob_years         21525 non-null  int64 \n",
      " 3   education         21525 non-null  object\n",
      " 4   education_id      21525 non-null  int64 \n",
      " 5   family_status     21525 non-null  object\n",
      " 6   family_status_id  21525 non-null  int64 \n",
      " 7   gender            21525 non-null  object\n",
      " 8   income_type       21525 non-null  object\n",
      " 9   debt              21525 non-null  int64 \n",
      " 10  total_income      21525 non-null  int64 \n",
      " 11  purpose           21525 non-null  object\n",
      "dtypes: int64(7), object(5)\n",
      "memory usage: 2.0+ MB\n"
     ]
    }
   ],
   "source": [
    "data.info()"
   ]
  },
  {
   "cell_type": "markdown",
   "id": "8b1f0527",
   "metadata": {},
   "source": [
    "## Проверка данных на аномалии и исправления"
   ]
  },
  {
   "cell_type": "markdown",
   "id": "ead670ca",
   "metadata": {},
   "source": [
    "При изучении исходного датафрейма были обнаружены аномалии в данных: отрицательные значения в **days_employed**.\n",
    "Проверим исходный датафрейм на другие аномалии. "
   ]
  },
  {
   "cell_type": "code",
   "execution_count": 16,
   "id": "4ecd3831",
   "metadata": {},
   "outputs": [
    {
     "name": "stdout",
     "output_type": "stream",
     "text": [
      " 0     14149\n",
      " 1      4818\n",
      " 2      2055\n",
      " 3       330\n",
      " 20       76\n",
      "-1        47\n",
      " 4        41\n",
      " 5         9\n",
      "Name: children, dtype: int64\n"
     ]
    }
   ],
   "source": [
    "print(data['children'].value_counts()) "
   ]
  },
  {
   "cell_type": "markdown",
   "id": "d7f79415",
   "metadata": {},
   "source": [
    "При анализе данных мы обнаружили, что у 47 заемщиков отрицательное число детей. Это явная ошибка. \n",
    "Кроме того, 20 заемщиков являются счастливыми родителями 20 детей. Это значение вызывает большие сомнения.\n",
    "Исправим."
   ]
  },
  {
   "cell_type": "code",
   "execution_count": 17,
   "id": "060a064d",
   "metadata": {},
   "outputs": [
    {
     "name": "stdout",
     "output_type": "stream",
     "text": [
      "0    14149\n",
      "1     4865\n",
      "2     2131\n",
      "3      330\n",
      "4       41\n",
      "5        9\n",
      "Name: children, dtype: int64\n"
     ]
    }
   ],
   "source": [
    "data['children'] = data['children'].abs()\n",
    "data['children'] = data['children'].replace(to_replace =20, value =2)\n",
    "print(data['children'].value_counts()) "
   ]
  },
  {
   "cell_type": "markdown",
   "id": "92442243",
   "metadata": {},
   "source": [
    "Вот теперь звучит правдоподобно."
   ]
  },
  {
   "cell_type": "code",
   "execution_count": 18,
   "id": "eff725dd",
   "metadata": {},
   "outputs": [
    {
     "name": "stdout",
     "output_type": "stream",
     "text": [
      "2194      2180\n",
      "133         16\n",
      "327         16\n",
      "438         15\n",
      "223         14\n",
      "          ... \n",
      "4507         1\n",
      "376084       1\n",
      "349465       1\n",
      "10636        1\n",
      "2049         1\n",
      "Name: days_employed, Length: 9086, dtype: int64\n"
     ]
    }
   ],
   "source": [
    "print(data['days_employed'].value_counts()) "
   ]
  },
  {
   "cell_type": "markdown",
   "id": "e90256a1",
   "metadata": {},
   "source": [
    "Значения общего трудового стажа в днях **days_employed** выглядит реалистично. \n",
    "*Обратить внимание*: часто встречается значение 2194 дней, или чуть более 6 лет. Нет ли у банка программы, которая дает льготы для заемщиков с трудовым стажем 6+ лет?"
   ]
  },
  {
   "cell_type": "code",
   "execution_count": 19,
   "id": "eaee8c47",
   "metadata": {},
   "outputs": [
    {
     "name": "stdout",
     "output_type": "stream",
     "text": [
      "[42 36 33 32 53 27 43 50 35 41 40 65 54 56 26 48 24 21 57 67 28 63 62 47\n",
      " 34 68 25 31 30 20 49 37 45 61 64 44 52 46 23 38 39 51  0 59 29 60 55 58\n",
      " 71 22 73 66 69 19 72 70 74 75]\n"
     ]
    }
   ],
   "source": [
    "print(data['dob_years'].unique())"
   ]
  },
  {
   "cell_type": "markdown",
   "id": "93c491f9",
   "metadata": {},
   "source": [
    "В датафрейме есть заемщики с нулевым возрастом, посчитаем их:"
   ]
  },
  {
   "cell_type": "code",
   "execution_count": 20,
   "id": "46be2ade",
   "metadata": {},
   "outputs": [
    {
     "name": "stdout",
     "output_type": "stream",
     "text": [
      "101\n"
     ]
    }
   ],
   "source": [
    "age_below_18 = data[data['dob_years'] == 0]['dob_years'].count()\n",
    "print(age_below_18)"
   ]
  },
  {
   "cell_type": "markdown",
   "id": "eaa9bf5b",
   "metadata": {},
   "source": [
    "Кто же этот 101 заемщик с нулевым возрастом? "
   ]
  },
  {
   "cell_type": "code",
   "execution_count": 21,
   "id": "18d8fbd2",
   "metadata": {},
   "outputs": [
    {
     "data": {
      "text/html": [
       "<div>\n",
       "<style scoped>\n",
       "    .dataframe tbody tr th:only-of-type {\n",
       "        vertical-align: middle;\n",
       "    }\n",
       "\n",
       "    .dataframe tbody tr th {\n",
       "        vertical-align: top;\n",
       "    }\n",
       "\n",
       "    .dataframe thead th {\n",
       "        text-align: right;\n",
       "    }\n",
       "</style>\n",
       "<table border=\"1\" class=\"dataframe\">\n",
       "  <thead>\n",
       "    <tr style=\"text-align: right;\">\n",
       "      <th></th>\n",
       "      <th>children</th>\n",
       "      <th>days_employed</th>\n",
       "      <th>dob_years</th>\n",
       "      <th>education</th>\n",
       "      <th>education_id</th>\n",
       "      <th>family_status</th>\n",
       "      <th>family_status_id</th>\n",
       "      <th>gender</th>\n",
       "      <th>income_type</th>\n",
       "      <th>debt</th>\n",
       "      <th>total_income</th>\n",
       "      <th>purpose</th>\n",
       "    </tr>\n",
       "  </thead>\n",
       "  <tbody>\n",
       "    <tr>\n",
       "      <th>99</th>\n",
       "      <td>0</td>\n",
       "      <td>346541</td>\n",
       "      <td>0</td>\n",
       "      <td>Среднее</td>\n",
       "      <td>1</td>\n",
       "      <td>женат / замужем</td>\n",
       "      <td>0</td>\n",
       "      <td>F</td>\n",
       "      <td>пенсионер</td>\n",
       "      <td>0</td>\n",
       "      <td>71291</td>\n",
       "      <td>автомобиль</td>\n",
       "    </tr>\n",
       "    <tr>\n",
       "      <th>149</th>\n",
       "      <td>0</td>\n",
       "      <td>2664</td>\n",
       "      <td>0</td>\n",
       "      <td>среднее</td>\n",
       "      <td>1</td>\n",
       "      <td>в разводе</td>\n",
       "      <td>3</td>\n",
       "      <td>F</td>\n",
       "      <td>сотрудник</td>\n",
       "      <td>0</td>\n",
       "      <td>70176</td>\n",
       "      <td>операции с жильем</td>\n",
       "    </tr>\n",
       "    <tr>\n",
       "      <th>270</th>\n",
       "      <td>3</td>\n",
       "      <td>1872</td>\n",
       "      <td>0</td>\n",
       "      <td>среднее</td>\n",
       "      <td>1</td>\n",
       "      <td>женат / замужем</td>\n",
       "      <td>0</td>\n",
       "      <td>F</td>\n",
       "      <td>сотрудник</td>\n",
       "      <td>0</td>\n",
       "      <td>102166</td>\n",
       "      <td>ремонт жилью</td>\n",
       "    </tr>\n",
       "    <tr>\n",
       "      <th>578</th>\n",
       "      <td>0</td>\n",
       "      <td>397856</td>\n",
       "      <td>0</td>\n",
       "      <td>среднее</td>\n",
       "      <td>1</td>\n",
       "      <td>женат / замужем</td>\n",
       "      <td>0</td>\n",
       "      <td>F</td>\n",
       "      <td>пенсионер</td>\n",
       "      <td>0</td>\n",
       "      <td>97620</td>\n",
       "      <td>строительство собственной недвижимости</td>\n",
       "    </tr>\n",
       "    <tr>\n",
       "      <th>1040</th>\n",
       "      <td>0</td>\n",
       "      <td>1158</td>\n",
       "      <td>0</td>\n",
       "      <td>высшее</td>\n",
       "      <td>0</td>\n",
       "      <td>в разводе</td>\n",
       "      <td>3</td>\n",
       "      <td>F</td>\n",
       "      <td>компаньон</td>\n",
       "      <td>0</td>\n",
       "      <td>303994</td>\n",
       "      <td>свой автомобиль</td>\n",
       "    </tr>\n",
       "  </tbody>\n",
       "</table>\n",
       "</div>"
      ],
      "text/plain": [
       "      children  days_employed  dob_years education  education_id  \\\n",
       "99           0         346541          0   Среднее             1   \n",
       "149          0           2664          0   среднее             1   \n",
       "270          3           1872          0   среднее             1   \n",
       "578          0         397856          0   среднее             1   \n",
       "1040         0           1158          0    высшее             0   \n",
       "\n",
       "        family_status  family_status_id gender income_type  debt  \\\n",
       "99    женат / замужем                 0      F   пенсионер     0   \n",
       "149         в разводе                 3      F   сотрудник     0   \n",
       "270   женат / замужем                 0      F   сотрудник     0   \n",
       "578   женат / замужем                 0      F   пенсионер     0   \n",
       "1040        в разводе                 3      F   компаньон     0   \n",
       "\n",
       "      total_income                                 purpose  \n",
       "99           71291                              автомобиль  \n",
       "149          70176                       операции с жильем  \n",
       "270         102166                            ремонт жилью  \n",
       "578          97620  строительство собственной недвижимости  \n",
       "1040        303994                         свой автомобиль  "
      ]
     },
     "metadata": {},
     "output_type": "display_data"
    }
   ],
   "source": [
    "display(data[data['dob_years'] == 0].head())"
   ]
  },
  {
   "cell_type": "markdown",
   "id": "f885ae38",
   "metadata": {},
   "source": [
    "Заменим нулевой возраст заемщиков на медианный возраст заемщиков"
   ]
  },
  {
   "cell_type": "code",
   "execution_count": 22,
   "id": "ce23b351",
   "metadata": {},
   "outputs": [
    {
     "name": "stdout",
     "output_type": "stream",
     "text": [
      "[42. 36. 33. 32. 53. 27. 43. 50. 35. 41. 40. 65. 54. 56. 26. 48. 24. 21.\n",
      " 57. 67. 28. 63. 62. 47. 34. 68. 25. 31. 30. 20. 49. 37. 45. 61. 64. 44.\n",
      " 52. 46. 23. 38. 39. 51. 59. 29. 60. 55. 58. 71. 22. 73. 66. 69. 19. 72.\n",
      " 70. 74. 75.]\n"
     ]
    }
   ],
   "source": [
    "dob_years_median = data['dob_years'].median()\n",
    "data['dob_years'] = data['dob_years'].replace(to_replace =0, value =dob_years_median)\n",
    "print(data['dob_years'].unique())"
   ]
  },
  {
   "cell_type": "markdown",
   "id": "db39cda4",
   "metadata": {},
   "source": [
    "Отлично! С возрастом заемщиков разобрались. "
   ]
  },
  {
   "cell_type": "code",
   "execution_count": 23,
   "id": "9855eee9",
   "metadata": {},
   "outputs": [
    {
     "name": "stdout",
     "output_type": "stream",
     "text": [
      "['высшее' 'среднее' 'Среднее' 'СРЕДНЕЕ' 'ВЫСШЕЕ' 'неоконченное высшее'\n",
      " 'начальное' 'Высшее' 'НЕОКОНЧЕННОЕ ВЫСШЕЕ' 'Неоконченное высшее'\n",
      " 'НАЧАЛЬНОЕ' 'Начальное' 'Ученая степень' 'УЧЕНАЯ СТЕПЕНЬ'\n",
      " 'ученая степень']\n"
     ]
    }
   ],
   "source": [
    "print(data['education'].unique())"
   ]
  },
  {
   "cell_type": "code",
   "execution_count": 24,
   "id": "6be3d201",
   "metadata": {},
   "outputs": [
    {
     "name": "stdout",
     "output_type": "stream",
     "text": [
      "['высшее' 'среднее' 'неоконченное высшее' 'начальное' 'ученая степень']\n"
     ]
    }
   ],
   "source": [
    "data['education']=data['education'].str.lower()\n",
    "print(data['education'].unique())"
   ]
  },
  {
   "cell_type": "markdown",
   "id": "eaef7f11",
   "metadata": {},
   "source": [
    "Мы привели в порядок данные в столбце **education**."
   ]
  },
  {
   "cell_type": "code",
   "execution_count": 25,
   "id": "1e4421d4",
   "metadata": {},
   "outputs": [
    {
     "name": "stdout",
     "output_type": "stream",
     "text": [
      "[0 1 2 3 4]\n",
      "[0 1 2 3 4]\n"
     ]
    }
   ],
   "source": [
    "print(data['education_id'].unique()) \n",
    "print(data['family_status_id'].unique()) "
   ]
  },
  {
   "cell_type": "markdown",
   "id": "a5b0c770",
   "metadata": {},
   "source": [
    "Данные в **education_id** и **family_status_id** не требуют предобработки."
   ]
  },
  {
   "cell_type": "code",
   "execution_count": 26,
   "id": "f0b66662",
   "metadata": {},
   "outputs": [
    {
     "name": "stdout",
     "output_type": "stream",
     "text": [
      "['женат / замужем' 'гражданский брак' 'вдовец / вдова' 'в разводе'\n",
      " 'Не женат / не замужем']\n"
     ]
    }
   ],
   "source": [
    "print(data['family_status'].unique()) "
   ]
  },
  {
   "cell_type": "code",
   "execution_count": 27,
   "id": "78b85a66",
   "metadata": {},
   "outputs": [
    {
     "name": "stdout",
     "output_type": "stream",
     "text": [
      "['женат / замужем' 'гражданский брак' 'вдовец / вдова' 'в разводе'\n",
      " 'не женат / не замужем']\n"
     ]
    }
   ],
   "source": [
    "data['family_status']=data['family_status'].str.lower()\n",
    "print(data['family_status'].unique()) "
   ]
  },
  {
   "cell_type": "markdown",
   "id": "a37791c3",
   "metadata": {},
   "source": [
    "Провели незначительное улучшение в оформлении, приведя все значения в единый формат (нижний регистр)."
   ]
  },
  {
   "cell_type": "code",
   "execution_count": 28,
   "id": "7d9a2e80",
   "metadata": {},
   "outputs": [
    {
     "name": "stdout",
     "output_type": "stream",
     "text": [
      "['F' 'M' 'XNA']\n"
     ]
    }
   ],
   "source": [
    "print(data['gender'].unique()) "
   ]
  },
  {
   "cell_type": "code",
   "execution_count": 29,
   "id": "48df208b",
   "metadata": {},
   "outputs": [
    {
     "data": {
      "text/html": [
       "<div>\n",
       "<style scoped>\n",
       "    .dataframe tbody tr th:only-of-type {\n",
       "        vertical-align: middle;\n",
       "    }\n",
       "\n",
       "    .dataframe tbody tr th {\n",
       "        vertical-align: top;\n",
       "    }\n",
       "\n",
       "    .dataframe thead th {\n",
       "        text-align: right;\n",
       "    }\n",
       "</style>\n",
       "<table border=\"1\" class=\"dataframe\">\n",
       "  <thead>\n",
       "    <tr style=\"text-align: right;\">\n",
       "      <th></th>\n",
       "      <th>children</th>\n",
       "      <th>days_employed</th>\n",
       "      <th>dob_years</th>\n",
       "      <th>education</th>\n",
       "      <th>education_id</th>\n",
       "      <th>family_status</th>\n",
       "      <th>family_status_id</th>\n",
       "      <th>gender</th>\n",
       "      <th>income_type</th>\n",
       "      <th>debt</th>\n",
       "      <th>total_income</th>\n",
       "      <th>purpose</th>\n",
       "    </tr>\n",
       "  </thead>\n",
       "  <tbody>\n",
       "    <tr>\n",
       "      <th>10701</th>\n",
       "      <td>0</td>\n",
       "      <td>2358</td>\n",
       "      <td>24.0</td>\n",
       "      <td>неоконченное высшее</td>\n",
       "      <td>2</td>\n",
       "      <td>гражданский брак</td>\n",
       "      <td>1</td>\n",
       "      <td>XNA</td>\n",
       "      <td>компаньон</td>\n",
       "      <td>0</td>\n",
       "      <td>203905</td>\n",
       "      <td>покупка недвижимости</td>\n",
       "    </tr>\n",
       "  </tbody>\n",
       "</table>\n",
       "</div>"
      ],
      "text/plain": [
       "       children  days_employed  dob_years            education  education_id  \\\n",
       "10701         0           2358       24.0  неоконченное высшее             2   \n",
       "\n",
       "          family_status  family_status_id gender income_type  debt  \\\n",
       "10701  гражданский брак                 1    XNA   компаньон     0   \n",
       "\n",
       "       total_income               purpose  \n",
       "10701        203905  покупка недвижимости  "
      ]
     },
     "metadata": {},
     "output_type": "display_data"
    }
   ],
   "source": [
    "gender_XNA=data[data['gender']=='XNA']\n",
    "display(gender_XNA)"
   ]
  },
  {
   "cell_type": "code",
   "execution_count": 30,
   "id": "2f06d4a1",
   "metadata": {},
   "outputs": [],
   "source": [
    "data = data.loc[data['gender'] != 'XNA']"
   ]
  },
  {
   "cell_type": "markdown",
   "id": "1fdc5460",
   "metadata": {},
   "source": [
    "У нас нет возможности с уверенностью определить пол заемщика, удалим одну строку из датафрейма. "
   ]
  },
  {
   "cell_type": "code",
   "execution_count": 31,
   "id": "1eefd27e",
   "metadata": {},
   "outputs": [
    {
     "name": "stdout",
     "output_type": "stream",
     "text": [
      "['сотрудник' 'пенсионер' 'компаньон' 'госслужащий' 'безработный'\n",
      " 'предприниматель' 'студент' 'в декрете']\n"
     ]
    }
   ],
   "source": [
    "print(data['income_type'].unique()) "
   ]
  },
  {
   "cell_type": "markdown",
   "id": "bc515d7c",
   "metadata": {},
   "source": [
    "Данные в **income_type** в порядке. "
   ]
  },
  {
   "cell_type": "code",
   "execution_count": 32,
   "id": "a09944aa",
   "metadata": {},
   "outputs": [
    {
     "name": "stdout",
     "output_type": "stream",
     "text": [
      "[0 1]\n"
     ]
    }
   ],
   "source": [
    "print(data['debt'].unique())  "
   ]
  },
  {
   "cell_type": "markdown",
   "id": "a2310f6a",
   "metadata": {},
   "source": [
    "Данные в **debt** так же не требуют исправлений."
   ]
  },
  {
   "cell_type": "code",
   "execution_count": 33,
   "id": "ae9a1b58",
   "metadata": {},
   "outputs": [
    {
     "name": "stdout",
     "output_type": "stream",
     "text": [
      "142594    1105\n",
      "172357     509\n",
      "118514     414\n",
      "150447     147\n",
      "144533       3\n",
      "          ... \n",
      "205761       1\n",
      "179138       1\n",
      "61724        1\n",
      "99269        1\n",
      "126820       1\n",
      "Name: total_income, Length: 18607, dtype: int64\n"
     ]
    }
   ],
   "source": [
    "print(data['total_income'].value_counts()) "
   ]
  },
  {
   "cell_type": "markdown",
   "id": "69da8289",
   "metadata": {},
   "source": [
    "Данные в **income_type** в порядке. "
   ]
  },
  {
   "cell_type": "code",
   "execution_count": 34,
   "id": "d666f919",
   "metadata": {},
   "outputs": [
    {
     "name": "stdout",
     "output_type": "stream",
     "text": [
      "['покупка жилья' 'приобретение автомобиля' 'дополнительное образование'\n",
      " 'сыграть свадьбу' 'операции с жильем' 'образование'\n",
      " 'на проведение свадьбы' 'покупка жилья для семьи' 'покупка недвижимости'\n",
      " 'покупка коммерческой недвижимости' 'покупка жилой недвижимости'\n",
      " 'строительство собственной недвижимости' 'недвижимость'\n",
      " 'строительство недвижимости' 'на покупку подержанного автомобиля'\n",
      " 'на покупку своего автомобиля' 'операции с коммерческой недвижимостью'\n",
      " 'строительство жилой недвижимости' 'жилье'\n",
      " 'операции со своей недвижимостью' 'автомобили' 'заняться образованием'\n",
      " 'сделка с подержанным автомобилем' 'получение образования' 'автомобиль'\n",
      " 'свадьба' 'получение дополнительного образования' 'покупка своего жилья'\n",
      " 'операции с недвижимостью' 'получение высшего образования'\n",
      " 'свой автомобиль' 'сделка с автомобилем' 'профильное образование'\n",
      " 'высшее образование' 'покупка жилья для сдачи' 'на покупку автомобиля'\n",
      " 'ремонт жилью' 'заняться высшим образованием']\n"
     ]
    }
   ],
   "source": [
    "print(data['purpose'].unique())  "
   ]
  },
  {
   "cell_type": "markdown",
   "id": "e566da68",
   "metadata": {},
   "source": [
    "Данные в **purpose** в порядке, но требуют лучшей категоризации."
   ]
  },
  {
   "cell_type": "markdown",
   "id": "4488770d",
   "metadata": {},
   "source": [
    "Датафрейм очищен от аномалий. "
   ]
  },
  {
   "cell_type": "markdown",
   "id": "bbe179df",
   "metadata": {},
   "source": [
    "## Удаление дубликатов"
   ]
  },
  {
   "cell_type": "code",
   "execution_count": 35,
   "id": "f817f559",
   "metadata": {},
   "outputs": [
    {
     "name": "stdout",
     "output_type": "stream",
     "text": [
      "Дубликатов в таблице: 72\n"
     ]
    }
   ],
   "source": [
    "print('Дубликатов в таблице:', data.duplicated().sum())"
   ]
  },
  {
   "cell_type": "code",
   "execution_count": 36,
   "id": "076c8ce4",
   "metadata": {},
   "outputs": [
    {
     "data": {
      "text/html": [
       "<div>\n",
       "<style scoped>\n",
       "    .dataframe tbody tr th:only-of-type {\n",
       "        vertical-align: middle;\n",
       "    }\n",
       "\n",
       "    .dataframe tbody tr th {\n",
       "        vertical-align: top;\n",
       "    }\n",
       "\n",
       "    .dataframe thead th {\n",
       "        text-align: right;\n",
       "    }\n",
       "</style>\n",
       "<table border=\"1\" class=\"dataframe\">\n",
       "  <thead>\n",
       "    <tr style=\"text-align: right;\">\n",
       "      <th></th>\n",
       "      <th>children</th>\n",
       "      <th>days_employed</th>\n",
       "      <th>dob_years</th>\n",
       "      <th>education</th>\n",
       "      <th>education_id</th>\n",
       "      <th>family_status</th>\n",
       "      <th>family_status_id</th>\n",
       "      <th>gender</th>\n",
       "      <th>income_type</th>\n",
       "      <th>debt</th>\n",
       "      <th>total_income</th>\n",
       "      <th>purpose</th>\n",
       "    </tr>\n",
       "  </thead>\n",
       "  <tbody>\n",
       "    <tr>\n",
       "      <th>2849</th>\n",
       "      <td>0</td>\n",
       "      <td>2194</td>\n",
       "      <td>41.0</td>\n",
       "      <td>среднее</td>\n",
       "      <td>1</td>\n",
       "      <td>женат / замужем</td>\n",
       "      <td>0</td>\n",
       "      <td>F</td>\n",
       "      <td>сотрудник</td>\n",
       "      <td>0</td>\n",
       "      <td>142594</td>\n",
       "      <td>покупка жилья для семьи</td>\n",
       "    </tr>\n",
       "    <tr>\n",
       "      <th>3290</th>\n",
       "      <td>0</td>\n",
       "      <td>2194</td>\n",
       "      <td>58.0</td>\n",
       "      <td>среднее</td>\n",
       "      <td>1</td>\n",
       "      <td>гражданский брак</td>\n",
       "      <td>1</td>\n",
       "      <td>F</td>\n",
       "      <td>пенсионер</td>\n",
       "      <td>0</td>\n",
       "      <td>118514</td>\n",
       "      <td>сыграть свадьбу</td>\n",
       "    </tr>\n",
       "    <tr>\n",
       "      <th>4182</th>\n",
       "      <td>1</td>\n",
       "      <td>2194</td>\n",
       "      <td>34.0</td>\n",
       "      <td>высшее</td>\n",
       "      <td>0</td>\n",
       "      <td>гражданский брак</td>\n",
       "      <td>1</td>\n",
       "      <td>F</td>\n",
       "      <td>сотрудник</td>\n",
       "      <td>0</td>\n",
       "      <td>142594</td>\n",
       "      <td>свадьба</td>\n",
       "    </tr>\n",
       "    <tr>\n",
       "      <th>4851</th>\n",
       "      <td>0</td>\n",
       "      <td>2194</td>\n",
       "      <td>60.0</td>\n",
       "      <td>среднее</td>\n",
       "      <td>1</td>\n",
       "      <td>гражданский брак</td>\n",
       "      <td>1</td>\n",
       "      <td>F</td>\n",
       "      <td>пенсионер</td>\n",
       "      <td>0</td>\n",
       "      <td>118514</td>\n",
       "      <td>свадьба</td>\n",
       "    </tr>\n",
       "    <tr>\n",
       "      <th>5557</th>\n",
       "      <td>0</td>\n",
       "      <td>2194</td>\n",
       "      <td>58.0</td>\n",
       "      <td>среднее</td>\n",
       "      <td>1</td>\n",
       "      <td>гражданский брак</td>\n",
       "      <td>1</td>\n",
       "      <td>F</td>\n",
       "      <td>пенсионер</td>\n",
       "      <td>0</td>\n",
       "      <td>118514</td>\n",
       "      <td>сыграть свадьбу</td>\n",
       "    </tr>\n",
       "  </tbody>\n",
       "</table>\n",
       "</div>"
      ],
      "text/plain": [
       "      children  days_employed  dob_years education  education_id  \\\n",
       "2849         0           2194       41.0   среднее             1   \n",
       "3290         0           2194       58.0   среднее             1   \n",
       "4182         1           2194       34.0    высшее             0   \n",
       "4851         0           2194       60.0   среднее             1   \n",
       "5557         0           2194       58.0   среднее             1   \n",
       "\n",
       "         family_status  family_status_id gender income_type  debt  \\\n",
       "2849   женат / замужем                 0      F   сотрудник     0   \n",
       "3290  гражданский брак                 1      F   пенсионер     0   \n",
       "4182  гражданский брак                 1      F   сотрудник     0   \n",
       "4851  гражданский брак                 1      F   пенсионер     0   \n",
       "5557  гражданский брак                 1      F   пенсионер     0   \n",
       "\n",
       "      total_income                  purpose  \n",
       "2849        142594  покупка жилья для семьи  \n",
       "3290        118514          сыграть свадьбу  \n",
       "4182        142594                  свадьба  \n",
       "4851        118514                  свадьба  \n",
       "5557        118514          сыграть свадьбу  "
      ]
     },
     "metadata": {},
     "output_type": "display_data"
    }
   ],
   "source": [
    "duplicated_data = data[data.duplicated()].head()\n",
    "display(duplicated_data)"
   ]
  },
  {
   "cell_type": "markdown",
   "id": "e6e120e7",
   "metadata": {},
   "source": [
    "Мы ознакомились с задублированными данными. "
   ]
  },
  {
   "cell_type": "code",
   "execution_count": 37,
   "id": "1ea2cd05",
   "metadata": {},
   "outputs": [
    {
     "name": "stdout",
     "output_type": "stream",
     "text": [
      "<class 'pandas.core.frame.DataFrame'>\n",
      "RangeIndex: 21452 entries, 0 to 21451\n",
      "Data columns (total 12 columns):\n",
      " #   Column            Non-Null Count  Dtype  \n",
      "---  ------            --------------  -----  \n",
      " 0   children          21452 non-null  int64  \n",
      " 1   days_employed     21452 non-null  int64  \n",
      " 2   dob_years         21452 non-null  float64\n",
      " 3   education         21452 non-null  object \n",
      " 4   education_id      21452 non-null  int64  \n",
      " 5   family_status     21452 non-null  object \n",
      " 6   family_status_id  21452 non-null  int64  \n",
      " 7   gender            21452 non-null  object \n",
      " 8   income_type       21452 non-null  object \n",
      " 9   debt              21452 non-null  int64  \n",
      " 10  total_income      21452 non-null  int64  \n",
      " 11  purpose           21452 non-null  object \n",
      "dtypes: float64(1), int64(6), object(5)\n",
      "memory usage: 2.0+ MB\n",
      "Дубликатов в таблице: 0\n"
     ]
    }
   ],
   "source": [
    "data=data.drop_duplicates().reset_index(drop=True)\n",
    "data.info()\n",
    "print('Дубликатов в таблице:', data.duplicated().sum())"
   ]
  },
  {
   "cell_type": "markdown",
   "id": "c0aedfa9",
   "metadata": {},
   "source": [
    "Строки, в которых информация полностью дублировалась **(72)**, удалены.\n",
    "**Предполагаемые причины** появления дубликатов: ошибка при копировании данных, учет одного заявления дважды.\n",
    "Использован **метод удаления дубликатов** с изменением индексов и удалением старых, так как исходные задублированные данные для анализа не потребуются. "
   ]
  },
  {
   "cell_type": "markdown",
   "id": "0d76fdc7",
   "metadata": {},
   "source": [
    "## Формирование дополнительных датафреймов словарей, декомпозиция исходного датафрейма"
   ]
  },
  {
   "cell_type": "code",
   "execution_count": 38,
   "id": "e8983f92",
   "metadata": {},
   "outputs": [
    {
     "data": {
      "text/html": [
       "<div>\n",
       "<style scoped>\n",
       "    .dataframe tbody tr th:only-of-type {\n",
       "        vertical-align: middle;\n",
       "    }\n",
       "\n",
       "    .dataframe tbody tr th {\n",
       "        vertical-align: top;\n",
       "    }\n",
       "\n",
       "    .dataframe thead th {\n",
       "        text-align: right;\n",
       "    }\n",
       "</style>\n",
       "<table border=\"1\" class=\"dataframe\">\n",
       "  <thead>\n",
       "    <tr style=\"text-align: right;\">\n",
       "      <th></th>\n",
       "      <th>education_id</th>\n",
       "      <th>education</th>\n",
       "    </tr>\n",
       "  </thead>\n",
       "  <tbody>\n",
       "    <tr>\n",
       "      <th>0</th>\n",
       "      <td>0</td>\n",
       "      <td>высшее</td>\n",
       "    </tr>\n",
       "    <tr>\n",
       "      <th>1</th>\n",
       "      <td>1</td>\n",
       "      <td>среднее</td>\n",
       "    </tr>\n",
       "    <tr>\n",
       "      <th>2</th>\n",
       "      <td>1</td>\n",
       "      <td>среднее</td>\n",
       "    </tr>\n",
       "    <tr>\n",
       "      <th>3</th>\n",
       "      <td>1</td>\n",
       "      <td>среднее</td>\n",
       "    </tr>\n",
       "    <tr>\n",
       "      <th>4</th>\n",
       "      <td>1</td>\n",
       "      <td>среднее</td>\n",
       "    </tr>\n",
       "    <tr>\n",
       "      <th>...</th>\n",
       "      <td>...</td>\n",
       "      <td>...</td>\n",
       "    </tr>\n",
       "    <tr>\n",
       "      <th>21447</th>\n",
       "      <td>1</td>\n",
       "      <td>среднее</td>\n",
       "    </tr>\n",
       "    <tr>\n",
       "      <th>21448</th>\n",
       "      <td>1</td>\n",
       "      <td>среднее</td>\n",
       "    </tr>\n",
       "    <tr>\n",
       "      <th>21449</th>\n",
       "      <td>1</td>\n",
       "      <td>среднее</td>\n",
       "    </tr>\n",
       "    <tr>\n",
       "      <th>21450</th>\n",
       "      <td>1</td>\n",
       "      <td>среднее</td>\n",
       "    </tr>\n",
       "    <tr>\n",
       "      <th>21451</th>\n",
       "      <td>1</td>\n",
       "      <td>среднее</td>\n",
       "    </tr>\n",
       "  </tbody>\n",
       "</table>\n",
       "<p>21452 rows × 2 columns</p>\n",
       "</div>"
      ],
      "text/plain": [
       "       education_id education\n",
       "0                 0    высшее\n",
       "1                 1   среднее\n",
       "2                 1   среднее\n",
       "3                 1   среднее\n",
       "4                 1   среднее\n",
       "...             ...       ...\n",
       "21447             1   среднее\n",
       "21448             1   среднее\n",
       "21449             1   среднее\n",
       "21450             1   среднее\n",
       "21451             1   среднее\n",
       "\n",
       "[21452 rows x 2 columns]"
      ]
     },
     "metadata": {},
     "output_type": "display_data"
    }
   ],
   "source": [
    "data_education=data[['education_id','education']]\n",
    "display(data_education)"
   ]
  },
  {
   "cell_type": "code",
   "execution_count": 39,
   "id": "f4308c69",
   "metadata": {},
   "outputs": [
    {
     "data": {
      "text/html": [
       "<div>\n",
       "<style scoped>\n",
       "    .dataframe tbody tr th:only-of-type {\n",
       "        vertical-align: middle;\n",
       "    }\n",
       "\n",
       "    .dataframe tbody tr th {\n",
       "        vertical-align: top;\n",
       "    }\n",
       "\n",
       "    .dataframe thead th {\n",
       "        text-align: right;\n",
       "    }\n",
       "</style>\n",
       "<table border=\"1\" class=\"dataframe\">\n",
       "  <thead>\n",
       "    <tr style=\"text-align: right;\">\n",
       "      <th></th>\n",
       "      <th>family_status_id</th>\n",
       "      <th>family_status</th>\n",
       "    </tr>\n",
       "  </thead>\n",
       "  <tbody>\n",
       "    <tr>\n",
       "      <th>0</th>\n",
       "      <td>0</td>\n",
       "      <td>женат / замужем</td>\n",
       "    </tr>\n",
       "    <tr>\n",
       "      <th>1</th>\n",
       "      <td>0</td>\n",
       "      <td>женат / замужем</td>\n",
       "    </tr>\n",
       "    <tr>\n",
       "      <th>2</th>\n",
       "      <td>0</td>\n",
       "      <td>женат / замужем</td>\n",
       "    </tr>\n",
       "    <tr>\n",
       "      <th>3</th>\n",
       "      <td>0</td>\n",
       "      <td>женат / замужем</td>\n",
       "    </tr>\n",
       "    <tr>\n",
       "      <th>4</th>\n",
       "      <td>1</td>\n",
       "      <td>гражданский брак</td>\n",
       "    </tr>\n",
       "    <tr>\n",
       "      <th>...</th>\n",
       "      <td>...</td>\n",
       "      <td>...</td>\n",
       "    </tr>\n",
       "    <tr>\n",
       "      <th>21447</th>\n",
       "      <td>1</td>\n",
       "      <td>гражданский брак</td>\n",
       "    </tr>\n",
       "    <tr>\n",
       "      <th>21448</th>\n",
       "      <td>0</td>\n",
       "      <td>женат / замужем</td>\n",
       "    </tr>\n",
       "    <tr>\n",
       "      <th>21449</th>\n",
       "      <td>1</td>\n",
       "      <td>гражданский брак</td>\n",
       "    </tr>\n",
       "    <tr>\n",
       "      <th>21450</th>\n",
       "      <td>0</td>\n",
       "      <td>женат / замужем</td>\n",
       "    </tr>\n",
       "    <tr>\n",
       "      <th>21451</th>\n",
       "      <td>0</td>\n",
       "      <td>женат / замужем</td>\n",
       "    </tr>\n",
       "  </tbody>\n",
       "</table>\n",
       "<p>21452 rows × 2 columns</p>\n",
       "</div>"
      ],
      "text/plain": [
       "       family_status_id     family_status\n",
       "0                     0   женат / замужем\n",
       "1                     0   женат / замужем\n",
       "2                     0   женат / замужем\n",
       "3                     0   женат / замужем\n",
       "4                     1  гражданский брак\n",
       "...                 ...               ...\n",
       "21447                 1  гражданский брак\n",
       "21448                 0   женат / замужем\n",
       "21449                 1  гражданский брак\n",
       "21450                 0   женат / замужем\n",
       "21451                 0   женат / замужем\n",
       "\n",
       "[21452 rows x 2 columns]"
      ]
     },
     "metadata": {},
     "output_type": "display_data"
    }
   ],
   "source": [
    "data_family=data[['family_status_id','family_status']]\n",
    "display(data_family)"
   ]
  },
  {
   "cell_type": "markdown",
   "id": "c6435514",
   "metadata": {},
   "source": [
    "Два новых словаря созданы. Мы сможем обращаться к ним по идентификатору в дальнейшем. "
   ]
  },
  {
   "cell_type": "code",
   "execution_count": 40,
   "id": "77c6e373",
   "metadata": {},
   "outputs": [
    {
     "data": {
      "text/html": [
       "<div>\n",
       "<style scoped>\n",
       "    .dataframe tbody tr th:only-of-type {\n",
       "        vertical-align: middle;\n",
       "    }\n",
       "\n",
       "    .dataframe tbody tr th {\n",
       "        vertical-align: top;\n",
       "    }\n",
       "\n",
       "    .dataframe thead th {\n",
       "        text-align: right;\n",
       "    }\n",
       "</style>\n",
       "<table border=\"1\" class=\"dataframe\">\n",
       "  <thead>\n",
       "    <tr style=\"text-align: right;\">\n",
       "      <th></th>\n",
       "      <th>education_id</th>\n",
       "      <th>education</th>\n",
       "    </tr>\n",
       "  </thead>\n",
       "  <tbody>\n",
       "    <tr>\n",
       "      <th>0</th>\n",
       "      <td>0</td>\n",
       "      <td>высшее</td>\n",
       "    </tr>\n",
       "    <tr>\n",
       "      <th>1</th>\n",
       "      <td>1</td>\n",
       "      <td>среднее</td>\n",
       "    </tr>\n",
       "    <tr>\n",
       "      <th>2</th>\n",
       "      <td>2</td>\n",
       "      <td>неоконченное высшее</td>\n",
       "    </tr>\n",
       "    <tr>\n",
       "      <th>3</th>\n",
       "      <td>3</td>\n",
       "      <td>начальное</td>\n",
       "    </tr>\n",
       "    <tr>\n",
       "      <th>4</th>\n",
       "      <td>4</td>\n",
       "      <td>ученая степень</td>\n",
       "    </tr>\n",
       "  </tbody>\n",
       "</table>\n",
       "</div>"
      ],
      "text/plain": [
       "   education_id            education\n",
       "0             0               высшее\n",
       "1             1              среднее\n",
       "2             2  неоконченное высшее\n",
       "3             3            начальное\n",
       "4             4       ученая степень"
      ]
     },
     "metadata": {},
     "output_type": "display_data"
    }
   ],
   "source": [
    "data_education=data[['education_id','education']]\n",
    "data_education=data_education.drop_duplicates().reset_index(drop=True)\n",
    "display(data_education)"
   ]
  },
  {
   "cell_type": "code",
   "execution_count": 41,
   "id": "0aae0349",
   "metadata": {},
   "outputs": [
    {
     "data": {
      "text/html": [
       "<div>\n",
       "<style scoped>\n",
       "    .dataframe tbody tr th:only-of-type {\n",
       "        vertical-align: middle;\n",
       "    }\n",
       "\n",
       "    .dataframe tbody tr th {\n",
       "        vertical-align: top;\n",
       "    }\n",
       "\n",
       "    .dataframe thead th {\n",
       "        text-align: right;\n",
       "    }\n",
       "</style>\n",
       "<table border=\"1\" class=\"dataframe\">\n",
       "  <thead>\n",
       "    <tr style=\"text-align: right;\">\n",
       "      <th></th>\n",
       "      <th>family_status_id</th>\n",
       "      <th>family_status</th>\n",
       "    </tr>\n",
       "  </thead>\n",
       "  <tbody>\n",
       "    <tr>\n",
       "      <th>0</th>\n",
       "      <td>0</td>\n",
       "      <td>женат / замужем</td>\n",
       "    </tr>\n",
       "    <tr>\n",
       "      <th>1</th>\n",
       "      <td>1</td>\n",
       "      <td>гражданский брак</td>\n",
       "    </tr>\n",
       "    <tr>\n",
       "      <th>2</th>\n",
       "      <td>2</td>\n",
       "      <td>вдовец / вдова</td>\n",
       "    </tr>\n",
       "    <tr>\n",
       "      <th>3</th>\n",
       "      <td>3</td>\n",
       "      <td>в разводе</td>\n",
       "    </tr>\n",
       "    <tr>\n",
       "      <th>4</th>\n",
       "      <td>4</td>\n",
       "      <td>не женат / не замужем</td>\n",
       "    </tr>\n",
       "  </tbody>\n",
       "</table>\n",
       "</div>"
      ],
      "text/plain": [
       "   family_status_id          family_status\n",
       "0                 0        женат / замужем\n",
       "1                 1       гражданский брак\n",
       "2                 2         вдовец / вдова\n",
       "3                 3              в разводе\n",
       "4                 4  не женат / не замужем"
      ]
     },
     "metadata": {},
     "output_type": "display_data"
    }
   ],
   "source": [
    "data_family=data[['family_status_id','family_status']]\n",
    "data_family=data_family.drop_duplicates().reset_index(drop=True)\n",
    "display(data_family)"
   ]
  },
  {
   "cell_type": "markdown",
   "id": "ba278c3a",
   "metadata": {},
   "source": [
    "Текстовые описания столбцов **family_status** и **education** дублируются соответствующими идентификаторами. Удалим их."
   ]
  },
  {
   "cell_type": "code",
   "execution_count": 42,
   "id": "573c4649",
   "metadata": {},
   "outputs": [
    {
     "data": {
      "text/html": [
       "<div>\n",
       "<style scoped>\n",
       "    .dataframe tbody tr th:only-of-type {\n",
       "        vertical-align: middle;\n",
       "    }\n",
       "\n",
       "    .dataframe tbody tr th {\n",
       "        vertical-align: top;\n",
       "    }\n",
       "\n",
       "    .dataframe thead th {\n",
       "        text-align: right;\n",
       "    }\n",
       "</style>\n",
       "<table border=\"1\" class=\"dataframe\">\n",
       "  <thead>\n",
       "    <tr style=\"text-align: right;\">\n",
       "      <th></th>\n",
       "      <th>children</th>\n",
       "      <th>days_employed</th>\n",
       "      <th>dob_years</th>\n",
       "      <th>education_id</th>\n",
       "      <th>family_status_id</th>\n",
       "      <th>gender</th>\n",
       "      <th>income_type</th>\n",
       "      <th>debt</th>\n",
       "      <th>total_income</th>\n",
       "      <th>purpose</th>\n",
       "    </tr>\n",
       "  </thead>\n",
       "  <tbody>\n",
       "    <tr>\n",
       "      <th>0</th>\n",
       "      <td>1</td>\n",
       "      <td>8437</td>\n",
       "      <td>42.0</td>\n",
       "      <td>0</td>\n",
       "      <td>0</td>\n",
       "      <td>F</td>\n",
       "      <td>сотрудник</td>\n",
       "      <td>0</td>\n",
       "      <td>253875</td>\n",
       "      <td>покупка жилья</td>\n",
       "    </tr>\n",
       "    <tr>\n",
       "      <th>1</th>\n",
       "      <td>1</td>\n",
       "      <td>4024</td>\n",
       "      <td>36.0</td>\n",
       "      <td>1</td>\n",
       "      <td>0</td>\n",
       "      <td>F</td>\n",
       "      <td>сотрудник</td>\n",
       "      <td>0</td>\n",
       "      <td>112080</td>\n",
       "      <td>приобретение автомобиля</td>\n",
       "    </tr>\n",
       "    <tr>\n",
       "      <th>2</th>\n",
       "      <td>0</td>\n",
       "      <td>5623</td>\n",
       "      <td>33.0</td>\n",
       "      <td>1</td>\n",
       "      <td>0</td>\n",
       "      <td>M</td>\n",
       "      <td>сотрудник</td>\n",
       "      <td>0</td>\n",
       "      <td>145885</td>\n",
       "      <td>покупка жилья</td>\n",
       "    </tr>\n",
       "    <tr>\n",
       "      <th>3</th>\n",
       "      <td>3</td>\n",
       "      <td>4124</td>\n",
       "      <td>32.0</td>\n",
       "      <td>1</td>\n",
       "      <td>0</td>\n",
       "      <td>M</td>\n",
       "      <td>сотрудник</td>\n",
       "      <td>0</td>\n",
       "      <td>267628</td>\n",
       "      <td>дополнительное образование</td>\n",
       "    </tr>\n",
       "    <tr>\n",
       "      <th>4</th>\n",
       "      <td>0</td>\n",
       "      <td>340266</td>\n",
       "      <td>53.0</td>\n",
       "      <td>1</td>\n",
       "      <td>1</td>\n",
       "      <td>F</td>\n",
       "      <td>пенсионер</td>\n",
       "      <td>0</td>\n",
       "      <td>158616</td>\n",
       "      <td>сыграть свадьбу</td>\n",
       "    </tr>\n",
       "    <tr>\n",
       "      <th>...</th>\n",
       "      <td>...</td>\n",
       "      <td>...</td>\n",
       "      <td>...</td>\n",
       "      <td>...</td>\n",
       "      <td>...</td>\n",
       "      <td>...</td>\n",
       "      <td>...</td>\n",
       "      <td>...</td>\n",
       "      <td>...</td>\n",
       "      <td>...</td>\n",
       "    </tr>\n",
       "    <tr>\n",
       "      <th>21447</th>\n",
       "      <td>1</td>\n",
       "      <td>4529</td>\n",
       "      <td>43.0</td>\n",
       "      <td>1</td>\n",
       "      <td>1</td>\n",
       "      <td>F</td>\n",
       "      <td>компаньон</td>\n",
       "      <td>0</td>\n",
       "      <td>224791</td>\n",
       "      <td>операции с жильем</td>\n",
       "    </tr>\n",
       "    <tr>\n",
       "      <th>21448</th>\n",
       "      <td>0</td>\n",
       "      <td>343937</td>\n",
       "      <td>67.0</td>\n",
       "      <td>1</td>\n",
       "      <td>0</td>\n",
       "      <td>F</td>\n",
       "      <td>пенсионер</td>\n",
       "      <td>0</td>\n",
       "      <td>155999</td>\n",
       "      <td>сделка с автомобилем</td>\n",
       "    </tr>\n",
       "    <tr>\n",
       "      <th>21449</th>\n",
       "      <td>1</td>\n",
       "      <td>2113</td>\n",
       "      <td>38.0</td>\n",
       "      <td>1</td>\n",
       "      <td>1</td>\n",
       "      <td>M</td>\n",
       "      <td>сотрудник</td>\n",
       "      <td>1</td>\n",
       "      <td>89672</td>\n",
       "      <td>недвижимость</td>\n",
       "    </tr>\n",
       "    <tr>\n",
       "      <th>21450</th>\n",
       "      <td>3</td>\n",
       "      <td>3112</td>\n",
       "      <td>38.0</td>\n",
       "      <td>1</td>\n",
       "      <td>0</td>\n",
       "      <td>M</td>\n",
       "      <td>сотрудник</td>\n",
       "      <td>1</td>\n",
       "      <td>244093</td>\n",
       "      <td>на покупку своего автомобиля</td>\n",
       "    </tr>\n",
       "    <tr>\n",
       "      <th>21451</th>\n",
       "      <td>2</td>\n",
       "      <td>1984</td>\n",
       "      <td>40.0</td>\n",
       "      <td>1</td>\n",
       "      <td>0</td>\n",
       "      <td>F</td>\n",
       "      <td>сотрудник</td>\n",
       "      <td>0</td>\n",
       "      <td>82047</td>\n",
       "      <td>на покупку автомобиля</td>\n",
       "    </tr>\n",
       "  </tbody>\n",
       "</table>\n",
       "<p>21452 rows × 10 columns</p>\n",
       "</div>"
      ],
      "text/plain": [
       "       children  days_employed  dob_years  education_id  family_status_id  \\\n",
       "0             1           8437       42.0             0                 0   \n",
       "1             1           4024       36.0             1                 0   \n",
       "2             0           5623       33.0             1                 0   \n",
       "3             3           4124       32.0             1                 0   \n",
       "4             0         340266       53.0             1                 1   \n",
       "...         ...            ...        ...           ...               ...   \n",
       "21447         1           4529       43.0             1                 1   \n",
       "21448         0         343937       67.0             1                 0   \n",
       "21449         1           2113       38.0             1                 1   \n",
       "21450         3           3112       38.0             1                 0   \n",
       "21451         2           1984       40.0             1                 0   \n",
       "\n",
       "      gender income_type  debt  total_income                       purpose  \n",
       "0          F   сотрудник     0        253875                 покупка жилья  \n",
       "1          F   сотрудник     0        112080       приобретение автомобиля  \n",
       "2          M   сотрудник     0        145885                 покупка жилья  \n",
       "3          M   сотрудник     0        267628    дополнительное образование  \n",
       "4          F   пенсионер     0        158616               сыграть свадьбу  \n",
       "...      ...         ...   ...           ...                           ...  \n",
       "21447      F   компаньон     0        224791             операции с жильем  \n",
       "21448      F   пенсионер     0        155999          сделка с автомобилем  \n",
       "21449      M   сотрудник     1         89672                  недвижимость  \n",
       "21450      M   сотрудник     1        244093  на покупку своего автомобиля  \n",
       "21451      F   сотрудник     0         82047         на покупку автомобиля  \n",
       "\n",
       "[21452 rows x 10 columns]"
      ]
     },
     "metadata": {},
     "output_type": "display_data"
    }
   ],
   "source": [
    "data = data.drop(columns=['family_status', 'education'])\n",
    "display(data)"
   ]
  },
  {
   "cell_type": "markdown",
   "id": "726993fb",
   "metadata": {},
   "source": [
    "## Категоризация дохода"
   ]
  },
  {
   "cell_type": "code",
   "execution_count": 43,
   "id": "ef03f499",
   "metadata": {},
   "outputs": [
    {
     "name": "stdout",
     "output_type": "stream",
     "text": [
      "E\n",
      "B\n"
     ]
    }
   ],
   "source": [
    "def total_income_category(total_income):\n",
    "    if total_income <= 30000:\n",
    "        return 'E'\n",
    "    if 30001 <= total_income <= 50000:\n",
    "        return 'D'\n",
    "    if 50001 <= total_income <= 200000:\n",
    "        return 'C'\n",
    "    if 200001 <= total_income <= 1000000:\n",
    "        return 'B'\n",
    "    return 'A'\n",
    "\n",
    "print(total_income_category(25000))\n",
    "print(total_income_category(235000))"
   ]
  },
  {
   "cell_type": "markdown",
   "id": "b9d1d707",
   "metadata": {},
   "source": [
    "Мы убедились в том, что функция корректно распределяет заемщиков с разным уровнем дохода по категориям. Добавим новый столбец к исходному датафрейму. "
   ]
  },
  {
   "cell_type": "code",
   "execution_count": 44,
   "id": "930c6441",
   "metadata": {},
   "outputs": [
    {
     "data": {
      "text/html": [
       "<div>\n",
       "<style scoped>\n",
       "    .dataframe tbody tr th:only-of-type {\n",
       "        vertical-align: middle;\n",
       "    }\n",
       "\n",
       "    .dataframe tbody tr th {\n",
       "        vertical-align: top;\n",
       "    }\n",
       "\n",
       "    .dataframe thead th {\n",
       "        text-align: right;\n",
       "    }\n",
       "</style>\n",
       "<table border=\"1\" class=\"dataframe\">\n",
       "  <thead>\n",
       "    <tr style=\"text-align: right;\">\n",
       "      <th></th>\n",
       "      <th>children</th>\n",
       "      <th>days_employed</th>\n",
       "      <th>dob_years</th>\n",
       "      <th>education_id</th>\n",
       "      <th>family_status_id</th>\n",
       "      <th>gender</th>\n",
       "      <th>income_type</th>\n",
       "      <th>debt</th>\n",
       "      <th>total_income</th>\n",
       "      <th>purpose</th>\n",
       "      <th>total_income_category</th>\n",
       "    </tr>\n",
       "  </thead>\n",
       "  <tbody>\n",
       "    <tr>\n",
       "      <th>0</th>\n",
       "      <td>1</td>\n",
       "      <td>8437</td>\n",
       "      <td>42.0</td>\n",
       "      <td>0</td>\n",
       "      <td>0</td>\n",
       "      <td>F</td>\n",
       "      <td>сотрудник</td>\n",
       "      <td>0</td>\n",
       "      <td>253875</td>\n",
       "      <td>покупка жилья</td>\n",
       "      <td>B</td>\n",
       "    </tr>\n",
       "    <tr>\n",
       "      <th>1</th>\n",
       "      <td>1</td>\n",
       "      <td>4024</td>\n",
       "      <td>36.0</td>\n",
       "      <td>1</td>\n",
       "      <td>0</td>\n",
       "      <td>F</td>\n",
       "      <td>сотрудник</td>\n",
       "      <td>0</td>\n",
       "      <td>112080</td>\n",
       "      <td>приобретение автомобиля</td>\n",
       "      <td>C</td>\n",
       "    </tr>\n",
       "    <tr>\n",
       "      <th>2</th>\n",
       "      <td>0</td>\n",
       "      <td>5623</td>\n",
       "      <td>33.0</td>\n",
       "      <td>1</td>\n",
       "      <td>0</td>\n",
       "      <td>M</td>\n",
       "      <td>сотрудник</td>\n",
       "      <td>0</td>\n",
       "      <td>145885</td>\n",
       "      <td>покупка жилья</td>\n",
       "      <td>C</td>\n",
       "    </tr>\n",
       "    <tr>\n",
       "      <th>3</th>\n",
       "      <td>3</td>\n",
       "      <td>4124</td>\n",
       "      <td>32.0</td>\n",
       "      <td>1</td>\n",
       "      <td>0</td>\n",
       "      <td>M</td>\n",
       "      <td>сотрудник</td>\n",
       "      <td>0</td>\n",
       "      <td>267628</td>\n",
       "      <td>дополнительное образование</td>\n",
       "      <td>B</td>\n",
       "    </tr>\n",
       "    <tr>\n",
       "      <th>4</th>\n",
       "      <td>0</td>\n",
       "      <td>340266</td>\n",
       "      <td>53.0</td>\n",
       "      <td>1</td>\n",
       "      <td>1</td>\n",
       "      <td>F</td>\n",
       "      <td>пенсионер</td>\n",
       "      <td>0</td>\n",
       "      <td>158616</td>\n",
       "      <td>сыграть свадьбу</td>\n",
       "      <td>C</td>\n",
       "    </tr>\n",
       "    <tr>\n",
       "      <th>5</th>\n",
       "      <td>0</td>\n",
       "      <td>926</td>\n",
       "      <td>27.0</td>\n",
       "      <td>0</td>\n",
       "      <td>1</td>\n",
       "      <td>M</td>\n",
       "      <td>компаньон</td>\n",
       "      <td>0</td>\n",
       "      <td>255763</td>\n",
       "      <td>покупка жилья</td>\n",
       "      <td>B</td>\n",
       "    </tr>\n",
       "    <tr>\n",
       "      <th>6</th>\n",
       "      <td>0</td>\n",
       "      <td>2879</td>\n",
       "      <td>43.0</td>\n",
       "      <td>0</td>\n",
       "      <td>0</td>\n",
       "      <td>F</td>\n",
       "      <td>компаньон</td>\n",
       "      <td>0</td>\n",
       "      <td>240525</td>\n",
       "      <td>операции с жильем</td>\n",
       "      <td>B</td>\n",
       "    </tr>\n",
       "    <tr>\n",
       "      <th>7</th>\n",
       "      <td>0</td>\n",
       "      <td>152</td>\n",
       "      <td>50.0</td>\n",
       "      <td>1</td>\n",
       "      <td>0</td>\n",
       "      <td>M</td>\n",
       "      <td>сотрудник</td>\n",
       "      <td>0</td>\n",
       "      <td>135823</td>\n",
       "      <td>образование</td>\n",
       "      <td>C</td>\n",
       "    </tr>\n",
       "    <tr>\n",
       "      <th>8</th>\n",
       "      <td>2</td>\n",
       "      <td>6929</td>\n",
       "      <td>35.0</td>\n",
       "      <td>0</td>\n",
       "      <td>1</td>\n",
       "      <td>F</td>\n",
       "      <td>сотрудник</td>\n",
       "      <td>0</td>\n",
       "      <td>95856</td>\n",
       "      <td>на проведение свадьбы</td>\n",
       "      <td>C</td>\n",
       "    </tr>\n",
       "    <tr>\n",
       "      <th>9</th>\n",
       "      <td>0</td>\n",
       "      <td>2188</td>\n",
       "      <td>41.0</td>\n",
       "      <td>1</td>\n",
       "      <td>0</td>\n",
       "      <td>M</td>\n",
       "      <td>сотрудник</td>\n",
       "      <td>0</td>\n",
       "      <td>144425</td>\n",
       "      <td>покупка жилья для семьи</td>\n",
       "      <td>C</td>\n",
       "    </tr>\n",
       "  </tbody>\n",
       "</table>\n",
       "</div>"
      ],
      "text/plain": [
       "   children  days_employed  dob_years  education_id  family_status_id gender  \\\n",
       "0         1           8437       42.0             0                 0      F   \n",
       "1         1           4024       36.0             1                 0      F   \n",
       "2         0           5623       33.0             1                 0      M   \n",
       "3         3           4124       32.0             1                 0      M   \n",
       "4         0         340266       53.0             1                 1      F   \n",
       "5         0            926       27.0             0                 1      M   \n",
       "6         0           2879       43.0             0                 0      F   \n",
       "7         0            152       50.0             1                 0      M   \n",
       "8         2           6929       35.0             0                 1      F   \n",
       "9         0           2188       41.0             1                 0      M   \n",
       "\n",
       "  income_type  debt  total_income                     purpose  \\\n",
       "0   сотрудник     0        253875               покупка жилья   \n",
       "1   сотрудник     0        112080     приобретение автомобиля   \n",
       "2   сотрудник     0        145885               покупка жилья   \n",
       "3   сотрудник     0        267628  дополнительное образование   \n",
       "4   пенсионер     0        158616             сыграть свадьбу   \n",
       "5   компаньон     0        255763               покупка жилья   \n",
       "6   компаньон     0        240525           операции с жильем   \n",
       "7   сотрудник     0        135823                 образование   \n",
       "8   сотрудник     0         95856       на проведение свадьбы   \n",
       "9   сотрудник     0        144425     покупка жилья для семьи   \n",
       "\n",
       "  total_income_category  \n",
       "0                     B  \n",
       "1                     C  \n",
       "2                     C  \n",
       "3                     B  \n",
       "4                     C  \n",
       "5                     B  \n",
       "6                     B  \n",
       "7                     C  \n",
       "8                     C  \n",
       "9                     C  "
      ]
     },
     "metadata": {},
     "output_type": "display_data"
    }
   ],
   "source": [
    "data['total_income_category']=data['total_income'].apply(total_income_category)\n",
    "display(data.head(10))"
   ]
  },
  {
   "cell_type": "markdown",
   "id": "fd035dae",
   "metadata": {},
   "source": [
    "Отлично! Мы корректно добавили новый столбец к датафрейму. "
   ]
  },
  {
   "cell_type": "markdown",
   "id": "562f6b1e",
   "metadata": {},
   "source": [
    "Категоризируем **purpose**: при текущем формате записи данные неудобно группировать. "
   ]
  },
  {
   "cell_type": "code",
   "execution_count": 45,
   "id": "4c2a17fd",
   "metadata": {},
   "outputs": [
    {
     "data": {
      "text/html": [
       "<div>\n",
       "<style scoped>\n",
       "    .dataframe tbody tr th:only-of-type {\n",
       "        vertical-align: middle;\n",
       "    }\n",
       "\n",
       "    .dataframe tbody tr th {\n",
       "        vertical-align: top;\n",
       "    }\n",
       "\n",
       "    .dataframe thead th {\n",
       "        text-align: right;\n",
       "    }\n",
       "</style>\n",
       "<table border=\"1\" class=\"dataframe\">\n",
       "  <thead>\n",
       "    <tr style=\"text-align: right;\">\n",
       "      <th></th>\n",
       "      <th>children</th>\n",
       "      <th>days_employed</th>\n",
       "      <th>dob_years</th>\n",
       "      <th>education_id</th>\n",
       "      <th>family_status_id</th>\n",
       "      <th>gender</th>\n",
       "      <th>income_type</th>\n",
       "      <th>debt</th>\n",
       "      <th>total_income</th>\n",
       "      <th>total_income_category</th>\n",
       "      <th>purpose_group</th>\n",
       "    </tr>\n",
       "  </thead>\n",
       "  <tbody>\n",
       "    <tr>\n",
       "      <th>0</th>\n",
       "      <td>1</td>\n",
       "      <td>8437</td>\n",
       "      <td>42.0</td>\n",
       "      <td>0</td>\n",
       "      <td>0</td>\n",
       "      <td>F</td>\n",
       "      <td>сотрудник</td>\n",
       "      <td>0</td>\n",
       "      <td>253875</td>\n",
       "      <td>B</td>\n",
       "      <td>операции с недвижимостью</td>\n",
       "    </tr>\n",
       "    <tr>\n",
       "      <th>1</th>\n",
       "      <td>1</td>\n",
       "      <td>4024</td>\n",
       "      <td>36.0</td>\n",
       "      <td>1</td>\n",
       "      <td>0</td>\n",
       "      <td>F</td>\n",
       "      <td>сотрудник</td>\n",
       "      <td>0</td>\n",
       "      <td>112080</td>\n",
       "      <td>C</td>\n",
       "      <td>операции с автомобилем</td>\n",
       "    </tr>\n",
       "    <tr>\n",
       "      <th>2</th>\n",
       "      <td>0</td>\n",
       "      <td>5623</td>\n",
       "      <td>33.0</td>\n",
       "      <td>1</td>\n",
       "      <td>0</td>\n",
       "      <td>M</td>\n",
       "      <td>сотрудник</td>\n",
       "      <td>0</td>\n",
       "      <td>145885</td>\n",
       "      <td>C</td>\n",
       "      <td>операции с недвижимостью</td>\n",
       "    </tr>\n",
       "    <tr>\n",
       "      <th>3</th>\n",
       "      <td>3</td>\n",
       "      <td>4124</td>\n",
       "      <td>32.0</td>\n",
       "      <td>1</td>\n",
       "      <td>0</td>\n",
       "      <td>M</td>\n",
       "      <td>сотрудник</td>\n",
       "      <td>0</td>\n",
       "      <td>267628</td>\n",
       "      <td>B</td>\n",
       "      <td>получение образования</td>\n",
       "    </tr>\n",
       "    <tr>\n",
       "      <th>4</th>\n",
       "      <td>0</td>\n",
       "      <td>340266</td>\n",
       "      <td>53.0</td>\n",
       "      <td>1</td>\n",
       "      <td>1</td>\n",
       "      <td>F</td>\n",
       "      <td>пенсионер</td>\n",
       "      <td>0</td>\n",
       "      <td>158616</td>\n",
       "      <td>C</td>\n",
       "      <td>проведение свадьбы</td>\n",
       "    </tr>\n",
       "  </tbody>\n",
       "</table>\n",
       "</div>"
      ],
      "text/plain": [
       "   children  days_employed  dob_years  education_id  family_status_id gender  \\\n",
       "0         1           8437       42.0             0                 0      F   \n",
       "1         1           4024       36.0             1                 0      F   \n",
       "2         0           5623       33.0             1                 0      M   \n",
       "3         3           4124       32.0             1                 0      M   \n",
       "4         0         340266       53.0             1                 1      F   \n",
       "\n",
       "  income_type  debt  total_income total_income_category  \\\n",
       "0   сотрудник     0        253875                     B   \n",
       "1   сотрудник     0        112080                     C   \n",
       "2   сотрудник     0        145885                     C   \n",
       "3   сотрудник     0        267628                     B   \n",
       "4   пенсионер     0        158616                     C   \n",
       "\n",
       "              purpose_group  \n",
       "0  операции с недвижимостью  \n",
       "1    операции с автомобилем  \n",
       "2  операции с недвижимостью  \n",
       "3     получение образования  \n",
       "4        проведение свадьбы  "
      ]
     },
     "metadata": {},
     "output_type": "display_data"
    }
   ],
   "source": [
    "def purpose_group(purpose):\n",
    "    if 'свадьб' in purpose:\n",
    "        return 'проведение свадьбы'\n",
    "    elif 'жиль' in purpose or 'недвижимо' in purpose:\n",
    "        return 'операции с недвижимостью'\n",
    "    elif 'автомобил' in purpose:\n",
    "        return 'операции с автомобилем'\n",
    "    elif 'образовани'in purpose:\n",
    "        return 'получение образования'\n",
    "    else:\n",
    "        return 'прочие цели'\n",
    "data['purpose_group']=data['purpose'].apply(purpose_group)\n",
    "data = data.drop(columns=['purpose'])\n",
    "display(data.head()) "
   ]
  },
  {
   "cell_type": "markdown",
   "id": "af9efd4c",
   "metadata": {},
   "source": [
    "# Ответы на вопросы"
   ]
  },
  {
   "cell_type": "markdown",
   "id": "06e43906",
   "metadata": {},
   "source": [
    "## Вопрос 1: Есть ли зависимость между количеством детей и возвратом кредита в срок?"
   ]
  },
  {
   "cell_type": "code",
   "execution_count": 46,
   "id": "6dc9aa92",
   "metadata": {},
   "outputs": [
    {
     "data": {
      "text/html": [
       "<div>\n",
       "<style scoped>\n",
       "    .dataframe tbody tr th:only-of-type {\n",
       "        vertical-align: middle;\n",
       "    }\n",
       "\n",
       "    .dataframe tbody tr th {\n",
       "        vertical-align: top;\n",
       "    }\n",
       "\n",
       "    .dataframe thead tr th {\n",
       "        text-align: left;\n",
       "    }\n",
       "\n",
       "    .dataframe thead tr:last-of-type th {\n",
       "        text-align: right;\n",
       "    }\n",
       "</style>\n",
       "<table border=\"1\" class=\"dataframe\">\n",
       "  <thead>\n",
       "    <tr>\n",
       "      <th></th>\n",
       "      <th>sum</th>\n",
       "      <th>count</th>\n",
       "      <th>debt%</th>\n",
       "    </tr>\n",
       "    <tr>\n",
       "      <th></th>\n",
       "      <th>debt</th>\n",
       "      <th>debt</th>\n",
       "      <th></th>\n",
       "    </tr>\n",
       "    <tr>\n",
       "      <th>children</th>\n",
       "      <th></th>\n",
       "      <th></th>\n",
       "      <th></th>\n",
       "    </tr>\n",
       "  </thead>\n",
       "  <tbody>\n",
       "    <tr>\n",
       "      <th>0</th>\n",
       "      <td>1063</td>\n",
       "      <td>14089</td>\n",
       "      <td>0.075449</td>\n",
       "    </tr>\n",
       "    <tr>\n",
       "      <th>1</th>\n",
       "      <td>445</td>\n",
       "      <td>4855</td>\n",
       "      <td>0.091658</td>\n",
       "    </tr>\n",
       "    <tr>\n",
       "      <th>2</th>\n",
       "      <td>202</td>\n",
       "      <td>2128</td>\n",
       "      <td>0.094925</td>\n",
       "    </tr>\n",
       "    <tr>\n",
       "      <th>3</th>\n",
       "      <td>27</td>\n",
       "      <td>330</td>\n",
       "      <td>0.081818</td>\n",
       "    </tr>\n",
       "    <tr>\n",
       "      <th>4</th>\n",
       "      <td>4</td>\n",
       "      <td>41</td>\n",
       "      <td>0.097561</td>\n",
       "    </tr>\n",
       "    <tr>\n",
       "      <th>5</th>\n",
       "      <td>0</td>\n",
       "      <td>9</td>\n",
       "      <td>0.000000</td>\n",
       "    </tr>\n",
       "  </tbody>\n",
       "</table>\n",
       "</div>"
      ],
      "text/plain": [
       "           sum  count     debt%\n",
       "          debt   debt          \n",
       "children                       \n",
       "0         1063  14089  0.075449\n",
       "1          445   4855  0.091658\n",
       "2          202   2128  0.094925\n",
       "3           27    330  0.081818\n",
       "4            4     41  0.097561\n",
       "5            0      9  0.000000"
      ]
     },
     "metadata": {},
     "output_type": "display_data"
    }
   ],
   "source": [
    "data_pivot_children = data.pivot_table(index='children', values='debt', aggfunc=['sum','count'])\n",
    "data_pivot_children.reset_index()\n",
    "data_pivot_children['debt%']=data_pivot_children['sum']/data_pivot_children['count']\n",
    "display(data_pivot_children)"
   ]
  },
  {
   "cell_type": "markdown",
   "id": "a7e53798",
   "metadata": {},
   "source": [
    "**Ответ**: Исходя из данных таблицы выше нет зависимости между количеством детей в семье и возвратом кредита в срок. \n",
    "*Несмотря на вывод выше, отдельно были подсчитаны доверительные интервалы для групп заемщиков с детьми (8,55%-9,87%) и без детей (7,11%-7,98%), и, так как интервалы не пересекаются, предварительно можно сделать вывод, что есть корреляция между наличием детей и задержкой в возврате кредита, хотя и нельзя говорить о прямой причинно-следственной связи."
   ]
  },
  {
   "cell_type": "markdown",
   "id": "70a89b61",
   "metadata": {},
   "source": [
    "## Вопрос 2: Есть ли зависимость между семейным положением и возвратом кредита в срок?"
   ]
  },
  {
   "cell_type": "code",
   "execution_count": 47,
   "id": "7bbd4637",
   "metadata": {},
   "outputs": [
    {
     "data": {
      "text/html": [
       "<div>\n",
       "<style scoped>\n",
       "    .dataframe tbody tr th:only-of-type {\n",
       "        vertical-align: middle;\n",
       "    }\n",
       "\n",
       "    .dataframe tbody tr th {\n",
       "        vertical-align: top;\n",
       "    }\n",
       "\n",
       "    .dataframe thead tr th {\n",
       "        text-align: left;\n",
       "    }\n",
       "\n",
       "    .dataframe thead tr:last-of-type th {\n",
       "        text-align: right;\n",
       "    }\n",
       "</style>\n",
       "<table border=\"1\" class=\"dataframe\">\n",
       "  <thead>\n",
       "    <tr>\n",
       "      <th></th>\n",
       "      <th>sum</th>\n",
       "      <th>count</th>\n",
       "      <th>debt%</th>\n",
       "    </tr>\n",
       "    <tr>\n",
       "      <th></th>\n",
       "      <th>debt</th>\n",
       "      <th>debt</th>\n",
       "      <th></th>\n",
       "    </tr>\n",
       "    <tr>\n",
       "      <th>family_status_id</th>\n",
       "      <th></th>\n",
       "      <th></th>\n",
       "      <th></th>\n",
       "    </tr>\n",
       "  </thead>\n",
       "  <tbody>\n",
       "    <tr>\n",
       "      <th>0</th>\n",
       "      <td>931</td>\n",
       "      <td>12339</td>\n",
       "      <td>0.075452</td>\n",
       "    </tr>\n",
       "    <tr>\n",
       "      <th>1</th>\n",
       "      <td>388</td>\n",
       "      <td>4149</td>\n",
       "      <td>0.093517</td>\n",
       "    </tr>\n",
       "    <tr>\n",
       "      <th>2</th>\n",
       "      <td>63</td>\n",
       "      <td>959</td>\n",
       "      <td>0.065693</td>\n",
       "    </tr>\n",
       "    <tr>\n",
       "      <th>3</th>\n",
       "      <td>85</td>\n",
       "      <td>1195</td>\n",
       "      <td>0.071130</td>\n",
       "    </tr>\n",
       "    <tr>\n",
       "      <th>4</th>\n",
       "      <td>274</td>\n",
       "      <td>2810</td>\n",
       "      <td>0.097509</td>\n",
       "    </tr>\n",
       "  </tbody>\n",
       "</table>\n",
       "</div>"
      ],
      "text/plain": [
       "                  sum  count     debt%\n",
       "                 debt   debt          \n",
       "family_status_id                      \n",
       "0                 931  12339  0.075452\n",
       "1                 388   4149  0.093517\n",
       "2                  63    959  0.065693\n",
       "3                  85   1195  0.071130\n",
       "4                 274   2810  0.097509"
      ]
     },
     "metadata": {},
     "output_type": "display_data"
    }
   ],
   "source": [
    "data_pivot_family = data.pivot_table(index='family_status_id', values='debt', aggfunc=['sum','count'])\n",
    "data_pivot_family.reset_index()\n",
    "data_pivot_family['debt%']=data_pivot_family['sum']/data_pivot_family['count']\n",
    "display(data_pivot_family)"
   ]
  },
  {
   "cell_type": "markdown",
   "id": "c6b3d0cf",
   "metadata": {},
   "source": [
    "**Ответ**: риск невозврата кредита в срок выше у групп с id 1 (**гражданский брак**) и 4 (**не женат/ не замужем**)."
   ]
  },
  {
   "cell_type": "markdown",
   "id": "0d97fc79",
   "metadata": {},
   "source": [
    "## Вопрос 3: Есть ли зависимость между уровнем дохода и возвратом кредита в срок?"
   ]
  },
  {
   "cell_type": "code",
   "execution_count": 48,
   "id": "800b4f3e",
   "metadata": {},
   "outputs": [
    {
     "data": {
      "text/html": [
       "<div>\n",
       "<style scoped>\n",
       "    .dataframe tbody tr th:only-of-type {\n",
       "        vertical-align: middle;\n",
       "    }\n",
       "\n",
       "    .dataframe tbody tr th {\n",
       "        vertical-align: top;\n",
       "    }\n",
       "\n",
       "    .dataframe thead tr th {\n",
       "        text-align: left;\n",
       "    }\n",
       "\n",
       "    .dataframe thead tr:last-of-type th {\n",
       "        text-align: right;\n",
       "    }\n",
       "</style>\n",
       "<table border=\"1\" class=\"dataframe\">\n",
       "  <thead>\n",
       "    <tr>\n",
       "      <th></th>\n",
       "      <th>sum</th>\n",
       "      <th>count</th>\n",
       "      <th>debt%</th>\n",
       "    </tr>\n",
       "    <tr>\n",
       "      <th></th>\n",
       "      <th>debt</th>\n",
       "      <th>debt</th>\n",
       "      <th></th>\n",
       "    </tr>\n",
       "    <tr>\n",
       "      <th>total_income_category</th>\n",
       "      <th></th>\n",
       "      <th></th>\n",
       "      <th></th>\n",
       "    </tr>\n",
       "  </thead>\n",
       "  <tbody>\n",
       "    <tr>\n",
       "      <th>A</th>\n",
       "      <td>2</td>\n",
       "      <td>25</td>\n",
       "      <td>0.080000</td>\n",
       "    </tr>\n",
       "    <tr>\n",
       "      <th>B</th>\n",
       "      <td>356</td>\n",
       "      <td>5041</td>\n",
       "      <td>0.070621</td>\n",
       "    </tr>\n",
       "    <tr>\n",
       "      <th>C</th>\n",
       "      <td>1360</td>\n",
       "      <td>16014</td>\n",
       "      <td>0.084926</td>\n",
       "    </tr>\n",
       "    <tr>\n",
       "      <th>D</th>\n",
       "      <td>21</td>\n",
       "      <td>350</td>\n",
       "      <td>0.060000</td>\n",
       "    </tr>\n",
       "    <tr>\n",
       "      <th>E</th>\n",
       "      <td>2</td>\n",
       "      <td>22</td>\n",
       "      <td>0.090909</td>\n",
       "    </tr>\n",
       "  </tbody>\n",
       "</table>\n",
       "</div>"
      ],
      "text/plain": [
       "                        sum  count     debt%\n",
       "                       debt   debt          \n",
       "total_income_category                       \n",
       "A                         2     25  0.080000\n",
       "B                       356   5041  0.070621\n",
       "C                      1360  16014  0.084926\n",
       "D                        21    350  0.060000\n",
       "E                         2     22  0.090909"
      ]
     },
     "metadata": {},
     "output_type": "display_data"
    }
   ],
   "source": [
    "data_pivot_income = data.pivot_table(index='total_income_category', values='debt', aggfunc=['sum','count'])\n",
    "data_pivot_income.reset_index()\n",
    "data_pivot_income['debt%']=data_pivot_income['sum']/data_pivot_income['count']\n",
    "display(data_pivot_income)"
   ]
  },
  {
   "cell_type": "markdown",
   "id": "f72fd776",
   "metadata": {},
   "source": [
    "**Ответ**: заемщики с уровнем дохода **D**, или от 30.001,0р до 50.000,0р, с наибольшей вероятностью возвращают кредит в срок. \n",
    "*Однако, следует отметить, что доверительный интервал у группы заемщиков **D** составляет 3,51% – 8,49%, поэтому для того, чтобы с увернностью утверждать о надежности заемщиков **D**, следует накопить больше данных о них. "
   ]
  },
  {
   "cell_type": "markdown",
   "id": "75632995",
   "metadata": {},
   "source": [
    "## Вопрос 4: Как разные цели кредита влияют на его возврат в срок?"
   ]
  },
  {
   "cell_type": "code",
   "execution_count": 49,
   "id": "94c1a318",
   "metadata": {},
   "outputs": [
    {
     "data": {
      "text/html": [
       "<div>\n",
       "<style scoped>\n",
       "    .dataframe tbody tr th:only-of-type {\n",
       "        vertical-align: middle;\n",
       "    }\n",
       "\n",
       "    .dataframe tbody tr th {\n",
       "        vertical-align: top;\n",
       "    }\n",
       "\n",
       "    .dataframe thead tr th {\n",
       "        text-align: left;\n",
       "    }\n",
       "\n",
       "    .dataframe thead tr:last-of-type th {\n",
       "        text-align: right;\n",
       "    }\n",
       "</style>\n",
       "<table border=\"1\" class=\"dataframe\">\n",
       "  <thead>\n",
       "    <tr>\n",
       "      <th></th>\n",
       "      <th>sum</th>\n",
       "      <th>count</th>\n",
       "      <th>debt%</th>\n",
       "    </tr>\n",
       "    <tr>\n",
       "      <th></th>\n",
       "      <th>debt</th>\n",
       "      <th>debt</th>\n",
       "      <th></th>\n",
       "    </tr>\n",
       "    <tr>\n",
       "      <th>purpose_group</th>\n",
       "      <th></th>\n",
       "      <th></th>\n",
       "      <th></th>\n",
       "    </tr>\n",
       "  </thead>\n",
       "  <tbody>\n",
       "    <tr>\n",
       "      <th>операции с автомобилем</th>\n",
       "      <td>403</td>\n",
       "      <td>4306</td>\n",
       "      <td>0.093590</td>\n",
       "    </tr>\n",
       "    <tr>\n",
       "      <th>операции с недвижимостью</th>\n",
       "      <td>782</td>\n",
       "      <td>10810</td>\n",
       "      <td>0.072340</td>\n",
       "    </tr>\n",
       "    <tr>\n",
       "      <th>получение образования</th>\n",
       "      <td>370</td>\n",
       "      <td>4013</td>\n",
       "      <td>0.092200</td>\n",
       "    </tr>\n",
       "    <tr>\n",
       "      <th>проведение свадьбы</th>\n",
       "      <td>186</td>\n",
       "      <td>2323</td>\n",
       "      <td>0.080069</td>\n",
       "    </tr>\n",
       "  </tbody>\n",
       "</table>\n",
       "</div>"
      ],
      "text/plain": [
       "                          sum  count     debt%\n",
       "                         debt   debt          \n",
       "purpose_group                                 \n",
       "операции с автомобилем    403   4306  0.093590\n",
       "операции с недвижимостью  782  10810  0.072340\n",
       "получение образования     370   4013  0.092200\n",
       "проведение свадьбы        186   2323  0.080069"
      ]
     },
     "metadata": {},
     "output_type": "display_data"
    }
   ],
   "source": [
    "data_pivot_purpose = data.pivot_table(index='purpose_group', values='debt', aggfunc=['sum','count'])\n",
    "data_pivot_purpose.reset_index()\n",
    "data_pivot_purpose['debt%']=data_pivot_purpose['sum']/data_pivot_purpose['count']\n",
    "display(data_pivot_purpose)"
   ]
  },
  {
   "cell_type": "markdown",
   "id": "3c0fd377",
   "metadata": {},
   "source": [
    "**Ответ**: Заемщики чаще выплачивают кредиты в срок в том случае, если кредит взят под **операции с недвижимостью** и **проведение свадьбы**"
   ]
  },
  {
   "cell_type": "markdown",
   "id": "8a9c08cb",
   "metadata": {},
   "source": [
    "# Общий вывод:"
   ]
  },
  {
   "cell_type": "markdown",
   "id": "b6b495db",
   "metadata": {},
   "source": [
    "Проведя комплексное исследование надежности заемщиков, можем сделать вывод:\n",
    "- по итогам анализа каждой из 4 гипотез были обнаружены зависимости,\n",
    "- требуется изучить теорию о доверительных интервалах, чтобы лучше понимать, существует ли корреляция данных или нет."
   ]
  }
 ],
 "metadata": {
  "ExecuteTimeLog": [
   {
    "duration": 52,
    "start_time": "2022-02-17T19:26:31.756Z"
   },
   {
    "duration": 822,
    "start_time": "2022-02-17T19:26:43.909Z"
   },
   {
    "duration": 48,
    "start_time": "2022-02-17T19:27:16.572Z"
   },
   {
    "duration": 44,
    "start_time": "2022-02-17T19:29:45.897Z"
   },
   {
    "duration": 57,
    "start_time": "2022-02-17T19:29:56.654Z"
   },
   {
    "duration": 411,
    "start_time": "2022-02-17T21:30:58.634Z"
   },
   {
    "duration": 1129,
    "start_time": "2022-02-17T21:31:13.142Z"
   },
   {
    "duration": 14,
    "start_time": "2022-02-17T21:31:16.578Z"
   },
   {
    "duration": 11,
    "start_time": "2022-02-17T21:32:17.380Z"
   },
   {
    "duration": 99,
    "start_time": "2022-02-17T21:35:20.085Z"
   },
   {
    "duration": 113,
    "start_time": "2022-02-17T21:35:28.320Z"
   },
   {
    "duration": 5,
    "start_time": "2022-02-17T21:35:35.220Z"
   },
   {
    "duration": 5,
    "start_time": "2022-02-17T21:35:50.383Z"
   },
   {
    "duration": 8,
    "start_time": "2022-02-17T21:42:59.203Z"
   },
   {
    "duration": 11,
    "start_time": "2022-02-17T21:43:18.794Z"
   },
   {
    "duration": 8,
    "start_time": "2022-02-17T21:43:31.302Z"
   },
   {
    "duration": 9,
    "start_time": "2022-02-17T21:43:43.478Z"
   },
   {
    "duration": 9,
    "start_time": "2022-02-17T21:44:00.630Z"
   },
   {
    "duration": 15,
    "start_time": "2022-02-17T21:44:10.363Z"
   },
   {
    "duration": 6,
    "start_time": "2022-02-17T21:44:23.994Z"
   },
   {
    "duration": 8,
    "start_time": "2022-02-17T21:44:31.692Z"
   },
   {
    "duration": 9,
    "start_time": "2022-02-17T21:44:42.337Z"
   },
   {
    "duration": 9,
    "start_time": "2022-02-17T21:44:56.197Z"
   },
   {
    "duration": 13,
    "start_time": "2022-02-17T21:45:03.503Z"
   },
   {
    "duration": 9,
    "start_time": "2022-02-17T21:45:12.609Z"
   },
   {
    "duration": 7,
    "start_time": "2022-02-17T21:45:51.038Z"
   },
   {
    "duration": 10,
    "start_time": "2022-02-17T21:46:38.484Z"
   },
   {
    "duration": 17,
    "start_time": "2022-02-17T21:46:59.653Z"
   },
   {
    "duration": 610,
    "start_time": "2022-02-17T21:48:21.504Z"
   },
   {
    "duration": 6,
    "start_time": "2022-02-17T21:48:26.388Z"
   },
   {
    "duration": 8,
    "start_time": "2022-02-17T21:48:34.382Z"
   },
   {
    "duration": 6,
    "start_time": "2022-02-17T21:48:43.952Z"
   },
   {
    "duration": 5,
    "start_time": "2022-02-17T21:51:52.344Z"
   },
   {
    "duration": 11,
    "start_time": "2022-02-17T21:52:13.287Z"
   },
   {
    "duration": 9,
    "start_time": "2022-02-17T21:52:40.926Z"
   },
   {
    "duration": 5,
    "start_time": "2022-02-17T21:52:43.397Z"
   },
   {
    "duration": 7,
    "start_time": "2022-02-17T21:54:38.076Z"
   },
   {
    "duration": 8,
    "start_time": "2022-02-17T21:54:40.708Z"
   },
   {
    "duration": 7,
    "start_time": "2022-02-17T21:56:00.987Z"
   },
   {
    "duration": 170,
    "start_time": "2022-02-19T14:47:37.843Z"
   },
   {
    "duration": 637,
    "start_time": "2022-02-19T14:47:45.036Z"
   },
   {
    "duration": 7,
    "start_time": "2022-02-19T14:47:48.259Z"
   },
   {
    "duration": 12,
    "start_time": "2022-02-19T14:47:54.732Z"
   },
   {
    "duration": 5,
    "start_time": "2022-02-19T14:48:02.516Z"
   },
   {
    "duration": 21,
    "start_time": "2022-02-19T14:49:08.667Z"
   },
   {
    "duration": 16,
    "start_time": "2022-02-19T14:55:01.540Z"
   },
   {
    "duration": 13,
    "start_time": "2022-02-19T14:55:15.229Z"
   },
   {
    "duration": 161,
    "start_time": "2022-02-19T15:22:31.205Z"
   },
   {
    "duration": 292,
    "start_time": "2022-02-19T15:22:49.488Z"
   },
   {
    "duration": 52,
    "start_time": "2022-02-19T15:22:58.684Z"
   },
   {
    "duration": 3436,
    "start_time": "2022-02-19T15:23:01.557Z"
   },
   {
    "duration": 7,
    "start_time": "2022-02-19T15:23:17.806Z"
   },
   {
    "duration": 3518,
    "start_time": "2022-02-19T16:40:08.560Z"
   },
   {
    "duration": 56,
    "start_time": "2022-02-19T16:40:12.320Z"
   },
   {
    "duration": 5,
    "start_time": "2022-02-19T16:40:15.766Z"
   },
   {
    "duration": 13,
    "start_time": "2022-02-19T16:40:18.162Z"
   },
   {
    "duration": 3269,
    "start_time": "2022-02-19T16:40:20.666Z"
   },
   {
    "duration": 10,
    "start_time": "2022-02-19T16:42:49.539Z"
   },
   {
    "duration": 13,
    "start_time": "2022-02-19T16:43:03.295Z"
   },
   {
    "duration": 5,
    "start_time": "2022-02-19T16:43:37.027Z"
   },
   {
    "duration": 10,
    "start_time": "2022-02-19T16:47:27.869Z"
   },
   {
    "duration": 9,
    "start_time": "2022-02-19T16:48:34.022Z"
   },
   {
    "duration": 301,
    "start_time": "2022-02-19T16:48:49.488Z"
   },
   {
    "duration": 6,
    "start_time": "2022-02-19T16:49:07.098Z"
   },
   {
    "duration": 3534,
    "start_time": "2022-02-19T16:49:09.281Z"
   },
   {
    "duration": 13,
    "start_time": "2022-02-19T16:49:18.834Z"
   },
   {
    "duration": 14,
    "start_time": "2022-02-19T16:53:27.899Z"
   },
   {
    "duration": 4,
    "start_time": "2022-02-19T16:54:37.344Z"
   },
   {
    "duration": 11,
    "start_time": "2022-02-19T16:55:09.911Z"
   },
   {
    "duration": 15,
    "start_time": "2022-02-19T17:16:41.685Z"
   },
   {
    "duration": 13,
    "start_time": "2022-02-19T17:16:51.382Z"
   },
   {
    "duration": 4,
    "start_time": "2022-02-19T17:19:20.751Z"
   },
   {
    "duration": 12,
    "start_time": "2022-02-19T17:19:23.209Z"
   },
   {
    "duration": 53,
    "start_time": "2022-02-19T17:31:00.291Z"
   },
   {
    "duration": 5,
    "start_time": "2022-02-19T17:31:04.439Z"
   },
   {
    "duration": 18,
    "start_time": "2022-02-19T17:31:05.991Z"
   },
   {
    "duration": 5,
    "start_time": "2022-02-19T17:31:08.280Z"
   },
   {
    "duration": 14,
    "start_time": "2022-02-19T17:31:09.874Z"
   },
   {
    "duration": 14,
    "start_time": "2022-02-19T17:31:11.629Z"
   },
   {
    "duration": 6,
    "start_time": "2022-02-19T17:31:13.468Z"
   },
   {
    "duration": 6,
    "start_time": "2022-02-19T17:31:15.239Z"
   },
   {
    "duration": 15,
    "start_time": "2022-02-19T17:31:16.928Z"
   },
   {
    "duration": 1231,
    "start_time": "2022-02-19T17:31:20.580Z"
   },
   {
    "duration": 26,
    "start_time": "2022-02-19T17:31:33.309Z"
   },
   {
    "duration": 17,
    "start_time": "2022-02-19T17:31:55.133Z"
   },
   {
    "duration": 17,
    "start_time": "2022-02-19T17:34:23.606Z"
   },
   {
    "duration": 16,
    "start_time": "2022-02-19T17:35:20.228Z"
   },
   {
    "duration": 5,
    "start_time": "2022-02-19T17:35:24.894Z"
   },
   {
    "duration": 5,
    "start_time": "2022-02-19T17:35:27.933Z"
   },
   {
    "duration": 4,
    "start_time": "2022-02-19T17:35:36.098Z"
   },
   {
    "duration": 30,
    "start_time": "2022-02-19T17:35:38.000Z"
   },
   {
    "duration": 134,
    "start_time": "2022-02-19T17:41:51.538Z"
   },
   {
    "duration": 5,
    "start_time": "2022-02-19T17:42:07.592Z"
   },
   {
    "duration": 12,
    "start_time": "2022-02-19T17:42:19.993Z"
   },
   {
    "duration": 14,
    "start_time": "2022-02-19T17:52:45.576Z"
   },
   {
    "duration": 5,
    "start_time": "2022-02-19T17:54:09.333Z"
   },
   {
    "duration": 4,
    "start_time": "2022-02-19T17:56:13.670Z"
   },
   {
    "duration": 6,
    "start_time": "2022-02-19T17:56:29.397Z"
   },
   {
    "duration": 8,
    "start_time": "2022-02-19T18:00:56.047Z"
   },
   {
    "duration": 11,
    "start_time": "2022-02-19T18:01:17.670Z"
   },
   {
    "duration": 6,
    "start_time": "2022-02-19T18:02:10.419Z"
   },
   {
    "duration": 12,
    "start_time": "2022-02-19T18:02:12.772Z"
   },
   {
    "duration": 5,
    "start_time": "2022-02-19T18:03:45.520Z"
   },
   {
    "duration": 12,
    "start_time": "2022-02-19T18:03:48.056Z"
   },
   {
    "duration": 7,
    "start_time": "2022-02-19T18:04:22.888Z"
   },
   {
    "duration": 4,
    "start_time": "2022-02-19T18:04:36.206Z"
   },
   {
    "duration": 11,
    "start_time": "2022-02-19T18:04:37.893Z"
   },
   {
    "duration": 6,
    "start_time": "2022-02-19T18:04:41.499Z"
   },
   {
    "duration": 50,
    "start_time": "2022-02-19T18:05:27.573Z"
   },
   {
    "duration": 14,
    "start_time": "2022-02-19T18:05:29.078Z"
   },
   {
    "duration": 4,
    "start_time": "2022-02-19T18:05:35.091Z"
   },
   {
    "duration": 12,
    "start_time": "2022-02-19T18:05:36.804Z"
   },
   {
    "duration": 6,
    "start_time": "2022-02-19T18:05:38.314Z"
   },
   {
    "duration": 13,
    "start_time": "2022-02-19T18:05:41.084Z"
   },
   {
    "duration": 15,
    "start_time": "2022-02-19T18:05:44.281Z"
   },
   {
    "duration": 5,
    "start_time": "2022-02-19T18:05:46.588Z"
   },
   {
    "duration": 6,
    "start_time": "2022-02-19T18:05:47.689Z"
   },
   {
    "duration": 15,
    "start_time": "2022-02-19T18:05:48.248Z"
   },
   {
    "duration": 19,
    "start_time": "2022-02-19T18:05:52.212Z"
   },
   {
    "duration": 6,
    "start_time": "2022-02-19T18:05:54.813Z"
   },
   {
    "duration": 18,
    "start_time": "2022-02-19T18:05:55.901Z"
   },
   {
    "duration": 7,
    "start_time": "2022-02-19T18:05:59.344Z"
   },
   {
    "duration": 19,
    "start_time": "2022-02-19T18:06:00.070Z"
   },
   {
    "duration": 6,
    "start_time": "2022-02-19T18:06:03.678Z"
   },
   {
    "duration": 10,
    "start_time": "2022-02-19T18:06:10.990Z"
   },
   {
    "duration": 6,
    "start_time": "2022-02-19T18:07:25.715Z"
   },
   {
    "duration": 6,
    "start_time": "2022-02-19T18:07:42.775Z"
   },
   {
    "duration": 6,
    "start_time": "2022-02-19T18:08:13.631Z"
   },
   {
    "duration": 5,
    "start_time": "2022-02-19T18:08:40.265Z"
   },
   {
    "duration": 8,
    "start_time": "2022-02-19T18:08:58.494Z"
   },
   {
    "duration": 45,
    "start_time": "2022-02-19T18:14:52.614Z"
   },
   {
    "duration": 7,
    "start_time": "2022-02-19T18:15:06.453Z"
   },
   {
    "duration": 15,
    "start_time": "2022-02-19T18:16:15.509Z"
   },
   {
    "duration": 23,
    "start_time": "2022-02-19T18:16:30.162Z"
   },
   {
    "duration": 26,
    "start_time": "2022-02-19T18:17:21.224Z"
   },
   {
    "duration": 22,
    "start_time": "2022-02-19T18:17:47.914Z"
   },
   {
    "duration": 20,
    "start_time": "2022-02-19T18:19:14.762Z"
   },
   {
    "duration": 8,
    "start_time": "2022-02-19T18:19:46.115Z"
   },
   {
    "duration": 45,
    "start_time": "2022-02-19T18:20:02.386Z"
   },
   {
    "duration": 8,
    "start_time": "2022-02-19T18:22:15.342Z"
   },
   {
    "duration": 4,
    "start_time": "2022-02-19T18:23:35.113Z"
   },
   {
    "duration": 5,
    "start_time": "2022-02-19T18:26:34.897Z"
   },
   {
    "duration": 12,
    "start_time": "2022-02-19T18:26:43.879Z"
   },
   {
    "duration": 20,
    "start_time": "2022-02-19T18:26:52.422Z"
   },
   {
    "duration": 7,
    "start_time": "2022-02-19T18:27:01.341Z"
   },
   {
    "duration": 6,
    "start_time": "2022-02-19T18:27:16.738Z"
   },
   {
    "duration": 7,
    "start_time": "2022-02-19T18:28:10.117Z"
   },
   {
    "duration": 6,
    "start_time": "2022-02-19T18:29:17.013Z"
   },
   {
    "duration": 5,
    "start_time": "2022-02-19T18:30:25.558Z"
   },
   {
    "duration": 20,
    "start_time": "2022-02-19T18:32:01.122Z"
   },
   {
    "duration": 12,
    "start_time": "2022-02-19T18:32:23.589Z"
   },
   {
    "duration": 7,
    "start_time": "2022-02-19T18:36:03.396Z"
   },
   {
    "duration": 14843,
    "start_time": "2022-02-19T18:36:03.405Z"
   },
   {
    "duration": 51,
    "start_time": "2022-02-19T18:36:18.250Z"
   },
   {
    "duration": 12,
    "start_time": "2022-02-19T18:36:18.303Z"
   },
   {
    "duration": 3,
    "start_time": "2022-02-19T18:36:19.508Z"
   },
   {
    "duration": 13,
    "start_time": "2022-02-19T18:36:19.894Z"
   },
   {
    "duration": 7,
    "start_time": "2022-02-19T18:36:20.675Z"
   },
   {
    "duration": 15,
    "start_time": "2022-02-19T18:36:21.400Z"
   },
   {
    "duration": 13,
    "start_time": "2022-02-19T18:36:22.455Z"
   },
   {
    "duration": 4,
    "start_time": "2022-02-19T18:36:23.190Z"
   },
   {
    "duration": 5,
    "start_time": "2022-02-19T18:36:23.894Z"
   },
   {
    "duration": 13,
    "start_time": "2022-02-19T18:36:24.279Z"
   },
   {
    "duration": 18,
    "start_time": "2022-02-19T18:36:25.208Z"
   },
   {
    "duration": 4,
    "start_time": "2022-02-19T18:36:26.105Z"
   },
   {
    "duration": 10,
    "start_time": "2022-02-19T18:36:27.244Z"
   },
   {
    "duration": 4,
    "start_time": "2022-02-19T18:36:28.617Z"
   },
   {
    "duration": 10,
    "start_time": "2022-02-19T18:36:29.159Z"
   },
   {
    "duration": 6,
    "start_time": "2022-02-19T18:36:30.880Z"
   },
   {
    "duration": 8,
    "start_time": "2022-02-19T18:36:32.337Z"
   },
   {
    "duration": 6,
    "start_time": "2022-02-19T18:36:34.071Z"
   },
   {
    "duration": 4,
    "start_time": "2022-02-19T18:36:37.687Z"
   },
   {
    "duration": 7,
    "start_time": "2022-02-19T18:36:41.803Z"
   },
   {
    "duration": 13,
    "start_time": "2022-02-19T18:36:44.804Z"
   },
   {
    "duration": 14933,
    "start_time": "2022-02-19T18:37:27.261Z"
   },
   {
    "duration": 14792,
    "start_time": "2022-02-19T18:38:31.634Z"
   },
   {
    "duration": 8,
    "start_time": "2022-02-19T18:40:38.279Z"
   },
   {
    "duration": 143,
    "start_time": "2022-02-19T18:45:00.100Z"
   },
   {
    "duration": 145,
    "start_time": "2022-02-19T18:45:18.408Z"
   },
   {
    "duration": 4,
    "start_time": "2022-02-19T18:45:26.442Z"
   },
   {
    "duration": 5,
    "start_time": "2022-02-19T18:45:37.654Z"
   },
   {
    "duration": 8,
    "start_time": "2022-02-19T18:45:57.627Z"
   },
   {
    "duration": 8,
    "start_time": "2022-02-19T18:46:05.992Z"
   },
   {
    "duration": 8,
    "start_time": "2022-02-19T18:46:28.755Z"
   },
   {
    "duration": 8,
    "start_time": "2022-02-19T18:47:00.868Z"
   },
   {
    "duration": 8,
    "start_time": "2022-02-19T18:47:14.968Z"
   },
   {
    "duration": 4,
    "start_time": "2022-02-19T18:47:33.887Z"
   },
   {
    "duration": 9,
    "start_time": "2022-02-19T18:47:35.607Z"
   },
   {
    "duration": 6,
    "start_time": "2022-02-19T18:47:38.123Z"
   },
   {
    "duration": 69,
    "start_time": "2022-02-19T18:47:47.323Z"
   },
   {
    "duration": 14,
    "start_time": "2022-02-19T18:47:47.485Z"
   },
   {
    "duration": 5,
    "start_time": "2022-02-19T18:47:48.161Z"
   },
   {
    "duration": 16,
    "start_time": "2022-02-19T18:47:48.339Z"
   },
   {
    "duration": 6,
    "start_time": "2022-02-19T18:47:48.705Z"
   },
   {
    "duration": 16,
    "start_time": "2022-02-19T18:47:49.067Z"
   },
   {
    "duration": 18,
    "start_time": "2022-02-19T18:47:49.612Z"
   },
   {
    "duration": 7,
    "start_time": "2022-02-19T18:47:49.973Z"
   },
   {
    "duration": 7,
    "start_time": "2022-02-19T18:47:50.316Z"
   },
   {
    "duration": 19,
    "start_time": "2022-02-19T18:47:50.494Z"
   },
   {
    "duration": 41,
    "start_time": "2022-02-19T18:47:50.845Z"
   },
   {
    "duration": 6,
    "start_time": "2022-02-19T18:47:51.183Z"
   },
   {
    "duration": 12,
    "start_time": "2022-02-19T18:47:51.886Z"
   },
   {
    "duration": 5,
    "start_time": "2022-02-19T18:47:53.070Z"
   },
   {
    "duration": 12,
    "start_time": "2022-02-19T18:47:53.541Z"
   },
   {
    "duration": 6,
    "start_time": "2022-02-19T18:47:54.722Z"
   },
   {
    "duration": 8,
    "start_time": "2022-02-19T18:47:56.337Z"
   },
   {
    "duration": 8,
    "start_time": "2022-02-19T18:47:57.635Z"
   },
   {
    "duration": 5,
    "start_time": "2022-02-19T18:47:58.875Z"
   },
   {
    "duration": 6,
    "start_time": "2022-02-19T18:48:00.293Z"
   },
   {
    "duration": 14,
    "start_time": "2022-02-19T18:48:04.341Z"
   },
   {
    "duration": 9,
    "start_time": "2022-02-19T18:48:06.500Z"
   },
   {
    "duration": 134,
    "start_time": "2022-02-19T18:49:14.350Z"
   },
   {
    "duration": 5,
    "start_time": "2022-02-19T18:49:25.205Z"
   },
   {
    "duration": 4,
    "start_time": "2022-02-19T18:49:56.846Z"
   },
   {
    "duration": 7,
    "start_time": "2022-02-19T18:50:13.298Z"
   },
   {
    "duration": 4,
    "start_time": "2022-02-19T18:50:27.837Z"
   },
   {
    "duration": 5,
    "start_time": "2022-02-19T18:50:35.409Z"
   },
   {
    "duration": 6,
    "start_time": "2022-02-19T18:51:12.795Z"
   },
   {
    "duration": 4,
    "start_time": "2022-02-19T18:52:12.688Z"
   },
   {
    "duration": 5,
    "start_time": "2022-02-19T18:53:21.340Z"
   },
   {
    "duration": 12,
    "start_time": "2022-02-19T18:53:36.136Z"
   },
   {
    "duration": 17,
    "start_time": "2022-02-19T18:53:43.542Z"
   },
   {
    "duration": 6,
    "start_time": "2022-02-19T18:54:45.651Z"
   },
   {
    "duration": 4,
    "start_time": "2022-02-19T18:57:01.631Z"
   },
   {
    "duration": 142,
    "start_time": "2022-02-19T18:57:29.390Z"
   },
   {
    "duration": 137,
    "start_time": "2022-02-19T18:58:05.173Z"
   },
   {
    "duration": 5,
    "start_time": "2022-02-19T18:58:15.456Z"
   },
   {
    "duration": 142,
    "start_time": "2022-02-19T18:58:16.177Z"
   },
   {
    "duration": 132,
    "start_time": "2022-02-19T18:59:25.695Z"
   },
   {
    "duration": 5,
    "start_time": "2022-02-19T19:01:34.590Z"
   },
   {
    "duration": 161,
    "start_time": "2022-02-19T19:04:02.143Z"
   },
   {
    "duration": 145,
    "start_time": "2022-02-19T19:10:36.887Z"
   },
   {
    "duration": 152,
    "start_time": "2022-02-19T19:13:31.633Z"
   },
   {
    "duration": 140,
    "start_time": "2022-02-19T19:15:52.083Z"
   },
   {
    "duration": 134,
    "start_time": "2022-02-19T19:20:58.672Z"
   },
   {
    "duration": 139,
    "start_time": "2022-02-19T19:21:05.903Z"
   },
   {
    "duration": 141,
    "start_time": "2022-02-19T19:21:11.315Z"
   },
   {
    "duration": 146,
    "start_time": "2022-02-19T20:49:53.824Z"
   },
   {
    "duration": 155,
    "start_time": "2022-02-19T20:50:03.235Z"
   },
   {
    "duration": 373,
    "start_time": "2022-02-19T20:51:03.778Z"
   },
   {
    "duration": 369,
    "start_time": "2022-02-19T20:51:13.186Z"
   },
   {
    "duration": 60,
    "start_time": "2022-02-19T20:57:50.247Z"
   },
   {
    "duration": 4,
    "start_time": "2022-02-19T20:58:04.773Z"
   },
   {
    "duration": 53,
    "start_time": "2022-02-19T20:58:05.640Z"
   },
   {
    "duration": 8,
    "start_time": "2022-02-19T20:58:22.837Z"
   },
   {
    "duration": 7,
    "start_time": "2022-02-19T20:58:24.306Z"
   },
   {
    "duration": 4,
    "start_time": "2022-02-19T20:58:29.631Z"
   },
   {
    "duration": 6,
    "start_time": "2022-02-19T20:58:58.559Z"
   },
   {
    "duration": 55,
    "start_time": "2022-02-19T20:59:07.321Z"
   },
   {
    "duration": 13,
    "start_time": "2022-02-19T20:59:09.525Z"
   },
   {
    "duration": 4,
    "start_time": "2022-02-19T20:59:12.217Z"
   },
   {
    "duration": 12,
    "start_time": "2022-02-19T20:59:12.710Z"
   },
   {
    "duration": 5,
    "start_time": "2022-02-19T20:59:14.118Z"
   },
   {
    "duration": 14,
    "start_time": "2022-02-19T20:59:17.222Z"
   },
   {
    "duration": 14,
    "start_time": "2022-02-19T20:59:21.049Z"
   },
   {
    "duration": 4,
    "start_time": "2022-02-19T20:59:24.368Z"
   },
   {
    "duration": 6,
    "start_time": "2022-02-19T20:59:25.393Z"
   },
   {
    "duration": 13,
    "start_time": "2022-02-19T20:59:25.879Z"
   },
   {
    "duration": 17,
    "start_time": "2022-02-19T20:59:29.175Z"
   },
   {
    "duration": 5,
    "start_time": "2022-02-19T20:59:31.533Z"
   },
   {
    "duration": 11,
    "start_time": "2022-02-19T20:59:33.575Z"
   },
   {
    "duration": 4,
    "start_time": "2022-02-19T20:59:41.255Z"
   },
   {
    "duration": 11,
    "start_time": "2022-02-19T20:59:42.190Z"
   },
   {
    "duration": 5,
    "start_time": "2022-02-19T20:59:46.052Z"
   },
   {
    "duration": 7,
    "start_time": "2022-02-19T20:59:48.215Z"
   },
   {
    "duration": 7,
    "start_time": "2022-02-19T20:59:53.833Z"
   },
   {
    "duration": 4,
    "start_time": "2022-02-19T20:59:57.349Z"
   },
   {
    "duration": 5,
    "start_time": "2022-02-19T21:00:00.103Z"
   },
   {
    "duration": 14,
    "start_time": "2022-02-19T21:00:01.664Z"
   },
   {
    "duration": 6,
    "start_time": "2022-02-19T21:00:05.705Z"
   },
   {
    "duration": 5,
    "start_time": "2022-02-19T21:00:11.804Z"
   },
   {
    "duration": 12,
    "start_time": "2022-02-19T21:07:47.847Z"
   },
   {
    "duration": 16,
    "start_time": "2022-02-19T21:07:56.744Z"
   },
   {
    "duration": 3,
    "start_time": "2022-02-19T21:09:29.065Z"
   },
   {
    "duration": 5,
    "start_time": "2022-02-19T21:10:07.471Z"
   },
   {
    "duration": 5,
    "start_time": "2022-02-19T21:11:18.932Z"
   },
   {
    "duration": 18,
    "start_time": "2022-02-19T21:11:58.193Z"
   },
   {
    "duration": 4,
    "start_time": "2022-02-19T21:13:19.060Z"
   },
   {
    "duration": 5,
    "start_time": "2022-02-19T21:14:48.801Z"
   },
   {
    "duration": 8,
    "start_time": "2022-02-19T21:14:57.625Z"
   },
   {
    "duration": 11,
    "start_time": "2022-02-19T21:15:03.720Z"
   },
   {
    "duration": 8,
    "start_time": "2022-02-19T21:17:08.194Z"
   },
   {
    "duration": 3473,
    "start_time": "2022-02-19T21:17:29.170Z"
   },
   {
    "duration": 18,
    "start_time": "2022-02-19T21:17:49.058Z"
   },
   {
    "duration": 4,
    "start_time": "2022-02-19T21:17:50.226Z"
   },
   {
    "duration": 8,
    "start_time": "2022-02-19T21:17:51.903Z"
   },
   {
    "duration": 7,
    "start_time": "2022-02-19T21:18:05.093Z"
   },
   {
    "duration": 53,
    "start_time": "2022-02-19T21:18:18.074Z"
   },
   {
    "duration": 13,
    "start_time": "2022-02-19T21:18:18.459Z"
   },
   {
    "duration": 4,
    "start_time": "2022-02-19T21:18:20.468Z"
   },
   {
    "duration": 12,
    "start_time": "2022-02-19T21:18:20.844Z"
   },
   {
    "duration": 6,
    "start_time": "2022-02-19T21:18:21.643Z"
   },
   {
    "duration": 16,
    "start_time": "2022-02-19T21:18:22.358Z"
   },
   {
    "duration": 16,
    "start_time": "2022-02-19T21:18:23.697Z"
   },
   {
    "duration": 5,
    "start_time": "2022-02-19T21:18:24.581Z"
   },
   {
    "duration": 5,
    "start_time": "2022-02-19T21:18:25.326Z"
   },
   {
    "duration": 14,
    "start_time": "2022-02-19T21:18:25.764Z"
   },
   {
    "duration": 16,
    "start_time": "2022-02-19T21:18:26.776Z"
   },
   {
    "duration": 5,
    "start_time": "2022-02-19T21:18:27.792Z"
   },
   {
    "duration": 10,
    "start_time": "2022-02-19T21:18:28.866Z"
   },
   {
    "duration": 5,
    "start_time": "2022-02-19T21:18:30.128Z"
   },
   {
    "duration": 11,
    "start_time": "2022-02-19T21:18:30.724Z"
   },
   {
    "duration": 5,
    "start_time": "2022-02-19T21:18:32.570Z"
   },
   {
    "duration": 7,
    "start_time": "2022-02-19T21:18:33.819Z"
   },
   {
    "duration": 6,
    "start_time": "2022-02-19T21:18:35.045Z"
   },
   {
    "duration": 4,
    "start_time": "2022-02-19T21:18:36.254Z"
   },
   {
    "duration": 6,
    "start_time": "2022-02-19T21:18:37.283Z"
   },
   {
    "duration": 12,
    "start_time": "2022-02-19T21:18:38.575Z"
   },
   {
    "duration": 7,
    "start_time": "2022-02-19T21:18:39.661Z"
   },
   {
    "duration": 4,
    "start_time": "2022-02-19T21:18:43.050Z"
   },
   {
    "duration": 15,
    "start_time": "2022-02-19T21:18:46.945Z"
   },
   {
    "duration": 5,
    "start_time": "2022-02-19T21:18:48.911Z"
   },
   {
    "duration": 5,
    "start_time": "2022-02-19T21:18:51.441Z"
   },
   {
    "duration": 18,
    "start_time": "2022-02-19T21:18:52.442Z"
   },
   {
    "duration": 5,
    "start_time": "2022-02-19T21:18:56.727Z"
   },
   {
    "duration": 11,
    "start_time": "2022-02-19T21:18:58.060Z"
   },
   {
    "duration": 6,
    "start_time": "2022-02-19T21:18:59.148Z"
   },
   {
    "duration": 3334,
    "start_time": "2022-02-19T21:19:29.781Z"
   },
   {
    "duration": 9,
    "start_time": "2022-02-19T21:19:34.991Z"
   },
   {
    "duration": 3351,
    "start_time": "2022-02-19T21:19:36.047Z"
   },
   {
    "duration": 8,
    "start_time": "2022-02-19T21:19:42.695Z"
   },
   {
    "duration": 6,
    "start_time": "2022-02-19T21:21:32.395Z"
   },
   {
    "duration": 4,
    "start_time": "2022-02-19T21:22:27.915Z"
   },
   {
    "duration": 58,
    "start_time": "2022-02-19T21:23:29.256Z"
   },
   {
    "duration": 6,
    "start_time": "2022-02-19T21:23:38.579Z"
   },
   {
    "duration": 5,
    "start_time": "2022-02-19T21:24:35.296Z"
   },
   {
    "duration": 5,
    "start_time": "2022-02-19T21:31:29.497Z"
   },
   {
    "duration": 20,
    "start_time": "2022-02-19T21:37:24.591Z"
   },
   {
    "duration": 28,
    "start_time": "2022-02-19T21:37:34.606Z"
   },
   {
    "duration": 55,
    "start_time": "2022-02-19T21:40:24.976Z"
   },
   {
    "duration": 13,
    "start_time": "2022-02-19T21:40:25.151Z"
   },
   {
    "duration": 4,
    "start_time": "2022-02-19T21:40:25.863Z"
   },
   {
    "duration": 13,
    "start_time": "2022-02-19T21:40:26.027Z"
   },
   {
    "duration": 6,
    "start_time": "2022-02-19T21:40:26.361Z"
   },
   {
    "duration": 14,
    "start_time": "2022-02-19T21:40:26.701Z"
   },
   {
    "duration": 14,
    "start_time": "2022-02-19T21:40:27.170Z"
   },
   {
    "duration": 4,
    "start_time": "2022-02-19T21:40:27.496Z"
   },
   {
    "duration": 6,
    "start_time": "2022-02-19T21:40:27.820Z"
   },
   {
    "duration": 15,
    "start_time": "2022-02-19T21:40:27.987Z"
   },
   {
    "duration": 20,
    "start_time": "2022-02-19T21:40:28.297Z"
   },
   {
    "duration": 4,
    "start_time": "2022-02-19T21:40:28.615Z"
   },
   {
    "duration": 10,
    "start_time": "2022-02-19T21:40:28.935Z"
   },
   {
    "duration": 4,
    "start_time": "2022-02-19T21:40:30.825Z"
   },
   {
    "duration": 12,
    "start_time": "2022-02-19T21:40:30.998Z"
   },
   {
    "duration": 6,
    "start_time": "2022-02-19T21:40:31.892Z"
   },
   {
    "duration": 7,
    "start_time": "2022-02-19T21:40:32.819Z"
   },
   {
    "duration": 6,
    "start_time": "2022-02-19T21:40:33.415Z"
   },
   {
    "duration": 4,
    "start_time": "2022-02-19T21:40:34.150Z"
   },
   {
    "duration": 5,
    "start_time": "2022-02-19T21:40:34.867Z"
   },
   {
    "duration": 13,
    "start_time": "2022-02-19T21:40:35.823Z"
   },
   {
    "duration": 7,
    "start_time": "2022-02-19T21:40:36.511Z"
   },
   {
    "duration": 5,
    "start_time": "2022-02-19T21:40:37.454Z"
   },
   {
    "duration": 22,
    "start_time": "2022-02-19T21:40:37.888Z"
   },
   {
    "duration": 5,
    "start_time": "2022-02-19T21:40:38.910Z"
   },
   {
    "duration": 4,
    "start_time": "2022-02-19T21:40:39.835Z"
   },
   {
    "duration": 17,
    "start_time": "2022-02-19T21:40:40.274Z"
   },
   {
    "duration": 4,
    "start_time": "2022-02-19T21:40:41.388Z"
   },
   {
    "duration": 11,
    "start_time": "2022-02-19T21:40:41.911Z"
   },
   {
    "duration": 7,
    "start_time": "2022-02-19T21:40:42.544Z"
   },
   {
    "duration": 4,
    "start_time": "2022-02-19T21:40:43.520Z"
   },
   {
    "duration": 4,
    "start_time": "2022-02-19T21:40:44.567Z"
   },
   {
    "duration": 8,
    "start_time": "2022-02-19T21:40:45.405Z"
   },
   {
    "duration": 5,
    "start_time": "2022-02-19T21:40:46.753Z"
   },
   {
    "duration": 26,
    "start_time": "2022-02-19T21:40:54.877Z"
   },
   {
    "duration": 150,
    "start_time": "2022-02-19T21:43:18.491Z"
   },
   {
    "duration": 146,
    "start_time": "2022-02-19T21:43:35.688Z"
   },
   {
    "duration": 26,
    "start_time": "2022-02-19T21:43:37.047Z"
   },
   {
    "duration": 52,
    "start_time": "2022-02-19T21:45:04.615Z"
   },
   {
    "duration": 13,
    "start_time": "2022-02-19T21:45:04.822Z"
   },
   {
    "duration": 4,
    "start_time": "2022-02-19T21:45:05.502Z"
   },
   {
    "duration": 11,
    "start_time": "2022-02-19T21:45:05.693Z"
   },
   {
    "duration": 5,
    "start_time": "2022-02-19T21:45:06.007Z"
   },
   {
    "duration": 13,
    "start_time": "2022-02-19T21:45:06.292Z"
   },
   {
    "duration": 15,
    "start_time": "2022-02-19T21:45:06.730Z"
   },
   {
    "duration": 5,
    "start_time": "2022-02-19T21:45:07.024Z"
   },
   {
    "duration": 6,
    "start_time": "2022-02-19T21:45:07.318Z"
   },
   {
    "duration": 15,
    "start_time": "2022-02-19T21:45:07.472Z"
   },
   {
    "duration": 17,
    "start_time": "2022-02-19T21:45:07.764Z"
   },
   {
    "duration": 5,
    "start_time": "2022-02-19T21:45:08.083Z"
   },
   {
    "duration": 10,
    "start_time": "2022-02-19T21:45:08.421Z"
   },
   {
    "duration": 6,
    "start_time": "2022-02-19T21:45:08.890Z"
   },
   {
    "duration": 11,
    "start_time": "2022-02-19T21:45:09.043Z"
   },
   {
    "duration": 5,
    "start_time": "2022-02-19T21:45:10.104Z"
   },
   {
    "duration": 7,
    "start_time": "2022-02-19T21:45:10.802Z"
   },
   {
    "duration": 6,
    "start_time": "2022-02-19T21:45:11.742Z"
   },
   {
    "duration": 4,
    "start_time": "2022-02-19T21:45:12.175Z"
   },
   {
    "duration": 6,
    "start_time": "2022-02-19T21:45:12.493Z"
   },
   {
    "duration": 13,
    "start_time": "2022-02-19T21:45:12.833Z"
   },
   {
    "duration": 6,
    "start_time": "2022-02-19T21:45:13.732Z"
   },
   {
    "duration": 5,
    "start_time": "2022-02-19T21:45:14.689Z"
   },
   {
    "duration": 16,
    "start_time": "2022-02-19T21:45:15.035Z"
   },
   {
    "duration": 4,
    "start_time": "2022-02-19T21:45:15.973Z"
   },
   {
    "duration": 5,
    "start_time": "2022-02-19T21:45:16.820Z"
   },
   {
    "duration": 18,
    "start_time": "2022-02-19T21:45:17.219Z"
   },
   {
    "duration": 4,
    "start_time": "2022-02-19T21:45:18.260Z"
   },
   {
    "duration": 11,
    "start_time": "2022-02-19T21:45:18.740Z"
   },
   {
    "duration": 6,
    "start_time": "2022-02-19T21:45:19.148Z"
   },
   {
    "duration": 5,
    "start_time": "2022-02-19T21:45:19.997Z"
   },
   {
    "duration": 4,
    "start_time": "2022-02-19T21:45:20.767Z"
   },
   {
    "duration": 6,
    "start_time": "2022-02-19T21:45:21.499Z"
   },
   {
    "duration": 5,
    "start_time": "2022-02-19T21:45:22.567Z"
   },
   {
    "duration": 152,
    "start_time": "2022-02-19T21:45:26.468Z"
   },
   {
    "duration": 26,
    "start_time": "2022-02-19T21:45:29.437Z"
   },
   {
    "duration": 152,
    "start_time": "2022-02-19T21:46:05.010Z"
   },
   {
    "duration": 254,
    "start_time": "2022-02-19T21:46:48.644Z"
   },
   {
    "duration": 47,
    "start_time": "2022-02-19T21:46:56.488Z"
   },
   {
    "duration": 155,
    "start_time": "2022-02-19T21:47:04.294Z"
   },
   {
    "duration": 39,
    "start_time": "2022-02-19T21:47:13.616Z"
   },
   {
    "duration": 43,
    "start_time": "2022-02-19T21:47:29.175Z"
   },
   {
    "duration": 15,
    "start_time": "2022-02-19T21:47:53.627Z"
   },
   {
    "duration": 28,
    "start_time": "2022-02-19T21:47:55.234Z"
   },
   {
    "duration": 56,
    "start_time": "2022-02-19T21:48:03.709Z"
   },
   {
    "duration": 13,
    "start_time": "2022-02-19T21:48:03.886Z"
   },
   {
    "duration": 4,
    "start_time": "2022-02-19T21:48:04.592Z"
   },
   {
    "duration": 11,
    "start_time": "2022-02-19T21:48:04.761Z"
   },
   {
    "duration": 5,
    "start_time": "2022-02-19T21:48:05.090Z"
   },
   {
    "duration": 13,
    "start_time": "2022-02-19T21:48:05.443Z"
   },
   {
    "duration": 14,
    "start_time": "2022-02-19T21:48:05.944Z"
   },
   {
    "duration": 5,
    "start_time": "2022-02-19T21:48:06.294Z"
   },
   {
    "duration": 6,
    "start_time": "2022-02-19T21:48:06.625Z"
   },
   {
    "duration": 13,
    "start_time": "2022-02-19T21:48:06.786Z"
   },
   {
    "duration": 17,
    "start_time": "2022-02-19T21:48:07.142Z"
   },
   {
    "duration": 5,
    "start_time": "2022-02-19T21:48:07.680Z"
   },
   {
    "duration": 11,
    "start_time": "2022-02-19T21:48:08.416Z"
   },
   {
    "duration": 5,
    "start_time": "2022-02-19T21:48:09.520Z"
   },
   {
    "duration": 12,
    "start_time": "2022-02-19T21:48:09.947Z"
   },
   {
    "duration": 5,
    "start_time": "2022-02-19T21:48:11.719Z"
   },
   {
    "duration": 7,
    "start_time": "2022-02-19T21:48:12.503Z"
   },
   {
    "duration": 8,
    "start_time": "2022-02-19T21:48:13.586Z"
   },
   {
    "duration": 4,
    "start_time": "2022-02-19T21:48:14.086Z"
   },
   {
    "duration": 5,
    "start_time": "2022-02-19T21:48:14.421Z"
   },
   {
    "duration": 12,
    "start_time": "2022-02-19T21:48:14.745Z"
   },
   {
    "duration": 6,
    "start_time": "2022-02-19T21:48:15.067Z"
   },
   {
    "duration": 5,
    "start_time": "2022-02-19T21:48:15.388Z"
   },
   {
    "duration": 15,
    "start_time": "2022-02-19T21:48:15.542Z"
   },
   {
    "duration": 6,
    "start_time": "2022-02-19T21:48:15.860Z"
   },
   {
    "duration": 4,
    "start_time": "2022-02-19T21:48:16.182Z"
   },
   {
    "duration": 16,
    "start_time": "2022-02-19T21:48:16.336Z"
   },
   {
    "duration": 5,
    "start_time": "2022-02-19T21:48:16.662Z"
   },
   {
    "duration": 12,
    "start_time": "2022-02-19T21:48:16.802Z"
   },
   {
    "duration": 7,
    "start_time": "2022-02-19T21:48:16.950Z"
   },
   {
    "duration": 4,
    "start_time": "2022-02-19T21:48:17.273Z"
   },
   {
    "duration": 4,
    "start_time": "2022-02-19T21:48:17.779Z"
   },
   {
    "duration": 6,
    "start_time": "2022-02-19T21:48:18.131Z"
   },
   {
    "duration": 5,
    "start_time": "2022-02-19T21:48:18.739Z"
   },
   {
    "duration": 17,
    "start_time": "2022-02-19T21:48:21.602Z"
   },
   {
    "duration": 28,
    "start_time": "2022-02-19T21:48:22.356Z"
   },
   {
    "duration": 37,
    "start_time": "2022-02-19T21:48:39.249Z"
   },
   {
    "duration": 39,
    "start_time": "2022-02-19T21:48:43.804Z"
   },
   {
    "duration": 18,
    "start_time": "2022-02-19T21:53:37.458Z"
   },
   {
    "duration": 16,
    "start_time": "2022-02-19T21:53:48.673Z"
   },
   {
    "duration": 20,
    "start_time": "2022-02-19T21:53:49.213Z"
   },
   {
    "duration": 35,
    "start_time": "2022-02-19T21:53:49.482Z"
   },
   {
    "duration": 59,
    "start_time": "2022-02-19T21:53:53.832Z"
   },
   {
    "duration": 13,
    "start_time": "2022-02-19T21:53:53.997Z"
   },
   {
    "duration": 4,
    "start_time": "2022-02-19T21:53:54.587Z"
   },
   {
    "duration": 12,
    "start_time": "2022-02-19T21:53:54.729Z"
   },
   {
    "duration": 5,
    "start_time": "2022-02-19T21:53:55.037Z"
   },
   {
    "duration": 13,
    "start_time": "2022-02-19T21:53:55.305Z"
   },
   {
    "duration": 14,
    "start_time": "2022-02-19T21:53:55.748Z"
   },
   {
    "duration": 5,
    "start_time": "2022-02-19T21:53:56.049Z"
   },
   {
    "duration": 6,
    "start_time": "2022-02-19T21:53:56.362Z"
   },
   {
    "duration": 13,
    "start_time": "2022-02-19T21:53:56.519Z"
   },
   {
    "duration": 19,
    "start_time": "2022-02-19T21:53:56.949Z"
   },
   {
    "duration": 5,
    "start_time": "2022-02-19T21:53:57.268Z"
   },
   {
    "duration": 11,
    "start_time": "2022-02-19T21:53:57.799Z"
   },
   {
    "duration": 5,
    "start_time": "2022-02-19T21:53:58.743Z"
   },
   {
    "duration": 11,
    "start_time": "2022-02-19T21:53:59.098Z"
   },
   {
    "duration": 6,
    "start_time": "2022-02-19T21:54:00.070Z"
   },
   {
    "duration": 8,
    "start_time": "2022-02-19T21:54:00.453Z"
   },
   {
    "duration": 7,
    "start_time": "2022-02-19T21:54:00.810Z"
   },
   {
    "duration": 5,
    "start_time": "2022-02-19T21:54:01.153Z"
   },
   {
    "duration": 5,
    "start_time": "2022-02-19T21:54:01.509Z"
   },
   {
    "duration": 13,
    "start_time": "2022-02-19T21:54:01.847Z"
   },
   {
    "duration": 7,
    "start_time": "2022-02-19T21:54:02.354Z"
   },
   {
    "duration": 5,
    "start_time": "2022-02-19T21:54:02.873Z"
   },
   {
    "duration": 13,
    "start_time": "2022-02-19T21:54:03.293Z"
   },
   {
    "duration": 4,
    "start_time": "2022-02-19T21:54:04.450Z"
   },
   {
    "duration": 5,
    "start_time": "2022-02-19T21:54:05.358Z"
   },
   {
    "duration": 16,
    "start_time": "2022-02-19T21:54:05.805Z"
   },
   {
    "duration": 4,
    "start_time": "2022-02-19T21:54:06.742Z"
   },
   {
    "duration": 12,
    "start_time": "2022-02-19T21:54:07.138Z"
   },
   {
    "duration": 8,
    "start_time": "2022-02-19T21:54:07.511Z"
   },
   {
    "duration": 4,
    "start_time": "2022-02-19T21:54:08.005Z"
   },
   {
    "duration": 4,
    "start_time": "2022-02-19T21:54:08.367Z"
   },
   {
    "duration": 7,
    "start_time": "2022-02-19T21:54:09.041Z"
   },
   {
    "duration": 5,
    "start_time": "2022-02-19T21:54:09.878Z"
   },
   {
    "duration": 16,
    "start_time": "2022-02-19T21:54:12.580Z"
   },
   {
    "duration": 23,
    "start_time": "2022-02-19T21:54:13.182Z"
   },
   {
    "duration": 27,
    "start_time": "2022-02-19T21:55:59.283Z"
   },
   {
    "duration": 22,
    "start_time": "2022-02-19T21:56:17.746Z"
   },
   {
    "duration": 40,
    "start_time": "2022-02-19T21:56:20.005Z"
   },
   {
    "duration": 404,
    "start_time": "2022-02-20T12:41:21.064Z"
   },
   {
    "duration": 636,
    "start_time": "2022-02-20T12:41:49.836Z"
   },
   {
    "duration": 17,
    "start_time": "2022-02-20T12:41:50.474Z"
   },
   {
    "duration": 3,
    "start_time": "2022-02-20T12:41:50.652Z"
   },
   {
    "duration": 10,
    "start_time": "2022-02-20T12:41:50.824Z"
   },
   {
    "duration": 5,
    "start_time": "2022-02-20T12:41:51.144Z"
   },
   {
    "duration": 11,
    "start_time": "2022-02-20T12:41:51.471Z"
   },
   {
    "duration": 12,
    "start_time": "2022-02-20T12:41:51.948Z"
   },
   {
    "duration": 5,
    "start_time": "2022-02-20T12:41:52.257Z"
   },
   {
    "duration": 5,
    "start_time": "2022-02-20T12:41:52.575Z"
   },
   {
    "duration": 13,
    "start_time": "2022-02-20T12:41:52.744Z"
   },
   {
    "duration": 15,
    "start_time": "2022-02-20T12:41:53.063Z"
   },
   {
    "duration": 5,
    "start_time": "2022-02-20T12:41:53.385Z"
   },
   {
    "duration": 10,
    "start_time": "2022-02-20T12:41:53.707Z"
   },
   {
    "duration": 5,
    "start_time": "2022-02-20T12:41:54.334Z"
   },
   {
    "duration": 11,
    "start_time": "2022-02-20T12:41:54.489Z"
   },
   {
    "duration": 5,
    "start_time": "2022-02-20T12:41:54.977Z"
   },
   {
    "duration": 6,
    "start_time": "2022-02-20T12:41:55.310Z"
   },
   {
    "duration": 6,
    "start_time": "2022-02-20T12:41:55.656Z"
   },
   {
    "duration": 3,
    "start_time": "2022-02-20T12:41:55.994Z"
   },
   {
    "duration": 4,
    "start_time": "2022-02-20T12:41:56.344Z"
   },
   {
    "duration": 11,
    "start_time": "2022-02-20T12:41:56.660Z"
   },
   {
    "duration": 6,
    "start_time": "2022-02-20T12:41:56.998Z"
   },
   {
    "duration": 4,
    "start_time": "2022-02-20T12:41:57.338Z"
   },
   {
    "duration": 13,
    "start_time": "2022-02-20T12:41:57.528Z"
   },
   {
    "duration": 4,
    "start_time": "2022-02-20T12:41:57.872Z"
   },
   {
    "duration": 4,
    "start_time": "2022-02-20T12:41:58.404Z"
   },
   {
    "duration": 15,
    "start_time": "2022-02-20T12:41:59.744Z"
   },
   {
    "duration": 5,
    "start_time": "2022-02-20T12:42:00.841Z"
   },
   {
    "duration": 10,
    "start_time": "2022-02-20T12:42:01.284Z"
   },
   {
    "duration": 8,
    "start_time": "2022-02-20T12:42:01.632Z"
   },
   {
    "duration": 4,
    "start_time": "2022-02-20T12:42:02.408Z"
   },
   {
    "duration": 4,
    "start_time": "2022-02-20T12:42:03.135Z"
   },
   {
    "duration": 6,
    "start_time": "2022-02-20T12:42:04.225Z"
   },
   {
    "duration": 5,
    "start_time": "2022-02-20T12:42:05.137Z"
   },
   {
    "duration": 16,
    "start_time": "2022-02-20T12:42:08.716Z"
   },
   {
    "duration": 21,
    "start_time": "2022-02-20T12:42:09.203Z"
   },
   {
    "duration": 35,
    "start_time": "2022-02-20T12:42:10.209Z"
   },
   {
    "duration": 5,
    "start_time": "2022-02-20T12:42:12.778Z"
   },
   {
    "duration": 15,
    "start_time": "2022-02-20T12:42:35.144Z"
   },
   {
    "duration": 9,
    "start_time": "2022-02-20T12:43:14.984Z"
   },
   {
    "duration": 9,
    "start_time": "2022-02-20T12:43:15.915Z"
   },
   {
    "duration": 15,
    "start_time": "2022-02-20T12:50:42.133Z"
   },
   {
    "duration": 288,
    "start_time": "2022-02-20T12:59:25.277Z"
   },
   {
    "duration": 4,
    "start_time": "2022-02-20T13:00:27.617Z"
   },
   {
    "duration": 20,
    "start_time": "2022-02-20T13:02:26.705Z"
   },
   {
    "duration": 16,
    "start_time": "2022-02-20T13:42:32.956Z"
   },
   {
    "duration": 12,
    "start_time": "2022-02-20T13:43:02.204Z"
   },
   {
    "duration": 14,
    "start_time": "2022-02-20T13:45:38.473Z"
   },
   {
    "duration": 21,
    "start_time": "2022-02-20T13:45:59.795Z"
   },
   {
    "duration": 54,
    "start_time": "2022-02-20T13:46:31.362Z"
   },
   {
    "duration": 11,
    "start_time": "2022-02-20T13:46:31.510Z"
   },
   {
    "duration": 4,
    "start_time": "2022-02-20T13:46:32.132Z"
   },
   {
    "duration": 10,
    "start_time": "2022-02-20T13:46:32.296Z"
   },
   {
    "duration": 5,
    "start_time": "2022-02-20T13:46:32.606Z"
   },
   {
    "duration": 11,
    "start_time": "2022-02-20T13:46:32.919Z"
   },
   {
    "duration": 11,
    "start_time": "2022-02-20T13:46:33.390Z"
   },
   {
    "duration": 5,
    "start_time": "2022-02-20T13:46:33.709Z"
   },
   {
    "duration": 5,
    "start_time": "2022-02-20T13:46:34.020Z"
   },
   {
    "duration": 12,
    "start_time": "2022-02-20T13:46:34.162Z"
   },
   {
    "duration": 17,
    "start_time": "2022-02-20T13:46:34.462Z"
   },
   {
    "duration": 5,
    "start_time": "2022-02-20T13:46:34.780Z"
   },
   {
    "duration": 11,
    "start_time": "2022-02-20T13:46:35.093Z"
   },
   {
    "duration": 4,
    "start_time": "2022-02-20T13:46:35.535Z"
   },
   {
    "duration": 10,
    "start_time": "2022-02-20T13:46:35.684Z"
   },
   {
    "duration": 5,
    "start_time": "2022-02-20T13:46:36.154Z"
   },
   {
    "duration": 7,
    "start_time": "2022-02-20T13:46:36.448Z"
   },
   {
    "duration": 6,
    "start_time": "2022-02-20T13:46:36.755Z"
   },
   {
    "duration": 4,
    "start_time": "2022-02-20T13:46:37.195Z"
   },
   {
    "duration": 4,
    "start_time": "2022-02-20T13:46:37.626Z"
   },
   {
    "duration": 10,
    "start_time": "2022-02-20T13:46:38.397Z"
   },
   {
    "duration": 6,
    "start_time": "2022-02-20T13:46:39.000Z"
   },
   {
    "duration": 4,
    "start_time": "2022-02-20T13:46:39.701Z"
   },
   {
    "duration": 13,
    "start_time": "2022-02-20T13:46:40.008Z"
   },
   {
    "duration": 5,
    "start_time": "2022-02-20T13:46:40.604Z"
   },
   {
    "duration": 5,
    "start_time": "2022-02-20T13:46:41.092Z"
   },
   {
    "duration": 15,
    "start_time": "2022-02-20T13:46:41.316Z"
   },
   {
    "duration": 5,
    "start_time": "2022-02-20T13:46:41.829Z"
   },
   {
    "duration": 14,
    "start_time": "2022-02-20T13:46:41.997Z"
   },
   {
    "duration": 8,
    "start_time": "2022-02-20T13:46:42.157Z"
   },
   {
    "duration": 4,
    "start_time": "2022-02-20T13:46:42.490Z"
   },
   {
    "duration": 5,
    "start_time": "2022-02-20T13:46:42.810Z"
   },
   {
    "duration": 6,
    "start_time": "2022-02-20T13:46:43.150Z"
   },
   {
    "duration": 5,
    "start_time": "2022-02-20T13:46:43.457Z"
   },
   {
    "duration": 15,
    "start_time": "2022-02-20T13:46:44.449Z"
   },
   {
    "duration": 20,
    "start_time": "2022-02-20T13:46:44.610Z"
   },
   {
    "duration": 34,
    "start_time": "2022-02-20T13:46:44.937Z"
   },
   {
    "duration": 11,
    "start_time": "2022-02-20T13:46:45.447Z"
   },
   {
    "duration": 11,
    "start_time": "2022-02-20T13:46:45.852Z"
   },
   {
    "duration": 16,
    "start_time": "2022-02-20T13:46:47.419Z"
   },
   {
    "duration": 4,
    "start_time": "2022-02-20T13:46:48.083Z"
   },
   {
    "duration": 9,
    "start_time": "2022-02-20T13:46:49.362Z"
   },
   {
    "duration": 18,
    "start_time": "2022-02-20T13:46:51.606Z"
   },
   {
    "duration": 20,
    "start_time": "2022-02-20T13:48:18.496Z"
   },
   {
    "duration": 4,
    "start_time": "2022-02-20T13:55:22.753Z"
   },
   {
    "duration": 1351,
    "start_time": "2022-02-20T13:55:24.067Z"
   },
   {
    "duration": 9,
    "start_time": "2022-02-20T13:55:33.449Z"
   },
   {
    "duration": 8,
    "start_time": "2022-02-20T13:55:38.118Z"
   },
   {
    "duration": 20,
    "start_time": "2022-02-20T13:55:53.035Z"
   },
   {
    "duration": 16,
    "start_time": "2022-02-20T13:56:01.374Z"
   },
   {
    "duration": 7207,
    "start_time": "2022-02-20T13:56:10.310Z"
   },
   {
    "duration": 66,
    "start_time": "2022-02-20T13:56:31.566Z"
   },
   {
    "duration": 16,
    "start_time": "2022-02-20T13:56:31.734Z"
   },
   {
    "duration": 3,
    "start_time": "2022-02-20T13:56:32.391Z"
   },
   {
    "duration": 11,
    "start_time": "2022-02-20T13:56:32.585Z"
   },
   {
    "duration": 5,
    "start_time": "2022-02-20T13:56:32.919Z"
   },
   {
    "duration": 13,
    "start_time": "2022-02-20T13:56:33.187Z"
   },
   {
    "duration": 11,
    "start_time": "2022-02-20T13:56:33.609Z"
   },
   {
    "duration": 5,
    "start_time": "2022-02-20T13:56:33.905Z"
   },
   {
    "duration": 4,
    "start_time": "2022-02-20T13:56:34.198Z"
   },
   {
    "duration": 12,
    "start_time": "2022-02-20T13:56:34.359Z"
   },
   {
    "duration": 15,
    "start_time": "2022-02-20T13:56:34.656Z"
   },
   {
    "duration": 5,
    "start_time": "2022-02-20T13:56:35.105Z"
   },
   {
    "duration": 10,
    "start_time": "2022-02-20T13:56:35.423Z"
   },
   {
    "duration": 8,
    "start_time": "2022-02-20T13:56:35.912Z"
   },
   {
    "duration": 17,
    "start_time": "2022-02-20T13:56:36.065Z"
   },
   {
    "duration": 4,
    "start_time": "2022-02-20T13:56:36.525Z"
   },
   {
    "duration": 6,
    "start_time": "2022-02-20T13:56:36.851Z"
   },
   {
    "duration": 5,
    "start_time": "2022-02-20T13:56:37.173Z"
   },
   {
    "duration": 4,
    "start_time": "2022-02-20T13:56:37.496Z"
   },
   {
    "duration": 4,
    "start_time": "2022-02-20T13:56:37.831Z"
   },
   {
    "duration": 13,
    "start_time": "2022-02-20T13:56:38.147Z"
   },
   {
    "duration": 7,
    "start_time": "2022-02-20T13:56:38.466Z"
   },
   {
    "duration": 6,
    "start_time": "2022-02-20T13:56:38.767Z"
   },
   {
    "duration": 14,
    "start_time": "2022-02-20T13:56:38.944Z"
   },
   {
    "duration": 5,
    "start_time": "2022-02-20T13:56:39.279Z"
   },
   {
    "duration": 4,
    "start_time": "2022-02-20T13:56:39.600Z"
   },
   {
    "duration": 17,
    "start_time": "2022-02-20T13:56:39.764Z"
   },
   {
    "duration": 3,
    "start_time": "2022-02-20T13:56:40.103Z"
   },
   {
    "duration": 10,
    "start_time": "2022-02-20T13:56:40.258Z"
   },
   {
    "duration": 6,
    "start_time": "2022-02-20T13:56:40.432Z"
   },
   {
    "duration": 6,
    "start_time": "2022-02-20T13:56:40.758Z"
   },
   {
    "duration": 4,
    "start_time": "2022-02-20T13:56:41.097Z"
   },
   {
    "duration": 6,
    "start_time": "2022-02-20T13:56:41.448Z"
   },
   {
    "duration": 4,
    "start_time": "2022-02-20T13:56:41.802Z"
   },
   {
    "duration": 14,
    "start_time": "2022-02-20T13:56:43.338Z"
   },
   {
    "duration": 21,
    "start_time": "2022-02-20T13:56:43.534Z"
   },
   {
    "duration": 35,
    "start_time": "2022-02-20T13:56:43.934Z"
   },
   {
    "duration": 11,
    "start_time": "2022-02-20T13:56:44.487Z"
   },
   {
    "duration": 9,
    "start_time": "2022-02-20T13:56:45.042Z"
   },
   {
    "duration": 15,
    "start_time": "2022-02-20T13:56:46.192Z"
   },
   {
    "duration": 4,
    "start_time": "2022-02-20T13:56:47.021Z"
   },
   {
    "duration": 16,
    "start_time": "2022-02-20T13:56:48.060Z"
   },
   {
    "duration": 22,
    "start_time": "2022-02-20T13:56:49.913Z"
   },
   {
    "duration": 695,
    "start_time": "2022-02-20T13:57:05.931Z"
   },
   {
    "duration": 7607,
    "start_time": "2022-02-20T13:57:58.179Z"
   },
   {
    "duration": 661,
    "start_time": "2022-02-20T13:58:05.128Z"
   },
   {
    "duration": 660,
    "start_time": "2022-02-20T13:58:05.130Z"
   },
   {
    "duration": 3,
    "start_time": "2022-02-20T13:58:06.324Z"
   },
   {
    "duration": 8,
    "start_time": "2022-02-20T13:58:06.490Z"
   },
   {
    "duration": 4,
    "start_time": "2022-02-20T13:58:06.811Z"
   },
   {
    "duration": 7,
    "start_time": "2022-02-20T13:58:07.141Z"
   },
   {
    "duration": 11,
    "start_time": "2022-02-20T13:58:07.630Z"
   },
   {
    "duration": 4,
    "start_time": "2022-02-20T13:58:07.940Z"
   },
   {
    "duration": 4,
    "start_time": "2022-02-20T13:58:08.250Z"
   },
   {
    "duration": 7,
    "start_time": "2022-02-20T13:58:08.402Z"
   },
   {
    "duration": 14,
    "start_time": "2022-02-20T13:58:08.723Z"
   },
   {
    "duration": 4,
    "start_time": "2022-02-20T13:58:09.058Z"
   },
   {
    "duration": 10,
    "start_time": "2022-02-20T13:58:09.367Z"
   },
   {
    "duration": 4,
    "start_time": "2022-02-20T13:58:09.866Z"
   },
   {
    "duration": 9,
    "start_time": "2022-02-20T13:58:10.036Z"
   },
   {
    "duration": 4,
    "start_time": "2022-02-20T13:58:10.521Z"
   },
   {
    "duration": 6,
    "start_time": "2022-02-20T13:58:10.846Z"
   },
   {
    "duration": 5,
    "start_time": "2022-02-20T13:58:11.180Z"
   },
   {
    "duration": 3,
    "start_time": "2022-02-20T13:58:11.503Z"
   },
   {
    "duration": 4,
    "start_time": "2022-02-20T13:58:11.846Z"
   },
   {
    "duration": 7,
    "start_time": "2022-02-20T13:58:12.193Z"
   },
   {
    "duration": 6,
    "start_time": "2022-02-20T13:58:12.524Z"
   },
   {
    "duration": 698,
    "start_time": "2022-02-20T13:58:19.291Z"
   },
   {
    "duration": 687,
    "start_time": "2022-02-20T13:58:19.303Z"
   },
   {
    "duration": 684,
    "start_time": "2022-02-20T13:58:19.307Z"
   },
   {
    "duration": 682,
    "start_time": "2022-02-20T13:58:19.310Z"
   },
   {
    "duration": 684,
    "start_time": "2022-02-20T13:58:26.425Z"
   },
   {
    "duration": 11,
    "start_time": "2022-02-20T13:58:27.111Z"
   },
   {
    "duration": 3,
    "start_time": "2022-02-20T13:58:30.594Z"
   },
   {
    "duration": 10,
    "start_time": "2022-02-20T13:58:31.317Z"
   },
   {
    "duration": 5,
    "start_time": "2022-02-20T13:58:32.850Z"
   },
   {
    "duration": 13,
    "start_time": "2022-02-20T13:58:34.066Z"
   },
   {
    "duration": 13,
    "start_time": "2022-02-20T13:58:36.122Z"
   },
   {
    "duration": 5,
    "start_time": "2022-02-20T13:58:37.840Z"
   },
   {
    "duration": 5,
    "start_time": "2022-02-20T13:58:39.049Z"
   },
   {
    "duration": 13,
    "start_time": "2022-02-20T13:58:39.570Z"
   },
   {
    "duration": 17,
    "start_time": "2022-02-20T13:58:40.653Z"
   },
   {
    "duration": 4,
    "start_time": "2022-02-20T13:58:41.702Z"
   },
   {
    "duration": 9,
    "start_time": "2022-02-20T13:58:42.782Z"
   },
   {
    "duration": 4,
    "start_time": "2022-02-20T13:58:44.189Z"
   },
   {
    "duration": 10,
    "start_time": "2022-02-20T13:58:44.705Z"
   },
   {
    "duration": 4,
    "start_time": "2022-02-20T13:58:46.119Z"
   },
   {
    "duration": 6,
    "start_time": "2022-02-20T13:58:47.187Z"
   },
   {
    "duration": 5,
    "start_time": "2022-02-20T13:58:48.249Z"
   },
   {
    "duration": 4,
    "start_time": "2022-02-20T13:58:49.168Z"
   },
   {
    "duration": 6,
    "start_time": "2022-02-20T13:58:50.020Z"
   },
   {
    "duration": 13,
    "start_time": "2022-02-20T13:58:50.969Z"
   },
   {
    "duration": 5,
    "start_time": "2022-02-20T13:58:52.107Z"
   },
   {
    "duration": 3,
    "start_time": "2022-02-20T13:58:53.203Z"
   },
   {
    "duration": 12,
    "start_time": "2022-02-20T13:58:53.821Z"
   },
   {
    "duration": 6,
    "start_time": "2022-02-20T13:58:55.022Z"
   },
   {
    "duration": 5,
    "start_time": "2022-02-20T13:58:56.135Z"
   },
   {
    "duration": 22,
    "start_time": "2022-02-20T13:58:56.667Z"
   },
   {
    "duration": 4,
    "start_time": "2022-02-20T13:58:57.671Z"
   },
   {
    "duration": 10,
    "start_time": "2022-02-20T13:58:58.128Z"
   },
   {
    "duration": 6,
    "start_time": "2022-02-20T13:58:58.589Z"
   },
   {
    "duration": 4,
    "start_time": "2022-02-20T13:58:59.471Z"
   },
   {
    "duration": 4,
    "start_time": "2022-02-20T13:59:00.421Z"
   },
   {
    "duration": 6,
    "start_time": "2022-02-20T13:59:01.333Z"
   },
   {
    "duration": 7,
    "start_time": "2022-02-20T13:59:02.291Z"
   },
   {
    "duration": 14,
    "start_time": "2022-02-20T13:59:06.959Z"
   },
   {
    "duration": 21,
    "start_time": "2022-02-20T13:59:07.731Z"
   },
   {
    "duration": 35,
    "start_time": "2022-02-20T13:59:08.842Z"
   },
   {
    "duration": 10,
    "start_time": "2022-02-20T13:59:10.585Z"
   },
   {
    "duration": 10,
    "start_time": "2022-02-20T13:59:11.232Z"
   },
   {
    "duration": 17,
    "start_time": "2022-02-20T13:59:12.985Z"
   },
   {
    "duration": 4,
    "start_time": "2022-02-20T13:59:14.444Z"
   },
   {
    "duration": 17,
    "start_time": "2022-02-20T13:59:15.731Z"
   },
   {
    "duration": 19,
    "start_time": "2022-02-20T13:59:17.595Z"
   },
   {
    "duration": 285,
    "start_time": "2022-02-20T14:08:30.110Z"
   },
   {
    "duration": 295,
    "start_time": "2022-02-20T14:09:29.445Z"
   },
   {
    "duration": 279,
    "start_time": "2022-02-20T14:10:00.981Z"
   },
   {
    "duration": 302,
    "start_time": "2022-02-20T14:29:03.783Z"
   },
   {
    "duration": 19,
    "start_time": "2022-02-20T14:34:26.346Z"
   },
   {
    "duration": 21,
    "start_time": "2022-02-20T14:35:48.146Z"
   },
   {
    "duration": 22,
    "start_time": "2022-02-20T14:36:06.138Z"
   },
   {
    "duration": 23,
    "start_time": "2022-02-20T14:38:27.347Z"
   },
   {
    "duration": 95,
    "start_time": "2022-02-20T14:43:16.078Z"
   },
   {
    "duration": 36,
    "start_time": "2022-02-20T14:43:26.264Z"
   },
   {
    "duration": 289,
    "start_time": "2022-02-20T14:43:45.338Z"
   },
   {
    "duration": 22,
    "start_time": "2022-02-20T14:43:53.642Z"
   },
   {
    "duration": 303,
    "start_time": "2022-02-20T14:44:13.468Z"
   },
   {
    "duration": 92,
    "start_time": "2022-02-20T14:44:42.118Z"
   },
   {
    "duration": 27,
    "start_time": "2022-02-20T14:45:12.939Z"
   },
   {
    "duration": 312,
    "start_time": "2022-02-20T17:06:38.075Z"
   },
   {
    "duration": 894,
    "start_time": "2022-02-20T17:06:46.491Z"
   },
   {
    "duration": 36,
    "start_time": "2022-02-20T17:06:47.389Z"
   },
   {
    "duration": 5,
    "start_time": "2022-02-20T17:06:47.534Z"
   },
   {
    "duration": 18,
    "start_time": "2022-02-20T17:06:47.894Z"
   },
   {
    "duration": 8,
    "start_time": "2022-02-20T17:06:48.561Z"
   },
   {
    "duration": 22,
    "start_time": "2022-02-20T17:06:48.916Z"
   },
   {
    "duration": 20,
    "start_time": "2022-02-20T17:06:49.448Z"
   },
   {
    "duration": 7,
    "start_time": "2022-02-20T17:06:49.801Z"
   },
   {
    "duration": 8,
    "start_time": "2022-02-20T17:06:50.141Z"
   },
   {
    "duration": 22,
    "start_time": "2022-02-20T17:06:50.308Z"
   },
   {
    "duration": 36,
    "start_time": "2022-02-20T17:06:50.640Z"
   },
   {
    "duration": 7,
    "start_time": "2022-02-20T17:06:50.959Z"
   },
   {
    "duration": 14,
    "start_time": "2022-02-20T17:06:51.266Z"
   },
   {
    "duration": 7,
    "start_time": "2022-02-20T17:06:51.769Z"
   },
   {
    "duration": 17,
    "start_time": "2022-02-20T17:06:51.939Z"
   },
   {
    "duration": 8,
    "start_time": "2022-02-20T17:06:52.436Z"
   },
   {
    "duration": 11,
    "start_time": "2022-02-20T17:06:52.786Z"
   },
   {
    "duration": 9,
    "start_time": "2022-02-20T17:06:53.114Z"
   },
   {
    "duration": 6,
    "start_time": "2022-02-20T17:06:53.447Z"
   },
   {
    "duration": 7,
    "start_time": "2022-02-20T17:06:53.764Z"
   },
   {
    "duration": 19,
    "start_time": "2022-02-20T17:06:55.240Z"
   },
   {
    "duration": 11,
    "start_time": "2022-02-20T17:06:55.262Z"
   },
   {
    "duration": 8,
    "start_time": "2022-02-20T17:06:55.277Z"
   },
   {
    "duration": 62,
    "start_time": "2022-02-20T17:06:55.288Z"
   },
   {
    "duration": 7,
    "start_time": "2022-02-20T17:06:55.353Z"
   },
   {
    "duration": 8,
    "start_time": "2022-02-20T17:06:55.500Z"
   },
   {
    "duration": 25,
    "start_time": "2022-02-20T17:06:55.674Z"
   },
   {
    "duration": 7,
    "start_time": "2022-02-20T17:06:56.022Z"
   },
   {
    "duration": 18,
    "start_time": "2022-02-20T17:06:56.192Z"
   },
   {
    "duration": 9,
    "start_time": "2022-02-20T17:06:56.364Z"
   },
   {
    "duration": 7,
    "start_time": "2022-02-20T17:06:56.700Z"
   },
   {
    "duration": 6,
    "start_time": "2022-02-20T17:06:57.042Z"
   },
   {
    "duration": 9,
    "start_time": "2022-02-20T17:06:57.397Z"
   },
   {
    "duration": 7,
    "start_time": "2022-02-20T17:06:57.750Z"
   },
   {
    "duration": 23,
    "start_time": "2022-02-20T17:06:59.453Z"
   },
   {
    "duration": 36,
    "start_time": "2022-02-20T17:06:59.668Z"
   },
   {
    "duration": 56,
    "start_time": "2022-02-20T17:07:00.054Z"
   },
   {
    "duration": 15,
    "start_time": "2022-02-20T17:07:00.773Z"
   },
   {
    "duration": 16,
    "start_time": "2022-02-20T17:07:01.188Z"
   },
   {
    "duration": 36,
    "start_time": "2022-02-20T17:07:02.471Z"
   },
   {
    "duration": 6,
    "start_time": "2022-02-20T17:07:03.404Z"
   },
   {
    "duration": 29,
    "start_time": "2022-02-20T17:07:04.456Z"
   },
   {
    "duration": 36,
    "start_time": "2022-02-20T17:07:05.930Z"
   },
   {
    "duration": 42,
    "start_time": "2022-02-20T17:07:07.718Z"
   },
   {
    "duration": 36,
    "start_time": "2022-02-20T17:07:09.348Z"
   },
   {
    "duration": 40,
    "start_time": "2022-02-20T17:09:32.077Z"
   },
   {
    "duration": 41,
    "start_time": "2022-02-20T17:12:00.552Z"
   },
   {
    "duration": 66,
    "start_time": "2022-02-20T17:26:23.960Z"
   },
   {
    "duration": 20,
    "start_time": "2022-02-20T17:26:24.191Z"
   },
   {
    "duration": 7,
    "start_time": "2022-02-20T17:26:25.228Z"
   },
   {
    "duration": 20,
    "start_time": "2022-02-20T17:26:25.426Z"
   },
   {
    "duration": 8,
    "start_time": "2022-02-20T17:26:25.804Z"
   },
   {
    "duration": 20,
    "start_time": "2022-02-20T17:26:26.152Z"
   },
   {
    "duration": 21,
    "start_time": "2022-02-20T17:26:26.711Z"
   },
   {
    "duration": 6,
    "start_time": "2022-02-20T17:26:27.073Z"
   },
   {
    "duration": 7,
    "start_time": "2022-02-20T17:26:27.453Z"
   },
   {
    "duration": 23,
    "start_time": "2022-02-20T17:26:27.630Z"
   },
   {
    "duration": 28,
    "start_time": "2022-02-20T17:26:28.017Z"
   },
   {
    "duration": 6,
    "start_time": "2022-02-20T17:26:28.464Z"
   },
   {
    "duration": 14,
    "start_time": "2022-02-20T17:26:28.938Z"
   },
   {
    "duration": 6,
    "start_time": "2022-02-20T17:26:30.154Z"
   },
   {
    "duration": 15,
    "start_time": "2022-02-20T17:26:30.592Z"
   },
   {
    "duration": 7,
    "start_time": "2022-02-20T17:26:31.745Z"
   },
   {
    "duration": 11,
    "start_time": "2022-02-20T17:26:32.465Z"
   },
   {
    "duration": 12,
    "start_time": "2022-02-20T17:26:33.021Z"
   },
   {
    "duration": 6,
    "start_time": "2022-02-20T17:26:33.561Z"
   },
   {
    "duration": 7,
    "start_time": "2022-02-20T17:26:34.092Z"
   },
   {
    "duration": 22,
    "start_time": "2022-02-20T17:26:34.566Z"
   },
   {
    "duration": 10,
    "start_time": "2022-02-20T17:26:35.048Z"
   },
   {
    "duration": 6,
    "start_time": "2022-02-20T17:26:35.503Z"
   },
   {
    "duration": 20,
    "start_time": "2022-02-20T17:26:35.717Z"
   },
   {
    "duration": 6,
    "start_time": "2022-02-20T17:26:36.097Z"
   },
   {
    "duration": 7,
    "start_time": "2022-02-20T17:26:36.508Z"
   },
   {
    "duration": 23,
    "start_time": "2022-02-20T17:26:36.680Z"
   },
   {
    "duration": 6,
    "start_time": "2022-02-20T17:26:37.058Z"
   },
   {
    "duration": 18,
    "start_time": "2022-02-20T17:26:37.241Z"
   },
   {
    "duration": 10,
    "start_time": "2022-02-20T17:26:37.423Z"
   },
   {
    "duration": 7,
    "start_time": "2022-02-20T17:26:37.800Z"
   },
   {
    "duration": 6,
    "start_time": "2022-02-20T17:26:38.146Z"
   },
   {
    "duration": 10,
    "start_time": "2022-02-20T17:26:38.519Z"
   },
   {
    "duration": 8,
    "start_time": "2022-02-20T17:26:38.905Z"
   },
   {
    "duration": 22,
    "start_time": "2022-02-20T17:26:40.128Z"
   },
   {
    "duration": 33,
    "start_time": "2022-02-20T17:26:40.522Z"
   },
   {
    "duration": 55,
    "start_time": "2022-02-20T17:26:40.903Z"
   },
   {
    "duration": 16,
    "start_time": "2022-02-20T17:26:41.460Z"
   },
   {
    "duration": 18,
    "start_time": "2022-02-20T17:26:41.680Z"
   },
   {
    "duration": 26,
    "start_time": "2022-02-20T17:26:44.670Z"
   },
   {
    "duration": 6,
    "start_time": "2022-02-20T17:26:45.500Z"
   },
   {
    "duration": 28,
    "start_time": "2022-02-20T17:26:46.266Z"
   },
   {
    "duration": 35,
    "start_time": "2022-02-20T17:26:47.332Z"
   },
   {
    "duration": 42,
    "start_time": "2022-02-20T17:26:48.636Z"
   },
   {
    "duration": 39,
    "start_time": "2022-02-20T17:26:50.205Z"
   },
   {
    "duration": 39,
    "start_time": "2022-02-20T17:26:51.645Z"
   },
   {
    "duration": 40,
    "start_time": "2022-02-20T17:26:55.278Z"
   },
   {
    "duration": 66,
    "start_time": "2022-02-20T17:50:16.019Z"
   },
   {
    "duration": 19,
    "start_time": "2022-02-20T17:50:16.435Z"
   },
   {
    "duration": 5,
    "start_time": "2022-02-20T17:50:18.246Z"
   },
   {
    "duration": 22,
    "start_time": "2022-02-20T17:50:18.592Z"
   },
   {
    "duration": 9,
    "start_time": "2022-02-20T17:50:19.262Z"
   },
   {
    "duration": 22,
    "start_time": "2022-02-20T17:50:19.943Z"
   },
   {
    "duration": 22,
    "start_time": "2022-02-20T17:50:20.902Z"
   },
   {
    "duration": 6,
    "start_time": "2022-02-20T17:50:21.573Z"
   },
   {
    "duration": 8,
    "start_time": "2022-02-20T17:50:22.274Z"
   },
   {
    "duration": 21,
    "start_time": "2022-02-20T17:50:22.630Z"
   },
   {
    "duration": 35,
    "start_time": "2022-02-20T17:50:23.337Z"
   },
   {
    "duration": 7,
    "start_time": "2022-02-20T17:50:24.044Z"
   },
   {
    "duration": 15,
    "start_time": "2022-02-20T17:50:24.748Z"
   },
   {
    "duration": 7,
    "start_time": "2022-02-20T17:50:25.784Z"
   },
   {
    "duration": 17,
    "start_time": "2022-02-20T17:50:26.129Z"
   },
   {
    "duration": 9,
    "start_time": "2022-02-20T17:50:27.043Z"
   },
   {
    "duration": 11,
    "start_time": "2022-02-20T17:50:27.550Z"
   },
   {
    "duration": 9,
    "start_time": "2022-02-20T17:50:27.999Z"
   },
   {
    "duration": 5,
    "start_time": "2022-02-20T17:50:28.403Z"
   },
   {
    "duration": 7,
    "start_time": "2022-02-20T17:50:28.777Z"
   },
   {
    "duration": 18,
    "start_time": "2022-02-20T17:50:29.148Z"
   },
   {
    "duration": 8,
    "start_time": "2022-02-20T17:50:29.545Z"
   },
   {
    "duration": 7,
    "start_time": "2022-02-20T17:50:29.887Z"
   },
   {
    "duration": 18,
    "start_time": "2022-02-20T17:50:30.070Z"
   },
   {
    "duration": 6,
    "start_time": "2022-02-20T17:50:30.460Z"
   },
   {
    "duration": 7,
    "start_time": "2022-02-20T17:50:30.809Z"
   },
   {
    "duration": 25,
    "start_time": "2022-02-20T17:50:30.966Z"
   },
   {
    "duration": 6,
    "start_time": "2022-02-20T17:50:31.326Z"
   },
   {
    "duration": 18,
    "start_time": "2022-02-20T17:50:31.489Z"
   },
   {
    "duration": 8,
    "start_time": "2022-02-20T17:50:31.676Z"
   },
   {
    "duration": 8,
    "start_time": "2022-02-20T17:50:32.024Z"
   },
   {
    "duration": 7,
    "start_time": "2022-02-20T17:50:32.523Z"
   },
   {
    "duration": 10,
    "start_time": "2022-02-20T17:50:32.884Z"
   },
   {
    "duration": 10,
    "start_time": "2022-02-20T17:50:33.230Z"
   },
   {
    "duration": 47,
    "start_time": "2022-02-20T17:50:33.949Z"
   },
   {
    "duration": 35,
    "start_time": "2022-02-20T17:50:34.111Z"
   },
   {
    "duration": 62,
    "start_time": "2022-02-20T17:50:34.468Z"
   },
   {
    "duration": 16,
    "start_time": "2022-02-20T17:50:34.978Z"
   },
   {
    "duration": 17,
    "start_time": "2022-02-20T17:50:35.144Z"
   },
   {
    "duration": 28,
    "start_time": "2022-02-20T17:50:35.789Z"
   },
   {
    "duration": 7,
    "start_time": "2022-02-20T17:50:36.137Z"
   },
   {
    "duration": 30,
    "start_time": "2022-02-20T17:50:36.510Z"
   },
   {
    "duration": 38,
    "start_time": "2022-02-20T17:50:37.079Z"
   },
   {
    "duration": 39,
    "start_time": "2022-02-20T17:50:37.783Z"
   },
   {
    "duration": 38,
    "start_time": "2022-02-20T17:50:38.564Z"
   },
   {
    "duration": 39,
    "start_time": "2022-02-20T17:50:39.772Z"
   },
   {
    "duration": 43,
    "start_time": "2022-02-20T17:50:40.733Z"
   },
   {
    "duration": 585,
    "start_time": "2022-03-02T12:44:04.433Z"
   },
   {
    "duration": 16,
    "start_time": "2022-03-02T12:44:05.020Z"
   },
   {
    "duration": 4,
    "start_time": "2022-03-02T12:44:05.038Z"
   },
   {
    "duration": 11,
    "start_time": "2022-03-02T12:44:05.044Z"
   },
   {
    "duration": 5,
    "start_time": "2022-03-02T12:44:05.057Z"
   },
   {
    "duration": 11,
    "start_time": "2022-03-02T12:44:05.063Z"
   },
   {
    "duration": 36,
    "start_time": "2022-03-02T12:44:05.076Z"
   },
   {
    "duration": 4,
    "start_time": "2022-03-02T12:44:05.115Z"
   },
   {
    "duration": 5,
    "start_time": "2022-03-02T12:44:05.121Z"
   },
   {
    "duration": 13,
    "start_time": "2022-03-02T12:44:05.128Z"
   },
   {
    "duration": 14,
    "start_time": "2022-03-02T12:44:05.142Z"
   },
   {
    "duration": 3,
    "start_time": "2022-03-02T12:44:05.158Z"
   },
   {
    "duration": 45,
    "start_time": "2022-03-02T12:44:05.162Z"
   },
   {
    "duration": 4,
    "start_time": "2022-03-02T12:44:05.209Z"
   },
   {
    "duration": 12,
    "start_time": "2022-03-02T12:44:05.214Z"
   },
   {
    "duration": 6,
    "start_time": "2022-03-02T12:44:05.228Z"
   },
   {
    "duration": 7,
    "start_time": "2022-03-02T12:44:05.235Z"
   },
   {
    "duration": 7,
    "start_time": "2022-03-02T12:44:05.243Z"
   },
   {
    "duration": 6,
    "start_time": "2022-03-02T12:44:05.252Z"
   },
   {
    "duration": 42,
    "start_time": "2022-03-02T12:44:05.259Z"
   },
   {
    "duration": 10,
    "start_time": "2022-03-02T12:44:05.302Z"
   },
   {
    "duration": 6,
    "start_time": "2022-03-02T12:44:05.313Z"
   },
   {
    "duration": 3,
    "start_time": "2022-03-02T12:44:05.322Z"
   },
   {
    "duration": 17,
    "start_time": "2022-03-02T12:44:05.327Z"
   },
   {
    "duration": 7,
    "start_time": "2022-03-02T12:44:05.345Z"
   },
   {
    "duration": 10,
    "start_time": "2022-03-02T12:44:05.353Z"
   },
   {
    "duration": 45,
    "start_time": "2022-03-02T12:44:05.364Z"
   },
   {
    "duration": 3,
    "start_time": "2022-03-02T12:44:05.411Z"
   },
   {
    "duration": 11,
    "start_time": "2022-03-02T12:44:05.416Z"
   },
   {
    "duration": 9,
    "start_time": "2022-03-02T12:44:05.428Z"
   },
   {
    "duration": 8,
    "start_time": "2022-03-02T12:44:05.438Z"
   },
   {
    "duration": 8,
    "start_time": "2022-03-02T12:44:05.447Z"
   },
   {
    "duration": 11,
    "start_time": "2022-03-02T12:44:05.456Z"
   },
   {
    "duration": 5,
    "start_time": "2022-03-02T12:44:05.469Z"
   },
   {
    "duration": 38,
    "start_time": "2022-03-02T12:44:05.476Z"
   },
   {
    "duration": 21,
    "start_time": "2022-03-02T12:44:05.515Z"
   },
   {
    "duration": 64,
    "start_time": "2022-03-02T12:44:05.537Z"
   },
   {
    "duration": 9,
    "start_time": "2022-03-02T12:44:05.603Z"
   },
   {
    "duration": 10,
    "start_time": "2022-03-02T12:44:05.613Z"
   },
   {
    "duration": 16,
    "start_time": "2022-03-02T12:44:05.624Z"
   },
   {
    "duration": 5,
    "start_time": "2022-03-02T12:44:05.642Z"
   },
   {
    "duration": 19,
    "start_time": "2022-03-02T12:44:05.648Z"
   },
   {
    "duration": 51,
    "start_time": "2022-03-02T12:44:05.668Z"
   },
   {
    "duration": 24,
    "start_time": "2022-03-02T12:44:05.720Z"
   },
   {
    "duration": 20,
    "start_time": "2022-03-02T12:44:05.746Z"
   },
   {
    "duration": 45,
    "start_time": "2022-03-02T12:44:05.768Z"
   },
   {
    "duration": 24,
    "start_time": "2022-03-02T12:44:05.815Z"
   },
   {
    "duration": 104,
    "start_time": "2022-03-02T13:04:33.742Z"
   },
   {
    "duration": 598,
    "start_time": "2022-03-03T18:43:51.076Z"
   },
   {
    "duration": 18,
    "start_time": "2022-03-03T18:43:51.676Z"
   },
   {
    "duration": 3,
    "start_time": "2022-03-03T18:43:53.944Z"
   },
   {
    "duration": 11,
    "start_time": "2022-03-03T18:43:54.485Z"
   },
   {
    "duration": 6,
    "start_time": "2022-03-03T18:43:55.489Z"
   },
   {
    "duration": 13,
    "start_time": "2022-03-03T18:43:56.384Z"
   },
   {
    "duration": 13,
    "start_time": "2022-03-03T18:43:57.685Z"
   },
   {
    "duration": 4,
    "start_time": "2022-03-03T18:43:58.567Z"
   },
   {
    "duration": 6,
    "start_time": "2022-03-03T18:43:59.364Z"
   },
   {
    "duration": 14,
    "start_time": "2022-03-03T18:43:59.759Z"
   },
   {
    "duration": 16,
    "start_time": "2022-03-03T18:44:00.612Z"
   },
   {
    "duration": 5,
    "start_time": "2022-03-03T18:44:01.463Z"
   },
   {
    "duration": 10,
    "start_time": "2022-03-03T18:44:02.391Z"
   },
   {
    "duration": 5,
    "start_time": "2022-03-03T18:44:04.129Z"
   },
   {
    "duration": 11,
    "start_time": "2022-03-03T18:44:04.521Z"
   },
   {
    "duration": 5,
    "start_time": "2022-03-03T18:44:06.196Z"
   },
   {
    "duration": 7,
    "start_time": "2022-03-03T18:44:07.082Z"
   },
   {
    "duration": 6,
    "start_time": "2022-03-03T18:44:08.272Z"
   },
   {
    "duration": 4,
    "start_time": "2022-03-03T18:44:09.098Z"
   },
   {
    "duration": 5,
    "start_time": "2022-03-03T18:44:09.952Z"
   },
   {
    "duration": 12,
    "start_time": "2022-03-03T18:44:10.693Z"
   },
   {
    "duration": 6,
    "start_time": "2022-03-03T18:44:11.510Z"
   },
   {
    "duration": 4,
    "start_time": "2022-03-03T18:44:12.220Z"
   },
   {
    "duration": 14,
    "start_time": "2022-03-03T18:44:12.588Z"
   },
   {
    "duration": 5,
    "start_time": "2022-03-03T18:44:13.754Z"
   },
   {
    "duration": 5,
    "start_time": "2022-03-03T18:44:14.481Z"
   },
   {
    "duration": 17,
    "start_time": "2022-03-03T18:44:14.858Z"
   },
   {
    "duration": 5,
    "start_time": "2022-03-03T18:44:15.721Z"
   },
   {
    "duration": 11,
    "start_time": "2022-03-03T18:44:16.130Z"
   },
   {
    "duration": 8,
    "start_time": "2022-03-03T18:44:16.538Z"
   },
   {
    "duration": 4,
    "start_time": "2022-03-03T18:44:17.383Z"
   },
   {
    "duration": 4,
    "start_time": "2022-03-03T18:44:18.327Z"
   },
   {
    "duration": 6,
    "start_time": "2022-03-03T18:44:19.261Z"
   },
   {
    "duration": 5,
    "start_time": "2022-03-03T18:44:20.346Z"
   },
   {
    "duration": 17,
    "start_time": "2022-03-03T18:44:22.657Z"
   },
   {
    "duration": 25,
    "start_time": "2022-03-03T18:44:23.188Z"
   },
   {
    "duration": 39,
    "start_time": "2022-03-03T18:44:24.319Z"
   },
   {
    "duration": 10,
    "start_time": "2022-03-03T18:44:26.651Z"
   },
   {
    "duration": 10,
    "start_time": "2022-03-03T18:44:27.258Z"
   },
   {
    "duration": 30,
    "start_time": "2022-03-03T18:44:31.261Z"
   },
   {
    "duration": 21,
    "start_time": "2022-03-03T18:44:47.530Z"
   },
   {
    "duration": 31,
    "start_time": "2022-03-03T18:44:51.599Z"
   },
   {
    "duration": 22,
    "start_time": "2022-03-03T18:44:58.136Z"
   },
   {
    "duration": 17,
    "start_time": "2022-03-03T18:45:04.336Z"
   },
   {
    "duration": 227,
    "start_time": "2022-03-03T18:45:25.217Z"
   },
   {
    "duration": 48,
    "start_time": "2022-03-03T18:45:41.614Z"
   },
   {
    "duration": 13,
    "start_time": "2022-03-03T18:45:41.905Z"
   },
   {
    "duration": 4,
    "start_time": "2022-03-03T18:45:43.257Z"
   },
   {
    "duration": 11,
    "start_time": "2022-03-03T18:45:43.472Z"
   },
   {
    "duration": 5,
    "start_time": "2022-03-03T18:45:43.892Z"
   },
   {
    "duration": 11,
    "start_time": "2022-03-03T18:45:44.338Z"
   },
   {
    "duration": 13,
    "start_time": "2022-03-03T18:45:45.227Z"
   },
   {
    "duration": 5,
    "start_time": "2022-03-03T18:45:45.923Z"
   },
   {
    "duration": 5,
    "start_time": "2022-03-03T18:45:46.462Z"
   },
   {
    "duration": 12,
    "start_time": "2022-03-03T18:45:46.743Z"
   },
   {
    "duration": 16,
    "start_time": "2022-03-03T18:45:47.263Z"
   },
   {
    "duration": 5,
    "start_time": "2022-03-03T18:45:47.846Z"
   },
   {
    "duration": 10,
    "start_time": "2022-03-03T18:45:48.626Z"
   },
   {
    "duration": 4,
    "start_time": "2022-03-03T18:45:50.078Z"
   },
   {
    "duration": 11,
    "start_time": "2022-03-03T18:45:50.476Z"
   },
   {
    "duration": 5,
    "start_time": "2022-03-03T18:45:51.926Z"
   },
   {
    "duration": 6,
    "start_time": "2022-03-03T18:45:52.690Z"
   },
   {
    "duration": 6,
    "start_time": "2022-03-03T18:45:53.739Z"
   },
   {
    "duration": 3,
    "start_time": "2022-03-03T18:45:54.446Z"
   },
   {
    "duration": 5,
    "start_time": "2022-03-03T18:45:55.068Z"
   },
   {
    "duration": 11,
    "start_time": "2022-03-03T18:45:55.690Z"
   },
   {
    "duration": 6,
    "start_time": "2022-03-03T18:45:56.466Z"
   },
   {
    "duration": 4,
    "start_time": "2022-03-03T18:45:57.165Z"
   },
   {
    "duration": 13,
    "start_time": "2022-03-03T18:45:57.454Z"
   },
   {
    "duration": 4,
    "start_time": "2022-03-03T18:45:58.540Z"
   },
   {
    "duration": 4,
    "start_time": "2022-03-03T18:45:59.268Z"
   },
   {
    "duration": 15,
    "start_time": "2022-03-03T18:45:59.657Z"
   },
   {
    "duration": 4,
    "start_time": "2022-03-03T18:46:00.523Z"
   },
   {
    "duration": 11,
    "start_time": "2022-03-03T18:46:00.874Z"
   },
   {
    "duration": 6,
    "start_time": "2022-03-03T18:46:01.266Z"
   },
   {
    "duration": 5,
    "start_time": "2022-03-03T18:46:02.050Z"
   },
   {
    "duration": 4,
    "start_time": "2022-03-03T18:46:02.978Z"
   },
   {
    "duration": 6,
    "start_time": "2022-03-03T18:46:03.762Z"
   },
   {
    "duration": 5,
    "start_time": "2022-03-03T18:46:04.736Z"
   },
   {
    "duration": 17,
    "start_time": "2022-03-03T18:46:06.410Z"
   },
   {
    "duration": 24,
    "start_time": "2022-03-03T18:46:06.771Z"
   },
   {
    "duration": 37,
    "start_time": "2022-03-03T18:46:07.572Z"
   },
   {
    "duration": 10,
    "start_time": "2022-03-03T18:46:10.336Z"
   },
   {
    "duration": 10,
    "start_time": "2022-03-03T18:46:15.284Z"
   },
   {
    "duration": 11,
    "start_time": "2022-03-03T18:46:22.691Z"
   },
   {
    "duration": 12,
    "start_time": "2022-03-03T18:46:27.279Z"
   },
   {
    "duration": 12,
    "start_time": "2022-03-03T18:46:35.669Z"
   },
   {
    "duration": 19,
    "start_time": "2022-03-03T18:46:39.063Z"
   },
   {
    "duration": 50,
    "start_time": "2022-03-03T19:22:09.530Z"
   },
   {
    "duration": 12,
    "start_time": "2022-03-03T19:22:10.040Z"
   },
   {
    "duration": 3,
    "start_time": "2022-03-03T19:22:12.333Z"
   },
   {
    "duration": 10,
    "start_time": "2022-03-03T19:22:12.801Z"
   },
   {
    "duration": 6,
    "start_time": "2022-03-03T19:22:13.788Z"
   },
   {
    "duration": 13,
    "start_time": "2022-03-03T19:22:14.827Z"
   },
   {
    "duration": 13,
    "start_time": "2022-03-03T19:22:16.249Z"
   },
   {
    "duration": 5,
    "start_time": "2022-03-03T19:22:17.304Z"
   },
   {
    "duration": 6,
    "start_time": "2022-03-03T19:22:18.113Z"
   },
   {
    "duration": 11,
    "start_time": "2022-03-03T19:22:18.510Z"
   },
   {
    "duration": 17,
    "start_time": "2022-03-03T19:22:19.432Z"
   },
   {
    "duration": 4,
    "start_time": "2022-03-03T19:22:20.365Z"
   },
   {
    "duration": 11,
    "start_time": "2022-03-03T19:22:21.299Z"
   },
   {
    "duration": 4,
    "start_time": "2022-03-03T19:22:23.156Z"
   },
   {
    "duration": 11,
    "start_time": "2022-03-03T19:22:23.583Z"
   },
   {
    "duration": 5,
    "start_time": "2022-03-03T19:22:25.237Z"
   },
   {
    "duration": 7,
    "start_time": "2022-03-03T19:22:26.125Z"
   },
   {
    "duration": 6,
    "start_time": "2022-03-03T19:22:27.442Z"
   },
   {
    "duration": 4,
    "start_time": "2022-03-03T19:22:28.495Z"
   },
   {
    "duration": 5,
    "start_time": "2022-03-03T19:22:29.476Z"
   },
   {
    "duration": 13,
    "start_time": "2022-03-03T19:22:30.320Z"
   },
   {
    "duration": 6,
    "start_time": "2022-03-03T19:22:31.083Z"
   },
   {
    "duration": 5,
    "start_time": "2022-03-03T19:22:31.921Z"
   },
   {
    "duration": 14,
    "start_time": "2022-03-03T19:22:32.292Z"
   },
   {
    "duration": 4,
    "start_time": "2022-03-03T19:22:33.475Z"
   },
   {
    "duration": 5,
    "start_time": "2022-03-03T19:22:34.155Z"
   },
   {
    "duration": 14,
    "start_time": "2022-03-03T19:22:34.532Z"
   },
   {
    "duration": 4,
    "start_time": "2022-03-03T19:22:35.322Z"
   },
   {
    "duration": 11,
    "start_time": "2022-03-03T19:22:35.715Z"
   },
   {
    "duration": 6,
    "start_time": "2022-03-03T19:22:36.088Z"
   },
   {
    "duration": 4,
    "start_time": "2022-03-03T19:22:36.856Z"
   },
   {
    "duration": 4,
    "start_time": "2022-03-03T19:22:37.680Z"
   },
   {
    "duration": 6,
    "start_time": "2022-03-03T19:22:38.479Z"
   },
   {
    "duration": 4,
    "start_time": "2022-03-03T19:22:39.289Z"
   },
   {
    "duration": 17,
    "start_time": "2022-03-03T19:22:40.851Z"
   },
   {
    "duration": 21,
    "start_time": "2022-03-03T19:22:41.277Z"
   },
   {
    "duration": 37,
    "start_time": "2022-03-03T19:22:42.128Z"
   },
   {
    "duration": 11,
    "start_time": "2022-03-03T19:22:43.949Z"
   },
   {
    "duration": 10,
    "start_time": "2022-03-03T19:22:44.417Z"
   },
   {
    "duration": 11,
    "start_time": "2022-03-03T19:22:45.331Z"
   },
   {
    "duration": 11,
    "start_time": "2022-03-03T19:22:45.770Z"
   },
   {
    "duration": 17,
    "start_time": "2022-03-03T19:22:46.642Z"
   },
   {
    "duration": 3,
    "start_time": "2022-03-03T19:22:48.496Z"
   },
   {
    "duration": 17,
    "start_time": "2022-03-03T19:22:52.179Z"
   },
   {
    "duration": 23,
    "start_time": "2022-03-03T19:22:54.085Z"
   },
   {
    "duration": 27,
    "start_time": "2022-03-03T19:22:56.008Z"
   },
   {
    "duration": 23,
    "start_time": "2022-03-03T19:22:58.384Z"
   },
   {
    "duration": 29,
    "start_time": "2022-03-03T19:23:00.015Z"
   },
   {
    "duration": 28,
    "start_time": "2022-03-03T19:23:01.628Z"
   },
   {
    "duration": 621,
    "start_time": "2022-03-04T11:06:35.033Z"
   },
   {
    "duration": 18,
    "start_time": "2022-03-04T11:06:35.656Z"
   },
   {
    "duration": 20,
    "start_time": "2022-03-04T11:06:35.676Z"
   },
   {
    "duration": 17,
    "start_time": "2022-03-04T11:06:35.698Z"
   },
   {
    "duration": 15,
    "start_time": "2022-03-04T11:06:35.717Z"
   },
   {
    "duration": 16,
    "start_time": "2022-03-04T11:06:35.734Z"
   },
   {
    "duration": 12,
    "start_time": "2022-03-04T11:06:35.752Z"
   },
   {
    "duration": 4,
    "start_time": "2022-03-04T11:06:35.767Z"
   },
   {
    "duration": 7,
    "start_time": "2022-03-04T11:06:35.773Z"
   },
   {
    "duration": 13,
    "start_time": "2022-03-04T11:06:35.781Z"
   },
   {
    "duration": 15,
    "start_time": "2022-03-04T11:06:35.796Z"
   },
   {
    "duration": 4,
    "start_time": "2022-03-04T11:06:35.812Z"
   },
   {
    "duration": 30,
    "start_time": "2022-03-04T11:06:35.817Z"
   },
   {
    "duration": 4,
    "start_time": "2022-03-04T11:06:35.849Z"
   },
   {
    "duration": 15,
    "start_time": "2022-03-04T11:06:35.854Z"
   },
   {
    "duration": 5,
    "start_time": "2022-03-04T11:06:35.870Z"
   },
   {
    "duration": 16,
    "start_time": "2022-03-04T11:06:35.876Z"
   },
   {
    "duration": 10,
    "start_time": "2022-03-04T11:06:35.894Z"
   },
   {
    "duration": 4,
    "start_time": "2022-03-04T11:06:35.905Z"
   },
   {
    "duration": 32,
    "start_time": "2022-03-04T11:06:35.910Z"
   },
   {
    "duration": 20,
    "start_time": "2022-03-04T11:06:35.943Z"
   },
   {
    "duration": 10,
    "start_time": "2022-03-04T11:06:35.965Z"
   },
   {
    "duration": 5,
    "start_time": "2022-03-04T11:06:35.978Z"
   },
   {
    "duration": 15,
    "start_time": "2022-03-04T11:06:35.985Z"
   },
   {
    "duration": 4,
    "start_time": "2022-03-04T11:06:36.002Z"
   },
   {
    "duration": 32,
    "start_time": "2022-03-04T11:06:36.007Z"
   },
   {
    "duration": 16,
    "start_time": "2022-03-04T11:06:36.041Z"
   },
   {
    "duration": 6,
    "start_time": "2022-03-04T11:06:36.059Z"
   },
   {
    "duration": 14,
    "start_time": "2022-03-04T11:06:36.066Z"
   },
   {
    "duration": 9,
    "start_time": "2022-03-04T11:06:36.082Z"
   },
   {
    "duration": 5,
    "start_time": "2022-03-04T11:06:36.092Z"
   },
   {
    "duration": 8,
    "start_time": "2022-03-04T11:06:36.099Z"
   },
   {
    "duration": 34,
    "start_time": "2022-03-04T11:06:36.108Z"
   },
   {
    "duration": 5,
    "start_time": "2022-03-04T11:06:36.143Z"
   },
   {
    "duration": 23,
    "start_time": "2022-03-04T11:06:36.149Z"
   },
   {
    "duration": 21,
    "start_time": "2022-03-04T11:06:36.174Z"
   },
   {
    "duration": 58,
    "start_time": "2022-03-04T11:06:36.196Z"
   },
   {
    "duration": 10,
    "start_time": "2022-03-04T11:06:36.255Z"
   },
   {
    "duration": 11,
    "start_time": "2022-03-04T11:06:36.266Z"
   },
   {
    "duration": 13,
    "start_time": "2022-03-04T11:06:36.278Z"
   },
   {
    "duration": 12,
    "start_time": "2022-03-04T11:06:36.292Z"
   },
   {
    "duration": 44,
    "start_time": "2022-03-04T11:06:36.306Z"
   },
   {
    "duration": 6,
    "start_time": "2022-03-04T11:06:36.351Z"
   },
   {
    "duration": 19,
    "start_time": "2022-03-04T11:06:36.358Z"
   },
   {
    "duration": 20,
    "start_time": "2022-03-04T11:06:36.378Z"
   },
   {
    "duration": 54,
    "start_time": "2022-03-04T11:06:36.400Z"
   },
   {
    "duration": 23,
    "start_time": "2022-03-04T11:06:36.455Z"
   },
   {
    "duration": 23,
    "start_time": "2022-03-04T11:06:36.480Z"
   },
   {
    "duration": 46,
    "start_time": "2022-03-04T11:06:36.504Z"
   },
   {
    "duration": 1053,
    "start_time": "2022-08-02T17:44:29.153Z"
   },
   {
    "duration": 20,
    "start_time": "2022-08-02T17:44:30.208Z"
   },
   {
    "duration": 14,
    "start_time": "2022-08-02T17:44:30.230Z"
   },
   {
    "duration": 17,
    "start_time": "2022-08-02T17:44:30.246Z"
   },
   {
    "duration": 15,
    "start_time": "2022-08-02T17:44:30.265Z"
   },
   {
    "duration": 17,
    "start_time": "2022-08-02T17:44:30.282Z"
   },
   {
    "duration": 16,
    "start_time": "2022-08-02T17:44:30.301Z"
   },
   {
    "duration": 17,
    "start_time": "2022-08-02T17:44:30.319Z"
   },
   {
    "duration": 22,
    "start_time": "2022-08-02T17:44:30.338Z"
   },
   {
    "duration": 19,
    "start_time": "2022-08-02T17:44:30.364Z"
   },
   {
    "duration": 19,
    "start_time": "2022-08-02T17:44:30.385Z"
   },
   {
    "duration": 5,
    "start_time": "2022-08-02T17:44:30.406Z"
   },
   {
    "duration": 27,
    "start_time": "2022-08-02T17:44:30.414Z"
   },
   {
    "duration": 18,
    "start_time": "2022-08-02T17:44:30.443Z"
   },
   {
    "duration": 33,
    "start_time": "2022-08-02T17:44:30.463Z"
   },
   {
    "duration": 17,
    "start_time": "2022-08-02T17:44:30.498Z"
   },
   {
    "duration": 24,
    "start_time": "2022-08-02T17:44:30.517Z"
   },
   {
    "duration": 47,
    "start_time": "2022-08-02T17:44:30.543Z"
   },
   {
    "duration": 6,
    "start_time": "2022-08-02T17:44:30.591Z"
   },
   {
    "duration": 20,
    "start_time": "2022-08-02T17:44:30.598Z"
   },
   {
    "duration": 19,
    "start_time": "2022-08-02T17:44:30.620Z"
   },
   {
    "duration": 26,
    "start_time": "2022-08-02T17:44:30.641Z"
   },
   {
    "duration": 22,
    "start_time": "2022-08-02T17:44:30.669Z"
   },
   {
    "duration": 63,
    "start_time": "2022-08-02T17:44:30.693Z"
   },
   {
    "duration": 18,
    "start_time": "2022-08-02T17:44:30.758Z"
   },
   {
    "duration": 33,
    "start_time": "2022-08-02T17:44:30.778Z"
   },
   {
    "duration": 32,
    "start_time": "2022-08-02T17:44:30.813Z"
   },
   {
    "duration": 24,
    "start_time": "2022-08-02T17:44:30.849Z"
   },
   {
    "duration": 39,
    "start_time": "2022-08-02T17:44:30.874Z"
   },
   {
    "duration": 23,
    "start_time": "2022-08-02T17:44:30.915Z"
   },
   {
    "duration": 32,
    "start_time": "2022-08-02T17:44:30.940Z"
   },
   {
    "duration": 26,
    "start_time": "2022-08-02T17:44:30.974Z"
   },
   {
    "duration": 29,
    "start_time": "2022-08-02T17:44:31.002Z"
   },
   {
    "duration": 36,
    "start_time": "2022-08-02T17:44:31.032Z"
   },
   {
    "duration": 32,
    "start_time": "2022-08-02T17:44:31.069Z"
   },
   {
    "duration": 30,
    "start_time": "2022-08-02T17:44:31.103Z"
   },
   {
    "duration": 46,
    "start_time": "2022-08-02T17:44:31.135Z"
   },
   {
    "duration": 26,
    "start_time": "2022-08-02T17:44:31.182Z"
   },
   {
    "duration": 33,
    "start_time": "2022-08-02T17:44:31.209Z"
   },
   {
    "duration": 49,
    "start_time": "2022-08-02T17:44:31.244Z"
   },
   {
    "duration": 23,
    "start_time": "2022-08-02T17:44:31.294Z"
   },
   {
    "duration": 24,
    "start_time": "2022-08-02T17:44:31.319Z"
   },
   {
    "duration": 13,
    "start_time": "2022-08-02T17:44:31.346Z"
   },
   {
    "duration": 34,
    "start_time": "2022-08-02T17:44:31.361Z"
   },
   {
    "duration": 26,
    "start_time": "2022-08-02T17:44:31.396Z"
   },
   {
    "duration": 23,
    "start_time": "2022-08-02T17:44:31.424Z"
   },
   {
    "duration": 22,
    "start_time": "2022-08-02T17:44:31.449Z"
   },
   {
    "duration": 44,
    "start_time": "2022-08-02T17:44:31.473Z"
   },
   {
    "duration": 31,
    "start_time": "2022-08-02T17:44:31.518Z"
   },
   {
    "duration": 5091,
    "start_time": "2022-08-02T17:44:31.551Z"
   },
   {
    "duration": 4,
    "start_time": "2022-08-02T17:44:44.722Z"
   },
   {
    "duration": 481,
    "start_time": "2022-08-02T17:45:04.722Z"
   },
   {
    "duration": 14,
    "start_time": "2022-08-02T17:45:20.513Z"
   },
   {
    "duration": 330,
    "start_time": "2022-08-02T17:50:33.378Z"
   }
  ],
  "kernelspec": {
   "display_name": "Python 3 (ipykernel)",
   "language": "python",
   "name": "python3"
  },
  "language_info": {
   "codemirror_mode": {
    "name": "ipython",
    "version": 3
   },
   "file_extension": ".py",
   "mimetype": "text/x-python",
   "name": "python",
   "nbconvert_exporter": "python",
   "pygments_lexer": "ipython3",
   "version": "3.9.5"
  },
  "toc": {
   "base_numbering": 1,
   "nav_menu": {},
   "number_sections": true,
   "sideBar": true,
   "skip_h1_title": true,
   "title_cell": "Table of Contents",
   "title_sidebar": "Contents",
   "toc_cell": false,
   "toc_position": {},
   "toc_section_display": true,
   "toc_window_display": false
  }
 },
 "nbformat": 4,
 "nbformat_minor": 5
}
