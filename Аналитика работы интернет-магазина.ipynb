{
 "cells": [
  {
   "cell_type": "markdown",
   "metadata": {},
   "source": [
    "# Проверка гипотез и результатов A/B теста онлайн-магазина"
   ]
  },
  {
   "cell_type": "markdown",
   "metadata": {},
   "source": [
    "## Описание проекта\n",
    "\n",
    "**Контекст**\n",
    "Вместе с отделом маркетинга подготовлен список гипотез для увеличения выручки.\n",
    "Требуется приоритезировать гипотезы, запустить A/B-тест и проанализировать результаты.\n",
    "\n",
    "**Часть 1. Приоритизация гипотез**\n",
    "Задача\n",
    "Применить фреймворк ICE и RICE для приоритизации гипотез. Отсортировать их по убыванию приоритета.\n",
    "Указать, как изменилась приоритизация гипотез при применении RICE вместо ICE. Объясните, почему так произошло.\n",
    "\n",
    "**Часть 2. Анализ A/B-теста**\n",
    "Проанализировать A/B-тест:\n",
    "- Построить график кумулятивной выручки по группам. Сделать выводы и вынести предположения.\n",
    "- Построить график кумулятивного среднего чека по группам. Сделать выводы и вынести предположения.\n",
    "- Построить график относительного изменения кумулятивного среднего чека группы B к группе A. Сделать выводы и вынести предположения.\n",
    "- Построить график кумулятивной конверсии по группам. Сделать выводы и вынести предположения.\n",
    "- Построить график относительного изменения кумулятивной конверсии группы B к группе A. Сделать выводы и вынести предположения.\n",
    "- Построить точечный график количества заказов по пользователям. Сделать выводы и вынести предположения.\n",
    "- Посчитать 95-й и 99-й перцентили количества заказов на пользователя. Выбрать границу для определения аномальных пользователей.\n",
    "- Построить точечный график стоимостей заказов. Сделать выводы и вынести предположения.\n",
    "- Посчитать 95-й и 99-й перцентили стоимости заказов. Выбрать границу для определения аномальных заказов.\n",
    "- Посчитать статистическую значимость различий в конверсии между группами по «сырым» данным. Сделать выводы и вынести предположения.\n",
    "- Посчитать статистическую значимость различий в среднем чеке заказа между группами по «сырым» данным. Сделать выводы и вынести предположения.\n",
    "- Посчитать статистическую значимость различий в конверсии между группами по «очищенным» данным. Сделать выводы и вынести предположения.\n",
    "- Посчитать статистическую значимость различий в среднем чеке заказа между группами по «очищенным» данным. Сделать выводы и вынести предположения.\n",
    "- Принять решение по результатам теста и объяснить его. Варианты решений: 1. Остановить тест, зафиксировать победу одной из групп. 2. Остановить тест, зафиксировать отсутствие различий между группами. 3. Продолжить тест."
   ]
  },
  {
   "cell_type": "markdown",
   "metadata": {},
   "source": [
    "## Подготовка данных"
   ]
  },
  {
   "cell_type": "code",
   "execution_count": 1,
   "metadata": {},
   "outputs": [],
   "source": [
    "import pandas as pd\n",
    "import scipy.stats as stats\n",
    "import datetime as dt\n",
    "import numpy as np\n",
    "import matplotlib.pyplot as plt\n",
    "from pandas.plotting import register_matplotlib_converters\n",
    "import warnings\n",
    "register_matplotlib_converters()"
   ]
  },
  {
   "cell_type": "code",
   "execution_count": 2,
   "metadata": {},
   "outputs": [
    {
     "name": "stdout",
     "output_type": "stream",
     "text": [
      "<class 'pandas.core.frame.DataFrame'>\n",
      "RangeIndex: 9 entries, 0 to 8\n",
      "Data columns (total 5 columns):\n",
      " #   Column      Non-Null Count  Dtype \n",
      "---  ------      --------------  ----- \n",
      " 0   Hypothesis  9 non-null      object\n",
      " 1   Reach       9 non-null      int64 \n",
      " 2   Impact      9 non-null      int64 \n",
      " 3   Confidence  9 non-null      int64 \n",
      " 4   Efforts     9 non-null      int64 \n",
      "dtypes: int64(4), object(1)\n",
      "memory usage: 488.0+ bytes\n"
     ]
    },
    {
     "data": {
      "text/html": [
       "<div>\n",
       "<style scoped>\n",
       "    .dataframe tbody tr th:only-of-type {\n",
       "        vertical-align: middle;\n",
       "    }\n",
       "\n",
       "    .dataframe tbody tr th {\n",
       "        vertical-align: top;\n",
       "    }\n",
       "\n",
       "    .dataframe thead th {\n",
       "        text-align: right;\n",
       "    }\n",
       "</style>\n",
       "<table border=\"1\" class=\"dataframe\">\n",
       "  <thead>\n",
       "    <tr style=\"text-align: right;\">\n",
       "      <th></th>\n",
       "      <th>Hypothesis</th>\n",
       "      <th>Reach</th>\n",
       "      <th>Impact</th>\n",
       "      <th>Confidence</th>\n",
       "      <th>Efforts</th>\n",
       "    </tr>\n",
       "  </thead>\n",
       "  <tbody>\n",
       "    <tr>\n",
       "      <th>0</th>\n",
       "      <td>Добавить два новых канала привлечения трафика,...</td>\n",
       "      <td>3</td>\n",
       "      <td>10</td>\n",
       "      <td>8</td>\n",
       "      <td>6</td>\n",
       "    </tr>\n",
       "    <tr>\n",
       "      <th>1</th>\n",
       "      <td>Запустить собственную службу доставки, что сок...</td>\n",
       "      <td>2</td>\n",
       "      <td>5</td>\n",
       "      <td>4</td>\n",
       "      <td>10</td>\n",
       "    </tr>\n",
       "    <tr>\n",
       "      <th>2</th>\n",
       "      <td>Добавить блоки рекомендаций товаров на сайт ин...</td>\n",
       "      <td>8</td>\n",
       "      <td>3</td>\n",
       "      <td>7</td>\n",
       "      <td>3</td>\n",
       "    </tr>\n",
       "    <tr>\n",
       "      <th>3</th>\n",
       "      <td>Изменить структура категорий, что увеличит кон...</td>\n",
       "      <td>8</td>\n",
       "      <td>3</td>\n",
       "      <td>3</td>\n",
       "      <td>8</td>\n",
       "    </tr>\n",
       "    <tr>\n",
       "      <th>4</th>\n",
       "      <td>Изменить цвет фона главной страницы, чтобы уве...</td>\n",
       "      <td>3</td>\n",
       "      <td>1</td>\n",
       "      <td>1</td>\n",
       "      <td>1</td>\n",
       "    </tr>\n",
       "  </tbody>\n",
       "</table>\n",
       "</div>"
      ],
      "text/plain": [
       "                                          Hypothesis  Reach  Impact  \\\n",
       "0  Добавить два новых канала привлечения трафика,...      3      10   \n",
       "1  Запустить собственную службу доставки, что сок...      2       5   \n",
       "2  Добавить блоки рекомендаций товаров на сайт ин...      8       3   \n",
       "3  Изменить структура категорий, что увеличит кон...      8       3   \n",
       "4  Изменить цвет фона главной страницы, чтобы уве...      3       1   \n",
       "\n",
       "   Confidence  Efforts  \n",
       "0           8        6  \n",
       "1           4       10  \n",
       "2           7        3  \n",
       "3           3        8  \n",
       "4           1        1  "
      ]
     },
     "metadata": {},
     "output_type": "display_data"
    }
   ],
   "source": [
    "df = pd.read_csv('/datasets/hypothesis.csv')\n",
    "df.info()\n",
    "display(df.head())"
   ]
  },
  {
   "cell_type": "code",
   "execution_count": 3,
   "metadata": {},
   "outputs": [],
   "source": [
    "#приведем названия столбцов к нижнему регистру\n",
    "\n",
    "df.columns = df.columns.str.lower()"
   ]
  },
  {
   "cell_type": "code",
   "execution_count": 4,
   "metadata": {},
   "outputs": [
    {
     "data": {
      "text/html": [
       "<div>\n",
       "<style scoped>\n",
       "    .dataframe tbody tr th:only-of-type {\n",
       "        vertical-align: middle;\n",
       "    }\n",
       "\n",
       "    .dataframe tbody tr th {\n",
       "        vertical-align: top;\n",
       "    }\n",
       "\n",
       "    .dataframe thead th {\n",
       "        text-align: right;\n",
       "    }\n",
       "</style>\n",
       "<table border=\"1\" class=\"dataframe\">\n",
       "  <thead>\n",
       "    <tr style=\"text-align: right;\">\n",
       "      <th></th>\n",
       "      <th>hypothesis</th>\n",
       "      <th>reach</th>\n",
       "      <th>impact</th>\n",
       "      <th>confidence</th>\n",
       "      <th>efforts</th>\n",
       "    </tr>\n",
       "  </thead>\n",
       "  <tbody>\n",
       "    <tr>\n",
       "      <th>0</th>\n",
       "      <td>Добавить два новых канала привлечения трафика, что позволит привлекать на 30% больше пользователей</td>\n",
       "      <td>3</td>\n",
       "      <td>10</td>\n",
       "      <td>8</td>\n",
       "      <td>6</td>\n",
       "    </tr>\n",
       "    <tr>\n",
       "      <th>1</th>\n",
       "      <td>Запустить собственную службу доставки, что сократит срок доставки заказов</td>\n",
       "      <td>2</td>\n",
       "      <td>5</td>\n",
       "      <td>4</td>\n",
       "      <td>10</td>\n",
       "    </tr>\n",
       "    <tr>\n",
       "      <th>2</th>\n",
       "      <td>Добавить блоки рекомендаций товаров на сайт интернет магазина, чтобы повысить конверсию и средний чек заказа</td>\n",
       "      <td>8</td>\n",
       "      <td>3</td>\n",
       "      <td>7</td>\n",
       "      <td>3</td>\n",
       "    </tr>\n",
       "    <tr>\n",
       "      <th>3</th>\n",
       "      <td>Изменить структура категорий, что увеличит конверсию, т.к. пользователи быстрее найдут нужный товар</td>\n",
       "      <td>8</td>\n",
       "      <td>3</td>\n",
       "      <td>3</td>\n",
       "      <td>8</td>\n",
       "    </tr>\n",
       "    <tr>\n",
       "      <th>4</th>\n",
       "      <td>Изменить цвет фона главной страницы, чтобы увеличить вовлеченность пользователей</td>\n",
       "      <td>3</td>\n",
       "      <td>1</td>\n",
       "      <td>1</td>\n",
       "      <td>1</td>\n",
       "    </tr>\n",
       "    <tr>\n",
       "      <th>5</th>\n",
       "      <td>Добавить страницу отзывов клиентов о магазине, что позволит увеличить количество заказов</td>\n",
       "      <td>3</td>\n",
       "      <td>2</td>\n",
       "      <td>2</td>\n",
       "      <td>3</td>\n",
       "    </tr>\n",
       "    <tr>\n",
       "      <th>6</th>\n",
       "      <td>Показать на главной странице баннеры с актуальными акциями и распродажами, чтобы увеличить конверсию</td>\n",
       "      <td>5</td>\n",
       "      <td>3</td>\n",
       "      <td>8</td>\n",
       "      <td>3</td>\n",
       "    </tr>\n",
       "    <tr>\n",
       "      <th>7</th>\n",
       "      <td>Добавить форму подписки на все основные страницы, чтобы собрать базу клиентов для email-рассылок</td>\n",
       "      <td>10</td>\n",
       "      <td>7</td>\n",
       "      <td>8</td>\n",
       "      <td>5</td>\n",
       "    </tr>\n",
       "    <tr>\n",
       "      <th>8</th>\n",
       "      <td>Запустить акцию, дающую скидку на товар в день рождения</td>\n",
       "      <td>1</td>\n",
       "      <td>9</td>\n",
       "      <td>9</td>\n",
       "      <td>5</td>\n",
       "    </tr>\n",
       "  </tbody>\n",
       "</table>\n",
       "</div>"
      ],
      "text/plain": [
       "                                                                                                     hypothesis  \\\n",
       "0  Добавить два новых канала привлечения трафика, что позволит привлекать на 30% больше пользователей             \n",
       "1  Запустить собственную службу доставки, что сократит срок доставки заказов                                      \n",
       "2  Добавить блоки рекомендаций товаров на сайт интернет магазина, чтобы повысить конверсию и средний чек заказа   \n",
       "3  Изменить структура категорий, что увеличит конверсию, т.к. пользователи быстрее найдут нужный товар            \n",
       "4  Изменить цвет фона главной страницы, чтобы увеличить вовлеченность пользователей                               \n",
       "5  Добавить страницу отзывов клиентов о магазине, что позволит увеличить количество заказов                       \n",
       "6  Показать на главной странице баннеры с актуальными акциями и распродажами, чтобы увеличить конверсию           \n",
       "7  Добавить форму подписки на все основные страницы, чтобы собрать базу клиентов для email-рассылок               \n",
       "8  Запустить акцию, дающую скидку на товар в день рождения                                                        \n",
       "\n",
       "   reach  impact  confidence  efforts  \n",
       "0  3      10      8           6        \n",
       "1  2      5       4           10       \n",
       "2  8      3       7           3        \n",
       "3  8      3       3           8        \n",
       "4  3      1       1           1        \n",
       "5  3      2       2           3        \n",
       "6  5      3       8           3        \n",
       "7  10     7       8           5        \n",
       "8  1      9       9           5        "
      ]
     },
     "metadata": {},
     "output_type": "display_data"
    }
   ],
   "source": [
    "#проверим, что названия столбцов обновлены корректно, прочитаем строку с описанием гипотезы целиком\n",
    "\n",
    "with pd.option_context('display.max_colwidth', -1):  \n",
    "    display(df)"
   ]
  },
  {
   "cell_type": "code",
   "execution_count": 5,
   "metadata": {},
   "outputs": [
    {
     "name": "stdout",
     "output_type": "stream",
     "text": [
      "Дубликатов в таблице: 0\n"
     ]
    }
   ],
   "source": [
    "#проверим таблицу на наличие дубликатов\n",
    "\n",
    "print('Дубликатов в таблице:', df.duplicated().sum())"
   ]
  },
  {
   "cell_type": "markdown",
   "metadata": {},
   "source": [
    "## Часть 1. Приоритизация гипотез "
   ]
  },
  {
   "cell_type": "code",
   "execution_count": 6,
   "metadata": {},
   "outputs": [
    {
     "data": {
      "text/html": [
       "<div>\n",
       "<style scoped>\n",
       "    .dataframe tbody tr th:only-of-type {\n",
       "        vertical-align: middle;\n",
       "    }\n",
       "\n",
       "    .dataframe tbody tr th {\n",
       "        vertical-align: top;\n",
       "    }\n",
       "\n",
       "    .dataframe thead th {\n",
       "        text-align: right;\n",
       "    }\n",
       "</style>\n",
       "<table border=\"1\" class=\"dataframe\">\n",
       "  <thead>\n",
       "    <tr style=\"text-align: right;\">\n",
       "      <th></th>\n",
       "      <th>hypothesis</th>\n",
       "      <th>ICE</th>\n",
       "    </tr>\n",
       "  </thead>\n",
       "  <tbody>\n",
       "    <tr>\n",
       "      <th>8</th>\n",
       "      <td>Запустить акцию, дающую скидку на товар в день...</td>\n",
       "      <td>16.200000</td>\n",
       "    </tr>\n",
       "    <tr>\n",
       "      <th>0</th>\n",
       "      <td>Добавить два новых канала привлечения трафика,...</td>\n",
       "      <td>13.333333</td>\n",
       "    </tr>\n",
       "    <tr>\n",
       "      <th>7</th>\n",
       "      <td>Добавить форму подписки на все основные страни...</td>\n",
       "      <td>11.200000</td>\n",
       "    </tr>\n",
       "    <tr>\n",
       "      <th>6</th>\n",
       "      <td>Показать на главной странице баннеры с актуаль...</td>\n",
       "      <td>8.000000</td>\n",
       "    </tr>\n",
       "    <tr>\n",
       "      <th>2</th>\n",
       "      <td>Добавить блоки рекомендаций товаров на сайт ин...</td>\n",
       "      <td>7.000000</td>\n",
       "    </tr>\n",
       "    <tr>\n",
       "      <th>1</th>\n",
       "      <td>Запустить собственную службу доставки, что сок...</td>\n",
       "      <td>2.000000</td>\n",
       "    </tr>\n",
       "    <tr>\n",
       "      <th>5</th>\n",
       "      <td>Добавить страницу отзывов клиентов о магазине,...</td>\n",
       "      <td>1.333333</td>\n",
       "    </tr>\n",
       "    <tr>\n",
       "      <th>3</th>\n",
       "      <td>Изменить структура категорий, что увеличит кон...</td>\n",
       "      <td>1.125000</td>\n",
       "    </tr>\n",
       "    <tr>\n",
       "      <th>4</th>\n",
       "      <td>Изменить цвет фона главной страницы, чтобы уве...</td>\n",
       "      <td>1.000000</td>\n",
       "    </tr>\n",
       "  </tbody>\n",
       "</table>\n",
       "</div>"
      ],
      "text/plain": [
       "                                          hypothesis        ICE\n",
       "8  Запустить акцию, дающую скидку на товар в день...  16.200000\n",
       "0  Добавить два новых канала привлечения трафика,...  13.333333\n",
       "7  Добавить форму подписки на все основные страни...  11.200000\n",
       "6  Показать на главной странице баннеры с актуаль...   8.000000\n",
       "2  Добавить блоки рекомендаций товаров на сайт ин...   7.000000\n",
       "1  Запустить собственную службу доставки, что сок...   2.000000\n",
       "5  Добавить страницу отзывов клиентов о магазине,...   1.333333\n",
       "3  Изменить структура категорий, что увеличит кон...   1.125000\n",
       "4  Изменить цвет фона главной страницы, чтобы уве...   1.000000"
      ]
     },
     "metadata": {},
     "output_type": "display_data"
    }
   ],
   "source": [
    "#посчитаем параметр ICE для гипотез и добавим столбец с ICE к датасету, отсортируем гипотезы по ICE\n",
    "\n",
    "df['ICE'] = (df['impact'] * df['confidence'])/df['efforts']\n",
    "\n",
    "display(df[['hypothesis', 'ICE']].sort_values(by = 'ICE', ascending = False))"
   ]
  },
  {
   "cell_type": "markdown",
   "metadata": {},
   "source": [
    "Топ-5 гипотез (ICE): \n",
    "- \"Запустить акцию, дающую скидку...\" (индекс 8)\n",
    "- \"Добавить два новых канала привлечения...\" (индекс 0)\n",
    "- \"Добавить форму подписки...\" (индекс 7)\n",
    "- \"Показать на главной странице баннеры...\" (индекс 6)\n",
    "- \"Добавить блоки рекомендаций товаров...\" (индекс 2)"
   ]
  },
  {
   "cell_type": "code",
   "execution_count": 7,
   "metadata": {},
   "outputs": [],
   "source": [
    "#посчитаем параметр RICE для гипотез и добавим столбец с RICE к датасету, отсортируем гипотезы по RICE"
   ]
  },
  {
   "cell_type": "code",
   "execution_count": 8,
   "metadata": {},
   "outputs": [
    {
     "data": {
      "text/html": [
       "<div>\n",
       "<style scoped>\n",
       "    .dataframe tbody tr th:only-of-type {\n",
       "        vertical-align: middle;\n",
       "    }\n",
       "\n",
       "    .dataframe tbody tr th {\n",
       "        vertical-align: top;\n",
       "    }\n",
       "\n",
       "    .dataframe thead th {\n",
       "        text-align: right;\n",
       "    }\n",
       "</style>\n",
       "<table border=\"1\" class=\"dataframe\">\n",
       "  <thead>\n",
       "    <tr style=\"text-align: right;\">\n",
       "      <th></th>\n",
       "      <th>hypothesis</th>\n",
       "      <th>RICE</th>\n",
       "    </tr>\n",
       "  </thead>\n",
       "  <tbody>\n",
       "    <tr>\n",
       "      <th>7</th>\n",
       "      <td>Добавить форму подписки на все основные страни...</td>\n",
       "      <td>112.0</td>\n",
       "    </tr>\n",
       "    <tr>\n",
       "      <th>2</th>\n",
       "      <td>Добавить блоки рекомендаций товаров на сайт ин...</td>\n",
       "      <td>56.0</td>\n",
       "    </tr>\n",
       "    <tr>\n",
       "      <th>0</th>\n",
       "      <td>Добавить два новых канала привлечения трафика,...</td>\n",
       "      <td>40.0</td>\n",
       "    </tr>\n",
       "    <tr>\n",
       "      <th>6</th>\n",
       "      <td>Показать на главной странице баннеры с актуаль...</td>\n",
       "      <td>40.0</td>\n",
       "    </tr>\n",
       "    <tr>\n",
       "      <th>8</th>\n",
       "      <td>Запустить акцию, дающую скидку на товар в день...</td>\n",
       "      <td>16.2</td>\n",
       "    </tr>\n",
       "    <tr>\n",
       "      <th>3</th>\n",
       "      <td>Изменить структура категорий, что увеличит кон...</td>\n",
       "      <td>9.0</td>\n",
       "    </tr>\n",
       "    <tr>\n",
       "      <th>1</th>\n",
       "      <td>Запустить собственную службу доставки, что сок...</td>\n",
       "      <td>4.0</td>\n",
       "    </tr>\n",
       "    <tr>\n",
       "      <th>5</th>\n",
       "      <td>Добавить страницу отзывов клиентов о магазине,...</td>\n",
       "      <td>4.0</td>\n",
       "    </tr>\n",
       "    <tr>\n",
       "      <th>4</th>\n",
       "      <td>Изменить цвет фона главной страницы, чтобы уве...</td>\n",
       "      <td>3.0</td>\n",
       "    </tr>\n",
       "  </tbody>\n",
       "</table>\n",
       "</div>"
      ],
      "text/plain": [
       "                                          hypothesis   RICE\n",
       "7  Добавить форму подписки на все основные страни...  112.0\n",
       "2  Добавить блоки рекомендаций товаров на сайт ин...   56.0\n",
       "0  Добавить два новых канала привлечения трафика,...   40.0\n",
       "6  Показать на главной странице баннеры с актуаль...   40.0\n",
       "8  Запустить акцию, дающую скидку на товар в день...   16.2\n",
       "3  Изменить структура категорий, что увеличит кон...    9.0\n",
       "1  Запустить собственную службу доставки, что сок...    4.0\n",
       "5  Добавить страницу отзывов клиентов о магазине,...    4.0\n",
       "4  Изменить цвет фона главной страницы, чтобы уве...    3.0"
      ]
     },
     "metadata": {},
     "output_type": "display_data"
    }
   ],
   "source": [
    "df['RICE'] = (df['reach'] * df['impact'] * df['confidence'])/df['efforts']\n",
    "\n",
    "display(df[['hypothesis', 'RICE']].sort_values(by = 'RICE', ascending = False))"
   ]
  },
  {
   "cell_type": "markdown",
   "metadata": {},
   "source": [
    "Топ-5 гипотез (RICE): \n",
    "- \"Добавить форму подписки...\" (индекс 7)\n",
    "- \"Добавить блоки рекомендаций товаров...\" (индекс 2)\n",
    "- \"Добавить два новых канала привлечения...\" (индекс 0)\n",
    "- \"Показать на главной странице баннеры...\" (индекс 6)\n",
    "- \"Запустить акцию, дающую скидку...\" (индекс 8)"
   ]
  },
  {
   "cell_type": "markdown",
   "metadata": {},
   "source": [
    "**Вывод**: \n",
    "- Гипотеза \"Запустить акцию, дающую скидку...\" (индекс 8) наиболее перспективна без учета охвата пользователей, но ее вес на порядок ниже (5-е место), когда мы учитываем охват гипотезы. \n",
    "- Гипотеза \"Добавить форму подписки...\" (индекс 7) имеет достаточно сильный вес ICE, но особенно перспективна с точки зрения охвата пользователей. \n",
    "- Если компания располагает ресурсами, то все 5 гипотез перспективны, тк топ-5 и ICE, и RICE составляют одни и те же гипотезы."
   ]
  },
  {
   "cell_type": "markdown",
   "metadata": {},
   "source": [
    "## Часть 2. Анализ A/B-теста"
   ]
  },
  {
   "cell_type": "markdown",
   "metadata": {},
   "source": [
    "### Чтение данных и их подготовка"
   ]
  },
  {
   "cell_type": "code",
   "execution_count": 9,
   "metadata": {},
   "outputs": [
    {
     "name": "stdout",
     "output_type": "stream",
     "text": [
      "   transactionId   visitorId       date  revenue group\n",
      "0     3667963787  3312258926 2019-08-15     1650     B\n",
      "1     2804400009  3642806036 2019-08-15      730     B\n",
      "2     2961555356  4069496402 2019-08-15      400     A\n",
      "3     3797467345  1196621759 2019-08-15     9759     B\n",
      "4     2282983706  2322279887 2019-08-15     2308     B\n",
      "        date group  visitors\n",
      "0 2019-08-01     A       719\n",
      "1 2019-08-02     A       619\n",
      "2 2019-08-03     A       507\n",
      "3 2019-08-04     A       717\n",
      "4 2019-08-05     A       756\n"
     ]
    }
   ],
   "source": [
    "#прочтём данные из файлов с результатами A/B-тестирования \n",
    "\n",
    "orders = pd.read_csv('/datasets/orders.csv', sep=',')\n",
    "orders['date'] = orders['date'].map(\n",
    "    lambda x: dt.datetime.strptime(x, '%Y-%m-%d')\n",
    ")\n",
    "\n",
    "visitors = pd.read_csv(\n",
    "    '/datasets/visitors.csv', sep=','\n",
    ")\n",
    "visitors['date'] = visitors['date'].map(\n",
    "    lambda x: dt.datetime.strptime(x, '%Y-%m-%d')\n",
    ")\n",
    "\n",
    "print(orders.head())\n",
    "print(visitors.head()) "
   ]
  },
  {
   "cell_type": "code",
   "execution_count": 10,
   "metadata": {},
   "outputs": [
    {
     "name": "stdout",
     "output_type": "stream",
     "text": [
      "Дубликатов в таблице: 0\n",
      "Дубликатов в таблице: 0\n"
     ]
    }
   ],
   "source": [
    "#проверим данные на наличие дубликатов\n",
    "\n",
    "print('Дубликатов в таблице:', orders.duplicated().sum())\n",
    "print('Дубликатов в таблице:', visitors.duplicated().sum())"
   ]
  },
  {
   "cell_type": "code",
   "execution_count": 11,
   "metadata": {},
   "outputs": [],
   "source": [
    "#переименуем названия колонок для их более удобной идентификации\n",
    "\n",
    "orders.columns = ['orderId','userId','date','revenue','group']"
   ]
  },
  {
   "cell_type": "code",
   "execution_count": 12,
   "metadata": {},
   "outputs": [
    {
     "name": "stdout",
     "output_type": "stream",
     "text": [
      "Уникальных пользователей в группе A 503\n",
      "Уникальных пользователей в группе B 586\n",
      "Попали в обе группы 58\n",
      "% попавших в обе группы от общего числа 5.325987144168963\n"
     ]
    }
   ],
   "source": [
    "# выберем уникальных пользователей группы А и B с помощью query() и set():\n",
    "\n",
    "A_users = orders.query('group == \"A\"')\n",
    "set_A_users = set(A_users['userId'])\n",
    "\n",
    "B_users = orders.query('group == \"B\"')\n",
    "set_B_users = set(B_users['userId'])\n",
    "\n",
    "# найдем пересечения множеств с помощью intersection\n",
    "cross = set_A_users.intersection(set_B_users)\n",
    "\n",
    "print('Уникальных пользователей в группе A', len(set_A_users))\n",
    "print('Уникальных пользователей в группе B', len(set_B_users))\n",
    "print('Попали в обе группы', len(cross))\n",
    "print('% попавших в обе группы от общего числа', len(cross)/(len(set_A_users)+len(set_B_users))*100)"
   ]
  },
  {
   "cell_type": "markdown",
   "metadata": {},
   "source": [
    "Вынуждены удалить результаты попавших в обе группы пользователей, так как они оказывают негативный эффект на точность дальнейших расчетов. "
   ]
  },
  {
   "cell_type": "code",
   "execution_count": 13,
   "metadata": {},
   "outputs": [
    {
     "name": "stdout",
     "output_type": "stream",
     "text": [
      "Попали в обе группы 0\n"
     ]
    }
   ],
   "source": [
    "# удалим результаты пользователей + проверим, что пересечений больше нет\n",
    "\n",
    "orders = orders.query('userId not in @cross') \n",
    "\n",
    "A_users = orders.query('group == \"A\"')\n",
    "set_A_users = set(A_users['userId'])\n",
    "\n",
    "B_users = orders.query('group == \"B\"')\n",
    "set_B_users = set(B_users['userId'])\n",
    "\n",
    "# найдем пересечения множеств с помощью intersection\n",
    "cross = set_A_users.intersection(set_B_users)\n",
    "\n",
    "print('Попали в обе группы', len(cross))"
   ]
  },
  {
   "cell_type": "markdown",
   "metadata": {},
   "source": [
    "### Графики кумулятивной выручки по дням"
   ]
  },
  {
   "cell_type": "code",
   "execution_count": 14,
   "metadata": {},
   "outputs": [
    {
     "data": {
      "text/plain": [
       "<matplotlib.legend.Legend at 0x7f11a0d3e340>"
      ]
     },
     "execution_count": 14,
     "metadata": {},
     "output_type": "execute_result"
    },
    {
     "data": {
      "image/png": "[encoded data removed]",
      "text/plain": [
       "<Figure size 864x360 with 1 Axes>"
      ]
     },
     "metadata": {
      "needs_background": "light"
     },
     "output_type": "display_data"
    }
   ],
   "source": [
    "#построим графики кумулятивной выручки по дням по группам\n",
    "\n",
    "datesGroups = orders[['date', 'group']].drop_duplicates()\n",
    "\n",
    "ordersAggregated = datesGroups.apply(\n",
    "    lambda x: orders[\n",
    "        np.logical_and(\n",
    "            orders['date'] <= x['date'], orders['group'] == x['group']\n",
    "        )\n",
    "    ].agg(\n",
    "        {\n",
    "            'date': 'max',\n",
    "            'group': 'max',\n",
    "            'orderId': 'nunique',\n",
    "            'userId': 'nunique',\n",
    "            'revenue': 'sum',\n",
    "        }\n",
    "    ),\n",
    "    axis=1,\n",
    ").sort_values(by=['date', 'group'])\n",
    "\n",
    "visitorsAggregated = datesGroups.apply(\n",
    "    lambda x: visitors[\n",
    "        np.logical_and(\n",
    "            visitors['date'] <= x['date'], visitors['group'] == x['group']\n",
    "        )\n",
    "    ].agg({'date': 'max', 'group': 'max', 'visitors': 'sum'}),\n",
    "    axis=1,\n",
    ").sort_values(by=['date', 'group'])\n",
    "\n",
    "cumulativeData = ordersAggregated.merge(\n",
    "    visitorsAggregated, left_on=['date', 'group'], right_on=['date', 'group']\n",
    ")\n",
    "cumulativeData.columns = [\n",
    "    'date',\n",
    "    'group',\n",
    "    'orders',\n",
    "    'buyers',\n",
    "    'revenue',\n",
    "    'visitors',\n",
    "]\n",
    "\n",
    "plt.figure(figsize=(12,5))\n",
    "plt.title('Графики кумулятивной выручки по дням по группам',fontsize=15)\n",
    "plt.grid(True)\n",
    "plt.xticks(rotation=90)\n",
    "\n",
    "# датафрейм с кумулятивным количеством заказов и кумулятивной выручкой по дням в группе А\n",
    "cumulativeRevenueA = cumulativeData[cumulativeData['group']=='A'][['date','revenue', 'orders']]\n",
    "\n",
    "# датафрейм с кумулятивным количеством заказов и кумулятивной выручкой по дням в группе B\n",
    "cumulativeRevenueB = cumulativeData[cumulativeData['group']=='B'][['date','revenue', 'orders']]\n",
    "\n",
    "# Строим график выручки группы А\n",
    "plt.plot(cumulativeRevenueA['date'], cumulativeRevenueA['revenue'], label='A')\n",
    "\n",
    "# Строим график выручки группы B\n",
    "plt.plot(cumulativeRevenueB['date'], cumulativeRevenueB['revenue'], label='B')\n",
    "\n",
    "plt.legend() "
   ]
  },
  {
   "cell_type": "markdown",
   "metadata": {},
   "source": [
    "**Вывод**: в середине теста сегмент B имеет резкий подъем. Возможно, это связано с крупными заказами 18-19 августа."
   ]
  },
  {
   "cell_type": "markdown",
   "metadata": {},
   "source": [
    "### Графики кумулятивного среднего чека по группам"
   ]
  },
  {
   "cell_type": "code",
   "execution_count": 15,
   "metadata": {},
   "outputs": [
    {
     "data": {
      "text/plain": [
       "<matplotlib.legend.Legend at 0x7f119899b640>"
      ]
     },
     "execution_count": 15,
     "metadata": {},
     "output_type": "execute_result"
    },
    {
     "data": {
      "image/png": "[encoded data removed]",
      "text/plain": [
       "<Figure size 864x360 with 1 Axes>"
      ]
     },
     "metadata": {
      "needs_background": "light"
     },
     "output_type": "display_data"
    }
   ],
   "source": [
    "# Построим графики кумулятивного среднего чека по группам\n",
    "\n",
    "cumulativeRevenueA = cumulativeData[cumulativeData['group'] == 'A'][\n",
    "    ['date', 'revenue', 'orders']\n",
    "]\n",
    "cumulativeRevenueB = cumulativeData[cumulativeData['group'] == 'B'][\n",
    "    ['date', 'revenue', 'orders']\n",
    "]\n",
    "\n",
    "\n",
    "plt.figure(figsize=(12,5))\n",
    "plt.title('Графики кумулятивного среднего чека по группам',fontsize=15)\n",
    "plt.grid(True)\n",
    "plt.xticks(rotation=90)\n",
    "\n",
    "plt.plot(cumulativeRevenueA['date'], cumulativeRevenueA['revenue']/cumulativeRevenueA['orders'], label='A')\n",
    "plt.plot(cumulativeRevenueB['date'], cumulativeRevenueB['revenue']/cumulativeRevenueB['orders'], label='B')\n",
    "plt.legend() "
   ]
  },
  {
   "cell_type": "markdown",
   "metadata": {},
   "source": [
    "**Вывод**: выброс в сегменте B в ранее озвученный период не дает возможность сделать предварительные выводы по результатам A/B-теста.  "
   ]
  },
  {
   "cell_type": "markdown",
   "metadata": {},
   "source": [
    "### График относительного изменения кумулятивного среднего чека группы B к группе A"
   ]
  },
  {
   "cell_type": "code",
   "execution_count": 16,
   "metadata": {},
   "outputs": [
    {
     "data": {
      "text/plain": [
       "<matplotlib.lines.Line2D at 0x7f11989191f0>"
      ]
     },
     "execution_count": 16,
     "metadata": {},
     "output_type": "execute_result"
    },
    {
     "data": {
      "image/png": "[encoded data removed]",
      "text/plain": [
       "<Figure size 864x360 with 1 Axes>"
      ]
     },
     "metadata": {
      "needs_background": "light"
     },
     "output_type": "display_data"
    }
   ],
   "source": [
    "# собираем данные в одном датафрейме\n",
    "mergedCumulativeRevenue = cumulativeRevenueA.merge(cumulativeRevenueB, left_on='date', right_on='date', how='left', suffixes=['A', 'B'])\n",
    "\n",
    "plt.figure(figsize=(12,5))\n",
    "plt.title('График относительного изменения кумулятивного среднего чека группы B к группе A',fontsize=15)\n",
    "plt.grid(True)\n",
    "plt.xticks(rotation=90)\n",
    "\n",
    "# cтроим отношение средних чеков\n",
    "plt.plot(mergedCumulativeRevenue['date'], (mergedCumulativeRevenue['revenueB']/mergedCumulativeRevenue['ordersB'])/(mergedCumulativeRevenue['revenueA']/mergedCumulativeRevenue['ordersA'])-1)\n",
    "\n",
    "# добавляем ось X\n",
    "plt.axhline(y=0, color='black', linestyle='--')"
   ]
  },
  {
   "cell_type": "markdown",
   "metadata": {},
   "source": [
    "**Вывод**: на графике можно выделить временные интервалы, когда были сделаны большие покупки - 1-3 августа и ранее обозначенные даты - 18-19 августа. "
   ]
  },
  {
   "cell_type": "markdown",
   "metadata": {},
   "source": [
    "### График кумулятивной конверсии по группам"
   ]
  },
  {
   "cell_type": "code",
   "execution_count": 17,
   "metadata": {},
   "outputs": [
    {
     "data": {
      "text/plain": [
       "(18109.0, 18140.0, 0.0, 0.05)"
      ]
     },
     "execution_count": 17,
     "metadata": {},
     "output_type": "execute_result"
    },
    {
     "data": {
      "image/png": "[encoded data removed]",
      "text/plain": [
       "<Figure size 864x360 with 1 Axes>"
      ]
     },
     "metadata": {
      "needs_background": "light"
     },
     "output_type": "display_data"
    }
   ],
   "source": [
    "# считаем кумулятивную конверсию\n",
    "cumulativeData['conversion'] = cumulativeData['orders']/cumulativeData['visitors']\n",
    "\n",
    "# отделяем данные по группе A\n",
    "cumulativeDataA = cumulativeData[cumulativeData['group']=='A']\n",
    "\n",
    "# отделяем данные по группе B\n",
    "cumulativeDataB = cumulativeData[cumulativeData['group']=='B']\n",
    "\n",
    "# строим графики\n",
    "\n",
    "plt.figure(figsize=(12,5))\n",
    "plt.title('График кумулятивной конверсии по группам',fontsize=15)\n",
    "plt.grid(True)\n",
    "plt.xticks(rotation=90)\n",
    "\n",
    "plt.plot(cumulativeDataA['date'], cumulativeDataA['conversion'], label='A')\n",
    "plt.plot(cumulativeDataB['date'], cumulativeDataB['conversion'], label='B')\n",
    "plt.legend()\n",
    "\n",
    "# задаем масштаб осей\n",
    "plt.axis([dt.datetime(2019, 8, 1), dt.datetime(2019, 9, 1), 0, 0.05])"
   ]
  },
  {
   "cell_type": "markdown",
   "metadata": {},
   "source": [
    "**Вывод**: в начале теста конверсия была примерно равна, но уже с 6 августа конверсия группы B превзошла конверсию группы А, и этот разрыв не менялся до конца проведения теста. \n",
    "Колебания конверсии достаточно незначительные, в основном, в коридоре между 3 и 4%. "
   ]
  },
  {
   "cell_type": "markdown",
   "metadata": {},
   "source": [
    "### График относительного изменения кумулятивной конверсии группы B к группе A"
   ]
  },
  {
   "cell_type": "code",
   "execution_count": 18,
   "metadata": {},
   "outputs": [
    {
     "data": {
      "text/plain": [
       "(18109.0, 18140.0, -0.5, 0.5)"
      ]
     },
     "execution_count": 18,
     "metadata": {},
     "output_type": "execute_result"
    },
    {
     "data": {
      "image/png": "[encoded data removed]",
      "text/plain": [
       "<Figure size 864x360 with 1 Axes>"
      ]
     },
     "metadata": {
      "needs_background": "light"
     },
     "output_type": "display_data"
    }
   ],
   "source": [
    "cumulativeData['conversion'] = (\n",
    "    cumulativeData['orders'] / cumulativeData['visitors']\n",
    ")\n",
    "\n",
    "cumulativeDataA = cumulativeData[cumulativeData['group'] == 'A']\n",
    "cumulativeDataB = cumulativeData[cumulativeData['group'] == 'B']\n",
    "\n",
    "mergedCumulativeConversions = cumulativeDataA[['date','conversion']].merge(cumulativeDataB[['date','conversion']], left_on='date', right_on='date', how='left', suffixes=['A', 'B'])\n",
    "\n",
    "plt.figure(figsize=(12,5))\n",
    "plt.title('График относительного изменения кумулятивной конверсии группы B к группе A',fontsize=15)\n",
    "plt.grid(True)\n",
    "plt.xticks(rotation=90)\n",
    "\n",
    "plt.plot(mergedCumulativeConversions['date'], mergedCumulativeConversions['conversionB']/mergedCumulativeConversions['conversionA']-1, label=\"Относительный прирост конверсии группы B относительно группы A\")\n",
    "plt.legend()\n",
    "\n",
    "plt.axhline(y=0, color='black', linestyle='--')\n",
    "plt.axhline(y=0.2, color='grey', linestyle='--')\n",
    "plt.axis([\"2019, 8, 1\", '2019, 9, 1', -0.5, 0.5])"
   ]
  },
  {
   "cell_type": "markdown",
   "metadata": {},
   "source": [
    "**Вывод**: почти с самого начала проведения теста группа B вырывается вперед по конверсии. Прирост составляет около 2%. Но с 18-19 августа прирост конверсии несколько снижается, после чего к концу проведения теста останавливается на примерно 1%."
   ]
  },
  {
   "cell_type": "markdown",
   "metadata": {},
   "source": [
    "### Точечный график количества заказов по пользователям"
   ]
  },
  {
   "cell_type": "code",
   "execution_count": 19,
   "metadata": {},
   "outputs": [
    {
     "name": "stdout",
     "output_type": "stream",
     "text": [
      "         userId  orders\n",
      "908  3967698036       3\n",
      "55    249864742       3\n",
      "478  2108163459       3\n",
      "687  2988190573       3\n",
      "890  3908431265       3\n",
      "138   611059232       3\n",
      "632  2742574263       3\n",
      "157   678354126       2\n",
      "323  1404560065       2\n",
      "452  1985475298       2\n"
     ]
    },
    {
     "data": {
      "text/plain": [
       "<matplotlib.collections.PathCollection at 0x7f119876aa90>"
      ]
     },
     "execution_count": 19,
     "metadata": {},
     "output_type": "execute_result"
    },
    {
     "data": {
      "image/png": "[encoded data removed]",
      "text/plain": [
       "<Figure size 864x360 with 1 Axes>"
      ]
     },
     "metadata": {
      "needs_background": "light"
     },
     "output_type": "display_data"
    }
   ],
   "source": [
    "ordersByUsers = (\n",
    "    orders.groupby('userId', as_index=False)\n",
    "    .agg({'orderId': 'nunique'})\n",
    ")\n",
    "ordersByUsers.columns = ['userId', 'orders']\n",
    "\n",
    "print(ordersByUsers.sort_values(by='orders', ascending=False).head(10))\n",
    "\n",
    "# серия из чисел от 0 до количества наблюдений в ordersByUsers\n",
    "x_values = pd.Series(range(0, len(ordersByUsers)))\n",
    "\n",
    "\n",
    "plt.figure(figsize=(12,5))\n",
    "plt.title('Точечный график количества заказов по пользователям',fontsize=15)\n",
    "plt.grid(True)\n",
    "plt.xticks(rotation=90)\n",
    "plt.scatter(x_values, ordersByUsers['orders']) "
   ]
  },
  {
   "cell_type": "markdown",
   "metadata": {},
   "source": [
    "**Вывод**: пользователей, сделавших заказ более 2 раз, крайне мало. Они могут быть аномальными. "
   ]
  },
  {
   "cell_type": "markdown",
   "metadata": {},
   "source": [
    "### Расчет 95-й и 99-й перцентили количества заказов на пользователя"
   ]
  },
  {
   "cell_type": "code",
   "execution_count": 20,
   "metadata": {},
   "outputs": [
    {
     "name": "stdout",
     "output_type": "stream",
     "text": [
      "         userId  orders\n",
      "908  3967698036       3\n",
      "55    249864742       3\n",
      "478  2108163459       3\n",
      "687  2988190573       3\n",
      "890  3908431265       3\n",
      "138   611059232       3\n",
      "632  2742574263       3\n",
      "157   678354126       2\n",
      "323  1404560065       2\n",
      "452  1985475298       2\n",
      "[1. 2.]\n"
     ]
    }
   ],
   "source": [
    "print(ordersByUsers.sort_values(by='orders', ascending=False).head(10))\n",
    "\n",
    "print(np.percentile(ordersByUsers['orders'], [95, 99])) "
   ]
  },
  {
   "cell_type": "markdown",
   "metadata": {},
   "source": [
    "**Вывод**: не более 5% пользователей совершали покупку более 1 раза, не более 1% - больше 2-х раз."
   ]
  },
  {
   "cell_type": "markdown",
   "metadata": {},
   "source": [
    "### Точечный график стоимостей заказов"
   ]
  },
  {
   "cell_type": "code",
   "execution_count": 21,
   "metadata": {},
   "outputs": [
    {
     "data": {
      "text/plain": [
       "<matplotlib.collections.PathCollection at 0x7f11986e2220>"
      ]
     },
     "execution_count": 21,
     "metadata": {},
     "output_type": "execute_result"
    },
    {
     "data": {
      "image/png": "[encoded data removed]",
      "text/plain": [
       "<Figure size 864x360 with 1 Axes>"
      ]
     },
     "metadata": {
      "needs_background": "light"
     },
     "output_type": "display_data"
    }
   ],
   "source": [
    "x_values = pd.Series(range(0, len(orders['revenue'])))\n",
    "\n",
    "plt.figure(figsize=(12,5))\n",
    "plt.title('Точечный график количества заказов по пользователям',fontsize=15)\n",
    "plt.grid(True)\n",
    "plt.xticks(rotation=90)\n",
    "plt.scatter(x_values, orders['revenue']) "
   ]
  },
  {
   "cell_type": "markdown",
   "metadata": {},
   "source": [
    "**Вывод**: сумма большинства заказов - менее 50 тысяч рублей. Распределение стоимости заказов не нормальное. Более точные выводы из графика сделать сложно. Эти значения станут предположительными границами для определения аномалий. Посчитаем перцентили. "
   ]
  },
  {
   "cell_type": "markdown",
   "metadata": {},
   "source": [
    "###  95-й и 99-й перцентили стоимости заказов"
   ]
  },
  {
   "cell_type": "code",
   "execution_count": 22,
   "metadata": {},
   "outputs": [
    {
     "name": "stdout",
     "output_type": "stream",
     "text": [
      "[26785. 53904.]\n"
     ]
    }
   ],
   "source": [
    "print(np.percentile(orders['revenue'], [95, 99])) "
   ]
  },
  {
   "cell_type": "markdown",
   "metadata": {},
   "source": [
    "**Вывод**: не более 5% пользователей совершали покупку на сумму 26785 руб, не более 1% - на сумму более 53904 руб."
   ]
  },
  {
   "cell_type": "markdown",
   "metadata": {},
   "source": [
    "###  Расчет статистической значимости различий в конверсии между группами по «сырым» данным"
   ]
  },
  {
   "cell_type": "code",
   "execution_count": 23,
   "metadata": {},
   "outputs": [
    {
     "data": {
      "text/html": [
       "<div>\n",
       "<style scoped>\n",
       "    .dataframe tbody tr th:only-of-type {\n",
       "        vertical-align: middle;\n",
       "    }\n",
       "\n",
       "    .dataframe tbody tr th {\n",
       "        vertical-align: top;\n",
       "    }\n",
       "\n",
       "    .dataframe thead th {\n",
       "        text-align: right;\n",
       "    }\n",
       "</style>\n",
       "<table border=\"1\" class=\"dataframe\">\n",
       "  <thead>\n",
       "    <tr style=\"text-align: right;\">\n",
       "      <th></th>\n",
       "      <th>date</th>\n",
       "      <th>ordersPerDateA</th>\n",
       "      <th>revenuePerDateA</th>\n",
       "      <th>ordersPerDateB</th>\n",
       "      <th>revenuePerDateB</th>\n",
       "      <th>ordersCummulativeA</th>\n",
       "      <th>revenueCummulativeA</th>\n",
       "      <th>ordersCummulativeB</th>\n",
       "      <th>revenueCummulativeB</th>\n",
       "      <th>visitorsPerDateA</th>\n",
       "      <th>visitorsPerDateB</th>\n",
       "      <th>visitorsCummulativeA</th>\n",
       "      <th>visitorsCummulativeB</th>\n",
       "    </tr>\n",
       "  </thead>\n",
       "  <tbody>\n",
       "    <tr>\n",
       "      <th>0</th>\n",
       "      <td>2019-08-01</td>\n",
       "      <td>23</td>\n",
       "      <td>142779</td>\n",
       "      <td>17</td>\n",
       "      <td>59758</td>\n",
       "      <td>23</td>\n",
       "      <td>142779</td>\n",
       "      <td>17</td>\n",
       "      <td>59758</td>\n",
       "      <td>719</td>\n",
       "      <td>713</td>\n",
       "      <td>719</td>\n",
       "      <td>713</td>\n",
       "    </tr>\n",
       "    <tr>\n",
       "      <th>1</th>\n",
       "      <td>2019-08-02</td>\n",
       "      <td>19</td>\n",
       "      <td>91602</td>\n",
       "      <td>23</td>\n",
       "      <td>162043</td>\n",
       "      <td>42</td>\n",
       "      <td>234381</td>\n",
       "      <td>40</td>\n",
       "      <td>221801</td>\n",
       "      <td>619</td>\n",
       "      <td>581</td>\n",
       "      <td>1338</td>\n",
       "      <td>1294</td>\n",
       "    </tr>\n",
       "    <tr>\n",
       "      <th>2</th>\n",
       "      <td>2019-08-03</td>\n",
       "      <td>24</td>\n",
       "      <td>112473</td>\n",
       "      <td>14</td>\n",
       "      <td>67049</td>\n",
       "      <td>66</td>\n",
       "      <td>346854</td>\n",
       "      <td>54</td>\n",
       "      <td>288850</td>\n",
       "      <td>507</td>\n",
       "      <td>509</td>\n",
       "      <td>1845</td>\n",
       "      <td>1803</td>\n",
       "    </tr>\n",
       "    <tr>\n",
       "      <th>3</th>\n",
       "      <td>2019-08-04</td>\n",
       "      <td>11</td>\n",
       "      <td>41176</td>\n",
       "      <td>14</td>\n",
       "      <td>96890</td>\n",
       "      <td>77</td>\n",
       "      <td>388030</td>\n",
       "      <td>68</td>\n",
       "      <td>385740</td>\n",
       "      <td>717</td>\n",
       "      <td>770</td>\n",
       "      <td>2562</td>\n",
       "      <td>2573</td>\n",
       "    </tr>\n",
       "    <tr>\n",
       "      <th>4</th>\n",
       "      <td>2019-08-05</td>\n",
       "      <td>22</td>\n",
       "      <td>86383</td>\n",
       "      <td>21</td>\n",
       "      <td>89908</td>\n",
       "      <td>99</td>\n",
       "      <td>474413</td>\n",
       "      <td>89</td>\n",
       "      <td>475648</td>\n",
       "      <td>756</td>\n",
       "      <td>707</td>\n",
       "      <td>3318</td>\n",
       "      <td>3280</td>\n",
       "    </tr>\n",
       "  </tbody>\n",
       "</table>\n",
       "</div>"
      ],
      "text/plain": [
       "        date  ordersPerDateA  revenuePerDateA  ordersPerDateB  \\\n",
       "0 2019-08-01              23           142779              17   \n",
       "1 2019-08-02              19            91602              23   \n",
       "2 2019-08-03              24           112473              14   \n",
       "3 2019-08-04              11            41176              14   \n",
       "4 2019-08-05              22            86383              21   \n",
       "\n",
       "   revenuePerDateB  ordersCummulativeA  revenueCummulativeA  \\\n",
       "0            59758                  23               142779   \n",
       "1           162043                  42               234381   \n",
       "2            67049                  66               346854   \n",
       "3            96890                  77               388030   \n",
       "4            89908                  99               474413   \n",
       "\n",
       "   ordersCummulativeB  revenueCummulativeB  visitorsPerDateA  \\\n",
       "0                  17                59758               719   \n",
       "1                  40               221801               619   \n",
       "2                  54               288850               507   \n",
       "3                  68               385740               717   \n",
       "4                  89               475648               756   \n",
       "\n",
       "   visitorsPerDateB  visitorsCummulativeA  visitorsCummulativeB  \n",
       "0               713                   719                   713  \n",
       "1               581                  1338                  1294  \n",
       "2               509                  1845                  1803  \n",
       "3               770                  2562                  2573  \n",
       "4               707                  3318                  3280  "
      ]
     },
     "metadata": {},
     "output_type": "display_data"
    }
   ],
   "source": [
    "visitorsADaily = visitors[visitors['group'] == 'A'][['date', 'visitors']]\n",
    "visitorsADaily.columns = ['date', 'visitorsPerDateA']\n",
    "\n",
    "visitorsACummulative = visitorsADaily.apply(\n",
    "    lambda x: visitorsADaily[visitorsADaily['date'] <= x['date']].agg(\n",
    "        {'date': 'max', 'visitorsPerDateA': 'sum'}\n",
    "    ),\n",
    "    axis=1,\n",
    ")\n",
    "visitorsACummulative.columns = ['date', 'visitorsCummulativeA']\n",
    "\n",
    "visitorsBDaily = visitors[visitors['group'] == 'B'][['date', 'visitors']]\n",
    "visitorsBDaily.columns = ['date', 'visitorsPerDateB']\n",
    "\n",
    "visitorsBCummulative = visitorsBDaily.apply(\n",
    "    lambda x: visitorsBDaily[visitorsBDaily['date'] <= x['date']].agg(\n",
    "        {'date': 'max', 'visitorsPerDateB': 'sum'}\n",
    "    ),\n",
    "    axis=1,\n",
    ")\n",
    "visitorsBCummulative.columns = ['date', 'visitorsCummulativeB']\n",
    "\n",
    "ordersADaily = (\n",
    "    orders[orders['group'] == 'A'][['date', 'orderId', 'userId', 'revenue']]\n",
    "    .groupby('date', as_index=False)\n",
    "    .agg({'orderId': pd.Series.nunique, 'revenue': 'sum'})\n",
    ")\n",
    "ordersADaily.columns = ['date', 'ordersPerDateA', 'revenuePerDateA']\n",
    "\n",
    "ordersACummulative = ordersADaily.apply(\n",
    "    lambda x: ordersADaily[ordersADaily['date'] <= x['date']].agg(\n",
    "        {'date': 'max', 'ordersPerDateA': 'sum', 'revenuePerDateA': 'sum'}\n",
    "    ),\n",
    "    axis=1,\n",
    ").sort_values(by=['date'])\n",
    "ordersACummulative.columns = [\n",
    "    'date',\n",
    "    'ordersCummulativeA',\n",
    "    'revenueCummulativeA',\n",
    "]\n",
    "\n",
    "ordersBDaily = (\n",
    "    orders[orders['group'] == 'B'][['date', 'orderId', 'userId', 'revenue']]\n",
    "    .groupby('date', as_index=False)\n",
    "    .agg({'orderId': pd.Series.nunique, 'revenue': 'sum'})\n",
    ")\n",
    "ordersBDaily.columns = ['date', 'ordersPerDateB', 'revenuePerDateB']\n",
    "\n",
    "ordersBCummulative = ordersBDaily.apply(\n",
    "    lambda x: ordersBDaily[ordersBDaily['date'] <= x['date']].agg(\n",
    "        {'date': 'max', 'ordersPerDateB': 'sum', 'revenuePerDateB': 'sum'}\n",
    "    ),\n",
    "    axis=1,\n",
    ").sort_values(by=['date'])\n",
    "ordersBCummulative.columns = [\n",
    "    'date',\n",
    "    'ordersCummulativeB',\n",
    "    'revenueCummulativeB',\n",
    "]\n",
    "\n",
    "data = (\n",
    "    ordersADaily.merge(\n",
    "        ordersBDaily, left_on='date', right_on='date', how='left'\n",
    "    )\n",
    "    .merge(ordersACummulative, left_on='date', right_on='date', how='left')\n",
    "    .merge(ordersBCummulative, left_on='date', right_on='date', how='left')\n",
    "    .merge(visitorsADaily, left_on='date', right_on='date', how='left')\n",
    "    .merge(visitorsBDaily, left_on='date', right_on='date', how='left')\n",
    "    .merge(visitorsACummulative, left_on='date', right_on='date', how='left')\n",
    "    .merge(visitorsBCummulative, left_on='date', right_on='date', how='left')\n",
    ")\n",
    "\n",
    "display(data.head())"
   ]
  },
  {
   "cell_type": "markdown",
   "metadata": {},
   "source": [
    "Применим критерий и отформатируем p-value. В sampleA сохраним выборку, где каждый элемент — число заказов определённого пользователя. Число элементов sampleA — это количество пользователей, сумма всех элементов — количество заказов. Чтобы получить конверсию в группе, поделим сумму заказов на число пользователей. Аналогично найдём конверсию группы B.\n",
    "Выведем относительный прирост конверсии группы B: конверсия группы B / конверсия группы A - 1.\n",
    "\n",
    "За нулевую гипотезу возьмём что: \"статистически значимых различий в конверсии между группами нет\".\n",
    "Альтернативная гипотеза - статистически значимые различия есть."
   ]
  },
  {
   "cell_type": "code",
   "execution_count": 24,
   "metadata": {},
   "outputs": [
    {
     "name": "stdout",
     "output_type": "stream",
     "text": [
      "alpha = 0.05\n",
      "p-value = 0.011\n",
      "Относительный показатель 'B' и 'A' = 0.160\n"
     ]
    }
   ],
   "source": [
    "ordersByUsersA = (\n",
    "    orders[orders['group']=='A']\n",
    "    .groupby('userId', as_index=False)\n",
    "    .agg({'orderId' : pd.Series.nunique})\n",
    ")\n",
    "ordersByUsersA.columns = ['userId', 'orders']\n",
    "\n",
    "ordersByUsersB = (\n",
    "    orders[orders['group'] == 'B']\n",
    "    .groupby('userId', as_index=False)\n",
    "    .agg({'orderId': pd.Series.nunique})\n",
    ")\n",
    "ordersByUsersB.columns = ['userId', 'orders']\n",
    "\n",
    "sampleA = pd.concat(\n",
    "    [\n",
    "        ordersByUsersA['orders'],\n",
    "        pd.Series(\n",
    "            0,\n",
    "            index=np.arange(\n",
    "                data['visitorsPerDateA'].sum() - len(ordersByUsersA['orders'])\n",
    "            ),\n",
    "            name='orders',\n",
    "        ),\n",
    "    ],\n",
    "    axis=0,\n",
    ")\n",
    "\n",
    "sampleB = pd.concat(\n",
    "    [\n",
    "        ordersByUsersB['orders'],\n",
    "        pd.Series(\n",
    "            0,\n",
    "            index=np.arange(\n",
    "                data['visitorsPerDateB'].sum() - len(ordersByUsersB['orders'])\n",
    "            ),\n",
    "            name='orders',\n",
    "        ),\n",
    "    ],\n",
    "    axis=0,\n",
    ")\n",
    "\n",
    "print(\"alpha =\",0.05)\n",
    "print(\"p-value = {0:.3f}\".format(stats.mannwhitneyu(sampleA, sampleB, alternative = 'two-sided')[1]))\n",
    "print(\"Относительный показатель 'B' и 'A' = {0:.3f}\".format(sampleB.mean()/sampleA.mean()-1)) "
   ]
  },
  {
   "cell_type": "markdown",
   "metadata": {},
   "source": [
    "**Вывод**: p-value меньше альфа. Есть основания для того, что бы нулевую гипотезу отвергнуть. По «сырым» данным различия в конверсии групп A и B есть. А относительный выигрыш группы B над A равен 16% "
   ]
  },
  {
   "cell_type": "markdown",
   "metadata": {},
   "source": [
    "###  Расчет статистической значимости различий в среднем чеке заказа между группами по «сырым» данным"
   ]
  },
  {
   "cell_type": "code",
   "execution_count": 25,
   "metadata": {},
   "outputs": [
    {
     "name": "stdout",
     "output_type": "stream",
     "text": [
      "alpha = 0.05\n",
      "p-value = 0.829\n",
      "Относительный показатель 'B' и 'A' = 0.287\n"
     ]
    }
   ],
   "source": [
    "print(\"alpha =\", 0.05)\n",
    "print(\"p-value = {0:.3f}\".format(stats.mannwhitneyu(orders[orders['group']=='A']['revenue'], orders[orders['group']=='B']['revenue'], alternative = 'two-sided')[1]))\n",
    "print(\"Относительный показатель 'B' и 'A' = {0:.3f}\".format(orders[orders['group']=='B']['revenue'].mean()/orders[orders['group']=='A']['revenue'].mean()-1)) "
   ]
  },
  {
   "cell_type": "markdown",
   "metadata": {},
   "source": [
    "**Вывод:** p-value > 0.05, статистически значимых различий в среднем чеке между группами нет. Можно приступать к анализу аномалий.\n",
    "\n",
    "\n",
    "*Обратить внимание: наблюдаемое различие 29% не является статзначимым*"
   ]
  },
  {
   "cell_type": "markdown",
   "metadata": {},
   "source": [
    "###  Расчет статистической значимости различий в конверсии между группами по «очищенным» данны"
   ]
  },
  {
   "cell_type": "markdown",
   "metadata": {},
   "source": [
    "95-й и 99-й перцентили средних чеков равны 26785 и 53904 рублям. А 95-й и 99-й перцентили количества заказов на одного пользователя равны 1 и 2 заказа на пользователя.\n",
    "\n",
    "\n",
    "Примем за аномальных пользователей тех, кто совершил >1 заказов или совершил заказ дороже 53904 рублей. Объединим их в таблице abnormalUsers. Узнаем, сколько всего аномальных пользователей методом shape()."
   ]
  },
  {
   "cell_type": "code",
   "execution_count": 26,
   "metadata": {},
   "outputs": [
    {
     "name": "stdout",
     "output_type": "stream",
     "text": [
      "1099    148427295\n",
      "33      249864742\n",
      "36      366673373\n",
      "51      406208401\n",
      "67      522292794\n",
      "Name: userId, dtype: int64\n",
      "45\n"
     ]
    }
   ],
   "source": [
    "usersWithManyOrders = pd.concat(\n",
    "    [\n",
    "        ordersByUsersA[ordersByUsersA['orders'] > 1]['userId'],\n",
    "        ordersByUsersB[ordersByUsersB['orders'] > 1]['userId'],\n",
    "    ],\n",
    "    axis=0,\n",
    ")\n",
    "usersWithExpensiveOrders = orders[orders['revenue'] > 53904]['userId']\n",
    "abnormalUsers = (\n",
    "    pd.concat([usersWithManyOrders, usersWithExpensiveOrders], axis=0)\n",
    "    .drop_duplicates()\n",
    "    .sort_values()\n",
    ")\n",
    "print(abnormalUsers.head(5))\n",
    "print(abnormalUsers.shape[0])"
   ]
  },
  {
   "cell_type": "markdown",
   "metadata": {},
   "source": [
    "Всего 45 аномальных пользователей.\n",
    "\n",
    "Узнаем, как их действия повлияли на результаты теста. Посчитаем статистическую значимость различий в среднем количестве заказов между группами теста по очищенным данным. Сначала подготовим выборки количества заказов по пользователям по группам теста"
   ]
  },
  {
   "cell_type": "code",
   "execution_count": 27,
   "metadata": {},
   "outputs": [],
   "source": [
    "sampleAFiltered = pd.concat(\n",
    "    [\n",
    "        ordersByUsersA[\n",
    "            np.logical_not(ordersByUsersA['userId'].isin(abnormalUsers))\n",
    "        ]['orders'],\n",
    "        pd.Series(\n",
    "            0,\n",
    "            index=np.arange(\n",
    "                data['visitorsPerDateA'].sum() - len(ordersByUsersA['orders'])\n",
    "            ),\n",
    "            name='orders',\n",
    "        ),\n",
    "    ],\n",
    "    axis=0,\n",
    ")\n",
    "\n",
    "sampleBFiltered = pd.concat(\n",
    "    [\n",
    "        ordersByUsersB[\n",
    "            np.logical_not(ordersByUsersB['userId'].isin(abnormalUsers))\n",
    "        ]['orders'],\n",
    "        pd.Series(\n",
    "            0,\n",
    "            index=np.arange(\n",
    "                data['visitorsPerDateB'].sum() - len(ordersByUsersB['orders'])\n",
    "            ),\n",
    "            name='orders',\n",
    "        ),\n",
    "    ],\n",
    "    axis=0,\n",
    ") "
   ]
  },
  {
   "cell_type": "code",
   "execution_count": 28,
   "metadata": {},
   "outputs": [
    {
     "name": "stdout",
     "output_type": "stream",
     "text": [
      "alpha = 0.05\n",
      "p-value = 0.008\n",
      "Относительный показатель 'B' и 'A' = 0.188\n"
     ]
    }
   ],
   "source": [
    "print(\"alpha =\",0.05)\n",
    "print(\"p-value = {0:.3f}\".format(stats.mannwhitneyu(sampleAFiltered, sampleBFiltered, alternative = 'two-sided')[1]))\n",
    "print(\"Относительный показатель 'B' и 'A' = {0:.3f}\".format(sampleBFiltered.mean()/sampleAFiltered.mean()-1)) "
   ]
  },
  {
   "cell_type": "markdown",
   "metadata": {},
   "source": [
    "**Вывод**: p-value = 0.01 меньше 0.05. Есть основания отвергнуть нулевую гипотезу. По очищенным данным различия в конверсии групп A и B так же есть. А относительный выигрыш группы B над A равен 18.9%."
   ]
  },
  {
   "cell_type": "markdown",
   "metadata": {},
   "source": [
    "### Расчет статистической значимости различий в среднем чеке заказа между группами по «очищенным» данным"
   ]
  },
  {
   "cell_type": "code",
   "execution_count": 29,
   "metadata": {},
   "outputs": [
    {
     "name": "stdout",
     "output_type": "stream",
     "text": [
      "0.969\n",
      "0.002\n"
     ]
    }
   ],
   "source": [
    "print(\n",
    "    '{0:.3f}'.format(\n",
    "        stats.mannwhitneyu(\n",
    "            orders[\n",
    "                np.logical_and(\n",
    "                    orders['group'] == 'A',\n",
    "                    np.logical_not(orders['userId'].isin(abnormalUsers)),\n",
    "                )\n",
    "            ]['revenue'],\n",
    "            orders[\n",
    "                np.logical_and(\n",
    "                    orders['group'] == 'B',\n",
    "                    np.logical_not(orders['userId'].isin(abnormalUsers)),\n",
    "                )\n",
    "            ]['revenue'],\n",
    "        )[1]\n",
    "    )\n",
    ")\n",
    "\n",
    "print(\n",
    "    \"{0:.3f}\".format(\n",
    "        orders[\n",
    "            np.logical_and(\n",
    "                orders['group'] == 'B',\n",
    "                np.logical_not(orders['userId'].isin(abnormalUsers)),\n",
    "            )\n",
    "        ]['revenue'].mean()\n",
    "        / orders[\n",
    "            np.logical_and(\n",
    "                orders['group'] == 'A',\n",
    "                np.logical_not(orders['userId'].isin(abnormalUsers)),\n",
    "            )\n",
    "        ]['revenue'].mean()\n",
    "        - 1\n",
    "    )\n",
    ")"
   ]
  },
  {
   "cell_type": "markdown",
   "metadata": {},
   "source": [
    "**Вывод:** P-value значительно больше 0.05. Аналогично результатам анализа сырых данных: причин отвергать нулевую гипотезу нет. Средний чек группы B оказался на 2% ниже среднего чека группы А, что противоречит результату анализа сырых данных и очевидно означает, что средний чек группы B был настолько высоким (2%) из-за аномально высоких заказов. "
   ]
  },
  {
   "cell_type": "markdown",
   "metadata": {},
   "source": [
    "### Принятие решения по результатам теста"
   ]
  },
  {
   "cell_type": "markdown",
   "metadata": {},
   "source": [
    "**Конверсия**\n",
    "\n",
    "Относительный выигрыш по результатам анализа сырых данных группы B над A равен 13.8%.\n",
    "По очищенным данным различия в конверсии групп A и B так же есть. А относительный выигрыш группы B над A равен 17.4%\n",
    "\n",
    "**Средний чек**\n",
    "\n",
    "Различия в среднем чеке между группами нет, что стало очевидно после очистки датасета от аномалий.  \n",
    "\n",
    "**Рекомендовано**\n",
    "\n",
    "Рекомендовано остановить проведение A/B теста и признать победу группы B (конверсия выше, средний чек примерно равен)."
   ]
  }
 ],
 "metadata": {
  "ExecuteTimeLog": [
   {
    "duration": 828,
    "start_time": "2022-07-01T08:59:51.795Z"
   },
   {
    "duration": 43,
    "start_time": "2022-07-01T08:59:52.625Z"
   },
   {
    "duration": 33,
    "start_time": "2022-07-01T08:59:52.670Z"
   },
   {
    "duration": 22,
    "start_time": "2022-07-01T08:59:52.705Z"
   },
   {
    "duration": 3,
    "start_time": "2022-07-01T09:01:08.028Z"
   },
   {
    "duration": 3,
    "start_time": "2022-07-01T09:01:17.529Z"
   },
   {
    "duration": 26,
    "start_time": "2022-07-01T09:01:18.021Z"
   },
   {
    "duration": 3,
    "start_time": "2022-07-01T09:01:19.329Z"
   },
   {
    "duration": 936,
    "start_time": "2022-07-01T09:01:57.256Z"
   },
   {
    "duration": 36,
    "start_time": "2022-07-01T09:01:58.194Z"
   },
   {
    "duration": 3,
    "start_time": "2022-07-01T09:01:58.232Z"
   },
   {
    "duration": 38,
    "start_time": "2022-07-01T09:01:58.237Z"
   },
   {
    "duration": 21,
    "start_time": "2022-07-01T09:01:58.277Z"
   },
   {
    "duration": 5,
    "start_time": "2022-07-01T09:03:11.354Z"
   },
   {
    "duration": 824,
    "start_time": "2022-07-01T09:04:45.573Z"
   },
   {
    "duration": 35,
    "start_time": "2022-07-01T09:04:46.399Z"
   },
   {
    "duration": 3,
    "start_time": "2022-07-01T09:04:46.436Z"
   },
   {
    "duration": 25,
    "start_time": "2022-07-01T09:04:46.440Z"
   },
   {
    "duration": 51,
    "start_time": "2022-07-01T09:04:46.468Z"
   },
   {
    "duration": 7,
    "start_time": "2022-07-01T09:04:46.521Z"
   },
   {
    "duration": 30,
    "start_time": "2022-07-01T09:04:46.529Z"
   },
   {
    "duration": 5,
    "start_time": "2022-07-01T09:04:46.561Z"
   },
   {
    "duration": 3,
    "start_time": "2022-07-01T09:05:10.011Z"
   },
   {
    "duration": 27,
    "start_time": "2022-07-01T09:05:10.372Z"
   },
   {
    "duration": 4,
    "start_time": "2022-07-01T09:05:10.680Z"
   },
   {
    "duration": 5,
    "start_time": "2022-07-01T09:05:11.015Z"
   },
   {
    "duration": 36,
    "start_time": "2022-07-01T09:05:11.387Z"
   },
   {
    "duration": 6,
    "start_time": "2022-07-01T09:05:11.681Z"
   },
   {
    "duration": 28,
    "start_time": "2022-07-01T09:05:12.093Z"
   },
   {
    "duration": 5,
    "start_time": "2022-07-01T09:05:12.471Z"
   },
   {
    "duration": 2,
    "start_time": "2022-07-01T09:05:50.423Z"
   },
   {
    "duration": 10,
    "start_time": "2022-07-01T09:09:48.295Z"
   },
   {
    "duration": 9,
    "start_time": "2022-07-01T09:10:41.211Z"
   },
   {
    "duration": 12,
    "start_time": "2022-07-01T09:13:51.875Z"
   },
   {
    "duration": 13,
    "start_time": "2022-07-01T09:13:58.968Z"
   },
   {
    "duration": 11,
    "start_time": "2022-07-01T09:16:16.408Z"
   },
   {
    "duration": 11,
    "start_time": "2022-07-01T09:16:25.881Z"
   },
   {
    "duration": 82,
    "start_time": "2022-07-01T09:17:00.059Z"
   },
   {
    "duration": 10,
    "start_time": "2022-07-01T09:17:04.212Z"
   },
   {
    "duration": 11,
    "start_time": "2022-07-01T09:17:19.434Z"
   },
   {
    "duration": 10,
    "start_time": "2022-07-01T09:18:08.182Z"
   },
   {
    "duration": 843,
    "start_time": "2022-07-01T09:19:14.044Z"
   },
   {
    "duration": 34,
    "start_time": "2022-07-01T09:19:14.889Z"
   },
   {
    "duration": 5,
    "start_time": "2022-07-01T09:19:14.925Z"
   },
   {
    "duration": 13,
    "start_time": "2022-07-01T09:19:14.932Z"
   },
   {
    "duration": 8,
    "start_time": "2022-07-01T09:19:14.947Z"
   },
   {
    "duration": 46,
    "start_time": "2022-07-01T09:19:14.957Z"
   },
   {
    "duration": 7,
    "start_time": "2022-07-01T09:19:15.005Z"
   },
   {
    "duration": 34,
    "start_time": "2022-07-01T09:19:15.015Z"
   },
   {
    "duration": 5,
    "start_time": "2022-07-01T09:19:15.051Z"
   },
   {
    "duration": 19,
    "start_time": "2022-07-01T09:19:15.058Z"
   },
   {
    "duration": 7,
    "start_time": "2022-07-01T09:19:15.079Z"
   },
   {
    "duration": 18,
    "start_time": "2022-07-01T09:19:15.087Z"
   },
   {
    "duration": 3,
    "start_time": "2022-07-01T09:28:38.255Z"
   },
   {
    "duration": 84,
    "start_time": "2022-07-01T09:28:49.023Z"
   },
   {
    "duration": 12,
    "start_time": "2022-07-01T09:29:01.076Z"
   },
   {
    "duration": 13,
    "start_time": "2022-07-01T09:29:11.433Z"
   },
   {
    "duration": 11,
    "start_time": "2022-07-01T09:29:11.970Z"
   },
   {
    "duration": 3,
    "start_time": "2022-07-01T09:29:16.763Z"
   },
   {
    "duration": 3,
    "start_time": "2022-07-01T09:29:44.490Z"
   },
   {
    "duration": 12,
    "start_time": "2022-07-01T09:29:44.905Z"
   },
   {
    "duration": 13,
    "start_time": "2022-07-01T09:30:00.167Z"
   },
   {
    "duration": 3,
    "start_time": "2022-07-01T09:44:29.595Z"
   },
   {
    "duration": 222,
    "start_time": "2022-07-01T09:54:46.743Z"
   },
   {
    "duration": 576,
    "start_time": "2022-07-01T09:55:47.684Z"
   },
   {
    "duration": 249,
    "start_time": "2022-07-01T09:56:30.385Z"
   },
   {
    "duration": 525,
    "start_time": "2022-07-01T09:56:41.409Z"
   },
   {
    "duration": 234,
    "start_time": "2022-07-01T09:58:47.256Z"
   },
   {
    "duration": 83,
    "start_time": "2022-07-01T09:59:25.334Z"
   },
   {
    "duration": 7,
    "start_time": "2022-07-01T10:05:47.767Z"
   },
   {
    "duration": 1254,
    "start_time": "2022-07-01T10:06:19.112Z"
   },
   {
    "duration": 32,
    "start_time": "2022-07-01T10:06:20.368Z"
   },
   {
    "duration": 3,
    "start_time": "2022-07-01T10:06:20.401Z"
   },
   {
    "duration": 12,
    "start_time": "2022-07-01T10:06:20.406Z"
   },
   {
    "duration": 10,
    "start_time": "2022-07-01T10:06:20.419Z"
   },
   {
    "duration": 49,
    "start_time": "2022-07-01T10:06:20.431Z"
   },
   {
    "duration": 585,
    "start_time": "2022-07-01T10:06:20.482Z"
   },
   {
    "duration": 0,
    "start_time": "2022-07-01T10:06:21.069Z"
   },
   {
    "duration": 0,
    "start_time": "2022-07-01T10:06:21.070Z"
   },
   {
    "duration": 0,
    "start_time": "2022-07-01T10:06:21.072Z"
   },
   {
    "duration": 0,
    "start_time": "2022-07-01T10:06:21.073Z"
   },
   {
    "duration": 0,
    "start_time": "2022-07-01T10:06:21.075Z"
   },
   {
    "duration": 0,
    "start_time": "2022-07-01T10:06:21.077Z"
   },
   {
    "duration": 0,
    "start_time": "2022-07-01T10:06:21.078Z"
   },
   {
    "duration": 0,
    "start_time": "2022-07-01T10:06:21.080Z"
   },
   {
    "duration": 5,
    "start_time": "2022-07-01T10:07:31.143Z"
   },
   {
    "duration": 9,
    "start_time": "2022-07-01T10:07:32.362Z"
   },
   {
    "duration": 26,
    "start_time": "2022-07-01T10:07:34.725Z"
   },
   {
    "duration": 470,
    "start_time": "2022-07-01T10:07:35.760Z"
   },
   {
    "duration": 3,
    "start_time": "2022-07-01T10:07:45.989Z"
   },
   {
    "duration": 6,
    "start_time": "2022-07-01T10:07:47.834Z"
   },
   {
    "duration": 14,
    "start_time": "2022-07-01T10:07:50.124Z"
   },
   {
    "duration": 3,
    "start_time": "2022-07-01T10:07:50.540Z"
   },
   {
    "duration": 12,
    "start_time": "2022-07-01T10:07:50.728Z"
   },
   {
    "duration": 529,
    "start_time": "2022-07-01T10:07:51.571Z"
   },
   {
    "duration": 878,
    "start_time": "2022-07-01T10:09:41.703Z"
   },
   {
    "duration": 422,
    "start_time": "2022-07-01T10:10:01.363Z"
   },
   {
    "duration": 296,
    "start_time": "2022-07-01T10:11:22.110Z"
   },
   {
    "duration": 252,
    "start_time": "2022-07-01T10:11:41.919Z"
   },
   {
    "duration": 12,
    "start_time": "2022-07-01T10:12:34.974Z"
   },
   {
    "duration": 1124,
    "start_time": "2022-07-01T10:12:47.490Z"
   },
   {
    "duration": 58,
    "start_time": "2022-07-01T10:12:48.616Z"
   },
   {
    "duration": 38,
    "start_time": "2022-07-01T10:12:48.675Z"
   },
   {
    "duration": 38,
    "start_time": "2022-07-01T10:12:48.715Z"
   },
   {
    "duration": 49,
    "start_time": "2022-07-01T10:12:48.754Z"
   },
   {
    "duration": 75,
    "start_time": "2022-07-01T10:12:48.805Z"
   },
   {
    "duration": 10,
    "start_time": "2022-07-01T10:12:48.882Z"
   },
   {
    "duration": 26,
    "start_time": "2022-07-01T10:12:48.894Z"
   },
   {
    "duration": 79,
    "start_time": "2022-07-01T10:12:48.922Z"
   },
   {
    "duration": 4,
    "start_time": "2022-07-01T10:12:49.003Z"
   },
   {
    "duration": 28,
    "start_time": "2022-07-01T10:12:49.010Z"
   },
   {
    "duration": 48,
    "start_time": "2022-07-01T10:12:49.040Z"
   },
   {
    "duration": 4,
    "start_time": "2022-07-01T10:12:49.090Z"
   },
   {
    "duration": 34,
    "start_time": "2022-07-01T10:12:49.096Z"
   },
   {
    "duration": 18,
    "start_time": "2022-07-01T10:12:49.132Z"
   },
   {
    "duration": 144,
    "start_time": "2022-07-01T10:12:59.927Z"
   },
   {
    "duration": 11,
    "start_time": "2022-07-01T10:13:09.500Z"
   },
   {
    "duration": 272,
    "start_time": "2022-07-01T10:16:35.243Z"
   },
   {
    "duration": 1123,
    "start_time": "2022-07-01T10:17:12.076Z"
   },
   {
    "duration": 40,
    "start_time": "2022-07-01T10:17:13.201Z"
   },
   {
    "duration": 3,
    "start_time": "2022-07-01T10:17:13.243Z"
   },
   {
    "duration": 35,
    "start_time": "2022-07-01T10:17:13.248Z"
   },
   {
    "duration": 7,
    "start_time": "2022-07-01T10:17:13.285Z"
   },
   {
    "duration": 41,
    "start_time": "2022-07-01T10:17:13.294Z"
   },
   {
    "duration": 3,
    "start_time": "2022-07-01T10:17:13.338Z"
   },
   {
    "duration": 29,
    "start_time": "2022-07-01T10:17:13.342Z"
   },
   {
    "duration": 31,
    "start_time": "2022-07-01T10:17:13.373Z"
   },
   {
    "duration": 3,
    "start_time": "2022-07-01T10:17:13.406Z"
   },
   {
    "duration": 11,
    "start_time": "2022-07-01T10:17:13.411Z"
   },
   {
    "duration": 13,
    "start_time": "2022-07-01T10:17:13.424Z"
   },
   {
    "duration": 4,
    "start_time": "2022-07-01T10:17:13.440Z"
   },
   {
    "duration": 36,
    "start_time": "2022-07-01T10:17:13.446Z"
   },
   {
    "duration": 347,
    "start_time": "2022-07-01T10:17:13.484Z"
   },
   {
    "duration": 207,
    "start_time": "2022-07-01T10:17:26.442Z"
   },
   {
    "duration": 268,
    "start_time": "2022-07-01T10:18:43.644Z"
   },
   {
    "duration": 59,
    "start_time": "2022-07-01T10:18:54.643Z"
   },
   {
    "duration": 51,
    "start_time": "2022-07-01T10:20:41.055Z"
   },
   {
    "duration": 47,
    "start_time": "2022-07-01T10:21:04.751Z"
   },
   {
    "duration": 9,
    "start_time": "2022-07-01T10:21:05.377Z"
   },
   {
    "duration": 6,
    "start_time": "2022-07-01T10:21:28.052Z"
   },
   {
    "duration": 36,
    "start_time": "2022-07-01T10:22:05.287Z"
   },
   {
    "duration": 86,
    "start_time": "2022-07-01T10:24:13.093Z"
   },
   {
    "duration": 216,
    "start_time": "2022-07-01T10:33:39.639Z"
   },
   {
    "duration": 3,
    "start_time": "2022-07-01T10:33:48.006Z"
   },
   {
    "duration": 3,
    "start_time": "2022-07-01T10:34:39.019Z"
   },
   {
    "duration": 5416,
    "start_time": "2022-07-01T10:34:59.413Z"
   },
   {
    "duration": 5140,
    "start_time": "2022-07-01T10:36:15.342Z"
   },
   {
    "duration": 5354,
    "start_time": "2022-07-01T10:36:32.117Z"
   },
   {
    "duration": 5170,
    "start_time": "2022-07-01T10:37:10.209Z"
   },
   {
    "duration": 5074,
    "start_time": "2022-07-01T10:38:11.666Z"
   },
   {
    "duration": 1216,
    "start_time": "2022-07-01T10:38:40.394Z"
   },
   {
    "duration": 41,
    "start_time": "2022-07-01T10:38:41.612Z"
   },
   {
    "duration": 4,
    "start_time": "2022-07-01T10:38:41.655Z"
   },
   {
    "duration": 34,
    "start_time": "2022-07-01T10:38:41.663Z"
   },
   {
    "duration": 25,
    "start_time": "2022-07-01T10:38:41.700Z"
   },
   {
    "duration": 15,
    "start_time": "2022-07-01T10:38:41.727Z"
   },
   {
    "duration": 3,
    "start_time": "2022-07-01T10:38:41.744Z"
   },
   {
    "duration": 22,
    "start_time": "2022-07-01T10:38:41.749Z"
   },
   {
    "duration": 60,
    "start_time": "2022-07-01T10:38:41.773Z"
   },
   {
    "duration": 11,
    "start_time": "2022-07-01T10:38:41.835Z"
   },
   {
    "duration": 5,
    "start_time": "2022-07-01T10:38:41.848Z"
   },
   {
    "duration": 334,
    "start_time": "2022-07-01T10:38:41.854Z"
   },
   {
    "duration": 544,
    "start_time": "2022-07-01T10:39:26.064Z"
   },
   {
    "duration": 500,
    "start_time": "2022-07-01T10:41:07.169Z"
   },
   {
    "duration": 599,
    "start_time": "2022-07-01T10:42:05.176Z"
   },
   {
    "duration": 467,
    "start_time": "2022-07-01T10:43:35.954Z"
   },
   {
    "duration": 466,
    "start_time": "2022-07-01T10:44:26.634Z"
   },
   {
    "duration": 562,
    "start_time": "2022-07-01T10:45:36.080Z"
   },
   {
    "duration": 478,
    "start_time": "2022-07-01T10:45:52.097Z"
   },
   {
    "duration": 462,
    "start_time": "2022-07-01T10:46:09.988Z"
   },
   {
    "duration": 521,
    "start_time": "2022-07-01T10:46:17.233Z"
   },
   {
    "duration": 468,
    "start_time": "2022-07-01T10:47:14.039Z"
   },
   {
    "duration": 476,
    "start_time": "2022-07-01T10:47:26.825Z"
   },
   {
    "duration": 447,
    "start_time": "2022-07-01T10:47:35.490Z"
   },
   {
    "duration": 478,
    "start_time": "2022-07-01T10:49:41.478Z"
   },
   {
    "duration": 468,
    "start_time": "2022-07-01T10:52:46.258Z"
   },
   {
    "duration": 428,
    "start_time": "2022-07-01T10:52:50.056Z"
   },
   {
    "duration": 479,
    "start_time": "2022-07-01T10:53:27.486Z"
   },
   {
    "duration": 525,
    "start_time": "2022-07-01T11:38:48.637Z"
   },
   {
    "duration": 570,
    "start_time": "2022-07-01T11:40:10.445Z"
   },
   {
    "duration": 599,
    "start_time": "2022-07-01T11:40:24.727Z"
   },
   {
    "duration": 311,
    "start_time": "2022-07-01T11:44:56.485Z"
   },
   {
    "duration": 343,
    "start_time": "2022-07-01T11:45:09.743Z"
   },
   {
    "duration": 196,
    "start_time": "2022-07-01T11:45:15.356Z"
   },
   {
    "duration": 1134,
    "start_time": "2022-07-01T11:45:40.641Z"
   },
   {
    "duration": 33,
    "start_time": "2022-07-01T11:45:41.778Z"
   },
   {
    "duration": 4,
    "start_time": "2022-07-01T11:45:41.813Z"
   },
   {
    "duration": 29,
    "start_time": "2022-07-01T11:45:41.819Z"
   },
   {
    "duration": 32,
    "start_time": "2022-07-01T11:45:41.852Z"
   },
   {
    "duration": 46,
    "start_time": "2022-07-01T11:45:41.886Z"
   },
   {
    "duration": 19,
    "start_time": "2022-07-01T11:45:41.933Z"
   },
   {
    "duration": 55,
    "start_time": "2022-07-01T11:45:41.953Z"
   },
   {
    "duration": 66,
    "start_time": "2022-07-01T11:45:42.010Z"
   },
   {
    "duration": 9,
    "start_time": "2022-07-01T11:45:42.078Z"
   },
   {
    "duration": 43,
    "start_time": "2022-07-01T11:45:42.089Z"
   },
   {
    "duration": 700,
    "start_time": "2022-07-01T11:45:42.135Z"
   },
   {
    "duration": 244,
    "start_time": "2022-07-01T11:45:42.837Z"
   },
   {
    "duration": 318,
    "start_time": "2022-07-01T11:45:43.084Z"
   },
   {
    "duration": 170,
    "start_time": "2022-07-01T11:45:43.404Z"
   },
   {
    "duration": 169,
    "start_time": "2022-07-01T11:46:31.069Z"
   },
   {
    "duration": 350,
    "start_time": "2022-07-01T11:46:41.740Z"
   },
   {
    "duration": 172,
    "start_time": "2022-07-01T11:46:55.883Z"
   },
   {
    "duration": 269,
    "start_time": "2022-07-01T11:47:06.761Z"
   },
   {
    "duration": 475,
    "start_time": "2022-07-01T11:47:22.478Z"
   },
   {
    "duration": 479,
    "start_time": "2022-07-01T11:47:36.292Z"
   },
   {
    "duration": 237,
    "start_time": "2022-07-01T11:48:28.116Z"
   },
   {
    "duration": 186,
    "start_time": "2022-07-01T11:48:53.012Z"
   },
   {
    "duration": 219,
    "start_time": "2022-07-01T11:49:11.283Z"
   },
   {
    "duration": 282,
    "start_time": "2022-07-01T11:53:19.780Z"
   },
   {
    "duration": 237,
    "start_time": "2022-07-01T11:53:42.756Z"
   },
   {
    "duration": 350,
    "start_time": "2022-07-01T11:54:09.339Z"
   },
   {
    "duration": 1293,
    "start_time": "2022-07-01T12:01:39.218Z"
   },
   {
    "duration": 35,
    "start_time": "2022-07-01T12:01:40.514Z"
   },
   {
    "duration": 7,
    "start_time": "2022-07-01T12:01:40.552Z"
   },
   {
    "duration": 29,
    "start_time": "2022-07-01T12:01:40.564Z"
   },
   {
    "duration": 21,
    "start_time": "2022-07-01T12:01:40.595Z"
   },
   {
    "duration": 30,
    "start_time": "2022-07-01T12:01:40.618Z"
   },
   {
    "duration": 29,
    "start_time": "2022-07-01T12:01:40.650Z"
   },
   {
    "duration": 19,
    "start_time": "2022-07-01T12:01:40.681Z"
   },
   {
    "duration": 75,
    "start_time": "2022-07-01T12:01:40.703Z"
   },
   {
    "duration": 11,
    "start_time": "2022-07-01T12:01:40.781Z"
   },
   {
    "duration": 23,
    "start_time": "2022-07-01T12:01:40.794Z"
   },
   {
    "duration": 686,
    "start_time": "2022-07-01T12:01:40.820Z"
   },
   {
    "duration": 344,
    "start_time": "2022-07-01T12:01:41.508Z"
   },
   {
    "duration": 403,
    "start_time": "2022-07-01T12:01:41.853Z"
   },
   {
    "duration": 248,
    "start_time": "2022-07-01T12:01:42.258Z"
   },
   {
    "duration": 401,
    "start_time": "2022-07-01T12:01:42.509Z"
   },
   {
    "duration": 106,
    "start_time": "2022-07-01T12:03:30.472Z"
   },
   {
    "duration": 49,
    "start_time": "2022-07-01T12:03:55.348Z"
   },
   {
    "duration": 31,
    "start_time": "2022-07-01T12:04:04.675Z"
   },
   {
    "duration": 151,
    "start_time": "2022-07-01T12:04:32.922Z"
   },
   {
    "duration": 162,
    "start_time": "2022-07-01T12:05:51.410Z"
   },
   {
    "duration": 8,
    "start_time": "2022-07-01T12:09:03.316Z"
   },
   {
    "duration": 4,
    "start_time": "2022-07-01T12:12:15.499Z"
   },
   {
    "duration": 147,
    "start_time": "2022-07-01T12:13:17.783Z"
   },
   {
    "duration": 165,
    "start_time": "2022-07-01T12:14:45.329Z"
   },
   {
    "duration": 224,
    "start_time": "2022-07-01T12:15:02.008Z"
   },
   {
    "duration": 153,
    "start_time": "2022-07-01T12:15:13.532Z"
   },
   {
    "duration": 1402,
    "start_time": "2022-07-01T12:15:57.041Z"
   },
   {
    "duration": 163,
    "start_time": "2022-07-01T12:16:54.431Z"
   },
   {
    "duration": 162,
    "start_time": "2022-07-01T12:18:38.470Z"
   },
   {
    "duration": 212,
    "start_time": "2022-07-01T12:20:55.989Z"
   },
   {
    "duration": 5,
    "start_time": "2022-07-01T12:23:18.191Z"
   },
   {
    "duration": 8,
    "start_time": "2022-07-01T12:24:45.901Z"
   },
   {
    "duration": 5,
    "start_time": "2022-07-01T12:24:50.880Z"
   },
   {
    "duration": 8,
    "start_time": "2022-07-01T12:26:14.700Z"
   },
   {
    "duration": 180,
    "start_time": "2022-07-01T12:27:10.587Z"
   },
   {
    "duration": 165,
    "start_time": "2022-07-01T12:27:17.365Z"
   },
   {
    "duration": 6,
    "start_time": "2022-07-01T12:27:25.166Z"
   },
   {
    "duration": 14,
    "start_time": "2022-07-01T12:31:37.405Z"
   },
   {
    "duration": 402,
    "start_time": "2022-07-01T13:15:04.124Z"
   },
   {
    "duration": 389,
    "start_time": "2022-07-01T13:16:21.622Z"
   },
   {
    "duration": 391,
    "start_time": "2022-07-01T13:16:30.365Z"
   },
   {
    "duration": 396,
    "start_time": "2022-07-01T13:18:01.541Z"
   },
   {
    "duration": 3,
    "start_time": "2022-07-01T13:19:05.720Z"
   },
   {
    "duration": 348,
    "start_time": "2022-07-01T13:21:28.588Z"
   },
   {
    "duration": 403,
    "start_time": "2022-07-01T13:22:02.375Z"
   },
   {
    "duration": 353,
    "start_time": "2022-07-01T13:22:08.078Z"
   },
   {
    "duration": 1691,
    "start_time": "2022-07-03T21:36:02.248Z"
   },
   {
    "duration": 99,
    "start_time": "2022-07-03T21:36:03.942Z"
   },
   {
    "duration": 4,
    "start_time": "2022-07-03T21:36:04.043Z"
   },
   {
    "duration": 59,
    "start_time": "2022-07-03T21:36:04.051Z"
   },
   {
    "duration": 17,
    "start_time": "2022-07-03T21:36:04.113Z"
   },
   {
    "duration": 39,
    "start_time": "2022-07-03T21:36:04.132Z"
   },
   {
    "duration": 32,
    "start_time": "2022-07-03T21:36:04.173Z"
   },
   {
    "duration": 27,
    "start_time": "2022-07-03T21:36:04.207Z"
   },
   {
    "duration": 196,
    "start_time": "2022-07-03T21:36:04.237Z"
   },
   {
    "duration": 11,
    "start_time": "2022-07-03T21:36:04.437Z"
   },
   {
    "duration": 55,
    "start_time": "2022-07-03T21:36:04.450Z"
   },
   {
    "duration": 713,
    "start_time": "2022-07-03T21:36:04.508Z"
   },
   {
    "duration": 263,
    "start_time": "2022-07-03T21:36:05.223Z"
   },
   {
    "duration": 387,
    "start_time": "2022-07-03T21:36:05.487Z"
   },
   {
    "duration": 291,
    "start_time": "2022-07-03T21:36:05.876Z"
   },
   {
    "duration": 387,
    "start_time": "2022-07-03T21:36:06.168Z"
   },
   {
    "duration": 189,
    "start_time": "2022-07-03T21:36:06.558Z"
   },
   {
    "duration": 18,
    "start_time": "2022-07-03T21:36:06.750Z"
   },
   {
    "duration": 286,
    "start_time": "2022-07-03T21:36:06.771Z"
   },
   {
    "duration": 4,
    "start_time": "2022-07-03T21:36:07.059Z"
   },
   {
    "duration": 467,
    "start_time": "2022-07-03T21:36:07.064Z"
   },
   {
    "duration": 18,
    "start_time": "2022-07-03T21:36:07.535Z"
   },
   {
    "duration": 13,
    "start_time": "2022-07-03T21:37:30.171Z"
   },
   {
    "duration": 8,
    "start_time": "2022-07-03T21:37:59.529Z"
   },
   {
    "duration": 30,
    "start_time": "2022-07-03T21:38:53.054Z"
   },
   {
    "duration": 18,
    "start_time": "2022-07-03T21:40:12.570Z"
   },
   {
    "duration": 74,
    "start_time": "2022-07-04T10:09:50.240Z"
   },
   {
    "duration": 1362,
    "start_time": "2022-07-04T10:10:31.740Z"
   },
   {
    "duration": 53,
    "start_time": "2022-07-04T10:10:33.105Z"
   },
   {
    "duration": 3,
    "start_time": "2022-07-04T10:10:33.159Z"
   },
   {
    "duration": 49,
    "start_time": "2022-07-04T10:10:33.164Z"
   },
   {
    "duration": 7,
    "start_time": "2022-07-04T10:10:33.215Z"
   },
   {
    "duration": 14,
    "start_time": "2022-07-04T10:10:33.224Z"
   },
   {
    "duration": 3,
    "start_time": "2022-07-04T10:10:33.239Z"
   },
   {
    "duration": 12,
    "start_time": "2022-07-04T10:10:33.244Z"
   },
   {
    "duration": 160,
    "start_time": "2022-07-04T10:10:33.258Z"
   },
   {
    "duration": 7,
    "start_time": "2022-07-04T10:10:33.420Z"
   },
   {
    "duration": 5,
    "start_time": "2022-07-04T10:10:33.429Z"
   },
   {
    "duration": 735,
    "start_time": "2022-07-04T10:10:33.436Z"
   },
   {
    "duration": 308,
    "start_time": "2022-07-04T10:10:34.175Z"
   },
   {
    "duration": 370,
    "start_time": "2022-07-04T10:10:34.492Z"
   },
   {
    "duration": 257,
    "start_time": "2022-07-04T10:10:34.864Z"
   },
   {
    "duration": 404,
    "start_time": "2022-07-04T10:10:35.123Z"
   },
   {
    "duration": 191,
    "start_time": "2022-07-04T10:10:35.528Z"
   },
   {
    "duration": 7,
    "start_time": "2022-07-04T10:10:35.721Z"
   },
   {
    "duration": 217,
    "start_time": "2022-07-04T10:10:35.729Z"
   },
   {
    "duration": 4,
    "start_time": "2022-07-04T10:10:35.947Z"
   },
   {
    "duration": 257,
    "start_time": "2022-07-04T10:10:35.953Z"
   },
   {
    "duration": 0,
    "start_time": "2022-07-04T10:10:36.213Z"
   },
   {
    "duration": 0,
    "start_time": "2022-07-04T10:10:36.214Z"
   },
   {
    "duration": 0,
    "start_time": "2022-07-04T10:10:36.217Z"
   },
   {
    "duration": 0,
    "start_time": "2022-07-04T10:10:36.218Z"
   },
   {
    "duration": 9,
    "start_time": "2022-07-04T10:12:33.303Z"
   },
   {
    "duration": 9,
    "start_time": "2022-07-04T10:12:33.838Z"
   },
   {
    "duration": 50,
    "start_time": "2022-07-04T10:14:26.406Z"
   },
   {
    "duration": 111,
    "start_time": "2022-07-04T10:14:37.667Z"
   },
   {
    "duration": 143,
    "start_time": "2022-07-04T10:15:08.615Z"
   },
   {
    "duration": 286,
    "start_time": "2022-07-04T10:17:55.136Z"
   },
   {
    "duration": 293,
    "start_time": "2022-07-04T10:18:24.916Z"
   },
   {
    "duration": 18,
    "start_time": "2022-07-04T10:22:07.517Z"
   },
   {
    "duration": 190,
    "start_time": "2022-07-04T10:26:11.945Z"
   },
   {
    "duration": 193,
    "start_time": "2022-07-04T10:29:23.547Z"
   },
   {
    "duration": 11,
    "start_time": "2022-07-04T10:31:48.907Z"
   },
   {
    "duration": 12,
    "start_time": "2022-07-04T10:32:21.708Z"
   },
   {
    "duration": 2,
    "start_time": "2022-07-04T10:40:40.145Z"
   },
   {
    "duration": 7,
    "start_time": "2022-07-04T10:44:46.621Z"
   },
   {
    "duration": 10,
    "start_time": "2022-07-04T10:51:33.532Z"
   },
   {
    "duration": 16,
    "start_time": "2022-07-04T10:53:14.700Z"
   },
   {
    "duration": 26,
    "start_time": "2022-07-04T11:22:35.650Z"
   },
   {
    "duration": 12,
    "start_time": "2022-07-04T11:31:35.529Z"
   },
   {
    "duration": 10,
    "start_time": "2022-07-04T11:32:01.256Z"
   },
   {
    "duration": 13,
    "start_time": "2022-07-04T11:33:30.459Z"
   },
   {
    "duration": 9,
    "start_time": "2022-07-04T11:34:52.544Z"
   },
   {
    "duration": 35,
    "start_time": "2022-07-04T11:35:09.441Z"
   },
   {
    "duration": 10,
    "start_time": "2022-07-04T11:35:25.409Z"
   },
   {
    "duration": 33,
    "start_time": "2022-07-04T11:35:25.797Z"
   },
   {
    "duration": 23,
    "start_time": "2022-07-04T11:35:36.720Z"
   },
   {
    "duration": 9,
    "start_time": "2022-07-04T11:36:07.832Z"
   },
   {
    "duration": 22,
    "start_time": "2022-07-04T11:36:08.206Z"
   },
   {
    "duration": 48,
    "start_time": "2022-07-04T16:08:54.986Z"
   },
   {
    "duration": 1291,
    "start_time": "2022-07-04T16:09:01.387Z"
   },
   {
    "duration": 57,
    "start_time": "2022-07-04T16:09:02.683Z"
   },
   {
    "duration": 3,
    "start_time": "2022-07-04T16:09:02.742Z"
   },
   {
    "duration": 16,
    "start_time": "2022-07-04T16:09:02.746Z"
   },
   {
    "duration": 29,
    "start_time": "2022-07-04T16:09:02.768Z"
   },
   {
    "duration": 15,
    "start_time": "2022-07-04T16:09:02.799Z"
   },
   {
    "duration": 4,
    "start_time": "2022-07-04T16:09:02.816Z"
   },
   {
    "duration": 13,
    "start_time": "2022-07-04T16:09:02.821Z"
   },
   {
    "duration": 114,
    "start_time": "2022-07-04T16:09:02.836Z"
   },
   {
    "duration": 12,
    "start_time": "2022-07-04T16:09:02.953Z"
   },
   {
    "duration": 23,
    "start_time": "2022-07-04T16:09:02.971Z"
   },
   {
    "duration": 599,
    "start_time": "2022-07-04T16:09:02.995Z"
   },
   {
    "duration": 226,
    "start_time": "2022-07-04T16:09:03.596Z"
   },
   {
    "duration": 392,
    "start_time": "2022-07-04T16:09:03.824Z"
   },
   {
    "duration": 229,
    "start_time": "2022-07-04T16:09:04.217Z"
   },
   {
    "duration": 356,
    "start_time": "2022-07-04T16:09:04.448Z"
   },
   {
    "duration": 190,
    "start_time": "2022-07-04T16:09:04.805Z"
   },
   {
    "duration": 7,
    "start_time": "2022-07-04T16:09:04.997Z"
   },
   {
    "duration": 201,
    "start_time": "2022-07-04T16:09:05.006Z"
   },
   {
    "duration": 10,
    "start_time": "2022-07-04T16:09:05.209Z"
   },
   {
    "duration": 267,
    "start_time": "2022-07-04T16:09:05.221Z"
   },
   {
    "duration": 181,
    "start_time": "2022-07-04T16:09:05.490Z"
   },
   {
    "duration": 17,
    "start_time": "2022-07-04T16:09:05.678Z"
   },
   {
    "duration": 9,
    "start_time": "2022-07-04T16:09:05.696Z"
   },
   {
    "duration": 8,
    "start_time": "2022-07-04T16:09:05.707Z"
   },
   {
    "duration": 25,
    "start_time": "2022-07-04T16:09:05.717Z"
   },
   {
    "duration": 31,
    "start_time": "2022-07-04T16:09:05.744Z"
   },
   {
    "duration": 2,
    "start_time": "2022-07-04T16:13:36.612Z"
   },
   {
    "duration": 1105,
    "start_time": "2022-07-04T16:20:13.877Z"
   },
   {
    "duration": 31,
    "start_time": "2022-07-04T16:20:14.988Z"
   },
   {
    "duration": 3,
    "start_time": "2022-07-04T16:20:15.021Z"
   },
   {
    "duration": 29,
    "start_time": "2022-07-04T16:20:15.025Z"
   },
   {
    "duration": 39,
    "start_time": "2022-07-04T16:20:15.055Z"
   },
   {
    "duration": 16,
    "start_time": "2022-07-04T16:20:15.096Z"
   },
   {
    "duration": 3,
    "start_time": "2022-07-04T16:20:15.114Z"
   },
   {
    "duration": 13,
    "start_time": "2022-07-04T16:20:15.118Z"
   },
   {
    "duration": 55,
    "start_time": "2022-07-04T16:20:15.133Z"
   },
   {
    "duration": 7,
    "start_time": "2022-07-04T16:20:15.189Z"
   },
   {
    "duration": 3,
    "start_time": "2022-07-04T16:20:15.198Z"
   },
   {
    "duration": 639,
    "start_time": "2022-07-04T16:20:15.202Z"
   },
   {
    "duration": 246,
    "start_time": "2022-07-04T16:20:15.843Z"
   },
   {
    "duration": 327,
    "start_time": "2022-07-04T16:20:16.092Z"
   },
   {
    "duration": 270,
    "start_time": "2022-07-04T16:20:16.421Z"
   },
   {
    "duration": 337,
    "start_time": "2022-07-04T16:20:16.694Z"
   },
   {
    "duration": 171,
    "start_time": "2022-07-04T16:20:17.033Z"
   },
   {
    "duration": 6,
    "start_time": "2022-07-04T16:20:17.206Z"
   },
   {
    "duration": 183,
    "start_time": "2022-07-04T16:20:17.213Z"
   },
   {
    "duration": 4,
    "start_time": "2022-07-04T16:20:17.398Z"
   },
   {
    "duration": 236,
    "start_time": "2022-07-04T16:20:17.404Z"
   },
   {
    "duration": 181,
    "start_time": "2022-07-04T16:20:17.642Z"
   },
   {
    "duration": 11,
    "start_time": "2022-07-04T16:20:17.825Z"
   },
   {
    "duration": 28,
    "start_time": "2022-07-04T16:20:17.838Z"
   },
   {
    "duration": 9,
    "start_time": "2022-07-04T16:20:17.871Z"
   },
   {
    "duration": 24,
    "start_time": "2022-07-04T16:20:17.888Z"
   },
   {
    "duration": 12,
    "start_time": "2022-07-04T16:20:17.914Z"
   },
   {
    "duration": 1065,
    "start_time": "2022-07-04T16:51:33.609Z"
   },
   {
    "duration": 49,
    "start_time": "2022-07-04T16:51:34.676Z"
   },
   {
    "duration": 3,
    "start_time": "2022-07-04T16:51:34.726Z"
   },
   {
    "duration": 16,
    "start_time": "2022-07-04T16:51:34.731Z"
   },
   {
    "duration": 7,
    "start_time": "2022-07-04T16:51:34.749Z"
   },
   {
    "duration": 15,
    "start_time": "2022-07-04T16:51:34.757Z"
   },
   {
    "duration": 3,
    "start_time": "2022-07-04T16:51:34.774Z"
   },
   {
    "duration": 22,
    "start_time": "2022-07-04T16:51:34.778Z"
   },
   {
    "duration": 87,
    "start_time": "2022-07-04T16:51:34.801Z"
   },
   {
    "duration": 7,
    "start_time": "2022-07-04T16:51:34.891Z"
   },
   {
    "duration": 6,
    "start_time": "2022-07-04T16:51:34.899Z"
   },
   {
    "duration": 604,
    "start_time": "2022-07-04T16:51:34.906Z"
   },
   {
    "duration": 206,
    "start_time": "2022-07-04T16:51:35.512Z"
   },
   {
    "duration": 304,
    "start_time": "2022-07-04T16:51:35.720Z"
   },
   {
    "duration": 209,
    "start_time": "2022-07-04T16:51:36.027Z"
   },
   {
    "duration": 299,
    "start_time": "2022-07-04T16:51:36.238Z"
   },
   {
    "duration": 152,
    "start_time": "2022-07-04T16:51:36.539Z"
   },
   {
    "duration": 13,
    "start_time": "2022-07-04T16:51:36.692Z"
   },
   {
    "duration": 163,
    "start_time": "2022-07-04T16:51:36.706Z"
   },
   {
    "duration": 4,
    "start_time": "2022-07-04T16:51:36.870Z"
   },
   {
    "duration": 251,
    "start_time": "2022-07-04T16:51:36.875Z"
   },
   {
    "duration": 162,
    "start_time": "2022-07-04T16:51:37.128Z"
   },
   {
    "duration": 18,
    "start_time": "2022-07-04T16:51:37.292Z"
   },
   {
    "duration": 29,
    "start_time": "2022-07-04T16:51:37.312Z"
   },
   {
    "duration": 21,
    "start_time": "2022-07-04T16:51:37.343Z"
   },
   {
    "duration": 56,
    "start_time": "2022-07-04T16:51:37.366Z"
   },
   {
    "duration": 15,
    "start_time": "2022-07-04T16:51:37.424Z"
   },
   {
    "duration": 49,
    "start_time": "2022-07-05T08:53:38.444Z"
   },
   {
    "duration": 1439,
    "start_time": "2022-07-05T08:53:50.881Z"
   },
   {
    "duration": 109,
    "start_time": "2022-07-05T08:53:52.327Z"
   },
   {
    "duration": 3,
    "start_time": "2022-07-05T08:53:52.440Z"
   },
   {
    "duration": 12,
    "start_time": "2022-07-05T08:53:52.444Z"
   },
   {
    "duration": 6,
    "start_time": "2022-07-05T08:53:52.458Z"
   },
   {
    "duration": 13,
    "start_time": "2022-07-05T08:53:52.465Z"
   },
   {
    "duration": 2,
    "start_time": "2022-07-05T08:53:52.479Z"
   },
   {
    "duration": 37,
    "start_time": "2022-07-05T08:53:52.483Z"
   },
   {
    "duration": 200,
    "start_time": "2022-07-05T08:53:52.525Z"
   },
   {
    "duration": 7,
    "start_time": "2022-07-05T08:53:52.727Z"
   },
   {
    "duration": 8,
    "start_time": "2022-07-05T08:53:52.736Z"
   },
   {
    "duration": 7,
    "start_time": "2022-07-05T08:53:52.746Z"
   },
   {
    "duration": 677,
    "start_time": "2022-07-05T08:53:52.754Z"
   },
   {
    "duration": 301,
    "start_time": "2022-07-05T08:53:53.433Z"
   },
   {
    "duration": 412,
    "start_time": "2022-07-05T08:53:53.736Z"
   },
   {
    "duration": 266,
    "start_time": "2022-07-05T08:53:54.150Z"
   },
   {
    "duration": 350,
    "start_time": "2022-07-05T08:53:54.418Z"
   },
   {
    "duration": 185,
    "start_time": "2022-07-05T08:53:54.770Z"
   },
   {
    "duration": 7,
    "start_time": "2022-07-05T08:53:54.957Z"
   },
   {
    "duration": 208,
    "start_time": "2022-07-05T08:53:54.965Z"
   },
   {
    "duration": 5,
    "start_time": "2022-07-05T08:53:55.174Z"
   },
   {
    "duration": 289,
    "start_time": "2022-07-05T08:53:55.181Z"
   },
   {
    "duration": 211,
    "start_time": "2022-07-05T08:53:55.471Z"
   },
   {
    "duration": 28,
    "start_time": "2022-07-05T08:53:55.683Z"
   },
   {
    "duration": 29,
    "start_time": "2022-07-05T08:53:55.713Z"
   },
   {
    "duration": 9,
    "start_time": "2022-07-05T08:53:55.743Z"
   },
   {
    "duration": 23,
    "start_time": "2022-07-05T08:53:55.755Z"
   },
   {
    "duration": 50,
    "start_time": "2022-07-05T08:53:55.780Z"
   },
   {
    "duration": 4,
    "start_time": "2022-07-05T08:59:53.234Z"
   },
   {
    "duration": 145,
    "start_time": "2022-07-05T09:00:38.935Z"
   },
   {
    "duration": 5,
    "start_time": "2022-07-05T09:00:44.834Z"
   },
   {
    "duration": 26,
    "start_time": "2022-07-05T09:02:09.416Z"
   },
   {
    "duration": 32,
    "start_time": "2022-07-05T09:02:16.527Z"
   },
   {
    "duration": 33,
    "start_time": "2022-07-05T09:02:48.978Z"
   },
   {
    "duration": 94,
    "start_time": "2022-07-05T09:03:02.962Z"
   },
   {
    "duration": 9,
    "start_time": "2022-07-05T09:03:23.223Z"
   },
   {
    "duration": 12,
    "start_time": "2022-07-05T09:11:16.924Z"
   },
   {
    "duration": 12,
    "start_time": "2022-07-05T09:12:30.018Z"
   },
   {
    "duration": 12,
    "start_time": "2022-07-05T09:13:11.040Z"
   },
   {
    "duration": 24,
    "start_time": "2022-07-05T09:13:45.936Z"
   },
   {
    "duration": 9,
    "start_time": "2022-07-05T09:13:57.582Z"
   },
   {
    "duration": 10,
    "start_time": "2022-07-05T09:16:16.062Z"
   },
   {
    "duration": 19,
    "start_time": "2022-07-05T09:17:35.760Z"
   },
   {
    "duration": 12,
    "start_time": "2022-07-05T09:18:24.037Z"
   },
   {
    "duration": 12,
    "start_time": "2022-07-05T09:18:28.421Z"
   },
   {
    "duration": 17,
    "start_time": "2022-07-05T09:26:06.824Z"
   },
   {
    "duration": 16,
    "start_time": "2022-07-05T09:26:41.389Z"
   },
   {
    "duration": 17,
    "start_time": "2022-07-05T09:26:56.523Z"
   },
   {
    "duration": 27,
    "start_time": "2022-07-05T09:27:07.150Z"
   },
   {
    "duration": 14,
    "start_time": "2022-07-05T09:27:54.829Z"
   },
   {
    "duration": 16,
    "start_time": "2022-07-05T09:28:35.038Z"
   },
   {
    "duration": 7,
    "start_time": "2022-07-05T09:31:56.867Z"
   },
   {
    "duration": 14,
    "start_time": "2022-07-05T09:32:14.430Z"
   },
   {
    "duration": 11,
    "start_time": "2022-07-05T09:32:15.370Z"
   },
   {
    "duration": 1261,
    "start_time": "2022-07-05T09:32:22.997Z"
   },
   {
    "duration": 60,
    "start_time": "2022-07-05T09:32:24.260Z"
   },
   {
    "duration": 8,
    "start_time": "2022-07-05T09:32:24.324Z"
   },
   {
    "duration": 14,
    "start_time": "2022-07-05T09:32:24.335Z"
   },
   {
    "duration": 15,
    "start_time": "2022-07-05T09:32:24.350Z"
   },
   {
    "duration": 17,
    "start_time": "2022-07-05T09:32:24.367Z"
   },
   {
    "duration": 3,
    "start_time": "2022-07-05T09:32:24.386Z"
   },
   {
    "duration": 37,
    "start_time": "2022-07-05T09:32:24.390Z"
   },
   {
    "duration": 75,
    "start_time": "2022-07-05T09:32:24.429Z"
   },
   {
    "duration": 13,
    "start_time": "2022-07-05T09:32:24.519Z"
   },
   {
    "duration": 4,
    "start_time": "2022-07-05T09:32:24.533Z"
   },
   {
    "duration": 12,
    "start_time": "2022-07-05T09:32:24.539Z"
   },
   {
    "duration": 18,
    "start_time": "2022-07-05T09:32:24.552Z"
   },
   {
    "duration": 755,
    "start_time": "2022-07-05T09:32:24.571Z"
   },
   {
    "duration": 260,
    "start_time": "2022-07-05T09:32:25.330Z"
   },
   {
    "duration": 355,
    "start_time": "2022-07-05T09:32:25.592Z"
   },
   {
    "duration": 267,
    "start_time": "2022-07-05T09:32:25.948Z"
   },
   {
    "duration": 359,
    "start_time": "2022-07-05T09:32:26.217Z"
   },
   {
    "duration": 270,
    "start_time": "2022-07-05T09:32:26.578Z"
   },
   {
    "duration": 10,
    "start_time": "2022-07-05T09:32:26.850Z"
   },
   {
    "duration": 240,
    "start_time": "2022-07-05T09:32:26.864Z"
   },
   {
    "duration": 10,
    "start_time": "2022-07-05T09:32:27.107Z"
   },
   {
    "duration": 262,
    "start_time": "2022-07-05T09:32:27.132Z"
   },
   {
    "duration": 211,
    "start_time": "2022-07-05T09:32:27.396Z"
   },
   {
    "duration": 28,
    "start_time": "2022-07-05T09:32:27.610Z"
   },
   {
    "duration": 34,
    "start_time": "2022-07-05T09:32:27.645Z"
   },
   {
    "duration": 15,
    "start_time": "2022-07-05T09:32:27.681Z"
   },
   {
    "duration": 54,
    "start_time": "2022-07-05T09:32:27.701Z"
   },
   {
    "duration": 18,
    "start_time": "2022-07-05T09:32:27.758Z"
   },
   {
    "duration": 1449,
    "start_time": "2022-07-05T09:36:09.928Z"
   },
   {
    "duration": 66,
    "start_time": "2022-07-05T09:36:11.379Z"
   },
   {
    "duration": 3,
    "start_time": "2022-07-05T09:36:11.450Z"
   },
   {
    "duration": 13,
    "start_time": "2022-07-05T09:36:11.455Z"
   },
   {
    "duration": 9,
    "start_time": "2022-07-05T09:36:11.470Z"
   },
   {
    "duration": 21,
    "start_time": "2022-07-05T09:36:11.481Z"
   },
   {
    "duration": 3,
    "start_time": "2022-07-05T09:36:11.508Z"
   },
   {
    "duration": 17,
    "start_time": "2022-07-05T09:36:11.513Z"
   },
   {
    "duration": 97,
    "start_time": "2022-07-05T09:36:11.533Z"
   },
   {
    "duration": 11,
    "start_time": "2022-07-05T09:36:11.632Z"
   },
   {
    "duration": 4,
    "start_time": "2022-07-05T09:36:11.645Z"
   },
   {
    "duration": 127,
    "start_time": "2022-07-05T09:36:11.652Z"
   },
   {
    "duration": 0,
    "start_time": "2022-07-05T09:36:11.782Z"
   },
   {
    "duration": 0,
    "start_time": "2022-07-05T09:36:11.784Z"
   },
   {
    "duration": 0,
    "start_time": "2022-07-05T09:36:11.785Z"
   },
   {
    "duration": 0,
    "start_time": "2022-07-05T09:36:11.786Z"
   },
   {
    "duration": 0,
    "start_time": "2022-07-05T09:36:11.787Z"
   },
   {
    "duration": 0,
    "start_time": "2022-07-05T09:36:11.788Z"
   },
   {
    "duration": 0,
    "start_time": "2022-07-05T09:36:11.789Z"
   },
   {
    "duration": 0,
    "start_time": "2022-07-05T09:36:11.790Z"
   },
   {
    "duration": 0,
    "start_time": "2022-07-05T09:36:11.791Z"
   },
   {
    "duration": 0,
    "start_time": "2022-07-05T09:36:11.793Z"
   },
   {
    "duration": 0,
    "start_time": "2022-07-05T09:36:11.795Z"
   },
   {
    "duration": 0,
    "start_time": "2022-07-05T09:36:11.797Z"
   },
   {
    "duration": 0,
    "start_time": "2022-07-05T09:36:11.808Z"
   },
   {
    "duration": 0,
    "start_time": "2022-07-05T09:36:11.808Z"
   },
   {
    "duration": 0,
    "start_time": "2022-07-05T09:36:11.809Z"
   },
   {
    "duration": 0,
    "start_time": "2022-07-05T09:36:11.810Z"
   },
   {
    "duration": 0,
    "start_time": "2022-07-05T09:36:11.811Z"
   },
   {
    "duration": 94,
    "start_time": "2022-07-05T09:36:31.694Z"
   },
   {
    "duration": 124,
    "start_time": "2022-07-05T09:36:42.668Z"
   },
   {
    "duration": 127,
    "start_time": "2022-07-05T09:37:06.634Z"
   },
   {
    "duration": 96,
    "start_time": "2022-07-05T09:37:09.692Z"
   },
   {
    "duration": 13,
    "start_time": "2022-07-05T09:37:49.524Z"
   },
   {
    "duration": 16,
    "start_time": "2022-07-05T09:38:07.976Z"
   },
   {
    "duration": 17,
    "start_time": "2022-07-05T09:38:13.738Z"
   },
   {
    "duration": 13,
    "start_time": "2022-07-05T09:38:28.779Z"
   },
   {
    "duration": 12,
    "start_time": "2022-07-05T09:42:36.226Z"
   },
   {
    "duration": 1284,
    "start_time": "2022-07-05T09:42:44.696Z"
   },
   {
    "duration": 69,
    "start_time": "2022-07-05T09:42:45.982Z"
   },
   {
    "duration": 3,
    "start_time": "2022-07-05T09:42:46.053Z"
   },
   {
    "duration": 11,
    "start_time": "2022-07-05T09:42:46.058Z"
   },
   {
    "duration": 8,
    "start_time": "2022-07-05T09:42:46.071Z"
   },
   {
    "duration": 31,
    "start_time": "2022-07-05T09:42:46.081Z"
   },
   {
    "duration": 7,
    "start_time": "2022-07-05T09:42:46.117Z"
   },
   {
    "duration": 20,
    "start_time": "2022-07-05T09:42:46.129Z"
   },
   {
    "duration": 87,
    "start_time": "2022-07-05T09:42:46.151Z"
   },
   {
    "duration": 8,
    "start_time": "2022-07-05T09:42:46.241Z"
   },
   {
    "duration": 7,
    "start_time": "2022-07-05T09:42:46.251Z"
   },
   {
    "duration": 12,
    "start_time": "2022-07-05T09:42:46.260Z"
   },
   {
    "duration": 14,
    "start_time": "2022-07-05T09:42:46.274Z"
   },
   {
    "duration": 765,
    "start_time": "2022-07-05T09:42:46.290Z"
   },
   {
    "duration": 301,
    "start_time": "2022-07-05T09:42:47.057Z"
   },
   {
    "duration": 397,
    "start_time": "2022-07-05T09:42:47.360Z"
   },
   {
    "duration": 270,
    "start_time": "2022-07-05T09:42:47.758Z"
   },
   {
    "duration": 364,
    "start_time": "2022-07-05T09:42:48.031Z"
   },
   {
    "duration": 217,
    "start_time": "2022-07-05T09:42:48.407Z"
   },
   {
    "duration": 11,
    "start_time": "2022-07-05T09:42:48.628Z"
   },
   {
    "duration": 206,
    "start_time": "2022-07-05T09:42:48.641Z"
   },
   {
    "duration": 4,
    "start_time": "2022-07-05T09:42:48.849Z"
   },
   {
    "duration": 308,
    "start_time": "2022-07-05T09:42:48.855Z"
   },
   {
    "duration": 186,
    "start_time": "2022-07-05T09:42:49.164Z"
   },
   {
    "duration": 11,
    "start_time": "2022-07-05T09:42:49.352Z"
   },
   {
    "duration": 24,
    "start_time": "2022-07-05T09:42:49.365Z"
   },
   {
    "duration": 32,
    "start_time": "2022-07-05T09:42:49.403Z"
   },
   {
    "duration": 33,
    "start_time": "2022-07-05T09:42:49.439Z"
   },
   {
    "duration": 17,
    "start_time": "2022-07-05T09:42:49.473Z"
   },
   {
    "duration": 1298,
    "start_time": "2022-07-05T09:46:31.024Z"
   },
   {
    "duration": 51,
    "start_time": "2022-07-05T09:46:32.327Z"
   },
   {
    "duration": 3,
    "start_time": "2022-07-05T09:46:32.380Z"
   },
   {
    "duration": 20,
    "start_time": "2022-07-05T09:46:32.385Z"
   },
   {
    "duration": 39,
    "start_time": "2022-07-05T09:46:32.408Z"
   },
   {
    "duration": 14,
    "start_time": "2022-07-05T09:46:32.449Z"
   },
   {
    "duration": 2,
    "start_time": "2022-07-05T09:46:32.465Z"
   },
   {
    "duration": 35,
    "start_time": "2022-07-05T09:46:32.469Z"
   },
   {
    "duration": 125,
    "start_time": "2022-07-05T09:46:32.506Z"
   },
   {
    "duration": 9,
    "start_time": "2022-07-05T09:46:32.633Z"
   },
   {
    "duration": 4,
    "start_time": "2022-07-05T09:46:32.644Z"
   },
   {
    "duration": 12,
    "start_time": "2022-07-05T09:46:32.650Z"
   },
   {
    "duration": 13,
    "start_time": "2022-07-05T09:46:32.664Z"
   },
   {
    "duration": 703,
    "start_time": "2022-07-05T09:46:32.681Z"
   },
   {
    "duration": 284,
    "start_time": "2022-07-05T09:46:33.386Z"
   },
   {
    "duration": 389,
    "start_time": "2022-07-05T09:46:33.672Z"
   },
   {
    "duration": 267,
    "start_time": "2022-07-05T09:46:34.063Z"
   },
   {
    "duration": 357,
    "start_time": "2022-07-05T09:46:34.332Z"
   },
   {
    "duration": 237,
    "start_time": "2022-07-05T09:46:34.692Z"
   },
   {
    "duration": 9,
    "start_time": "2022-07-05T09:46:34.931Z"
   },
   {
    "duration": 219,
    "start_time": "2022-07-05T09:46:34.942Z"
   },
   {
    "duration": 4,
    "start_time": "2022-07-05T09:46:35.163Z"
   },
   {
    "duration": 261,
    "start_time": "2022-07-05T09:46:35.169Z"
   },
   {
    "duration": 199,
    "start_time": "2022-07-05T09:46:35.432Z"
   },
   {
    "duration": 13,
    "start_time": "2022-07-05T09:46:35.634Z"
   },
   {
    "duration": 23,
    "start_time": "2022-07-05T09:46:35.649Z"
   },
   {
    "duration": 25,
    "start_time": "2022-07-05T09:46:35.674Z"
   },
   {
    "duration": 45,
    "start_time": "2022-07-05T09:46:35.703Z"
   },
   {
    "duration": 25,
    "start_time": "2022-07-05T09:46:35.749Z"
   },
   {
    "duration": 11,
    "start_time": "2022-07-05T09:57:15.074Z"
   },
   {
    "duration": 1277,
    "start_time": "2022-07-05T10:02:14.794Z"
   },
   {
    "duration": 49,
    "start_time": "2022-07-05T10:02:16.073Z"
   },
   {
    "duration": 3,
    "start_time": "2022-07-05T10:02:16.125Z"
   },
   {
    "duration": 15,
    "start_time": "2022-07-05T10:02:16.132Z"
   },
   {
    "duration": 8,
    "start_time": "2022-07-05T10:02:16.148Z"
   },
   {
    "duration": 17,
    "start_time": "2022-07-05T10:02:16.158Z"
   },
   {
    "duration": 3,
    "start_time": "2022-07-05T10:02:16.178Z"
   },
   {
    "duration": 38,
    "start_time": "2022-07-05T10:02:16.185Z"
   },
   {
    "duration": 81,
    "start_time": "2022-07-05T10:02:16.226Z"
   },
   {
    "duration": 18,
    "start_time": "2022-07-05T10:02:16.312Z"
   },
   {
    "duration": 12,
    "start_time": "2022-07-05T10:02:16.332Z"
   },
   {
    "duration": 15,
    "start_time": "2022-07-05T10:02:16.346Z"
   },
   {
    "duration": 13,
    "start_time": "2022-07-05T10:02:16.363Z"
   },
   {
    "duration": 796,
    "start_time": "2022-07-05T10:02:16.378Z"
   },
   {
    "duration": 281,
    "start_time": "2022-07-05T10:02:17.176Z"
   },
   {
    "duration": 380,
    "start_time": "2022-07-05T10:02:17.459Z"
   },
   {
    "duration": 271,
    "start_time": "2022-07-05T10:02:17.841Z"
   },
   {
    "duration": 353,
    "start_time": "2022-07-05T10:02:18.115Z"
   },
   {
    "duration": 209,
    "start_time": "2022-07-05T10:02:18.469Z"
   },
   {
    "duration": 8,
    "start_time": "2022-07-05T10:02:18.680Z"
   },
   {
    "duration": 192,
    "start_time": "2022-07-05T10:02:18.703Z"
   },
   {
    "duration": 14,
    "start_time": "2022-07-05T10:02:18.900Z"
   },
   {
    "duration": 300,
    "start_time": "2022-07-05T10:02:18.922Z"
   },
   {
    "duration": 202,
    "start_time": "2022-07-05T10:02:19.224Z"
   },
   {
    "duration": 13,
    "start_time": "2022-07-05T10:02:19.430Z"
   },
   {
    "duration": 12,
    "start_time": "2022-07-05T10:02:19.445Z"
   },
   {
    "duration": 8,
    "start_time": "2022-07-05T10:02:19.459Z"
   },
   {
    "duration": 65,
    "start_time": "2022-07-05T10:02:19.470Z"
   },
   {
    "duration": 16,
    "start_time": "2022-07-05T10:02:19.537Z"
   },
   {
    "duration": 1068,
    "start_time": "2022-07-05T16:02:01.875Z"
   },
   {
    "duration": 126,
    "start_time": "2022-07-05T16:02:02.952Z"
   },
   {
    "duration": 2,
    "start_time": "2022-07-05T16:02:03.083Z"
   },
   {
    "duration": 9,
    "start_time": "2022-07-05T16:02:03.087Z"
   },
   {
    "duration": 15,
    "start_time": "2022-07-05T16:02:03.097Z"
   },
   {
    "duration": 47,
    "start_time": "2022-07-05T16:02:03.118Z"
   },
   {
    "duration": 3,
    "start_time": "2022-07-05T16:02:03.166Z"
   },
   {
    "duration": 13,
    "start_time": "2022-07-05T16:02:03.170Z"
   },
   {
    "duration": 282,
    "start_time": "2022-07-05T16:02:03.185Z"
   },
   {
    "duration": 7,
    "start_time": "2022-07-05T16:02:03.469Z"
   },
   {
    "duration": 5,
    "start_time": "2022-07-05T16:02:03.478Z"
   },
   {
    "duration": 13,
    "start_time": "2022-07-05T16:02:03.485Z"
   },
   {
    "duration": 36,
    "start_time": "2022-07-05T16:02:03.499Z"
   },
   {
    "duration": 579,
    "start_time": "2022-07-05T16:02:03.536Z"
   },
   {
    "duration": 222,
    "start_time": "2022-07-05T16:02:04.125Z"
   },
   {
    "duration": 276,
    "start_time": "2022-07-05T16:02:04.348Z"
   },
   {
    "duration": 215,
    "start_time": "2022-07-05T16:02:04.625Z"
   },
   {
    "duration": 303,
    "start_time": "2022-07-05T16:02:04.842Z"
   },
   {
    "duration": 185,
    "start_time": "2022-07-05T16:02:05.148Z"
   },
   {
    "duration": 8,
    "start_time": "2022-07-05T16:02:05.334Z"
   },
   {
    "duration": 169,
    "start_time": "2022-07-05T16:02:05.343Z"
   },
   {
    "duration": 5,
    "start_time": "2022-07-05T16:02:05.519Z"
   },
   {
    "duration": 228,
    "start_time": "2022-07-05T16:02:05.525Z"
   },
   {
    "duration": 155,
    "start_time": "2022-07-05T16:02:05.755Z"
   },
   {
    "duration": 23,
    "start_time": "2022-07-05T16:02:05.917Z"
   },
   {
    "duration": 9,
    "start_time": "2022-07-05T16:02:05.944Z"
   },
   {
    "duration": 7,
    "start_time": "2022-07-05T16:02:05.957Z"
   },
   {
    "duration": 21,
    "start_time": "2022-07-05T16:02:05.965Z"
   },
   {
    "duration": 11,
    "start_time": "2022-07-05T16:02:05.987Z"
   }
  ],
  "kernelspec": {
   "display_name": "Python 3 (ipykernel)",
   "language": "python",
   "name": "python3"
  },
  "language_info": {
   "codemirror_mode": {
    "name": "ipython",
    "version": 3
   },
   "file_extension": ".py",
   "mimetype": "text/x-python",
   "name": "python",
   "nbconvert_exporter": "python",
   "pygments_lexer": "ipython3",
   "version": "3.9.5"
  },
  "toc": {
   "base_numbering": 1,
   "nav_menu": {
    "height": "131px",
    "width": "245px"
   },
   "number_sections": true,
   "sideBar": true,
   "skip_h1_title": true,
   "title_cell": "Table of Contents",
   "title_sidebar": "Contents",
   "toc_cell": false,
   "toc_position": {
    "height": "calc(100% - 180px)",
    "left": "10px",
    "top": "150px",
    "width": "224.759px"
   },
   "toc_section_display": true,
   "toc_window_display": true
  }
 },
 "nbformat": 4,
 "nbformat_minor": 2
}
