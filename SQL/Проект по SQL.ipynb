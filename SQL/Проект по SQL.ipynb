{
 "cells": [
  {
   "cell_type": "markdown",
   "metadata": {},
   "source": [
    "**Легенда**\n",
    "\n",
    "Коронавирус застал мир врасплох, изменив привычный порядок вещей. В свободное время жители городов больше не выходят на улицу, не посещают кафе и торговые центры. Зато стало больше времени для книг. Это заметили стартаперы — и бросились создавать приложения для тех, кто любит читать.\n",
    "\n",
    "Ваша компания решила быть на волне и купила крупный сервис для чтения книг по подписке. Ваша первая задача как аналитика — проанализировать базу данных.\n",
    "В ней — информация о книгах, издательствах, авторах, а также пользовательские обзоры книг. Эти данные помогут сформулировать ценностное предложение для нового продукта.\n",
    "\n",
    "### Описание данных\n",
    "\n",
    "**Таблица `books`**\n",
    "\n",
    "Содержит данные о книгах:\n",
    "\n",
    "- `book_id` — идентификатор книги;\n",
    "- `author_id` — идентификатор автора;\n",
    "- `title` — название книги;\n",
    "- `num_pages` — количество страниц;\n",
    "- `publication_date` — дата публикации книги;\n",
    "- `publisher_id` — идентификатор издателя.\n",
    "\n",
    "**Таблица `authors`**\n",
    "\n",
    "Содержит данные об авторах:\n",
    "\n",
    "- `author_id` — идентификатор автора;\n",
    "- `author` — имя автора.\n",
    "\n",
    "**Таблица `publishers`**\n",
    "\n",
    "Содержит данные об издательствах:\n",
    "\n",
    "- `publisher_id` — идентификатор издательства;\n",
    "- `publisher` — название издательства;\n",
    "\n",
    "**Таблица `ratings`**\n",
    "\n",
    "Содержит данные о пользовательских оценках книг:\n",
    "\n",
    "- `rating_id` — идентификатор оценки;\n",
    "- `book_id` — идентификатор книги;\n",
    "- `username` — имя пользователя, оставившего оценку;\n",
    "- `rating` — оценка книги.\n",
    "\n",
    "**Таблица `reviews`**\n",
    "\n",
    "Содержит данные о пользовательских обзорах на книги:\n",
    "\n",
    "- `review_id` — идентификатор обзора;\n",
    "- `book_id` — идентификатор книги;\n",
    "- `username` — имя пользователя, написавшего обзор;\n",
    "- `text` — текст обзора."
   ]
  },
  {
   "cell_type": "markdown",
   "metadata": {},
   "source": [
    "### Задания\n",
    "\n",
    "- Посчитайте, сколько книг вышло после 1 января 2000 года;\n",
    "- Для каждой книги посчитайте количество обзоров и среднюю оценку;\n",
    "- Определите издательство, которое выпустило наибольшее число книг толще 50 страниц — так вы исключите из анализа брошюры;\n",
    "- Определите автора с самой высокой средней оценкой книг — учитывайте только книги с 50 и более оценками;\n",
    "- Посчитайте среднее количество обзоров от пользователей, которые поставили больше 50 оценок."
   ]
  },
  {
   "cell_type": "markdown",
   "metadata": {},
   "source": [
    "## Загрузка библиотек, таблиц, обзор данных"
   ]
  },
  {
   "cell_type": "code",
   "execution_count": 1,
   "metadata": {},
   "outputs": [],
   "source": [
    "#импортируем библиотеки\n",
    "\n",
    "import pandas as pd\n",
    "from sqlalchemy import create_engine\n",
    "#from pandas import DataFrame"
   ]
  },
  {
   "cell_type": "code",
   "execution_count": 2,
   "metadata": {},
   "outputs": [],
   "source": [
    "#зададим функции, который будем использовать в работе\n",
    "\n",
    "def read_tables (table_name):\n",
    "    display(table_name.head())\n",
    "    table_name.describe()\n",
    "    table_name.info()"
   ]
  },
  {
   "cell_type": "code",
   "execution_count": 3,
   "metadata": {},
   "outputs": [],
   "source": [
    "# устанавливаем параметры\n",
    "\n",
    "db_config = {'user': 'praktikum_student', # имя пользователя\n",
    "'pwd': 'Sdf4$2;d-d30pp', # пароль\n",
    "'host': 'rc1b-wcoijxj3yxfsf3fs.mdb.yandexcloud.net',\n",
    "'port': 6432, # порт подключения\n",
    "'db': 'data-analyst-final-project-db'} # название базы данных\n",
    "connection_string = 'postgresql://{}:{}@{}:{}/{}'.format(db_config['user'],\n",
    " db_config['pwd'],\n",
    " db_config['host'],\n",
    " db_config['port'],\n",
    " db_config['db'])\n",
    "\n",
    "# сохраняем коннектор\n",
    "engine = create_engine(connection_string, connect_args={'sslmode':'require'}) "
   ]
  },
  {
   "cell_type": "code",
   "execution_count": 4,
   "metadata": {},
   "outputs": [],
   "source": [
    "# выгрузим таблицы\n",
    "\n",
    "query = '''\n",
    "            SELECT * FROM books\n",
    "        '''\n",
    "\n",
    "books = pd.io.sql.read_sql(query, con = engine)\n",
    "\n",
    "query = '''\n",
    "            SELECT * FROM authors\n",
    "        '''\n",
    "\n",
    "authors = pd.io.sql.read_sql(query, con = engine)\n",
    "\n",
    "query = '''\n",
    "            SELECT * FROM publishers\n",
    "        '''\n",
    "\n",
    "publishers = pd.io.sql.read_sql(query, con = engine)\n",
    "\n",
    "query = '''\n",
    "            SELECT * FROM ratings\n",
    "        '''\n",
    "\n",
    "ratings = pd.io.sql.read_sql(query, con = engine)\n",
    "\n",
    "query = '''\n",
    "            SELECT * FROM reviews\n",
    "        '''\n",
    "\n",
    "reviews = pd.io.sql.read_sql(query, con = engine)"
   ]
  },
  {
   "cell_type": "code",
   "execution_count": 5,
   "metadata": {},
   "outputs": [
    {
     "data": {
      "text/html": [
       "<div>\n",
       "<style scoped>\n",
       "    .dataframe tbody tr th:only-of-type {\n",
       "        vertical-align: middle;\n",
       "    }\n",
       "\n",
       "    .dataframe tbody tr th {\n",
       "        vertical-align: top;\n",
       "    }\n",
       "\n",
       "    .dataframe thead th {\n",
       "        text-align: right;\n",
       "    }\n",
       "</style>\n",
       "<table border=\"1\" class=\"dataframe\">\n",
       "  <thead>\n",
       "    <tr style=\"text-align: right;\">\n",
       "      <th></th>\n",
       "      <th>book_id</th>\n",
       "      <th>author_id</th>\n",
       "      <th>title</th>\n",
       "      <th>num_pages</th>\n",
       "      <th>publication_date</th>\n",
       "      <th>publisher_id</th>\n",
       "    </tr>\n",
       "  </thead>\n",
       "  <tbody>\n",
       "    <tr>\n",
       "      <th>0</th>\n",
       "      <td>1</td>\n",
       "      <td>546</td>\n",
       "      <td>'Salem's Lot</td>\n",
       "      <td>594</td>\n",
       "      <td>2005-11-01</td>\n",
       "      <td>93</td>\n",
       "    </tr>\n",
       "    <tr>\n",
       "      <th>1</th>\n",
       "      <td>2</td>\n",
       "      <td>465</td>\n",
       "      <td>1 000 Places to See Before You Die</td>\n",
       "      <td>992</td>\n",
       "      <td>2003-05-22</td>\n",
       "      <td>336</td>\n",
       "    </tr>\n",
       "    <tr>\n",
       "      <th>2</th>\n",
       "      <td>3</td>\n",
       "      <td>407</td>\n",
       "      <td>13 Little Blue Envelopes (Little Blue Envelope...</td>\n",
       "      <td>322</td>\n",
       "      <td>2010-12-21</td>\n",
       "      <td>135</td>\n",
       "    </tr>\n",
       "    <tr>\n",
       "      <th>3</th>\n",
       "      <td>4</td>\n",
       "      <td>82</td>\n",
       "      <td>1491: New Revelations of the Americas Before C...</td>\n",
       "      <td>541</td>\n",
       "      <td>2006-10-10</td>\n",
       "      <td>309</td>\n",
       "    </tr>\n",
       "    <tr>\n",
       "      <th>4</th>\n",
       "      <td>5</td>\n",
       "      <td>125</td>\n",
       "      <td>1776</td>\n",
       "      <td>386</td>\n",
       "      <td>2006-07-04</td>\n",
       "      <td>268</td>\n",
       "    </tr>\n",
       "  </tbody>\n",
       "</table>\n",
       "</div>"
      ],
      "text/plain": [
       "   book_id  author_id                                              title  \\\n",
       "0        1        546                                       'Salem's Lot   \n",
       "1        2        465                 1 000 Places to See Before You Die   \n",
       "2        3        407  13 Little Blue Envelopes (Little Blue Envelope...   \n",
       "3        4         82  1491: New Revelations of the Americas Before C...   \n",
       "4        5        125                                               1776   \n",
       "\n",
       "   num_pages publication_date  publisher_id  \n",
       "0        594       2005-11-01            93  \n",
       "1        992       2003-05-22           336  \n",
       "2        322       2010-12-21           135  \n",
       "3        541       2006-10-10           309  \n",
       "4        386       2006-07-04           268  "
      ]
     },
     "metadata": {},
     "output_type": "display_data"
    },
    {
     "name": "stdout",
     "output_type": "stream",
     "text": [
      "<class 'pandas.core.frame.DataFrame'>\n",
      "RangeIndex: 1000 entries, 0 to 999\n",
      "Data columns (total 6 columns):\n",
      " #   Column            Non-Null Count  Dtype \n",
      "---  ------            --------------  ----- \n",
      " 0   book_id           1000 non-null   int64 \n",
      " 1   author_id         1000 non-null   int64 \n",
      " 2   title             1000 non-null   object\n",
      " 3   num_pages         1000 non-null   int64 \n",
      " 4   publication_date  1000 non-null   object\n",
      " 5   publisher_id      1000 non-null   int64 \n",
      "dtypes: int64(4), object(2)\n",
      "memory usage: 47.0+ KB\n"
     ]
    }
   ],
   "source": [
    "read_tables(books)"
   ]
  },
  {
   "cell_type": "code",
   "execution_count": 6,
   "metadata": {},
   "outputs": [
    {
     "data": {
      "text/html": [
       "<div>\n",
       "<style scoped>\n",
       "    .dataframe tbody tr th:only-of-type {\n",
       "        vertical-align: middle;\n",
       "    }\n",
       "\n",
       "    .dataframe tbody tr th {\n",
       "        vertical-align: top;\n",
       "    }\n",
       "\n",
       "    .dataframe thead th {\n",
       "        text-align: right;\n",
       "    }\n",
       "</style>\n",
       "<table border=\"1\" class=\"dataframe\">\n",
       "  <thead>\n",
       "    <tr style=\"text-align: right;\">\n",
       "      <th></th>\n",
       "      <th>author_id</th>\n",
       "      <th>author</th>\n",
       "    </tr>\n",
       "  </thead>\n",
       "  <tbody>\n",
       "    <tr>\n",
       "      <th>0</th>\n",
       "      <td>1</td>\n",
       "      <td>A.S. Byatt</td>\n",
       "    </tr>\n",
       "    <tr>\n",
       "      <th>1</th>\n",
       "      <td>2</td>\n",
       "      <td>Aesop/Laura Harris/Laura Gibbs</td>\n",
       "    </tr>\n",
       "    <tr>\n",
       "      <th>2</th>\n",
       "      <td>3</td>\n",
       "      <td>Agatha Christie</td>\n",
       "    </tr>\n",
       "    <tr>\n",
       "      <th>3</th>\n",
       "      <td>4</td>\n",
       "      <td>Alan Brennert</td>\n",
       "    </tr>\n",
       "    <tr>\n",
       "      <th>4</th>\n",
       "      <td>5</td>\n",
       "      <td>Alan Moore/David   Lloyd</td>\n",
       "    </tr>\n",
       "  </tbody>\n",
       "</table>\n",
       "</div>"
      ],
      "text/plain": [
       "   author_id                          author\n",
       "0          1                      A.S. Byatt\n",
       "1          2  Aesop/Laura Harris/Laura Gibbs\n",
       "2          3                 Agatha Christie\n",
       "3          4                   Alan Brennert\n",
       "4          5        Alan Moore/David   Lloyd"
      ]
     },
     "metadata": {},
     "output_type": "display_data"
    },
    {
     "name": "stdout",
     "output_type": "stream",
     "text": [
      "<class 'pandas.core.frame.DataFrame'>\n",
      "RangeIndex: 636 entries, 0 to 635\n",
      "Data columns (total 2 columns):\n",
      " #   Column     Non-Null Count  Dtype \n",
      "---  ------     --------------  ----- \n",
      " 0   author_id  636 non-null    int64 \n",
      " 1   author     636 non-null    object\n",
      "dtypes: int64(1), object(1)\n",
      "memory usage: 10.1+ KB\n"
     ]
    }
   ],
   "source": [
    "read_tables(authors)"
   ]
  },
  {
   "cell_type": "code",
   "execution_count": 7,
   "metadata": {},
   "outputs": [
    {
     "data": {
      "text/html": [
       "<div>\n",
       "<style scoped>\n",
       "    .dataframe tbody tr th:only-of-type {\n",
       "        vertical-align: middle;\n",
       "    }\n",
       "\n",
       "    .dataframe tbody tr th {\n",
       "        vertical-align: top;\n",
       "    }\n",
       "\n",
       "    .dataframe thead th {\n",
       "        text-align: right;\n",
       "    }\n",
       "</style>\n",
       "<table border=\"1\" class=\"dataframe\">\n",
       "  <thead>\n",
       "    <tr style=\"text-align: right;\">\n",
       "      <th></th>\n",
       "      <th>publisher_id</th>\n",
       "      <th>publisher</th>\n",
       "    </tr>\n",
       "  </thead>\n",
       "  <tbody>\n",
       "    <tr>\n",
       "      <th>0</th>\n",
       "      <td>1</td>\n",
       "      <td>Ace</td>\n",
       "    </tr>\n",
       "    <tr>\n",
       "      <th>1</th>\n",
       "      <td>2</td>\n",
       "      <td>Ace Book</td>\n",
       "    </tr>\n",
       "    <tr>\n",
       "      <th>2</th>\n",
       "      <td>3</td>\n",
       "      <td>Ace Books</td>\n",
       "    </tr>\n",
       "    <tr>\n",
       "      <th>3</th>\n",
       "      <td>4</td>\n",
       "      <td>Ace Hardcover</td>\n",
       "    </tr>\n",
       "    <tr>\n",
       "      <th>4</th>\n",
       "      <td>5</td>\n",
       "      <td>Addison Wesley Publishing Company</td>\n",
       "    </tr>\n",
       "  </tbody>\n",
       "</table>\n",
       "</div>"
      ],
      "text/plain": [
       "   publisher_id                          publisher\n",
       "0             1                                Ace\n",
       "1             2                           Ace Book\n",
       "2             3                          Ace Books\n",
       "3             4                      Ace Hardcover\n",
       "4             5  Addison Wesley Publishing Company"
      ]
     },
     "metadata": {},
     "output_type": "display_data"
    },
    {
     "name": "stdout",
     "output_type": "stream",
     "text": [
      "<class 'pandas.core.frame.DataFrame'>\n",
      "RangeIndex: 340 entries, 0 to 339\n",
      "Data columns (total 2 columns):\n",
      " #   Column        Non-Null Count  Dtype \n",
      "---  ------        --------------  ----- \n",
      " 0   publisher_id  340 non-null    int64 \n",
      " 1   publisher     340 non-null    object\n",
      "dtypes: int64(1), object(1)\n",
      "memory usage: 5.4+ KB\n"
     ]
    }
   ],
   "source": [
    "read_tables(publishers)"
   ]
  },
  {
   "cell_type": "code",
   "execution_count": 8,
   "metadata": {},
   "outputs": [
    {
     "data": {
      "text/html": [
       "<div>\n",
       "<style scoped>\n",
       "    .dataframe tbody tr th:only-of-type {\n",
       "        vertical-align: middle;\n",
       "    }\n",
       "\n",
       "    .dataframe tbody tr th {\n",
       "        vertical-align: top;\n",
       "    }\n",
       "\n",
       "    .dataframe thead th {\n",
       "        text-align: right;\n",
       "    }\n",
       "</style>\n",
       "<table border=\"1\" class=\"dataframe\">\n",
       "  <thead>\n",
       "    <tr style=\"text-align: right;\">\n",
       "      <th></th>\n",
       "      <th>rating_id</th>\n",
       "      <th>book_id</th>\n",
       "      <th>username</th>\n",
       "      <th>rating</th>\n",
       "    </tr>\n",
       "  </thead>\n",
       "  <tbody>\n",
       "    <tr>\n",
       "      <th>0</th>\n",
       "      <td>1</td>\n",
       "      <td>1</td>\n",
       "      <td>ryanfranco</td>\n",
       "      <td>4</td>\n",
       "    </tr>\n",
       "    <tr>\n",
       "      <th>1</th>\n",
       "      <td>2</td>\n",
       "      <td>1</td>\n",
       "      <td>grantpatricia</td>\n",
       "      <td>2</td>\n",
       "    </tr>\n",
       "    <tr>\n",
       "      <th>2</th>\n",
       "      <td>3</td>\n",
       "      <td>1</td>\n",
       "      <td>brandtandrea</td>\n",
       "      <td>5</td>\n",
       "    </tr>\n",
       "    <tr>\n",
       "      <th>3</th>\n",
       "      <td>4</td>\n",
       "      <td>2</td>\n",
       "      <td>lorichen</td>\n",
       "      <td>3</td>\n",
       "    </tr>\n",
       "    <tr>\n",
       "      <th>4</th>\n",
       "      <td>5</td>\n",
       "      <td>2</td>\n",
       "      <td>mariokeller</td>\n",
       "      <td>2</td>\n",
       "    </tr>\n",
       "  </tbody>\n",
       "</table>\n",
       "</div>"
      ],
      "text/plain": [
       "   rating_id  book_id       username  rating\n",
       "0          1        1     ryanfranco       4\n",
       "1          2        1  grantpatricia       2\n",
       "2          3        1   brandtandrea       5\n",
       "3          4        2       lorichen       3\n",
       "4          5        2    mariokeller       2"
      ]
     },
     "metadata": {},
     "output_type": "display_data"
    },
    {
     "name": "stdout",
     "output_type": "stream",
     "text": [
      "<class 'pandas.core.frame.DataFrame'>\n",
      "RangeIndex: 6456 entries, 0 to 6455\n",
      "Data columns (total 4 columns):\n",
      " #   Column     Non-Null Count  Dtype \n",
      "---  ------     --------------  ----- \n",
      " 0   rating_id  6456 non-null   int64 \n",
      " 1   book_id    6456 non-null   int64 \n",
      " 2   username   6456 non-null   object\n",
      " 3   rating     6456 non-null   int64 \n",
      "dtypes: int64(3), object(1)\n",
      "memory usage: 201.9+ KB\n"
     ]
    }
   ],
   "source": [
    "read_tables(ratings)"
   ]
  },
  {
   "cell_type": "code",
   "execution_count": 9,
   "metadata": {},
   "outputs": [
    {
     "data": {
      "text/html": [
       "<div>\n",
       "<style scoped>\n",
       "    .dataframe tbody tr th:only-of-type {\n",
       "        vertical-align: middle;\n",
       "    }\n",
       "\n",
       "    .dataframe tbody tr th {\n",
       "        vertical-align: top;\n",
       "    }\n",
       "\n",
       "    .dataframe thead th {\n",
       "        text-align: right;\n",
       "    }\n",
       "</style>\n",
       "<table border=\"1\" class=\"dataframe\">\n",
       "  <thead>\n",
       "    <tr style=\"text-align: right;\">\n",
       "      <th></th>\n",
       "      <th>review_id</th>\n",
       "      <th>book_id</th>\n",
       "      <th>username</th>\n",
       "      <th>text</th>\n",
       "    </tr>\n",
       "  </thead>\n",
       "  <tbody>\n",
       "    <tr>\n",
       "      <th>0</th>\n",
       "      <td>1</td>\n",
       "      <td>1</td>\n",
       "      <td>brandtandrea</td>\n",
       "      <td>Mention society tell send professor analysis. ...</td>\n",
       "    </tr>\n",
       "    <tr>\n",
       "      <th>1</th>\n",
       "      <td>2</td>\n",
       "      <td>1</td>\n",
       "      <td>ryanfranco</td>\n",
       "      <td>Foot glass pretty audience hit themselves. Amo...</td>\n",
       "    </tr>\n",
       "    <tr>\n",
       "      <th>2</th>\n",
       "      <td>3</td>\n",
       "      <td>2</td>\n",
       "      <td>lorichen</td>\n",
       "      <td>Listen treat keep worry. Miss husband tax but ...</td>\n",
       "    </tr>\n",
       "    <tr>\n",
       "      <th>3</th>\n",
       "      <td>4</td>\n",
       "      <td>3</td>\n",
       "      <td>johnsonamanda</td>\n",
       "      <td>Finally month interesting blue could nature cu...</td>\n",
       "    </tr>\n",
       "    <tr>\n",
       "      <th>4</th>\n",
       "      <td>5</td>\n",
       "      <td>3</td>\n",
       "      <td>scotttamara</td>\n",
       "      <td>Nation purpose heavy give wait song will. List...</td>\n",
       "    </tr>\n",
       "  </tbody>\n",
       "</table>\n",
       "</div>"
      ],
      "text/plain": [
       "   review_id  book_id       username  \\\n",
       "0          1        1   brandtandrea   \n",
       "1          2        1     ryanfranco   \n",
       "2          3        2       lorichen   \n",
       "3          4        3  johnsonamanda   \n",
       "4          5        3    scotttamara   \n",
       "\n",
       "                                                text  \n",
       "0  Mention society tell send professor analysis. ...  \n",
       "1  Foot glass pretty audience hit themselves. Amo...  \n",
       "2  Listen treat keep worry. Miss husband tax but ...  \n",
       "3  Finally month interesting blue could nature cu...  \n",
       "4  Nation purpose heavy give wait song will. List...  "
      ]
     },
     "metadata": {},
     "output_type": "display_data"
    },
    {
     "name": "stdout",
     "output_type": "stream",
     "text": [
      "<class 'pandas.core.frame.DataFrame'>\n",
      "RangeIndex: 2793 entries, 0 to 2792\n",
      "Data columns (total 4 columns):\n",
      " #   Column     Non-Null Count  Dtype \n",
      "---  ------     --------------  ----- \n",
      " 0   review_id  2793 non-null   int64 \n",
      " 1   book_id    2793 non-null   int64 \n",
      " 2   username   2793 non-null   object\n",
      " 3   text       2793 non-null   object\n",
      "dtypes: int64(2), object(2)\n",
      "memory usage: 87.4+ KB\n"
     ]
    }
   ],
   "source": [
    "read_tables(reviews)"
   ]
  },
  {
   "cell_type": "markdown",
   "metadata": {},
   "source": [
    "**Вывод:** данные в таблицах в хорошем состоянии, пропусков нет"
   ]
  },
  {
   "cell_type": "markdown",
   "metadata": {},
   "source": [
    "## Выполнение заданий"
   ]
  },
  {
   "cell_type": "markdown",
   "metadata": {},
   "source": [
    "### Посчитайте, сколько книг вышло после 1 января 2000 года"
   ]
  },
  {
   "cell_type": "code",
   "execution_count": 10,
   "metadata": {},
   "outputs": [
    {
     "data": {
      "text/html": [
       "<div>\n",
       "<style scoped>\n",
       "    .dataframe tbody tr th:only-of-type {\n",
       "        vertical-align: middle;\n",
       "    }\n",
       "\n",
       "    .dataframe tbody tr th {\n",
       "        vertical-align: top;\n",
       "    }\n",
       "\n",
       "    .dataframe thead th {\n",
       "        text-align: right;\n",
       "    }\n",
       "</style>\n",
       "<table border=\"1\" class=\"dataframe\">\n",
       "  <thead>\n",
       "    <tr style=\"text-align: right;\">\n",
       "      <th></th>\n",
       "      <th>count</th>\n",
       "    </tr>\n",
       "  </thead>\n",
       "  <tbody>\n",
       "    <tr>\n",
       "      <th>0</th>\n",
       "      <td>821</td>\n",
       "    </tr>\n",
       "  </tbody>\n",
       "</table>\n",
       "</div>"
      ],
      "text/plain": [
       "   count\n",
       "0    821"
      ]
     },
     "execution_count": 10,
     "metadata": {},
     "output_type": "execute_result"
    }
   ],
   "source": [
    "count_books = '''SELECT COUNT(book_id) \n",
    "                 FROM books \n",
    "                 WHERE publication_date >= '2000-01-01'\n",
    "'''\n",
    "\n",
    "pd.io.sql.read_sql(count_books, con = engine)"
   ]
  },
  {
   "cell_type": "markdown",
   "metadata": {},
   "source": [
    "**Ответ:** после 1 января 2000 года выпущено **821** книг "
   ]
  },
  {
   "cell_type": "markdown",
   "metadata": {},
   "source": [
    "### Для каждой книги посчитайте количество обзоров и среднюю оценку"
   ]
  },
  {
   "cell_type": "code",
   "execution_count": 22,
   "metadata": {},
   "outputs": [
    {
     "data": {
      "text/html": [
       "<div>\n",
       "<style scoped>\n",
       "    .dataframe tbody tr th:only-of-type {\n",
       "        vertical-align: middle;\n",
       "    }\n",
       "\n",
       "    .dataframe tbody tr th {\n",
       "        vertical-align: top;\n",
       "    }\n",
       "\n",
       "    .dataframe thead th {\n",
       "        text-align: right;\n",
       "    }\n",
       "</style>\n",
       "<table border=\"1\" class=\"dataframe\">\n",
       "  <thead>\n",
       "    <tr style=\"text-align: right;\">\n",
       "      <th></th>\n",
       "      <th>title</th>\n",
       "      <th>count_reviews</th>\n",
       "      <th>avg_rating</th>\n",
       "    </tr>\n",
       "  </thead>\n",
       "  <tbody>\n",
       "    <tr>\n",
       "      <th>0</th>\n",
       "      <td>The Count of Monte Cristo</td>\n",
       "      <td>5.0</td>\n",
       "      <td>4.217391</td>\n",
       "    </tr>\n",
       "    <tr>\n",
       "      <th>1</th>\n",
       "      <td>Count Zero (Sprawl  #2)</td>\n",
       "      <td>2.0</td>\n",
       "      <td>2.500000</td>\n",
       "    </tr>\n",
       "    <tr>\n",
       "      <th>2</th>\n",
       "      <td>The Botany of Desire: A Plant's-Eye View of th...</td>\n",
       "      <td>2.0</td>\n",
       "      <td>3.500000</td>\n",
       "    </tr>\n",
       "    <tr>\n",
       "      <th>3</th>\n",
       "      <td>The Poisonwood Bible</td>\n",
       "      <td>5.0</td>\n",
       "      <td>4.363636</td>\n",
       "    </tr>\n",
       "    <tr>\n",
       "      <th>4</th>\n",
       "      <td>The Canterbury Tales</td>\n",
       "      <td>3.0</td>\n",
       "      <td>3.333333</td>\n",
       "    </tr>\n",
       "    <tr>\n",
       "      <th>...</th>\n",
       "      <td>...</td>\n",
       "      <td>...</td>\n",
       "      <td>...</td>\n",
       "    </tr>\n",
       "    <tr>\n",
       "      <th>994</th>\n",
       "      <td>In the Heart of the Sea: The Tragedy of the Wh...</td>\n",
       "      <td>3.0</td>\n",
       "      <td>3.333333</td>\n",
       "    </tr>\n",
       "    <tr>\n",
       "      <th>995</th>\n",
       "      <td>Of Love and Other Demons</td>\n",
       "      <td>2.0</td>\n",
       "      <td>4.500000</td>\n",
       "    </tr>\n",
       "    <tr>\n",
       "      <th>996</th>\n",
       "      <td>Welcome to Temptation (Dempseys  #1)</td>\n",
       "      <td>2.0</td>\n",
       "      <td>5.000000</td>\n",
       "    </tr>\n",
       "    <tr>\n",
       "      <th>997</th>\n",
       "      <td>World's End (The Sandman  #8)</td>\n",
       "      <td>2.0</td>\n",
       "      <td>4.500000</td>\n",
       "    </tr>\n",
       "    <tr>\n",
       "      <th>998</th>\n",
       "      <td>Holes (Holes  #1)</td>\n",
       "      <td>5.0</td>\n",
       "      <td>3.967742</td>\n",
       "    </tr>\n",
       "  </tbody>\n",
       "</table>\n",
       "<p>999 rows × 3 columns</p>\n",
       "</div>"
      ],
      "text/plain": [
       "                                                 title  count_reviews  \\\n",
       "0                            The Count of Monte Cristo            5.0   \n",
       "1                              Count Zero (Sprawl  #2)            2.0   \n",
       "2    The Botany of Desire: A Plant's-Eye View of th...            2.0   \n",
       "3                                 The Poisonwood Bible            5.0   \n",
       "4                                 The Canterbury Tales            3.0   \n",
       "..                                                 ...            ...   \n",
       "994  In the Heart of the Sea: The Tragedy of the Wh...            3.0   \n",
       "995                           Of Love and Other Demons            2.0   \n",
       "996               Welcome to Temptation (Dempseys  #1)            2.0   \n",
       "997                      World's End (The Sandman  #8)            2.0   \n",
       "998                                  Holes (Holes  #1)            5.0   \n",
       "\n",
       "     avg_rating  \n",
       "0      4.217391  \n",
       "1      2.500000  \n",
       "2      3.500000  \n",
       "3      4.363636  \n",
       "4      3.333333  \n",
       "..          ...  \n",
       "994    3.333333  \n",
       "995    4.500000  \n",
       "996    5.000000  \n",
       "997    4.500000  \n",
       "998    3.967742  \n",
       "\n",
       "[999 rows x 3 columns]"
      ]
     },
     "execution_count": 22,
     "metadata": {},
     "output_type": "execute_result"
    }
   ],
   "source": [
    "count_reviews = '''SELECT title, SUM(count_reviews) AS count_reviews, AVG(avg_rating) AS avg_rating\n",
    "                   FROM books \n",
    "                   LEFT JOIN (SELECT book_id, COUNT(review_id) AS count_reviews\n",
    "                        FROM reviews\n",
    "                        GROUP BY book_id) AS a\n",
    "                   ON books.book_id = a.book_id\n",
    "                   LEFT JOIN (SELECT book_id, AVG(rating) AS avg_rating\n",
    "                        FROM ratings \n",
    "                        GROUP BY book_id) AS b\n",
    "                   ON books.book_id = b.book_id\n",
    "                   GROUP BY books.title\n",
    "\n",
    "'''\n",
    "\n",
    "pd.io.sql.read_sql(count_reviews, con = engine)"
   ]
  },
  {
   "cell_type": "markdown",
   "metadata": {},
   "source": [
    "**Ответ:** количество обзоров и средняя оценка книг представлены в таблице выше"
   ]
  },
  {
   "cell_type": "markdown",
   "metadata": {},
   "source": [
    "### Определите издательство, которое выпустило наибольшее число книг толще 50 страниц"
   ]
  },
  {
   "cell_type": "code",
   "execution_count": 12,
   "metadata": {},
   "outputs": [
    {
     "data": {
      "text/html": [
       "<div>\n",
       "<style scoped>\n",
       "    .dataframe tbody tr th:only-of-type {\n",
       "        vertical-align: middle;\n",
       "    }\n",
       "\n",
       "    .dataframe tbody tr th {\n",
       "        vertical-align: top;\n",
       "    }\n",
       "\n",
       "    .dataframe thead th {\n",
       "        text-align: right;\n",
       "    }\n",
       "</style>\n",
       "<table border=\"1\" class=\"dataframe\">\n",
       "  <thead>\n",
       "    <tr style=\"text-align: right;\">\n",
       "      <th></th>\n",
       "      <th>publisher</th>\n",
       "      <th>count_books</th>\n",
       "    </tr>\n",
       "  </thead>\n",
       "  <tbody>\n",
       "    <tr>\n",
       "      <th>0</th>\n",
       "      <td>Penguin Books</td>\n",
       "      <td>42</td>\n",
       "    </tr>\n",
       "  </tbody>\n",
       "</table>\n",
       "</div>"
      ],
      "text/plain": [
       "       publisher  count_books\n",
       "0  Penguin Books           42"
      ]
     },
     "execution_count": 12,
     "metadata": {},
     "output_type": "execute_result"
    }
   ],
   "source": [
    "effective_publisher = ''' SELECT publisher, COUNT(book_id) as count_books \n",
    "                          FROM books LEFT JOIN publishers ON books.publisher_id = publishers.publisher_id\n",
    "                          WHERE num_pages > 50\n",
    "                          GROUP BY publisher\n",
    "                          ORDER BY count_books DESC\n",
    "                          LIMIT 1\n",
    "'''\n",
    "\n",
    "pd.io.sql.read_sql(effective_publisher, con = engine)"
   ]
  },
  {
   "cell_type": "markdown",
   "metadata": {},
   "source": [
    "**Ответ:** издательство **Penguin Books** выпустило больше сего книг толще 50 страниц (42 книги)"
   ]
  },
  {
   "cell_type": "markdown",
   "metadata": {},
   "source": [
    "### Определите автора с самой высокой средней оценкой книг — учитывайте только книги с 50 и более оценками"
   ]
  },
  {
   "cell_type": "code",
   "execution_count": 13,
   "metadata": {},
   "outputs": [
    {
     "data": {
      "text/html": [
       "<div>\n",
       "<style scoped>\n",
       "    .dataframe tbody tr th:only-of-type {\n",
       "        vertical-align: middle;\n",
       "    }\n",
       "\n",
       "    .dataframe tbody tr th {\n",
       "        vertical-align: top;\n",
       "    }\n",
       "\n",
       "    .dataframe thead th {\n",
       "        text-align: right;\n",
       "    }\n",
       "</style>\n",
       "<table border=\"1\" class=\"dataframe\">\n",
       "  <thead>\n",
       "    <tr style=\"text-align: right;\">\n",
       "      <th></th>\n",
       "      <th>author</th>\n",
       "      <th>avg_rating_by_author</th>\n",
       "    </tr>\n",
       "  </thead>\n",
       "  <tbody>\n",
       "    <tr>\n",
       "      <th>0</th>\n",
       "      <td>J.K. Rowling/Mary GrandPré</td>\n",
       "      <td>4.3</td>\n",
       "    </tr>\n",
       "  </tbody>\n",
       "</table>\n",
       "</div>"
      ],
      "text/plain": [
       "                       author  avg_rating_by_author\n",
       "0  J.K. Rowling/Mary GrandPré                   4.3"
      ]
     },
     "execution_count": 13,
     "metadata": {},
     "output_type": "execute_result"
    }
   ],
   "source": [
    "effective_author = '''SELECT author, ROUND(AVG(avg_rating), 1) AS avg_rating_by_author \n",
    "                      FROM\n",
    "                        (SELECT author_id, title, AVG(rating) AS avg_rating, COUNT(rating) AS cnt\n",
    "                         FROM books LEFT JOIN ratings ON books.book_id = ratings.book_id \n",
    "                         GROUP BY title, author_id\n",
    "                         HAVING COUNT(rating_id) >= 50) AS a\n",
    "                      LEFT JOIN authors ON a.author_id = authors.author_id\n",
    "                      GROUP BY author\n",
    "                      ORDER BY avg_rating_by_author DESC\n",
    "                      LIMIT 1\n",
    "'''\n",
    "\n",
    "pd.io.sql.read_sql(effective_author, con = engine)"
   ]
  },
  {
   "cell_type": "markdown",
   "metadata": {},
   "source": [
    "**Ответ:** автор с самой высокой средней оценкой книг - **J.K. Rowling/Mary GrandPré**, оценка 4.3."
   ]
  },
  {
   "cell_type": "markdown",
   "metadata": {},
   "source": [
    "### Посчитайте среднее количество обзоров от пользователей, которые поставили больше 50 оценок"
   ]
  },
  {
   "cell_type": "code",
   "execution_count": 14,
   "metadata": {},
   "outputs": [
    {
     "data": {
      "text/html": [
       "<div>\n",
       "<style scoped>\n",
       "    .dataframe tbody tr th:only-of-type {\n",
       "        vertical-align: middle;\n",
       "    }\n",
       "\n",
       "    .dataframe tbody tr th {\n",
       "        vertical-align: top;\n",
       "    }\n",
       "\n",
       "    .dataframe thead th {\n",
       "        text-align: right;\n",
       "    }\n",
       "</style>\n",
       "<table border=\"1\" class=\"dataframe\">\n",
       "  <thead>\n",
       "    <tr style=\"text-align: right;\">\n",
       "      <th></th>\n",
       "      <th>avg_reviews</th>\n",
       "    </tr>\n",
       "  </thead>\n",
       "  <tbody>\n",
       "    <tr>\n",
       "      <th>0</th>\n",
       "      <td>24.0</td>\n",
       "    </tr>\n",
       "  </tbody>\n",
       "</table>\n",
       "</div>"
      ],
      "text/plain": [
       "   avg_reviews\n",
       "0         24.0"
      ]
     },
     "execution_count": 14,
     "metadata": {},
     "output_type": "execute_result"
    }
   ],
   "source": [
    "avg_reviews = '''SELECT ROUND(AVG(count_reviews)) AS avg_reviews\n",
    "                 FROM\n",
    "                    (SELECT COUNT(review_id) AS count_reviews\n",
    "                     FROM\n",
    "                        (SELECT username \n",
    "                         FROM ratings\n",
    "                         GROUP BY username\n",
    "                         HAVING COUNT(rating_id) > 50) AS a\n",
    "                 LEFT JOIN reviews ON a.username = reviews.username\n",
    "                 GROUP BY a.username) AS b\n",
    "'''\n",
    "\n",
    "pd.io.sql.read_sql(avg_reviews, con = engine)"
   ]
  },
  {
   "cell_type": "markdown",
   "metadata": {},
   "source": [
    "**Ответ:** среднее количество обзоров от пользователей, которые поставили больше 50 оценок, - **24**. "
   ]
  },
  {
   "cell_type": "code",
   "execution_count": null,
   "metadata": {},
   "outputs": [],
   "source": []
  }
 ],
 "metadata": {
  "ExecuteTimeLog": [
   {
    "duration": 7525,
    "start_time": "2022-09-03T11:51:32.910Z"
   },
   {
    "duration": 275,
    "start_time": "2022-09-03T11:52:45.832Z"
   },
   {
    "duration": 100,
    "start_time": "2022-09-03T11:52:51.917Z"
   },
   {
    "duration": 47,
    "start_time": "2022-09-03T11:53:09.602Z"
   },
   {
    "duration": 57,
    "start_time": "2022-09-03T11:53:17.524Z"
   },
   {
    "duration": 94,
    "start_time": "2022-09-03T11:53:22.485Z"
   },
   {
    "duration": 7,
    "start_time": "2022-09-03T11:53:30.395Z"
   },
   {
    "duration": 3,
    "start_time": "2022-09-03T11:53:45.091Z"
   },
   {
    "duration": 3,
    "start_time": "2022-09-03T11:54:30.751Z"
   },
   {
    "duration": 64,
    "start_time": "2022-09-03T11:55:46.251Z"
   },
   {
    "duration": 6,
    "start_time": "2022-09-03T11:55:54.937Z"
   },
   {
    "duration": 6,
    "start_time": "2022-09-03T11:55:59.315Z"
   },
   {
    "duration": 6022,
    "start_time": "2022-09-03T11:56:07.831Z"
   },
   {
    "duration": 255,
    "start_time": "2022-09-03T11:56:13.855Z"
   },
   {
    "duration": 64,
    "start_time": "2022-09-03T11:56:14.112Z"
   },
   {
    "duration": 93,
    "start_time": "2022-09-03T11:57:12.690Z"
   },
   {
    "duration": 18,
    "start_time": "2022-09-03T11:57:21.926Z"
   },
   {
    "duration": 8,
    "start_time": "2022-09-03T11:57:40.290Z"
   },
   {
    "duration": 96,
    "start_time": "2022-09-03T11:58:19.989Z"
   },
   {
    "duration": 95,
    "start_time": "2022-09-03T11:58:22.796Z"
   },
   {
    "duration": 23,
    "start_time": "2022-09-03T11:58:51.144Z"
   },
   {
    "duration": 24,
    "start_time": "2022-09-03T11:59:04.056Z"
   },
   {
    "duration": 23,
    "start_time": "2022-09-03T11:59:19.506Z"
   },
   {
    "duration": 24,
    "start_time": "2022-09-03T12:00:54.810Z"
   },
   {
    "duration": 3,
    "start_time": "2022-09-03T12:02:36.094Z"
   },
   {
    "duration": 4,
    "start_time": "2022-09-03T12:03:17.624Z"
   },
   {
    "duration": 2,
    "start_time": "2022-09-03T12:03:33.541Z"
   },
   {
    "duration": 3,
    "start_time": "2022-09-03T12:03:33.853Z"
   },
   {
    "duration": 4,
    "start_time": "2022-09-03T12:03:34.155Z"
   },
   {
    "duration": 286,
    "start_time": "2022-09-03T12:03:50.725Z"
   },
   {
    "duration": 4,
    "start_time": "2022-09-03T12:04:51.236Z"
   },
   {
    "duration": 4,
    "start_time": "2022-09-03T12:04:51.715Z"
   },
   {
    "duration": 23,
    "start_time": "2022-09-03T12:04:52.499Z"
   },
   {
    "duration": 507,
    "start_time": "2022-09-03T12:05:16.938Z"
   },
   {
    "duration": 4,
    "start_time": "2022-09-03T12:05:17.447Z"
   },
   {
    "duration": 7728,
    "start_time": "2022-09-03T12:05:17.452Z"
   },
   {
    "duration": 63,
    "start_time": "2022-09-03T12:05:25.181Z"
   },
   {
    "duration": 585,
    "start_time": "2022-09-03T12:07:18.338Z"
   },
   {
    "duration": 374,
    "start_time": "2022-09-03T12:07:29.640Z"
   },
   {
    "duration": 3,
    "start_time": "2022-09-03T12:10:55.155Z"
   },
   {
    "duration": 424,
    "start_time": "2022-09-03T12:10:55.619Z"
   },
   {
    "duration": 10,
    "start_time": "2022-09-03T12:11:21.814Z"
   },
   {
    "duration": 462,
    "start_time": "2022-09-03T12:11:37.555Z"
   },
   {
    "duration": 3,
    "start_time": "2022-09-03T12:11:38.019Z"
   },
   {
    "duration": 5602,
    "start_time": "2022-09-03T12:11:38.023Z"
   },
   {
    "duration": 2,
    "start_time": "2022-09-03T12:11:43.627Z"
   },
   {
    "duration": 531,
    "start_time": "2022-09-03T12:11:43.631Z"
   },
   {
    "duration": 64,
    "start_time": "2022-09-03T12:11:44.163Z"
   },
   {
    "duration": 10,
    "start_time": "2022-09-03T12:12:06.082Z"
   },
   {
    "duration": 8,
    "start_time": "2022-09-03T12:12:11.512Z"
   },
   {
    "duration": 9,
    "start_time": "2022-09-03T12:12:22.583Z"
   },
   {
    "duration": 7,
    "start_time": "2022-09-03T12:14:08.151Z"
   },
   {
    "duration": 514,
    "start_time": "2022-09-03T12:14:15.934Z"
   },
   {
    "duration": 3,
    "start_time": "2022-09-03T12:14:16.449Z"
   },
   {
    "duration": 5430,
    "start_time": "2022-09-03T12:14:16.454Z"
   },
   {
    "duration": 548,
    "start_time": "2022-09-03T12:14:21.886Z"
   },
   {
    "duration": 14,
    "start_time": "2022-09-03T12:14:22.436Z"
   },
   {
    "duration": 5,
    "start_time": "2022-09-03T12:14:22.452Z"
   },
   {
    "duration": 65,
    "start_time": "2022-09-03T12:14:22.458Z"
   },
   {
    "duration": 3,
    "start_time": "2022-09-03T12:14:36.058Z"
   },
   {
    "duration": 9,
    "start_time": "2022-09-03T12:14:36.382Z"
   },
   {
    "duration": 10,
    "start_time": "2022-09-03T12:14:46.729Z"
   },
   {
    "duration": 507,
    "start_time": "2022-09-03T12:15:12.182Z"
   },
   {
    "duration": 3,
    "start_time": "2022-09-03T12:15:12.691Z"
   },
   {
    "duration": 5766,
    "start_time": "2022-09-03T12:15:12.696Z"
   },
   {
    "duration": 548,
    "start_time": "2022-09-03T12:15:18.463Z"
   },
   {
    "duration": 3,
    "start_time": "2022-09-03T12:15:19.012Z"
   },
   {
    "duration": 68,
    "start_time": "2022-09-03T12:15:19.017Z"
   },
   {
    "duration": 2,
    "start_time": "2022-09-03T12:17:11.755Z"
   },
   {
    "duration": 4,
    "start_time": "2022-09-03T12:17:12.224Z"
   },
   {
    "duration": 538,
    "start_time": "2022-09-03T12:17:12.656Z"
   },
   {
    "duration": 29,
    "start_time": "2022-09-03T12:17:36.296Z"
   },
   {
    "duration": 23,
    "start_time": "2022-09-03T12:18:18.114Z"
   },
   {
    "duration": 9,
    "start_time": "2022-09-03T12:19:51.903Z"
   },
   {
    "duration": 9,
    "start_time": "2022-09-03T12:20:10.879Z"
   },
   {
    "duration": 9,
    "start_time": "2022-09-03T12:20:24.536Z"
   },
   {
    "duration": 7,
    "start_time": "2022-09-03T12:20:38.112Z"
   },
   {
    "duration": 9,
    "start_time": "2022-09-03T12:20:51.021Z"
   },
   {
    "duration": 22,
    "start_time": "2022-09-03T12:20:56.832Z"
   },
   {
    "duration": 17,
    "start_time": "2022-09-03T12:21:08.794Z"
   },
   {
    "duration": 17,
    "start_time": "2022-09-03T12:21:18.312Z"
   },
   {
    "duration": 22,
    "start_time": "2022-09-03T12:21:29.577Z"
   },
   {
    "duration": 20,
    "start_time": "2022-09-03T12:21:40.516Z"
   },
   {
    "duration": 51,
    "start_time": "2022-09-03T12:24:33.163Z"
   },
   {
    "duration": 2,
    "start_time": "2022-09-03T12:25:24.276Z"
   },
   {
    "duration": 67,
    "start_time": "2022-09-03T12:25:31.246Z"
   },
   {
    "duration": 52,
    "start_time": "2022-09-03T12:26:25.834Z"
   },
   {
    "duration": 69,
    "start_time": "2022-09-03T12:27:02.214Z"
   },
   {
    "duration": 66,
    "start_time": "2022-09-03T12:28:53.205Z"
   },
   {
    "duration": 74,
    "start_time": "2022-09-03T12:29:02.691Z"
   },
   {
    "duration": 69,
    "start_time": "2022-09-03T12:29:35.031Z"
   },
   {
    "duration": 132,
    "start_time": "2022-09-03T12:31:13.343Z"
   },
   {
    "duration": 100,
    "start_time": "2022-09-03T12:31:28.590Z"
   },
   {
    "duration": 99,
    "start_time": "2022-09-03T12:32:14.124Z"
   },
   {
    "duration": 72,
    "start_time": "2022-09-03T12:40:04.654Z"
   },
   {
    "duration": 72,
    "start_time": "2022-09-03T12:42:51.306Z"
   },
   {
    "duration": 82,
    "start_time": "2022-09-03T12:44:03.352Z"
   },
   {
    "duration": 73,
    "start_time": "2022-09-03T12:44:39.261Z"
   },
   {
    "duration": 83,
    "start_time": "2022-09-03T12:44:44.893Z"
   },
   {
    "duration": 73,
    "start_time": "2022-09-03T12:45:00.807Z"
   },
   {
    "duration": 144,
    "start_time": "2022-09-03T12:45:57.090Z"
   },
   {
    "duration": 124,
    "start_time": "2022-09-03T12:46:18.168Z"
   },
   {
    "duration": 74,
    "start_time": "2022-09-03T12:46:30.040Z"
   },
   {
    "duration": 77,
    "start_time": "2022-09-03T12:46:41.752Z"
   },
   {
    "duration": 72,
    "start_time": "2022-09-03T12:49:40.821Z"
   },
   {
    "duration": 72,
    "start_time": "2022-09-03T12:51:17.809Z"
   },
   {
    "duration": 218,
    "start_time": "2022-09-03T12:51:38.255Z"
   },
   {
    "duration": 143,
    "start_time": "2022-09-03T12:51:41.056Z"
   },
   {
    "duration": 73,
    "start_time": "2022-09-03T12:51:47.213Z"
   },
   {
    "duration": 73,
    "start_time": "2022-09-03T12:52:02.540Z"
   },
   {
    "duration": 141,
    "start_time": "2022-09-03T12:52:09.811Z"
   },
   {
    "duration": 70,
    "start_time": "2022-09-03T12:52:14.005Z"
   },
   {
    "duration": 74,
    "start_time": "2022-09-03T12:52:27.646Z"
   },
   {
    "duration": 74,
    "start_time": "2022-09-03T12:52:34.649Z"
   },
   {
    "duration": 85,
    "start_time": "2022-09-03T12:52:51.653Z"
   },
   {
    "duration": 522,
    "start_time": "2022-09-03T12:54:42.700Z"
   },
   {
    "duration": 3,
    "start_time": "2022-09-03T12:54:43.224Z"
   },
   {
    "duration": 5798,
    "start_time": "2022-09-03T12:54:43.228Z"
   },
   {
    "duration": 536,
    "start_time": "2022-09-03T12:54:49.028Z"
   },
   {
    "duration": 31,
    "start_time": "2022-09-03T12:54:49.566Z"
   },
   {
    "duration": 16,
    "start_time": "2022-09-03T12:54:49.600Z"
   },
   {
    "duration": 16,
    "start_time": "2022-09-03T12:54:49.618Z"
   },
   {
    "duration": 22,
    "start_time": "2022-09-03T12:54:49.635Z"
   },
   {
    "duration": 18,
    "start_time": "2022-09-03T12:54:49.659Z"
   },
   {
    "duration": 96,
    "start_time": "2022-09-03T12:54:49.681Z"
   },
   {
    "duration": 88,
    "start_time": "2022-09-03T12:54:49.779Z"
   },
   {
    "duration": 69,
    "start_time": "2022-09-03T12:54:49.869Z"
   },
   {
    "duration": 73,
    "start_time": "2022-09-03T12:54:49.940Z"
   },
   {
    "duration": 71,
    "start_time": "2022-09-03T12:54:50.015Z"
   },
   {
    "duration": 498,
    "start_time": "2022-09-04T06:39:46.732Z"
   },
   {
    "duration": 2,
    "start_time": "2022-09-04T06:39:47.232Z"
   },
   {
    "duration": 5681,
    "start_time": "2022-09-04T06:39:47.237Z"
   },
   {
    "duration": 614,
    "start_time": "2022-09-04T06:39:52.921Z"
   },
   {
    "duration": 29,
    "start_time": "2022-09-04T06:39:53.537Z"
   },
   {
    "duration": 15,
    "start_time": "2022-09-04T06:39:53.568Z"
   },
   {
    "duration": 14,
    "start_time": "2022-09-04T06:39:53.585Z"
   },
   {
    "duration": 44,
    "start_time": "2022-09-04T06:39:53.601Z"
   },
   {
    "duration": 17,
    "start_time": "2022-09-04T06:39:53.647Z"
   },
   {
    "duration": 77,
    "start_time": "2022-09-04T06:39:53.666Z"
   },
   {
    "duration": 86,
    "start_time": "2022-09-04T06:39:53.745Z"
   },
   {
    "duration": 74,
    "start_time": "2022-09-04T06:39:53.833Z"
   },
   {
    "duration": 79,
    "start_time": "2022-09-04T06:39:53.908Z"
   },
   {
    "duration": 76,
    "start_time": "2022-09-04T06:39:53.988Z"
   },
   {
    "duration": 179,
    "start_time": "2022-09-04T06:40:06.593Z"
   },
   {
    "duration": 132,
    "start_time": "2022-09-04T06:40:11.605Z"
   },
   {
    "duration": 115,
    "start_time": "2022-09-04T06:40:30.972Z"
   },
   {
    "duration": 108,
    "start_time": "2022-09-04T06:40:37.997Z"
   },
   {
    "duration": 107,
    "start_time": "2022-09-04T06:41:03.509Z"
   },
   {
    "duration": 3,
    "start_time": "2022-09-04T06:41:10.226Z"
   },
   {
    "duration": 3,
    "start_time": "2022-09-04T06:41:12.824Z"
   },
   {
    "duration": 106,
    "start_time": "2022-09-04T06:41:20.972Z"
   }
  ],
  "kernelspec": {
   "display_name": "Python 3 (ipykernel)",
   "language": "python",
   "name": "python3"
  },
  "language_info": {
   "codemirror_mode": {
    "name": "ipython",
    "version": 3
   },
   "file_extension": ".py",
   "mimetype": "text/x-python",
   "name": "python",
   "nbconvert_exporter": "python",
   "pygments_lexer": "ipython3",
   "version": "3.9.5"
  },
  "toc": {
   "base_numbering": 1,
   "nav_menu": {},
   "number_sections": true,
   "sideBar": true,
   "skip_h1_title": true,
   "title_cell": "Table of Contents",
   "title_sidebar": "Contents",
   "toc_cell": false,
   "toc_position": {
    "height": "calc(100% - 180px)",
    "left": "10px",
    "top": "150px",
    "width": "356.594px"
   },
   "toc_section_display": true,
   "toc_window_display": true
  }
 },
 "nbformat": 4,
 "nbformat_minor": 2
}
